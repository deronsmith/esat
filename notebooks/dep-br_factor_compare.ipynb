{
 "cells": [
  {
   "cell_type": "markdown",
   "id": "b25b470e-da58-4ad7-917d-d15f53cfda8f",
   "metadata": {},
   "source": [
    "### Component Comparison (mu)"
   ]
  },
  {
   "cell_type": "code",
   "execution_count": 1,
   "id": "384d21fd-7991-4554-8fff-693a27afd0c8",
   "metadata": {},
   "outputs": [],
   "source": [
    "# Python imports\n",
    "\n",
    "import os\n",
    "import sys\n",
    "import copy\n",
    "import logging\n",
    "import time\n",
    "import json\n",
    "import pandas as pd\n",
    "import numpy as np\n",
    "import matplotlib.pyplot as plt\n",
    "\n",
    "module_path = os.path.abspath(os.path.join('..'))\n",
    "if module_path not in sys.path:\n",
    "    sys.path.append(module_path)\n",
    "    \n",
    "from src.data.datahandler import DataHandler\n",
    "from src.model.base_nmf import BaseSearch\n",
    "from tests.factor_comparison import FactorComp\n",
    "from src.utils import calculate_Q"
   ]
  },
  {
   "cell_type": "code",
   "execution_count": 2,
   "id": "f4c7d184-4b4b-4583-bf86-edbc5855729e",
   "metadata": {},
   "outputs": [],
   "source": [
    "# Input data and uncertainty files for the Baton Rouge dataset from PMF5\n",
    "\n",
    "input_file = os.path.join(\"D:\\\\\", \"projects\", \"nmf_py\", \"data\", \"Dataset-BatonRouge-con.csv\")\n",
    "uncertainty_file = os.path.join(\"D:\\\\\", \"projects\", \"nmf_py\", \"data\", \"Dataset-BatonRouge-unc.csv\")"
   ]
  },
  {
   "cell_type": "code",
   "execution_count": 3,
   "id": "e40f711e-ca53-4a2e-ab7b-2bb64af35cdd",
   "metadata": {},
   "outputs": [
    {
     "name": "stderr",
     "output_type": "stream",
     "text": [
      "09-Mar-23 07:41:03 - Input and output configured successfully\n"
     ]
    }
   ],
   "source": [
    "# Load data files and calculate statistics\n",
    "# Category is defaulted to 'Strong' and has not been integrated into the NMF workflow.\n",
    "\n",
    "dh = DataHandler(\n",
    "        input_path=input_file,\n",
    "        uncertainty_path=uncertainty_file,\n",
    "        output_path=None,\n",
    "        index_col='Date'\n",
    "    )"
   ]
  },
  {
   "cell_type": "code",
   "execution_count": 4,
   "id": "549a03fe-2e47-4d0a-bd6b-12fbe9615111",
   "metadata": {},
   "outputs": [],
   "source": [
    "# Base model paramters\n",
    "\n",
    "min_components = 2            # min number of factors to compare\n",
    "max_components = 10\n"
   ]
  },
  {
   "cell_type": "code",
   "execution_count": 5,
   "id": "d01758a9-8d06-432d-8057-16c613f9be80",
   "metadata": {},
   "outputs": [
    {
     "data": {
      "text/html": [
       "<div>\n",
       "<style scoped>\n",
       "    .dataframe tbody tr th:only-of-type {\n",
       "        vertical-align: middle;\n",
       "    }\n",
       "\n",
       "    .dataframe tbody tr th {\n",
       "        vertical-align: top;\n",
       "    }\n",
       "\n",
       "    .dataframe thead th {\n",
       "        text-align: right;\n",
       "    }\n",
       "</style>\n",
       "<table border=\"1\" class=\"dataframe\">\n",
       "  <thead>\n",
       "    <tr style=\"text-align: right;\">\n",
       "      <th></th>\n",
       "      <th>factors</th>\n",
       "      <th>nmf-Q</th>\n",
       "      <th>pmf-Q</th>\n",
       "      <th>R2 Avg</th>\n",
       "    </tr>\n",
       "  </thead>\n",
       "  <tbody>\n",
       "    <tr>\n",
       "      <th>0</th>\n",
       "      <td>2</td>\n",
       "      <td>176985.546875</td>\n",
       "      <td>126461.562500</td>\n",
       "      <td>0.989425</td>\n",
       "    </tr>\n",
       "    <tr>\n",
       "      <th>1</th>\n",
       "      <td>3</td>\n",
       "      <td>149330.656250</td>\n",
       "      <td>100209.218750</td>\n",
       "      <td>0.986994</td>\n",
       "    </tr>\n",
       "    <tr>\n",
       "      <th>2</th>\n",
       "      <td>4</td>\n",
       "      <td>126181.171875</td>\n",
       "      <td>86895.687500</td>\n",
       "      <td>0.990763</td>\n",
       "    </tr>\n",
       "    <tr>\n",
       "      <th>3</th>\n",
       "      <td>5</td>\n",
       "      <td>93201.062500</td>\n",
       "      <td>74038.875000</td>\n",
       "      <td>0.980793</td>\n",
       "    </tr>\n",
       "    <tr>\n",
       "      <th>4</th>\n",
       "      <td>6</td>\n",
       "      <td>90194.625000</td>\n",
       "      <td>64509.929688</td>\n",
       "      <td>0.986398</td>\n",
       "    </tr>\n",
       "    <tr>\n",
       "      <th>5</th>\n",
       "      <td>7</td>\n",
       "      <td>83494.906250</td>\n",
       "      <td>56798.777344</td>\n",
       "      <td>0.981930</td>\n",
       "    </tr>\n",
       "    <tr>\n",
       "      <th>6</th>\n",
       "      <td>8</td>\n",
       "      <td>66063.320312</td>\n",
       "      <td>50683.796875</td>\n",
       "      <td>0.983187</td>\n",
       "    </tr>\n",
       "    <tr>\n",
       "      <th>7</th>\n",
       "      <td>9</td>\n",
       "      <td>64106.144531</td>\n",
       "      <td>44813.910156</td>\n",
       "      <td>0.938609</td>\n",
       "    </tr>\n",
       "    <tr>\n",
       "      <th>8</th>\n",
       "      <td>10</td>\n",
       "      <td>59085.062500</td>\n",
       "      <td>39214.335938</td>\n",
       "      <td>0.967182</td>\n",
       "    </tr>\n",
       "  </tbody>\n",
       "</table>\n",
       "</div>"
      ],
      "text/plain": [
       "   factors          nmf-Q          pmf-Q    R2 Avg\n",
       "0        2  176985.546875  126461.562500  0.989425\n",
       "1        3  149330.656250  100209.218750  0.986994\n",
       "2        4  126181.171875   86895.687500  0.990763\n",
       "3        5   93201.062500   74038.875000  0.980793\n",
       "4        6   90194.625000   64509.929688  0.986398\n",
       "5        7   83494.906250   56798.777344  0.981930\n",
       "6        8   66063.320312   50683.796875  0.983187\n",
       "7        9   64106.144531   44813.910156  0.938609\n",
       "8       10   59085.062500   39214.335938  0.967182"
      ]
     },
     "execution_count": 5,
     "metadata": {},
     "output_type": "execute_result"
    }
   ],
   "source": [
    "results_data = []\n",
    "output_path = os.path.join(\"D:\\\\\", \"projects\", \"nmf_py\", \"data\", \"factor_test\")\n",
    "columns = None\n",
    "\n",
    "\n",
    "for n_components in range(min_components, max_components+1):\n",
    "    comparison_file = f\"br{n_components}f_profiling_results.json\"\n",
    "    results_file = os.path.join(output_path, comparison_file)\n",
    "    with open(results_file) as file:\n",
    "        file_results = json.load(file)\n",
    "        columns = file_results.keys()\n",
    "        results_data.append(file_results)\n",
    "results = pd.DataFrame(results_data, columns=columns)\n",
    "results"
   ]
  },
  {
   "cell_type": "code",
   "execution_count": 6,
   "id": "512de0f4-4b34-45a2-a369-02b24f6fb303",
   "metadata": {},
   "outputs": [
    {
     "name": "stderr",
     "output_type": "stream",
     "text": [
      "09-Mar-23 07:41:05 - Loaded backend module://matplotlib_inline.backend_inline version unknown.\n",
      "09-Mar-23 07:41:05 - Loaded backend module://matplotlib_inline.backend_inline version unknown.\n"
     ]
    },
    {
     "data": {
      "image/png": "[encoded data removed]",
      "text/plain": [
       "<Figure size 640x480 with 2 Axes>"
      ]
     },
     "metadata": {},
     "output_type": "display_data"
    }
   ],
   "source": [
    "import warnings\n",
    "warnings.filterwarnings('ignore')\n",
    "logging.getLogger('matplotlib.font_manager').setLevel(logging.ERROR)\n",
    "\n",
    "fig, axs = plt.subplots(2, 1)\n",
    "axs[0].plot(results[\"factors\"], results[\"pmf-Q\"], label=\"PMF\")\n",
    "axs[0].plot(results[\"factors\"], results[\"nmf-Q\"], label=\"NMF\")\n",
    "axs[1].plot(results[\"factors\"], results[\"R2 Avg\"])\n",
    "axs[1].set_xlabel(\"Factors\")\n",
    "axs[0].set_ylabel(\"Q\")\n",
    "axs[1].set_ylabel(\"R2\")\n",
    "axs[0].legend()\n",
    "axs[0].set_title(\"PMF/NMF Factor Comparison\")\n",
    "fig.tight_layout()\n",
    "\n",
    "plt.show()"
   ]
  },
  {
   "cell_type": "code",
   "execution_count": null,
   "id": "00057ec9-3a06-4715-9946-d1963c8c80e3",
   "metadata": {},
   "outputs": [],
   "source": []
  },
  {
   "cell_type": "code",
   "execution_count": null,
   "id": "32107539-cbbe-4d6a-99be-9ee290a1412a",
   "metadata": {},
   "outputs": [],
   "source": []
  },
  {
   "cell_type": "code",
   "execution_count": null,
   "id": "0d095f4f-7888-4edb-b3fc-62aeb2a596ff",
   "metadata": {},
   "outputs": [],
   "source": []
  },
  {
   "cell_type": "code",
   "execution_count": null,
   "id": "701d4db9-7e26-4e8c-abec-f8604749a38f",
   "metadata": {},
   "outputs": [],
   "source": []
  }
 ],
 "metadata": {
  "kernelspec": {
   "display_name": "Python 3 (ipykernel)",
   "language": "python",
   "name": "python3"
  },
  "language_info": {
   "codemirror_mode": {
    "name": "ipython",
    "version": 3
   },
   "file_extension": ".py",
   "mimetype": "text/x-python",
   "name": "python",
   "nbconvert_exporter": "python",
   "pygments_lexer": "ipython3",
   "version": "3.10.6"
  }
 },
 "nbformat": 4,
 "nbformat_minor": 5
}
