{
 "cells": [
  {
   "cell_type": "markdown",
   "id": "5686853f-4655-4e79-af04-fe24aac1756e",
   "metadata": {},
   "source": [
    "## Environmental Source Apportionment Toolkit (ESAT) Simulator\n"
   ]
  },
  {
   "cell_type": "code",
   "execution_count": 1,
   "id": "73ec139f-6a92-417b-9b19-b58409d85e15",
   "metadata": {},
   "outputs": [],
   "source": [
    "# When running from Google Colab or other Jupyter notebook cloud environment, the esat python package may need to be installed.\n",
    "# If the python package file is available locally run a pip install for the specific wheel for your current OS/Arch\n",
    "#! pip install esat"
   ]
  },
  {
   "cell_type": "markdown",
   "id": "206ac55f-9259-4ce1-b87e-3302d2ed00f9",
   "metadata": {},
   "source": [
    "#### Code Imports"
   ]
  },
  {
   "cell_type": "code",
   "execution_count": 1,
   "id": "c9de6b9e-89a5-4db8-94d4-2226605d9ae6",
   "metadata": {},
   "outputs": [],
   "source": [
    "from esat.data.datahandler import DataHandler\n",
    "from esat.model.batch_sa import BatchSA\n",
    "from esat.data.analysis import ModelAnalysis, BatchAnalysis\n",
    "from esat_eval.simulator import Simulator\n",
    "from esat.estimator import FactorEstimator\n",
    "\n",
    "import esat.main as main"
   ]
  },
  {
   "cell_type": "markdown",
   "id": "5dfb2b9c-98ee-4482-a0f9-c06b1eeb651f",
   "metadata": {},
   "source": [
    "#### Synthetic Dataset\n",
    "\n",
    "Generate a synthetic dataset where the factor profiles and contributions are pre-determined for model output analysis."
   ]
  },
  {
   "cell_type": "markdown",
   "id": "9f561829-6c19-4eeb-b8d3-3f83180b9794",
   "metadata": {},
   "source": [
    "#### Train Model"
   ]
  },
  {
   "cell_type": "code",
   "execution_count": 2,
   "id": "8630fbec-7560-4b99-ba28-d1d0b23b253c",
   "metadata": {},
   "outputs": [],
   "source": [
    "%load_ext memory_profiler"
   ]
  },
  {
   "cell_type": "code",
   "execution_count": 3,
   "id": "3ce6a9b4-1ffc-4dd8-b726-6b6ef29006cf",
   "metadata": {},
   "outputs": [
    {
     "name": "stderr",
     "output_type": "stream",
     "text": [
      "04-Apr-25 09:15:45 - Synthetic profiles generated\n",
      "04-Apr-25 09:15:45 - Synthetic data generated\n",
      "04-Apr-25 09:15:45 - Synthetic uncertainty data generated\n",
      "04-Apr-25 09:15:45 - Synthetic dataframes completed\n",
      "04-Apr-25 09:15:45 - Synthetic source apportionment instance created.\n",
      "04-Apr-25 09:15:52 - Running batch SA models in parallel using 12 cores.\n",
      "04-Apr-25 10:56:59 - Model: 1, Q(true): 5773031.5, MSE(true): 7.242000102996826, Q(robust): 4293409.0, MSE(robust): 5.385900020599365, Seed: 8925, Converged: False, Steps: 19999/20000\n",
      "04-Apr-25 10:56:59 - Model: 2, Q(true): 5824493.0, MSE(true): 7.30649995803833, Q(robust): 4313815.0, MSE(robust): 5.411499977111816, Seed: 77395, Converged: False, Steps: 19999/20000\n",
      "04-Apr-25 10:56:59 - Model: 3, Q(true): 5537915.5, MSE(true): 6.947000026702881, Q(robust): 4193194.0, MSE(robust): 5.2600998878479, Seed: 65457, Converged: True, Steps: 6649/20000\n",
      "04-Apr-25 10:56:59 - Model: 4, Q(true): 5835721.5, MSE(true): 7.3206000328063965, Q(robust): 4349770.0, MSE(robust): 5.456600189208984, Seed: 43887, Converged: True, Steps: 7367/20000\n",
      "04-Apr-25 10:56:59 - Model: 5, Q(true): 5914615.0, MSE(true): 7.419600009918213, Q(robust): 4378797.5, MSE(robust): 5.493000030517578, Seed: 43301, Converged: False, Steps: 19999/20000\n",
      "04-Apr-25 10:56:59 - Model: 6, Q(true): 5459882.0, MSE(true): 6.849100112915039, Q(robust): 4139204.5, MSE(robust): 5.192399978637695, Seed: 85859, Converged: True, Steps: 13813/20000\n",
      "04-Apr-25 10:56:59 - Model: 7, Q(true): 5480053.0, MSE(true): 6.8744001388549805, Q(robust): 4141586.75, MSE(robust): 5.195400238037109, Seed: 8594, Converged: False, Steps: 19999/20000\n",
      "04-Apr-25 10:56:59 - Model: 8, Q(true): 6051594.5, MSE(true): 7.591400146484375, Q(robust): 4403971.5, MSE(robust): 5.524499893188477, Seed: 69736, Converged: True, Steps: 9598/20000\n",
      "04-Apr-25 10:56:59 - Model: 9, Q(true): 5558326.0, MSE(true): 6.972599983215332, Q(robust): 4179989.0, MSE(robust): 5.243599891662598, Seed: 20146, Converged: False, Steps: 19999/20000\n",
      "04-Apr-25 10:56:59 - Model: 10, Q(true): 5505858.5, MSE(true): 6.906799793243408, Q(robust): 4158225.5, MSE(robust): 5.216300010681152, Seed: 9417, Converged: True, Steps: 17341/20000\n",
      "04-Apr-25 10:56:59 - Model: 11, Q(true): 5800899.5, MSE(true): 7.276899814605713, Q(robust): 4307363.5, MSE(robust): 5.40339994430542, Seed: 52647, Converged: True, Steps: 9823/20000\n",
      "04-Apr-25 10:56:59 - Model: 12, Q(true): 5733061.5, MSE(true): 7.191800117492676, Q(robust): 4227824.0, MSE(robust): 5.303599834442139, Seed: 97562, Converged: True, Steps: 17424/20000\n",
      "04-Apr-25 10:56:59 - Model: 13, Q(true): 5740016.5, MSE(true): 7.200500011444092, Q(robust): 4282976.5, MSE(robust): 5.372799873352051, Seed: 73575, Converged: False, Steps: 19999/20000\n",
      "04-Apr-25 10:56:59 - Model: 14, Q(true): 6089447.0, MSE(true): 7.638899803161621, Q(robust): 4425857.0, MSE(robust): 5.552000045776367, Seed: 76113, Converged: True, Steps: 2493/20000\n",
      "04-Apr-25 10:56:59 - Model: 15, Q(true): 5482558.5, MSE(true): 6.877600193023682, Q(robust): 4148305.0, MSE(robust): 5.203800201416016, Seed: 71747, Converged: True, Steps: 13781/20000\n",
      "04-Apr-25 10:56:59 - Model: 16, Q(true): 6271427.5, MSE(true): 7.867199897766113, Q(robust): 4505633.5, MSE(robust): 5.652100086212158, Seed: 78606, Converged: False, Steps: 19999/20000\n",
      "04-Apr-25 10:56:59 - Model: 17, Q(true): 5561635.5, MSE(true): 6.976799964904785, Q(robust): 4173527.0, MSE(robust): 5.235499858856201, Seed: 51322, Converged: True, Steps: 8303/20000\n",
      "04-Apr-25 10:56:59 - Model: 18, Q(true): 5759416.0, MSE(true): 7.224899768829346, Q(robust): 4299330.0, MSE(robust): 5.3933000564575195, Seed: 12811, Converged: True, Steps: 4311/20000\n",
      "04-Apr-25 10:56:59 - Model: 19, Q(true): 5473943.5, MSE(true): 6.866799831390381, Q(robust): 4141828.0, MSE(robust): 5.195700168609619, Seed: 83974, Converged: False, Steps: 19999/20000\n",
      "04-Apr-25 10:56:59 - Model: 20, Q(true): 6050569.5, MSE(true): 7.590099811553955, Q(robust): 4417316.0, MSE(robust): 5.541299819946289, Seed: 45038, Converged: True, Steps: 8523/20000\n",
      "04-Apr-25 10:56:59 - Results - Best Model: 6, Q(true): 5459882.0, MSE(true): 6.849100112915039, Q(robust): 4139204.5, MSE(robust): 5.192399978637695, Converged: True\n",
      "04-Apr-25 10:56:59 - Runtime: 101.11 min(s)\n"
     ]
    },
    {
     "name": "stdout",
     "output_type": "stream",
     "text": [
      "Filename: C:\\Users\\dsmith\\AppData\\Local\\miniforge3\\envs\\esat-dev\\Lib\\site-packages\\esat\\main.py\n",
      "\n",
      "Line #    Mem usage    Increment  Occurrences   Line Contents\n",
      "=============================================================\n",
      "    53    215.7 MiB    215.7 MiB           1   @profile\n",
      "    54                                         def execute(batch_model):\n",
      "    55    480.0 MiB    264.3 MiB           1       _ = batch_model.train()\n",
      "\n",
      "\n",
      "\n"
     ]
    },
    {
     "data": {
      "text/plain": []
     },
     "metadata": {},
     "output_type": "display_data"
    }
   ],
   "source": [
    "%mprun -f main.run_all()"
   ]
  },
  {
   "cell_type": "code",
   "execution_count": null,
   "id": "65fc38d2-2816-4a6a-bec1-5768f1a13b08",
   "metadata": {},
   "outputs": [],
   "source": []
  }
 ],
 "metadata": {
  "kernelspec": {
   "display_name": "Python 3 (ipykernel)",
   "language": "python",
   "name": "python3"
  },
  "language_info": {
   "codemirror_mode": {
    "name": "ipython",
    "version": 3
   },
   "file_extension": ".py",
   "mimetype": "text/x-python",
   "name": "python",
   "nbconvert_exporter": "python",
   "pygments_lexer": "ipython3",
   "version": "3.12.9"
  }
 },
 "nbformat": 4,
 "nbformat_minor": 5
}
