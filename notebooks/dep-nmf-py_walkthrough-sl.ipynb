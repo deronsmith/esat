{
 "cells": [
  {
   "cell_type": "markdown",
   "id": "56ba8d3a-0cfa-4d2f-bf32-cd30da82aff7",
   "metadata": {},
   "source": [
    "## NMF-PY Walkthrough"
   ]
  },
  {
   "cell_type": "markdown",
   "id": "279ba081-366e-4e6c-b595-ea54b344d3fc",
   "metadata": {},
   "source": [
    "### Input Data Analysis\n",
    "\n",
    "Input data statistics are provided in PMF5 after the user provides concentration and uncertainty data files.\n"
   ]
  },
  {
   "cell_type": "code",
   "execution_count": 2,
   "id": "e965db6d-8ac2-4da6-88db-e446841f3e7c",
   "metadata": {},
   "outputs": [],
   "source": [
    "# Python imports\n",
    "\n",
    "import os\n",
    "import sys\n",
    "import copy\n",
    "import logging\n",
    "import time\n",
    "import pandas as pd\n",
    "import numpy as np\n",
    "import matplotlib.pyplot as plt\n",
    "\n",
    "module_path = os.path.abspath(os.path.join('..'))\n",
    "if module_path not in sys.path:\n",
    "    sys.path.append(module_path)\n",
    "    \n",
    "from src.data.datahandler import DataHandler\n",
    "from src.model.base_nmf import BaseSearch\n",
    "from tests.factor_comparison import FactorComp\n",
    "from src.utils import calculate_Q"
   ]
  },
  {
   "cell_type": "code",
   "execution_count": 3,
   "id": "78bca377-6c7f-4b77-a309-5602ceb2b3ac",
   "metadata": {},
   "outputs": [],
   "source": [
    "# PMF5 provided input data files\n",
    "# PMF5 example input files for the St Louis dataset\n",
    "\n",
    "input_file = os.path.join(\"D:\\\\\", \"projects\", \"nmf_py\", \"data\", \"Dataset-StLouis-con.csv\")\n",
    "uncertainty_file = os.path.join(\"D:\\\\\", \"projects\", \"nmf_py\", \"data\", \"Dataset-StLouis-unc.csv\")\n",
    "output_path = os.path.join(\"D:\\\\\", \"projects\", \"nmf_py\", \"output\", \"StLouis\")"
   ]
  },
  {
   "cell_type": "code",
   "execution_count": 4,
   "id": "ed127a03-dd6b-4670-8957-434bee044181",
   "metadata": {},
   "outputs": [
    {
     "name": "stderr",
     "output_type": "stream",
     "text": [
      "01-Mar-23 15:49:15 - Input and output configured successfully\n"
     ]
    },
    {
     "data": {
      "text/html": [
       "<div>\n",
       "<style scoped>\n",
       "    .dataframe tbody tr th:only-of-type {\n",
       "        vertical-align: middle;\n",
       "    }\n",
       "\n",
       "    .dataframe tbody tr th {\n",
       "        vertical-align: top;\n",
       "    }\n",
       "\n",
       "    .dataframe thead th {\n",
       "        text-align: right;\n",
       "    }\n",
       "</style>\n",
       "<table border=\"1\" class=\"dataframe\">\n",
       "  <thead>\n",
       "    <tr style=\"text-align: right;\">\n",
       "      <th></th>\n",
       "      <th>Category</th>\n",
       "      <th>S/N</th>\n",
       "      <th>Min</th>\n",
       "      <th>25th</th>\n",
       "      <th>50th</th>\n",
       "      <th>75th</th>\n",
       "      <th>Max</th>\n",
       "    </tr>\n",
       "  </thead>\n",
       "  <tbody>\n",
       "    <tr>\n",
       "      <th>Cd</th>\n",
       "      <td>Strong</td>\n",
       "      <td>0.487385</td>\n",
       "      <td>0.000020</td>\n",
       "      <td>0.000210</td>\n",
       "      <td>0.000435</td>\n",
       "      <td>0.000905</td>\n",
       "      <td>0.03470</td>\n",
       "    </tr>\n",
       "    <tr>\n",
       "      <th>Cu</th>\n",
       "      <td>Strong</td>\n",
       "      <td>5.314951</td>\n",
       "      <td>0.000535</td>\n",
       "      <td>0.002010</td>\n",
       "      <td>0.003505</td>\n",
       "      <td>0.008537</td>\n",
       "      <td>1.65000</td>\n",
       "    </tr>\n",
       "    <tr>\n",
       "      <th>Fe</th>\n",
       "      <td>Strong</td>\n",
       "      <td>2.287481</td>\n",
       "      <td>0.001710</td>\n",
       "      <td>0.013325</td>\n",
       "      <td>0.024450</td>\n",
       "      <td>0.037300</td>\n",
       "      <td>0.32600</td>\n",
       "    </tr>\n",
       "    <tr>\n",
       "      <th>Mn</th>\n",
       "      <td>Strong</td>\n",
       "      <td>8.795804</td>\n",
       "      <td>0.000170</td>\n",
       "      <td>0.001350</td>\n",
       "      <td>0.002485</td>\n",
       "      <td>0.004177</td>\n",
       "      <td>0.16600</td>\n",
       "    </tr>\n",
       "    <tr>\n",
       "      <th>Ni</th>\n",
       "      <td>Strong</td>\n",
       "      <td>0.190987</td>\n",
       "      <td>0.000000</td>\n",
       "      <td>0.000302</td>\n",
       "      <td>0.000510</td>\n",
       "      <td>0.000790</td>\n",
       "      <td>0.00676</td>\n",
       "    </tr>\n",
       "    <tr>\n",
       "      <th>Pb</th>\n",
       "      <td>Strong</td>\n",
       "      <td>8.421635</td>\n",
       "      <td>0.000580</td>\n",
       "      <td>0.003595</td>\n",
       "      <td>0.006130</td>\n",
       "      <td>0.012575</td>\n",
       "      <td>0.23600</td>\n",
       "    </tr>\n",
       "    <tr>\n",
       "      <th>Se</th>\n",
       "      <td>Strong</td>\n",
       "      <td>0.115888</td>\n",
       "      <td>0.000010</td>\n",
       "      <td>0.000410</td>\n",
       "      <td>0.000755</td>\n",
       "      <td>0.001165</td>\n",
       "      <td>0.00371</td>\n",
       "    </tr>\n",
       "    <tr>\n",
       "      <th>Zn</th>\n",
       "      <td>Strong</td>\n",
       "      <td>5.009124</td>\n",
       "      <td>0.003580</td>\n",
       "      <td>0.010300</td>\n",
       "      <td>0.017400</td>\n",
       "      <td>0.043650</td>\n",
       "      <td>0.44600</td>\n",
       "    </tr>\n",
       "    <tr>\n",
       "      <th>SO4</th>\n",
       "      <td>Strong</td>\n",
       "      <td>6.520647</td>\n",
       "      <td>0.320000</td>\n",
       "      <td>1.995000</td>\n",
       "      <td>2.880000</td>\n",
       "      <td>4.212500</td>\n",
       "      <td>16.90000</td>\n",
       "    </tr>\n",
       "    <tr>\n",
       "      <th>NO3</th>\n",
       "      <td>Strong</td>\n",
       "      <td>4.984450</td>\n",
       "      <td>0.021600</td>\n",
       "      <td>1.310000</td>\n",
       "      <td>1.310000</td>\n",
       "      <td>1.765000</td>\n",
       "      <td>10.30000</td>\n",
       "    </tr>\n",
       "    <tr>\n",
       "      <th>OC</th>\n",
       "      <td>Strong</td>\n",
       "      <td>3.455483</td>\n",
       "      <td>0.250000</td>\n",
       "      <td>2.285000</td>\n",
       "      <td>3.250000</td>\n",
       "      <td>5.345000</td>\n",
       "      <td>71.20000</td>\n",
       "    </tr>\n",
       "    <tr>\n",
       "      <th>EC</th>\n",
       "      <td>Strong</td>\n",
       "      <td>0.423904</td>\n",
       "      <td>0.250000</td>\n",
       "      <td>0.250000</td>\n",
       "      <td>0.584000</td>\n",
       "      <td>0.915000</td>\n",
       "      <td>6.38000</td>\n",
       "    </tr>\n",
       "    <tr>\n",
       "      <th>Mass</th>\n",
       "      <td>Strong</td>\n",
       "      <td>0.000000</td>\n",
       "      <td>5.110000</td>\n",
       "      <td>14.300000</td>\n",
       "      <td>20.900000</td>\n",
       "      <td>28.075000</td>\n",
       "      <td>107.00000</td>\n",
       "    </tr>\n",
       "  </tbody>\n",
       "</table>\n",
       "</div>"
      ],
      "text/plain": [
       "     Category       S/N       Min       25th       50th       75th        Max\n",
       "Cd     Strong  0.487385  0.000020   0.000210   0.000435   0.000905    0.03470\n",
       "Cu     Strong  5.314951  0.000535   0.002010   0.003505   0.008537    1.65000\n",
       "Fe     Strong  2.287481  0.001710   0.013325   0.024450   0.037300    0.32600\n",
       "Mn     Strong  8.795804  0.000170   0.001350   0.002485   0.004177    0.16600\n",
       "Ni     Strong  0.190987  0.000000   0.000302   0.000510   0.000790    0.00676\n",
       "Pb     Strong  8.421635  0.000580   0.003595   0.006130   0.012575    0.23600\n",
       "Se     Strong  0.115888  0.000010   0.000410   0.000755   0.001165    0.00371\n",
       "Zn     Strong  5.009124  0.003580   0.010300   0.017400   0.043650    0.44600\n",
       "SO4    Strong  6.520647  0.320000   1.995000   2.880000   4.212500   16.90000\n",
       "NO3    Strong  4.984450  0.021600   1.310000   1.310000   1.765000   10.30000\n",
       "OC     Strong  3.455483  0.250000   2.285000   3.250000   5.345000   71.20000\n",
       "EC     Strong  0.423904  0.250000   0.250000   0.584000   0.915000    6.38000\n",
       "Mass   Strong  0.000000  5.110000  14.300000  20.900000  28.075000  107.00000"
      ]
     },
     "execution_count": 4,
     "metadata": {},
     "output_type": "execute_result"
    }
   ],
   "source": [
    "# Load data files and calculate statistics\n",
    "# Category is defaulted to 'Strong' and has not been integrated into the NMF workflow.\n",
    "\n",
    "dh = DataHandler(\n",
    "        input_path=input_file,\n",
    "        uncertainty_path=uncertainty_file,\n",
    "        output_path=output_path,\n",
    "        index_col='Date'\n",
    "    )\n",
    "dh.metrics"
   ]
  },
  {
   "cell_type": "code",
   "execution_count": 5,
   "id": "4e642eba-f5c8-4ede-99d0-88e8d966863f",
   "metadata": {},
   "outputs": [
    {
     "name": "stderr",
     "output_type": "stream",
     "text": [
      "01-Mar-23 15:49:16 - Loaded backend module://matplotlib_inline.backend_inline version unknown.\n",
      "01-Mar-23 15:49:16 - Loaded backend module://matplotlib_inline.backend_inline version unknown.\n"
     ]
    },
    {
     "data": {
      "image/png": "[encoded data removed]",
      "text/plain": [
       "<Figure size 640x480 with 1 Axes>"
      ]
     },
     "metadata": {},
     "output_type": "display_data"
    }
   ],
   "source": [
    "# Scatter plot concentration vs uncertainty\n",
    "import warnings\n",
    "warnings.filterwarnings('ignore')\n",
    "logging.getLogger('matplotlib.font_manager').setLevel(logging.ERROR)\n",
    "\n",
    "species = \"Cd\"\n",
    "\n",
    "concentration_data = dh.input_data[species]\n",
    "uncertainty_data = dh.uncertainty_data[species]\n",
    "plt.scatter(x=concentration_data, y=uncertainty_data, s=5, c='green', alpha=0.3)\n",
    "plt.title(f\"{species}\")\n",
    "plt.xlabel(\"Concentration\")\n",
    "plt.ylabel(\"Uncertainty\")\n",
    "plt.show()"
   ]
  },
  {
   "cell_type": "code",
   "execution_count": 6,
   "id": "29906000-aa96-4be0-b083-e04cfa4be840",
   "metadata": {},
   "outputs": [],
   "source": [
    "# Base model paramters\n",
    "\n",
    "n_components = 4            # number of factors\n",
    "method1 = \"mu\"               # minimization algorithm: 'mu' multiplicative update - Kullback-Leibler, 'euc' multiplicative update - frobenius, 'is' multiplicative update - itakura-saito, 'gd' gradient descent, 'cg' conjugate descent\n",
    "seed = 42                   # randomization seed\n",
    "epochs = 10                # number of models to create\n",
    "max_iterations = 20000      # max number of iterations to run for multiplicative update models\n",
    "converge_delta = 0.01       # the amount of change between iterations for a multiplicative model considered converged\n",
    "converge_n = 100            # the number of iterations required with a loss change of less than converge_delta for the model to be considered converged\n",
    "\n",
    "V = dh.input_data_processed\n",
    "U = dh.uncertainty_data_processed"
   ]
  },
  {
   "cell_type": "code",
   "execution_count": null,
   "id": "56e7d391-f5f9-46e3-a63e-53df68174fe4",
   "metadata": {},
   "outputs": [
    {
     "name": "stderr",
     "output_type": "stream",
     "text": [
      "Epoch: 0, Seed: 8925, Best Q(true): 29371.5234375, Q(true): 43621.12109375:  56%|▌| 11203/20000 [00:47<00:36, 237.99it/\n",
      "Epoch: 1, Seed: 77395, Best Q(true): 26445.04296875, Q(true): 26445.05078125:  22%|▏| 4320/20000 [00:18<01:07, 233.27it\n",
      "Epoch: 3, Seed: 43887, Best Q(true): 29355.52734375, Q(true): 43492.69140625:  55%|▌| 10958/20000 [00:47<00:38, 232.89i\n",
      "Epoch: 4, Seed: 43301, Best Q(true): 26215.734375, Q(true): 40698.55078125:  59%|▌| 11772/20000 [00:46<00:32, 251.52it/\n",
      "Epoch: 6, Seed: 8594, Best Q(true): 29343.9140625, Q(true): 43489.16015625:  55%|▌| 10935/20000 [00:45<00:37, 241.99it/\n",
      "Epoch: 7, Seed: 69736, Best Q(true): 30466.765625, Q(true): 30466.76953125:  10%| | 2094/20000 [00:10<01:25, 208.74it/s\n",
      "Epoch: 8, Seed: 20146, Best Q(true): 27447.85546875, Q(true): 27447.859375:  26%|▎| 5153/20000 [00:19<00:55, 269.60it/s\n",
      "Epoch: 9, Seed: 9417, Best Q(true): 30450.28515625, Q(true): 44623.37890625:  52%|▌| 10436/20000 [00:33<00:29, 325.55it"
     ]
    }
   ],
   "source": [
    "# Kullback-Leibler divergence with weights\n",
    "# https://www.researchgate.net/publication/221080181_Kullback-Leibler_Divergence_for_Nonnegative_Matrix_Factorization\n",
    "# https://perso.uclouvain.be/paul.vandooren/publications/BlondelHV07.pdf\n",
    "\n",
    "base = BaseSearch(n_components=n_components, method=method1, V=V, U=U, seed=seed, epochs=epochs, max_iterations=max_iterations, converge_delta=converge_delta, converge_n=converge_n)\n",
    "base.train()"
   ]
  },
  {
   "cell_type": "code",
   "execution_count": 8,
   "id": "f962e24b-e426-45c3-86a5-f87f55d45286",
   "metadata": {},
   "outputs": [
    {
     "name": "stderr",
     "output_type": "stream",
     "text": [
      "01-Mar-23 15:58:37 - Results saved to: .\\mu-e10-c4.json\n"
     ]
    }
   ],
   "source": [
    "save_output_path = f\"{method1}-e{epochs}-c{n_components}.json\"\n",
    "base.save(output_name=save_output_path)"
   ]
  },
  {
   "cell_type": "code",
   "execution_count": 9,
   "id": "c17976c3-2678-4711-8726-9cc6d2a70de7",
   "metadata": {},
   "outputs": [
    {
     "name": "stdout",
     "output_type": "stream",
     "text": [
      "R2 - Model: 9, Best permutations: ['Factor 2', 'Factor 1', 'Factor 4', 'Factor 3'], Average: 0.9912357423172626, Factors: [0.9958932690383266, 0.9928403092149023, 0.995325480617675, 0.9808839103981467]\n",
      "PMF5 Q(true): 24620.1796875, NMF-PY Model 9 Q(true): 30450.28515625\n"
     ]
    }
   ],
   "source": [
    "pmf_file = os.path.join(\"D:\\\\\", \"projects\", \"nmf_py\", \"data\", f\"stlouis_{n_components}f_profiles.txt\")\n",
    "pmf_residuals_file = os.path.join(\"D:\\\\\", \"projects\", \"nmf_py\", \"data\", f\"stlouis_{n_components}f_residuals.txt\")\n",
    "profile_comparison = FactorComp(nmf_output=save_output_path, pmf_output=pmf_file, factors=n_components, species=len(dh.features), residuals_path=pmf_residuals_file)\n",
    "pmf_q = calculate_Q(profile_comparison.pmf_residuals.values, dh.uncertainty_data_processed)\n",
    "profile_comparison.compare(PMF_Q=pmf_q)"
   ]
  },
  {
   "cell_type": "code",
   "execution_count": 10,
   "id": "ff96c4e8-f06c-4e75-886f-dabee12dd2ca",
   "metadata": {},
   "outputs": [
    {
     "data": {
      "image/png": "[encoded data removed]",
      "text/plain": [
       "<Figure size 640x480 with 1 Axes>"
      ]
     },
     "metadata": {},
     "output_type": "display_data"
    }
   ],
   "source": [
    "# Fingerprint Profile\n",
    "\n",
    "warnings.filterwarnings('ignore')\n",
    "logging.getLogger('matplotlib.font_manager').setLevel(logging.ERROR)\n",
    "\n",
    "totals = np.sum(base.results[base.best_epoch]['H'], axis=0)\n",
    "scaled_factors = base.results[base.best_epoch]['H'] / totals\n",
    "\n",
    "width = 0.10\n",
    "fig, ax = plt.subplots()\n",
    "\n",
    "plot_bottom = np.zeros(len(dh.features))\n",
    "label = True\n",
    "\n",
    "for i, scaled_factor in enumerate(scaled_factors):\n",
    "    p = ax.bar(dh.features, 100*scaled_factor, label=profile_comparison.factor_map[i], bottom=plot_bottom)\n",
    "    plot_bottom += 100*scaled_factor\n",
    "    \n",
    "ax.set_title(\"Factor Fingerprints\")\n",
    "ax.legend(loc=\"upper right\")\n",
    "plt.ylabel(\"% Species Concentration\")\n",
    "plt.xticks(rotation=90)\n",
    "plt.show()"
   ]
  },
  {
   "cell_type": "code",
   "execution_count": 11,
   "id": "463ccf24-2faa-42bb-acc6-344041c6d7b0",
   "metadata": {},
   "outputs": [
    {
     "name": "stderr",
     "output_type": "stream",
     "text": [
      "Epoch: 0, Seed: 8925, Best Q(true): 66010.359375, Q(true): 74775.53125:  55%|█▋ | 10922/20000 [00:39<00:33, 273.35it/s]\n",
      "Epoch: 1, Seed: 77395, Best Q(true): 66693.71875, Q(true): 74774.0390625:  55%|▌| 10948/20000 [00:38<00:31, 285.22it/s]\n",
      "Epoch: 6, Seed: 8594, Best Q(true): 67284.171875, Q(true): 74875.65625:  55%|█▋ | 10925/20000 [00:34<00:28, 312.99it/s]\n",
      "Epoch: 9, Seed: 9417, Best Q(true): 65355.05859375, Q(true): 74694.3203125:  54%|▌| 10802/20000 [00:35<00:30, 304.58it/\n",
      "01-Mar-23 16:05:02 - Results - Best Model: 3, Converged: False, Q: 59047.8515625\n",
      "01-Mar-23 16:05:02 - Runtime: 6.11 min(s)\n"
     ]
    }
   ],
   "source": [
    "# LS-NMF (weighted frobenius divergence) - available in NMF R package\n",
    "# https://www.ncbi.nlm.nih.gov/pmc/articles/PMC1450309/\n",
    "\n",
    "method2 = \"euc\"\n",
    "# max_iterations = 20000\n",
    "converge_delta = 0.1\n",
    "# converge_n = 100\n",
    "base2 = BaseSearch(n_components=n_components, method=method2, V=V, U=U, seed=seed, epochs=epochs, max_iterations=max_iterations, converge_delta=converge_delta, converge_n=converge_n)\n",
    "base2.train()"
   ]
  },
  {
   "cell_type": "code",
   "execution_count": 12,
   "id": "c233bf69-16c1-47ea-8383-a22513097053",
   "metadata": {},
   "outputs": [
    {
     "name": "stderr",
     "output_type": "stream",
     "text": [
      "01-Mar-23 16:05:02 - Results saved to: .\\mu-e10-c4.json\n"
     ]
    },
    {
     "name": "stdout",
     "output_type": "stream",
     "text": [
      "R2 - Model: 0, Best permutations: ['Factor 4', 'Factor 3', 'Factor 1', 'Factor 2'], Average: 0.8184371952445055, Factors: [0.39759929650204123, 0.9603750715438804, 0.9589650706881607, 0.9568093422439399]\n",
      "PMF5 Q(true): 24620.1796875, NMF-PY Model 0 Q(true): 67420.5\n"
     ]
    }
   ],
   "source": [
    "save_output_path2 = f\"{method2}-e{epochs}-c{n_components}.json\"\n",
    "base2.save(output_name=save_output_path)\n",
    "profile_comparison2 = FactorComp(nmf_output=save_output_path2, pmf_output=pmf_file, factors=n_components, species=len(dh.features), residuals_path=pmf_residuals_file)\n",
    "pmf_q = calculate_Q(profile_comparison2.pmf_residuals.values, dh.uncertainty_data_processed)\n",
    "profile_comparison2.compare(PMF_Q=pmf_q)"
   ]
  },
  {
   "cell_type": "code",
   "execution_count": null,
   "id": "fa4c4122-7a49-416f-b66d-25e08a912571",
   "metadata": {},
   "outputs": [],
   "source": []
  },
  {
   "cell_type": "code",
   "execution_count": null,
   "id": "cea593e7-9d78-4ecb-9367-bf3c2169d0d5",
   "metadata": {},
   "outputs": [],
   "source": []
  },
  {
   "cell_type": "code",
   "execution_count": null,
   "id": "a0a15b83-c059-4c60-accc-7a403c76a8a3",
   "metadata": {},
   "outputs": [],
   "source": [
    "# Itakura-Saito Divergence\n",
    "# https://www.irit.fr/~Cedric.Fevotte/publications/journals/neco09_is-nmf.pdf\n",
    "\n",
    "# method3 = \"is\"\n",
    "# base3 = BaseSearch(n_components=n_components, method=method3, V=V, U=U, seed=seed, epochs=epochs, max_iterations=max_iterations, converge_delta=converge_delta, converge_n=converge_n)\n",
    "# base3.train()\n",
    "# save_output_path = f\"{method3}-e{epochs}-c{n_components}.json\"\n",
    "# base3.save(output_name=save_output_path)\n",
    "# profile_comparison = FactorComp(nmf_output=save_output_path, pmf_output=pmf_file, factors=n_components, species=len(dh.features), residuals_path=pmf_residuals_file)\n",
    "# pmf_q = calculate_Q(profile_comparison.pmf_residuals.values, dh.uncertainty_data_processed)\n",
    "# profile_comparison.compare(PMF_Q=pmf_q)"
   ]
  },
  {
   "cell_type": "code",
   "execution_count": null,
   "id": "eafb7939-aaeb-435b-b396-1b5cbec2446d",
   "metadata": {},
   "outputs": [],
   "source": [
    "# Projected Gradient Descent\n",
    "# https://www.csie.ntu.edu.tw/~cjlin/papers/pgradnmf.pdf\n",
    "\n",
    "# method = \"gd\"\n",
    "# base = BaseSearch(n_components=n_components, method=method, V=V, U=U, seed=seed, epochs=epochs, max_iterations=1, converge_delta=converge_delta, converge_n=converge_n)\n",
    "# base.train()\n",
    "# save_output_path = f\"{method}-e{epochs}-c{n_components}.json\"\n",
    "# base.save(output_name=save_output_path)\n",
    "# profile_comparison = FactorComp(nmf_output=save_output_path, pmf_output=pmf_file, factors=n_components, species=len(dh.features), residuals_path=pmf_residuals_file)\n",
    "# pmf_q = calculate_Q(profile_comparison.pmf_residuals.values, dh.uncertainty_data_processed)\n",
    "# profile_comparison.compare(PMF_Q=pmf_q)"
   ]
  },
  {
   "cell_type": "code",
   "execution_count": null,
   "id": "bdbd3641-d7b1-43a6-a020-406051de184a",
   "metadata": {},
   "outputs": [],
   "source": [
    "# Projected Conjugate Gradient\n",
    "# https://citeseerx.ist.psu.edu/document?repid=rep1&type=pdf&doi=abc10f7fa030823e284154fa84ea27e3099a038d\n",
    "\n",
    "# method = \"cg\"\n",
    "# base = BaseSearch(n_components=n_components, method=method, V=V, U=U, seed=seed, epochs=epochs, max_iterations=1, converge_delta=converge_delta, converge_n=converge_n)\n",
    "# base.train()\n",
    "# save_output_path = f\"{method}-e{epochs}-c{n_components}.json\"\n",
    "# base.save(output_name=save_output_path)\n",
    "# profile_comparison = FactorComp(nmf_output=save_output_path, pmf_output=pmf_file, factors=n_components, species=len(dh.features), residuals_path=pmf_residuals_file)\n",
    "# pmf_q = calculate_Q(profile_comparison.pmf_residuals.values, dh.uncertainty_data_processed)\n",
    "# profile_comparison.compare(PMF_Q=pmf_q)"
   ]
  },
  {
   "cell_type": "code",
   "execution_count": null,
   "id": "97a20fc0-68d5-4cef-827f-71a49c0f9a70",
   "metadata": {},
   "outputs": [],
   "source": []
  },
  {
   "cell_type": "code",
   "execution_count": null,
   "id": "fb7239d1-53ec-46ac-854b-7856a902401c",
   "metadata": {},
   "outputs": [],
   "source": []
  }
 ],
 "metadata": {
  "kernelspec": {
   "display_name": "Python 3 (ipykernel)",
   "language": "python",
   "name": "python3"
  },
  "language_info": {
   "codemirror_mode": {
    "name": "ipython",
    "version": 3
   },
   "file_extension": ".py",
   "mimetype": "text/x-python",
   "name": "python",
   "nbconvert_exporter": "python",
   "pygments_lexer": "ipython3",
   "version": "3.10.6"
  }
 },
 "nbformat": 4,
 "nbformat_minor": 5
}
