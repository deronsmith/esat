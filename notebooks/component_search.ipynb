{
 "cells": [
  {
   "cell_type": "code",
   "execution_count": 1,
   "id": "9bb5c6f9-9592-4efe-bf09-77dfa1382dac",
   "metadata": {},
   "outputs": [],
   "source": [
    "import os\n",
    "import sys\n",
    "import copy\n",
    "module_path = os.path.abspath(os.path.join('..'))\n",
    "if module_path not in sys.path:\n",
    "    sys.path.append(module_path)\n",
    "    \n",
    "from src.model.model import NMFModel\n",
    "from src.data.datahandler import DataHandler\n",
    "from src.model.optimization import ComponentSearch\n",
    "import os\n",
    "import logging\n",
    "import time"
   ]
  },
  {
   "cell_type": "code",
   "execution_count": 2,
   "id": "1bee9172-784b-4caa-8c40-2766664abde7",
   "metadata": {},
   "outputs": [],
   "source": [
    "input_file = os.path.join(\"D:\\\\\", \"projects\", \"nmf_py\", \"data\", \"Dataset-BatonRouge-con.csv\")\n",
    "uncertainty_file = os.path.join(\"D:\\\\\", \"projects\", \"nmf_py\", \"data\", \"Dataset-BatonRouge-unc.csv\")\n",
    "output_path = os.path.join(\"D:\\\\\", \"projects\", \"nmf_py\", \"output\", \"BatonRouge\")"
   ]
  },
  {
   "cell_type": "code",
   "execution_count": 3,
   "id": "052ab850-bf46-4d0a-982d-fae416aaaeb7",
   "metadata": {},
   "outputs": [],
   "source": [
    "seed = 42\n",
    "quantile = 0.95\n",
    "drop_min = False\n",
    "drop_max = True\n",
    "index_col = \"Date\""
   ]
  },
  {
   "cell_type": "code",
   "execution_count": 4,
   "id": "cdfd407c-af7e-4204-955e-313aac406d02",
   "metadata": {},
   "outputs": [
    {
     "name": "stderr",
     "output_type": "stream",
     "text": [
      "17-Nov-22 15:47:18 - Input and output configured successfully\n",
      "17-Nov-22 15:47:22 - Removed outliers for quantile: 0.95, min values: False, max values: True\n",
      "17-Nov-22 15:47:22 - Original row count: 307, Updated row count: 170\n"
     ]
    }
   ],
   "source": [
    "dh = DataHandler(\n",
    "        input_path=input_file,\n",
    "        uncertainty_path=uncertainty_file,\n",
    "        output_path=output_path,\n",
    "        index_col=index_col\n",
    "    )\n",
    "dh.remove_outliers(quantile=quantile, drop_min=drop_min, drop_max=drop_max)"
   ]
  },
  {
   "cell_type": "code",
   "execution_count": 24,
   "id": "47f8f5f0-8967-4630-977e-1dc92209cf90",
   "metadata": {},
   "outputs": [],
   "source": [
    "min_component = 1\n",
    "max_component = 20\n",
    "max_iterations = 250\n",
    "epochs = 1\n",
    "converge_diff = 10\n",
    "converge_iter = 100\n",
    "\n",
    "cs = ComponentSearch(seed=seed, datahandler=dh)"
   ]
  },
  {
   "cell_type": "code",
   "execution_count": 25,
   "id": "758cdec3-dfb7-49dc-b6dd-f1b9a0dcf220",
   "metadata": {},
   "outputs": [
    {
     "name": "stderr",
     "output_type": "stream",
     "text": [
      "17-Nov-22 16:50:23 - --------------------------------NMF-EPA Model Details ------------------------------------------\n",
      "17-Nov-22 16:50:23 - Epochs: 1, N Components: 1, Seed: 42\n",
      "17-Nov-22 16:50:23 - Max Iterations: 250, Feature Count: 41, Sample Count: 170\n",
      "17-Nov-22 16:50:23 - Convergence Difference Threshold 10, Convergence Iterations Threshold: 100\n",
      "17-Nov-22 16:50:23 - ------------------------------------------------------------------------------------------------\n",
      "Epoch 1 fit: Q = 272568.875: 100%|███████████████████████████████████████████████████| 250/250 [00:04<00:00, 51.43it/s]\n",
      "Epoch: 1, Best SUM(Q): 272209.5625, Steps Run: 250, Converged: False, Seed: 8925\n",
      "17-Nov-22 16:50:28 - --------------------------------NMF-EPA Model Details ------------------------------------------\n",
      "17-Nov-22 16:50:28 - Epochs: 1, N Components: 2, Seed: 42\n",
      "17-Nov-22 16:50:28 - Max Iterations: 250, Feature Count: 41, Sample Count: 170\n",
      "17-Nov-22 16:50:28 - Convergence Difference Threshold 10, Convergence Iterations Threshold: 100\n",
      "17-Nov-22 16:50:28 - ------------------------------------------------------------------------------------------------\n",
      "Epoch 1 fit: Q = 286283.1875: 100%|██████████████████████████████████████████████████| 250/250 [00:04<00:00, 51.11it/s]\n",
      "Epoch: 1, Best SUM(Q): 277260.09375, Steps Run: 250, Converged: False, Seed: 8925\n",
      "17-Nov-22 16:50:33 - --------------------------------NMF-EPA Model Details ------------------------------------------\n",
      "17-Nov-22 16:50:33 - Epochs: 1, N Components: 3, Seed: 42\n",
      "17-Nov-22 16:50:33 - Max Iterations: 250, Feature Count: 41, Sample Count: 170\n",
      "17-Nov-22 16:50:33 - Convergence Difference Threshold 10, Convergence Iterations Threshold: 100\n",
      "17-Nov-22 16:50:33 - ------------------------------------------------------------------------------------------------\n",
      "Epoch 1 fit: Q = 122347.546875: 100%|████████████████████████████████████████████████| 250/250 [00:04<00:00, 50.87it/s]\n",
      "Epoch: 1, Best SUM(Q): 122340.921875, Steps Run: 250, Converged: False, Seed: 8925\n",
      "17-Nov-22 16:50:38 - --------------------------------NMF-EPA Model Details ------------------------------------------\n",
      "17-Nov-22 16:50:38 - Epochs: 1, N Components: 4, Seed: 42\n",
      "17-Nov-22 16:50:38 - Max Iterations: 250, Feature Count: 41, Sample Count: 170\n",
      "17-Nov-22 16:50:38 - Convergence Difference Threshold 10, Convergence Iterations Threshold: 100\n",
      "17-Nov-22 16:50:38 - ------------------------------------------------------------------------------------------------\n",
      "Epoch 1 fit: Q = 117902.703125: 100%|████████████████████████████████████████████████| 250/250 [00:04<00:00, 51.49it/s]\n",
      "Epoch: 1, Best SUM(Q): 117902.703125, Steps Run: 250, Converged: False, Seed: 8925\n",
      "17-Nov-22 16:50:43 - --------------------------------NMF-EPA Model Details ------------------------------------------\n",
      "17-Nov-22 16:50:43 - Epochs: 1, N Components: 5, Seed: 42\n",
      "17-Nov-22 16:50:43 - Max Iterations: 250, Feature Count: 41, Sample Count: 170\n",
      "17-Nov-22 16:50:43 - Convergence Difference Threshold 10, Convergence Iterations Threshold: 100\n",
      "17-Nov-22 16:50:43 - ------------------------------------------------------------------------------------------------\n",
      "Epoch 1 fit: Q = 82347.0625: 100%|███████████████████████████████████████████████████| 250/250 [00:04<00:00, 50.91it/s]\n",
      "Epoch: 1, Best SUM(Q): 82341.7578125, Steps Run: 250, Converged: False, Seed: 8925\n",
      "17-Nov-22 16:50:48 - --------------------------------NMF-EPA Model Details ------------------------------------------\n",
      "17-Nov-22 16:50:48 - Epochs: 1, N Components: 6, Seed: 42\n",
      "17-Nov-22 16:50:48 - Max Iterations: 250, Feature Count: 41, Sample Count: 170\n",
      "17-Nov-22 16:50:48 - Convergence Difference Threshold 10, Convergence Iterations Threshold: 100\n",
      "17-Nov-22 16:50:48 - ------------------------------------------------------------------------------------------------\n",
      "Epoch 1 fit: Q = 61177.921875: 100%|█████████████████████████████████████████████████| 250/250 [00:04<00:00, 50.85it/s]\n",
      "Epoch: 1, Best SUM(Q): 61177.921875, Steps Run: 250, Converged: False, Seed: 8925\n",
      "17-Nov-22 16:50:53 - --------------------------------NMF-EPA Model Details ------------------------------------------\n",
      "17-Nov-22 16:50:53 - Epochs: 1, N Components: 7, Seed: 42\n",
      "17-Nov-22 16:50:53 - Max Iterations: 250, Feature Count: 41, Sample Count: 170\n",
      "17-Nov-22 16:50:53 - Convergence Difference Threshold 10, Convergence Iterations Threshold: 100\n",
      "17-Nov-22 16:50:53 - ------------------------------------------------------------------------------------------------\n",
      "Epoch 1 fit: Q = 62063.4609375: 100%|████████████████████████████████████████████████| 250/250 [00:04<00:00, 50.81it/s]\n",
      "Epoch: 1, Best SUM(Q): 62063.4609375, Steps Run: 250, Converged: False, Seed: 8925\n",
      "17-Nov-22 16:50:58 - --------------------------------NMF-EPA Model Details ------------------------------------------\n",
      "17-Nov-22 16:50:58 - Epochs: 1, N Components: 8, Seed: 42\n",
      "17-Nov-22 16:50:58 - Max Iterations: 250, Feature Count: 41, Sample Count: 170\n",
      "17-Nov-22 16:50:58 - Convergence Difference Threshold 10, Convergence Iterations Threshold: 100\n",
      "17-Nov-22 16:50:58 - ------------------------------------------------------------------------------------------------\n",
      "Epoch 1 fit: Q = 58582.640625: 100%|█████████████████████████████████████████████████| 250/250 [00:04<00:00, 50.63it/s]\n",
      "Epoch: 1, Best SUM(Q): 58582.640625, Steps Run: 250, Converged: False, Seed: 8925\n",
      "17-Nov-22 16:51:03 - --------------------------------NMF-EPA Model Details ------------------------------------------\n",
      "17-Nov-22 16:51:03 - Epochs: 1, N Components: 9, Seed: 42\n",
      "17-Nov-22 16:51:03 - Max Iterations: 250, Feature Count: 41, Sample Count: 170\n",
      "17-Nov-22 16:51:03 - Convergence Difference Threshold 10, Convergence Iterations Threshold: 100\n",
      "17-Nov-22 16:51:03 - ------------------------------------------------------------------------------------------------\n",
      "Epoch 1 fit: Q = 56319.328125: 100%|█████████████████████████████████████████████████| 250/250 [00:05<00:00, 49.24it/s]\n",
      "Epoch: 1, Best SUM(Q): 56319.328125, Steps Run: 250, Converged: False, Seed: 8925\n",
      "17-Nov-22 16:51:08 - --------------------------------NMF-EPA Model Details ------------------------------------------\n",
      "17-Nov-22 16:51:08 - Epochs: 1, N Components: 10, Seed: 42\n",
      "17-Nov-22 16:51:08 - Max Iterations: 250, Feature Count: 41, Sample Count: 170\n",
      "17-Nov-22 16:51:08 - Convergence Difference Threshold 10, Convergence Iterations Threshold: 100\n",
      "17-Nov-22 16:51:08 - ------------------------------------------------------------------------------------------------\n",
      "Epoch 1 fit: Q = 50924.9296875: 100%|████████████████████████████████████████████████| 250/250 [00:05<00:00, 47.48it/s]\n",
      "Epoch: 1, Best SUM(Q): 50924.9296875, Steps Run: 250, Converged: False, Seed: 8925\n",
      "17-Nov-22 16:51:13 - --------------------------------NMF-EPA Model Details ------------------------------------------\n",
      "17-Nov-22 16:51:13 - Epochs: 1, N Components: 11, Seed: 42\n",
      "17-Nov-22 16:51:13 - Max Iterations: 250, Feature Count: 41, Sample Count: 170\n",
      "17-Nov-22 16:51:13 - Convergence Difference Threshold 10, Convergence Iterations Threshold: 100\n",
      "17-Nov-22 16:51:13 - ------------------------------------------------------------------------------------------------\n",
      "Epoch 1 fit: Q = 43829.859375: 100%|█████████████████████████████████████████████████| 250/250 [00:04<00:00, 50.91it/s]\n",
      "Epoch: 1, Best SUM(Q): 43829.859375, Steps Run: 250, Converged: False, Seed: 8925\n",
      "17-Nov-22 16:51:18 - --------------------------------NMF-EPA Model Details ------------------------------------------\n",
      "17-Nov-22 16:51:18 - Epochs: 1, N Components: 12, Seed: 42\n",
      "17-Nov-22 16:51:18 - Max Iterations: 250, Feature Count: 41, Sample Count: 170\n",
      "17-Nov-22 16:51:18 - Convergence Difference Threshold 10, Convergence Iterations Threshold: 100\n",
      "17-Nov-22 16:51:18 - ------------------------------------------------------------------------------------------------\n",
      "Epoch 1 fit: Q = 42282.98828125: 100%|███████████████████████████████████████████████| 250/250 [00:04<00:00, 51.10it/s]\n",
      "Epoch: 1, Best SUM(Q): 42282.98828125, Steps Run: 250, Converged: False, Seed: 8925\n",
      "17-Nov-22 16:51:23 - --------------------------------NMF-EPA Model Details ------------------------------------------\n",
      "17-Nov-22 16:51:23 - Epochs: 1, N Components: 13, Seed: 42\n",
      "17-Nov-22 16:51:23 - Max Iterations: 250, Feature Count: 41, Sample Count: 170\n",
      "17-Nov-22 16:51:23 - Convergence Difference Threshold 10, Convergence Iterations Threshold: 100\n",
      "17-Nov-22 16:51:23 - ------------------------------------------------------------------------------------------------\n",
      "Epoch 1 fit: Q = 45938.69921875: 100%|███████████████████████████████████████████████| 250/250 [00:04<00:00, 51.22it/s]\n",
      "Epoch: 1, Best SUM(Q): 45938.69921875, Steps Run: 250, Converged: False, Seed: 8925\n",
      "17-Nov-22 16:51:28 - --------------------------------NMF-EPA Model Details ------------------------------------------\n",
      "17-Nov-22 16:51:28 - Epochs: 1, N Components: 14, Seed: 42\n",
      "17-Nov-22 16:51:28 - Max Iterations: 250, Feature Count: 41, Sample Count: 170\n",
      "17-Nov-22 16:51:28 - Convergence Difference Threshold 10, Convergence Iterations Threshold: 100\n",
      "17-Nov-22 16:51:28 - ------------------------------------------------------------------------------------------------\n",
      "Epoch 1 fit: Q = 43758.4296875: 100%|████████████████████████████████████████████████| 250/250 [00:04<00:00, 50.42it/s]\n",
      "Epoch: 1, Best SUM(Q): 43758.4296875, Steps Run: 250, Converged: False, Seed: 8925\n",
      "17-Nov-22 16:51:33 - --------------------------------NMF-EPA Model Details ------------------------------------------\n",
      "17-Nov-22 16:51:33 - Epochs: 1, N Components: 15, Seed: 42\n",
      "17-Nov-22 16:51:33 - Max Iterations: 250, Feature Count: 41, Sample Count: 170\n",
      "17-Nov-22 16:51:33 - Convergence Difference Threshold 10, Convergence Iterations Threshold: 100\n",
      "17-Nov-22 16:51:33 - ------------------------------------------------------------------------------------------------\n",
      "Epoch 1 fit: Q = 39102.1015625: 100%|████████████████████████████████████████████████| 250/250 [00:04<00:00, 50.56it/s]\n",
      "Epoch: 1, Best SUM(Q): 39102.1015625, Steps Run: 250, Converged: False, Seed: 8925\n",
      "17-Nov-22 16:51:38 - --------------------------------NMF-EPA Model Details ------------------------------------------\n",
      "17-Nov-22 16:51:38 - Epochs: 1, N Components: 16, Seed: 42\n",
      "17-Nov-22 16:51:38 - Max Iterations: 250, Feature Count: 41, Sample Count: 170\n",
      "17-Nov-22 16:51:38 - Convergence Difference Threshold 10, Convergence Iterations Threshold: 100\n",
      "17-Nov-22 16:51:38 - ------------------------------------------------------------------------------------------------\n",
      "Epoch 1 fit: Q = 38853.8984375: 100%|████████████████████████████████████████████████| 250/250 [00:05<00:00, 49.43it/s]\n",
      "Epoch: 1, Best SUM(Q): 38853.8984375, Steps Run: 250, Converged: False, Seed: 8925\n",
      "17-Nov-22 16:51:43 - --------------------------------NMF-EPA Model Details ------------------------------------------\n",
      "17-Nov-22 16:51:43 - Epochs: 1, N Components: 17, Seed: 42\n",
      "17-Nov-22 16:51:43 - Max Iterations: 250, Feature Count: 41, Sample Count: 170\n",
      "17-Nov-22 16:51:43 - Convergence Difference Threshold 10, Convergence Iterations Threshold: 100\n",
      "17-Nov-22 16:51:43 - ------------------------------------------------------------------------------------------------\n",
      "Epoch 1 fit: Q = 36903.55078125: 100%|███████████████████████████████████████████████| 250/250 [00:04<00:00, 50.74it/s]\n",
      "Epoch: 1, Best SUM(Q): 36903.55078125, Steps Run: 250, Converged: False, Seed: 8925\n",
      "17-Nov-22 16:51:48 - --------------------------------NMF-EPA Model Details ------------------------------------------\n",
      "17-Nov-22 16:51:48 - Epochs: 1, N Components: 18, Seed: 42\n",
      "17-Nov-22 16:51:48 - Max Iterations: 250, Feature Count: 41, Sample Count: 170\n",
      "17-Nov-22 16:51:48 - Convergence Difference Threshold 10, Convergence Iterations Threshold: 100\n",
      "17-Nov-22 16:51:48 - ------------------------------------------------------------------------------------------------\n",
      "Epoch 1 fit: Q = 35474.171875: 100%|█████████████████████████████████████████████████| 250/250 [00:04<00:00, 50.80it/s]\n",
      "Epoch: 1, Best SUM(Q): 35474.171875, Steps Run: 250, Converged: False, Seed: 8925\n",
      "17-Nov-22 16:51:53 - --------------------------------NMF-EPA Model Details ------------------------------------------\n",
      "17-Nov-22 16:51:53 - Epochs: 1, N Components: 19, Seed: 42\n",
      "17-Nov-22 16:51:53 - Max Iterations: 250, Feature Count: 41, Sample Count: 170\n",
      "17-Nov-22 16:51:53 - Convergence Difference Threshold 10, Convergence Iterations Threshold: 100\n",
      "17-Nov-22 16:51:53 - ------------------------------------------------------------------------------------------------\n",
      "Epoch 1 fit: Q = 38671.94921875: 100%|███████████████████████████████████████████████| 250/250 [00:05<00:00, 49.99it/s]\n",
      "Epoch: 1, Best SUM(Q): 38671.94921875, Steps Run: 250, Converged: False, Seed: 8925\n"
     ]
    }
   ],
   "source": [
    "cs.search(min_component=min_component, max_component=max_component, max_iterations=max_iterations, epochs=epochs, converge_diff=converge_diff, converge_iter=converge_iter)"
   ]
  },
  {
   "cell_type": "code",
   "execution_count": 26,
   "id": "72cdffc6-de20-4612-8ad0-16c5d2cd625e",
   "metadata": {},
   "outputs": [],
   "source": [
    "import pandas as pd\n",
    "import numpy as np"
   ]
  },
  {
   "cell_type": "code",
   "execution_count": 27,
   "id": "1f34d591-56f1-4f81-841f-bfcabfb88f23",
   "metadata": {},
   "outputs": [
    {
     "name": "stderr",
     "output_type": "stream",
     "text": [
      "17-Nov-22 16:51:58 - Loaded backend module://matplotlib_inline.backend_inline version unknown.\n"
     ]
    },
    {
     "data": {
      "text/plain": [
       "<AxesSubplot: xlabel='component'>"
      ]
     },
     "execution_count": 27,
     "metadata": {},
     "output_type": "execute_result"
    },
    {
     "data": {
      "image/png": "[encoded data removed]",
      "text/plain": [
       "<Figure size 640x480 with 1 Axes>"
      ]
     },
     "metadata": {},
     "output_type": "display_data"
    }
   ],
   "source": [
    "%matplotlib inline\n",
    "D = []\n",
    "q_0 = 0\n",
    "for q in cs.Q:\n",
    "    D.append(q_0 - q)\n",
    "    q_0 = q\n",
    "\n",
    "\n",
    "df = pd.DataFrame(dict(component=range(min_component, max_component), Q=cs.Q, D=D))\n",
    "df.plot(x='component', y=['Q', 'D'])"
   ]
  },
  {
   "cell_type": "code",
   "execution_count": 23,
   "id": "7883a90a-d913-4bff-b374-d5333ad483e9",
   "metadata": {},
   "outputs": [
    {
     "data": {
      "text/plain": [
       "0    -277260.093750\n",
       "1     154919.171875\n",
       "2       4438.226562\n",
       "3      35560.929688\n",
       "4      21163.847656\n",
       "5       -885.542969\n",
       "6       3480.824219\n",
       "7       2263.308594\n",
       "8       5394.398438\n",
       "9       7095.070312\n",
       "10      1546.867188\n",
       "11     -3655.714844\n",
       "12      2180.277344\n",
       "13      4656.335938\n",
       "14       248.195312\n",
       "15      1950.351562\n",
       "16      1429.375000\n",
       "17     -3197.781250\n",
       "Name: D, dtype: float64"
      ]
     },
     "execution_count": 23,
     "metadata": {},
     "output_type": "execute_result"
    }
   ],
   "source": [
    "df[\"D\"]"
   ]
  },
  {
   "cell_type": "code",
   "execution_count": null,
   "id": "13dabfa1-5faf-44c2-ad8b-9bd75bc55018",
   "metadata": {},
   "outputs": [],
   "source": []
  }
 ],
 "metadata": {
  "kernelspec": {
   "display_name": "Python 3 (ipykernel)",
   "language": "python",
   "name": "python3"
  },
  "language_info": {
   "codemirror_mode": {
    "name": "ipython",
    "version": 3
   },
   "file_extension": ".py",
   "mimetype": "text/x-python",
   "name": "python",
   "nbconvert_exporter": "python",
   "pygments_lexer": "ipython3",
   "version": "3.10.6"
  }
 },
 "nbformat": 4,
 "nbformat_minor": 5
}
