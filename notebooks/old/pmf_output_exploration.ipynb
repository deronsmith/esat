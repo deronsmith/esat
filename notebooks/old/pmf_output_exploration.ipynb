{
 "cells": [
  {
   "cell_type": "code",
   "execution_count": 1,
   "id": "85672a64-5b60-4ff5-8ecd-d4341ed6e9c0",
   "metadata": {},
   "outputs": [],
   "source": [
    "import os\n",
    "import sys\n",
    "import copy\n",
    "import logging\n",
    "import time\n",
    "import pandas as pd\n",
    "import numpy as np\n",
    "\n",
    "module_path = os.path.abspath(os.path.join('..'))\n",
    "if module_path not in sys.path:\n",
    "    sys.path.append(module_path)"
   ]
  },
  {
   "cell_type": "code",
   "execution_count": 27,
   "id": "1f235b29-a5ec-4653-af87-baf73e3e611b",
   "metadata": {},
   "outputs": [],
   "source": [
    "pmf_file = os.path.join(\"D:\\\\\", \"projects\", \"nmf_py\", \"data\", \"6f_residuals.txt\")\n",
    "uncertainty_file = os.path.join(\"D:\\\\\", \"projects\", \"nmf_py\", \"data\", \"Dataset-BatonRouge-unc.csv\")"
   ]
  },
  {
   "cell_type": "code",
   "execution_count": 35,
   "id": "fee97115-ded6-450d-9e15-48ca128bf32a",
   "metadata": {},
   "outputs": [],
   "source": [
    "with open(pmf_file) as file:\n",
    "    file_lines = file.read().split(\"\\n\")\n",
    "    header = file_lines[3].split(\"\\t\")\n",
    "    data = []\n",
    "    for i in range(4, 311):\n",
    "        data.append(file_lines[i].split(\"\\t\"))\n",
    "\n",
    "pmf_df = pd.DataFrame(data=data, columns=header)\n",
    "pmf_df = pmf_df.drop(\"Base_Run\", axis=1)\n",
    "\n",
    "unc_df = pd.read_csv(uncertainty_file)"
   ]
  },
  {
   "cell_type": "code",
   "execution_count": 40,
   "id": "fa426880-65a0-4b89-82e6-0221af41b8ee",
   "metadata": {},
   "outputs": [
    {
     "data": {
      "text/plain": [
       "64422.645"
      ]
     },
     "execution_count": 40,
     "metadata": {},
     "output_type": "execute_result"
    }
   ],
   "source": [
    "_pmf_df = pmf_df.drop(\"Date_Time\", axis=1).astype(\"float32\")\n",
    "_unc_df = unc_df.drop(\"Date\", axis=1).astype(\"float32\")\n",
    "\n",
    "Q = np.sum(np.sum(np.square(_pmf_df.divide(_unc_df))))\n",
    "Q"
   ]
  },
  {
   "cell_type": "code",
   "execution_count": null,
   "id": "4d3507f3-5465-4a4d-a7d5-286aec979f23",
   "metadata": {},
   "outputs": [],
   "source": []
  }
 ],
 "metadata": {
  "kernelspec": {
   "display_name": "Python 3 (ipykernel)",
   "language": "python",
   "name": "python3"
  },
  "language_info": {
   "codemirror_mode": {
    "name": "ipython",
    "version": 3
   },
   "file_extension": ".py",
   "mimetype": "text/x-python",
   "name": "python",
   "nbconvert_exporter": "python",
   "pygments_lexer": "ipython3",
   "version": "3.10.6"
  }
 },
 "nbformat": 4,
 "nbformat_minor": 5
}
