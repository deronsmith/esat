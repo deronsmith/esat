{
 "cells": [
  {
   "cell_type": "markdown",
   "id": "91d9b8f1-d47d-440f-9097-7491caf80adb",
   "metadata": {},
   "source": [
    "### PMF5 Output Comparison\n",
    "Summary: This notebook is used to explore methods for comparing the outputs of PMF5 to NMF-PY and development of metrics for evaluating the output of NMF-PY."
   ]
  },
  {
   "cell_type": "code",
   "execution_count": 1,
   "id": "621f6f11-94bc-467a-a97f-f7a9aa053723",
   "metadata": {},
   "outputs": [],
   "source": [
    "import os\n",
    "import sys\n",
    "import copy\n",
    "import logging\n",
    "import time\n",
    "import json\n",
    "import pandas as pd\n",
    "import numpy as np\n",
    "import matplotlib.pyplot as plt\n",
    "from itertools import permutations\n",
    "\n",
    "module_path = os.path.abspath(os.path.join('..'))\n",
    "if module_path not in sys.path:\n",
    "    sys.path.append(module_path)\n",
    "    \n",
    "from src.data.datahandler import DataHandler\n",
    "from src.model.base_nmf import BaseSearch\n",
    "from tests.factor_comparison import FactorComp\n",
    "from src.model.optimization import ComponentSearch\n",
    "from src.utils import calculate_Q"
   ]
  },
  {
   "cell_type": "code",
   "execution_count": 13,
   "id": "77c13eef-b388-4776-834a-9a1bbc999591",
   "metadata": {},
   "outputs": [],
   "source": [
    "n_components = 4\n",
    "features = 41\n",
    "\n",
    "pmf_profile_file = os.path.join(\"D:\\\\\", \"projects\", \"nmf_py\", \"data\", f\"baton-rouge_{n_components}f_profiles.txt\")\n",
    "pmf_residuals_file = os.path.join(\"D:\\\\\", \"projects\", \"nmf_py\", \"data\", \"factor_test\", f\"br{n_components}f_residuals.txt\")\n",
    "pmf_contribution_file = os.path.join(\"D:\\\\\", \"projects\", \"nmf_py\", \"data\", f\"baton-rouge_{n_components}f_contributions.txt\")\n",
    "\n",
    "output_path = os.path.join(\"D:\\\\\", \"projects\", \"nmf_py\", \"data\", \"factor_test\")\n",
    "nmf_file = f\"nmf-br{n_components}-output.json\"\n",
    "nmf_output_file = os.path.join(output_path, nmf_file)\n",
    "\n",
    "input_file = os.path.join(\"D:\\\\\", \"projects\", \"nmf_py\", \"data\", \"Dataset-BatonRouge-con.csv\")\n",
    "uncertainty_file = os.path.join(\"D:\\\\\", \"projects\", \"nmf_py\", \"data\", \"Dataset-BatonRouge-unc.csv\")"
   ]
  },
  {
   "cell_type": "code",
   "execution_count": 14,
   "id": "53f1ab73-69b8-47dc-8498-6dc21c62a6df",
   "metadata": {},
   "outputs": [
    {
     "name": "stderr",
     "output_type": "stream",
     "text": [
      "19-Apr-23 10:55:31 - Input and output configured successfully\n"
     ]
    }
   ],
   "source": [
    "index_col = \"Date\"\n",
    "\n",
    "dh = DataHandler(input_path=input_file,  uncertainty_path=uncertainty_file, output_path=None, index_col=index_col)"
   ]
  },
  {
   "cell_type": "code",
   "execution_count": 15,
   "id": "1a6c62cc-df7c-46bd-84ad-15319e8579ff",
   "metadata": {},
   "outputs": [
    {
     "name": "stderr",
     "output_type": "stream",
     "text": [
      "Calculating correlation between factors from each epoch: 100%|█████████████████████████| 20/20 [00:00<00:00, 56.83it/s]\n"
     ]
    },
    {
     "name": "stdout",
     "output_type": "stream",
     "text": [
      "Number of permutations for 4 factors: 24\n"
     ]
    },
    {
     "name": "stderr",
     "output_type": "stream",
     "text": [
      "Calculating average correlation for all permutations for each epoch: 100%|█████████████| 20/20 [00:07<00:00,  2.82it/s]"
     ]
    },
    {
     "name": "stdout",
     "output_type": "stream",
     "text": [
      "R2 - Model: 18, Best permutations: ['Factor 1', 'Factor 3', 'Factor 4', 'Factor 2'], Average R2: 0.9207010195701427, \n",
      "Profile R2 Avg: 0.9846012964113698, Contribution R2 Avg: 0.8568007427289156, \n",
      "Profile R2: [0.9614367437324146, 0.9996006824877424, 0.9812699869925912, 0.9960977724327312], \n",
      "Contribution R2: [0.8101476084787497, 0.703381937388954, 0.9493474624368172, 0.9643259626111415]\n",
      "PMF5 Q(true): 86895.6875, NMF-PY Model 18 Q(true): 105543.5625\n"
     ]
    },
    {
     "name": "stderr",
     "output_type": "stream",
     "text": [
      "\n"
     ]
    }
   ],
   "source": [
    "pc = FactorComp(nmf_output_file=nmf_output_file, pmf_profile_file=pmf_profile_file, pmf_contribution_file=pmf_contribution_file, factors=n_components, species=features, residuals_path=pmf_residuals_file)\n",
    "pmf_q = calculate_Q(pc.pmf_residuals.values, dh.uncertainty_data_processed)\n",
    "pc.compare(PMF_Q=pmf_q)"
   ]
  },
  {
   "cell_type": "code",
   "execution_count": 65,
   "id": "03eafda0-249e-4935-a1f6-a6f757a7fcc8",
   "metadata": {},
   "outputs": [
    {
     "name": "stdout",
     "output_type": "stream",
     "text": [
      "PMF factor Factor 1 is mapped to NMF factor Factor 1\n"
     ]
    }
   ],
   "source": [
    "i = 0\n",
    "nmf_f = pc.factor_map[i]\n",
    "pmf_f = pc.factor_columns[i]\n",
    "print(f\"PMF factor {pmf_f} is mapped to NMF factor {nmf_f}\")"
   ]
  },
  {
   "cell_type": "code",
   "execution_count": 66,
   "id": "366364f1-3c96-4dd9-a6d0-2297eaca6075",
   "metadata": {},
   "outputs": [],
   "source": [
    "nmf_H_f = pc.nmf_epochs_dfs[pc.best_model]['H'].loc[nmf_f].to_numpy()    # 41 (features)\n",
    "nmf_W_f = pc.nmf_epochs_dfs[pc.best_model]['W'][nmf_f].to_numpy()        # 307 (samples)\n",
    "nmf_W_f = nmf_W_f.reshape(len(nmf_W_f), 1)\n",
    "nmf_WH_f = np.multiply(nmf_W_f, nmf_H_f)"
   ]
  },
  {
   "cell_type": "code",
   "execution_count": 67,
   "id": "7991e6ef-1fcc-4b29-a4a9-548a11e3cdfd",
   "metadata": {},
   "outputs": [],
   "source": [
    "pmf_W_f = pc.pmf_contribution_df[pmf_f].to_numpy()\n",
    "pmf_H_f = pc.pmf_profiles_df[pmf_f].to_numpy()\n",
    "pmf_W_f = pmf_W_f.reshape(len(pmf_W_f), 1)\n",
    "pmf_WH_f = np.multiply(pmf_W_f, pmf_H_f)"
   ]
  },
  {
   "cell_type": "code",
   "execution_count": 71,
   "id": "7a9c3623-0254-4681-954a-83fcd5d6b4cb",
   "metadata": {},
   "outputs": [
    {
     "data": {
      "text/plain": [
       "0.8790406753926603"
      ]
     },
     "execution_count": 71,
     "metadata": {},
     "output_type": "execute_result"
    }
   ],
   "source": [
    "corr_matrix = np.corrcoef(nmf_WH_f.flatten(), pmf_WH_f.flatten())\n",
    "corr = corr_matrix[0, 1]\n",
    "r_sq = corr ** 2\n",
    "r_sq"
   ]
  },
  {
   "cell_type": "code",
   "execution_count": 72,
   "id": "2aece528-df72-44bd-b24b-14dcd97f92d7",
   "metadata": {},
   "outputs": [
    {
     "name": "stdout",
     "output_type": "stream",
     "text": [
      "Prime Profile - Factor Sample Contributions R2 Avg: 0.9161556865735174, Factor R2: [0.8790406753926603, 0.8620530004439384, 0.9552797191480776, 0.9682493513093933]\n"
     ]
    }
   ],
   "source": [
    "correlations = []\n",
    "\n",
    "for i, factor in enumerate(pc.factor_columns):\n",
    "    nmf_f = pc.factor_map[i]\n",
    "    pmf_f = factor\n",
    "    nmf_H_f = pc.nmf_epochs_dfs[pc.best_model]['H'].loc[nmf_f].to_numpy()    # 41 (features)\n",
    "    nmf_W_f = pc.nmf_epochs_dfs[pc.best_model]['W'][nmf_f].to_numpy()        # 307 (samples)\n",
    "    nmf_W_f = nmf_W_f.reshape(len(nmf_W_f), 1)\n",
    "    nmf_WH_f = np.multiply(nmf_W_f, nmf_H_f)\n",
    "    \n",
    "    pmf_W_f = pc.pmf_contribution_df[pmf_f].to_numpy()\n",
    "    pmf_H_f = pc.pmf_profiles_df[pmf_f].to_numpy()\n",
    "    pmf_W_f = pmf_W_f.reshape(len(pmf_W_f), 1)\n",
    "    pmf_WH_f = np.multiply(pmf_W_f, pmf_H_f)\n",
    "    \n",
    "    corr_matrix = np.corrcoef(nmf_WH_f.flatten(), pmf_WH_f.flatten())\n",
    "    corr = corr_matrix[0, 1]\n",
    "    r_sq = corr ** 2\n",
    "    correlations.append(r_sq)\n",
    "print(f\"Prime Profile - Factor Sample Contributions R2 Avg: {np.mean(correlations)}, Factor R2: {correlations}\")"
   ]
  },
  {
   "cell_type": "code",
   "execution_count": 39,
   "id": "dc4d3881-33e1-402c-af30-8ea0da36f531",
   "metadata": {},
   "outputs": [
    {
     "name": "stdout",
     "output_type": "stream",
     "text": [
      "Best Contribution Profile: ('Factor 4', 'Factor 2', 'Factor 1', 'Factor 3'), Avg R2: 0.872502700516915, Factor R2: [0.7857782125497458, 0.7481539668120997, 0.9732683258267482, 0.9828102968790666]\n"
     ]
    }
   ],
   "source": [
    "factor_permutations = list(permutations(pc.factor_columns, len(pc.factor_columns)))\n",
    "best_factor_mapping = None\n",
    "best_model = -1\n",
    "best_avg_r = 0\n",
    "best_r = []\n",
    "\n",
    "for model in range(len(pc.nmf_epochs_dfs)):\n",
    "    for factor_p in factor_permutations:\n",
    "        r_list = []\n",
    "        for i, factor in enumerate(pc.factor_columns):\n",
    "            nmf_factor =  factor_p[i]\n",
    "            pmf_contribution = pmf_contributions_df[factor]\n",
    "            nmf_contribution = pc.nmf_epochs_dfs[model][\"W\"][nmf_factor]\n",
    "            pmf_contribution = pmf_contribution.astype(float)\n",
    "            nmf_contribution = nmf_contribution.astype(float)\n",
    "            corr_matrix = np.corrcoef(nmf_contribution, pmf_contribution)\n",
    "            corr = corr_matrix[0, 1]\n",
    "            r2 = corr ** 2\n",
    "            r_list.append(r2)\n",
    "        r2_mean = np.mean(r_list)\n",
    "        if r2_mean > best_avg_r:\n",
    "            best_avg_r = r2_mean\n",
    "            best_r = r_list\n",
    "            best_factor_mapping = factor_p\n",
    "            best_model = model\n",
    "print(f\"Best Contribution Profile: {best_factor_mapping}, Avg R2: {best_avg_r}, Factor R2: {best_r}\")"
   ]
  },
  {
   "cell_type": "code",
   "execution_count": 37,
   "id": "47149bcd-b52b-449c-9415-1b717f36faf2",
   "metadata": {},
   "outputs": [
    {
     "data": {
      "text/plain": [
       "9"
      ]
     },
     "execution_count": 37,
     "metadata": {},
     "output_type": "execute_result"
    }
   ],
   "source": []
  },
  {
   "cell_type": "code",
   "execution_count": null,
   "id": "47ca1a8b-4cdb-4f62-b9d0-7c2f1f3d4c67",
   "metadata": {},
   "outputs": [],
   "source": []
  },
  {
   "cell_type": "code",
   "execution_count": null,
   "id": "6d7c8285-bcb1-4f4d-9e03-782ac2c3b43e",
   "metadata": {},
   "outputs": [],
   "source": []
  },
  {
   "cell_type": "code",
   "execution_count": 6,
   "id": "e698be23-7ba8-4ca6-a689-421dd96b584a",
   "metadata": {},
   "outputs": [
    {
     "ename": "NameError",
     "evalue": "name 'nmf_df' is not defined",
     "output_type": "error",
     "traceback": [
      "\u001b[1;31m---------------------------------------------------------------------------\u001b[0m",
      "\u001b[1;31mNameError\u001b[0m                                 Traceback (most recent call last)",
      "Cell \u001b[1;32mIn [6], line 2\u001b[0m\n\u001b[0;32m      1\u001b[0m \u001b[38;5;66;03m# create factor species percentages\u001b[39;00m\n\u001b[1;32m----> 2\u001b[0m f_sums \u001b[38;5;241m=\u001b[39m \u001b[43mnmf_df\u001b[49m\u001b[38;5;241m.\u001b[39miloc[:,\u001b[38;5;241m1\u001b[39m:factors\u001b[38;5;241m+\u001b[39m\u001b[38;5;241m1\u001b[39m]\u001b[38;5;241m.\u001b[39msum(axis\u001b[38;5;241m=\u001b[39m\u001b[38;5;241m1\u001b[39m)\n\u001b[0;32m      3\u001b[0m norm_nmf_df \u001b[38;5;241m=\u001b[39m nmf_df\u001b[38;5;241m.\u001b[39miloc[:,\u001b[38;5;241m1\u001b[39m:factors\u001b[38;5;241m+\u001b[39m\u001b[38;5;241m1\u001b[39m]\u001b[38;5;241m.\u001b[39mdivide(f_sums, axis\u001b[38;5;241m=\u001b[39m\u001b[38;5;241m0\u001b[39m)\n\u001b[0;32m      4\u001b[0m norm_nmf_df\u001b[38;5;241m.\u001b[39minsert(\u001b[38;5;241m0\u001b[39m, \u001b[38;5;124m'\u001b[39m\u001b[38;5;124mspecies\u001b[39m\u001b[38;5;124m'\u001b[39m, nmf_df[\u001b[38;5;124m'\u001b[39m\u001b[38;5;124mspecies\u001b[39m\u001b[38;5;124m'\u001b[39m])\n",
      "\u001b[1;31mNameError\u001b[0m: name 'nmf_df' is not defined"
     ]
    }
   ],
   "source": []
  },
  {
   "cell_type": "code",
   "execution_count": 7,
   "id": "c76b8f87-da2d-46fe-a382-46d91ef3b857",
   "metadata": {},
   "outputs": [
    {
     "ename": "AttributeError",
     "evalue": "'dict' object has no attribute 'iloc'",
     "output_type": "error",
     "traceback": [
      "\u001b[1;31m---------------------------------------------------------------------------\u001b[0m",
      "\u001b[1;31mAttributeError\u001b[0m                            Traceback (most recent call last)",
      "Cell \u001b[1;32mIn [7], line 3\u001b[0m\n\u001b[0;32m      1\u001b[0m \u001b[38;5;66;03m# Calculating factor metrics per species per sample\u001b[39;00m\n\u001b[0;32m      2\u001b[0m \u001b[38;5;66;03m# epoch 0\u001b[39;00m\n\u001b[1;32m----> 3\u001b[0m epoch_0_h \u001b[38;5;241m=\u001b[39m \u001b[43mepoch_dfs\u001b[49m\u001b[43m[\u001b[49m\u001b[38;5;241;43m0\u001b[39;49m\u001b[43m]\u001b[49m\u001b[38;5;241;43m.\u001b[39;49m\u001b[43miloc\u001b[49m[:,\u001b[38;5;241m1\u001b[39m:factors\u001b[38;5;241m+\u001b[39m\u001b[38;5;241m1\u001b[39m]\u001b[38;5;241m.\u001b[39mto_numpy()\n\u001b[0;32m      4\u001b[0m epoch_0_w \u001b[38;5;241m=\u001b[39m epoch_w[\u001b[38;5;241m0\u001b[39m]\n\u001b[0;32m      5\u001b[0m epoch_0_h \u001b[38;5;241m=\u001b[39m epoch_0_h\u001b[38;5;241m.\u001b[39mreshape(epoch_0_h\u001b[38;5;241m.\u001b[39mshape[\u001b[38;5;241m1\u001b[39m], epoch_0_h\u001b[38;5;241m.\u001b[39mshape[\u001b[38;5;241m0\u001b[39m])\n",
      "\u001b[1;31mAttributeError\u001b[0m: 'dict' object has no attribute 'iloc'"
     ]
    }
   ],
   "source": []
  },
  {
   "cell_type": "code",
   "execution_count": null,
   "id": "12462635-7354-4a71-9192-fe12c4b969eb",
   "metadata": {},
   "outputs": [],
   "source": []
  },
  {
   "cell_type": "code",
   "execution_count": null,
   "id": "d3d8b1ed-2fc0-44c5-b5c5-d64de4ddecff",
   "metadata": {},
   "outputs": [],
   "source": []
  },
  {
   "cell_type": "code",
   "execution_count": null,
   "id": "b635d5c2-0770-491f-9724-1060ea33404f",
   "metadata": {},
   "outputs": [],
   "source": []
  },
  {
   "cell_type": "code",
   "execution_count": null,
   "id": "516bfbab-5548-439d-bb8e-f07f395ad996",
   "metadata": {},
   "outputs": [],
   "source": []
  },
  {
   "cell_type": "code",
   "execution_count": null,
   "id": "0b4a2251-aa74-4845-af2f-0fdbbc8ea5d7",
   "metadata": {},
   "outputs": [],
   "source": []
  },
  {
   "cell_type": "code",
   "execution_count": null,
   "id": "c9058b85-2ec6-4b1c-a8cd-fe62bc198d9e",
   "metadata": {},
   "outputs": [],
   "source": []
  },
  {
   "cell_type": "code",
   "execution_count": null,
   "id": "6d6d8544-62b3-4e90-a9be-65009bef2c8b",
   "metadata": {},
   "outputs": [],
   "source": []
  },
  {
   "cell_type": "code",
   "execution_count": null,
   "id": "d1acf8a5-016a-4a03-9ac2-67712894d8b8",
   "metadata": {},
   "outputs": [],
   "source": []
  },
  {
   "cell_type": "code",
   "execution_count": 18,
   "id": "269bdb08-ebba-49e3-9a42-a7f22b66923b",
   "metadata": {},
   "outputs": [
    {
     "data": {
      "text/html": [
       "<div>\n",
       "<style scoped>\n",
       "    .dataframe tbody tr th:only-of-type {\n",
       "        vertical-align: middle;\n",
       "    }\n",
       "\n",
       "    .dataframe tbody tr th {\n",
       "        vertical-align: top;\n",
       "    }\n",
       "\n",
       "    .dataframe thead th {\n",
       "        text-align: right;\n",
       "    }\n",
       "</style>\n",
       "<table border=\"1\" class=\"dataframe\">\n",
       "  <thead>\n",
       "    <tr style=\"text-align: right;\">\n",
       "      <th></th>\n",
       "      <th>Factor 1</th>\n",
       "      <th>Factor 2</th>\n",
       "      <th>Factor 3</th>\n",
       "      <th>Factor 4</th>\n",
       "      <th>Datetime</th>\n",
       "    </tr>\n",
       "  </thead>\n",
       "  <tbody>\n",
       "    <tr>\n",
       "      <th>0</th>\n",
       "      <td>1.54410</td>\n",
       "      <td>0.449500</td>\n",
       "      <td>2.406800</td>\n",
       "      <td>1.59610</td>\n",
       "      <td>06/02/05 03:00</td>\n",
       "    </tr>\n",
       "    <tr>\n",
       "      <th>1</th>\n",
       "      <td>1.00530</td>\n",
       "      <td>0.990740</td>\n",
       "      <td>1.150000</td>\n",
       "      <td>1.98420</td>\n",
       "      <td>06/02/05 06:00</td>\n",
       "    </tr>\n",
       "    <tr>\n",
       "      <th>2</th>\n",
       "      <td>2.84740</td>\n",
       "      <td>0.516180</td>\n",
       "      <td>3.243700</td>\n",
       "      <td>1.23430</td>\n",
       "      <td>06/03/05 03:00</td>\n",
       "    </tr>\n",
       "    <tr>\n",
       "      <th>3</th>\n",
       "      <td>0.20761</td>\n",
       "      <td>2.094500</td>\n",
       "      <td>1.468700</td>\n",
       "      <td>0.17409</td>\n",
       "      <td>06/04/05 03:00</td>\n",
       "    </tr>\n",
       "    <tr>\n",
       "      <th>4</th>\n",
       "      <td>0.75381</td>\n",
       "      <td>0.903250</td>\n",
       "      <td>0.461180</td>\n",
       "      <td>0.23299</td>\n",
       "      <td>06/04/05 06:00</td>\n",
       "    </tr>\n",
       "    <tr>\n",
       "      <th>...</th>\n",
       "      <td>...</td>\n",
       "      <td>...</td>\n",
       "      <td>...</td>\n",
       "      <td>...</td>\n",
       "      <td>...</td>\n",
       "    </tr>\n",
       "    <tr>\n",
       "      <th>301</th>\n",
       "      <td>0.25549</td>\n",
       "      <td>0.633920</td>\n",
       "      <td>0.091281</td>\n",
       "      <td>3.89460</td>\n",
       "      <td>09/24/06 06:00</td>\n",
       "    </tr>\n",
       "    <tr>\n",
       "      <th>302</th>\n",
       "      <td>0.51440</td>\n",
       "      <td>0.402750</td>\n",
       "      <td>-0.027151</td>\n",
       "      <td>1.69450</td>\n",
       "      <td>09/25/06 06:00</td>\n",
       "    </tr>\n",
       "    <tr>\n",
       "      <th>303</th>\n",
       "      <td>0.30866</td>\n",
       "      <td>0.629770</td>\n",
       "      <td>-0.130690</td>\n",
       "      <td>0.10427</td>\n",
       "      <td>09/26/06 03:00</td>\n",
       "    </tr>\n",
       "    <tr>\n",
       "      <th>304</th>\n",
       "      <td>2.28460</td>\n",
       "      <td>0.094477</td>\n",
       "      <td>-0.055430</td>\n",
       "      <td>0.15904</td>\n",
       "      <td>09/26/06 06:00</td>\n",
       "    </tr>\n",
       "    <tr>\n",
       "      <th>305</th>\n",
       "      <td>0.16628</td>\n",
       "      <td>1.086300</td>\n",
       "      <td>3.067900</td>\n",
       "      <td>2.49930</td>\n",
       "      <td>09/28/06 03:00</td>\n",
       "    </tr>\n",
       "  </tbody>\n",
       "</table>\n",
       "<p>306 rows × 5 columns</p>\n",
       "</div>"
      ],
      "text/plain": [
       "     Factor 1  Factor 2  Factor 3  Factor 4        Datetime\n",
       "0     1.54410  0.449500  2.406800   1.59610  06/02/05 03:00\n",
       "1     1.00530  0.990740  1.150000   1.98420  06/02/05 06:00\n",
       "2     2.84740  0.516180  3.243700   1.23430  06/03/05 03:00\n",
       "3     0.20761  2.094500  1.468700   0.17409  06/04/05 03:00\n",
       "4     0.75381  0.903250  0.461180   0.23299  06/04/05 06:00\n",
       "..        ...       ...       ...       ...             ...\n",
       "301   0.25549  0.633920  0.091281   3.89460  09/24/06 06:00\n",
       "302   0.51440  0.402750 -0.027151   1.69450  09/25/06 06:00\n",
       "303   0.30866  0.629770 -0.130690   0.10427  09/26/06 03:00\n",
       "304   2.28460  0.094477 -0.055430   0.15904  09/26/06 06:00\n",
       "305   0.16628  1.086300  3.067900   2.49930  09/28/06 03:00\n",
       "\n",
       "[306 rows x 5 columns]"
      ]
     },
     "execution_count": 18,
     "metadata": {},
     "output_type": "execute_result"
    }
   ],
   "source": []
  },
  {
   "cell_type": "code",
   "execution_count": null,
   "id": "9dc7a896-f9d2-4725-8651-0c6c47f1f246",
   "metadata": {},
   "outputs": [],
   "source": []
  }
 ],
 "metadata": {
  "kernelspec": {
   "display_name": "Python 3 (ipykernel)",
   "language": "python",
   "name": "python3"
  },
  "language_info": {
   "codemirror_mode": {
    "name": "ipython",
    "version": 3
   },
   "file_extension": ".py",
   "mimetype": "text/x-python",
   "name": "python",
   "nbconvert_exporter": "python",
   "pygments_lexer": "ipython3",
   "version": "3.11.3"
  }
 },
 "nbformat": 4,
 "nbformat_minor": 5
}
