{
 "cells": [
  {
   "cell_type": "markdown",
   "id": "9aa674ce-302d-43fc-ada5-fa26eb95f81d",
   "metadata": {},
   "source": [
    "## Gemini Model\n",
    "\n",
    "A workflow that uses Google's Gemini LLM to search for novel and creative implementations of the NMF algorithm.\n",
    "\n",
    "Initially will focus on improvements to the LS-NMF algorithm, then will search for improvements to the WS-NMF algorithm.\n",
    "\n",
    "The workflow contains the following steps:\n",
    "1. Prompt Gemini for a better implementation of the base algorithm, passing in the base model as text.\n",
    "   1. The prompt will request n new models. \n",
    "2. Parse the results to extract the n 'new' versions of the algorithm.\n",
    "3. Create a new python function for each of the algorithm.\n",
    "4. Validate each of the new algorithms by creating a new BatchNMF model, and manually swapping out the self.update_step function with the new function.\n",
    "5. Run 20 models, aggregate the results (mean runtime, min/mean/max Q(true), min/mean/max Q(robust))\n",
    "6. Save the top 2 models to mongodb, along with aggregated results.\n",
    "   1. Any number could be saved, but 2 provides options for the selection process.\n",
    "7. Repeat steps 1-6 using a random selection from the new algorithm database."
   ]
  },
  {
   "cell_type": "code",
   "execution_count": 1,
   "id": "63611071-f3aa-4898-80b1-b2173449cad9",
   "metadata": {},
   "outputs": [
    {
     "name": "stderr",
     "output_type": "stream",
     "text": [
      "C:\\Users\\dsmith\\Anaconda3\\envs\\nmf_py\\Lib\\site-packages\\tqdm\\auto.py:21: TqdmWarning: IProgress not found. Please update jupyter and ipywidgets. See https://ipywidgets.readthedocs.io/en/stable/user_install.html\n",
      "  from .autonotebook import tqdm as notebook_tqdm\n"
     ]
    }
   ],
   "source": [
    "import os\n",
    "import sys\n",
    "import pathlib\n",
    "import textwrap\n",
    "import inspect\n",
    "\n",
    "import google.generativeai as genai\n",
    "\n",
    "from IPython.display import display\n",
    "from IPython.display import Markdown\n",
    "\n",
    "module_path = os.path.abspath(os.path.join('..'))\n",
    "if module_path not in sys.path:\n",
    "    sys.path.append(module_path)"
   ]
  },
  {
   "cell_type": "code",
   "execution_count": 8,
   "id": "ec45d9a4-a23c-451a-9877-1a812da269d9",
   "metadata": {},
   "outputs": [
    {
     "data": {
      "text/plain": [
       "'def update(self,\\n            V: np.ndarray,\\n            We: np.ndarray,\\n            W: np.ndarray,\\n            H: np.ndarray\\n    ):\\n        WeV = np.multiply(We, V)\\n        WH = np.matmul(W, H)\\n        H_num = np.matmul(W.T, WeV)\\n        H_den = np.matmul(W.T, np.multiply(We, WH))\\n        H = np.multiply(H, np.divide(H_num, H_den))\\n\\n        WH = np.matmul(W, H)\\n        W_num = np.matmul(WeV, H.T)\\n        W_den = np.matmul(np.multiply(We, WH), H.T)\\n        W = np.multiply(W, np.divide(W_num, W_den))\\n\\n        return W, H\\n'"
      ]
     },
     "execution_count": 8,
     "metadata": {},
     "output_type": "execute_result"
    }
   ],
   "source": [
    "from src.data.datahandler import DataHandler\n",
    "from src.model.nmf import NMF\n",
    "from src.model.batch_nmf import BatchNMF\n",
    "\n",
    "## Base LS-NMF update algorithm\n",
    "from src.model.ls_nmf import LSNMF\n",
    "base_alg = inspect.getsourcelines(LSNMF.update)\n",
    "base_code = []\n",
    "for i in range(len(base_alg[0])):\n",
    "    if i > 0 and i < 7 or i >= 30:\n",
    "        code_line = base_alg[0][i]\n",
    "        if \"def\" in code_line:\n",
    "            code_line = textwrap.dedent(code_line)\n",
    "            if \"self\" not in code_line:\n",
    "                code_line = code_line.replace(\"\\n\", \"self,\\n\")\n",
    "        base_code.append(code_line)        \n",
    "# base_code = \"\".join(base_alg[0][1:7]) + \"\".join(base_alg[0][30:])\n",
    "base_code = \"\".join(base_code)\n",
    "# base_code = base_code[0: -1]\n",
    "# base_code = str(base_code).replace(\"[\", \"\")\n",
    "# base_code = str(base_code).replace(\"]\", \"\")\n",
    "base_header = base_alg[0][1:7]\n",
    "base_return = base_alg[0][-1:]\n",
    "base_code"
   ]
  },
  {
   "cell_type": "code",
   "execution_count": 9,
   "id": "fdf03e41-1628-4ae6-97af-2243acd936e5",
   "metadata": {},
   "outputs": [
    {
     "data": {
      "text/plain": [
       "['def update(self,\\n',\n",
       " '            V: np.ndarray,\\n',\n",
       " '            We: np.ndarray,\\n',\n",
       " '            W: np.ndarray,\\n',\n",
       " '            H: np.ndarray\\n',\n",
       " '    ):\\n',\n",
       " '        uV = np.multiply(We, V)\\n',\n",
       " '\\n',\n",
       " '        _W = []\\n',\n",
       " '        for i in range(V.shape[0]):\\n',\n",
       " '            wei = We[i]\\n',\n",
       " '            wei_d = np.diagflat(wei)\\n',\n",
       " '\\n',\n",
       " '            uv_i = uV[i]\\n',\n",
       " '            uvi = uv_i.reshape(len(uv_i), 1)\\n',\n",
       " '\\n',\n",
       " '            _w_n = np.matmul(H, uvi).flatten()\\n',\n",
       " '\\n',\n",
       " '            uh = np.matmul(wei_d, H.T)\\n',\n",
       " '            _w_d = np.matmul(H, uh)\\n',\n",
       " '            _w_dm = np.matrix(_w_d)\\n',\n",
       " '            if npl.det(_w_dm) == 0:\\n',\n",
       " '                _w_di = np.array(npl.pinv(_w_dm))\\n',\n",
       " '            else:\\n',\n",
       " '                _w_di = np.array(npl.inv(_w_dm))\\n',\n",
       " '            _w = np.matmul(_w_n, _w_di)\\n',\n",
       " '            _W.append(_w)\\n',\n",
       " '        W = np.array(_W)\\n',\n",
       " '\\n',\n",
       " '        W_n = (np.abs(W) - W) / 2.0\\n',\n",
       " '        W_p = (np.abs(W) + W) / 2.0\\n',\n",
       " '\\n',\n",
       " '        _H = []\\n',\n",
       " '        for j in range(V.shape[1]):\\n',\n",
       " '            wej = We[:, j]\\n',\n",
       " '            wej_d = np.diagflat(wej)\\n',\n",
       " '\\n',\n",
       " '            uv_j = uV[:, j]\\n',\n",
       " '            uv_j = uv_j.reshape(len(uv_j), 1)\\n',\n",
       " '\\n',\n",
       " '            n1 = np.matmul(uv_j.T, W_p)[0]\\n',\n",
       " '            d1 = np.matmul(uv_j.T, W_n)[0]\\n',\n",
       " '\\n',\n",
       " '            n2a = np.matmul(W_n.T, wej_d)\\n',\n",
       " '            n2b = np.matmul(n2a, W_n)\\n',\n",
       " '            d2a = np.matmul(W_p.T, wej_d)\\n',\n",
       " '            d2b = np.matmul(d2a, W_p)\\n',\n",
       " '\\n',\n",
       " '            hj = H.T[j]\\n',\n",
       " '            n2 = np.matmul(hj, n2b)\\n',\n",
       " '            d2 = np.matmul(hj, d2b)\\n',\n",
       " '\\n',\n",
       " '            _n = (n1 + n2) + EPSILON\\n',\n",
       " '            _d = (d1 + d2) + EPSILON\\n',\n",
       " '            h_delta = np.sqrt(_n/_d)\\n',\n",
       " '            _h = np.multiply(hj, h_delta)\\n',\n",
       " '            _H.append(_h)\\n',\n",
       " '\\n',\n",
       " '        H = np.array(_H).T\\n',\n",
       " '        return W, H\\n']"
      ]
     },
     "execution_count": 9,
     "metadata": {},
     "output_type": "execute_result"
    }
   ],
   "source": [
    "## Base WS-NMF update algorithm\n",
    "from src.model.ws_nmf import WSNMF\n",
    "ws_base_alg = inspect.getsourcelines(WSNMF.update)\n",
    "ws_base_code = []\n",
    "for i in range(1, len(ws_base_alg[0])):\n",
    "    ws_code_line = ws_base_alg[0][i]\n",
    "    if i < 7 or i > 33:\n",
    "        if \"def\" in ws_code_line:\n",
    "            ws_code_line = textwrap.dedent(ws_code_line)\n",
    "            if \"self\" not in ws_code_line:\n",
    "                ws_code_line = ws_code_line.replace(\"\\n\", \"self,\\n\")\n",
    "        ws_base_code.append(ws_code_line)        \n",
    "        if \"return\" in ws_code_line:\n",
    "            break\n",
    "# ws_base_code = \"\".join(ws_base_code)\n",
    "# ws_base_code = str(ws_base_code).replace(\"[\", \"\")\n",
    "# ws_base_code = str(ws_base_code).replace(\"]\", \"\")\n",
    "# ws_base_code = ws_base_code[0: -1]\n",
    "ws_base_header = ws_base_alg[0][1:7]\n",
    "ws_base_return = ws_base_alg[0][-1:]\n",
    "ws_base_code"
   ]
  },
  {
   "cell_type": "code",
   "execution_count": 4,
   "id": "09b948f4-454f-4611-9533-e787b08c13c4",
   "metadata": {},
   "outputs": [],
   "source": [
    "import numpy as np\n",
    "import json\n",
    "\n",
    "output_directory = \"D:\\\\projects\\\\nmf_py\\\\funsearch\\\\algorithms\"\n",
    "\n",
    "def run_algorithm(new_algorithm):\n",
    "    input_file = os.path.join(\"data\", \"Dataset-BatonRouge-con.csv\")\n",
    "    uncertainty_file = os.path.join(\"data\", \"Dataset-BatonRouge-unc.csv\")\n",
    "    \n",
    "    data_handler = DataHandler(\n",
    "        input_path=input_file,\n",
    "        uncertainty_path=uncertainty_file,\n",
    "        index_col='Date'\n",
    "    )\n",
    "    V, U = data_handler.get_data()\n",
    "    # TODO: In python code will change this to parallel=True (issues with Jupyter notebooks parallel method)\n",
    "    nmf_models = BatchNMF(V=V, U=U, factors=6, models=10, method='ls-nmf', parallel=False, verbose=True)\n",
    "    nmf_models.update_step = new_algorithm\n",
    "    nmf_models.train()\n",
    "    return nmf_models\n",
    "\n",
    "def aggregate_results(models: BatchNMF):\n",
    "    runtime = models.runtime / models.models\n",
    "    qtrue = []\n",
    "    qrobust = []\n",
    "    for model in models.results:\n",
    "        if model is None:\n",
    "            continue\n",
    "        qtrue.append(model.Qtrue)\n",
    "        qrobust.append(model.Qrobust)\n",
    "    return {\"runtime\": (round(runtime,2), round(models.runtime)), \n",
    "            \"Q(true)\": (round(np.min(qtrue),2), round(np.mean(qtrue),2), round(np.max(qtrue),2)), \n",
    "            \"Q(robust)\": (round(np.min(qrobust),2), round(np.mean(qrobust),2), round(np.max(qrobust),2))}\n",
    "\n",
    "def update_summary(name, alg_summary, code_path):\n",
    "    summary_file = os.path.join(output_directory, \"summary.json\")\n",
    "    alg_summary[\"code_path\"] = code_path\n",
    "    if os.path.exists(summary_file):\n",
    "        alg_key = name\n",
    "        summary = {name: alg_summary}\n",
    "        with open(summary_file, 'r') as sum_file:\n",
    "            existing_summary = json.load(sum_file)\n",
    "            if alg_key not in existing_summary.keys():\n",
    "                existing_summary[alg_key] = alg_summary[alg_key]\n",
    "            alg_summary = existing_summary\n",
    "    else:\n",
    "        summary = {name: alg_summary}\n",
    "        alg_summary = summary\n",
    "    with open(summary_file, \"w\") as sum_file:\n",
    "        json.dump(alg_summary, sum_file)\n",
    "\n",
    "def save_algorithm(name, code):\n",
    "    code_file = os.path.join(output_directory, f\"gemini-{name}.text\")\n",
    "    with open(code_file, \"w\") as cfile:\n",
    "        for cline in code:\n",
    "            cfile.write(cline)\n",
    "    return code_file\n",
    "\n",
    "def select_algorithm():\n",
    "    summary_file = os.path.join(output_directory, \"summary.json\")\n",
    "    index = 1\n",
    "    if os.path.exists(summary_file):\n",
    "        code_path = None\n",
    "        alg_code = None\n",
    "        with open(summary_file, 'r') as sum_file:\n",
    "            existing_models = json.load(sum_file)\n",
    "            model_keys = list(existing_models.keys())\n",
    "            random_key = np.random.choice(model_keys,1)\n",
    "            index = len(model_keys)\n",
    "            while index in model_keys:\n",
    "                index += 1\n",
    "            code_path = existing_models[random_key][\"code_path\"]\n",
    "        with open(code_path, 'r') as code_file:\n",
    "            alg_code = code_file.read()\n",
    "        return index, alg_code\n",
    "    return index, None"
   ]
  },
  {
   "cell_type": "code",
   "execution_count": 5,
   "id": "b38528a2-5085-4de2-b70b-ba7a218d9bd8",
   "metadata": {},
   "outputs": [
    {
     "name": "stderr",
     "output_type": "stream",
     "text": [
      "27-Dec-23 08:32:48 - Input and output configured successfully\n",
      "Model: 1, Seed: 8925, Q(true): 66257.34, Q(robust): 56038.48:  15%|██▎            | 3019/20000 [02:40<15:02, 18.83it/s]\n",
      "Model: 2, Seed: 77395, Q(true): 68051.75, Q(robust): 58594.57:   8%|█             | 1590/20000 [01:25<16:31, 18.58it/s]\n",
      "Model: 3, Seed: 65457, Q(true): 66606.33, Q(robust): 56599.35:  13%|█▊            | 2647/20000 [02:32<16:37, 17.40it/s]\n",
      "Model: 4, Seed: 43887, Q(true): 65756.86, Q(robust): 56535.37:  10%|█▎            | 1947/20000 [01:57<18:06, 16.61it/s]\n",
      "Model: 5, Seed: 43301, Q(true): 68131.03, Q(robust): 58718.47:   9%|█▎            | 1870/20000 [01:53<18:21, 16.46it/s]\n",
      "Model: 6, Seed: 85859, Q(true): 67555.87, Q(robust): 57564.71:   8%|█             | 1510/20000 [01:33<19:02, 16.19it/s]\n",
      "Model: 7, Seed: 8594, Q(true): 67871.81, Q(robust): 58203.47:   3%|▌               | 637/20000 [00:38<19:26, 16.59it/s]\n",
      "Model: 8, Seed: 69736, Q(true): 66339.11, Q(robust): 56090.7:   7%|█              | 1434/20000 [01:21<17:36, 17.57it/s]\n",
      "Model: 9, Seed: 20146, Q(true): 70035.41, Q(robust): 60165.38:   5%|▋             | 1037/20000 [00:58<17:55, 17.63it/s]\n",
      "Model: 10, Seed: 9417, Q(true): 67256.36, Q(robust): 57086.44:  12%|█▋            | 2433/20000 [02:16<16:27, 17.78it/s]\n",
      "27-Dec-23 08:50:06 - Results - Best Model: 1, Q(true): 66257.34397261764, Q(robust): 56038.481486844175, Converged: True\n",
      "27-Dec-23 08:50:06 - Runtime: 17.3 min(s)\n"
     ]
    }
   ],
   "source": [
    "base_models = run_algorithm(new_algorithm=ws_base_code)"
   ]
  },
  {
   "cell_type": "code",
   "execution_count": null,
   "id": "8f1914dc-f212-469e-8b3a-586699a15193",
   "metadata": {},
   "outputs": [],
   "source": [
    "base_Qrobust = base_models.results[base_models.best_model].Qrobust\n",
    "base_Qrobust"
   ]
  },
  {
   "cell_type": "code",
   "execution_count": 9,
   "id": "25ff53f1-a394-4b00-8524-5e31bb5f90a6",
   "metadata": {},
   "outputs": [],
   "source": [
    "base_results = aggregate_results(models=base_models)\n",
    "code_path = save_algorithm(\"0\", base_code)\n",
    "update_summary(0, base_results, code_path)"
   ]
  },
  {
   "cell_type": "code",
   "execution_count": null,
   "id": "a5ad360c-8e70-4ce7-bb5a-a7f6dea3fc12",
   "metadata": {},
   "outputs": [],
   "source": [
    "# STEPS\n",
    "# gemini_search = True\n",
    "# n_algs = 4\n",
    "# alg_keep = 2\n",
    "# n_algs = 0\n",
    "# added_algs = 0\n",
    "# best_q = base_Qrobust\n",
    "# best_alg = 0\n",
    "\n",
    "# max_search = 500\n",
    "# search_i = 0\n",
    "\n",
    "# while gemini_search:\n",
    "#     # Select a random existing algorithm\n",
    "#     index, alg = select_algorithm()\n",
    "#     if alg is None:\n",
    "#         alg = base_code\n",
    "#     # TODO: generate prompt\n",
    "#     # TODO: parse prompt for model(s)\n",
    "#     new_algs = []\n",
    "#     alg_results = []\n",
    "#     # for each model\n",
    "#     for new_alg in new_algs:\n",
    "#         try:\n",
    "#             new_alg_result = run_algorithm(new_alg)\n",
    "#         except Exception as e:\n",
    "#             print(f\"Algorithm failed due to error: {e}\")\n",
    "#         alg_qrobust = new_alg_result.results[new_alg_result.best_model].Qrobust\n",
    "#         alg_results.append((new_alg, alg_qrobust, new_alg_result))\n",
    "#         n_algs += 1\n",
    "#     alg_results.sort(key=lambda a: a[2])\n",
    "#     for i, alg_result in enumerate(alg_results): \n",
    "#         if i >= 2:\n",
    "#             continue\n",
    "#         if alg_result[1] > 2*base_Qrobust:\n",
    "#             print(f\"Algorithm failed due to Q(robust) being greater than 2*base_Qrobust. Model Q(Robust): {alg_result[1]}\")\n",
    "#             continue\n",
    "#         elif alg_result[1] < base_Qrobust:\n",
    "#             best_q = base_Qrobust\n",
    "#             best_alg = index\n",
    "#         # if the model succeeded, aggregate the results with \n",
    "#         results = aggregate_results(models=alg_result[2])\n",
    "#         # write the model code to file\n",
    "#         alg_file = save_algorithm(index, alg_result[0])\n",
    "#         # write the results to the summary\n",
    "#         update_summary(index, results, alg_file)\n",
    "#         index += 1\n",
    "#         added_algs\n",
    "#     print(f\"Search: {search_i}/{max_search}, Algorithms tested: {n_algs}, Algorithms added: {add_algs}, Current index: {index}, Base Q(robust): {base_Qrobust}, Best Q(robust): {best_q}, Best Algorithm: {best_alg}\")\n",
    "#     search_i += 1\n",
    "#     if search_i > max_search:\n",
    "#         gemini_search = False"
   ]
  },
  {
   "cell_type": "code",
   "execution_count": 4,
   "id": "92082afb-eaa4-4bdd-8f08-7385e689a5c3",
   "metadata": {},
   "outputs": [],
   "source": [
    "GOOGLE_API_KEY = os.getenv(\"GOOGLE_GEMINI_KEY\")\n",
    "genai.configure(api_key=GOOGLE_API_KEY)\n",
    "model = genai.GenerativeModel('gemini-pro')"
   ]
  },
  {
   "cell_type": "code",
   "execution_count": 5,
   "id": "67736256-e602-4f0d-b891-b1737b5912fa",
   "metadata": {},
   "outputs": [],
   "source": [
    "chat = model.start_chat(history=[])"
   ]
  },
  {
   "cell_type": "code",
   "execution_count": 6,
   "id": "8a450186-03d1-458d-80d1-ff9adbab6f25",
   "metadata": {},
   "outputs": [],
   "source": [
    "test_prompt = f\"Can you give me an optimized version of the Non-Negative Matrix Factorization algorithm with input weights (We) using the provided input parameters and outputs in Python only using numpy, and return W and H? Function must be called update and take self as the first argument. The inputs have dimensions V: (NxM), We: (NxM), W: (Nxk) and H: (kxM). Here is the original to work from: {base_code}\""
   ]
  },
  {
   "cell_type": "code",
   "execution_count": 7,
   "id": "42f102f0-f053-4b0a-b1cd-acc6cf63b49b",
   "metadata": {},
   "outputs": [],
   "source": [
    "response = chat.send_message(test_prompt)"
   ]
  },
  {
   "cell_type": "code",
   "execution_count": 12,
   "id": "2ba54c89-3047-43ab-b35d-d2ba90c27ca8",
   "metadata": {},
   "outputs": [
    {
     "data": {
      "text/plain": [
       "'[parts {\\n  text: \"Can you give me an optimized version of the Non-Negative Matrix Factorization algorithm with input weights (We) using the provided input parameters and outputs in Python only using numpy, and return W and H? Function must be called update and take self as the first argument. The inputs have dimensions V: (NxM), We: (NxM), W: (Nxk) and H: (kxM). Here is the original to work from: def update(self,\\\\n            V: np.ndarray,\\\\n            We: np.ndarray,\\\\n            W: np.ndarray,\\\\n            H: np.ndarray\\\\n    ):\\\\n        WeV = np.multiply(We, V)\\\\n        WH = np.matmul(W, H)\\\\n        H_num = np.matmul(W.T, WeV)\\\\n        H_den = np.matmul(W.T, np.multiply(We, WH))\\\\n        H = np.multiply(H, np.divide(H_num, H_den))\\\\n\\\\n        WH = np.matmul(W, H)\\\\n        W_num = np.matmul(WeV, H.T)\\\\n        W_den = np.matmul(np.multiply(We, WH), H.T)\\\\n        W = np.multiply(W, np.divide(W_num, W_den))\\\\n\\\\n        return W, H\\\\n\"\\n}\\nrole: \"user\"\\n, parts {\\n  text: \"Here is an optimized version of the Non-Negative Matrix Factorization algorithm with input weights (We) using the provided input parameters and outputs in Python only using numpy, and returning W and H:\\\\n\\\\n```python\\\\ndef update(self,\\\\n            V: np.ndarray,\\\\n            We: np.ndarray,\\\\n            W: np.ndarray,\\\\n            H: np.ndarray\\\\n    ):\\\\n        WeV = We * V\\\\n        WeWH = We * (W @ H)\\\\n        W_num = WeV @ H.T\\\\n        W_den = WeWH @ H.T\\\\n        W *= W_num / (W_den + 1e-9)  # Add a small value to avoid division by zero\\\\n\\\\n        WHT = W.T @ H\\\\n        H_num = W.T @ WeV\\\\n        H_den = WHT @ We\\\\n        H *= H_num / (H_den + 1e-9)  # Add a small value to avoid division by zero\\\\n\\\\n        return W, H\\\\n```\\\\n\\\\nThis optimized version uses numpy\\\\\\'s built-in matrix multiplication (@) operator, which is more efficient than the np.matmul() function. It also uses a small value (1e-9) to avoid division by zero errors.\"\\n}\\nrole: \"model\"\\n]'"
      ]
     },
     "execution_count": 12,
     "metadata": {},
     "output_type": "execute_result"
    }
   ],
   "source": [
    "test = str(chat.history)\n",
    "test"
   ]
  },
  {
   "cell_type": "code",
   "execution_count": 15,
   "id": "3c3ba7d9-0443-4458-a647-7d9a8807340a",
   "metadata": {},
   "outputs": [
    {
     "data": {
      "text/plain": [
       "'```python\\ndef update(self,\\n            V: np.ndarray,\\n            We: np.ndarray,\\n            W: np.ndarray,\\n            H: np.ndarray\\n    ):\\n        WeV = We * V\\n        WH = np.dot(W, H)\\n        H_num = np.dot(W.T, WeV)\\n        H_den = np.dot(W.T, We * WH)\\n        H *= H_num / H_den\\n\\n        WH = np.dot(W, H)\\n        W_num = np.dot(WeV, H.T)\\n        W_den = np.dot(We * WH, H.T)\\n        W *= W_num / W_den\\n\\n        return W, H\\n```'"
      ]
     },
     "execution_count": 15,
     "metadata": {},
     "output_type": "execute_result"
    }
   ],
   "source": [
    "new_alg = response.text\n",
    "new_alg"
   ]
  },
  {
   "cell_type": "code",
   "execution_count": null,
   "id": "d2197ebe-09c8-4668-9c96-302a8aefca84",
   "metadata": {},
   "outputs": [],
   "source": [
    "def parse_response(new_alg_str):\n",
    "    alg_list = (new_alg_str).split(\"\\n\")\n",
    "    new_alg = []\n",
    "    copy = False\n",
    "    for code_line in alg_list:\n",
    "        if \"def\" in code_line:\n",
    "            copy = True\n",
    "        if copy:\n",
    "            new_alg.append(code_line)\n",
    "        if \"return\" in code_line:\n",
    "            break\n",
    "    return \"\\n\".join(new_alg)"
   ]
  },
  {
   "cell_type": "code",
   "execution_count": 17,
   "id": "d9cbe7e4-5f94-4357-b529-2d77b3022647",
   "metadata": {},
   "outputs": [
    {
     "data": {
      "text/plain": [
       "'def update(self,\\n            V: np.ndarray,\\n            We: np.ndarray,\\n            W: np.ndarray,\\n            H: np.ndarray\\n    ):\\n        WeV = We * V\\n        WH = np.dot(W, H)\\n        H_num = np.dot(W.T, WeV)\\n        H_den = np.dot(W.T, We * WH)\\n        H *= H_num / H_den\\n\\n        WH = np.dot(W, H)\\n        W_num = np.dot(WeV, H.T)\\n        W_den = np.dot(We * WH, H.T)\\n        W *= W_num / W_den\\n\\n        return W, H'"
      ]
     },
     "execution_count": 17,
     "metadata": {},
     "output_type": "execute_result"
    }
   ],
   "source": [
    "new_code = parse_response(new_alg_str=new_alg)\n",
    "new_code"
   ]
  },
  {
   "cell_type": "code",
   "execution_count": null,
   "id": "924d0e5f-8249-44e8-8dfe-3dabfa0ecd7e",
   "metadata": {},
   "outputs": [
    {
     "name": "stderr",
     "output_type": "stream",
     "text": [
      "19-Dec-23 14:34:20 - Input and output configured successfully\n",
      "Model: 1, Seed: 8925, Q(true): 65044.23, Q(robust): 55637.36:  20%|██▊           | 4097/20000 [00:17<01:06, 240.63it/s]\n",
      "Model: 2, Seed: 77395, Q(true): 65540.67, Q(robust): 55585.32:   9%|█            | 1701/20000 [00:06<01:13, 248.87it/s]\n",
      "Model: 3, Seed: 65457, Q(true): 65037.55, Q(robust): 55592.8:  12%|█▌            | 2314/20000 [00:09<01:11, 249.04it/s]\n",
      "Model: 4, Seed: 43887, Q(true): 66037.44, Q(robust): 56530.11:  11%|█▍           | 2142/20000 [00:08<01:11, 250.74it/s]\n",
      "Model: 5, Seed: 43301, Q(true): 63834.38, Q(robust): 54425.78:  15%|██           | 3077/20000 [00:12<01:07, 250.53it/s]\n",
      "Model: 6, Seed: 85859, Q(true): 63846.58, Q(robust): 54431.89:  11%|█▍           | 2206/20000 [00:09<01:12, 246.22it/s]"
     ]
    }
   ],
   "source": [
    "run_algorithm(new_code)"
   ]
  },
  {
   "cell_type": "code",
   "execution_count": null,
   "id": "e7e305d9-88ea-4baa-b5ba-31d0b8bc8586",
   "metadata": {},
   "outputs": [],
   "source": [
    "prompt1 = \"Get really creative with the algorithm and try something novel? But don't change the signature\"\n",
    "response1 = chat.send_message(prompt1)"
   ]
  },
  {
   "cell_type": "code",
   "execution_count": null,
   "id": "cae2d93f-0d76-4ead-8f25-c2b6316aad69",
   "metadata": {},
   "outputs": [],
   "source": [
    "new_code1 = parse_response(new_alg_str=response1.text)\n",
    "new_code1"
   ]
  },
  {
   "cell_type": "code",
   "execution_count": null,
   "id": "116d77d9-d40c-4710-a31e-097e57bc817e",
   "metadata": {},
   "outputs": [],
   "source": [
    "run_algorithm(new_code1)"
   ]
  },
  {
   "cell_type": "code",
   "execution_count": null,
   "id": "4cff4b5d-c6a7-4022-9e10-c42180986f39",
   "metadata": {},
   "outputs": [],
   "source": [
    "prompt2 = \"Give me a more creative algorithm\"\n",
    "response2 = chat.send_message(prompt2)"
   ]
  },
  {
   "cell_type": "code",
   "execution_count": null,
   "id": "61751d01-ef46-4dc7-b610-9cdbfa98e7db",
   "metadata": {},
   "outputs": [],
   "source": [
    "new_code2 = parse_response(new_alg_str=response2.text)\n",
    "response2.text"
   ]
  },
  {
   "cell_type": "code",
   "execution_count": null,
   "id": "6df05539-507e-4c79-8201-6a390bf5e0c2",
   "metadata": {},
   "outputs": [],
   "source": [
    "run_algorithm(new_code2)"
   ]
  },
  {
   "cell_type": "code",
   "execution_count": null,
   "id": "4accbfa3-494f-4a59-8de7-70bf0e8d54a4",
   "metadata": {},
   "outputs": [],
   "source": []
  },
  {
   "cell_type": "code",
   "execution_count": 7,
   "id": "5a6aa1fd-59e8-4649-8ced-4c6bb50bcb7c",
   "metadata": {},
   "outputs": [
    {
     "name": "stdout",
     "output_type": "stream",
     "text": [
      "1. Optimize a Python function that performs matrix factorization using the singular value decomposition (SVD) method to reduce its computational complexity.\n",
      "\n",
      "\n",
      "2. Update a Python script that uses the old `numpy.linalg.svd()` function for SVD to use the new `scipy.linalg.svd()` function, which provides more options and is more efficient for large matrices.\n",
      "\n",
      "\n",
      "3. Refactor a Python method that calculates the Frobenius norm of a matrix to improve its readability and maintainability.\n",
      "\n",
      "\n",
      "4. Optimize a Python program that performs non-negative matrix factorization (NMF) using the multiplicative update rules to improve its convergence speed.\n",
      "\n",
      "\n",
      "5. Update a Python script that uses the old `sklearn.decomposition.NMF` module for NMF to use the new `scipy.sparse.linalg.svds` function, which is more efficient for sparse matrices.\n",
      "\n",
      "\n",
      "6. Refactor a Python method that calculates the trace of a matrix to make it more robust and efficient for large matrices.\n",
      "\n",
      "\n",
      "7. Optimize a Python program that performs matrix completion (matrix imputation) using the nuclear norm minimization method to reduce its computational cost.\n",
      "\n",
      "\n",
      "8. Update a Python script that uses the old `cvxpy` module for matrix completion to use the new `numpy.linalg.matrix_rank` function, which is more efficient for low-rank matrices.\n",
      "\n",
      "\n",
      "9. Refactor a Python method that calculates the eigenvalues and eigenvectors of a matrix to improve its numerical stability and accuracy.\n",
      "\n",
      "\n",
      "10. Optimize a Python program that performs principal component analysis (PCA) using the eigendecomposition method to make it more efficient for large datasets.\n",
      "\n",
      "\n",
      "11. Update a Python script that uses the old `scipy.linalg.eigh()` function for PCA to use the new `numpy.linalg.eig()` function, which is more efficient for symmetric matrices.\n",
      "\n",
      "\n",
      "12. Refactor a Python method that calculates the determinant of a matrix to make it more efficient and numerically stable for large matrices.\n",
      "\n",
      "\n",
      "13. Optimize a Python program that performs sparse matrix factorization using the coordinate descent method to improve its convergence rate.\n",
      "\n",
      "\n",
      "14. Update a Python script that uses the old `scipy.sparse.linalg.lsqr()` function for sparse matrix factorization to use the new `scipy.sparse.linalg.cg()` function, which is more efficient for large sparse matrices.\n",
      "\n",
      "\n",
      "15. Refactor a Python method that calculates the Moore-Penrose pseudoinverse of a matrix to improve its accuracy and efficiency.\n",
      "\n",
      "\n",
      "16. Optimize a Python program that performs low-rank matrix approximation using the randomized SVD method to reduce its computational complexity.\n",
      "\n",
      "\n",
      "17. Update a Python script that uses the old `randomized_svd()` function from the `scipy.linalg` module for low-rank matrix approximation to use the new `truncated_svd()` function, which is more efficient and provides more options.\n",
      "\n",
      "\n",
      "18. Refactor a Python method that calculates the matrix exponential using the Padé approximation method to improve its accuracy and efficiency.\n",
      "\n",
      "\n",
      "19. Optimize a Python program that performs matrix multiplication using the Strassen algorithm to improve its performance for large matrices.\n",
      "\n",
      "\n",
      "20. Update a Python script that uses the old `numpy.dot()` function for matrix multiplication to use the new `numpy.matmul()` function, which is more efficient and provides more options.\n"
     ]
    }
   ],
   "source": [
    "response_test = chat.send_message(\"Give me 20 prompts I can submit to you for optimizing, updating, being creative with a snippet of python code for matrix factorization.\")\n",
    "print(response_test.text)"
   ]
  },
  {
   "cell_type": "code",
   "execution_count": 8,
   "id": "19ad11d1-56d4-4b22-a18e-03718da51f86",
   "metadata": {},
   "outputs": [
    {
     "data": {
      "text/plain": [
       "['1. Optimize a Python function that performs matrix factorization using the singular value decomposition (SVD) method to reduce its computational complexity.',\n",
       " '',\n",
       " '',\n",
       " '2. Update a Python script that uses the old `numpy.linalg.svd()` function for SVD to use the new `scipy.linalg.svd()` function, which provides more options and is more efficient for large matrices.',\n",
       " '',\n",
       " '',\n",
       " '3. Refactor a Python method that calculates the Frobenius norm of a matrix to improve its readability and maintainability.',\n",
       " '',\n",
       " '',\n",
       " '4. Optimize a Python program that performs non-negative matrix factorization (NMF) using the multiplicative update rules to improve its convergence speed.',\n",
       " '',\n",
       " '',\n",
       " '5. Update a Python script that uses the old `sklearn.decomposition.NMF` module for NMF to use the new `scipy.sparse.linalg.svds` function, which is more efficient for sparse matrices.',\n",
       " '',\n",
       " '',\n",
       " '6. Refactor a Python method that calculates the trace of a matrix to make it more robust and efficient for large matrices.',\n",
       " '',\n",
       " '',\n",
       " '7. Optimize a Python program that performs matrix completion (matrix imputation) using the nuclear norm minimization method to reduce its computational cost.',\n",
       " '',\n",
       " '',\n",
       " '8. Update a Python script that uses the old `cvxpy` module for matrix completion to use the new `numpy.linalg.matrix_rank` function, which is more efficient for low-rank matrices.',\n",
       " '',\n",
       " '',\n",
       " '9. Refactor a Python method that calculates the eigenvalues and eigenvectors of a matrix to improve its numerical stability and accuracy.',\n",
       " '',\n",
       " '',\n",
       " '10. Optimize a Python program that performs principal component analysis (PCA) using the eigendecomposition method to make it more efficient for large datasets.',\n",
       " '',\n",
       " '',\n",
       " '11. Update a Python script that uses the old `scipy.linalg.eigh()` function for PCA to use the new `numpy.linalg.eig()` function, which is more efficient for symmetric matrices.',\n",
       " '',\n",
       " '',\n",
       " '12. Refactor a Python method that calculates the determinant of a matrix to make it more efficient and numerically stable for large matrices.',\n",
       " '',\n",
       " '',\n",
       " '13. Optimize a Python program that performs sparse matrix factorization using the coordinate descent method to improve its convergence rate.',\n",
       " '',\n",
       " '',\n",
       " '14. Update a Python script that uses the old `scipy.sparse.linalg.lsqr()` function for sparse matrix factorization to use the new `scipy.sparse.linalg.cg()` function, which is more efficient for large sparse matrices.',\n",
       " '',\n",
       " '',\n",
       " '15. Refactor a Python method that calculates the Moore-Penrose pseudoinverse of a matrix to improve its accuracy and efficiency.',\n",
       " '',\n",
       " '',\n",
       " '16. Optimize a Python program that performs low-rank matrix approximation using the randomized SVD method to reduce its computational complexity.',\n",
       " '',\n",
       " '',\n",
       " '17. Update a Python script that uses the old `randomized_svd()` function from the `scipy.linalg` module for low-rank matrix approximation to use the new `truncated_svd()` function, which is more efficient and provides more options.',\n",
       " '',\n",
       " '',\n",
       " '18. Refactor a Python method that calculates the matrix exponential using the Padé approximation method to improve its accuracy and efficiency.',\n",
       " '',\n",
       " '',\n",
       " '19. Optimize a Python program that performs matrix multiplication using the Strassen algorithm to improve its performance for large matrices.',\n",
       " '',\n",
       " '',\n",
       " '20. Update a Python script that uses the old `numpy.dot()` function for matrix multiplication to use the new `numpy.matmul()` function, which is more efficient and provides more options.']"
      ]
     },
     "execution_count": 8,
     "metadata": {},
     "output_type": "execute_result"
    }
   ],
   "source": [
    "prompts = response_test.text.split(\"\\n\")\n",
    "prompts"
   ]
  },
  {
   "cell_type": "code",
   "execution_count": null,
   "id": "141f433f-122b-4d9c-94d5-b9e9e18d77f0",
   "metadata": {},
   "outputs": [],
   "source": []
  }
 ],
 "metadata": {
  "kernelspec": {
   "display_name": "Python 3 (ipykernel)",
   "language": "python",
   "name": "python3"
  },
  "language_info": {
   "codemirror_mode": {
    "name": "ipython",
    "version": 3
   },
   "file_extension": ".py",
   "mimetype": "text/x-python",
   "name": "python",
   "nbconvert_exporter": "python",
   "pygments_lexer": "ipython3",
   "version": "3.11.3"
  }
 },
 "nbformat": 4,
 "nbformat_minor": 5
}
