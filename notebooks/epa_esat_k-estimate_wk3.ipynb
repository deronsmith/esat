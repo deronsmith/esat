{
 "cells": [
  {
   "cell_type": "markdown",
   "id": "5686853f-4655-4e79-af04-fe24aac1756e",
   "metadata": {},
   "source": [
    "## ESAT K Estimation Workflow 3 - Input Perturbation Model Evaluation\n",
    "\n",
    "This notebook implements an input perturbation workflow for model evaluation and testing for k-estimate metrics."
   ]
  },
  {
   "cell_type": "markdown",
   "id": "206ac55f-9259-4ce1-b87e-3302d2ed00f9",
   "metadata": {},
   "source": [
    "#### Code Imports"
   ]
  },
  {
   "cell_type": "code",
   "execution_count": 1,
   "id": "c9de6b9e-89a5-4db8-94d4-2226605d9ae6",
   "metadata": {},
   "outputs": [],
   "source": [
    "import time\n",
    "import copy\n",
    "import numpy as np\n",
    "import pandas as pd\n",
    "import plotly.graph_objects as go\n",
    "\n",
    "from plotly.subplots import make_subplots\n",
    "from esat.data.datahandler import DataHandler\n",
    "from esat.model.sa import SA\n",
    "from esat.model.batch_sa import BatchSA\n",
    "from esat.data.analysis import ModelAnalysis, BatchAnalysis\n",
    "from esat.error.bootstrap import Bootstrap\n",
    "from esat_eval.simulator import Simulator\n",
    "from esat_eval.factor_comparison import FactorCompare"
   ]
  },
  {
   "cell_type": "code",
   "execution_count": 2,
   "id": "47e80dbc-702b-4fca-b800-0660033a251d",
   "metadata": {},
   "outputs": [],
   "source": [
    "# Synethic dataset parameter value ranges\n",
    "syn_factors_min = 3\n",
    "syn_factors_max = 8\n",
    "\n",
    "syn_features_min = 15\n",
    "syn_features_max = 45\n",
    "\n",
    "syn_samples_min = 200\n",
    "syn_samples_max = 1000\n",
    "\n",
    "outliers = True\n",
    "outliers_p_min = 0.05\n",
    "outliers_p_max = 0.1\n",
    "outliers_mag_min = 1.1\n",
    "outliers_mag_max = 2\n",
    "\n",
    "noise_mean_min = 0.05\n",
    "noise_mean_max = 0.15\n",
    "noise_scale = 0.01\n",
    "\n",
    "uncertainty_mean_min = 0.05\n",
    "uncertainty_mean_max = 0.15\n",
    "uncertainty_scale = 0.01\n",
    "\n",
    "contr_curve_min_range = [0.0, 1.0]\n",
    "contr_curve_max_range = [2.0, 5.0]\n",
    "contr_curve_scale_range = [0.1, 0.5]\n",
    "\n",
    "random_seed = 337\n",
    "k_coef = 0.75"
   ]
  },
  {
   "cell_type": "code",
   "execution_count": 3,
   "id": "a2408991-45a6-4a5c-ac14-388f79cbab49",
   "metadata": {},
   "outputs": [],
   "source": [
    "rng = np.random.default_rng(seed=random_seed)"
   ]
  },
  {
   "cell_type": "markdown",
   "id": "0e045f7a-8a9a-4316-b60e-018935328241",
   "metadata": {},
   "source": []
  },
  {
   "cell_type": "code",
   "execution_count": 4,
   "id": "372a6a6a-612a-4d00-a3ae-be12aecb0e60",
   "metadata": {},
   "outputs": [],
   "source": [
    "# Initialize the simulator with the above parameters\n",
    "def generate_synthetic_data(true_factor):\n",
    "    n_features = rng.integers(low=syn_features_min, high=syn_features_max, size=1)[0]\n",
    "    n_samples = rng.integers(low=syn_samples_min, high=syn_samples_max, size=1)[0]\n",
    "    i_outlier_p = round(rng.uniform(low=outliers_p_min, high=outliers_p_max, size=1)[0], 2)\n",
    "    i_outlier_mag = round(rng.uniform(low=outliers_mag_min, high=outliers_mag_max, size=1)[0], 2)\n",
    "    contribution_max = round(rng.uniform(low=1.0, high=10.0, size=1)[0], 2)\n",
    "    print(f\"True Factors: {true_factor}, Features: {n_features}, Samples: {n_samples}, Outliers %: {i_outlier_p}, Outliers Magnitude: {i_outlier_mag}, Contribution Max: {contribution_max}\")\n",
    "    simulator = Simulator(seed=rng.integers(low=0, high=10, size=1)[0],\n",
    "                          factors_n=true_factor,\n",
    "                          features_n=n_features,\n",
    "                          samples_n=n_samples,\n",
    "                          outliers=outliers,\n",
    "                          outlier_p=i_outlier_p,\n",
    "                          outlier_mag=i_outlier_mag,\n",
    "                          contribution_max=contribution_max,\n",
    "                          noise_mean_min=noise_mean_min,\n",
    "                          noise_mean_max=noise_mean_max,\n",
    "                          noise_scale=noise_scale,\n",
    "                          uncertainty_mean_min=uncertainty_mean_min,\n",
    "                          uncertainty_mean_max=uncertainty_mean_max,\n",
    "                          uncertainty_scale=uncertainty_scale,\n",
    "                          verbose=False\n",
    "                         )\n",
    "    curved_factors_count = rng.integers(low=0, high=true_factor, size=1)[0]\n",
    "    curved_factor_list = rng.choice(list(range(true_factor)), size=curved_factors_count, replace=False)\n",
    "    for c_i in curved_factor_list:\n",
    "        # parameters not used by the curve type are ignored\n",
    "        i_curve_type = rng.choice(['uniform', 'decreasing', 'increasing', 'logistic', 'periodic'], size=1)[0]\n",
    "        i_curve_min = rng.uniform(low=contr_curve_min_range[0], high=contr_curve_min_range[1], size=1)[0]\n",
    "        i_curve_max = rng.uniform(low=contr_curve_max_range[0], high=contr_curve_max_range[1], size=1)[0]\n",
    "        i_curve_scale = rng.uniform(low=contr_curve_scale_range[0], high=contr_curve_scale_range[1], size=1)[0]\n",
    "        i_curve_frequency = rng.uniform(low=0.1, high=0.9, size=1)[0]\n",
    "        \n",
    "        # To keep all as uniform comment out the line below\n",
    "        # simulator.update_contribution(factor_i=c_i, curve_type=i_curve_type, scale=i_curve_scale, frequency=i_curve_frequency, minimum=i_curve_min, maximum=i_curve_max)\n",
    "    \n",
    "    syn_input_df, syn_uncertainty_df = simulator.get_data()\n",
    "    data_handler = DataHandler.load_dataframe(input_df=syn_input_df, uncertainty_df=syn_uncertainty_df)\n",
    "    data_handler.metrics\n",
    "    V, U = data_handler.get_data()\n",
    "    return V, U\n",
    "\n",
    "\n",
    "def run_perturbed(v, u, ifactors, random_seed, perturb_p = 0.25, perturb_v = 0.05, sa_model=None, models=10, max_iter=10000, converge_n=20, converge_delta=0.1, threshold: float=0.9):\n",
    "    # Runs a perturbed input batch instance\n",
    "    # Steps:\n",
    "    # 1. Create a SA instance using the provided iV, iU and true_k for the data and factor count (if one is not provided).\n",
    "    # 2. Using a general predefined % value (perturb_v) change and % instance change (perturb_p) for the dataset, or by feature:\n",
    "    #    a. Select perturb_p number of indecies from the input data matrix and change those values +/- up to perturb_v\n",
    "    # 3. With the perturbed dataset rerun the model using the base model H matrix.\n",
    "    # 4. Evaluate how much the profiles changes, mapping the profiles and calculating r2. A perturbed result will have % of profiles that didn't map, and the range of values for those profiles that did.\n",
    "    #    a. The metrics will be used to determine how much the solution profiles change with the perturbed datasets.\n",
    "    #    b. For each perturbed solution, a single metric of average r2 for the mapped profiles and the number of profiles that mapped.\n",
    "    # 5. Repeat for n number of models\n",
    "\n",
    "    # step 1\n",
    "    if sa_model is None:\n",
    "        sa_model = SA(V=v, U=u, factors=ifactors, seed=random_seed, verbose=False)\n",
    "        sa_model.initialize()\n",
    "        sa_model.train(max_iter=max_iter, converge_delta=converge_delta, converge_n=converge_n)\n",
    "\n",
    "    factor_mapping_p = []\n",
    "    factor_coef_mean = []\n",
    "    for i in range(models):\n",
    "        i_mask = rng.random(size=v.shape) > perturb_p\n",
    "        v_matrix = rng.uniform(low=0, high=perturb_v, size=v.shape)\n",
    "        pn_matrix = rng.random(size=v.shape)\n",
    "        pn_matrix[pn_matrix > 0.5] = 1.0\n",
    "        pn_matrix[pn_matrix <= 0.5] = -1.0\n",
    "        \n",
    "        i_V = copy.copy(v)\n",
    "        # for the cells where i_mask is True, the value of i_V is equal to i_V +/- v_matrix * i_V\n",
    "        i_V[i_mask] =  i_V[i_mask] + (pn_matrix[i_mask] * v_matrix[i_mask] * i_V[i_mask])\n",
    "        i_V[i_V < 0.0] = 1e-12\n",
    "\n",
    "        i_sa_model = SA(i_V, U=u, factors=ifactors, seed=random_seed, verbose=False)\n",
    "        i_sa_model.initialize(H=sa_model.H, W=sa_model.W)\n",
    "        i_sa_model.train(max_iter=max_iter, converge_delta=converge_delta, converge_n=converge_n)\n",
    "\n",
    "        i_mapping = []\n",
    "        coef_mapping = []\n",
    "        for k in range(ifactors):\n",
    "            base_factor = sa_model.H[k]\n",
    "            k_factor = i_sa_model.H[k]\n",
    "            base_k_correlation = FactorCompare.calculate_correlation(factor1=base_factor, factor2=k_factor)\n",
    "            coef_mapping.append(base_k_correlation)\n",
    "            if base_k_correlation >= threshold:\n",
    "                i_mapping.append(1)\n",
    "            else:\n",
    "                i_mapping.append(0)\n",
    "        factor_mapping_p.append(np.sum(i_mapping)/ifactors)\n",
    "        factor_coef_mean.append(np.round(np.mean(coef_mapping), 4))\n",
    "    results = {\n",
    "        \"k\": ifactors,\n",
    "        \"seed\": random_seed,\n",
    "        \"perturb %\": perturb_p,\n",
    "        \"perturb v\": perturb_v,\n",
    "        \"factor_mapping\": factor_mapping_p,\n",
    "        \"factor_coef_mean\": factor_coef_mean\n",
    "    }\n",
    "    print(f\"Factor n: {ifactors}, Mapping %: {np.round(np.mean(factor_mapping_p) * 100,2)} %, Mean R2: {np.round(np.mean(factor_coef_mean), 4)}\")\n",
    "    return results\n",
    "\n",
    "\n",
    "def run_batch_perturb(k, iV, iU, min_k: int = 2, max_k: int = 10, perturb_p=0.25, perturb_v=0.05, models: int = 100, max_iter=10000, converge_n=20, converge_delta=0.1, threshold: float = 0.9):\n",
    "    results = {\n",
    "        \"true_k\": k,\n",
    "        \"models\": models,\n",
    "        \"min_k\": min_k,\n",
    "        \"max_k\": max_k,\n",
    "        \"k_results\": []\n",
    "    }\n",
    "    for ifactors in range(min_k, max_k+1):\n",
    "        i_seed = rng.integers(low=0, high=1e10, endpoint=True, size=1)[0]\n",
    "        i_result = run_perturbed(v=iV, u=iU, ifactors=ifactors, random_seed=i_seed, perturb_p=perturb_p, perturb_v=perturb_v, models=models, max_iter=max_iter, converge_n=converge_n, converge_delta=converge_delta, threshold=threshold)\n",
    "        results[\"k_results\"].append(i_result)\n",
    "    return results\n",
    "    "
   ]
  },
  {
   "cell_type": "code",
   "execution_count": 8,
   "id": "1bf75aee-32ec-49d5-afc9-2dc5760ede24",
   "metadata": {},
   "outputs": [
    {
     "name": "stdout",
     "output_type": "stream",
     "text": [
      "True Factors: 3, Features: 42, Samples: 493, Outliers %: 0.07, Outliers Magnitude: 1.47, Contribution Max: 5.48\n",
      "Factor n: 2, Mapping %: 100.0 %, Mean R2: 1.0\n",
      "Factor n: 3, Mapping %: 100.0 %, Mean R2: 1.0\n",
      "Factor n: 4, Mapping %: 100.0 %, Mean R2: 0.9777\n",
      "Factor n: 5, Mapping %: 80.0 %, Mean R2: 0.8971\n",
      "Factor n: 6, Mapping %: 100.0 %, Mean R2: 0.9867\n",
      "Factor n: 7, Mapping %: 100.0 %, Mean R2: 0.9857\n",
      "Factor n: 8, Mapping %: 100.0 %, Mean R2: 0.9802\n",
      "Factor n: 9, Mapping %: 100.0 %, Mean R2: 0.9778\n",
      "Factor n: 10, Mapping %: 100.0 %, Mean R2: 0.9881\n",
      "Factor n: 11, Mapping %: 63.64 %, Mean R2: 0.8757\n",
      "Factor n: 12, Mapping %: 75.0 %, Mean R2: 0.922\n",
      "Factor n: 13, Mapping %: 76.92 %, Mean R2: 0.9515\n",
      "Factor n: 14, Mapping %: 85.71 %, Mean R2: 0.9613\n",
      "CPU times: total: 32min 47s\n",
      "Wall time: 38min 23s\n"
     ]
    }
   ],
   "source": [
    "%%time\n",
    "true_k = 3\n",
    "iV, iU = generate_synthetic_data(true_factor=true_k)\n",
    "\n",
    "n_models = 20\n",
    "threshold = 0.9\n",
    "min_factors = 2\n",
    "max_factors = 14\n",
    "\n",
    "perturb_p = 1.0\n",
    "perturb_v = 0.25\n",
    "\n",
    "batch_estimate = run_batch_perturb(k=true_k, iV=iV, iU=iU, perturb_p=perturb_p, perturb_v=perturb_v, min_k=min_factors, max_k=max_factors, models=n_models, max_iter=10000, converge_n=20, converge_delta=0.1, threshold=threshold)"
   ]
  },
  {
   "cell_type": "code",
   "execution_count": 9,
   "id": "5c7939ea-d6ce-4c9c-8c3d-9aeec7d87ff3",
   "metadata": {},
   "outputs": [],
   "source": [
    "factor_labels = [f\"Factor {i}\" for i in range(min_factors, max_factors+1)]\n",
    "mapping_mean = []\n",
    "coef_mean = []\n",
    "for i in range(max_factors-min_factors+1):\n",
    "    i_fm = batch_estimate[\"k_results\"][i][\"factor_mapping\"]\n",
    "    i_cm = batch_estimate[\"k_results\"][i][\"factor_coef_mean\"]\n",
    "    mapping_mean.append(i_fm)\n",
    "    coef_mean.append(i_cm)"
   ]
  },
  {
   "cell_type": "code",
   "execution_count": null,
   "id": "1628b9e7-70ec-4ae2-9ee5-98e05e1f72de",
   "metadata": {},
   "outputs": [],
   "source": []
  },
  {
   "cell_type": "code",
   "execution_count": 10,
   "id": "882b8c85-86b3-4957-a694-ed0681e55011",
   "metadata": {},
   "outputs": [
    {
     "data": {
      "application/vnd.plotly.v1+json": {
       "config": {
        "plotlyServerURL": "https://plot.ly"
       },
       "data": [
        {
         "name": "Factor 2",
         "type": "box",
         "xaxis": "x",
         "y": [
          1,
          1,
          1,
          1,
          1,
          1,
          1,
          1,
          1,
          1,
          1,
          1,
          1,
          1,
          1,
          1,
          1,
          1,
          1,
          1
         ],
         "yaxis": "y"
        },
        {
         "name": "Factor 3",
         "type": "box",
         "xaxis": "x",
         "y": [
          1,
          1,
          1,
          1,
          1,
          1,
          1,
          1,
          1,
          1,
          1,
          1,
          1,
          1,
          1,
          1,
          1,
          1,
          1,
          1
         ],
         "yaxis": "y"
        },
        {
         "name": "Factor 4",
         "type": "box",
         "xaxis": "x",
         "y": [
          0.9777,
          0.9777,
          0.9777,
          0.9777,
          0.9777,
          0.9777,
          0.9777,
          0.9777,
          0.9777,
          0.9777,
          0.9777,
          0.9777,
          0.9777,
          0.9777,
          0.9777,
          0.9777,
          0.9777,
          0.9777,
          0.9777,
          0.9777
         ],
         "yaxis": "y"
        },
        {
         "name": "Factor 5",
         "type": "box",
         "xaxis": "x",
         "y": [
          0.8971,
          0.8971,
          0.8971,
          0.8971,
          0.8971,
          0.8971,
          0.8971,
          0.8971,
          0.8971,
          0.8971,
          0.8971,
          0.8971,
          0.8971,
          0.8971,
          0.8971,
          0.8971,
          0.8971,
          0.8971,
          0.8971,
          0.8971
         ],
         "yaxis": "y"
        },
        {
         "name": "Factor 6",
         "type": "box",
         "xaxis": "x",
         "y": [
          0.9867,
          0.9867,
          0.9867,
          0.9867,
          0.9867,
          0.9867,
          0.9867,
          0.9867,
          0.9867,
          0.9867,
          0.9867,
          0.9867,
          0.9867,
          0.9867,
          0.9867,
          0.9867,
          0.9867,
          0.9867,
          0.9867,
          0.9867
         ],
         "yaxis": "y"
        },
        {
         "name": "Factor 7",
         "type": "box",
         "xaxis": "x",
         "y": [
          0.9857,
          0.9857,
          0.9857,
          0.9857,
          0.9857,
          0.9857,
          0.9857,
          0.9857,
          0.9857,
          0.9857,
          0.9857,
          0.9857,
          0.9857,
          0.9857,
          0.9857,
          0.9857,
          0.9857,
          0.9857,
          0.9857,
          0.9857
         ],
         "yaxis": "y"
        },
        {
         "name": "Factor 8",
         "type": "box",
         "xaxis": "x",
         "y": [
          0.9802,
          0.9802,
          0.9802,
          0.9802,
          0.9802,
          0.9802,
          0.9802,
          0.9802,
          0.9802,
          0.9802,
          0.9802,
          0.9802,
          0.9802,
          0.9802,
          0.9802,
          0.9802,
          0.9802,
          0.9802,
          0.9802,
          0.9802
         ],
         "yaxis": "y"
        },
        {
         "name": "Factor 9",
         "type": "box",
         "xaxis": "x",
         "y": [
          0.9778,
          0.9778,
          0.9778,
          0.9778,
          0.9778,
          0.9778,
          0.9778,
          0.9778,
          0.9778,
          0.9778,
          0.9778,
          0.9778,
          0.9778,
          0.9778,
          0.9778,
          0.9778,
          0.9778,
          0.9778,
          0.9778,
          0.9778
         ],
         "yaxis": "y"
        },
        {
         "name": "Factor 10",
         "type": "box",
         "xaxis": "x",
         "y": [
          0.9881,
          0.9881,
          0.9881,
          0.9881,
          0.9881,
          0.9881,
          0.9881,
          0.9881,
          0.9881,
          0.9881,
          0.9881,
          0.9881,
          0.9881,
          0.9881,
          0.9881,
          0.9881,
          0.9881,
          0.9881,
          0.9881,
          0.9881
         ],
         "yaxis": "y"
        },
        {
         "name": "Factor 11",
         "type": "box",
         "xaxis": "x",
         "y": [
          0.8757,
          0.8757,
          0.8757,
          0.8757,
          0.8757,
          0.8757,
          0.8757,
          0.8757,
          0.8757,
          0.8757,
          0.8757,
          0.8757,
          0.8757,
          0.8757,
          0.8757,
          0.8757,
          0.8757,
          0.8757,
          0.8757,
          0.8757
         ],
         "yaxis": "y"
        },
        {
         "name": "Factor 12",
         "type": "box",
         "xaxis": "x",
         "y": [
          0.922,
          0.922,
          0.922,
          0.922,
          0.922,
          0.922,
          0.922,
          0.922,
          0.922,
          0.922,
          0.922,
          0.922,
          0.922,
          0.922,
          0.922,
          0.922,
          0.922,
          0.922,
          0.922,
          0.922
         ],
         "yaxis": "y"
        },
        {
         "name": "Factor 13",
         "type": "box",
         "xaxis": "x",
         "y": [
          0.9515,
          0.9515,
          0.9515,
          0.9515,
          0.9515,
          0.9515,
          0.9515,
          0.9515,
          0.9515,
          0.9515,
          0.9515,
          0.9515,
          0.9515,
          0.9515,
          0.9515,
          0.9515,
          0.9515,
          0.9515,
          0.9515,
          0.9515
         ],
         "yaxis": "y"
        },
        {
         "name": "Factor 14",
         "type": "box",
         "xaxis": "x",
         "y": [
          0.9613,
          0.9613,
          0.9613,
          0.9613,
          0.9613,
          0.9613,
          0.9613,
          0.9613,
          0.9613,
          0.9613,
          0.9613,
          0.9613,
          0.9613,
          0.9613,
          0.9613,
          0.9613,
          0.9613,
          0.9613,
          0.9613,
          0.9613
         ],
         "yaxis": "y"
        },
        {
         "name": "Average % Mapped",
         "type": "scatter",
         "x": [
          "Factor 2",
          "Factor 3",
          "Factor 4",
          "Factor 5",
          "Factor 6",
          "Factor 7",
          "Factor 8",
          "Factor 9",
          "Factor 10",
          "Factor 11",
          "Factor 12",
          "Factor 13",
          "Factor 14"
         ],
         "xaxis": "x",
         "y": [
          100,
          100,
          100,
          80.00000000000001,
          100,
          100,
          100,
          100,
          100,
          63.63636363636365,
          75,
          76.92307692307693,
          85.71428571428571
         ],
         "yaxis": "y2"
        }
       ],
       "layout": {
        "height": 800,
        "template": {
         "data": {
          "bar": [
           {
            "error_x": {
             "color": "#2a3f5f"
            },
            "error_y": {
             "color": "#2a3f5f"
            },
            "marker": {
             "line": {
              "color": "#E5ECF6",
              "width": 0.5
             },
             "pattern": {
              "fillmode": "overlay",
              "size": 10,
              "solidity": 0.2
             }
            },
            "type": "bar"
           }
          ],
          "barpolar": [
           {
            "marker": {
             "line": {
              "color": "#E5ECF6",
              "width": 0.5
             },
             "pattern": {
              "fillmode": "overlay",
              "size": 10,
              "solidity": 0.2
             }
            },
            "type": "barpolar"
           }
          ],
          "carpet": [
           {
            "aaxis": {
             "endlinecolor": "#2a3f5f",
             "gridcolor": "white",
             "linecolor": "white",
             "minorgridcolor": "white",
             "startlinecolor": "#2a3f5f"
            },
            "baxis": {
             "endlinecolor": "#2a3f5f",
             "gridcolor": "white",
             "linecolor": "white",
             "minorgridcolor": "white",
             "startlinecolor": "#2a3f5f"
            },
            "type": "carpet"
           }
          ],
          "choropleth": [
           {
            "colorbar": {
             "outlinewidth": 0,
             "ticks": ""
            },
            "type": "choropleth"
           }
          ],
          "contour": [
           {
            "colorbar": {
             "outlinewidth": 0,
             "ticks": ""
            },
            "colorscale": [
             [
              0,
              "#0d0887"
             ],
             [
              0.1111111111111111,
              "#46039f"
             ],
             [
              0.2222222222222222,
              "#7201a8"
             ],
             [
              0.3333333333333333,
              "#9c179e"
             ],
             [
              0.4444444444444444,
              "#bd3786"
             ],
             [
              0.5555555555555556,
              "#d8576b"
             ],
             [
              0.6666666666666666,
              "#ed7953"
             ],
             [
              0.7777777777777778,
              "#fb9f3a"
             ],
             [
              0.8888888888888888,
              "#fdca26"
             ],
             [
              1,
              "#f0f921"
             ]
            ],
            "type": "contour"
           }
          ],
          "contourcarpet": [
           {
            "colorbar": {
             "outlinewidth": 0,
             "ticks": ""
            },
            "type": "contourcarpet"
           }
          ],
          "heatmap": [
           {
            "colorbar": {
             "outlinewidth": 0,
             "ticks": ""
            },
            "colorscale": [
             [
              0,
              "#0d0887"
             ],
             [
              0.1111111111111111,
              "#46039f"
             ],
             [
              0.2222222222222222,
              "#7201a8"
             ],
             [
              0.3333333333333333,
              "#9c179e"
             ],
             [
              0.4444444444444444,
              "#bd3786"
             ],
             [
              0.5555555555555556,
              "#d8576b"
             ],
             [
              0.6666666666666666,
              "#ed7953"
             ],
             [
              0.7777777777777778,
              "#fb9f3a"
             ],
             [
              0.8888888888888888,
              "#fdca26"
             ],
             [
              1,
              "#f0f921"
             ]
            ],
            "type": "heatmap"
           }
          ],
          "heatmapgl": [
           {
            "colorbar": {
             "outlinewidth": 0,
             "ticks": ""
            },
            "colorscale": [
             [
              0,
              "#0d0887"
             ],
             [
              0.1111111111111111,
              "#46039f"
             ],
             [
              0.2222222222222222,
              "#7201a8"
             ],
             [
              0.3333333333333333,
              "#9c179e"
             ],
             [
              0.4444444444444444,
              "#bd3786"
             ],
             [
              0.5555555555555556,
              "#d8576b"
             ],
             [
              0.6666666666666666,
              "#ed7953"
             ],
             [
              0.7777777777777778,
              "#fb9f3a"
             ],
             [
              0.8888888888888888,
              "#fdca26"
             ],
             [
              1,
              "#f0f921"
             ]
            ],
            "type": "heatmapgl"
           }
          ],
          "histogram": [
           {
            "marker": {
             "pattern": {
              "fillmode": "overlay",
              "size": 10,
              "solidity": 0.2
             }
            },
            "type": "histogram"
           }
          ],
          "histogram2d": [
           {
            "colorbar": {
             "outlinewidth": 0,
             "ticks": ""
            },
            "colorscale": [
             [
              0,
              "#0d0887"
             ],
             [
              0.1111111111111111,
              "#46039f"
             ],
             [
              0.2222222222222222,
              "#7201a8"
             ],
             [
              0.3333333333333333,
              "#9c179e"
             ],
             [
              0.4444444444444444,
              "#bd3786"
             ],
             [
              0.5555555555555556,
              "#d8576b"
             ],
             [
              0.6666666666666666,
              "#ed7953"
             ],
             [
              0.7777777777777778,
              "#fb9f3a"
             ],
             [
              0.8888888888888888,
              "#fdca26"
             ],
             [
              1,
              "#f0f921"
             ]
            ],
            "type": "histogram2d"
           }
          ],
          "histogram2dcontour": [
           {
            "colorbar": {
             "outlinewidth": 0,
             "ticks": ""
            },
            "colorscale": [
             [
              0,
              "#0d0887"
             ],
             [
              0.1111111111111111,
              "#46039f"
             ],
             [
              0.2222222222222222,
              "#7201a8"
             ],
             [
              0.3333333333333333,
              "#9c179e"
             ],
             [
              0.4444444444444444,
              "#bd3786"
             ],
             [
              0.5555555555555556,
              "#d8576b"
             ],
             [
              0.6666666666666666,
              "#ed7953"
             ],
             [
              0.7777777777777778,
              "#fb9f3a"
             ],
             [
              0.8888888888888888,
              "#fdca26"
             ],
             [
              1,
              "#f0f921"
             ]
            ],
            "type": "histogram2dcontour"
           }
          ],
          "mesh3d": [
           {
            "colorbar": {
             "outlinewidth": 0,
             "ticks": ""
            },
            "type": "mesh3d"
           }
          ],
          "parcoords": [
           {
            "line": {
             "colorbar": {
              "outlinewidth": 0,
              "ticks": ""
             }
            },
            "type": "parcoords"
           }
          ],
          "pie": [
           {
            "automargin": true,
            "type": "pie"
           }
          ],
          "scatter": [
           {
            "fillpattern": {
             "fillmode": "overlay",
             "size": 10,
             "solidity": 0.2
            },
            "type": "scatter"
           }
          ],
          "scatter3d": [
           {
            "line": {
             "colorbar": {
              "outlinewidth": 0,
              "ticks": ""
             }
            },
            "marker": {
             "colorbar": {
              "outlinewidth": 0,
              "ticks": ""
             }
            },
            "type": "scatter3d"
           }
          ],
          "scattercarpet": [
           {
            "marker": {
             "colorbar": {
              "outlinewidth": 0,
              "ticks": ""
             }
            },
            "type": "scattercarpet"
           }
          ],
          "scattergeo": [
           {
            "marker": {
             "colorbar": {
              "outlinewidth": 0,
              "ticks": ""
             }
            },
            "type": "scattergeo"
           }
          ],
          "scattergl": [
           {
            "marker": {
             "colorbar": {
              "outlinewidth": 0,
              "ticks": ""
             }
            },
            "type": "scattergl"
           }
          ],
          "scattermapbox": [
           {
            "marker": {
             "colorbar": {
              "outlinewidth": 0,
              "ticks": ""
             }
            },
            "type": "scattermapbox"
           }
          ],
          "scatterpolar": [
           {
            "marker": {
             "colorbar": {
              "outlinewidth": 0,
              "ticks": ""
             }
            },
            "type": "scatterpolar"
           }
          ],
          "scatterpolargl": [
           {
            "marker": {
             "colorbar": {
              "outlinewidth": 0,
              "ticks": ""
             }
            },
            "type": "scatterpolargl"
           }
          ],
          "scatterternary": [
           {
            "marker": {
             "colorbar": {
              "outlinewidth": 0,
              "ticks": ""
             }
            },
            "type": "scatterternary"
           }
          ],
          "surface": [
           {
            "colorbar": {
             "outlinewidth": 0,
             "ticks": ""
            },
            "colorscale": [
             [
              0,
              "#0d0887"
             ],
             [
              0.1111111111111111,
              "#46039f"
             ],
             [
              0.2222222222222222,
              "#7201a8"
             ],
             [
              0.3333333333333333,
              "#9c179e"
             ],
             [
              0.4444444444444444,
              "#bd3786"
             ],
             [
              0.5555555555555556,
              "#d8576b"
             ],
             [
              0.6666666666666666,
              "#ed7953"
             ],
             [
              0.7777777777777778,
              "#fb9f3a"
             ],
             [
              0.8888888888888888,
              "#fdca26"
             ],
             [
              1,
              "#f0f921"
             ]
            ],
            "type": "surface"
           }
          ],
          "table": [
           {
            "cells": {
             "fill": {
              "color": "#EBF0F8"
             },
             "line": {
              "color": "white"
             }
            },
            "header": {
             "fill": {
              "color": "#C8D4E3"
             },
             "line": {
              "color": "white"
             }
            },
            "type": "table"
           }
          ]
         },
         "layout": {
          "annotationdefaults": {
           "arrowcolor": "#2a3f5f",
           "arrowhead": 0,
           "arrowwidth": 1
          },
          "autotypenumbers": "strict",
          "coloraxis": {
           "colorbar": {
            "outlinewidth": 0,
            "ticks": ""
           }
          },
          "colorscale": {
           "diverging": [
            [
             0,
             "#8e0152"
            ],
            [
             0.1,
             "#c51b7d"
            ],
            [
             0.2,
             "#de77ae"
            ],
            [
             0.3,
             "#f1b6da"
            ],
            [
             0.4,
             "#fde0ef"
            ],
            [
             0.5,
             "#f7f7f7"
            ],
            [
             0.6,
             "#e6f5d0"
            ],
            [
             0.7,
             "#b8e186"
            ],
            [
             0.8,
             "#7fbc41"
            ],
            [
             0.9,
             "#4d9221"
            ],
            [
             1,
             "#276419"
            ]
           ],
           "sequential": [
            [
             0,
             "#0d0887"
            ],
            [
             0.1111111111111111,
             "#46039f"
            ],
            [
             0.2222222222222222,
             "#7201a8"
            ],
            [
             0.3333333333333333,
             "#9c179e"
            ],
            [
             0.4444444444444444,
             "#bd3786"
            ],
            [
             0.5555555555555556,
             "#d8576b"
            ],
            [
             0.6666666666666666,
             "#ed7953"
            ],
            [
             0.7777777777777778,
             "#fb9f3a"
            ],
            [
             0.8888888888888888,
             "#fdca26"
            ],
            [
             1,
             "#f0f921"
            ]
           ],
           "sequentialminus": [
            [
             0,
             "#0d0887"
            ],
            [
             0.1111111111111111,
             "#46039f"
            ],
            [
             0.2222222222222222,
             "#7201a8"
            ],
            [
             0.3333333333333333,
             "#9c179e"
            ],
            [
             0.4444444444444444,
             "#bd3786"
            ],
            [
             0.5555555555555556,
             "#d8576b"
            ],
            [
             0.6666666666666666,
             "#ed7953"
            ],
            [
             0.7777777777777778,
             "#fb9f3a"
            ],
            [
             0.8888888888888888,
             "#fdca26"
            ],
            [
             1,
             "#f0f921"
            ]
           ]
          },
          "colorway": [
           "#636efa",
           "#EF553B",
           "#00cc96",
           "#ab63fa",
           "#FFA15A",
           "#19d3f3",
           "#FF6692",
           "#B6E880",
           "#FF97FF",
           "#FECB52"
          ],
          "font": {
           "color": "#2a3f5f"
          },
          "geo": {
           "bgcolor": "white",
           "lakecolor": "white",
           "landcolor": "#E5ECF6",
           "showlakes": true,
           "showland": true,
           "subunitcolor": "white"
          },
          "hoverlabel": {
           "align": "left"
          },
          "hovermode": "closest",
          "mapbox": {
           "style": "light"
          },
          "paper_bgcolor": "white",
          "plot_bgcolor": "#E5ECF6",
          "polar": {
           "angularaxis": {
            "gridcolor": "white",
            "linecolor": "white",
            "ticks": ""
           },
           "bgcolor": "#E5ECF6",
           "radialaxis": {
            "gridcolor": "white",
            "linecolor": "white",
            "ticks": ""
           }
          },
          "scene": {
           "xaxis": {
            "backgroundcolor": "#E5ECF6",
            "gridcolor": "white",
            "gridwidth": 2,
            "linecolor": "white",
            "showbackground": true,
            "ticks": "",
            "zerolinecolor": "white"
           },
           "yaxis": {
            "backgroundcolor": "#E5ECF6",
            "gridcolor": "white",
            "gridwidth": 2,
            "linecolor": "white",
            "showbackground": true,
            "ticks": "",
            "zerolinecolor": "white"
           },
           "zaxis": {
            "backgroundcolor": "#E5ECF6",
            "gridcolor": "white",
            "gridwidth": 2,
            "linecolor": "white",
            "showbackground": true,
            "ticks": "",
            "zerolinecolor": "white"
           }
          },
          "shapedefaults": {
           "line": {
            "color": "#2a3f5f"
           }
          },
          "ternary": {
           "aaxis": {
            "gridcolor": "white",
            "linecolor": "white",
            "ticks": ""
           },
           "baxis": {
            "gridcolor": "white",
            "linecolor": "white",
            "ticks": ""
           },
           "bgcolor": "#E5ECF6",
           "caxis": {
            "gridcolor": "white",
            "linecolor": "white",
            "ticks": ""
           }
          },
          "title": {
           "x": 0.05
          },
          "xaxis": {
           "automargin": true,
           "gridcolor": "white",
           "linecolor": "white",
           "ticks": "",
           "title": {
            "standoff": 15
           },
           "zerolinecolor": "white",
           "zerolinewidth": 2
          },
          "yaxis": {
           "automargin": true,
           "gridcolor": "white",
           "linecolor": "white",
           "ticks": "",
           "title": {
            "standoff": 15
           },
           "zerolinecolor": "white",
           "zerolinewidth": 2
          }
         }
        },
        "title": {
         "text": "Input Perturbation Results"
        },
        "width": 1200,
        "xaxis": {
         "anchor": "y",
         "autorange": true,
         "domain": [
          0,
          0.94
         ],
         "range": [
          -0.7311786336365397,
          12.73117863363654
         ],
         "type": "category"
        },
        "yaxis": {
         "anchor": "x",
         "autorange": true,
         "domain": [
          0,
          1
         ],
         "range": [
          0.8687944444444444,
          1.0069055555555555
         ],
         "title": {
          "text": "R2"
         },
         "type": "linear"
        },
        "yaxis2": {
         "anchor": "x",
         "autorange": true,
         "overlaying": "y",
         "range": [
          61.340929733300314,
          102.29543390306333
         ],
         "side": "right",
         "title": {
          "text": "%"
         },
         "type": "linear"
        }
       }
      },
      "text/html": [
       "<div>                            <div id=\"be904256-e7e2-43ba-b61c-655ff5ad07ae\" class=\"plotly-graph-div\" style=\"height:800px; width:1200px;\"></div>            <script type=\"text/javascript\">                require([\"plotly\"], function(Plotly) {                    window.PLOTLYENV=window.PLOTLYENV || {};                                    if (document.getElementById(\"be904256-e7e2-43ba-b61c-655ff5ad07ae\")) {                    Plotly.newPlot(                        \"be904256-e7e2-43ba-b61c-655ff5ad07ae\",                        [{\"name\":\"Factor 2\",\"y\":[1.0,1.0,1.0,1.0,1.0,1.0,1.0,1.0,1.0,1.0,1.0,1.0,1.0,1.0,1.0,1.0,1.0,1.0,1.0,1.0],\"type\":\"box\",\"xaxis\":\"x\",\"yaxis\":\"y\"},{\"name\":\"Factor 3\",\"y\":[1.0,1.0,1.0,1.0,1.0,1.0,1.0,1.0,1.0,1.0,1.0,1.0,1.0,1.0,1.0,1.0,1.0,1.0,1.0,1.0],\"type\":\"box\",\"xaxis\":\"x\",\"yaxis\":\"y\"},{\"name\":\"Factor 4\",\"y\":[0.9777,0.9777,0.9777,0.9777,0.9777,0.9777,0.9777,0.9777,0.9777,0.9777,0.9777,0.9777,0.9777,0.9777,0.9777,0.9777,0.9777,0.9777,0.9777,0.9777],\"type\":\"box\",\"xaxis\":\"x\",\"yaxis\":\"y\"},{\"name\":\"Factor 5\",\"y\":[0.8971,0.8971,0.8971,0.8971,0.8971,0.8971,0.8971,0.8971,0.8971,0.8971,0.8971,0.8971,0.8971,0.8971,0.8971,0.8971,0.8971,0.8971,0.8971,0.8971],\"type\":\"box\",\"xaxis\":\"x\",\"yaxis\":\"y\"},{\"name\":\"Factor 6\",\"y\":[0.9867,0.9867,0.9867,0.9867,0.9867,0.9867,0.9867,0.9867,0.9867,0.9867,0.9867,0.9867,0.9867,0.9867,0.9867,0.9867,0.9867,0.9867,0.9867,0.9867],\"type\":\"box\",\"xaxis\":\"x\",\"yaxis\":\"y\"},{\"name\":\"Factor 7\",\"y\":[0.9857,0.9857,0.9857,0.9857,0.9857,0.9857,0.9857,0.9857,0.9857,0.9857,0.9857,0.9857,0.9857,0.9857,0.9857,0.9857,0.9857,0.9857,0.9857,0.9857],\"type\":\"box\",\"xaxis\":\"x\",\"yaxis\":\"y\"},{\"name\":\"Factor 8\",\"y\":[0.9802,0.9802,0.9802,0.9802,0.9802,0.9802,0.9802,0.9802,0.9802,0.9802,0.9802,0.9802,0.9802,0.9802,0.9802,0.9802,0.9802,0.9802,0.9802,0.9802],\"type\":\"box\",\"xaxis\":\"x\",\"yaxis\":\"y\"},{\"name\":\"Factor 9\",\"y\":[0.9778,0.9778,0.9778,0.9778,0.9778,0.9778,0.9778,0.9778,0.9778,0.9778,0.9778,0.9778,0.9778,0.9778,0.9778,0.9778,0.9778,0.9778,0.9778,0.9778],\"type\":\"box\",\"xaxis\":\"x\",\"yaxis\":\"y\"},{\"name\":\"Factor 10\",\"y\":[0.9881,0.9881,0.9881,0.9881,0.9881,0.9881,0.9881,0.9881,0.9881,0.9881,0.9881,0.9881,0.9881,0.9881,0.9881,0.9881,0.9881,0.9881,0.9881,0.9881],\"type\":\"box\",\"xaxis\":\"x\",\"yaxis\":\"y\"},{\"name\":\"Factor 11\",\"y\":[0.8757,0.8757,0.8757,0.8757,0.8757,0.8757,0.8757,0.8757,0.8757,0.8757,0.8757,0.8757,0.8757,0.8757,0.8757,0.8757,0.8757,0.8757,0.8757,0.8757],\"type\":\"box\",\"xaxis\":\"x\",\"yaxis\":\"y\"},{\"name\":\"Factor 12\",\"y\":[0.922,0.922,0.922,0.922,0.922,0.922,0.922,0.922,0.922,0.922,0.922,0.922,0.922,0.922,0.922,0.922,0.922,0.922,0.922,0.922],\"type\":\"box\",\"xaxis\":\"x\",\"yaxis\":\"y\"},{\"name\":\"Factor 13\",\"y\":[0.9515,0.9515,0.9515,0.9515,0.9515,0.9515,0.9515,0.9515,0.9515,0.9515,0.9515,0.9515,0.9515,0.9515,0.9515,0.9515,0.9515,0.9515,0.9515,0.9515],\"type\":\"box\",\"xaxis\":\"x\",\"yaxis\":\"y\"},{\"name\":\"Factor 14\",\"y\":[0.9613,0.9613,0.9613,0.9613,0.9613,0.9613,0.9613,0.9613,0.9613,0.9613,0.9613,0.9613,0.9613,0.9613,0.9613,0.9613,0.9613,0.9613,0.9613,0.9613],\"type\":\"box\",\"xaxis\":\"x\",\"yaxis\":\"y\"},{\"name\":\"Average % Mapped\",\"x\":[\"Factor 2\",\"Factor 3\",\"Factor 4\",\"Factor 5\",\"Factor 6\",\"Factor 7\",\"Factor 8\",\"Factor 9\",\"Factor 10\",\"Factor 11\",\"Factor 12\",\"Factor 13\",\"Factor 14\"],\"y\":[100.0,100.0,100.0,80.00000000000001,100.0,100.0,100.0,100.0,100.0,63.63636363636365,75.0,76.92307692307693,85.71428571428571],\"type\":\"scatter\",\"xaxis\":\"x\",\"yaxis\":\"y2\"}],                        {\"template\":{\"data\":{\"histogram2dcontour\":[{\"type\":\"histogram2dcontour\",\"colorbar\":{\"outlinewidth\":0,\"ticks\":\"\"},\"colorscale\":[[0.0,\"#0d0887\"],[0.1111111111111111,\"#46039f\"],[0.2222222222222222,\"#7201a8\"],[0.3333333333333333,\"#9c179e\"],[0.4444444444444444,\"#bd3786\"],[0.5555555555555556,\"#d8576b\"],[0.6666666666666666,\"#ed7953\"],[0.7777777777777778,\"#fb9f3a\"],[0.8888888888888888,\"#fdca26\"],[1.0,\"#f0f921\"]]}],\"choropleth\":[{\"type\":\"choropleth\",\"colorbar\":{\"outlinewidth\":0,\"ticks\":\"\"}}],\"histogram2d\":[{\"type\":\"histogram2d\",\"colorbar\":{\"outlinewidth\":0,\"ticks\":\"\"},\"colorscale\":[[0.0,\"#0d0887\"],[0.1111111111111111,\"#46039f\"],[0.2222222222222222,\"#7201a8\"],[0.3333333333333333,\"#9c179e\"],[0.4444444444444444,\"#bd3786\"],[0.5555555555555556,\"#d8576b\"],[0.6666666666666666,\"#ed7953\"],[0.7777777777777778,\"#fb9f3a\"],[0.8888888888888888,\"#fdca26\"],[1.0,\"#f0f921\"]]}],\"heatmap\":[{\"type\":\"heatmap\",\"colorbar\":{\"outlinewidth\":0,\"ticks\":\"\"},\"colorscale\":[[0.0,\"#0d0887\"],[0.1111111111111111,\"#46039f\"],[0.2222222222222222,\"#7201a8\"],[0.3333333333333333,\"#9c179e\"],[0.4444444444444444,\"#bd3786\"],[0.5555555555555556,\"#d8576b\"],[0.6666666666666666,\"#ed7953\"],[0.7777777777777778,\"#fb9f3a\"],[0.8888888888888888,\"#fdca26\"],[1.0,\"#f0f921\"]]}],\"heatmapgl\":[{\"type\":\"heatmapgl\",\"colorbar\":{\"outlinewidth\":0,\"ticks\":\"\"},\"colorscale\":[[0.0,\"#0d0887\"],[0.1111111111111111,\"#46039f\"],[0.2222222222222222,\"#7201a8\"],[0.3333333333333333,\"#9c179e\"],[0.4444444444444444,\"#bd3786\"],[0.5555555555555556,\"#d8576b\"],[0.6666666666666666,\"#ed7953\"],[0.7777777777777778,\"#fb9f3a\"],[0.8888888888888888,\"#fdca26\"],[1.0,\"#f0f921\"]]}],\"contourcarpet\":[{\"type\":\"contourcarpet\",\"colorbar\":{\"outlinewidth\":0,\"ticks\":\"\"}}],\"contour\":[{\"type\":\"contour\",\"colorbar\":{\"outlinewidth\":0,\"ticks\":\"\"},\"colorscale\":[[0.0,\"#0d0887\"],[0.1111111111111111,\"#46039f\"],[0.2222222222222222,\"#7201a8\"],[0.3333333333333333,\"#9c179e\"],[0.4444444444444444,\"#bd3786\"],[0.5555555555555556,\"#d8576b\"],[0.6666666666666666,\"#ed7953\"],[0.7777777777777778,\"#fb9f3a\"],[0.8888888888888888,\"#fdca26\"],[1.0,\"#f0f921\"]]}],\"surface\":[{\"type\":\"surface\",\"colorbar\":{\"outlinewidth\":0,\"ticks\":\"\"},\"colorscale\":[[0.0,\"#0d0887\"],[0.1111111111111111,\"#46039f\"],[0.2222222222222222,\"#7201a8\"],[0.3333333333333333,\"#9c179e\"],[0.4444444444444444,\"#bd3786\"],[0.5555555555555556,\"#d8576b\"],[0.6666666666666666,\"#ed7953\"],[0.7777777777777778,\"#fb9f3a\"],[0.8888888888888888,\"#fdca26\"],[1.0,\"#f0f921\"]]}],\"mesh3d\":[{\"type\":\"mesh3d\",\"colorbar\":{\"outlinewidth\":0,\"ticks\":\"\"}}],\"scatter\":[{\"fillpattern\":{\"fillmode\":\"overlay\",\"size\":10,\"solidity\":0.2},\"type\":\"scatter\"}],\"parcoords\":[{\"type\":\"parcoords\",\"line\":{\"colorbar\":{\"outlinewidth\":0,\"ticks\":\"\"}}}],\"scatterpolargl\":[{\"type\":\"scatterpolargl\",\"marker\":{\"colorbar\":{\"outlinewidth\":0,\"ticks\":\"\"}}}],\"bar\":[{\"error_x\":{\"color\":\"#2a3f5f\"},\"error_y\":{\"color\":\"#2a3f5f\"},\"marker\":{\"line\":{\"color\":\"#E5ECF6\",\"width\":0.5},\"pattern\":{\"fillmode\":\"overlay\",\"size\":10,\"solidity\":0.2}},\"type\":\"bar\"}],\"scattergeo\":[{\"type\":\"scattergeo\",\"marker\":{\"colorbar\":{\"outlinewidth\":0,\"ticks\":\"\"}}}],\"scatterpolar\":[{\"type\":\"scatterpolar\",\"marker\":{\"colorbar\":{\"outlinewidth\":0,\"ticks\":\"\"}}}],\"histogram\":[{\"marker\":{\"pattern\":{\"fillmode\":\"overlay\",\"size\":10,\"solidity\":0.2}},\"type\":\"histogram\"}],\"scattergl\":[{\"type\":\"scattergl\",\"marker\":{\"colorbar\":{\"outlinewidth\":0,\"ticks\":\"\"}}}],\"scatter3d\":[{\"type\":\"scatter3d\",\"line\":{\"colorbar\":{\"outlinewidth\":0,\"ticks\":\"\"}},\"marker\":{\"colorbar\":{\"outlinewidth\":0,\"ticks\":\"\"}}}],\"scattermapbox\":[{\"type\":\"scattermapbox\",\"marker\":{\"colorbar\":{\"outlinewidth\":0,\"ticks\":\"\"}}}],\"scatterternary\":[{\"type\":\"scatterternary\",\"marker\":{\"colorbar\":{\"outlinewidth\":0,\"ticks\":\"\"}}}],\"scattercarpet\":[{\"type\":\"scattercarpet\",\"marker\":{\"colorbar\":{\"outlinewidth\":0,\"ticks\":\"\"}}}],\"carpet\":[{\"aaxis\":{\"endlinecolor\":\"#2a3f5f\",\"gridcolor\":\"white\",\"linecolor\":\"white\",\"minorgridcolor\":\"white\",\"startlinecolor\":\"#2a3f5f\"},\"baxis\":{\"endlinecolor\":\"#2a3f5f\",\"gridcolor\":\"white\",\"linecolor\":\"white\",\"minorgridcolor\":\"white\",\"startlinecolor\":\"#2a3f5f\"},\"type\":\"carpet\"}],\"table\":[{\"cells\":{\"fill\":{\"color\":\"#EBF0F8\"},\"line\":{\"color\":\"white\"}},\"header\":{\"fill\":{\"color\":\"#C8D4E3\"},\"line\":{\"color\":\"white\"}},\"type\":\"table\"}],\"barpolar\":[{\"marker\":{\"line\":{\"color\":\"#E5ECF6\",\"width\":0.5},\"pattern\":{\"fillmode\":\"overlay\",\"size\":10,\"solidity\":0.2}},\"type\":\"barpolar\"}],\"pie\":[{\"automargin\":true,\"type\":\"pie\"}]},\"layout\":{\"autotypenumbers\":\"strict\",\"colorway\":[\"#636efa\",\"#EF553B\",\"#00cc96\",\"#ab63fa\",\"#FFA15A\",\"#19d3f3\",\"#FF6692\",\"#B6E880\",\"#FF97FF\",\"#FECB52\"],\"font\":{\"color\":\"#2a3f5f\"},\"hovermode\":\"closest\",\"hoverlabel\":{\"align\":\"left\"},\"paper_bgcolor\":\"white\",\"plot_bgcolor\":\"#E5ECF6\",\"polar\":{\"bgcolor\":\"#E5ECF6\",\"angularaxis\":{\"gridcolor\":\"white\",\"linecolor\":\"white\",\"ticks\":\"\"},\"radialaxis\":{\"gridcolor\":\"white\",\"linecolor\":\"white\",\"ticks\":\"\"}},\"ternary\":{\"bgcolor\":\"#E5ECF6\",\"aaxis\":{\"gridcolor\":\"white\",\"linecolor\":\"white\",\"ticks\":\"\"},\"baxis\":{\"gridcolor\":\"white\",\"linecolor\":\"white\",\"ticks\":\"\"},\"caxis\":{\"gridcolor\":\"white\",\"linecolor\":\"white\",\"ticks\":\"\"}},\"coloraxis\":{\"colorbar\":{\"outlinewidth\":0,\"ticks\":\"\"}},\"colorscale\":{\"sequential\":[[0.0,\"#0d0887\"],[0.1111111111111111,\"#46039f\"],[0.2222222222222222,\"#7201a8\"],[0.3333333333333333,\"#9c179e\"],[0.4444444444444444,\"#bd3786\"],[0.5555555555555556,\"#d8576b\"],[0.6666666666666666,\"#ed7953\"],[0.7777777777777778,\"#fb9f3a\"],[0.8888888888888888,\"#fdca26\"],[1.0,\"#f0f921\"]],\"sequentialminus\":[[0.0,\"#0d0887\"],[0.1111111111111111,\"#46039f\"],[0.2222222222222222,\"#7201a8\"],[0.3333333333333333,\"#9c179e\"],[0.4444444444444444,\"#bd3786\"],[0.5555555555555556,\"#d8576b\"],[0.6666666666666666,\"#ed7953\"],[0.7777777777777778,\"#fb9f3a\"],[0.8888888888888888,\"#fdca26\"],[1.0,\"#f0f921\"]],\"diverging\":[[0,\"#8e0152\"],[0.1,\"#c51b7d\"],[0.2,\"#de77ae\"],[0.3,\"#f1b6da\"],[0.4,\"#fde0ef\"],[0.5,\"#f7f7f7\"],[0.6,\"#e6f5d0\"],[0.7,\"#b8e186\"],[0.8,\"#7fbc41\"],[0.9,\"#4d9221\"],[1,\"#276419\"]]},\"xaxis\":{\"gridcolor\":\"white\",\"linecolor\":\"white\",\"ticks\":\"\",\"title\":{\"standoff\":15},\"zerolinecolor\":\"white\",\"automargin\":true,\"zerolinewidth\":2},\"yaxis\":{\"gridcolor\":\"white\",\"linecolor\":\"white\",\"ticks\":\"\",\"title\":{\"standoff\":15},\"zerolinecolor\":\"white\",\"automargin\":true,\"zerolinewidth\":2},\"scene\":{\"xaxis\":{\"backgroundcolor\":\"#E5ECF6\",\"gridcolor\":\"white\",\"linecolor\":\"white\",\"showbackground\":true,\"ticks\":\"\",\"zerolinecolor\":\"white\",\"gridwidth\":2},\"yaxis\":{\"backgroundcolor\":\"#E5ECF6\",\"gridcolor\":\"white\",\"linecolor\":\"white\",\"showbackground\":true,\"ticks\":\"\",\"zerolinecolor\":\"white\",\"gridwidth\":2},\"zaxis\":{\"backgroundcolor\":\"#E5ECF6\",\"gridcolor\":\"white\",\"linecolor\":\"white\",\"showbackground\":true,\"ticks\":\"\",\"zerolinecolor\":\"white\",\"gridwidth\":2}},\"shapedefaults\":{\"line\":{\"color\":\"#2a3f5f\"}},\"annotationdefaults\":{\"arrowcolor\":\"#2a3f5f\",\"arrowhead\":0,\"arrowwidth\":1},\"geo\":{\"bgcolor\":\"white\",\"landcolor\":\"#E5ECF6\",\"subunitcolor\":\"white\",\"showland\":true,\"showlakes\":true,\"lakecolor\":\"white\"},\"title\":{\"x\":0.05},\"mapbox\":{\"style\":\"light\"}}},\"xaxis\":{\"anchor\":\"y\",\"domain\":[0.0,0.94]},\"yaxis\":{\"anchor\":\"x\",\"domain\":[0.0,1.0],\"title\":{\"text\":\"R2\"}},\"yaxis2\":{\"anchor\":\"x\",\"overlaying\":\"y\",\"side\":\"right\",\"title\":{\"text\":\"%\"}},\"title\":{\"text\":\"Input Perturbation Results\"},\"width\":1200,\"height\":800},                        {\"responsive\": true}                    ).then(function(){\n",
       "                            \n",
       "var gd = document.getElementById('be904256-e7e2-43ba-b61c-655ff5ad07ae');\n",
       "var x = new MutationObserver(function (mutations, observer) {{\n",
       "        var display = window.getComputedStyle(gd).display;\n",
       "        if (!display || display === 'none') {{\n",
       "            console.log([gd, 'removed!']);\n",
       "            Plotly.purge(gd);\n",
       "            observer.disconnect();\n",
       "        }}\n",
       "}});\n",
       "\n",
       "// Listen for the removal of the full notebook cells\n",
       "var notebookContainer = gd.closest('#notebook-container');\n",
       "if (notebookContainer) {{\n",
       "    x.observe(notebookContainer, {childList: true});\n",
       "}}\n",
       "\n",
       "// Listen for the clearing of the current output cell\n",
       "var outputEl = gd.closest('.output');\n",
       "if (outputEl) {{\n",
       "    x.observe(outputEl, {childList: true});\n",
       "}}\n",
       "\n",
       "                        })                };                });            </script>        </div>"
      ]
     },
     "metadata": {},
     "output_type": "display_data"
    }
   ],
   "source": [
    "batch_fig = make_subplots(specs=[[{\"secondary_y\": True}]])\n",
    "for i in range(max_factors-min_factors+1):\n",
    "    i_results = coef_mean[i]\n",
    "    i_label = factor_labels[i]\n",
    "    batch_fig.add_trace(go.Box(y=i_results, name=i_label), secondary_y=False)\n",
    "batch_fig.add_trace(go.Scatter(x=factor_labels, y=np.mean(mapping_mean, axis=1)* 100, name=\"Average % Mapped\"), secondary_y=True)\n",
    "batch_fig.update_layout(title=\"Input Perturbation Results\", width=1200, height=800)\n",
    "batch_fig.update_yaxes(secondary_y=False, title_text=\"R2\")\n",
    "batch_fig.update_yaxes(secondary_y=True, title_text=\"%\")\n",
    "batch_fig.show()"
   ]
  },
  {
   "cell_type": "code",
   "execution_count": null,
   "id": "44335811-069c-4a0f-a84c-671fdbab2f38",
   "metadata": {},
   "outputs": [],
   "source": []
  },
  {
   "cell_type": "code",
   "execution_count": null,
   "id": "610165b1-4d9a-462d-843a-e450fb00ee3e",
   "metadata": {},
   "outputs": [],
   "source": []
  }
 ],
 "metadata": {
  "kernelspec": {
   "display_name": "Python 3 (ipykernel)",
   "language": "python",
   "name": "python3"
  },
  "language_info": {
   "codemirror_mode": {
    "name": "ipython",
    "version": 3
   },
   "file_extension": ".py",
   "mimetype": "text/x-python",
   "name": "python",
   "nbconvert_exporter": "python",
   "pygments_lexer": "ipython3",
   "version": "3.12.2"
  }
 },
 "nbformat": 4,
 "nbformat_minor": 5
}
