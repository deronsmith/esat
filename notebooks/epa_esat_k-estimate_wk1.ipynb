{
 "cells": [
  {
   "cell_type": "markdown",
   "id": "5686853f-4655-4e79-af04-fe24aac1756e",
   "metadata": {},
   "source": [
    "## ESAT K Estimation Workflow 1 - Batch Model Evaluation\n",
    "\n",
    "This notebook implements a batch model evaluation approach to using solution profile variabilty to estimate optimal number of factors in a dataset."
   ]
  },
  {
   "cell_type": "markdown",
   "id": "206ac55f-9259-4ce1-b87e-3302d2ed00f9",
   "metadata": {},
   "source": [
    "#### Code Imports"
   ]
  },
  {
   "cell_type": "code",
   "execution_count": 1,
   "id": "c9de6b9e-89a5-4db8-94d4-2226605d9ae6",
   "metadata": {},
   "outputs": [],
   "source": [
    "import time\n",
    "import numpy as np\n",
    "import pandas as pd\n",
    "import plotly.graph_objects as go\n",
    "\n",
    "from plotly.subplots import make_subplots\n",
    "from esat.data.datahandler import DataHandler\n",
    "from esat.model.sa import SA\n",
    "from esat.model.batch_sa import BatchSA\n",
    "from esat.data.analysis import ModelAnalysis, BatchAnalysis\n",
    "from esat.error.bootstrap import Bootstrap\n",
    "from esat_eval.simulator import Simulator\n",
    "from esat_eval.factor_comparison import FactorCompare"
   ]
  },
  {
   "cell_type": "code",
   "execution_count": 2,
   "id": "47e80dbc-702b-4fca-b800-0660033a251d",
   "metadata": {},
   "outputs": [],
   "source": [
    "# Synethic dataset parameter value ranges\n",
    "syn_factors_min = 3\n",
    "syn_factors_max = 8\n",
    "\n",
    "syn_features_min = 15\n",
    "syn_features_max = 45\n",
    "\n",
    "syn_samples_min = 200\n",
    "syn_samples_max = 1000\n",
    "\n",
    "outliers = True\n",
    "outliers_p_min = 0.05\n",
    "outliers_p_max = 0.1\n",
    "outliers_mag_min = 1.1\n",
    "outliers_mag_max = 2\n",
    "\n",
    "noise_mean_min = 0.05\n",
    "noise_mean_max = 0.15\n",
    "noise_scale = 0.01\n",
    "\n",
    "uncertainty_mean_min = 0.05\n",
    "uncertainty_mean_max = 0.15\n",
    "uncertainty_scale = 0.01\n",
    "\n",
    "contr_curve_min_range = [0.0, 1.0]\n",
    "contr_curve_max_range = [2.0, 5.0]\n",
    "contr_curve_scale_range = [0.1, 0.5]\n",
    "\n",
    "random_seed = 337\n",
    "k_coef = 0.75"
   ]
  },
  {
   "cell_type": "code",
   "execution_count": 3,
   "id": "a2408991-45a6-4a5c-ac14-388f79cbab49",
   "metadata": {},
   "outputs": [],
   "source": [
    "rng = np.random.default_rng(seed=random_seed)"
   ]
  },
  {
   "cell_type": "markdown",
   "id": "0e045f7a-8a9a-4316-b60e-018935328241",
   "metadata": {},
   "source": []
  },
  {
   "cell_type": "code",
   "execution_count": 9,
   "id": "372a6a6a-612a-4d00-a3ae-be12aecb0e60",
   "metadata": {},
   "outputs": [],
   "source": [
    "# Initialize the simulator with the above parameters\n",
    "def generate_synthetic_data(true_factor):\n",
    "    n_features = rng.integers(low=syn_features_min, high=syn_features_max, size=1)[0]\n",
    "    n_samples = rng.integers(low=syn_samples_min, high=syn_samples_max, size=1)[0]\n",
    "    i_outlier_p = round(rng.uniform(low=outliers_p_min, high=outliers_p_max, size=1)[0], 2)\n",
    "    i_outlier_mag = round(rng.uniform(low=outliers_mag_min, high=outliers_mag_max, size=1)[0], 2)\n",
    "    contribution_max = round(rng.uniform(low=1.0, high=10.0, size=1)[0], 2)\n",
    "    print(f\"True Factors: {true_factor}, Features: {n_features}, Samples: {n_samples}, Outliers %: {i_outlier_p}, Outliers Magnitude: {i_outlier_mag}, Contribution Max: {contribution_max}\")\n",
    "    simulator = Simulator(seed=rng.integers(low=0, high=10, size=1)[0],\n",
    "                          factors_n=true_factor,\n",
    "                          features_n=n_features,\n",
    "                          samples_n=n_samples,\n",
    "                          outliers=outliers,\n",
    "                          outlier_p=i_outlier_p,\n",
    "                          outlier_mag=i_outlier_mag,\n",
    "                          contribution_max=contribution_max,\n",
    "                          noise_mean_min=noise_mean_min,\n",
    "                          noise_mean_max=noise_mean_max,\n",
    "                          noise_scale=noise_scale,\n",
    "                          uncertainty_mean_min=uncertainty_mean_min,\n",
    "                          uncertainty_mean_max=uncertainty_mean_max,\n",
    "                          uncertainty_scale=uncertainty_scale,\n",
    "                          verbose=False\n",
    "                         )\n",
    "    curved_factors_count = rng.integers(low=0, high=true_factor, size=1)[0]\n",
    "    curved_factor_list = rng.choice(list(range(true_factor)), size=curved_factors_count, replace=False)\n",
    "    for c_i in curved_factor_list:\n",
    "        # parameters not used by the curve type are ignored\n",
    "        i_curve_type = rng.choice(['uniform', 'decreasing', 'increasing', 'logistic', 'periodic'], size=1)[0]\n",
    "        i_curve_min = rng.uniform(low=contr_curve_min_range[0], high=contr_curve_min_range[1], size=1)[0]\n",
    "        i_curve_max = rng.uniform(low=contr_curve_max_range[0], high=contr_curve_max_range[1], size=1)[0]\n",
    "        i_curve_scale = rng.uniform(low=contr_curve_scale_range[0], high=contr_curve_scale_range[1], size=1)[0]\n",
    "        i_curve_frequency = rng.uniform(low=0.1, high=0.9, size=1)[0]\n",
    "        \n",
    "        # To keep all as uniform comment out the line below\n",
    "        # simulator.update_contribution(factor_i=c_i, curve_type=i_curve_type, scale=i_curve_scale, frequency=i_curve_frequency, minimum=i_curve_min, maximum=i_curve_max)\n",
    "    \n",
    "    syn_input_df, syn_uncertainty_df = simulator.get_data()\n",
    "    data_handler = DataHandler.load_dataframe(input_df=syn_input_df, uncertainty_df=syn_uncertainty_df)\n",
    "    data_handler.metrics\n",
    "    V, U = data_handler.get_data()\n",
    "    return V, U\n",
    "\n",
    "\n",
    "def run_batch_estimate(iV, iU, ifactors, batch_seed, models=100, max_iter=10000, converge_n=20, converge_delta=0.1, threshold: float = 0.9):\n",
    "    # Runs a k-estimate instance\n",
    "    # Steps:\n",
    "    # 1. Create a batch SA instance using the provided iV, iU and true_k for the data and factor count.\n",
    "    # 2. Evaluate the profiles of each model in the batch\n",
    "    # 3. For each model profile, calculate the correlation coefficient to the profiles of each other model\n",
    "    #    a. Counting the number of models where the profile has a r2 coefficient to one of that model's profile above the threshold\n",
    "    #    b. Calculate the average correlation between all profiles within a single model.\n",
    "    # 4. Repeat this process for a range of k values to evaluate the resulting metrics for determining k-estimate\n",
    "\n",
    "    # step 1\n",
    "    batch_sa = BatchSA(V=iV, U=iU, factors=ifactors, models=models, seed=batch_seed, max_iter=max_iter,\n",
    "                    converge_delta=converge_delta, converge_n=converge_n, optimized=True,\n",
    "                    verbose=False\n",
    "                   )\n",
    "    batch_sa.train()\n",
    "\n",
    "    # steps 2-3\n",
    "    model_profile_count = []\n",
    "    model_profile_avg = []\n",
    "    model_max_cor = []\n",
    "    for i, i_result in enumerate(batch_sa.results):\n",
    "        # step 3a\n",
    "        model_count = []\n",
    "        model_i_max = []\n",
    "        for ik in range(batch_sa.factors):\n",
    "            ik_profile = i_result.H[ik]\n",
    "            ik_count = 0\n",
    "            factor_ik_max_coe = []\n",
    "            for j in range(batch_sa.models):\n",
    "                if j == i:\n",
    "                    continue\n",
    "                add_counter = False\n",
    "                max_coe = 0\n",
    "                for k in range(batch_sa.factors):\n",
    "                    jk_profile = batch_sa.results[j].H[k]\n",
    "                    i_j_correlation = FactorCompare.calculate_correlation(factor1=ik_profile, factor2=jk_profile)\n",
    "                    if i_j_correlation >= threshold:\n",
    "                        add_counter = True\n",
    "                    if i_j_correlation > max_coe:\n",
    "                        max_coe = i_j_correlation\n",
    "                        # ik_count += 1\n",
    "                        # continue\n",
    "                if add_counter:\n",
    "                    ik_count += 1\n",
    "                factor_ik_max_coe.append(max_coe)\n",
    "            model_count.append(ik_count)\n",
    "            model_i_max.append(factor_ik_max_coe)\n",
    "        model_profile_count.append(model_count)\n",
    "        model_max_cor.append(model_i_max)\n",
    "        \n",
    "        #step 3b\n",
    "        model_profile_r2 = []\n",
    "        for j in range(batch_sa.factors):\n",
    "            j_profile = i_result.H[j]\n",
    "            for k in range(batch_sa.factors):\n",
    "                if k == j:\n",
    "                    break\n",
    "                else:\n",
    "                    k_profile = i_result.H[k]\n",
    "                jk_correlation = FactorCompare.calculate_correlation(factor1=j_profile, factor2=k_profile)\n",
    "                model_profile_r2.append(jk_correlation)\n",
    "        model_profile_avg.append(np.round(np.mean(model_profile_r2), 4))\n",
    "    \n",
    "    batch_result = {\n",
    "        \"k\": ifactors,\n",
    "        \"seed\": batch_seed,\n",
    "        \"correlation count\": model_profile_count,\n",
    "        \"model correlation avg\": model_profile_avg,\n",
    "        \"profile max r2\": model_max_cor\n",
    "    }\n",
    "    return batch_result\n",
    "\n",
    "def run_batch_k_estimate(k, iV, iU, min_k: int = 2, max_k: int = 10, models: int = 100, max_iter=10000, converge_n=20, converge_delta=0.1, threshold: float = 0.9):\n",
    "    results = {\n",
    "        \"true_k\": k,\n",
    "        \"models\": models,\n",
    "        \"min_k\": min_k,\n",
    "        \"max_k\": max_k,\n",
    "        \"k_results\": []\n",
    "    }\n",
    "    for ifactors in range(min_k, max_k+1):\n",
    "        i_seed = rng.integers(low=0, high=1e10, endpoint=True, size=1)[0]\n",
    "        i_result = run_batch_estimate(iV=iV, iU=iU, ifactors=ifactors, batch_seed=i_seed, models=models, max_iter=max_iter, converge_n=converge_n, converge_delta=converge_delta, threshold=threshold)\n",
    "        results[\"k_results\"].append(i_result)\n",
    "    return results\n",
    "    "
   ]
  },
  {
   "cell_type": "code",
   "execution_count": 14,
   "id": "1bf75aee-32ec-49d5-afc9-2dc5760ede24",
   "metadata": {},
   "outputs": [
    {
     "name": "stderr",
     "output_type": "stream",
     "text": [
      "16-Oct-24 16:44:59 - Running batch SA models in parallel using 15 processes.\n"
     ]
    },
    {
     "name": "stdout",
     "output_type": "stream",
     "text": [
      "True Factors: 6, Features: 37, Samples: 579, Outliers %: 0.09, Outliers Magnitude: 1.56, Contribution Max: 4.06\n"
     ]
    },
    {
     "name": "stderr",
     "output_type": "stream",
     "text": [
      "16-Oct-24 16:45:14 - Running batch SA models in parallel using 15 processes.\n",
      "16-Oct-24 16:45:39 - Running batch SA models in parallel using 15 processes.\n",
      "16-Oct-24 16:46:15 - Running batch SA models in parallel using 15 processes.\n",
      "16-Oct-24 16:47:19 - Running batch SA models in parallel using 15 processes.\n",
      "16-Oct-24 16:48:43 - Running batch SA models in parallel using 15 processes.\n",
      "16-Oct-24 16:50:54 - Running batch SA models in parallel using 15 processes.\n",
      "16-Oct-24 16:53:29 - Running batch SA models in parallel using 15 processes.\n",
      "16-Oct-24 16:56:11 - Running batch SA models in parallel using 15 processes.\n"
     ]
    },
    {
     "name": "stdout",
     "output_type": "stream",
     "text": [
      "CPU times: total: 2min\n",
      "Wall time: 14min 10s\n"
     ]
    }
   ],
   "source": [
    "%%time\n",
    "true_k = 6\n",
    "iV, iU = generate_synthetic_data(true_factor=true_k)\n",
    "\n",
    "n_models = 50\n",
    "threshold = 0.98\n",
    "min_factors = 2\n",
    "max_factors = 10\n",
    "batch_estimate = run_batch_k_estimate(k=true_k, iV=iV, iU=iU, min_k=min_factors, max_k=max_factors, models=n_models, max_iter=10000, converge_n=20, converge_delta=0.1, threshold=threshold)"
   ]
  },
  {
   "cell_type": "code",
   "execution_count": 15,
   "id": "5c7939ea-d6ce-4c9c-8c3d-9aeec7d87ff3",
   "metadata": {},
   "outputs": [],
   "source": [
    "factor_labels = [f\"Factor {i}\" for i in range(min_factors, max_factors+1)]\n",
    "count_mean = []\n",
    "count_std = []\n",
    "count_total = []\n",
    "model_r2 = []\n",
    "max_r2 = []\n",
    "for i in range(max_factors-min_factors+1):\n",
    "    i_count = np.sum(batch_estimate[\"k_results\"][i][\"correlation count\"], axis=1)\n",
    "    model_r2.append(np.round(np.mean(batch_estimate[\"k_results\"][i][\"model correlation avg\"]), 4))\n",
    "    max_r2.append(np.round(np.mean(np.mean(batch_estimate[\"k_results\"][i][\"profile max r2\"], axis=0), axis=0), 4))\n",
    "    i_mean = np.mean(i_count)\n",
    "    i_std = np.std(i_count)\n",
    "    count_mean.append(np.round(i_mean, 4))\n",
    "    count_std.append(np.round(i_std, 4))\n",
    "    count_total.append(i_count)"
   ]
  },
  {
   "cell_type": "code",
   "execution_count": null,
   "id": "1628b9e7-70ec-4ae2-9ee5-98e05e1f72de",
   "metadata": {},
   "outputs": [],
   "source": []
  },
  {
   "cell_type": "code",
   "execution_count": 16,
   "id": "882b8c85-86b3-4957-a694-ed0681e55011",
   "metadata": {},
   "outputs": [
    {
     "data": {
      "application/vnd.plotly.v1+json": {
       "config": {
        "plotlyServerURL": "https://plot.ly"
       },
       "data": [
        {
         "name": "Factor 2",
         "type": "box",
         "xaxis": "x",
         "y": [
          5,
          4,
          12,
          2,
          20,
          12,
          4,
          12,
          2,
          19,
          11,
          10,
          20,
          12,
          20,
          2,
          10,
          14,
          12,
          2,
          20,
          19,
          19,
          8,
          0,
          14,
          8,
          14,
          19,
          0,
          8,
          8,
          8,
          14,
          18,
          8,
          2,
          14,
          12,
          19,
          14,
          14,
          2,
          12,
          12,
          11,
          14,
          11,
          9,
          0
         ],
         "yaxis": "y"
        },
        {
         "name": "Factor 3",
         "type": "box",
         "xaxis": "x",
         "y": [
          0,
          5,
          20,
          20,
          20,
          16,
          0,
          16,
          25,
          25,
          8,
          17,
          13,
          5,
          3,
          26,
          9,
          3,
          15,
          8,
          4,
          25,
          16,
          11,
          9,
          16,
          8,
          10,
          8,
          3,
          16,
          12,
          10,
          25,
          25,
          10,
          17,
          16,
          0,
          20,
          5,
          25,
          25,
          7,
          7,
          12,
          25,
          25,
          17,
          25
         ],
         "yaxis": "y"
        },
        {
         "name": "Factor 4",
         "type": "box",
         "xaxis": "x",
         "y": [
          83,
          44,
          92,
          95,
          78,
          95,
          95,
          49,
          98,
          43,
          80,
          83,
          98,
          91,
          50,
          80,
          4,
          95,
          78,
          82,
          95,
          77,
          78,
          95,
          13,
          79,
          95,
          83,
          83,
          94,
          78,
          83,
          82,
          80,
          95,
          94,
          76,
          97,
          92,
          42,
          31,
          49,
          80,
          95,
          49,
          95,
          49,
          77,
          83,
          80
         ],
         "yaxis": "y"
        },
        {
         "name": "Factor 5",
         "type": "box",
         "xaxis": "x",
         "y": [
          160,
          160,
          160,
          162,
          151,
          49,
          77,
          159,
          151,
          76,
          159,
          160,
          159,
          151,
          160,
          151,
          151,
          151,
          151,
          160,
          76,
          75,
          151,
          160,
          96,
          159,
          159,
          160,
          160,
          76,
          96,
          92,
          151,
          151,
          151,
          58,
          121,
          160,
          96,
          151,
          62,
          151,
          160,
          159,
          160,
          151,
          151,
          76,
          151,
          76
         ],
         "yaxis": "y"
        },
        {
         "name": "Factor 6",
         "type": "box",
         "xaxis": "x",
         "y": [
          294,
          294,
          294,
          294,
          294,
          294,
          294,
          294,
          294,
          294,
          294,
          294,
          294,
          294,
          294,
          294,
          294,
          294,
          294,
          294,
          294,
          294,
          294,
          294,
          294,
          294,
          294,
          294,
          294,
          294,
          294,
          294,
          294,
          294,
          294,
          294,
          294,
          294,
          293,
          294,
          294,
          294,
          294,
          294,
          293,
          294,
          294,
          294,
          294,
          294
         ],
         "yaxis": "y"
        },
        {
         "name": "Factor 7",
         "type": "box",
         "xaxis": "x",
         "y": [
          199,
          229,
          196,
          212,
          224,
          213,
          233,
          152,
          212,
          196,
          218,
          216,
          225,
          191,
          200,
          195,
          214,
          212,
          211,
          225,
          219,
          223,
          174,
          182,
          216,
          237,
          214,
          229,
          229,
          198,
          213,
          186,
          223,
          129,
          210,
          226,
          196,
          225,
          200,
          156,
          215,
          134,
          216,
          211,
          207,
          217,
          199,
          198,
          187,
          204
         ],
         "yaxis": "y"
        },
        {
         "name": "Factor 8",
         "type": "box",
         "xaxis": "x",
         "y": [
          83,
          137,
          149,
          126,
          114,
          136,
          137,
          171,
          141,
          119,
          145,
          130,
          136,
          111,
          140,
          138,
          130,
          136,
          139,
          134,
          154,
          103,
          126,
          149,
          115,
          143,
          170,
          177,
          132,
          157,
          154,
          127,
          156,
          130,
          124,
          138,
          142,
          155,
          128,
          155,
          74,
          122,
          138,
          152,
          131,
          142,
          153,
          144,
          71,
          130
         ],
         "yaxis": "y"
        },
        {
         "name": "Factor 9",
         "type": "box",
         "xaxis": "x",
         "y": [
          83,
          99,
          85,
          83,
          70,
          93,
          73,
          109,
          88,
          81,
          47,
          85,
          101,
          92,
          23,
          66,
          43,
          109,
          72,
          95,
          39,
          79,
          93,
          95,
          79,
          92,
          90,
          82,
          68,
          35,
          95,
          74,
          51,
          92,
          89,
          99,
          68,
          60,
          64,
          67,
          15,
          92,
          59,
          87,
          83,
          73,
          102,
          83,
          56,
          60
         ],
         "yaxis": "y"
        },
        {
         "name": "Factor 10",
         "type": "box",
         "xaxis": "x",
         "y": [
          56,
          46,
          13,
          43,
          47,
          39,
          38,
          52,
          67,
          20,
          33,
          42,
          28,
          26,
          36,
          33,
          55,
          37,
          52,
          38,
          32,
          30,
          42,
          44,
          46,
          34,
          34,
          50,
          46,
          38,
          53,
          40,
          53,
          47,
          32,
          22,
          47,
          59,
          45,
          10,
          10,
          16,
          29,
          33,
          35,
          47,
          24,
          31,
          28,
          24
         ],
         "yaxis": "y"
        },
        {
         "name": "Average Model Profile R2",
         "type": "scatter",
         "x": [
          "Factor 2",
          "Factor 3",
          "Factor 4",
          "Factor 5",
          "Factor 6",
          "Factor 7",
          "Factor 8",
          "Factor 9",
          "Factor 10"
         ],
         "xaxis": "x",
         "y": [
          0.3528,
          0.104,
          0.0416,
          0.0352,
          0.0263,
          0.0352,
          0.0425,
          0.0465,
          0.052
         ],
         "yaxis": "y2"
        }
       ],
       "layout": {
        "height": 800,
        "template": {
         "data": {
          "bar": [
           {
            "error_x": {
             "color": "#2a3f5f"
            },
            "error_y": {
             "color": "#2a3f5f"
            },
            "marker": {
             "line": {
              "color": "#E5ECF6",
              "width": 0.5
             },
             "pattern": {
              "fillmode": "overlay",
              "size": 10,
              "solidity": 0.2
             }
            },
            "type": "bar"
           }
          ],
          "barpolar": [
           {
            "marker": {
             "line": {
              "color": "#E5ECF6",
              "width": 0.5
             },
             "pattern": {
              "fillmode": "overlay",
              "size": 10,
              "solidity": 0.2
             }
            },
            "type": "barpolar"
           }
          ],
          "carpet": [
           {
            "aaxis": {
             "endlinecolor": "#2a3f5f",
             "gridcolor": "white",
             "linecolor": "white",
             "minorgridcolor": "white",
             "startlinecolor": "#2a3f5f"
            },
            "baxis": {
             "endlinecolor": "#2a3f5f",
             "gridcolor": "white",
             "linecolor": "white",
             "minorgridcolor": "white",
             "startlinecolor": "#2a3f5f"
            },
            "type": "carpet"
           }
          ],
          "choropleth": [
           {
            "colorbar": {
             "outlinewidth": 0,
             "ticks": ""
            },
            "type": "choropleth"
           }
          ],
          "contour": [
           {
            "colorbar": {
             "outlinewidth": 0,
             "ticks": ""
            },
            "colorscale": [
             [
              0,
              "#0d0887"
             ],
             [
              0.1111111111111111,
              "#46039f"
             ],
             [
              0.2222222222222222,
              "#7201a8"
             ],
             [
              0.3333333333333333,
              "#9c179e"
             ],
             [
              0.4444444444444444,
              "#bd3786"
             ],
             [
              0.5555555555555556,
              "#d8576b"
             ],
             [
              0.6666666666666666,
              "#ed7953"
             ],
             [
              0.7777777777777778,
              "#fb9f3a"
             ],
             [
              0.8888888888888888,
              "#fdca26"
             ],
             [
              1,
              "#f0f921"
             ]
            ],
            "type": "contour"
           }
          ],
          "contourcarpet": [
           {
            "colorbar": {
             "outlinewidth": 0,
             "ticks": ""
            },
            "type": "contourcarpet"
           }
          ],
          "heatmap": [
           {
            "colorbar": {
             "outlinewidth": 0,
             "ticks": ""
            },
            "colorscale": [
             [
              0,
              "#0d0887"
             ],
             [
              0.1111111111111111,
              "#46039f"
             ],
             [
              0.2222222222222222,
              "#7201a8"
             ],
             [
              0.3333333333333333,
              "#9c179e"
             ],
             [
              0.4444444444444444,
              "#bd3786"
             ],
             [
              0.5555555555555556,
              "#d8576b"
             ],
             [
              0.6666666666666666,
              "#ed7953"
             ],
             [
              0.7777777777777778,
              "#fb9f3a"
             ],
             [
              0.8888888888888888,
              "#fdca26"
             ],
             [
              1,
              "#f0f921"
             ]
            ],
            "type": "heatmap"
           }
          ],
          "heatmapgl": [
           {
            "colorbar": {
             "outlinewidth": 0,
             "ticks": ""
            },
            "colorscale": [
             [
              0,
              "#0d0887"
             ],
             [
              0.1111111111111111,
              "#46039f"
             ],
             [
              0.2222222222222222,
              "#7201a8"
             ],
             [
              0.3333333333333333,
              "#9c179e"
             ],
             [
              0.4444444444444444,
              "#bd3786"
             ],
             [
              0.5555555555555556,
              "#d8576b"
             ],
             [
              0.6666666666666666,
              "#ed7953"
             ],
             [
              0.7777777777777778,
              "#fb9f3a"
             ],
             [
              0.8888888888888888,
              "#fdca26"
             ],
             [
              1,
              "#f0f921"
             ]
            ],
            "type": "heatmapgl"
           }
          ],
          "histogram": [
           {
            "marker": {
             "pattern": {
              "fillmode": "overlay",
              "size": 10,
              "solidity": 0.2
             }
            },
            "type": "histogram"
           }
          ],
          "histogram2d": [
           {
            "colorbar": {
             "outlinewidth": 0,
             "ticks": ""
            },
            "colorscale": [
             [
              0,
              "#0d0887"
             ],
             [
              0.1111111111111111,
              "#46039f"
             ],
             [
              0.2222222222222222,
              "#7201a8"
             ],
             [
              0.3333333333333333,
              "#9c179e"
             ],
             [
              0.4444444444444444,
              "#bd3786"
             ],
             [
              0.5555555555555556,
              "#d8576b"
             ],
             [
              0.6666666666666666,
              "#ed7953"
             ],
             [
              0.7777777777777778,
              "#fb9f3a"
             ],
             [
              0.8888888888888888,
              "#fdca26"
             ],
             [
              1,
              "#f0f921"
             ]
            ],
            "type": "histogram2d"
           }
          ],
          "histogram2dcontour": [
           {
            "colorbar": {
             "outlinewidth": 0,
             "ticks": ""
            },
            "colorscale": [
             [
              0,
              "#0d0887"
             ],
             [
              0.1111111111111111,
              "#46039f"
             ],
             [
              0.2222222222222222,
              "#7201a8"
             ],
             [
              0.3333333333333333,
              "#9c179e"
             ],
             [
              0.4444444444444444,
              "#bd3786"
             ],
             [
              0.5555555555555556,
              "#d8576b"
             ],
             [
              0.6666666666666666,
              "#ed7953"
             ],
             [
              0.7777777777777778,
              "#fb9f3a"
             ],
             [
              0.8888888888888888,
              "#fdca26"
             ],
             [
              1,
              "#f0f921"
             ]
            ],
            "type": "histogram2dcontour"
           }
          ],
          "mesh3d": [
           {
            "colorbar": {
             "outlinewidth": 0,
             "ticks": ""
            },
            "type": "mesh3d"
           }
          ],
          "parcoords": [
           {
            "line": {
             "colorbar": {
              "outlinewidth": 0,
              "ticks": ""
             }
            },
            "type": "parcoords"
           }
          ],
          "pie": [
           {
            "automargin": true,
            "type": "pie"
           }
          ],
          "scatter": [
           {
            "fillpattern": {
             "fillmode": "overlay",
             "size": 10,
             "solidity": 0.2
            },
            "type": "scatter"
           }
          ],
          "scatter3d": [
           {
            "line": {
             "colorbar": {
              "outlinewidth": 0,
              "ticks": ""
             }
            },
            "marker": {
             "colorbar": {
              "outlinewidth": 0,
              "ticks": ""
             }
            },
            "type": "scatter3d"
           }
          ],
          "scattercarpet": [
           {
            "marker": {
             "colorbar": {
              "outlinewidth": 0,
              "ticks": ""
             }
            },
            "type": "scattercarpet"
           }
          ],
          "scattergeo": [
           {
            "marker": {
             "colorbar": {
              "outlinewidth": 0,
              "ticks": ""
             }
            },
            "type": "scattergeo"
           }
          ],
          "scattergl": [
           {
            "marker": {
             "colorbar": {
              "outlinewidth": 0,
              "ticks": ""
             }
            },
            "type": "scattergl"
           }
          ],
          "scattermapbox": [
           {
            "marker": {
             "colorbar": {
              "outlinewidth": 0,
              "ticks": ""
             }
            },
            "type": "scattermapbox"
           }
          ],
          "scatterpolar": [
           {
            "marker": {
             "colorbar": {
              "outlinewidth": 0,
              "ticks": ""
             }
            },
            "type": "scatterpolar"
           }
          ],
          "scatterpolargl": [
           {
            "marker": {
             "colorbar": {
              "outlinewidth": 0,
              "ticks": ""
             }
            },
            "type": "scatterpolargl"
           }
          ],
          "scatterternary": [
           {
            "marker": {
             "colorbar": {
              "outlinewidth": 0,
              "ticks": ""
             }
            },
            "type": "scatterternary"
           }
          ],
          "surface": [
           {
            "colorbar": {
             "outlinewidth": 0,
             "ticks": ""
            },
            "colorscale": [
             [
              0,
              "#0d0887"
             ],
             [
              0.1111111111111111,
              "#46039f"
             ],
             [
              0.2222222222222222,
              "#7201a8"
             ],
             [
              0.3333333333333333,
              "#9c179e"
             ],
             [
              0.4444444444444444,
              "#bd3786"
             ],
             [
              0.5555555555555556,
              "#d8576b"
             ],
             [
              0.6666666666666666,
              "#ed7953"
             ],
             [
              0.7777777777777778,
              "#fb9f3a"
             ],
             [
              0.8888888888888888,
              "#fdca26"
             ],
             [
              1,
              "#f0f921"
             ]
            ],
            "type": "surface"
           }
          ],
          "table": [
           {
            "cells": {
             "fill": {
              "color": "#EBF0F8"
             },
             "line": {
              "color": "white"
             }
            },
            "header": {
             "fill": {
              "color": "#C8D4E3"
             },
             "line": {
              "color": "white"
             }
            },
            "type": "table"
           }
          ]
         },
         "layout": {
          "annotationdefaults": {
           "arrowcolor": "#2a3f5f",
           "arrowhead": 0,
           "arrowwidth": 1
          },
          "autotypenumbers": "strict",
          "coloraxis": {
           "colorbar": {
            "outlinewidth": 0,
            "ticks": ""
           }
          },
          "colorscale": {
           "diverging": [
            [
             0,
             "#8e0152"
            ],
            [
             0.1,
             "#c51b7d"
            ],
            [
             0.2,
             "#de77ae"
            ],
            [
             0.3,
             "#f1b6da"
            ],
            [
             0.4,
             "#fde0ef"
            ],
            [
             0.5,
             "#f7f7f7"
            ],
            [
             0.6,
             "#e6f5d0"
            ],
            [
             0.7,
             "#b8e186"
            ],
            [
             0.8,
             "#7fbc41"
            ],
            [
             0.9,
             "#4d9221"
            ],
            [
             1,
             "#276419"
            ]
           ],
           "sequential": [
            [
             0,
             "#0d0887"
            ],
            [
             0.1111111111111111,
             "#46039f"
            ],
            [
             0.2222222222222222,
             "#7201a8"
            ],
            [
             0.3333333333333333,
             "#9c179e"
            ],
            [
             0.4444444444444444,
             "#bd3786"
            ],
            [
             0.5555555555555556,
             "#d8576b"
            ],
            [
             0.6666666666666666,
             "#ed7953"
            ],
            [
             0.7777777777777778,
             "#fb9f3a"
            ],
            [
             0.8888888888888888,
             "#fdca26"
            ],
            [
             1,
             "#f0f921"
            ]
           ],
           "sequentialminus": [
            [
             0,
             "#0d0887"
            ],
            [
             0.1111111111111111,
             "#46039f"
            ],
            [
             0.2222222222222222,
             "#7201a8"
            ],
            [
             0.3333333333333333,
             "#9c179e"
            ],
            [
             0.4444444444444444,
             "#bd3786"
            ],
            [
             0.5555555555555556,
             "#d8576b"
            ],
            [
             0.6666666666666666,
             "#ed7953"
            ],
            [
             0.7777777777777778,
             "#fb9f3a"
            ],
            [
             0.8888888888888888,
             "#fdca26"
            ],
            [
             1,
             "#f0f921"
            ]
           ]
          },
          "colorway": [
           "#636efa",
           "#EF553B",
           "#00cc96",
           "#ab63fa",
           "#FFA15A",
           "#19d3f3",
           "#FF6692",
           "#B6E880",
           "#FF97FF",
           "#FECB52"
          ],
          "font": {
           "color": "#2a3f5f"
          },
          "geo": {
           "bgcolor": "white",
           "lakecolor": "white",
           "landcolor": "#E5ECF6",
           "showlakes": true,
           "showland": true,
           "subunitcolor": "white"
          },
          "hoverlabel": {
           "align": "left"
          },
          "hovermode": "closest",
          "mapbox": {
           "style": "light"
          },
          "paper_bgcolor": "white",
          "plot_bgcolor": "#E5ECF6",
          "polar": {
           "angularaxis": {
            "gridcolor": "white",
            "linecolor": "white",
            "ticks": ""
           },
           "bgcolor": "#E5ECF6",
           "radialaxis": {
            "gridcolor": "white",
            "linecolor": "white",
            "ticks": ""
           }
          },
          "scene": {
           "xaxis": {
            "backgroundcolor": "#E5ECF6",
            "gridcolor": "white",
            "gridwidth": 2,
            "linecolor": "white",
            "showbackground": true,
            "ticks": "",
            "zerolinecolor": "white"
           },
           "yaxis": {
            "backgroundcolor": "#E5ECF6",
            "gridcolor": "white",
            "gridwidth": 2,
            "linecolor": "white",
            "showbackground": true,
            "ticks": "",
            "zerolinecolor": "white"
           },
           "zaxis": {
            "backgroundcolor": "#E5ECF6",
            "gridcolor": "white",
            "gridwidth": 2,
            "linecolor": "white",
            "showbackground": true,
            "ticks": "",
            "zerolinecolor": "white"
           }
          },
          "shapedefaults": {
           "line": {
            "color": "#2a3f5f"
           }
          },
          "ternary": {
           "aaxis": {
            "gridcolor": "white",
            "linecolor": "white",
            "ticks": ""
           },
           "baxis": {
            "gridcolor": "white",
            "linecolor": "white",
            "ticks": ""
           },
           "bgcolor": "#E5ECF6",
           "caxis": {
            "gridcolor": "white",
            "linecolor": "white",
            "ticks": ""
           }
          },
          "title": {
           "x": 0.05
          },
          "xaxis": {
           "automargin": true,
           "gridcolor": "white",
           "linecolor": "white",
           "ticks": "",
           "title": {
            "standoff": 15
           },
           "zerolinecolor": "white",
           "zerolinewidth": 2
          },
          "yaxis": {
           "automargin": true,
           "gridcolor": "white",
           "linecolor": "white",
           "ticks": "",
           "title": {
            "standoff": 15
           },
           "zerolinecolor": "white",
           "zerolinewidth": 2
          }
         }
        },
        "title": {
         "text": "Batch K-Estimate Results"
        },
        "width": 1200,
        "xaxis": {
         "anchor": "y",
         "autorange": true,
         "domain": [
          0,
          0.94
         ],
         "range": [
          -0.5,
          8.5
         ],
         "type": "category"
        },
        "yaxis": {
         "anchor": "x",
         "autorange": true,
         "domain": [
          0,
          1
         ],
         "range": [
          -16.333333333333332,
          310.3333333333333
         ],
         "title": {
          "text": "Count"
         },
         "type": "linear"
        },
        "yaxis2": {
         "anchor": "x",
         "autorange": true,
         "overlaying": "y",
         "range": [
          0.0056898728428701195,
          0.3734101271571299
         ],
         "side": "right",
         "title": {
          "text": "R2"
         },
         "type": "linear"
        }
       }
      },
      "text/html": [
       "<div>                            <div id=\"5a4247a2-0b96-4bfa-ad15-d5a5309770fc\" class=\"plotly-graph-div\" style=\"height:800px; width:1200px;\"></div>            <script type=\"text/javascript\">                require([\"plotly\"], function(Plotly) {                    window.PLOTLYENV=window.PLOTLYENV || {};                                    if (document.getElementById(\"5a4247a2-0b96-4bfa-ad15-d5a5309770fc\")) {                    Plotly.newPlot(                        \"5a4247a2-0b96-4bfa-ad15-d5a5309770fc\",                        [{\"name\":\"Factor 2\",\"y\":[5,4,12,2,20,12,4,12,2,19,11,10,20,12,20,2,10,14,12,2,20,19,19,8,0,14,8,14,19,0,8,8,8,14,18,8,2,14,12,19,14,14,2,12,12,11,14,11,9,0],\"type\":\"box\",\"xaxis\":\"x\",\"yaxis\":\"y\"},{\"name\":\"Factor 3\",\"y\":[0,5,20,20,20,16,0,16,25,25,8,17,13,5,3,26,9,3,15,8,4,25,16,11,9,16,8,10,8,3,16,12,10,25,25,10,17,16,0,20,5,25,25,7,7,12,25,25,17,25],\"type\":\"box\",\"xaxis\":\"x\",\"yaxis\":\"y\"},{\"name\":\"Factor 4\",\"y\":[83,44,92,95,78,95,95,49,98,43,80,83,98,91,50,80,4,95,78,82,95,77,78,95,13,79,95,83,83,94,78,83,82,80,95,94,76,97,92,42,31,49,80,95,49,95,49,77,83,80],\"type\":\"box\",\"xaxis\":\"x\",\"yaxis\":\"y\"},{\"name\":\"Factor 5\",\"y\":[160,160,160,162,151,49,77,159,151,76,159,160,159,151,160,151,151,151,151,160,76,75,151,160,96,159,159,160,160,76,96,92,151,151,151,58,121,160,96,151,62,151,160,159,160,151,151,76,151,76],\"type\":\"box\",\"xaxis\":\"x\",\"yaxis\":\"y\"},{\"name\":\"Factor 6\",\"y\":[294,294,294,294,294,294,294,294,294,294,294,294,294,294,294,294,294,294,294,294,294,294,294,294,294,294,294,294,294,294,294,294,294,294,294,294,294,294,293,294,294,294,294,294,293,294,294,294,294,294],\"type\":\"box\",\"xaxis\":\"x\",\"yaxis\":\"y\"},{\"name\":\"Factor 7\",\"y\":[199,229,196,212,224,213,233,152,212,196,218,216,225,191,200,195,214,212,211,225,219,223,174,182,216,237,214,229,229,198,213,186,223,129,210,226,196,225,200,156,215,134,216,211,207,217,199,198,187,204],\"type\":\"box\",\"xaxis\":\"x\",\"yaxis\":\"y\"},{\"name\":\"Factor 8\",\"y\":[83,137,149,126,114,136,137,171,141,119,145,130,136,111,140,138,130,136,139,134,154,103,126,149,115,143,170,177,132,157,154,127,156,130,124,138,142,155,128,155,74,122,138,152,131,142,153,144,71,130],\"type\":\"box\",\"xaxis\":\"x\",\"yaxis\":\"y\"},{\"name\":\"Factor 9\",\"y\":[83,99,85,83,70,93,73,109,88,81,47,85,101,92,23,66,43,109,72,95,39,79,93,95,79,92,90,82,68,35,95,74,51,92,89,99,68,60,64,67,15,92,59,87,83,73,102,83,56,60],\"type\":\"box\",\"xaxis\":\"x\",\"yaxis\":\"y\"},{\"name\":\"Factor 10\",\"y\":[56,46,13,43,47,39,38,52,67,20,33,42,28,26,36,33,55,37,52,38,32,30,42,44,46,34,34,50,46,38,53,40,53,47,32,22,47,59,45,10,10,16,29,33,35,47,24,31,28,24],\"type\":\"box\",\"xaxis\":\"x\",\"yaxis\":\"y\"},{\"name\":\"Average Model Profile R2\",\"x\":[\"Factor 2\",\"Factor 3\",\"Factor 4\",\"Factor 5\",\"Factor 6\",\"Factor 7\",\"Factor 8\",\"Factor 9\",\"Factor 10\"],\"y\":[0.3528,0.104,0.0416,0.0352,0.0263,0.0352,0.0425,0.0465,0.052],\"type\":\"scatter\",\"xaxis\":\"x\",\"yaxis\":\"y2\"}],                        {\"template\":{\"data\":{\"histogram2dcontour\":[{\"type\":\"histogram2dcontour\",\"colorbar\":{\"outlinewidth\":0,\"ticks\":\"\"},\"colorscale\":[[0.0,\"#0d0887\"],[0.1111111111111111,\"#46039f\"],[0.2222222222222222,\"#7201a8\"],[0.3333333333333333,\"#9c179e\"],[0.4444444444444444,\"#bd3786\"],[0.5555555555555556,\"#d8576b\"],[0.6666666666666666,\"#ed7953\"],[0.7777777777777778,\"#fb9f3a\"],[0.8888888888888888,\"#fdca26\"],[1.0,\"#f0f921\"]]}],\"choropleth\":[{\"type\":\"choropleth\",\"colorbar\":{\"outlinewidth\":0,\"ticks\":\"\"}}],\"histogram2d\":[{\"type\":\"histogram2d\",\"colorbar\":{\"outlinewidth\":0,\"ticks\":\"\"},\"colorscale\":[[0.0,\"#0d0887\"],[0.1111111111111111,\"#46039f\"],[0.2222222222222222,\"#7201a8\"],[0.3333333333333333,\"#9c179e\"],[0.4444444444444444,\"#bd3786\"],[0.5555555555555556,\"#d8576b\"],[0.6666666666666666,\"#ed7953\"],[0.7777777777777778,\"#fb9f3a\"],[0.8888888888888888,\"#fdca26\"],[1.0,\"#f0f921\"]]}],\"heatmap\":[{\"type\":\"heatmap\",\"colorbar\":{\"outlinewidth\":0,\"ticks\":\"\"},\"colorscale\":[[0.0,\"#0d0887\"],[0.1111111111111111,\"#46039f\"],[0.2222222222222222,\"#7201a8\"],[0.3333333333333333,\"#9c179e\"],[0.4444444444444444,\"#bd3786\"],[0.5555555555555556,\"#d8576b\"],[0.6666666666666666,\"#ed7953\"],[0.7777777777777778,\"#fb9f3a\"],[0.8888888888888888,\"#fdca26\"],[1.0,\"#f0f921\"]]}],\"heatmapgl\":[{\"type\":\"heatmapgl\",\"colorbar\":{\"outlinewidth\":0,\"ticks\":\"\"},\"colorscale\":[[0.0,\"#0d0887\"],[0.1111111111111111,\"#46039f\"],[0.2222222222222222,\"#7201a8\"],[0.3333333333333333,\"#9c179e\"],[0.4444444444444444,\"#bd3786\"],[0.5555555555555556,\"#d8576b\"],[0.6666666666666666,\"#ed7953\"],[0.7777777777777778,\"#fb9f3a\"],[0.8888888888888888,\"#fdca26\"],[1.0,\"#f0f921\"]]}],\"contourcarpet\":[{\"type\":\"contourcarpet\",\"colorbar\":{\"outlinewidth\":0,\"ticks\":\"\"}}],\"contour\":[{\"type\":\"contour\",\"colorbar\":{\"outlinewidth\":0,\"ticks\":\"\"},\"colorscale\":[[0.0,\"#0d0887\"],[0.1111111111111111,\"#46039f\"],[0.2222222222222222,\"#7201a8\"],[0.3333333333333333,\"#9c179e\"],[0.4444444444444444,\"#bd3786\"],[0.5555555555555556,\"#d8576b\"],[0.6666666666666666,\"#ed7953\"],[0.7777777777777778,\"#fb9f3a\"],[0.8888888888888888,\"#fdca26\"],[1.0,\"#f0f921\"]]}],\"surface\":[{\"type\":\"surface\",\"colorbar\":{\"outlinewidth\":0,\"ticks\":\"\"},\"colorscale\":[[0.0,\"#0d0887\"],[0.1111111111111111,\"#46039f\"],[0.2222222222222222,\"#7201a8\"],[0.3333333333333333,\"#9c179e\"],[0.4444444444444444,\"#bd3786\"],[0.5555555555555556,\"#d8576b\"],[0.6666666666666666,\"#ed7953\"],[0.7777777777777778,\"#fb9f3a\"],[0.8888888888888888,\"#fdca26\"],[1.0,\"#f0f921\"]]}],\"mesh3d\":[{\"type\":\"mesh3d\",\"colorbar\":{\"outlinewidth\":0,\"ticks\":\"\"}}],\"scatter\":[{\"fillpattern\":{\"fillmode\":\"overlay\",\"size\":10,\"solidity\":0.2},\"type\":\"scatter\"}],\"parcoords\":[{\"type\":\"parcoords\",\"line\":{\"colorbar\":{\"outlinewidth\":0,\"ticks\":\"\"}}}],\"scatterpolargl\":[{\"type\":\"scatterpolargl\",\"marker\":{\"colorbar\":{\"outlinewidth\":0,\"ticks\":\"\"}}}],\"bar\":[{\"error_x\":{\"color\":\"#2a3f5f\"},\"error_y\":{\"color\":\"#2a3f5f\"},\"marker\":{\"line\":{\"color\":\"#E5ECF6\",\"width\":0.5},\"pattern\":{\"fillmode\":\"overlay\",\"size\":10,\"solidity\":0.2}},\"type\":\"bar\"}],\"scattergeo\":[{\"type\":\"scattergeo\",\"marker\":{\"colorbar\":{\"outlinewidth\":0,\"ticks\":\"\"}}}],\"scatterpolar\":[{\"type\":\"scatterpolar\",\"marker\":{\"colorbar\":{\"outlinewidth\":0,\"ticks\":\"\"}}}],\"histogram\":[{\"marker\":{\"pattern\":{\"fillmode\":\"overlay\",\"size\":10,\"solidity\":0.2}},\"type\":\"histogram\"}],\"scattergl\":[{\"type\":\"scattergl\",\"marker\":{\"colorbar\":{\"outlinewidth\":0,\"ticks\":\"\"}}}],\"scatter3d\":[{\"type\":\"scatter3d\",\"line\":{\"colorbar\":{\"outlinewidth\":0,\"ticks\":\"\"}},\"marker\":{\"colorbar\":{\"outlinewidth\":0,\"ticks\":\"\"}}}],\"scattermapbox\":[{\"type\":\"scattermapbox\",\"marker\":{\"colorbar\":{\"outlinewidth\":0,\"ticks\":\"\"}}}],\"scatterternary\":[{\"type\":\"scatterternary\",\"marker\":{\"colorbar\":{\"outlinewidth\":0,\"ticks\":\"\"}}}],\"scattercarpet\":[{\"type\":\"scattercarpet\",\"marker\":{\"colorbar\":{\"outlinewidth\":0,\"ticks\":\"\"}}}],\"carpet\":[{\"aaxis\":{\"endlinecolor\":\"#2a3f5f\",\"gridcolor\":\"white\",\"linecolor\":\"white\",\"minorgridcolor\":\"white\",\"startlinecolor\":\"#2a3f5f\"},\"baxis\":{\"endlinecolor\":\"#2a3f5f\",\"gridcolor\":\"white\",\"linecolor\":\"white\",\"minorgridcolor\":\"white\",\"startlinecolor\":\"#2a3f5f\"},\"type\":\"carpet\"}],\"table\":[{\"cells\":{\"fill\":{\"color\":\"#EBF0F8\"},\"line\":{\"color\":\"white\"}},\"header\":{\"fill\":{\"color\":\"#C8D4E3\"},\"line\":{\"color\":\"white\"}},\"type\":\"table\"}],\"barpolar\":[{\"marker\":{\"line\":{\"color\":\"#E5ECF6\",\"width\":0.5},\"pattern\":{\"fillmode\":\"overlay\",\"size\":10,\"solidity\":0.2}},\"type\":\"barpolar\"}],\"pie\":[{\"automargin\":true,\"type\":\"pie\"}]},\"layout\":{\"autotypenumbers\":\"strict\",\"colorway\":[\"#636efa\",\"#EF553B\",\"#00cc96\",\"#ab63fa\",\"#FFA15A\",\"#19d3f3\",\"#FF6692\",\"#B6E880\",\"#FF97FF\",\"#FECB52\"],\"font\":{\"color\":\"#2a3f5f\"},\"hovermode\":\"closest\",\"hoverlabel\":{\"align\":\"left\"},\"paper_bgcolor\":\"white\",\"plot_bgcolor\":\"#E5ECF6\",\"polar\":{\"bgcolor\":\"#E5ECF6\",\"angularaxis\":{\"gridcolor\":\"white\",\"linecolor\":\"white\",\"ticks\":\"\"},\"radialaxis\":{\"gridcolor\":\"white\",\"linecolor\":\"white\",\"ticks\":\"\"}},\"ternary\":{\"bgcolor\":\"#E5ECF6\",\"aaxis\":{\"gridcolor\":\"white\",\"linecolor\":\"white\",\"ticks\":\"\"},\"baxis\":{\"gridcolor\":\"white\",\"linecolor\":\"white\",\"ticks\":\"\"},\"caxis\":{\"gridcolor\":\"white\",\"linecolor\":\"white\",\"ticks\":\"\"}},\"coloraxis\":{\"colorbar\":{\"outlinewidth\":0,\"ticks\":\"\"}},\"colorscale\":{\"sequential\":[[0.0,\"#0d0887\"],[0.1111111111111111,\"#46039f\"],[0.2222222222222222,\"#7201a8\"],[0.3333333333333333,\"#9c179e\"],[0.4444444444444444,\"#bd3786\"],[0.5555555555555556,\"#d8576b\"],[0.6666666666666666,\"#ed7953\"],[0.7777777777777778,\"#fb9f3a\"],[0.8888888888888888,\"#fdca26\"],[1.0,\"#f0f921\"]],\"sequentialminus\":[[0.0,\"#0d0887\"],[0.1111111111111111,\"#46039f\"],[0.2222222222222222,\"#7201a8\"],[0.3333333333333333,\"#9c179e\"],[0.4444444444444444,\"#bd3786\"],[0.5555555555555556,\"#d8576b\"],[0.6666666666666666,\"#ed7953\"],[0.7777777777777778,\"#fb9f3a\"],[0.8888888888888888,\"#fdca26\"],[1.0,\"#f0f921\"]],\"diverging\":[[0,\"#8e0152\"],[0.1,\"#c51b7d\"],[0.2,\"#de77ae\"],[0.3,\"#f1b6da\"],[0.4,\"#fde0ef\"],[0.5,\"#f7f7f7\"],[0.6,\"#e6f5d0\"],[0.7,\"#b8e186\"],[0.8,\"#7fbc41\"],[0.9,\"#4d9221\"],[1,\"#276419\"]]},\"xaxis\":{\"gridcolor\":\"white\",\"linecolor\":\"white\",\"ticks\":\"\",\"title\":{\"standoff\":15},\"zerolinecolor\":\"white\",\"automargin\":true,\"zerolinewidth\":2},\"yaxis\":{\"gridcolor\":\"white\",\"linecolor\":\"white\",\"ticks\":\"\",\"title\":{\"standoff\":15},\"zerolinecolor\":\"white\",\"automargin\":true,\"zerolinewidth\":2},\"scene\":{\"xaxis\":{\"backgroundcolor\":\"#E5ECF6\",\"gridcolor\":\"white\",\"linecolor\":\"white\",\"showbackground\":true,\"ticks\":\"\",\"zerolinecolor\":\"white\",\"gridwidth\":2},\"yaxis\":{\"backgroundcolor\":\"#E5ECF6\",\"gridcolor\":\"white\",\"linecolor\":\"white\",\"showbackground\":true,\"ticks\":\"\",\"zerolinecolor\":\"white\",\"gridwidth\":2},\"zaxis\":{\"backgroundcolor\":\"#E5ECF6\",\"gridcolor\":\"white\",\"linecolor\":\"white\",\"showbackground\":true,\"ticks\":\"\",\"zerolinecolor\":\"white\",\"gridwidth\":2}},\"shapedefaults\":{\"line\":{\"color\":\"#2a3f5f\"}},\"annotationdefaults\":{\"arrowcolor\":\"#2a3f5f\",\"arrowhead\":0,\"arrowwidth\":1},\"geo\":{\"bgcolor\":\"white\",\"landcolor\":\"#E5ECF6\",\"subunitcolor\":\"white\",\"showland\":true,\"showlakes\":true,\"lakecolor\":\"white\"},\"title\":{\"x\":0.05},\"mapbox\":{\"style\":\"light\"}}},\"xaxis\":{\"anchor\":\"y\",\"domain\":[0.0,0.94]},\"yaxis\":{\"anchor\":\"x\",\"domain\":[0.0,1.0],\"title\":{\"text\":\"Count\"}},\"yaxis2\":{\"anchor\":\"x\",\"overlaying\":\"y\",\"side\":\"right\",\"title\":{\"text\":\"R2\"}},\"title\":{\"text\":\"Batch K-Estimate Results\"},\"width\":1200,\"height\":800},                        {\"responsive\": true}                    ).then(function(){\n",
       "                            \n",
       "var gd = document.getElementById('5a4247a2-0b96-4bfa-ad15-d5a5309770fc');\n",
       "var x = new MutationObserver(function (mutations, observer) {{\n",
       "        var display = window.getComputedStyle(gd).display;\n",
       "        if (!display || display === 'none') {{\n",
       "            console.log([gd, 'removed!']);\n",
       "            Plotly.purge(gd);\n",
       "            observer.disconnect();\n",
       "        }}\n",
       "}});\n",
       "\n",
       "// Listen for the removal of the full notebook cells\n",
       "var notebookContainer = gd.closest('#notebook-container');\n",
       "if (notebookContainer) {{\n",
       "    x.observe(notebookContainer, {childList: true});\n",
       "}}\n",
       "\n",
       "// Listen for the clearing of the current output cell\n",
       "var outputEl = gd.closest('.output');\n",
       "if (outputEl) {{\n",
       "    x.observe(outputEl, {childList: true});\n",
       "}}\n",
       "\n",
       "                        })                };                });            </script>        </div>"
      ]
     },
     "metadata": {},
     "output_type": "display_data"
    }
   ],
   "source": [
    "batch_fig = make_subplots(specs=[[{\"secondary_y\": True}]])\n",
    "for i in range(max_factors-min_factors+1):\n",
    "    i_results = count_total[i]\n",
    "    i_label = factor_labels[i]\n",
    "    batch_fig.add_trace(go.Box(y=i_results, name=i_label), secondary_y=False)\n",
    "batch_fig.add_trace(go.Scatter(x=factor_labels, y=model_r2, name=\"Average Model Profile R2\"), secondary_y=True)\n",
    "batch_fig.update_layout(title=\"Batch K-Estimate Results\", width=1200, height=800)\n",
    "batch_fig.update_yaxes(secondary_y=False, title_text=\"Count\")\n",
    "batch_fig.update_yaxes(secondary_y=True, title_text=\"R2\")\n",
    "batch_fig.show()"
   ]
  },
  {
   "cell_type": "code",
   "execution_count": 17,
   "id": "44335811-069c-4a0f-a84c-671fdbab2f38",
   "metadata": {},
   "outputs": [
    {
     "data": {
      "application/vnd.plotly.v1+json": {
       "config": {
        "plotlyServerURL": "https://plot.ly"
       },
       "data": [
        {
         "name": "Factor 2",
         "type": "box",
         "y": [
          0.7831,
          0.8112,
          0.8674,
          0.8502,
          0.8771,
          0.8591,
          0.8107,
          0.8162,
          0.8111,
          0.86,
          0.8541,
          0.8209,
          0.8743,
          0.8729,
          0.8633,
          0.837,
          0.8063,
          0.8495,
          0.8281,
          0.8584,
          0.8667,
          0.866,
          0.8729,
          0.8803,
          0.7995,
          0.8793,
          0.842,
          0.8745,
          0.8537,
          0.8793,
          0.8943,
          0.8917,
          0.8426,
          0.8738,
          0.8804,
          0.8789,
          0.8256,
          0.8354,
          0.861,
          0.8243,
          0.8444,
          0.8158,
          0.824,
          0.8189,
          0.8351,
          0.8402,
          0.8578,
          0.8721,
          0.7833
         ]
        },
        {
         "name": "Factor 3",
         "type": "box",
         "y": [
          0.7199,
          0.7222,
          0.7582,
          0.7568,
          0.7944,
          0.7866,
          0.763,
          0.7907,
          0.7529,
          0.7298,
          0.7467,
          0.7892,
          0.7732,
          0.7346,
          0.7683,
          0.7919,
          0.7587,
          0.7151,
          0.7427,
          0.7282,
          0.7606,
          0.8043,
          0.7929,
          0.8058,
          0.798,
          0.751,
          0.7108,
          0.7322,
          0.76,
          0.7751,
          0.7825,
          0.7076,
          0.7085,
          0.7528,
          0.7593,
          0.7745,
          0.8023,
          0.7606,
          0.7687,
          0.7665,
          0.7855,
          0.8111,
          0.7474,
          0.7454,
          0.7619,
          0.7398,
          0.753,
          0.7862,
          0.8111
         ]
        },
        {
         "name": "Factor 4",
         "type": "box",
         "y": [
          0.9286,
          0.8739,
          0.9112,
          0.9111,
          0.93,
          0.9111,
          0.888,
          0.83,
          0.8841,
          0.8114,
          0.9088,
          0.9217,
          0.905,
          0.8824,
          0.8433,
          0.8478,
          0.7777,
          0.917,
          0.9308,
          0.9211,
          0.918,
          0.9313,
          0.9228,
          0.8588,
          0.8453,
          0.9091,
          0.9121,
          0.9296,
          0.9243,
          0.9179,
          0.9263,
          0.9292,
          0.9126,
          0.9111,
          0.9009,
          0.9217,
          0.9115,
          0.903,
          0.8691,
          0.8053,
          0.8082,
          0.913,
          0.9139,
          0.8037,
          0.8999,
          0.8203,
          0.9223,
          0.9295,
          0.9309
         ]
        },
        {
         "name": "Factor 5",
         "type": "box",
         "y": [
          0.9357,
          0.9355,
          0.9354,
          0.933,
          0.9081,
          0.7886,
          0.8678,
          0.9363,
          0.9126,
          0.8687,
          0.9352,
          0.9354,
          0.9334,
          0.9318,
          0.9329,
          0.9294,
          0.9302,
          0.9307,
          0.9309,
          0.8893,
          0.8565,
          0.8923,
          0.9309,
          0.8767,
          0.8904,
          0.9353,
          0.9354,
          0.9356,
          0.8798,
          0.8419,
          0.8728,
          0.9177,
          0.9298,
          0.9306,
          0.8806,
          0.8924,
          0.9273,
          0.8543,
          0.9077,
          0.8797,
          0.915,
          0.936,
          0.936,
          0.936,
          0.9293,
          0.9301,
          0.852,
          0.9305,
          0.8535
         ]
        },
        {
         "name": "Factor 6",
         "type": "box",
         "y": [
          0.9996,
          0.9992,
          0.9995,
          0.9991,
          0.9994,
          0.9994,
          0.9992,
          0.9995,
          0.9992,
          0.9993,
          0.999,
          0.9994,
          0.9994,
          0.9995,
          0.9995,
          0.9992,
          0.9989,
          0.9995,
          0.9996,
          0.9996,
          0.9995,
          0.9992,
          0.9992,
          0.9995,
          0.9995,
          0.9994,
          0.9994,
          0.9995,
          0.9993,
          0.9993,
          0.9995,
          0.999,
          0.9992,
          0.9995,
          0.9993,
          0.9995,
          0.9993,
          0.9987,
          0.9992,
          0.9994,
          0.9996,
          0.9995,
          0.9995,
          0.9971,
          0.9984,
          0.9995,
          0.9996,
          0.9995,
          0.9983
         ]
        },
        {
         "name": "Factor 7",
         "type": "box",
         "y": [
          0.8991,
          0.9432,
          0.904,
          0.944,
          0.946,
          0.9366,
          0.912,
          0.8577,
          0.9084,
          0.9018,
          0.9454,
          0.9449,
          0.9285,
          0.8946,
          0.8784,
          0.9038,
          0.9219,
          0.9023,
          0.9138,
          0.946,
          0.9366,
          0.9322,
          0.9252,
          0.9315,
          0.9433,
          0.9226,
          0.9269,
          0.9196,
          0.9081,
          0.9276,
          0.9119,
          0.9183,
          0.9015,
          0.9167,
          0.9389,
          0.9391,
          0.9396,
          0.9416,
          0.8685,
          0.8928,
          0.9127,
          0.9247,
          0.9191,
          0.9412,
          0.9329,
          0.9362,
          0.8961,
          0.8897,
          0.9044
         ]
        },
        {
         "name": "Factor 8",
         "type": "box",
         "y": [
          0.8445,
          0.8778,
          0.8714,
          0.8404,
          0.8444,
          0.8802,
          0.8752,
          0.8684,
          0.8434,
          0.8464,
          0.8554,
          0.8498,
          0.8383,
          0.8389,
          0.8526,
          0.8643,
          0.856,
          0.8649,
          0.8749,
          0.8615,
          0.8428,
          0.8675,
          0.8599,
          0.8665,
          0.8776,
          0.8822,
          0.8813,
          0.8748,
          0.8597,
          0.8548,
          0.8561,
          0.8768,
          0.8796,
          0.8809,
          0.8725,
          0.8581,
          0.8529,
          0.8753,
          0.8727,
          0.8422,
          0.8177,
          0.881,
          0.8848,
          0.8502,
          0.8247,
          0.8701,
          0.8709,
          0.8071,
          0.8757
         ]
        },
        {
         "name": "Factor 9",
         "type": "box",
         "y": [
          0.7978,
          0.8161,
          0.805,
          0.8351,
          0.8112,
          0.8192,
          0.8189,
          0.8173,
          0.8143,
          0.7952,
          0.7902,
          0.8323,
          0.8378,
          0.828,
          0.7971,
          0.7872,
          0.8321,
          0.8272,
          0.8048,
          0.7777,
          0.7663,
          0.7997,
          0.8181,
          0.8229,
          0.8241,
          0.821,
          0.8116,
          0.8246,
          0.8211,
          0.816,
          0.802,
          0.8079,
          0.819,
          0.8202,
          0.8182,
          0.7974,
          0.8133,
          0.8083,
          0.7677,
          0.7959,
          0.8224,
          0.7882,
          0.8249,
          0.8243,
          0.7843,
          0.8244,
          0.8007,
          0.8178,
          0.8048
         ]
        },
        {
         "name": "Factor 10",
         "type": "box",
         "y": [
          0.7633,
          0.7374,
          0.7334,
          0.7439,
          0.7555,
          0.7567,
          0.7494,
          0.7811,
          0.7745,
          0.7664,
          0.761,
          0.7569,
          0.7287,
          0.7475,
          0.7844,
          0.764,
          0.7674,
          0.7765,
          0.7667,
          0.7504,
          0.7544,
          0.7449,
          0.747,
          0.7624,
          0.7712,
          0.7639,
          0.7634,
          0.7375,
          0.7307,
          0.7425,
          0.7578,
          0.7656,
          0.7623,
          0.7754,
          0.7257,
          0.7085,
          0.7526,
          0.7502,
          0.7443,
          0.7266,
          0.7488,
          0.7472,
          0.6802,
          0.7543,
          0.7582,
          0.7571,
          0.7406,
          0.7385,
          0.7417
         ]
        }
       ],
       "layout": {
        "height": 800,
        "template": {
         "data": {
          "bar": [
           {
            "error_x": {
             "color": "#2a3f5f"
            },
            "error_y": {
             "color": "#2a3f5f"
            },
            "marker": {
             "line": {
              "color": "#E5ECF6",
              "width": 0.5
             },
             "pattern": {
              "fillmode": "overlay",
              "size": 10,
              "solidity": 0.2
             }
            },
            "type": "bar"
           }
          ],
          "barpolar": [
           {
            "marker": {
             "line": {
              "color": "#E5ECF6",
              "width": 0.5
             },
             "pattern": {
              "fillmode": "overlay",
              "size": 10,
              "solidity": 0.2
             }
            },
            "type": "barpolar"
           }
          ],
          "carpet": [
           {
            "aaxis": {
             "endlinecolor": "#2a3f5f",
             "gridcolor": "white",
             "linecolor": "white",
             "minorgridcolor": "white",
             "startlinecolor": "#2a3f5f"
            },
            "baxis": {
             "endlinecolor": "#2a3f5f",
             "gridcolor": "white",
             "linecolor": "white",
             "minorgridcolor": "white",
             "startlinecolor": "#2a3f5f"
            },
            "type": "carpet"
           }
          ],
          "choropleth": [
           {
            "colorbar": {
             "outlinewidth": 0,
             "ticks": ""
            },
            "type": "choropleth"
           }
          ],
          "contour": [
           {
            "colorbar": {
             "outlinewidth": 0,
             "ticks": ""
            },
            "colorscale": [
             [
              0,
              "#0d0887"
             ],
             [
              0.1111111111111111,
              "#46039f"
             ],
             [
              0.2222222222222222,
              "#7201a8"
             ],
             [
              0.3333333333333333,
              "#9c179e"
             ],
             [
              0.4444444444444444,
              "#bd3786"
             ],
             [
              0.5555555555555556,
              "#d8576b"
             ],
             [
              0.6666666666666666,
              "#ed7953"
             ],
             [
              0.7777777777777778,
              "#fb9f3a"
             ],
             [
              0.8888888888888888,
              "#fdca26"
             ],
             [
              1,
              "#f0f921"
             ]
            ],
            "type": "contour"
           }
          ],
          "contourcarpet": [
           {
            "colorbar": {
             "outlinewidth": 0,
             "ticks": ""
            },
            "type": "contourcarpet"
           }
          ],
          "heatmap": [
           {
            "colorbar": {
             "outlinewidth": 0,
             "ticks": ""
            },
            "colorscale": [
             [
              0,
              "#0d0887"
             ],
             [
              0.1111111111111111,
              "#46039f"
             ],
             [
              0.2222222222222222,
              "#7201a8"
             ],
             [
              0.3333333333333333,
              "#9c179e"
             ],
             [
              0.4444444444444444,
              "#bd3786"
             ],
             [
              0.5555555555555556,
              "#d8576b"
             ],
             [
              0.6666666666666666,
              "#ed7953"
             ],
             [
              0.7777777777777778,
              "#fb9f3a"
             ],
             [
              0.8888888888888888,
              "#fdca26"
             ],
             [
              1,
              "#f0f921"
             ]
            ],
            "type": "heatmap"
           }
          ],
          "heatmapgl": [
           {
            "colorbar": {
             "outlinewidth": 0,
             "ticks": ""
            },
            "colorscale": [
             [
              0,
              "#0d0887"
             ],
             [
              0.1111111111111111,
              "#46039f"
             ],
             [
              0.2222222222222222,
              "#7201a8"
             ],
             [
              0.3333333333333333,
              "#9c179e"
             ],
             [
              0.4444444444444444,
              "#bd3786"
             ],
             [
              0.5555555555555556,
              "#d8576b"
             ],
             [
              0.6666666666666666,
              "#ed7953"
             ],
             [
              0.7777777777777778,
              "#fb9f3a"
             ],
             [
              0.8888888888888888,
              "#fdca26"
             ],
             [
              1,
              "#f0f921"
             ]
            ],
            "type": "heatmapgl"
           }
          ],
          "histogram": [
           {
            "marker": {
             "pattern": {
              "fillmode": "overlay",
              "size": 10,
              "solidity": 0.2
             }
            },
            "type": "histogram"
           }
          ],
          "histogram2d": [
           {
            "colorbar": {
             "outlinewidth": 0,
             "ticks": ""
            },
            "colorscale": [
             [
              0,
              "#0d0887"
             ],
             [
              0.1111111111111111,
              "#46039f"
             ],
             [
              0.2222222222222222,
              "#7201a8"
             ],
             [
              0.3333333333333333,
              "#9c179e"
             ],
             [
              0.4444444444444444,
              "#bd3786"
             ],
             [
              0.5555555555555556,
              "#d8576b"
             ],
             [
              0.6666666666666666,
              "#ed7953"
             ],
             [
              0.7777777777777778,
              "#fb9f3a"
             ],
             [
              0.8888888888888888,
              "#fdca26"
             ],
             [
              1,
              "#f0f921"
             ]
            ],
            "type": "histogram2d"
           }
          ],
          "histogram2dcontour": [
           {
            "colorbar": {
             "outlinewidth": 0,
             "ticks": ""
            },
            "colorscale": [
             [
              0,
              "#0d0887"
             ],
             [
              0.1111111111111111,
              "#46039f"
             ],
             [
              0.2222222222222222,
              "#7201a8"
             ],
             [
              0.3333333333333333,
              "#9c179e"
             ],
             [
              0.4444444444444444,
              "#bd3786"
             ],
             [
              0.5555555555555556,
              "#d8576b"
             ],
             [
              0.6666666666666666,
              "#ed7953"
             ],
             [
              0.7777777777777778,
              "#fb9f3a"
             ],
             [
              0.8888888888888888,
              "#fdca26"
             ],
             [
              1,
              "#f0f921"
             ]
            ],
            "type": "histogram2dcontour"
           }
          ],
          "mesh3d": [
           {
            "colorbar": {
             "outlinewidth": 0,
             "ticks": ""
            },
            "type": "mesh3d"
           }
          ],
          "parcoords": [
           {
            "line": {
             "colorbar": {
              "outlinewidth": 0,
              "ticks": ""
             }
            },
            "type": "parcoords"
           }
          ],
          "pie": [
           {
            "automargin": true,
            "type": "pie"
           }
          ],
          "scatter": [
           {
            "fillpattern": {
             "fillmode": "overlay",
             "size": 10,
             "solidity": 0.2
            },
            "type": "scatter"
           }
          ],
          "scatter3d": [
           {
            "line": {
             "colorbar": {
              "outlinewidth": 0,
              "ticks": ""
             }
            },
            "marker": {
             "colorbar": {
              "outlinewidth": 0,
              "ticks": ""
             }
            },
            "type": "scatter3d"
           }
          ],
          "scattercarpet": [
           {
            "marker": {
             "colorbar": {
              "outlinewidth": 0,
              "ticks": ""
             }
            },
            "type": "scattercarpet"
           }
          ],
          "scattergeo": [
           {
            "marker": {
             "colorbar": {
              "outlinewidth": 0,
              "ticks": ""
             }
            },
            "type": "scattergeo"
           }
          ],
          "scattergl": [
           {
            "marker": {
             "colorbar": {
              "outlinewidth": 0,
              "ticks": ""
             }
            },
            "type": "scattergl"
           }
          ],
          "scattermapbox": [
           {
            "marker": {
             "colorbar": {
              "outlinewidth": 0,
              "ticks": ""
             }
            },
            "type": "scattermapbox"
           }
          ],
          "scatterpolar": [
           {
            "marker": {
             "colorbar": {
              "outlinewidth": 0,
              "ticks": ""
             }
            },
            "type": "scatterpolar"
           }
          ],
          "scatterpolargl": [
           {
            "marker": {
             "colorbar": {
              "outlinewidth": 0,
              "ticks": ""
             }
            },
            "type": "scatterpolargl"
           }
          ],
          "scatterternary": [
           {
            "marker": {
             "colorbar": {
              "outlinewidth": 0,
              "ticks": ""
             }
            },
            "type": "scatterternary"
           }
          ],
          "surface": [
           {
            "colorbar": {
             "outlinewidth": 0,
             "ticks": ""
            },
            "colorscale": [
             [
              0,
              "#0d0887"
             ],
             [
              0.1111111111111111,
              "#46039f"
             ],
             [
              0.2222222222222222,
              "#7201a8"
             ],
             [
              0.3333333333333333,
              "#9c179e"
             ],
             [
              0.4444444444444444,
              "#bd3786"
             ],
             [
              0.5555555555555556,
              "#d8576b"
             ],
             [
              0.6666666666666666,
              "#ed7953"
             ],
             [
              0.7777777777777778,
              "#fb9f3a"
             ],
             [
              0.8888888888888888,
              "#fdca26"
             ],
             [
              1,
              "#f0f921"
             ]
            ],
            "type": "surface"
           }
          ],
          "table": [
           {
            "cells": {
             "fill": {
              "color": "#EBF0F8"
             },
             "line": {
              "color": "white"
             }
            },
            "header": {
             "fill": {
              "color": "#C8D4E3"
             },
             "line": {
              "color": "white"
             }
            },
            "type": "table"
           }
          ]
         },
         "layout": {
          "annotationdefaults": {
           "arrowcolor": "#2a3f5f",
           "arrowhead": 0,
           "arrowwidth": 1
          },
          "autotypenumbers": "strict",
          "coloraxis": {
           "colorbar": {
            "outlinewidth": 0,
            "ticks": ""
           }
          },
          "colorscale": {
           "diverging": [
            [
             0,
             "#8e0152"
            ],
            [
             0.1,
             "#c51b7d"
            ],
            [
             0.2,
             "#de77ae"
            ],
            [
             0.3,
             "#f1b6da"
            ],
            [
             0.4,
             "#fde0ef"
            ],
            [
             0.5,
             "#f7f7f7"
            ],
            [
             0.6,
             "#e6f5d0"
            ],
            [
             0.7,
             "#b8e186"
            ],
            [
             0.8,
             "#7fbc41"
            ],
            [
             0.9,
             "#4d9221"
            ],
            [
             1,
             "#276419"
            ]
           ],
           "sequential": [
            [
             0,
             "#0d0887"
            ],
            [
             0.1111111111111111,
             "#46039f"
            ],
            [
             0.2222222222222222,
             "#7201a8"
            ],
            [
             0.3333333333333333,
             "#9c179e"
            ],
            [
             0.4444444444444444,
             "#bd3786"
            ],
            [
             0.5555555555555556,
             "#d8576b"
            ],
            [
             0.6666666666666666,
             "#ed7953"
            ],
            [
             0.7777777777777778,
             "#fb9f3a"
            ],
            [
             0.8888888888888888,
             "#fdca26"
            ],
            [
             1,
             "#f0f921"
            ]
           ],
           "sequentialminus": [
            [
             0,
             "#0d0887"
            ],
            [
             0.1111111111111111,
             "#46039f"
            ],
            [
             0.2222222222222222,
             "#7201a8"
            ],
            [
             0.3333333333333333,
             "#9c179e"
            ],
            [
             0.4444444444444444,
             "#bd3786"
            ],
            [
             0.5555555555555556,
             "#d8576b"
            ],
            [
             0.6666666666666666,
             "#ed7953"
            ],
            [
             0.7777777777777778,
             "#fb9f3a"
            ],
            [
             0.8888888888888888,
             "#fdca26"
            ],
            [
             1,
             "#f0f921"
            ]
           ]
          },
          "colorway": [
           "#636efa",
           "#EF553B",
           "#00cc96",
           "#ab63fa",
           "#FFA15A",
           "#19d3f3",
           "#FF6692",
           "#B6E880",
           "#FF97FF",
           "#FECB52"
          ],
          "font": {
           "color": "#2a3f5f"
          },
          "geo": {
           "bgcolor": "white",
           "lakecolor": "white",
           "landcolor": "#E5ECF6",
           "showlakes": true,
           "showland": true,
           "subunitcolor": "white"
          },
          "hoverlabel": {
           "align": "left"
          },
          "hovermode": "closest",
          "mapbox": {
           "style": "light"
          },
          "paper_bgcolor": "white",
          "plot_bgcolor": "#E5ECF6",
          "polar": {
           "angularaxis": {
            "gridcolor": "white",
            "linecolor": "white",
            "ticks": ""
           },
           "bgcolor": "#E5ECF6",
           "radialaxis": {
            "gridcolor": "white",
            "linecolor": "white",
            "ticks": ""
           }
          },
          "scene": {
           "xaxis": {
            "backgroundcolor": "#E5ECF6",
            "gridcolor": "white",
            "gridwidth": 2,
            "linecolor": "white",
            "showbackground": true,
            "ticks": "",
            "zerolinecolor": "white"
           },
           "yaxis": {
            "backgroundcolor": "#E5ECF6",
            "gridcolor": "white",
            "gridwidth": 2,
            "linecolor": "white",
            "showbackground": true,
            "ticks": "",
            "zerolinecolor": "white"
           },
           "zaxis": {
            "backgroundcolor": "#E5ECF6",
            "gridcolor": "white",
            "gridwidth": 2,
            "linecolor": "white",
            "showbackground": true,
            "ticks": "",
            "zerolinecolor": "white"
           }
          },
          "shapedefaults": {
           "line": {
            "color": "#2a3f5f"
           }
          },
          "ternary": {
           "aaxis": {
            "gridcolor": "white",
            "linecolor": "white",
            "ticks": ""
           },
           "baxis": {
            "gridcolor": "white",
            "linecolor": "white",
            "ticks": ""
           },
           "bgcolor": "#E5ECF6",
           "caxis": {
            "gridcolor": "white",
            "linecolor": "white",
            "ticks": ""
           }
          },
          "title": {
           "x": 0.05
          },
          "xaxis": {
           "automargin": true,
           "gridcolor": "white",
           "linecolor": "white",
           "ticks": "",
           "title": {
            "standoff": 15
           },
           "zerolinecolor": "white",
           "zerolinewidth": 2
          },
          "yaxis": {
           "automargin": true,
           "gridcolor": "white",
           "linecolor": "white",
           "ticks": "",
           "title": {
            "standoff": 15
           },
           "zerolinecolor": "white",
           "zerolinewidth": 2
          }
         }
        },
        "title": {
         "text": "Batch K-Estimate Max Correlation"
        },
        "width": 1200,
        "xaxis": {
         "autorange": true,
         "range": [
          -0.5,
          8.5
         ],
         "type": "category"
        },
        "yaxis": {
         "autorange": true,
         "range": [
          0.6624555555555556,
          1.0173444444444444
         ],
         "title": {
          "text": "Max R2"
         },
         "type": "linear"
        }
       }
      },
      "text/html": [
       "<div>                            <div id=\"9a5220dd-4016-443a-aef0-d8b42d26ca88\" class=\"plotly-graph-div\" style=\"height:800px; width:1200px;\"></div>            <script type=\"text/javascript\">                require([\"plotly\"], function(Plotly) {                    window.PLOTLYENV=window.PLOTLYENV || {};                                    if (document.getElementById(\"9a5220dd-4016-443a-aef0-d8b42d26ca88\")) {                    Plotly.newPlot(                        \"9a5220dd-4016-443a-aef0-d8b42d26ca88\",                        [{\"name\":\"Factor 2\",\"y\":[0.7831,0.8112,0.8674,0.8502,0.8771,0.8591,0.8107,0.8162,0.8111,0.86,0.8541,0.8209,0.8743,0.8729,0.8633,0.837,0.8063,0.8495,0.8281,0.8584,0.8667,0.866,0.8729,0.8803,0.7995,0.8793,0.842,0.8745,0.8537,0.8793,0.8943,0.8917,0.8426,0.8738,0.8804,0.8789,0.8256,0.8354,0.861,0.8243,0.8444,0.8158,0.824,0.8189,0.8351,0.8402,0.8578,0.8721,0.7833],\"type\":\"box\"},{\"name\":\"Factor 3\",\"y\":[0.7199,0.7222,0.7582,0.7568,0.7944,0.7866,0.763,0.7907,0.7529,0.7298,0.7467,0.7892,0.7732,0.7346,0.7683,0.7919,0.7587,0.7151,0.7427,0.7282,0.7606,0.8043,0.7929,0.8058,0.798,0.751,0.7108,0.7322,0.76,0.7751,0.7825,0.7076,0.7085,0.7528,0.7593,0.7745,0.8023,0.7606,0.7687,0.7665,0.7855,0.8111,0.7474,0.7454,0.7619,0.7398,0.753,0.7862,0.8111],\"type\":\"box\"},{\"name\":\"Factor 4\",\"y\":[0.9286,0.8739,0.9112,0.9111,0.93,0.9111,0.888,0.83,0.8841,0.8114,0.9088,0.9217,0.905,0.8824,0.8433,0.8478,0.7777,0.917,0.9308,0.9211,0.918,0.9313,0.9228,0.8588,0.8453,0.9091,0.9121,0.9296,0.9243,0.9179,0.9263,0.9292,0.9126,0.9111,0.9009,0.9217,0.9115,0.903,0.8691,0.8053,0.8082,0.913,0.9139,0.8037,0.8999,0.8203,0.9223,0.9295,0.9309],\"type\":\"box\"},{\"name\":\"Factor 5\",\"y\":[0.9357,0.9355,0.9354,0.933,0.9081,0.7886,0.8678,0.9363,0.9126,0.8687,0.9352,0.9354,0.9334,0.9318,0.9329,0.9294,0.9302,0.9307,0.9309,0.8893,0.8565,0.8923,0.9309,0.8767,0.8904,0.9353,0.9354,0.9356,0.8798,0.8419,0.8728,0.9177,0.9298,0.9306,0.8806,0.8924,0.9273,0.8543,0.9077,0.8797,0.915,0.936,0.936,0.936,0.9293,0.9301,0.852,0.9305,0.8535],\"type\":\"box\"},{\"name\":\"Factor 6\",\"y\":[0.9996,0.9992,0.9995,0.9991,0.9994,0.9994,0.9992,0.9995,0.9992,0.9993,0.999,0.9994,0.9994,0.9995,0.9995,0.9992,0.9989,0.9995,0.9996,0.9996,0.9995,0.9992,0.9992,0.9995,0.9995,0.9994,0.9994,0.9995,0.9993,0.9993,0.9995,0.999,0.9992,0.9995,0.9993,0.9995,0.9993,0.9987,0.9992,0.9994,0.9996,0.9995,0.9995,0.9971,0.9984,0.9995,0.9996,0.9995,0.9983],\"type\":\"box\"},{\"name\":\"Factor 7\",\"y\":[0.8991,0.9432,0.904,0.944,0.946,0.9366,0.912,0.8577,0.9084,0.9018,0.9454,0.9449,0.9285,0.8946,0.8784,0.9038,0.9219,0.9023,0.9138,0.946,0.9366,0.9322,0.9252,0.9315,0.9433,0.9226,0.9269,0.9196,0.9081,0.9276,0.9119,0.9183,0.9015,0.9167,0.9389,0.9391,0.9396,0.9416,0.8685,0.8928,0.9127,0.9247,0.9191,0.9412,0.9329,0.9362,0.8961,0.8897,0.9044],\"type\":\"box\"},{\"name\":\"Factor 8\",\"y\":[0.8445,0.8778,0.8714,0.8404,0.8444,0.8802,0.8752,0.8684,0.8434,0.8464,0.8554,0.8498,0.8383,0.8389,0.8526,0.8643,0.856,0.8649,0.8749,0.8615,0.8428,0.8675,0.8599,0.8665,0.8776,0.8822,0.8813,0.8748,0.8597,0.8548,0.8561,0.8768,0.8796,0.8809,0.8725,0.8581,0.8529,0.8753,0.8727,0.8422,0.8177,0.881,0.8848,0.8502,0.8247,0.8701,0.8709,0.8071,0.8757],\"type\":\"box\"},{\"name\":\"Factor 9\",\"y\":[0.7978,0.8161,0.805,0.8351,0.8112,0.8192,0.8189,0.8173,0.8143,0.7952,0.7902,0.8323,0.8378,0.828,0.7971,0.7872,0.8321,0.8272,0.8048,0.7777,0.7663,0.7997,0.8181,0.8229,0.8241,0.821,0.8116,0.8246,0.8211,0.816,0.802,0.8079,0.819,0.8202,0.8182,0.7974,0.8133,0.8083,0.7677,0.7959,0.8224,0.7882,0.8249,0.8243,0.7843,0.8244,0.8007,0.8178,0.8048],\"type\":\"box\"},{\"name\":\"Factor 10\",\"y\":[0.7633,0.7374,0.7334,0.7439,0.7555,0.7567,0.7494,0.7811,0.7745,0.7664,0.761,0.7569,0.7287,0.7475,0.7844,0.764,0.7674,0.7765,0.7667,0.7504,0.7544,0.7449,0.747,0.7624,0.7712,0.7639,0.7634,0.7375,0.7307,0.7425,0.7578,0.7656,0.7623,0.7754,0.7257,0.7085,0.7526,0.7502,0.7443,0.7266,0.7488,0.7472,0.6802,0.7543,0.7582,0.7571,0.7406,0.7385,0.7417],\"type\":\"box\"}],                        {\"template\":{\"data\":{\"histogram2dcontour\":[{\"type\":\"histogram2dcontour\",\"colorbar\":{\"outlinewidth\":0,\"ticks\":\"\"},\"colorscale\":[[0.0,\"#0d0887\"],[0.1111111111111111,\"#46039f\"],[0.2222222222222222,\"#7201a8\"],[0.3333333333333333,\"#9c179e\"],[0.4444444444444444,\"#bd3786\"],[0.5555555555555556,\"#d8576b\"],[0.6666666666666666,\"#ed7953\"],[0.7777777777777778,\"#fb9f3a\"],[0.8888888888888888,\"#fdca26\"],[1.0,\"#f0f921\"]]}],\"choropleth\":[{\"type\":\"choropleth\",\"colorbar\":{\"outlinewidth\":0,\"ticks\":\"\"}}],\"histogram2d\":[{\"type\":\"histogram2d\",\"colorbar\":{\"outlinewidth\":0,\"ticks\":\"\"},\"colorscale\":[[0.0,\"#0d0887\"],[0.1111111111111111,\"#46039f\"],[0.2222222222222222,\"#7201a8\"],[0.3333333333333333,\"#9c179e\"],[0.4444444444444444,\"#bd3786\"],[0.5555555555555556,\"#d8576b\"],[0.6666666666666666,\"#ed7953\"],[0.7777777777777778,\"#fb9f3a\"],[0.8888888888888888,\"#fdca26\"],[1.0,\"#f0f921\"]]}],\"heatmap\":[{\"type\":\"heatmap\",\"colorbar\":{\"outlinewidth\":0,\"ticks\":\"\"},\"colorscale\":[[0.0,\"#0d0887\"],[0.1111111111111111,\"#46039f\"],[0.2222222222222222,\"#7201a8\"],[0.3333333333333333,\"#9c179e\"],[0.4444444444444444,\"#bd3786\"],[0.5555555555555556,\"#d8576b\"],[0.6666666666666666,\"#ed7953\"],[0.7777777777777778,\"#fb9f3a\"],[0.8888888888888888,\"#fdca26\"],[1.0,\"#f0f921\"]]}],\"heatmapgl\":[{\"type\":\"heatmapgl\",\"colorbar\":{\"outlinewidth\":0,\"ticks\":\"\"},\"colorscale\":[[0.0,\"#0d0887\"],[0.1111111111111111,\"#46039f\"],[0.2222222222222222,\"#7201a8\"],[0.3333333333333333,\"#9c179e\"],[0.4444444444444444,\"#bd3786\"],[0.5555555555555556,\"#d8576b\"],[0.6666666666666666,\"#ed7953\"],[0.7777777777777778,\"#fb9f3a\"],[0.8888888888888888,\"#fdca26\"],[1.0,\"#f0f921\"]]}],\"contourcarpet\":[{\"type\":\"contourcarpet\",\"colorbar\":{\"outlinewidth\":0,\"ticks\":\"\"}}],\"contour\":[{\"type\":\"contour\",\"colorbar\":{\"outlinewidth\":0,\"ticks\":\"\"},\"colorscale\":[[0.0,\"#0d0887\"],[0.1111111111111111,\"#46039f\"],[0.2222222222222222,\"#7201a8\"],[0.3333333333333333,\"#9c179e\"],[0.4444444444444444,\"#bd3786\"],[0.5555555555555556,\"#d8576b\"],[0.6666666666666666,\"#ed7953\"],[0.7777777777777778,\"#fb9f3a\"],[0.8888888888888888,\"#fdca26\"],[1.0,\"#f0f921\"]]}],\"surface\":[{\"type\":\"surface\",\"colorbar\":{\"outlinewidth\":0,\"ticks\":\"\"},\"colorscale\":[[0.0,\"#0d0887\"],[0.1111111111111111,\"#46039f\"],[0.2222222222222222,\"#7201a8\"],[0.3333333333333333,\"#9c179e\"],[0.4444444444444444,\"#bd3786\"],[0.5555555555555556,\"#d8576b\"],[0.6666666666666666,\"#ed7953\"],[0.7777777777777778,\"#fb9f3a\"],[0.8888888888888888,\"#fdca26\"],[1.0,\"#f0f921\"]]}],\"mesh3d\":[{\"type\":\"mesh3d\",\"colorbar\":{\"outlinewidth\":0,\"ticks\":\"\"}}],\"scatter\":[{\"fillpattern\":{\"fillmode\":\"overlay\",\"size\":10,\"solidity\":0.2},\"type\":\"scatter\"}],\"parcoords\":[{\"type\":\"parcoords\",\"line\":{\"colorbar\":{\"outlinewidth\":0,\"ticks\":\"\"}}}],\"scatterpolargl\":[{\"type\":\"scatterpolargl\",\"marker\":{\"colorbar\":{\"outlinewidth\":0,\"ticks\":\"\"}}}],\"bar\":[{\"error_x\":{\"color\":\"#2a3f5f\"},\"error_y\":{\"color\":\"#2a3f5f\"},\"marker\":{\"line\":{\"color\":\"#E5ECF6\",\"width\":0.5},\"pattern\":{\"fillmode\":\"overlay\",\"size\":10,\"solidity\":0.2}},\"type\":\"bar\"}],\"scattergeo\":[{\"type\":\"scattergeo\",\"marker\":{\"colorbar\":{\"outlinewidth\":0,\"ticks\":\"\"}}}],\"scatterpolar\":[{\"type\":\"scatterpolar\",\"marker\":{\"colorbar\":{\"outlinewidth\":0,\"ticks\":\"\"}}}],\"histogram\":[{\"marker\":{\"pattern\":{\"fillmode\":\"overlay\",\"size\":10,\"solidity\":0.2}},\"type\":\"histogram\"}],\"scattergl\":[{\"type\":\"scattergl\",\"marker\":{\"colorbar\":{\"outlinewidth\":0,\"ticks\":\"\"}}}],\"scatter3d\":[{\"type\":\"scatter3d\",\"line\":{\"colorbar\":{\"outlinewidth\":0,\"ticks\":\"\"}},\"marker\":{\"colorbar\":{\"outlinewidth\":0,\"ticks\":\"\"}}}],\"scattermapbox\":[{\"type\":\"scattermapbox\",\"marker\":{\"colorbar\":{\"outlinewidth\":0,\"ticks\":\"\"}}}],\"scatterternary\":[{\"type\":\"scatterternary\",\"marker\":{\"colorbar\":{\"outlinewidth\":0,\"ticks\":\"\"}}}],\"scattercarpet\":[{\"type\":\"scattercarpet\",\"marker\":{\"colorbar\":{\"outlinewidth\":0,\"ticks\":\"\"}}}],\"carpet\":[{\"aaxis\":{\"endlinecolor\":\"#2a3f5f\",\"gridcolor\":\"white\",\"linecolor\":\"white\",\"minorgridcolor\":\"white\",\"startlinecolor\":\"#2a3f5f\"},\"baxis\":{\"endlinecolor\":\"#2a3f5f\",\"gridcolor\":\"white\",\"linecolor\":\"white\",\"minorgridcolor\":\"white\",\"startlinecolor\":\"#2a3f5f\"},\"type\":\"carpet\"}],\"table\":[{\"cells\":{\"fill\":{\"color\":\"#EBF0F8\"},\"line\":{\"color\":\"white\"}},\"header\":{\"fill\":{\"color\":\"#C8D4E3\"},\"line\":{\"color\":\"white\"}},\"type\":\"table\"}],\"barpolar\":[{\"marker\":{\"line\":{\"color\":\"#E5ECF6\",\"width\":0.5},\"pattern\":{\"fillmode\":\"overlay\",\"size\":10,\"solidity\":0.2}},\"type\":\"barpolar\"}],\"pie\":[{\"automargin\":true,\"type\":\"pie\"}]},\"layout\":{\"autotypenumbers\":\"strict\",\"colorway\":[\"#636efa\",\"#EF553B\",\"#00cc96\",\"#ab63fa\",\"#FFA15A\",\"#19d3f3\",\"#FF6692\",\"#B6E880\",\"#FF97FF\",\"#FECB52\"],\"font\":{\"color\":\"#2a3f5f\"},\"hovermode\":\"closest\",\"hoverlabel\":{\"align\":\"left\"},\"paper_bgcolor\":\"white\",\"plot_bgcolor\":\"#E5ECF6\",\"polar\":{\"bgcolor\":\"#E5ECF6\",\"angularaxis\":{\"gridcolor\":\"white\",\"linecolor\":\"white\",\"ticks\":\"\"},\"radialaxis\":{\"gridcolor\":\"white\",\"linecolor\":\"white\",\"ticks\":\"\"}},\"ternary\":{\"bgcolor\":\"#E5ECF6\",\"aaxis\":{\"gridcolor\":\"white\",\"linecolor\":\"white\",\"ticks\":\"\"},\"baxis\":{\"gridcolor\":\"white\",\"linecolor\":\"white\",\"ticks\":\"\"},\"caxis\":{\"gridcolor\":\"white\",\"linecolor\":\"white\",\"ticks\":\"\"}},\"coloraxis\":{\"colorbar\":{\"outlinewidth\":0,\"ticks\":\"\"}},\"colorscale\":{\"sequential\":[[0.0,\"#0d0887\"],[0.1111111111111111,\"#46039f\"],[0.2222222222222222,\"#7201a8\"],[0.3333333333333333,\"#9c179e\"],[0.4444444444444444,\"#bd3786\"],[0.5555555555555556,\"#d8576b\"],[0.6666666666666666,\"#ed7953\"],[0.7777777777777778,\"#fb9f3a\"],[0.8888888888888888,\"#fdca26\"],[1.0,\"#f0f921\"]],\"sequentialminus\":[[0.0,\"#0d0887\"],[0.1111111111111111,\"#46039f\"],[0.2222222222222222,\"#7201a8\"],[0.3333333333333333,\"#9c179e\"],[0.4444444444444444,\"#bd3786\"],[0.5555555555555556,\"#d8576b\"],[0.6666666666666666,\"#ed7953\"],[0.7777777777777778,\"#fb9f3a\"],[0.8888888888888888,\"#fdca26\"],[1.0,\"#f0f921\"]],\"diverging\":[[0,\"#8e0152\"],[0.1,\"#c51b7d\"],[0.2,\"#de77ae\"],[0.3,\"#f1b6da\"],[0.4,\"#fde0ef\"],[0.5,\"#f7f7f7\"],[0.6,\"#e6f5d0\"],[0.7,\"#b8e186\"],[0.8,\"#7fbc41\"],[0.9,\"#4d9221\"],[1,\"#276419\"]]},\"xaxis\":{\"gridcolor\":\"white\",\"linecolor\":\"white\",\"ticks\":\"\",\"title\":{\"standoff\":15},\"zerolinecolor\":\"white\",\"automargin\":true,\"zerolinewidth\":2},\"yaxis\":{\"gridcolor\":\"white\",\"linecolor\":\"white\",\"ticks\":\"\",\"title\":{\"standoff\":15},\"zerolinecolor\":\"white\",\"automargin\":true,\"zerolinewidth\":2},\"scene\":{\"xaxis\":{\"backgroundcolor\":\"#E5ECF6\",\"gridcolor\":\"white\",\"linecolor\":\"white\",\"showbackground\":true,\"ticks\":\"\",\"zerolinecolor\":\"white\",\"gridwidth\":2},\"yaxis\":{\"backgroundcolor\":\"#E5ECF6\",\"gridcolor\":\"white\",\"linecolor\":\"white\",\"showbackground\":true,\"ticks\":\"\",\"zerolinecolor\":\"white\",\"gridwidth\":2},\"zaxis\":{\"backgroundcolor\":\"#E5ECF6\",\"gridcolor\":\"white\",\"linecolor\":\"white\",\"showbackground\":true,\"ticks\":\"\",\"zerolinecolor\":\"white\",\"gridwidth\":2}},\"shapedefaults\":{\"line\":{\"color\":\"#2a3f5f\"}},\"annotationdefaults\":{\"arrowcolor\":\"#2a3f5f\",\"arrowhead\":0,\"arrowwidth\":1},\"geo\":{\"bgcolor\":\"white\",\"landcolor\":\"#E5ECF6\",\"subunitcolor\":\"white\",\"showland\":true,\"showlakes\":true,\"lakecolor\":\"white\"},\"title\":{\"x\":0.05},\"mapbox\":{\"style\":\"light\"}}},\"title\":{\"text\":\"Batch K-Estimate Max Correlation\"},\"width\":1200,\"height\":800,\"yaxis\":{\"title\":{\"text\":\"Max R2\"}}},                        {\"responsive\": true}                    ).then(function(){\n",
       "                            \n",
       "var gd = document.getElementById('9a5220dd-4016-443a-aef0-d8b42d26ca88');\n",
       "var x = new MutationObserver(function (mutations, observer) {{\n",
       "        var display = window.getComputedStyle(gd).display;\n",
       "        if (!display || display === 'none') {{\n",
       "            console.log([gd, 'removed!']);\n",
       "            Plotly.purge(gd);\n",
       "            observer.disconnect();\n",
       "        }}\n",
       "}});\n",
       "\n",
       "// Listen for the removal of the full notebook cells\n",
       "var notebookContainer = gd.closest('#notebook-container');\n",
       "if (notebookContainer) {{\n",
       "    x.observe(notebookContainer, {childList: true});\n",
       "}}\n",
       "\n",
       "// Listen for the clearing of the current output cell\n",
       "var outputEl = gd.closest('.output');\n",
       "if (outputEl) {{\n",
       "    x.observe(outputEl, {childList: true});\n",
       "}}\n",
       "\n",
       "                        })                };                });            </script>        </div>"
      ]
     },
     "metadata": {},
     "output_type": "display_data"
    }
   ],
   "source": [
    "max_r_fig = go.Figure()\n",
    "for i in range(max_factors-min_factors+1):\n",
    "    i_results = max_r2[i]\n",
    "    i_label = factor_labels[i]\n",
    "    max_r_fig.add_trace(go.Box(y=i_results, name=i_label))\n",
    "max_r_fig.update_layout(title=\"Batch K-Estimate Max Correlation\", width=1200, height=800)\n",
    "max_r_fig.update_yaxes(title_text=\"Max R2\")\n",
    "max_r_fig.show()"
   ]
  },
  {
   "cell_type": "code",
   "execution_count": null,
   "id": "643524b8-942d-42c2-af1a-925b069891c2",
   "metadata": {},
   "outputs": [],
   "source": []
  },
  {
   "cell_type": "code",
   "execution_count": null,
   "id": "51d6526f-dce5-4a01-b4a0-ef972208647e",
   "metadata": {},
   "outputs": [],
   "source": []
  }
 ],
 "metadata": {
  "kernelspec": {
   "display_name": "Python 3 (ipykernel)",
   "language": "python",
   "name": "python3"
  },
  "language_info": {
   "codemirror_mode": {
    "name": "ipython",
    "version": 3
   },
   "file_extension": ".py",
   "mimetype": "text/x-python",
   "name": "python",
   "nbconvert_exporter": "python",
   "pygments_lexer": "ipython3",
   "version": "3.12.2"
  }
 },
 "nbformat": 4,
 "nbformat_minor": 5
}
