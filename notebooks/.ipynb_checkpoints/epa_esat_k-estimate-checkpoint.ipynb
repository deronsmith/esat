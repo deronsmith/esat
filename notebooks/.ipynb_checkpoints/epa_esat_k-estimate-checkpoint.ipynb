{
 "cells": [
  {
   "cell_type": "markdown",
   "id": "5686853f-4655-4e79-af04-fe24aac1756e",
   "metadata": {},
   "source": [
    "## ESAT K Estimation Metrics\n"
   ]
  },
  {
   "cell_type": "markdown",
   "id": "206ac55f-9259-4ce1-b87e-3302d2ed00f9",
   "metadata": {},
   "source": [
    "#### Code Imports"
   ]
  },
  {
   "cell_type": "code",
   "execution_count": 1,
   "id": "c9de6b9e-89a5-4db8-94d4-2226605d9ae6",
   "metadata": {},
   "outputs": [],
   "source": [
    "import numpy as np\n",
    "import pandas as pd\n",
    "from esat.data.datahandler import DataHandler\n",
    "from esat.model.batch_sa import BatchSA\n",
    "from esat.data.analysis import ModelAnalysis, BatchAnalysis\n",
    "from esat_eval.simulator import Simulator\n",
    "from esat.estimator import FactorEstimator"
   ]
  },
  {
   "cell_type": "markdown",
   "id": "5dfb2b9c-98ee-4482-a0f9-c06b1eeb651f",
   "metadata": {},
   "source": [
    "#### Synthetic Dataset\n",
    "\n",
    "Generate synthetic input (V) and uncertainty (U) datasets for model analysis. V and U are generated in the following sequence:\n",
    "\n",
    "1.\tFeature profiles are defined and/or randomly generated (H); if the latter, for each feature, a random number of factors between 1 and K are chosen as sources for that feature. For each contributing factor, a random contribution (uniform value between 0 and 1) is assigned. If one or more predefined factor profiles (a row of H) are provided by the user, they are assigned to H in order of occurrence and overwrite the corresponding randomly generated row of H.\n",
    "2.\tSample concentrations are defined and/or randomly generated (W); if the latter, each cell of W is set to a random uniform number between 0 and contribution_max\n",
    "3.\tV1 is calculated as the product W x H\n",
    "4.\tA noise matrix (N) is created by selecting values from a normal distribution with a randomly selected mean noise (uniform distribution between noise_mean_min and noise_mean_max) for each feature, and standard deviation = noise_scale. The randomly selected mean noise for a feature has a 50% chance to be multiplied by -1 to allow for the reduction of values in V1. Then the Hadamard product (element-wise matrix multiplication) of V1 and N is used to calculate V: V1 + V1◦N -> V\n",
    "5.  Outliers are added to V if outliers=True. A number of elements in V (a proportion = outlier_p) are randomly selected and each one has a 50% chance to become V*outlier_mag, and a 50% chance to become V/outlier_mag\n",
    "\n",
    "6.\tAn uncertainty matrix (U1) is created by selecting values from a normal distribution with a randomly selected mean uncertainty (uniform distribution between uncertainty_mean_min and uncertainty_mean_max) for each feature, and standard deviation = uncertainty_scale. Then the Hadamard product of V and U1 is used to calculate U: V◦U1 -> U"
   ]
  },
  {
   "cell_type": "code",
   "execution_count": 2,
   "id": "47e80dbc-702b-4fca-b800-0660033a251d",
   "metadata": {},
   "outputs": [],
   "source": [
    "# Synethic dataset parameter value ranges\n",
    "syn_factors_min = 3\n",
    "syn_factors_max = 8\n",
    "\n",
    "syn_features_min = 5\n",
    "syn_features_max = 100\n",
    "\n",
    "syn_samples_min = 20\n",
    "syn_samples_max = 2000\n",
    "\n",
    "outliers = True\n",
    "outliers_p_min = 0.05\n",
    "outliers_p_max = 0.1\n",
    "outliers_mag_min = 1.1\n",
    "outliers_mag_max = 2\n",
    "\n",
    "noise_mean_min = 0.1\n",
    "noise_mean_max = 0.2\n",
    "noise_scale = 0.05\n",
    "\n",
    "uncertainty_mean_min = 0.1\n",
    "uncertainty_mean_max = 0.2\n",
    "uncertainty_scale = 0.05\n",
    "\n",
    "contr_curve_min_range = [0.0, 1.0]\n",
    "contr_curve_max_range = [2.0, 5.0]\n",
    "contr_curve_scale_range = [0.1, 0.5]\n",
    "\n",
    "# Sampling parameters\n",
    "random_seed = 42\n",
    "test_n = 1000\n",
    "\n",
    "# Each iteration\n",
    "samples = 100\n",
    "min_factors = 2\n",
    "max_factors = 12"
   ]
  },
  {
   "cell_type": "code",
   "execution_count": 3,
   "id": "a2408991-45a6-4a5c-ac14-388f79cbab49",
   "metadata": {},
   "outputs": [],
   "source": [
    "rng = np.random.default_rng(seed=random_seed)"
   ]
  },
  {
   "cell_type": "code",
   "execution_count": 9,
   "id": "339782f0-72b1-4219-9b1b-1a5ede956101",
   "metadata": {},
   "outputs": [],
   "source": [
    "# Initialize the simulator with the above parameters\n",
    "def generate_synthetic_data(true_factor):\n",
    "    n_features = rng.integers(low=syn_features_min, high=syn_features_max, size=1)[0]\n",
    "    n_samples = rng.integers(low=syn_samples_min, high=syn_samples_max, size=1)[0]\n",
    "    i_outlier_p = round(rng.uniform(low=outliers_p_min, high=outliers_p_max, size=1)[0], 2)\n",
    "    i_outlier_mag = round(rng.uniform(low=outliers_mag_min, high=outliers_mag_min, size=1)[0], 2)\n",
    "    contribution_max = round(rng.uniform(low=1.0, high=10.0, size=1)[0], 2)\n",
    "    print(f\"True Factors: {true_factor}, Features: {n_features}, Samples: {n_samples}, Outliers %: {i_outlier_p}, Outliers Magnitude: {i_outlier_mag}, Contribution Max: {contribution_max}\")\n",
    "    simulator = Simulator(seed=rng.integers(low=0, high=1e10, size=1)[0],\n",
    "                          factors_n=true_factor,\n",
    "                          features_n=n_features,\n",
    "                          samples_n=n_samples,\n",
    "                          outliers=outliers,\n",
    "                          outlier_p=i_outlier_p,\n",
    "                          outlier_mag=i_outlier_mag,\n",
    "                          contribution_max=contribution_max,\n",
    "                          noise_mean_min=noise_mean_min,\n",
    "                          noise_mean_max=noise_mean_max,\n",
    "                          noise_scale=noise_scale,\n",
    "                          uncertainty_mean_min=uncertainty_mean_min,\n",
    "                          uncertainty_mean_max=uncertainty_mean_max,\n",
    "                          uncertainty_scale=uncertainty_scale\n",
    "                         )\n",
    "    curved_factors_count = rng.integers(low=0, high=true_factor, size=1)[0]\n",
    "    print(f\"Factors Curve Update Count: {curved_factors_count}\")\n",
    "    curved_factor_list = rng.choice(list(range(true_factor)), size=curved_factors_count, replace=False)\n",
    "    print(f\"Updating factors: {curved_factor_list} curve type\")\n",
    "    for c_i in curved_factor_list:\n",
    "        # parameters not used by the curve type are ignored\n",
    "        i_curve_type = rng.choice(['uniform', 'decreasing', 'increasing', 'logistic', 'periodic'], size=1)[0]\n",
    "        print(f\"New curve type: {i_curve_type}\")\n",
    "        i_curve_min = rng.uniform(low=contr_curve_min_range[0], high=contr_curve_min_range[1], size=1)[0]\n",
    "        i_curve_max = rng.uniform(low=contr_curve_max_range[0], high=contr_curve_max_range[1], size=1)[0]\n",
    "        i_curve_scale = rng.uniform(low=contr_curve_scale_range[0], high=contr_curve_scale_range[1], size=1)[0]\n",
    "        i_curve_frequency = rng.uniform(low=0.1, high=0.9, size=1)[0]\n",
    "        simulator.update_contribution(factor_i=c_i, curve_type=i_curve_type, scale=i_curve_scale, frequency=i_curve_frequency, minimum=i_curve_min, maximum=i_curve_max)\n",
    "    \n",
    "    syn_input_df, syn_uncertainty_df = simulator.get_data()\n",
    "    data_handler = DataHandler.load_dataframe(input_df=syn_input_df, uncertainty_df=syn_uncertainty_df)\n",
    "    data_handler.metrics\n",
    "    V, U = data_handler.get_data()\n",
    "    return V, U\n",
    "\n",
    "def run_estimation(k, eV, eU, e_samples: int = 100, min_factors: int = 2, max_factors: int = 12):\n",
    "    factor_est = FactorEstimator(V=eV, U=eU)\n",
    "    results = factor_est.run(samples=e_samples, min_factors=min_factors, max_factors=max_factors)\n",
    "    results[\"Overall Score\"] = (results[\"Factors\"] * results[\"Delta Ratio\"] * results[\"Q(True)\"].min()) / results[\"Q(True)\"]\n",
    "\n",
    "    estimation = {\n",
    "        \"true K\": k,\n",
    "        \"delta ratio\": np.nanargmax(results[\"Delta Ratio\"].values) + min_factors,\n",
    "        \"K estimate\": np.nanargmax(results[\"K Estimate\"].values) + min_factors,\n",
    "        \"Overall Score\": np.nanargmax(results[\"Overall Score\"].values) + min_factors,\n",
    "        \"features\": eV.shape[1],\n",
    "        \"samples\": eV.shape[0]\n",
    "    }\n",
    "    return estimation, results\n",
    "    "
   ]
  },
  {
   "cell_type": "code",
   "execution_count": 5,
   "id": "d46e5231-1974-48f8-9e96-7b2ef06ad162",
   "metadata": {},
   "outputs": [
    {
     "name": "stderr",
     "output_type": "stream",
     "text": [
      "29-Aug-24 16:18:02 - Synthetic profiles generated\n",
      "29-Aug-24 16:18:02 - Synthetic factor 3 contribution updated as a random sampling from a normal distribution along a logistic curve.\n",
      "29-Aug-24 16:18:02 - Synthetic data generated\n",
      "29-Aug-24 16:18:02 - Synthetic uncertainty data generated\n",
      "29-Aug-24 16:18:02 - Synthetic dataframes completed\n",
      "29-Aug-24 16:18:02 - Synthetic source apportionment instance created.\n"
     ]
    },
    {
     "name": "stdout",
     "output_type": "stream",
     "text": [
      "True Factors: 3\n",
      "True Factors: 3, Features: 78, Samples: 1316, Outliers %: 0.09, Outliers Magnitude: 1.1, Contribution Max: 1.85\n",
      "Factors Curve Update Count: 1\n",
      "Updating factors: [2] curve type\n",
      "New curve type: logistic\n"
     ]
    },
    {
     "data": {
      "text/plain": [
       "(1316, 78)"
      ]
     },
     "execution_count": 5,
     "metadata": {},
     "output_type": "execute_result"
    }
   ],
   "source": [
    "# Random test\n",
    "true_factor = rng.integers(low=syn_factors_min, high=syn_factors_max, size=1)[0]\n",
    "print(f\"True Factors: {true_factor}\")\n",
    "i_V, i_U = generate_synthetic_data(true_factor=true_factor)\n",
    "i_V.shape"
   ]
  },
  {
   "cell_type": "code",
   "execution_count": 6,
   "id": "f3ed7a31-fe8c-4a33-bf87-6bcdd0e43487",
   "metadata": {},
   "outputs": [
    {
     "name": "stdout",
     "output_type": "stream",
     "text": [
      "CPU times: total: 0 ns\n",
      "Wall time: 0 ns\n"
     ]
    }
   ],
   "source": [
    "%%time\n",
    "# factor_est = FactorEstimator(V=i_V, U=i_U)\n",
    "# results = factor_est.run(samples=50, min_factors=2, max_factors=10)\n",
    "# results"
   ]
  },
  {
   "cell_type": "code",
   "execution_count": 10,
   "id": "2ee36d66-7066-44d1-ae0b-b8b3e2413bc1",
   "metadata": {},
   "outputs": [
    {
     "name": "stderr",
     "output_type": "stream",
     "text": [
      "Rapid random sampling for factor estimation: 100%|███████████████████████████████████| 100/100 [20:20<00:00, 12.20s/it]\n",
      "29-Aug-24 17:02:23 - Estimated factor count: 2\n"
     ]
    },
    {
     "name": "stdout",
     "output_type": "stream",
     "text": [
      "CPU times: total: 3.72 s\n",
      "Wall time: 20min 20s\n"
     ]
    },
    {
     "data": {
      "text/plain": [
       "{'true K': 3,\n",
       " 'delta ratio': 8,\n",
       " 'K estimate': 2,\n",
       " 'Overall Score': 8,\n",
       " 'features': 78,\n",
       " 'samples': 1316}"
      ]
     },
     "execution_count": 10,
     "metadata": {},
     "output_type": "execute_result"
    }
   ],
   "source": [
    "%%time\n",
    "estimation, results = run_estimation(k=true_factor, eV=i_V, eU=i_U, e_samples=samples, min_factors=min_factors, max_factors=max_factors)\n",
    "estimation"
   ]
  },
  {
   "cell_type": "code",
   "execution_count": 11,
   "id": "7a0b90b7-c68c-4d64-af4b-47033406e5ff",
   "metadata": {},
   "outputs": [
    {
     "data": {
      "text/html": [
       "<div>\n",
       "<style scoped>\n",
       "    .dataframe tbody tr th:only-of-type {\n",
       "        vertical-align: middle;\n",
       "    }\n",
       "\n",
       "    .dataframe tbody tr th {\n",
       "        vertical-align: top;\n",
       "    }\n",
       "\n",
       "    .dataframe thead th {\n",
       "        text-align: right;\n",
       "    }\n",
       "</style>\n",
       "<table border=\"1\" class=\"dataframe\">\n",
       "  <thead>\n",
       "    <tr style=\"text-align: right;\">\n",
       "      <th></th>\n",
       "      <th>Factors</th>\n",
       "      <th>Test MSE</th>\n",
       "      <th>Train MSE</th>\n",
       "      <th>Delta MSE</th>\n",
       "      <th>Delta Ratio</th>\n",
       "      <th>K Estimate</th>\n",
       "      <th>Q(True)</th>\n",
       "      <th>Overall Score</th>\n",
       "    </tr>\n",
       "  </thead>\n",
       "  <tbody>\n",
       "    <tr>\n",
       "      <th>0</th>\n",
       "      <td>2</td>\n",
       "      <td>1.106017</td>\n",
       "      <td>1.095301</td>\n",
       "      <td>NaN</td>\n",
       "      <td>NaN</td>\n",
       "      <td>0.095388</td>\n",
       "      <td>3.037098e+09</td>\n",
       "      <td>NaN</td>\n",
       "    </tr>\n",
       "    <tr>\n",
       "      <th>1</th>\n",
       "      <td>3</td>\n",
       "      <td>0.742907</td>\n",
       "      <td>0.750106</td>\n",
       "      <td>0.363110</td>\n",
       "      <td>4.512463</td>\n",
       "      <td>0.083830</td>\n",
       "      <td>1.818244e+09</td>\n",
       "      <td>0.025296</td>\n",
       "    </tr>\n",
       "    <tr>\n",
       "      <th>2</th>\n",
       "      <td>4</td>\n",
       "      <td>0.632150</td>\n",
       "      <td>0.622229</td>\n",
       "      <td>0.110757</td>\n",
       "      <td>0.719913</td>\n",
       "      <td>0.067779</td>\n",
       "      <td>3.483862e+09</td>\n",
       "      <td>0.002527</td>\n",
       "    </tr>\n",
       "    <tr>\n",
       "      <th>3</th>\n",
       "      <td>5</td>\n",
       "      <td>0.420393</td>\n",
       "      <td>0.420707</td>\n",
       "      <td>0.211757</td>\n",
       "      <td>8.506746</td>\n",
       "      <td>0.076257</td>\n",
       "      <td>8.266406e+08</td>\n",
       "      <td>0.146846</td>\n",
       "    </tr>\n",
       "    <tr>\n",
       "      <th>4</th>\n",
       "      <td>6</td>\n",
       "      <td>0.386130</td>\n",
       "      <td>0.387314</td>\n",
       "      <td>0.034263</td>\n",
       "      <td>-0.035778</td>\n",
       "      <td>0.065503</td>\n",
       "      <td>4.233725e+06</td>\n",
       "      <td>-0.137815</td>\n",
       "    </tr>\n",
       "    <tr>\n",
       "      <th>5</th>\n",
       "      <td>7</td>\n",
       "      <td>1.704258</td>\n",
       "      <td>1.728910</td>\n",
       "      <td>-1.318128</td>\n",
       "      <td>-1.331309</td>\n",
       "      <td>0.012146</td>\n",
       "      <td>1.450536e+08</td>\n",
       "      <td>-0.168388</td>\n",
       "    </tr>\n",
       "    <tr>\n",
       "      <th>6</th>\n",
       "      <td>8</td>\n",
       "      <td>0.341478</td>\n",
       "      <td>0.343755</td>\n",
       "      <td>1.362780</td>\n",
       "      <td>43.360088</td>\n",
       "      <td>0.050958</td>\n",
       "      <td>3.073054e+06</td>\n",
       "      <td>287.631991</td>\n",
       "    </tr>\n",
       "    <tr>\n",
       "      <th>7</th>\n",
       "      <td>9</td>\n",
       "      <td>0.298219</td>\n",
       "      <td>0.298927</td>\n",
       "      <td>0.043260</td>\n",
       "      <td>6.163705</td>\n",
       "      <td>0.050066</td>\n",
       "      <td>2.510543e+06</td>\n",
       "      <td>55.053379</td>\n",
       "    </tr>\n",
       "    <tr>\n",
       "      <th>8</th>\n",
       "      <td>10</td>\n",
       "      <td>0.288558</td>\n",
       "      <td>0.290140</td>\n",
       "      <td>0.009660</td>\n",
       "      <td>0.461914</td>\n",
       "      <td>0.045119</td>\n",
       "      <td>2.223052e+06</td>\n",
       "      <td>5.082886</td>\n",
       "    </tr>\n",
       "    <tr>\n",
       "      <th>9</th>\n",
       "      <td>11</td>\n",
       "      <td>0.259773</td>\n",
       "      <td>0.257560</td>\n",
       "      <td>0.028785</td>\n",
       "      <td>-3.829129</td>\n",
       "      <td>0.044278</td>\n",
       "      <td>2.038530e+06</td>\n",
       "      <td>-49.778682</td>\n",
       "    </tr>\n",
       "    <tr>\n",
       "      <th>10</th>\n",
       "      <td>12</td>\n",
       "      <td>0.270120</td>\n",
       "      <td>0.271228</td>\n",
       "      <td>-0.010347</td>\n",
       "      <td>NaN</td>\n",
       "      <td>0.038028</td>\n",
       "      <td>2.081083e+06</td>\n",
       "      <td>NaN</td>\n",
       "    </tr>\n",
       "  </tbody>\n",
       "</table>\n",
       "</div>"
      ],
      "text/plain": [
       "    Factors  Test MSE  Train MSE  Delta MSE  Delta Ratio  K Estimate  \\\n",
       "0         2  1.106017   1.095301        NaN          NaN    0.095388   \n",
       "1         3  0.742907   0.750106   0.363110     4.512463    0.083830   \n",
       "2         4  0.632150   0.622229   0.110757     0.719913    0.067779   \n",
       "3         5  0.420393   0.420707   0.211757     8.506746    0.076257   \n",
       "4         6  0.386130   0.387314   0.034263    -0.035778    0.065503   \n",
       "5         7  1.704258   1.728910  -1.318128    -1.331309    0.012146   \n",
       "6         8  0.341478   0.343755   1.362780    43.360088    0.050958   \n",
       "7         9  0.298219   0.298927   0.043260     6.163705    0.050066   \n",
       "8        10  0.288558   0.290140   0.009660     0.461914    0.045119   \n",
       "9        11  0.259773   0.257560   0.028785    -3.829129    0.044278   \n",
       "10       12  0.270120   0.271228  -0.010347          NaN    0.038028   \n",
       "\n",
       "         Q(True)  Overall Score  \n",
       "0   3.037098e+09            NaN  \n",
       "1   1.818244e+09       0.025296  \n",
       "2   3.483862e+09       0.002527  \n",
       "3   8.266406e+08       0.146846  \n",
       "4   4.233725e+06      -0.137815  \n",
       "5   1.450536e+08      -0.168388  \n",
       "6   3.073054e+06     287.631991  \n",
       "7   2.510543e+06      55.053379  \n",
       "8   2.223052e+06       5.082886  \n",
       "9   2.038530e+06     -49.778682  \n",
       "10  2.081083e+06            NaN  "
      ]
     },
     "execution_count": 11,
     "metadata": {},
     "output_type": "execute_result"
    }
   ],
   "source": [
    "results"
   ]
  },
  {
   "cell_type": "code",
   "execution_count": null,
   "id": "5b055eab-32ea-411e-be35-8ca7ed64b733",
   "metadata": {},
   "outputs": [],
   "source": []
  }
 ],
 "metadata": {
  "kernelspec": {
   "display_name": "Python 3 (ipykernel)",
   "language": "python",
   "name": "python3"
  },
  "language_info": {
   "codemirror_mode": {
    "name": "ipython",
    "version": 3
   },
   "file_extension": ".py",
   "mimetype": "text/x-python",
   "name": "python",
   "nbconvert_exporter": "python",
   "pygments_lexer": "ipython3",
   "version": "3.12.5"
  }
 },
 "nbformat": 4,
 "nbformat_minor": 5
}
