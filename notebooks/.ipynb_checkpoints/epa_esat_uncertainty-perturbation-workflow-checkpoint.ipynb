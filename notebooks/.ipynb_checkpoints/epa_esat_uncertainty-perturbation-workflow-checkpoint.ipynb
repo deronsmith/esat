{
 "cells": [
  {
   "cell_type": "markdown",
   "id": "5686853f-4655-4e79-af04-fe24aac1756e",
   "metadata": {},
   "source": [
    "## ESAT Uncertainty Perturbation Workflow\n",
    "\n",
    "This notebook implements an uncertainty perturbation workflow for model evaluation.\n"
   ]
  },
  {
   "cell_type": "markdown",
   "id": "206ac55f-9259-4ce1-b87e-3302d2ed00f9",
   "metadata": {},
   "source": [
    "#### Code Imports"
   ]
  },
  {
   "cell_type": "code",
   "execution_count": 1,
   "id": "c9de6b9e-89a5-4db8-94d4-2226605d9ae6",
   "metadata": {},
   "outputs": [],
   "source": [
    "import time\n",
    "import copy\n",
    "\n",
    "import numpy as np\n",
    "import pandas as pd\n",
    "import plotly.graph_objects as go\n",
    "\n",
    "from tqdm.notebook import trange, tqdm, tnrange\n",
    "from plotly.subplots import make_subplots\n",
    "from scipy.sparse import csr_matrix\n",
    "from scipy.sparse.csgraph import min_weight_full_bipartite_matching\n",
    "from esat.data.datahandler import DataHandler\n",
    "from esat.model.sa import SA\n",
    "from esat.model.batch_sa import BatchSA\n",
    "from esat.data.analysis import ModelAnalysis, BatchAnalysis\n",
    "from esat.error.bootstrap import Bootstrap\n",
    "from esat_eval.simulator import Simulator\n",
    "from esat_eval.factor_comparison import FactorCompare\n",
    "\n",
    "pd.options.display.float_format = '{:.4f}'.format"
   ]
  },
  {
   "cell_type": "code",
   "execution_count": 2,
   "id": "47e80dbc-702b-4fca-b800-0660033a251d",
   "metadata": {},
   "outputs": [],
   "source": [
    "# Synethic dataset parameter value ranges\n",
    "syn_factors_min = 3\n",
    "syn_factors_max = 8\n",
    "\n",
    "syn_features_min = 15\n",
    "syn_features_max = 45\n",
    "\n",
    "syn_samples_min = 200\n",
    "syn_samples_max = 1000\n",
    "\n",
    "outliers = True\n",
    "outliers_p_min = 0.05\n",
    "outliers_p_max = 0.1\n",
    "outliers_mag_min = 1.1\n",
    "outliers_mag_max = 2\n",
    "\n",
    "noise_mean_min = 0.05\n",
    "noise_mean_max = 0.15\n",
    "noise_scale = 0.01\n",
    "\n",
    "uncertainty_mean_min = 0.05\n",
    "uncertainty_mean_max = 0.15\n",
    "uncertainty_scale = 0.01\n",
    "\n",
    "contr_curve_min_range = [0.0, 1.0]\n",
    "contr_curve_max_range = [2.0, 5.0]\n",
    "contr_curve_scale_range = [0.1, 0.5]\n",
    "\n",
    "random_seed = 337\n",
    "k_coef = 0.75"
   ]
  },
  {
   "cell_type": "code",
   "execution_count": 3,
   "id": "a2408991-45a6-4a5c-ac14-388f79cbab49",
   "metadata": {},
   "outputs": [],
   "source": [
    "rng = np.random.default_rng(seed=random_seed)"
   ]
  },
  {
   "cell_type": "code",
   "execution_count": 132,
   "id": "372a6a6a-612a-4d00-a3ae-be12aecb0e60",
   "metadata": {},
   "outputs": [],
   "source": [
    "# Initialize the simulator with the above parameters\n",
    "def generate_synthetic_data(true_factor):\n",
    "    n_features = rng.integers(low=syn_features_min, high=syn_features_max, size=1)[0]\n",
    "    n_samples = rng.integers(low=syn_samples_min, high=syn_samples_max, size=1)[0]\n",
    "    i_outlier_p = round(rng.uniform(low=outliers_p_min, high=outliers_p_max, size=1)[0], 2)\n",
    "    i_outlier_mag = round(rng.uniform(low=outliers_mag_min, high=outliers_mag_max, size=1)[0], 2)\n",
    "    contribution_max = round(rng.uniform(low=1.0, high=10.0, size=1)[0], 2)\n",
    "    print(f\"True Factors: {true_factor}, Features: {n_features}, Samples: {n_samples}, Outliers %: {i_outlier_p}, Outliers Magnitude: {i_outlier_mag}, Contribution Max: {contribution_max}\")\n",
    "    simulator = Simulator(seed=rng.integers(low=0, high=10, size=1)[0],\n",
    "                          factors_n=true_factor,\n",
    "                          features_n=n_features,\n",
    "                          samples_n=n_samples,\n",
    "                          outliers=outliers,\n",
    "                          outlier_p=i_outlier_p,\n",
    "                          outlier_mag=i_outlier_mag,\n",
    "                          contribution_max=contribution_max,\n",
    "                          noise_mean_min=noise_mean_min,\n",
    "                          noise_mean_max=noise_mean_max,\n",
    "                          noise_scale=noise_scale,\n",
    "                          uncertainty_mean_min=uncertainty_mean_min,\n",
    "                          uncertainty_mean_max=uncertainty_mean_max,\n",
    "                          uncertainty_scale=uncertainty_scale,\n",
    "                          verbose=False\n",
    "                         )\n",
    "    curved_factors_count = rng.integers(low=0, high=true_factor, size=1)[0]\n",
    "    curved_factor_list = rng.choice(list(range(true_factor)), size=curved_factors_count, replace=False)\n",
    "    for c_i in curved_factor_list:\n",
    "        # parameters not used by the curve type are ignored\n",
    "        i_curve_type = rng.choice(['uniform', 'decreasing', 'increasing', 'logistic', 'periodic'], size=1)[0]\n",
    "        i_curve_min = rng.uniform(low=contr_curve_min_range[0], high=contr_curve_min_range[1], size=1)[0]\n",
    "        i_curve_max = rng.uniform(low=contr_curve_max_range[0], high=contr_curve_max_range[1], size=1)[0]\n",
    "        i_curve_scale = rng.uniform(low=contr_curve_scale_range[0], high=contr_curve_scale_range[1], size=1)[0]\n",
    "        i_curve_frequency = rng.uniform(low=0.1, high=0.9, size=1)[0]\n",
    "        \n",
    "        # To keep all as uniform comment out the line below\n",
    "        # simulator.update_contribution(factor_i=c_i, curve_type=i_curve_type, scale=i_curve_scale, frequency=i_curve_frequency, minimum=i_curve_min, maximum=i_curve_max)\n",
    "    \n",
    "    syn_input_df, syn_uncertainty_df = simulator.get_data()\n",
    "    data_handler = DataHandler.load_dataframe(input_df=syn_input_df, uncertainty_df=syn_uncertainty_df)\n",
    "    data_handler.metrics\n",
    "    V, U = data_handler.get_data()\n",
    "    return V, U\n",
    "\n",
    "# Optimized Factor Search Algorithm\n",
    "# Step 1: check indices of max/min values (corr,emc/raae) by column. If all are unique this is the optimal mapping.\n",
    "# Step 2: perform a min weight full bipartite matching, where each column index is mapped to a row index to maximize or minimize the sum of matching.\n",
    "def optimal_mapping_algorithm(batch_results, mapping_type: str = \"raae\"):\n",
    "    n_factors = batch_results[\"k\"]\n",
    "    batch_mapping = {}\n",
    "    batch_values = {}\n",
    "    for i, p_model in batch_results[\"perturb results\"].items():\n",
    "        model_mapping = None\n",
    "        mapping_values = [-1 for i in range(n_factors)]\n",
    "        mapping_matrix = None\n",
    "        if mapping_type == \"raae\":\n",
    "            optimal_indices = np.array(p_model[\"all_raae\"]).argmin(axis=0)\n",
    "            mapping_matrix = np.array(p_model[\"all_raae\"])\n",
    "            maximize = False\n",
    "        elif mapping_type == \"emc\":\n",
    "            optimal_indices = np.array(p_model[\"all_emc\"]).argmax(axis=0)\n",
    "            mapping_matrix = np.array(p_model[\"all_emc\"])\n",
    "            maximize = True\n",
    "        else:\n",
    "            optimal_indices = np.array(p_model[\"all_corr\"]).argmax(axis=0)\n",
    "            mapping_matrix = np.array(p_model[\"all_corr\"])\n",
    "            maximize = True\n",
    "\n",
    "        # Step 1, all optimal value indices are unique and no other values need to be checked.\n",
    "        if (np.unique(optimal_indices, return_counts=True)[1].max() == 1):\n",
    "            model_mapping = optimal_indices\n",
    "        else:\n",
    "            m_bi_matrix = csr_matrix(mapping_matrix)\n",
    "            model_mapping = list(min_weight_full_bipartite_matching(m_bi_matrix, maximize=maximize))\n",
    "        optimal_index_tuples = list(zip(list(range(n_factors)), model_mapping))\n",
    "        for j, oi in enumerate(optimal_index_tuples):\n",
    "            ele_values = mapping_matrix[oi]\n",
    "            mapping_values[j] = np.round(ele_values, 4)\n",
    "        \n",
    "        batch_mapping[i] = optimal_indices\n",
    "        batch_values[i] = mapping_values\n",
    "        \n",
    "    return batch_mapping, batch_values\n",
    "\n",
    "\n",
    "def perturb_uncertainty(u, _rng, perturb_p = 0.25, sigma = 0.25):\n",
    "    i_u = copy.copy(u)\n",
    "    if isinstance(perturb_p, float):\n",
    "        perturb_p = [perturb_p for i in range(u.shape[1])]\n",
    "    elif isinstance(perturb_p, list) and len(perturb_p) != u.shape[1]:\n",
    "        perturb_p = [perturb_p[0] for i in range(u.shape[1])]\n",
    "    if isinstance(sigma, float):\n",
    "        sigma = [sigma for i in range(u.shape[1])]\n",
    "    elif isinstance(sigma, list) and len(sigma) != u.shape[1]:\n",
    "        sigma = [sigma[0] for i in range(u.shape[1])]\n",
    "    i_m = np.zeros(shape=i_u.shape)\n",
    "    for i, _p in enumerate(perturb_p):\n",
    "        i_mask = _rng.random(size=u[:,i].shape) > _p\n",
    "        i_mean = 0.0\n",
    "        i_logn = _rng.lognormal(i_mean, sigma[i], size=u[:,i].shape)\n",
    "        i_m[:,i] = i_logn\n",
    "        i_m[:,i][i_mask] = i_m[:,i][i_mask]\n",
    "        ij_u = i_u[:,i]\n",
    "        ij_u = ij_u * i_logn\n",
    "        ij_u[i_mask] = ij_u[i_mask]\n",
    "        ij_u[ij_u <= 0.0] = 1e-12\n",
    "        i_u[:,i] = ij_u\n",
    "    return i_u, i_m\n",
    "\n",
    "\n",
    "def run_perturbation(v, u, factors, random_seed, u_collection = None, perturb_p = 1.0, sigma = 0.33, sa_model=None, models=10, max_iter=10000, converge_n=50, converge_delta=0.01, threshold: float=0.9, pg_leave=True, verbose=False):\n",
    "    # Runs a perturbation input batch instance\n",
    "    # Steps:\n",
    "    # 1. Create a SA instance using the provided iV, iU and true_k for the data and factor count (if one is not provided).\n",
    "    # 2. Using a lognormal std (sigma) and % instance change (perturb_p) for the uncertainty:\n",
    "    #    a. Select perturb_p number of indecies from the uncertainty data matrix and change those values by a random selection from a lognormal distribution with mean=1 and sigma/std=the provided valude (default=0.25)\n",
    "    #    b. Use a provided collection of pre-defiend uncertainty matrices\n",
    "    # 3. With the perturbed uncertainty rerun the model using the base model H matrix.\n",
    "    # 4. Repeat for n number of models\n",
    "    # 5. Evaluate the results from all the perturb model profiles and concentrations, the ones that mapped (had a correlation above the threhsold) and provide the range of values for the factors.\n",
    "    rng = np.random.default_rng(seed=random_seed)\n",
    "    # step 1\n",
    "    if sa_model is None:\n",
    "        sa_model = SA(V=v, U=u, factors=factors, seed=random_seed, verbose=verbose, method=\"ls-nmf\")\n",
    "        sa_model.initialize()\n",
    "        sa_model.train(max_iter=max_iter, converge_delta=converge_delta, converge_n=converge_n)\n",
    "\n",
    "    base_mean_W = np.mean(sa_model.W, axis=0)[0]\n",
    "    base_mass_matrix = (base_mean_W*sa_model.H)/np.sum(base_mean_W*sa_model.H)    # base mass matrix\n",
    "    \n",
    "    perturb_results = {\n",
    "        \"k\": factors,\n",
    "        \"seed\": random_seed,\n",
    "        \"base model\": sa_model,\n",
    "        \"perturb %\": perturb_p,\n",
    "        \"perturb sigma\": sigma,\n",
    "        \"perturb results\": {}\n",
    "    }\n",
    "    \n",
    "    for i in tnrange(models, desc=\"Running Perturbations on base model\", leave=pg_leave):\n",
    "        if u_collection is None:\n",
    "            i_u, i_m = perturb_uncertainty(u=u, perturb_p=perturb_p, sigma=sigma, _rng=rng)\n",
    "        elif i > len(u_collection):\n",
    "            i_u, i_m = perturb_uncertainty(u=u, perturb_p=perturb_p, sigma=sigma, _rng=rng)\n",
    "        else:\n",
    "            i_u = u_collection[i]\n",
    "            i_m = None\n",
    "            \n",
    "        i_sa_model = SA(v, U=i_u, factors=factors, seed=random_seed, verbose=verbose, method=\"ls-nmf\")\n",
    "        i_sa_model.initialize(H=sa_model.H, W=sa_model.W)\n",
    "        i_sa_model.train(max_iter=max_iter, converge_delta=converge_delta, converge_n=converge_n)\n",
    "\n",
    "        i_results = {\n",
    "            \"model\": copy.copy(i_sa_model),\n",
    "            \"multiplier\": i_m,\n",
    "            \"corr\": [],\n",
    "            \"corr_mapping\": [],\n",
    "            \"all_corr\": [],\n",
    "            \"raae\": [],\n",
    "            \"raae_mapping\": [],\n",
    "            \"all_raae\": [],\n",
    "            \"emc\": [],\n",
    "            \"emc_mapping\": [],\n",
    "            \"all_emc\": []\n",
    "        }\n",
    "        n = 1/sa_model.W[:,0].shape[0]\n",
    "\n",
    "        i_W_mean = np.mean(i_sa_model.W, axis=0)[0]\n",
    "        i_mass_matrix = (i_W_mean*i_sa_model.H)/np.sum(i_W_mean*i_sa_model.H)   # perturbed mass matrix\n",
    "        \n",
    "        for j in range(factors):\n",
    "            j_W = sa_model.W[:,j]      # Base model W column j (factor contribution)\n",
    "            j_H = sa_model.H[j]        # Base model H row j (factor profile)\n",
    "\n",
    "            # Tacking results of equation 4\n",
    "            j_r2 = 0.0\n",
    "            r2_best = -1\n",
    "            all_corr = []\n",
    "\n",
    "            # Tracking results of equation 5\n",
    "            j_raae = float(\"inf\")\n",
    "            raae_best = -1\n",
    "            all_raae = []\n",
    "\n",
    "            # Tracking results of equation 7\n",
    "            j_emc = 0.0\n",
    "            best_emc = -1\n",
    "            all_emc = []\n",
    "            \n",
    "            for k in range(factors):\n",
    "                k_W = i_sa_model.W[:,k]    # Perturbed model i, W column j (perturbed factor contribution j)\n",
    "                jk_r2 = FactorCompare.calculate_correlation(factor1=j_W.flatten(), factor2=k_W.flatten())    # Equation 4\n",
    "                jk_raae = (np.sum(np.abs(k_W - j_W))*n)/(np.sum(j_W)*n)                                      # Equation 5\n",
    "                jk_emc = FactorCompare.calculate_correlation(factor1=base_mass_matrix[j], factor2= i_mass_matrix[k]) # Equation 7\n",
    "                \n",
    "                if jk_r2 > j_r2:\n",
    "                    r2_best = k \n",
    "                    j_r2 = jk_r2\n",
    "                if jk_raae < j_raae:\n",
    "                    j_raae = jk_raae\n",
    "                    raae_best = k\n",
    "                if jk_emc > j_emc:\n",
    "                    j_emc = jk_emc\n",
    "                    best_emc = k\n",
    "                all_corr.append(jk_r2)\n",
    "                all_raae.append(jk_raae)\n",
    "                all_emc.append(jk_emc)\n",
    "            i_results[\"corr\"].append(j_r2)\n",
    "            i_results[\"corr_mapping\"].append(r2_best)\n",
    "            i_results[\"all_corr\"].append(all_corr)\n",
    "            i_results[\"raae\"].append(j_raae)\n",
    "            i_results[\"raae_mapping\"].append(raae_best)\n",
    "            i_results[\"all_raae\"].append(all_raae)\n",
    "            i_results[\"emc\"].append(j_emc)\n",
    "            i_results[\"emc_mapping\"].append(best_emc)\n",
    "            i_results[\"all_emc\"].append(all_emc)\n",
    "        perturb_results[\"perturb results\"][i] = i_results\n",
    "    return perturb_results\n",
    "    "
   ]
  },
  {
   "cell_type": "markdown",
   "id": "69a89726-42b6-4aeb-88d2-6d8b71c02737",
   "metadata": {},
   "source": [
    "## Single Perturbation Instance\n",
    "\n",
    "A single instance of the run_perturbation function is called. This will create a single SA instance to use as the base model with n_models being the number of perturbed instances to make (each independent of each other) for that single base model."
   ]
  },
  {
   "cell_type": "code",
   "execution_count": 123,
   "id": "1728e8e8-cd9a-4a68-a5c1-2ab827ca237a",
   "metadata": {},
   "outputs": [
    {
     "name": "stdout",
     "output_type": "stream",
     "text": [
      "True Factors: 6, Features: 34, Samples: 746, Outliers %: 0.09, Outliers Magnitude: 1.14, Contribution Max: 6.41\n",
      "CPU times: total: 93.8 ms\n",
      "Wall time: 126 ms\n"
     ]
    }
   ],
   "source": [
    "%%time\n",
    "true_k = 6\n",
    "iV, iU = generate_synthetic_data(true_factor=true_k)"
   ]
  },
  {
   "cell_type": "code",
   "execution_count": 124,
   "id": "6fcb14e0-00c4-423f-bc8b-6631eea7366f",
   "metadata": {},
   "outputs": [
    {
     "data": {
      "application/vnd.jupyter.widget-view+json": {
       "model_id": "c8b5221c7afd414faa40620804198130",
       "version_major": 2,
       "version_minor": 0
      },
      "text/plain": [
       "Running Perturbations on base model:   0%|          | 0/10 [00:00<?, ?it/s]"
      ]
     },
     "metadata": {},
     "output_type": "display_data"
    }
   ],
   "source": [
    "estimate_k = 6\n",
    "n_models = 10\n",
    "threshold = 0.9\n",
    "\n",
    "perturb_p = 1.0\n",
    "perturb_sigma = 0.25\n",
    "\n",
    "batch_results0 = run_perturbation(factors=estimate_k, v=iV, u=iU, random_seed=random_seed, perturb_p=perturb_p, sigma=perturb_sigma, models=n_models, max_iter=20000, converge_n=20, converge_delta=0.01, threshold=threshold)"
   ]
  },
  {
   "cell_type": "code",
   "execution_count": 125,
   "id": "32146105-93b5-4927-b790-3060d9cbefb8",
   "metadata": {},
   "outputs": [
    {
     "data": {
      "text/html": [
       "<div>\n",
       "<style scoped>\n",
       "    .dataframe tbody tr th:only-of-type {\n",
       "        vertical-align: middle;\n",
       "    }\n",
       "\n",
       "    .dataframe tbody tr th {\n",
       "        vertical-align: top;\n",
       "    }\n",
       "\n",
       "    .dataframe thead th {\n",
       "        text-align: right;\n",
       "    }\n",
       "</style>\n",
       "<table border=\"1\" class=\"dataframe\">\n",
       "  <thead>\n",
       "    <tr style=\"text-align: right;\">\n",
       "      <th></th>\n",
       "      <th>Factor</th>\n",
       "      <th>R2</th>\n",
       "      <th>RAAE</th>\n",
       "      <th>EMC</th>\n",
       "    </tr>\n",
       "  </thead>\n",
       "  <tbody>\n",
       "    <tr>\n",
       "      <th>0</th>\n",
       "      <td>0</td>\n",
       "      <td>100.0000</td>\n",
       "      <td>100.0000</td>\n",
       "      <td>100.0000</td>\n",
       "    </tr>\n",
       "    <tr>\n",
       "      <th>1</th>\n",
       "      <td>1</td>\n",
       "      <td>100.0000</td>\n",
       "      <td>100.0000</td>\n",
       "      <td>100.0000</td>\n",
       "    </tr>\n",
       "    <tr>\n",
       "      <th>2</th>\n",
       "      <td>2</td>\n",
       "      <td>100.0000</td>\n",
       "      <td>100.0000</td>\n",
       "      <td>100.0000</td>\n",
       "    </tr>\n",
       "    <tr>\n",
       "      <th>3</th>\n",
       "      <td>3</td>\n",
       "      <td>100.0000</td>\n",
       "      <td>100.0000</td>\n",
       "      <td>100.0000</td>\n",
       "    </tr>\n",
       "    <tr>\n",
       "      <th>4</th>\n",
       "      <td>4</td>\n",
       "      <td>100.0000</td>\n",
       "      <td>100.0000</td>\n",
       "      <td>100.0000</td>\n",
       "    </tr>\n",
       "    <tr>\n",
       "      <th>5</th>\n",
       "      <td>5</td>\n",
       "      <td>100.0000</td>\n",
       "      <td>100.0000</td>\n",
       "      <td>100.0000</td>\n",
       "    </tr>\n",
       "  </tbody>\n",
       "</table>\n",
       "</div>"
      ],
      "text/plain": [
       "   Factor       R2     RAAE      EMC\n",
       "0       0 100.0000 100.0000 100.0000\n",
       "1       1 100.0000 100.0000 100.0000\n",
       "2       2 100.0000 100.0000 100.0000\n",
       "3       3 100.0000 100.0000 100.0000\n",
       "4       4 100.0000 100.0000 100.0000\n",
       "5       5 100.0000 100.0000 100.0000"
      ]
     },
     "execution_count": 125,
     "metadata": {},
     "output_type": "execute_result"
    }
   ],
   "source": [
    "# Metrics\n",
    "# Factor mapping (what percentage of perturbed model factors map to the base model factors, using corr(W), RAAE or EMC)\n",
    "# Factor profile ranges (among mapped perturbed model factors)\n",
    "# Factor mean contribution ranges (among mapped pertrubed model factors)\n",
    "n_factors = estimate_k\n",
    "corr_mapping = [0] * n_factors\n",
    "raae_mapping = [0] * n_factors\n",
    "emc_mapping = [0] * n_factors\n",
    "for i, p_model in batch_results0[\"perturb results\"].items():\n",
    "    cmap_dif = np.subtract(p_model[\"corr_mapping\"], list(range(n_factors)))\n",
    "    raae_dif = np.subtract(p_model[\"raae_mapping\"], list(range(n_factors)))\n",
    "    emc_dif = np.subtract(p_model[\"emc_mapping\"], list(range(n_factors)))\n",
    "    for j in range(n_factors):\n",
    "        if cmap_dif[j] == 0:\n",
    "            corr_mapping[j] += 1\n",
    "        if raae_dif[j] == 0:\n",
    "            raae_mapping[j] += 1\n",
    "        if emc_dif[j] == 0:\n",
    "            emc_mapping[j] += 1\n",
    "mapping_df = pd.DataFrame(data=\n",
    "                          {\n",
    "                              \"Factor\": list(range(n_factors)), \n",
    "                              \"R2\": np.round(100 * np.array(corr_mapping)/n_models, 2), \n",
    "                              \"RAAE\": np.round(100 * np.array(raae_mapping)/n_models, 2), \n",
    "                              \"EMC\": np.round(100 * np.array(emc_mapping)/n_models, 2)\n",
    "                          }\n",
    "                         )\n",
    "mapping_df"
   ]
  },
  {
   "cell_type": "code",
   "execution_count": 126,
   "id": "efef0cc4-0061-42a3-a4d9-9d896c0f9bba",
   "metadata": {},
   "outputs": [
    {
     "name": "stdout",
     "output_type": "stream",
     "text": [
      "Correlation Matrix\n"
     ]
    },
    {
     "data": {
      "text/html": [
       "<div>\n",
       "<style scoped>\n",
       "    .dataframe tbody tr th:only-of-type {\n",
       "        vertical-align: middle;\n",
       "    }\n",
       "\n",
       "    .dataframe tbody tr th {\n",
       "        vertical-align: top;\n",
       "    }\n",
       "\n",
       "    .dataframe thead th {\n",
       "        text-align: right;\n",
       "    }\n",
       "</style>\n",
       "<table border=\"1\" class=\"dataframe\">\n",
       "  <thead>\n",
       "    <tr style=\"text-align: right;\">\n",
       "      <th></th>\n",
       "      <th>Factor 0</th>\n",
       "      <th>Factor 1</th>\n",
       "      <th>Factor 2</th>\n",
       "      <th>Factor 3</th>\n",
       "      <th>Factor 4</th>\n",
       "      <th>Factor 5</th>\n",
       "    </tr>\n",
       "  </thead>\n",
       "  <tbody>\n",
       "    <tr>\n",
       "      <th>Base Factor 0</th>\n",
       "      <td>0.9969</td>\n",
       "      <td>0.0003</td>\n",
       "      <td>0.0005</td>\n",
       "      <td>0.0002</td>\n",
       "      <td>0.0005</td>\n",
       "      <td>0.0004</td>\n",
       "    </tr>\n",
       "    <tr>\n",
       "      <th>Base Factor 1</th>\n",
       "      <td>0.0005</td>\n",
       "      <td>0.9917</td>\n",
       "      <td>0.0039</td>\n",
       "      <td>0.0013</td>\n",
       "      <td>0.0007</td>\n",
       "      <td>0.0042</td>\n",
       "    </tr>\n",
       "    <tr>\n",
       "      <th>Base Factor 2</th>\n",
       "      <td>0.0003</td>\n",
       "      <td>0.0036</td>\n",
       "      <td>0.9925</td>\n",
       "      <td>0.0002</td>\n",
       "      <td>0.0061</td>\n",
       "      <td>0.0006</td>\n",
       "    </tr>\n",
       "    <tr>\n",
       "      <th>Base Factor 3</th>\n",
       "      <td>0.0001</td>\n",
       "      <td>0.0010</td>\n",
       "      <td>0.0000</td>\n",
       "      <td>0.9966</td>\n",
       "      <td>0.0015</td>\n",
       "      <td>0.0009</td>\n",
       "    </tr>\n",
       "    <tr>\n",
       "      <th>Base Factor 4</th>\n",
       "      <td>0.0005</td>\n",
       "      <td>0.0006</td>\n",
       "      <td>0.0055</td>\n",
       "      <td>0.0013</td>\n",
       "      <td>0.9972</td>\n",
       "      <td>0.0000</td>\n",
       "    </tr>\n",
       "    <tr>\n",
       "      <th>Base Factor 5</th>\n",
       "      <td>0.0004</td>\n",
       "      <td>0.0040</td>\n",
       "      <td>0.0005</td>\n",
       "      <td>0.0008</td>\n",
       "      <td>0.0001</td>\n",
       "      <td>0.9967</td>\n",
       "    </tr>\n",
       "  </tbody>\n",
       "</table>\n",
       "</div>"
      ],
      "text/plain": [
       "               Factor 0  Factor 1  Factor 2  Factor 3  Factor 4  Factor 5\n",
       "Base Factor 0    0.9969    0.0003    0.0005    0.0002    0.0005    0.0004\n",
       "Base Factor 1    0.0005    0.9917    0.0039    0.0013    0.0007    0.0042\n",
       "Base Factor 2    0.0003    0.0036    0.9925    0.0002    0.0061    0.0006\n",
       "Base Factor 3    0.0001    0.0010    0.0000    0.9966    0.0015    0.0009\n",
       "Base Factor 4    0.0005    0.0006    0.0055    0.0013    0.9972    0.0000\n",
       "Base Factor 5    0.0004    0.0040    0.0005    0.0008    0.0001    0.9967"
      ]
     },
     "execution_count": 126,
     "metadata": {},
     "output_type": "execute_result"
    }
   ],
   "source": [
    "df_columns = [f\"Factor {i}\" for i in range(n_factors)]\n",
    "df_index = [f\"Base Factor {i}\" for i in range(n_factors)]\n",
    "corr_df = pd.DataFrame(data=np.array(batch_results0[\"perturb results\"][0][\"all_corr\"]), columns=df_columns, index=df_index)\n",
    "print(\"Correlation Matrix\")\n",
    "corr_df"
   ]
  },
  {
   "cell_type": "code",
   "execution_count": 127,
   "id": "a129c799-dd6a-42b4-b4c9-d4da03dcc903",
   "metadata": {},
   "outputs": [
    {
     "name": "stdout",
     "output_type": "stream",
     "text": [
      "RAAE Matrix\n"
     ]
    },
    {
     "data": {
      "text/html": [
       "<div>\n",
       "<style scoped>\n",
       "    .dataframe tbody tr th:only-of-type {\n",
       "        vertical-align: middle;\n",
       "    }\n",
       "\n",
       "    .dataframe tbody tr th {\n",
       "        vertical-align: top;\n",
       "    }\n",
       "\n",
       "    .dataframe thead th {\n",
       "        text-align: right;\n",
       "    }\n",
       "</style>\n",
       "<table border=\"1\" class=\"dataframe\">\n",
       "  <thead>\n",
       "    <tr style=\"text-align: right;\">\n",
       "      <th></th>\n",
       "      <th>Factor 0</th>\n",
       "      <th>Factor 1</th>\n",
       "      <th>Factor 2</th>\n",
       "      <th>Factor 3</th>\n",
       "      <th>Factor 4</th>\n",
       "      <th>Factor 5</th>\n",
       "    </tr>\n",
       "  </thead>\n",
       "  <tbody>\n",
       "    <tr>\n",
       "      <th>Base Factor 0</th>\n",
       "      <td>0.0226</td>\n",
       "      <td>0.6341</td>\n",
       "      <td>0.6460</td>\n",
       "      <td>0.6530</td>\n",
       "      <td>0.6269</td>\n",
       "      <td>0.6394</td>\n",
       "    </tr>\n",
       "    <tr>\n",
       "      <th>Base Factor 1</th>\n",
       "      <td>0.8179</td>\n",
       "      <td>0.0394</td>\n",
       "      <td>0.6879</td>\n",
       "      <td>0.7126</td>\n",
       "      <td>0.6816</td>\n",
       "      <td>0.6703</td>\n",
       "    </tr>\n",
       "    <tr>\n",
       "      <th>Base Factor 2</th>\n",
       "      <td>0.8744</td>\n",
       "      <td>0.7238</td>\n",
       "      <td>0.0364</td>\n",
       "      <td>0.7840</td>\n",
       "      <td>0.6721</td>\n",
       "      <td>0.7377</td>\n",
       "    </tr>\n",
       "    <tr>\n",
       "      <th>Base Factor 3</th>\n",
       "      <td>0.7601</td>\n",
       "      <td>0.6460</td>\n",
       "      <td>0.6694</td>\n",
       "      <td>0.0245</td>\n",
       "      <td>0.6690</td>\n",
       "      <td>0.6836</td>\n",
       "    </tr>\n",
       "    <tr>\n",
       "      <th>Base Factor 4</th>\n",
       "      <td>0.7969</td>\n",
       "      <td>0.6767</td>\n",
       "      <td>0.6337</td>\n",
       "      <td>0.7326</td>\n",
       "      <td>0.0212</td>\n",
       "      <td>0.7028</td>\n",
       "    </tr>\n",
       "    <tr>\n",
       "      <th>Base Factor 5</th>\n",
       "      <td>0.7962</td>\n",
       "      <td>0.6482</td>\n",
       "      <td>0.6754</td>\n",
       "      <td>0.7334</td>\n",
       "      <td>0.6865</td>\n",
       "      <td>0.0237</td>\n",
       "    </tr>\n",
       "  </tbody>\n",
       "</table>\n",
       "</div>"
      ],
      "text/plain": [
       "               Factor 0  Factor 1  Factor 2  Factor 3  Factor 4  Factor 5\n",
       "Base Factor 0    0.0226    0.6341    0.6460    0.6530    0.6269    0.6394\n",
       "Base Factor 1    0.8179    0.0394    0.6879    0.7126    0.6816    0.6703\n",
       "Base Factor 2    0.8744    0.7238    0.0364    0.7840    0.6721    0.7377\n",
       "Base Factor 3    0.7601    0.6460    0.6694    0.0245    0.6690    0.6836\n",
       "Base Factor 4    0.7969    0.6767    0.6337    0.7326    0.0212    0.7028\n",
       "Base Factor 5    0.7962    0.6482    0.6754    0.7334    0.6865    0.0237"
      ]
     },
     "execution_count": 127,
     "metadata": {},
     "output_type": "execute_result"
    }
   ],
   "source": [
    "raae_df = pd.DataFrame(data=np.array(batch_results0[\"perturb results\"][0][\"all_raae\"]), columns=df_columns, index=df_index)\n",
    "print(\"RAAE Matrix\")\n",
    "raae_df"
   ]
  },
  {
   "cell_type": "code",
   "execution_count": 128,
   "id": "c9e7be23-a1da-46e9-9503-40974a468494",
   "metadata": {},
   "outputs": [
    {
     "name": "stdout",
     "output_type": "stream",
     "text": [
      "EMC Matrix\n"
     ]
    },
    {
     "data": {
      "text/html": [
       "<div>\n",
       "<style scoped>\n",
       "    .dataframe tbody tr th:only-of-type {\n",
       "        vertical-align: middle;\n",
       "    }\n",
       "\n",
       "    .dataframe tbody tr th {\n",
       "        vertical-align: top;\n",
       "    }\n",
       "\n",
       "    .dataframe thead th {\n",
       "        text-align: right;\n",
       "    }\n",
       "</style>\n",
       "<table border=\"1\" class=\"dataframe\">\n",
       "  <thead>\n",
       "    <tr style=\"text-align: right;\">\n",
       "      <th></th>\n",
       "      <th>Factor 0</th>\n",
       "      <th>Factor 1</th>\n",
       "      <th>Factor 2</th>\n",
       "      <th>Factor 3</th>\n",
       "      <th>Factor 4</th>\n",
       "      <th>Factor 5</th>\n",
       "    </tr>\n",
       "  </thead>\n",
       "  <tbody>\n",
       "    <tr>\n",
       "      <th>Base Factor 0</th>\n",
       "      <td>0.9998</td>\n",
       "      <td>0.0001</td>\n",
       "      <td>0.0597</td>\n",
       "      <td>0.0878</td>\n",
       "      <td>0.0346</td>\n",
       "      <td>0.0084</td>\n",
       "    </tr>\n",
       "    <tr>\n",
       "      <th>Base Factor 1</th>\n",
       "      <td>0.0005</td>\n",
       "      <td>0.9998</td>\n",
       "      <td>0.1715</td>\n",
       "      <td>0.0157</td>\n",
       "      <td>0.0213</td>\n",
       "      <td>0.0243</td>\n",
       "    </tr>\n",
       "    <tr>\n",
       "      <th>Base Factor 2</th>\n",
       "      <td>0.0574</td>\n",
       "      <td>0.1717</td>\n",
       "      <td>0.9998</td>\n",
       "      <td>0.0250</td>\n",
       "      <td>0.0358</td>\n",
       "      <td>0.0003</td>\n",
       "    </tr>\n",
       "    <tr>\n",
       "      <th>Base Factor 3</th>\n",
       "      <td>0.0865</td>\n",
       "      <td>0.0182</td>\n",
       "      <td>0.0245</td>\n",
       "      <td>0.9999</td>\n",
       "      <td>0.0262</td>\n",
       "      <td>0.0194</td>\n",
       "    </tr>\n",
       "    <tr>\n",
       "      <th>Base Factor 4</th>\n",
       "      <td>0.0327</td>\n",
       "      <td>0.0232</td>\n",
       "      <td>0.0371</td>\n",
       "      <td>0.0275</td>\n",
       "      <td>0.9997</td>\n",
       "      <td>0.0005</td>\n",
       "    </tr>\n",
       "    <tr>\n",
       "      <th>Base Factor 5</th>\n",
       "      <td>0.0093</td>\n",
       "      <td>0.0233</td>\n",
       "      <td>0.0004</td>\n",
       "      <td>0.0189</td>\n",
       "      <td>0.0004</td>\n",
       "      <td>0.9999</td>\n",
       "    </tr>\n",
       "  </tbody>\n",
       "</table>\n",
       "</div>"
      ],
      "text/plain": [
       "               Factor 0  Factor 1  Factor 2  Factor 3  Factor 4  Factor 5\n",
       "Base Factor 0    0.9998    0.0001    0.0597    0.0878    0.0346    0.0084\n",
       "Base Factor 1    0.0005    0.9998    0.1715    0.0157    0.0213    0.0243\n",
       "Base Factor 2    0.0574    0.1717    0.9998    0.0250    0.0358    0.0003\n",
       "Base Factor 3    0.0865    0.0182    0.0245    0.9999    0.0262    0.0194\n",
       "Base Factor 4    0.0327    0.0232    0.0371    0.0275    0.9997    0.0005\n",
       "Base Factor 5    0.0093    0.0233    0.0004    0.0189    0.0004    0.9999"
      ]
     },
     "execution_count": 128,
     "metadata": {},
     "output_type": "execute_result"
    }
   ],
   "source": [
    "emc_df = pd.DataFrame(data=np.array(batch_results0[\"perturb results\"][1][\"all_emc\"]), columns=df_columns, index=df_index)\n",
    "print(\"EMC Matrix\")\n",
    "emc_df"
   ]
  },
  {
   "cell_type": "code",
   "execution_count": null,
   "id": "cd9da98a-4f4d-464b-9add-71304af52b5a",
   "metadata": {
    "jp-MarkdownHeadingCollapsed": true
   },
   "outputs": [],
   "source": []
  },
  {
   "cell_type": "code",
   "execution_count": 129,
   "id": "12652c5a-b8e6-43f5-8c44-199493ffef47",
   "metadata": {},
   "outputs": [],
   "source": []
  },
  {
   "cell_type": "code",
   "execution_count": 130,
   "id": "35e1658b-068c-4c97-8525-108e5b9dec45",
   "metadata": {},
   "outputs": [
    {
     "data": {
      "text/plain": [
       "({0: array([0, 1, 2, 3, 4, 5], dtype=int64),\n",
       "  1: array([0, 1, 2, 3, 4, 5], dtype=int64),\n",
       "  2: array([0, 1, 2, 3, 4, 5], dtype=int64),\n",
       "  3: array([0, 1, 2, 3, 4, 5], dtype=int64),\n",
       "  4: array([0, 1, 2, 3, 4, 5], dtype=int64),\n",
       "  5: array([0, 1, 2, 3, 4, 5], dtype=int64),\n",
       "  6: array([0, 1, 2, 3, 4, 5], dtype=int64),\n",
       "  7: array([0, 1, 2, 3, 4, 5], dtype=int64),\n",
       "  8: array([0, 1, 2, 3, 4, 5], dtype=int64),\n",
       "  9: array([0, 1, 2, 3, 4, 5], dtype=int64)},\n",
       " {0: [0.9998, 0.9997, 0.9998, 0.9997, 0.9998, 0.9998],\n",
       "  1: [0.9998, 0.9998, 0.9998, 0.9999, 0.9997, 0.9999],\n",
       "  2: [0.9998, 0.9993, 0.9998, 0.9997, 0.9998, 0.9999],\n",
       "  3: [0.9999, 0.9997, 0.9998, 0.9998, 0.9997, 0.9998],\n",
       "  4: [0.9998, 0.9999, 0.9999, 0.9997, 0.9999, 0.9998],\n",
       "  5: [0.9999, 0.9998, 0.9998, 0.9996, 0.9999, 0.9999],\n",
       "  6: [0.9997, 0.9997, 0.9998, 0.9998, 0.9998, 0.9998],\n",
       "  7: [0.9997, 0.9998, 0.9998, 0.9999, 0.9998, 0.9997],\n",
       "  8: [0.9997, 0.9999, 0.9997, 0.9997, 0.9996, 0.9998],\n",
       "  9: [0.9996, 0.9997, 0.9999, 0.9998, 0.9997, 0.9998]})"
      ]
     },
     "execution_count": 130,
     "metadata": {},
     "output_type": "execute_result"
    }
   ],
   "source": [
    "emc_mapping_results = optimal_mapping_algorithm(batch_results=batch_results0, mapping_type=\"emc\")\n",
    "emc_mapping_results"
   ]
  },
  {
   "cell_type": "code",
   "execution_count": null,
   "id": "457f78ec-bbd6-40de-b90a-c69d2b587570",
   "metadata": {},
   "outputs": [],
   "source": []
  },
  {
   "cell_type": "code",
   "execution_count": 131,
   "id": "19314935-f271-47ec-a5ff-a4eeab7fa743",
   "metadata": {},
   "outputs": [
    {
     "data": {
      "text/plain": [
       "first   1.5228\n",
       "25th    2.3038\n",
       "50th    2.7201\n",
       "75th    3.2180\n",
       "99th    4.8910\n",
       "sigma   0.2500\n",
       "dtype: float64"
      ]
     },
     "execution_count": 131,
     "metadata": {},
     "output_type": "execute_result"
    }
   ],
   "source": [
    "# Table 1\n",
    "u_m_stats = np.percentile(batch_results0[\"perturb results\"][0][\"multiplier\"], [1, 25, 50, 75, 99])\n",
    "m_stats_dict = dict(zip([\"first\", \"25th\", \"50th\", \"75th\", \"99th\"], u_m_stats))\n",
    "m_stats_dict[\"sigma\"] = perturb_sigma\n",
    "m_stats_df = pd.Series(data=m_stats_dict)\n",
    "m_stats_df"
   ]
  },
  {
   "cell_type": "code",
   "execution_count": 47,
   "id": "34a00b0f-983a-455f-9e9f-d658ca65868d",
   "metadata": {},
   "outputs": [
    {
     "name": "stdout",
     "output_type": "stream",
     "text": [
      "QTrue - Base: 13351.1866, Perturb Mean: 14053.3762, Perturb STD: 250.7151, Perturb Min: 13665.559, Perturb Max: 14523.8171\n"
     ]
    }
   ],
   "source": [
    "base_H = batch_results0[\"base model\"].H\n",
    "base_H = (base_H / np.sum(base_H, axis=0))\n",
    "\n",
    "base_W = batch_results0[\"base model\"].W\n",
    "base_W = (base_W.T / np.sum(base_W.T, axis=0)).T\n",
    "\n",
    "threshold = 0.95\n",
    "\n",
    "p_Hs = []\n",
    "p_Ws = []\n",
    "p_Qs = []\n",
    "for p, p_results in batch_results0[\"perturb results\"].items():\n",
    "    p_model = p_results[\"model\"]\n",
    "    p_H = (p_model.H / np.sum(p_model.H, axis=0))\n",
    "    p_W = (p_model.W.T / np.sum(p_model.W.T, axis=0)).T\n",
    "    _p_H = []\n",
    "    _p_W = []\n",
    "    p_mapping = mapping_results[0][p]\n",
    "    p_map_metric = np.array(mapping_results[1][p]) > threshold\n",
    "    for i in range(p_model.factors):\n",
    "        if p_map_metric[i]:\n",
    "            _p_H.append(p_H[p_mapping[i]])\n",
    "            _p_W.append(p_W[:,p_mapping[i]])\n",
    "        # else:\n",
    "        #     _p_H.append(base_H[p_mapping[i]])\n",
    "    _p_H = np.array(_p_H)\n",
    "    _p_W = np.array(_p_W)\n",
    "    p_Hs.append(_p_H)\n",
    "    p_Ws.append(_p_W)\n",
    "    p_Qs.append(p_model.Qtrue)\n",
    "perturb_H = np.dstack(p_Hs)\n",
    "perturb_W = np.dstack(p_Ws)\n",
    "mean_perturb_H = np.mean(perturb_H, axis=2)\n",
    "std_perturb_H = np.std(perturb_H, axis=2)\n",
    "min_perturb_H = np.min(perturb_H, axis=2)\n",
    "max_perturb_H = np.max(perturb_H, axis=2)\n",
    "\n",
    "feature_labels = [f\"Feature {i+1}\" for i in range(base_H.shape[1])]\n",
    "print(f\"QTrue - Base: {np.round(batch_results0[\"base model\"].Qtrue,4)}, Perturb Mean: {np.round(np.mean(p_Qs),4)}, Perturb STD: {np.round(np.std(p_Qs),4)}, Perturb Min: {np.round(np.min(p_Qs),4)}, Perturb Max: {np.round(np.max(p_Qs),4)}\")"
   ]
  },
  {
   "cell_type": "code",
   "execution_count": null,
   "id": "ef04f921-bd27-493d-8b73-712e67081afe",
   "metadata": {},
   "outputs": [],
   "source": []
  },
  {
   "cell_type": "code",
   "execution_count": 17,
   "id": "9ec70aa6-2997-4cad-893c-504c7bacc86a",
   "metadata": {},
   "outputs": [
    {
     "data": {
      "text/html": [
       "<div>\n",
       "<style scoped>\n",
       "    .dataframe tbody tr th:only-of-type {\n",
       "        vertical-align: middle;\n",
       "    }\n",
       "\n",
       "    .dataframe tbody tr th {\n",
       "        vertical-align: top;\n",
       "    }\n",
       "\n",
       "    .dataframe thead th {\n",
       "        text-align: right;\n",
       "    }\n",
       "</style>\n",
       "<table border=\"1\" class=\"dataframe\">\n",
       "  <thead>\n",
       "    <tr style=\"text-align: right;\">\n",
       "      <th></th>\n",
       "      <th>Base</th>\n",
       "      <th>Mean Perturb</th>\n",
       "      <th>% diff</th>\n",
       "      <th>STD Perturb</th>\n",
       "      <th>Min Perturb</th>\n",
       "      <th>Max Perturb</th>\n",
       "    </tr>\n",
       "  </thead>\n",
       "  <tbody>\n",
       "    <tr>\n",
       "      <th>Feature 1</th>\n",
       "      <td>0.1555</td>\n",
       "      <td>0.1547</td>\n",
       "      <td>-0.5557</td>\n",
       "      <td>0.0463</td>\n",
       "      <td>0.0827</td>\n",
       "      <td>0.2464</td>\n",
       "    </tr>\n",
       "    <tr>\n",
       "      <th>Feature 2</th>\n",
       "      <td>0.0368</td>\n",
       "      <td>0.0474</td>\n",
       "      <td>25.1585</td>\n",
       "      <td>0.0301</td>\n",
       "      <td>0.0000</td>\n",
       "      <td>0.0824</td>\n",
       "    </tr>\n",
       "    <tr>\n",
       "      <th>Feature 3</th>\n",
       "      <td>0.0302</td>\n",
       "      <td>0.0274</td>\n",
       "      <td>-9.6511</td>\n",
       "      <td>0.0352</td>\n",
       "      <td>0.0000</td>\n",
       "      <td>0.0943</td>\n",
       "    </tr>\n",
       "    <tr>\n",
       "      <th>Feature 4</th>\n",
       "      <td>0.4084</td>\n",
       "      <td>0.3936</td>\n",
       "      <td>-3.6823</td>\n",
       "      <td>0.0310</td>\n",
       "      <td>0.3436</td>\n",
       "      <td>0.4516</td>\n",
       "    </tr>\n",
       "    <tr>\n",
       "      <th>Feature 5</th>\n",
       "      <td>0.2568</td>\n",
       "      <td>0.2600</td>\n",
       "      <td>1.2598</td>\n",
       "      <td>0.0362</td>\n",
       "      <td>0.2134</td>\n",
       "      <td>0.3409</td>\n",
       "    </tr>\n",
       "    <tr>\n",
       "      <th>Feature 6</th>\n",
       "      <td>0.4090</td>\n",
       "      <td>0.4002</td>\n",
       "      <td>-2.1716</td>\n",
       "      <td>0.0291</td>\n",
       "      <td>0.3644</td>\n",
       "      <td>0.4573</td>\n",
       "    </tr>\n",
       "    <tr>\n",
       "      <th>Feature 7</th>\n",
       "      <td>0.0000</td>\n",
       "      <td>0.0000</td>\n",
       "      <td>0.0000</td>\n",
       "      <td>0.0000</td>\n",
       "      <td>0.0000</td>\n",
       "      <td>0.0000</td>\n",
       "    </tr>\n",
       "    <tr>\n",
       "      <th>Feature 8</th>\n",
       "      <td>0.0000</td>\n",
       "      <td>0.0000</td>\n",
       "      <td>0.0000</td>\n",
       "      <td>0.0000</td>\n",
       "      <td>0.0000</td>\n",
       "      <td>0.0000</td>\n",
       "    </tr>\n",
       "    <tr>\n",
       "      <th>Feature 9</th>\n",
       "      <td>0.3007</td>\n",
       "      <td>0.3021</td>\n",
       "      <td>0.4614</td>\n",
       "      <td>0.0469</td>\n",
       "      <td>0.2068</td>\n",
       "      <td>0.3894</td>\n",
       "    </tr>\n",
       "    <tr>\n",
       "      <th>Feature 10</th>\n",
       "      <td>0.2439</td>\n",
       "      <td>0.2319</td>\n",
       "      <td>-5.0589</td>\n",
       "      <td>0.0435</td>\n",
       "      <td>0.1646</td>\n",
       "      <td>0.2857</td>\n",
       "    </tr>\n",
       "    <tr>\n",
       "      <th>Feature 11</th>\n",
       "      <td>0.5519</td>\n",
       "      <td>0.5379</td>\n",
       "      <td>-2.5722</td>\n",
       "      <td>0.0267</td>\n",
       "      <td>0.4773</td>\n",
       "      <td>0.5693</td>\n",
       "    </tr>\n",
       "    <tr>\n",
       "      <th>Feature 12</th>\n",
       "      <td>0.0490</td>\n",
       "      <td>0.0439</td>\n",
       "      <td>-11.0285</td>\n",
       "      <td>0.0138</td>\n",
       "      <td>0.0258</td>\n",
       "      <td>0.0722</td>\n",
       "    </tr>\n",
       "    <tr>\n",
       "      <th>Feature 13</th>\n",
       "      <td>0.1025</td>\n",
       "      <td>0.0689</td>\n",
       "      <td>-39.2805</td>\n",
       "      <td>0.0542</td>\n",
       "      <td>0.0000</td>\n",
       "      <td>0.1655</td>\n",
       "    </tr>\n",
       "    <tr>\n",
       "      <th>Feature 14</th>\n",
       "      <td>0.0096</td>\n",
       "      <td>0.0106</td>\n",
       "      <td>9.6762</td>\n",
       "      <td>0.0111</td>\n",
       "      <td>0.0000</td>\n",
       "      <td>0.0292</td>\n",
       "    </tr>\n",
       "    <tr>\n",
       "      <th>Feature 15</th>\n",
       "      <td>0.2573</td>\n",
       "      <td>0.2795</td>\n",
       "      <td>8.2678</td>\n",
       "      <td>0.0390</td>\n",
       "      <td>0.2131</td>\n",
       "      <td>0.3540</td>\n",
       "    </tr>\n",
       "    <tr>\n",
       "      <th>Feature 16</th>\n",
       "      <td>0.0000</td>\n",
       "      <td>0.0000</td>\n",
       "      <td>0.0000</td>\n",
       "      <td>0.0000</td>\n",
       "      <td>0.0000</td>\n",
       "      <td>0.0000</td>\n",
       "    </tr>\n",
       "    <tr>\n",
       "      <th>Feature 17</th>\n",
       "      <td>0.0000</td>\n",
       "      <td>0.0000</td>\n",
       "      <td>0.0000</td>\n",
       "      <td>0.0000</td>\n",
       "      <td>0.0000</td>\n",
       "      <td>0.0000</td>\n",
       "    </tr>\n",
       "    <tr>\n",
       "      <th>Feature 18</th>\n",
       "      <td>0.0000</td>\n",
       "      <td>0.0000</td>\n",
       "      <td>0.0000</td>\n",
       "      <td>0.0000</td>\n",
       "      <td>0.0000</td>\n",
       "      <td>0.0000</td>\n",
       "    </tr>\n",
       "    <tr>\n",
       "      <th>Feature 19</th>\n",
       "      <td>0.0000</td>\n",
       "      <td>0.0054</td>\n",
       "      <td>200.0000</td>\n",
       "      <td>0.0109</td>\n",
       "      <td>0.0000</td>\n",
       "      <td>0.0294</td>\n",
       "    </tr>\n",
       "    <tr>\n",
       "      <th>Feature 20</th>\n",
       "      <td>0.0000</td>\n",
       "      <td>0.0000</td>\n",
       "      <td>0.0000</td>\n",
       "      <td>0.0000</td>\n",
       "      <td>0.0000</td>\n",
       "      <td>0.0000</td>\n",
       "    </tr>\n",
       "    <tr>\n",
       "      <th>Feature 21</th>\n",
       "      <td>0.4795</td>\n",
       "      <td>0.4536</td>\n",
       "      <td>-5.5452</td>\n",
       "      <td>0.0301</td>\n",
       "      <td>0.4031</td>\n",
       "      <td>0.4989</td>\n",
       "    </tr>\n",
       "    <tr>\n",
       "      <th>Feature 22</th>\n",
       "      <td>0.0161</td>\n",
       "      <td>0.0445</td>\n",
       "      <td>93.9503</td>\n",
       "      <td>0.0488</td>\n",
       "      <td>0.0000</td>\n",
       "      <td>0.1708</td>\n",
       "    </tr>\n",
       "    <tr>\n",
       "      <th>Feature 23</th>\n",
       "      <td>0.0120</td>\n",
       "      <td>0.0115</td>\n",
       "      <td>-3.5749</td>\n",
       "      <td>0.0129</td>\n",
       "      <td>0.0000</td>\n",
       "      <td>0.0318</td>\n",
       "    </tr>\n",
       "    <tr>\n",
       "      <th>Feature 24</th>\n",
       "      <td>0.0000</td>\n",
       "      <td>0.0000</td>\n",
       "      <td>0.0000</td>\n",
       "      <td>0.0000</td>\n",
       "      <td>0.0000</td>\n",
       "      <td>0.0000</td>\n",
       "    </tr>\n",
       "  </tbody>\n",
       "</table>\n",
       "</div>"
      ],
      "text/plain": [
       "             Base  Mean Perturb   % diff  STD Perturb  Min Perturb  \\\n",
       "Feature 1  0.1555        0.1547  -0.5557       0.0463       0.0827   \n",
       "Feature 2  0.0368        0.0474  25.1585       0.0301       0.0000   \n",
       "Feature 3  0.0302        0.0274  -9.6511       0.0352       0.0000   \n",
       "Feature 4  0.4084        0.3936  -3.6823       0.0310       0.3436   \n",
       "Feature 5  0.2568        0.2600   1.2598       0.0362       0.2134   \n",
       "Feature 6  0.4090        0.4002  -2.1716       0.0291       0.3644   \n",
       "Feature 7  0.0000        0.0000   0.0000       0.0000       0.0000   \n",
       "Feature 8  0.0000        0.0000   0.0000       0.0000       0.0000   \n",
       "Feature 9  0.3007        0.3021   0.4614       0.0469       0.2068   \n",
       "Feature 10 0.2439        0.2319  -5.0589       0.0435       0.1646   \n",
       "Feature 11 0.5519        0.5379  -2.5722       0.0267       0.4773   \n",
       "Feature 12 0.0490        0.0439 -11.0285       0.0138       0.0258   \n",
       "Feature 13 0.1025        0.0689 -39.2805       0.0542       0.0000   \n",
       "Feature 14 0.0096        0.0106   9.6762       0.0111       0.0000   \n",
       "Feature 15 0.2573        0.2795   8.2678       0.0390       0.2131   \n",
       "Feature 16 0.0000        0.0000   0.0000       0.0000       0.0000   \n",
       "Feature 17 0.0000        0.0000   0.0000       0.0000       0.0000   \n",
       "Feature 18 0.0000        0.0000   0.0000       0.0000       0.0000   \n",
       "Feature 19 0.0000        0.0054 200.0000       0.0109       0.0000   \n",
       "Feature 20 0.0000        0.0000   0.0000       0.0000       0.0000   \n",
       "Feature 21 0.4795        0.4536  -5.5452       0.0301       0.4031   \n",
       "Feature 22 0.0161        0.0445  93.9503       0.0488       0.0000   \n",
       "Feature 23 0.0120        0.0115  -3.5749       0.0129       0.0000   \n",
       "Feature 24 0.0000        0.0000   0.0000       0.0000       0.0000   \n",
       "\n",
       "            Max Perturb  \n",
       "Feature 1        0.2464  \n",
       "Feature 2        0.0824  \n",
       "Feature 3        0.0943  \n",
       "Feature 4        0.4516  \n",
       "Feature 5        0.3409  \n",
       "Feature 6        0.4573  \n",
       "Feature 7        0.0000  \n",
       "Feature 8        0.0000  \n",
       "Feature 9        0.3894  \n",
       "Feature 10       0.2857  \n",
       "Feature 11       0.5693  \n",
       "Feature 12       0.0722  \n",
       "Feature 13       0.1655  \n",
       "Feature 14       0.0292  \n",
       "Feature 15       0.3540  \n",
       "Feature 16       0.0000  \n",
       "Feature 17       0.0000  \n",
       "Feature 18       0.0000  \n",
       "Feature 19       0.0294  \n",
       "Feature 20       0.0000  \n",
       "Feature 21       0.4989  \n",
       "Feature 22       0.1708  \n",
       "Feature 23       0.0318  \n",
       "Feature 24       0.0000  "
      ]
     },
     "execution_count": 17,
     "metadata": {},
     "output_type": "execute_result"
    }
   ],
   "source": [
    "factor_i = 1\n",
    "f1_dict = {\n",
    "    \"Base\": base_H[factor_i],\n",
    "    \"Mean Perturb\": mean_perturb_H[factor_i],\n",
    "    \"% diff\": np.round(100*(mean_perturb_H[factor_i] - base_H[factor_i])/((mean_perturb_H[factor_i] + base_H[factor_i])/2) , 4),\n",
    "    \"STD Perturb\": std_perturb_H[factor_i],\n",
    "    \"Min Perturb\": min_perturb_H[factor_i],\n",
    "    \"Max Perturb\": max_perturb_H[factor_i],\n",
    "}\n",
    "f1_dict[\"% diff\"][f1_dict[\"Mean Perturb\"] < 1e-6] = 0.0 \n",
    "\n",
    "f1_df = pd.DataFrame(f1_dict, index=feature_labels).round(10)\n",
    "f1_df"
   ]
  },
  {
   "cell_type": "code",
   "execution_count": 89,
   "id": "2fedfebe-0f13-4bcb-915d-695e5491e6ec",
   "metadata": {},
   "outputs": [
    {
     "data": {
      "application/vnd.plotly.v1+json": {
       "config": {
        "plotlyServerURL": "https://plot.ly"
       },
       "data": [
        {
         "name": "Perturbed W",
         "type": "bar",
         "x": [
          "Factor 1",
          "Factor 2",
          "Factor 3",
          "Factor 4",
          "Factor 5",
          "Factor 6"
         ],
         "y": [
          10.997354808162171,
          19.88464224644712,
          18.10530558123683,
          17.125550899627502,
          8.951961655701716,
          24.935184808824655
         ]
        },
        {
         "name": "Base W",
         "type": "bar",
         "x": [
          "Factor 1",
          "Factor 2",
          "Factor 3",
          "Factor 4",
          "Factor 5",
          "Factor 6"
         ],
         "y": [
          10.953740790617049,
          19.78608672562964,
          18.203289301796755,
          16.841077795372673,
          9.186423044697776,
          25.029382341886127
         ]
        }
       ],
       "layout": {
        "barmode": "group",
        "height": 800,
        "hovermode": "x unified",
        "template": {
         "data": {
          "bar": [
           {
            "error_x": {
             "color": "#2a3f5f"
            },
            "error_y": {
             "color": "#2a3f5f"
            },
            "marker": {
             "line": {
              "color": "#E5ECF6",
              "width": 0.5
             },
             "pattern": {
              "fillmode": "overlay",
              "size": 10,
              "solidity": 0.2
             }
            },
            "type": "bar"
           }
          ],
          "barpolar": [
           {
            "marker": {
             "line": {
              "color": "#E5ECF6",
              "width": 0.5
             },
             "pattern": {
              "fillmode": "overlay",
              "size": 10,
              "solidity": 0.2
             }
            },
            "type": "barpolar"
           }
          ],
          "carpet": [
           {
            "aaxis": {
             "endlinecolor": "#2a3f5f",
             "gridcolor": "white",
             "linecolor": "white",
             "minorgridcolor": "white",
             "startlinecolor": "#2a3f5f"
            },
            "baxis": {
             "endlinecolor": "#2a3f5f",
             "gridcolor": "white",
             "linecolor": "white",
             "minorgridcolor": "white",
             "startlinecolor": "#2a3f5f"
            },
            "type": "carpet"
           }
          ],
          "choropleth": [
           {
            "colorbar": {
             "outlinewidth": 0,
             "ticks": ""
            },
            "type": "choropleth"
           }
          ],
          "contour": [
           {
            "colorbar": {
             "outlinewidth": 0,
             "ticks": ""
            },
            "colorscale": [
             [
              0,
              "#0d0887"
             ],
             [
              0.1111111111111111,
              "#46039f"
             ],
             [
              0.2222222222222222,
              "#7201a8"
             ],
             [
              0.3333333333333333,
              "#9c179e"
             ],
             [
              0.4444444444444444,
              "#bd3786"
             ],
             [
              0.5555555555555556,
              "#d8576b"
             ],
             [
              0.6666666666666666,
              "#ed7953"
             ],
             [
              0.7777777777777778,
              "#fb9f3a"
             ],
             [
              0.8888888888888888,
              "#fdca26"
             ],
             [
              1,
              "#f0f921"
             ]
            ],
            "type": "contour"
           }
          ],
          "contourcarpet": [
           {
            "colorbar": {
             "outlinewidth": 0,
             "ticks": ""
            },
            "type": "contourcarpet"
           }
          ],
          "heatmap": [
           {
            "colorbar": {
             "outlinewidth": 0,
             "ticks": ""
            },
            "colorscale": [
             [
              0,
              "#0d0887"
             ],
             [
              0.1111111111111111,
              "#46039f"
             ],
             [
              0.2222222222222222,
              "#7201a8"
             ],
             [
              0.3333333333333333,
              "#9c179e"
             ],
             [
              0.4444444444444444,
              "#bd3786"
             ],
             [
              0.5555555555555556,
              "#d8576b"
             ],
             [
              0.6666666666666666,
              "#ed7953"
             ],
             [
              0.7777777777777778,
              "#fb9f3a"
             ],
             [
              0.8888888888888888,
              "#fdca26"
             ],
             [
              1,
              "#f0f921"
             ]
            ],
            "type": "heatmap"
           }
          ],
          "heatmapgl": [
           {
            "colorbar": {
             "outlinewidth": 0,
             "ticks": ""
            },
            "colorscale": [
             [
              0,
              "#0d0887"
             ],
             [
              0.1111111111111111,
              "#46039f"
             ],
             [
              0.2222222222222222,
              "#7201a8"
             ],
             [
              0.3333333333333333,
              "#9c179e"
             ],
             [
              0.4444444444444444,
              "#bd3786"
             ],
             [
              0.5555555555555556,
              "#d8576b"
             ],
             [
              0.6666666666666666,
              "#ed7953"
             ],
             [
              0.7777777777777778,
              "#fb9f3a"
             ],
             [
              0.8888888888888888,
              "#fdca26"
             ],
             [
              1,
              "#f0f921"
             ]
            ],
            "type": "heatmapgl"
           }
          ],
          "histogram": [
           {
            "marker": {
             "pattern": {
              "fillmode": "overlay",
              "size": 10,
              "solidity": 0.2
             }
            },
            "type": "histogram"
           }
          ],
          "histogram2d": [
           {
            "colorbar": {
             "outlinewidth": 0,
             "ticks": ""
            },
            "colorscale": [
             [
              0,
              "#0d0887"
             ],
             [
              0.1111111111111111,
              "#46039f"
             ],
             [
              0.2222222222222222,
              "#7201a8"
             ],
             [
              0.3333333333333333,
              "#9c179e"
             ],
             [
              0.4444444444444444,
              "#bd3786"
             ],
             [
              0.5555555555555556,
              "#d8576b"
             ],
             [
              0.6666666666666666,
              "#ed7953"
             ],
             [
              0.7777777777777778,
              "#fb9f3a"
             ],
             [
              0.8888888888888888,
              "#fdca26"
             ],
             [
              1,
              "#f0f921"
             ]
            ],
            "type": "histogram2d"
           }
          ],
          "histogram2dcontour": [
           {
            "colorbar": {
             "outlinewidth": 0,
             "ticks": ""
            },
            "colorscale": [
             [
              0,
              "#0d0887"
             ],
             [
              0.1111111111111111,
              "#46039f"
             ],
             [
              0.2222222222222222,
              "#7201a8"
             ],
             [
              0.3333333333333333,
              "#9c179e"
             ],
             [
              0.4444444444444444,
              "#bd3786"
             ],
             [
              0.5555555555555556,
              "#d8576b"
             ],
             [
              0.6666666666666666,
              "#ed7953"
             ],
             [
              0.7777777777777778,
              "#fb9f3a"
             ],
             [
              0.8888888888888888,
              "#fdca26"
             ],
             [
              1,
              "#f0f921"
             ]
            ],
            "type": "histogram2dcontour"
           }
          ],
          "mesh3d": [
           {
            "colorbar": {
             "outlinewidth": 0,
             "ticks": ""
            },
            "type": "mesh3d"
           }
          ],
          "parcoords": [
           {
            "line": {
             "colorbar": {
              "outlinewidth": 0,
              "ticks": ""
             }
            },
            "type": "parcoords"
           }
          ],
          "pie": [
           {
            "automargin": true,
            "type": "pie"
           }
          ],
          "scatter": [
           {
            "fillpattern": {
             "fillmode": "overlay",
             "size": 10,
             "solidity": 0.2
            },
            "type": "scatter"
           }
          ],
          "scatter3d": [
           {
            "line": {
             "colorbar": {
              "outlinewidth": 0,
              "ticks": ""
             }
            },
            "marker": {
             "colorbar": {
              "outlinewidth": 0,
              "ticks": ""
             }
            },
            "type": "scatter3d"
           }
          ],
          "scattercarpet": [
           {
            "marker": {
             "colorbar": {
              "outlinewidth": 0,
              "ticks": ""
             }
            },
            "type": "scattercarpet"
           }
          ],
          "scattergeo": [
           {
            "marker": {
             "colorbar": {
              "outlinewidth": 0,
              "ticks": ""
             }
            },
            "type": "scattergeo"
           }
          ],
          "scattergl": [
           {
            "marker": {
             "colorbar": {
              "outlinewidth": 0,
              "ticks": ""
             }
            },
            "type": "scattergl"
           }
          ],
          "scattermapbox": [
           {
            "marker": {
             "colorbar": {
              "outlinewidth": 0,
              "ticks": ""
             }
            },
            "type": "scattermapbox"
           }
          ],
          "scatterpolar": [
           {
            "marker": {
             "colorbar": {
              "outlinewidth": 0,
              "ticks": ""
             }
            },
            "type": "scatterpolar"
           }
          ],
          "scatterpolargl": [
           {
            "marker": {
             "colorbar": {
              "outlinewidth": 0,
              "ticks": ""
             }
            },
            "type": "scatterpolargl"
           }
          ],
          "scatterternary": [
           {
            "marker": {
             "colorbar": {
              "outlinewidth": 0,
              "ticks": ""
             }
            },
            "type": "scatterternary"
           }
          ],
          "surface": [
           {
            "colorbar": {
             "outlinewidth": 0,
             "ticks": ""
            },
            "colorscale": [
             [
              0,
              "#0d0887"
             ],
             [
              0.1111111111111111,
              "#46039f"
             ],
             [
              0.2222222222222222,
              "#7201a8"
             ],
             [
              0.3333333333333333,
              "#9c179e"
             ],
             [
              0.4444444444444444,
              "#bd3786"
             ],
             [
              0.5555555555555556,
              "#d8576b"
             ],
             [
              0.6666666666666666,
              "#ed7953"
             ],
             [
              0.7777777777777778,
              "#fb9f3a"
             ],
             [
              0.8888888888888888,
              "#fdca26"
             ],
             [
              1,
              "#f0f921"
             ]
            ],
            "type": "surface"
           }
          ],
          "table": [
           {
            "cells": {
             "fill": {
              "color": "#EBF0F8"
             },
             "line": {
              "color": "white"
             }
            },
            "header": {
             "fill": {
              "color": "#C8D4E3"
             },
             "line": {
              "color": "white"
             }
            },
            "type": "table"
           }
          ]
         },
         "layout": {
          "annotationdefaults": {
           "arrowcolor": "#2a3f5f",
           "arrowhead": 0,
           "arrowwidth": 1
          },
          "autotypenumbers": "strict",
          "coloraxis": {
           "colorbar": {
            "outlinewidth": 0,
            "ticks": ""
           }
          },
          "colorscale": {
           "diverging": [
            [
             0,
             "#8e0152"
            ],
            [
             0.1,
             "#c51b7d"
            ],
            [
             0.2,
             "#de77ae"
            ],
            [
             0.3,
             "#f1b6da"
            ],
            [
             0.4,
             "#fde0ef"
            ],
            [
             0.5,
             "#f7f7f7"
            ],
            [
             0.6,
             "#e6f5d0"
            ],
            [
             0.7,
             "#b8e186"
            ],
            [
             0.8,
             "#7fbc41"
            ],
            [
             0.9,
             "#4d9221"
            ],
            [
             1,
             "#276419"
            ]
           ],
           "sequential": [
            [
             0,
             "#0d0887"
            ],
            [
             0.1111111111111111,
             "#46039f"
            ],
            [
             0.2222222222222222,
             "#7201a8"
            ],
            [
             0.3333333333333333,
             "#9c179e"
            ],
            [
             0.4444444444444444,
             "#bd3786"
            ],
            [
             0.5555555555555556,
             "#d8576b"
            ],
            [
             0.6666666666666666,
             "#ed7953"
            ],
            [
             0.7777777777777778,
             "#fb9f3a"
            ],
            [
             0.8888888888888888,
             "#fdca26"
            ],
            [
             1,
             "#f0f921"
            ]
           ],
           "sequentialminus": [
            [
             0,
             "#0d0887"
            ],
            [
             0.1111111111111111,
             "#46039f"
            ],
            [
             0.2222222222222222,
             "#7201a8"
            ],
            [
             0.3333333333333333,
             "#9c179e"
            ],
            [
             0.4444444444444444,
             "#bd3786"
            ],
            [
             0.5555555555555556,
             "#d8576b"
            ],
            [
             0.6666666666666666,
             "#ed7953"
            ],
            [
             0.7777777777777778,
             "#fb9f3a"
            ],
            [
             0.8888888888888888,
             "#fdca26"
            ],
            [
             1,
             "#f0f921"
            ]
           ]
          },
          "colorway": [
           "#636efa",
           "#EF553B",
           "#00cc96",
           "#ab63fa",
           "#FFA15A",
           "#19d3f3",
           "#FF6692",
           "#B6E880",
           "#FF97FF",
           "#FECB52"
          ],
          "font": {
           "color": "#2a3f5f"
          },
          "geo": {
           "bgcolor": "white",
           "lakecolor": "white",
           "landcolor": "#E5ECF6",
           "showlakes": true,
           "showland": true,
           "subunitcolor": "white"
          },
          "hoverlabel": {
           "align": "left"
          },
          "hovermode": "closest",
          "mapbox": {
           "style": "light"
          },
          "paper_bgcolor": "white",
          "plot_bgcolor": "#E5ECF6",
          "polar": {
           "angularaxis": {
            "gridcolor": "white",
            "linecolor": "white",
            "ticks": ""
           },
           "bgcolor": "#E5ECF6",
           "radialaxis": {
            "gridcolor": "white",
            "linecolor": "white",
            "ticks": ""
           }
          },
          "scene": {
           "xaxis": {
            "backgroundcolor": "#E5ECF6",
            "gridcolor": "white",
            "gridwidth": 2,
            "linecolor": "white",
            "showbackground": true,
            "ticks": "",
            "zerolinecolor": "white"
           },
           "yaxis": {
            "backgroundcolor": "#E5ECF6",
            "gridcolor": "white",
            "gridwidth": 2,
            "linecolor": "white",
            "showbackground": true,
            "ticks": "",
            "zerolinecolor": "white"
           },
           "zaxis": {
            "backgroundcolor": "#E5ECF6",
            "gridcolor": "white",
            "gridwidth": 2,
            "linecolor": "white",
            "showbackground": true,
            "ticks": "",
            "zerolinecolor": "white"
           }
          },
          "shapedefaults": {
           "line": {
            "color": "#2a3f5f"
           }
          },
          "ternary": {
           "aaxis": {
            "gridcolor": "white",
            "linecolor": "white",
            "ticks": ""
           },
           "baxis": {
            "gridcolor": "white",
            "linecolor": "white",
            "ticks": ""
           },
           "bgcolor": "#E5ECF6",
           "caxis": {
            "gridcolor": "white",
            "linecolor": "white",
            "ticks": ""
           }
          },
          "title": {
           "x": 0.05
          },
          "xaxis": {
           "automargin": true,
           "gridcolor": "white",
           "linecolor": "white",
           "ticks": "",
           "title": {
            "standoff": 15
           },
           "zerolinecolor": "white",
           "zerolinewidth": 2
          },
          "yaxis": {
           "automargin": true,
           "gridcolor": "white",
           "linecolor": "white",
           "ticks": "",
           "title": {
            "standoff": 15
           },
           "zerolinecolor": "white",
           "zerolinewidth": 2
          }
         }
        },
        "title": {
         "text": "Perturbed Mean Factor Contribution Results"
        },
        "width": 1200,
        "xaxis": {
         "anchor": "y",
         "autorange": true,
         "domain": [
          0,
          1
         ],
         "range": [
          -0.5,
          5.5
         ],
         "type": "category"
        },
        "yaxis": {
         "anchor": "x",
         "autorange": true,
         "domain": [
          0,
          1
         ],
         "range": [
          0,
          26.346718254616974
         ],
         "title": {
          "text": "Mean Normalized Contributions (%)"
         },
         "type": "linear"
        }
       }
      },
      "image/png": "[encoded data removed]",
      "text/html": [
       "<div>                            <div id=\"5ee995f6-9303-4ff1-a0c8-92703106c566\" class=\"plotly-graph-div\" style=\"height:800px; width:1200px;\"></div>            <script type=\"text/javascript\">                require([\"plotly\"], function(Plotly) {                    window.PLOTLYENV=window.PLOTLYENV || {};                                    if (document.getElementById(\"5ee995f6-9303-4ff1-a0c8-92703106c566\")) {                    Plotly.newPlot(                        \"5ee995f6-9303-4ff1-a0c8-92703106c566\",                        [{\"name\":\"Perturbed W\",\"x\":[\"Factor 1\",\"Factor 2\",\"Factor 3\",\"Factor 4\",\"Factor 5\",\"Factor 6\"],\"y\":[10.997354808162171,19.88464224644712,18.10530558123683,17.125550899627502,8.951961655701716,24.935184808824655],\"type\":\"bar\"},{\"name\":\"Base W\",\"x\":[\"Factor 1\",\"Factor 2\",\"Factor 3\",\"Factor 4\",\"Factor 5\",\"Factor 6\"],\"y\":[10.953740790617049,19.78608672562964,18.203289301796755,16.841077795372673,9.186423044697776,25.029382341886127],\"type\":\"bar\"}],                        {\"template\":{\"data\":{\"histogram2dcontour\":[{\"type\":\"histogram2dcontour\",\"colorbar\":{\"outlinewidth\":0,\"ticks\":\"\"},\"colorscale\":[[0.0,\"#0d0887\"],[0.1111111111111111,\"#46039f\"],[0.2222222222222222,\"#7201a8\"],[0.3333333333333333,\"#9c179e\"],[0.4444444444444444,\"#bd3786\"],[0.5555555555555556,\"#d8576b\"],[0.6666666666666666,\"#ed7953\"],[0.7777777777777778,\"#fb9f3a\"],[0.8888888888888888,\"#fdca26\"],[1.0,\"#f0f921\"]]}],\"choropleth\":[{\"type\":\"choropleth\",\"colorbar\":{\"outlinewidth\":0,\"ticks\":\"\"}}],\"histogram2d\":[{\"type\":\"histogram2d\",\"colorbar\":{\"outlinewidth\":0,\"ticks\":\"\"},\"colorscale\":[[0.0,\"#0d0887\"],[0.1111111111111111,\"#46039f\"],[0.2222222222222222,\"#7201a8\"],[0.3333333333333333,\"#9c179e\"],[0.4444444444444444,\"#bd3786\"],[0.5555555555555556,\"#d8576b\"],[0.6666666666666666,\"#ed7953\"],[0.7777777777777778,\"#fb9f3a\"],[0.8888888888888888,\"#fdca26\"],[1.0,\"#f0f921\"]]}],\"heatmap\":[{\"type\":\"heatmap\",\"colorbar\":{\"outlinewidth\":0,\"ticks\":\"\"},\"colorscale\":[[0.0,\"#0d0887\"],[0.1111111111111111,\"#46039f\"],[0.2222222222222222,\"#7201a8\"],[0.3333333333333333,\"#9c179e\"],[0.4444444444444444,\"#bd3786\"],[0.5555555555555556,\"#d8576b\"],[0.6666666666666666,\"#ed7953\"],[0.7777777777777778,\"#fb9f3a\"],[0.8888888888888888,\"#fdca26\"],[1.0,\"#f0f921\"]]}],\"heatmapgl\":[{\"type\":\"heatmapgl\",\"colorbar\":{\"outlinewidth\":0,\"ticks\":\"\"},\"colorscale\":[[0.0,\"#0d0887\"],[0.1111111111111111,\"#46039f\"],[0.2222222222222222,\"#7201a8\"],[0.3333333333333333,\"#9c179e\"],[0.4444444444444444,\"#bd3786\"],[0.5555555555555556,\"#d8576b\"],[0.6666666666666666,\"#ed7953\"],[0.7777777777777778,\"#fb9f3a\"],[0.8888888888888888,\"#fdca26\"],[1.0,\"#f0f921\"]]}],\"contourcarpet\":[{\"type\":\"contourcarpet\",\"colorbar\":{\"outlinewidth\":0,\"ticks\":\"\"}}],\"contour\":[{\"type\":\"contour\",\"colorbar\":{\"outlinewidth\":0,\"ticks\":\"\"},\"colorscale\":[[0.0,\"#0d0887\"],[0.1111111111111111,\"#46039f\"],[0.2222222222222222,\"#7201a8\"],[0.3333333333333333,\"#9c179e\"],[0.4444444444444444,\"#bd3786\"],[0.5555555555555556,\"#d8576b\"],[0.6666666666666666,\"#ed7953\"],[0.7777777777777778,\"#fb9f3a\"],[0.8888888888888888,\"#fdca26\"],[1.0,\"#f0f921\"]]}],\"surface\":[{\"type\":\"surface\",\"colorbar\":{\"outlinewidth\":0,\"ticks\":\"\"},\"colorscale\":[[0.0,\"#0d0887\"],[0.1111111111111111,\"#46039f\"],[0.2222222222222222,\"#7201a8\"],[0.3333333333333333,\"#9c179e\"],[0.4444444444444444,\"#bd3786\"],[0.5555555555555556,\"#d8576b\"],[0.6666666666666666,\"#ed7953\"],[0.7777777777777778,\"#fb9f3a\"],[0.8888888888888888,\"#fdca26\"],[1.0,\"#f0f921\"]]}],\"mesh3d\":[{\"type\":\"mesh3d\",\"colorbar\":{\"outlinewidth\":0,\"ticks\":\"\"}}],\"scatter\":[{\"fillpattern\":{\"fillmode\":\"overlay\",\"size\":10,\"solidity\":0.2},\"type\":\"scatter\"}],\"parcoords\":[{\"type\":\"parcoords\",\"line\":{\"colorbar\":{\"outlinewidth\":0,\"ticks\":\"\"}}}],\"scatterpolargl\":[{\"type\":\"scatterpolargl\",\"marker\":{\"colorbar\":{\"outlinewidth\":0,\"ticks\":\"\"}}}],\"bar\":[{\"error_x\":{\"color\":\"#2a3f5f\"},\"error_y\":{\"color\":\"#2a3f5f\"},\"marker\":{\"line\":{\"color\":\"#E5ECF6\",\"width\":0.5},\"pattern\":{\"fillmode\":\"overlay\",\"size\":10,\"solidity\":0.2}},\"type\":\"bar\"}],\"scattergeo\":[{\"type\":\"scattergeo\",\"marker\":{\"colorbar\":{\"outlinewidth\":0,\"ticks\":\"\"}}}],\"scatterpolar\":[{\"type\":\"scatterpolar\",\"marker\":{\"colorbar\":{\"outlinewidth\":0,\"ticks\":\"\"}}}],\"histogram\":[{\"marker\":{\"pattern\":{\"fillmode\":\"overlay\",\"size\":10,\"solidity\":0.2}},\"type\":\"histogram\"}],\"scattergl\":[{\"type\":\"scattergl\",\"marker\":{\"colorbar\":{\"outlinewidth\":0,\"ticks\":\"\"}}}],\"scatter3d\":[{\"type\":\"scatter3d\",\"line\":{\"colorbar\":{\"outlinewidth\":0,\"ticks\":\"\"}},\"marker\":{\"colorbar\":{\"outlinewidth\":0,\"ticks\":\"\"}}}],\"scattermapbox\":[{\"type\":\"scattermapbox\",\"marker\":{\"colorbar\":{\"outlinewidth\":0,\"ticks\":\"\"}}}],\"scatterternary\":[{\"type\":\"scatterternary\",\"marker\":{\"colorbar\":{\"outlinewidth\":0,\"ticks\":\"\"}}}],\"scattercarpet\":[{\"type\":\"scattercarpet\",\"marker\":{\"colorbar\":{\"outlinewidth\":0,\"ticks\":\"\"}}}],\"carpet\":[{\"aaxis\":{\"endlinecolor\":\"#2a3f5f\",\"gridcolor\":\"white\",\"linecolor\":\"white\",\"minorgridcolor\":\"white\",\"startlinecolor\":\"#2a3f5f\"},\"baxis\":{\"endlinecolor\":\"#2a3f5f\",\"gridcolor\":\"white\",\"linecolor\":\"white\",\"minorgridcolor\":\"white\",\"startlinecolor\":\"#2a3f5f\"},\"type\":\"carpet\"}],\"table\":[{\"cells\":{\"fill\":{\"color\":\"#EBF0F8\"},\"line\":{\"color\":\"white\"}},\"header\":{\"fill\":{\"color\":\"#C8D4E3\"},\"line\":{\"color\":\"white\"}},\"type\":\"table\"}],\"barpolar\":[{\"marker\":{\"line\":{\"color\":\"#E5ECF6\",\"width\":0.5},\"pattern\":{\"fillmode\":\"overlay\",\"size\":10,\"solidity\":0.2}},\"type\":\"barpolar\"}],\"pie\":[{\"automargin\":true,\"type\":\"pie\"}]},\"layout\":{\"autotypenumbers\":\"strict\",\"colorway\":[\"#636efa\",\"#EF553B\",\"#00cc96\",\"#ab63fa\",\"#FFA15A\",\"#19d3f3\",\"#FF6692\",\"#B6E880\",\"#FF97FF\",\"#FECB52\"],\"font\":{\"color\":\"#2a3f5f\"},\"hovermode\":\"closest\",\"hoverlabel\":{\"align\":\"left\"},\"paper_bgcolor\":\"white\",\"plot_bgcolor\":\"#E5ECF6\",\"polar\":{\"bgcolor\":\"#E5ECF6\",\"angularaxis\":{\"gridcolor\":\"white\",\"linecolor\":\"white\",\"ticks\":\"\"},\"radialaxis\":{\"gridcolor\":\"white\",\"linecolor\":\"white\",\"ticks\":\"\"}},\"ternary\":{\"bgcolor\":\"#E5ECF6\",\"aaxis\":{\"gridcolor\":\"white\",\"linecolor\":\"white\",\"ticks\":\"\"},\"baxis\":{\"gridcolor\":\"white\",\"linecolor\":\"white\",\"ticks\":\"\"},\"caxis\":{\"gridcolor\":\"white\",\"linecolor\":\"white\",\"ticks\":\"\"}},\"coloraxis\":{\"colorbar\":{\"outlinewidth\":0,\"ticks\":\"\"}},\"colorscale\":{\"sequential\":[[0.0,\"#0d0887\"],[0.1111111111111111,\"#46039f\"],[0.2222222222222222,\"#7201a8\"],[0.3333333333333333,\"#9c179e\"],[0.4444444444444444,\"#bd3786\"],[0.5555555555555556,\"#d8576b\"],[0.6666666666666666,\"#ed7953\"],[0.7777777777777778,\"#fb9f3a\"],[0.8888888888888888,\"#fdca26\"],[1.0,\"#f0f921\"]],\"sequentialminus\":[[0.0,\"#0d0887\"],[0.1111111111111111,\"#46039f\"],[0.2222222222222222,\"#7201a8\"],[0.3333333333333333,\"#9c179e\"],[0.4444444444444444,\"#bd3786\"],[0.5555555555555556,\"#d8576b\"],[0.6666666666666666,\"#ed7953\"],[0.7777777777777778,\"#fb9f3a\"],[0.8888888888888888,\"#fdca26\"],[1.0,\"#f0f921\"]],\"diverging\":[[0,\"#8e0152\"],[0.1,\"#c51b7d\"],[0.2,\"#de77ae\"],[0.3,\"#f1b6da\"],[0.4,\"#fde0ef\"],[0.5,\"#f7f7f7\"],[0.6,\"#e6f5d0\"],[0.7,\"#b8e186\"],[0.8,\"#7fbc41\"],[0.9,\"#4d9221\"],[1,\"#276419\"]]},\"xaxis\":{\"gridcolor\":\"white\",\"linecolor\":\"white\",\"ticks\":\"\",\"title\":{\"standoff\":15},\"zerolinecolor\":\"white\",\"automargin\":true,\"zerolinewidth\":2},\"yaxis\":{\"gridcolor\":\"white\",\"linecolor\":\"white\",\"ticks\":\"\",\"title\":{\"standoff\":15},\"zerolinecolor\":\"white\",\"automargin\":true,\"zerolinewidth\":2},\"scene\":{\"xaxis\":{\"backgroundcolor\":\"#E5ECF6\",\"gridcolor\":\"white\",\"linecolor\":\"white\",\"showbackground\":true,\"ticks\":\"\",\"zerolinecolor\":\"white\",\"gridwidth\":2},\"yaxis\":{\"backgroundcolor\":\"#E5ECF6\",\"gridcolor\":\"white\",\"linecolor\":\"white\",\"showbackground\":true,\"ticks\":\"\",\"zerolinecolor\":\"white\",\"gridwidth\":2},\"zaxis\":{\"backgroundcolor\":\"#E5ECF6\",\"gridcolor\":\"white\",\"linecolor\":\"white\",\"showbackground\":true,\"ticks\":\"\",\"zerolinecolor\":\"white\",\"gridwidth\":2}},\"shapedefaults\":{\"line\":{\"color\":\"#2a3f5f\"}},\"annotationdefaults\":{\"arrowcolor\":\"#2a3f5f\",\"arrowhead\":0,\"arrowwidth\":1},\"geo\":{\"bgcolor\":\"white\",\"landcolor\":\"#E5ECF6\",\"subunitcolor\":\"white\",\"showland\":true,\"showlakes\":true,\"lakecolor\":\"white\"},\"title\":{\"x\":0.05},\"mapbox\":{\"style\":\"light\"}}},\"xaxis\":{\"anchor\":\"y\",\"domain\":[0.0,1.0]},\"yaxis\":{\"anchor\":\"x\",\"domain\":[0.0,1.0],\"title\":{\"text\":\"Mean Normalized Contributions (%)\"}},\"title\":{\"text\":\"Perturbed Mean Factor Contribution Results\"},\"width\":1200,\"height\":800,\"hovermode\":\"x unified\",\"barmode\":\"group\"},                        {\"responsive\": true}                    ).then(function(){\n",
       "                            \n",
       "var gd = document.getElementById('5ee995f6-9303-4ff1-a0c8-92703106c566');\n",
       "var x = new MutationObserver(function (mutations, observer) {{\n",
       "        var display = window.getComputedStyle(gd).display;\n",
       "        if (!display || display === 'none') {{\n",
       "            console.log([gd, 'removed!']);\n",
       "            Plotly.purge(gd);\n",
       "            observer.disconnect();\n",
       "        }}\n",
       "}});\n",
       "\n",
       "// Listen for the removal of the full notebook cells\n",
       "var notebookContainer = gd.closest('#notebook-container');\n",
       "if (notebookContainer) {{\n",
       "    x.observe(notebookContainer, {childList: true});\n",
       "}}\n",
       "\n",
       "// Listen for the clearing of the current output cell\n",
       "var outputEl = gd.closest('.output');\n",
       "if (outputEl) {{\n",
       "    x.observe(outputEl, {childList: true});\n",
       "}}\n",
       "\n",
       "                        })                };                });            </script>        </div>"
      ]
     },
     "metadata": {},
     "output_type": "display_data"
    }
   ],
   "source": [
    "# Figure 1\n",
    "factor_labels = [f\"Factor {i+1}\" for i in range(base_W.shape[1])]\n",
    "p_W_mean = np.mean(perturb_W, axis=(1,2))\n",
    "base_W_mean = np.mean(base_W, axis=0)\n",
    "factor_w0_fig = make_subplots()\n",
    "factor_w0_fig.add_trace(go.Bar(x=factor_labels, y=100*p_W_mean, name=\"Perturbed W\"))\n",
    "factor_w0_fig.add_trace(go.Bar(x=factor_labels, y=100*base_W_mean, name=\"Base W\"))\n",
    "factor_w0_fig.update_layout(title=f\"Perturbed Mean Factor Contribution Results\", width=1200, height=800, hovermode='x unified', barmode='group')\n",
    "factor_w0_fig.update_yaxes(title_text=\"Mean Normalized Contributions (%)\")\n",
    "factor_w0_fig.show()"
   ]
  },
  {
   "cell_type": "code",
   "execution_count": 96,
   "id": "92e876fe-b877-4d3e-b80f-3c0fe71fa409",
   "metadata": {},
   "outputs": [
    {
     "data": {
      "application/vnd.plotly.v1+json": {
       "config": {
        "plotlyServerURL": "https://plot.ly"
       },
       "data": [
        {
         "name": "Factor 1",
         "type": "box",
         "y": [
          0.10815497981392977,
          0.11081959695466155,
          0.11111569000730018,
          0.11048928042544091,
          0.11006583976828399,
          0.11154178714903094,
          0.10823608478271436,
          0.11021050977563557,
          0.10873777806528111,
          0.11036393407393873
         ]
        },
        {
         "name": "Factor 2",
         "type": "box",
         "y": [
          0.19897205586684993,
          0.19699420519174518,
          0.19906663219821527,
          0.19766899596646098,
          0.1998400810884702,
          0.19729925505451285,
          0.19907425101688447,
          0.19693951646097768,
          0.20077811474344656,
          0.20183111705714904
         ]
        },
        {
         "name": "Factor 3",
         "type": "box",
         "y": [
          0.18097797510366556,
          0.18182465365855863,
          0.18052499542961298,
          0.1822067943878268,
          0.17992171537721763,
          0.17814540984123453,
          0.1854783787886666,
          0.18094839213303915,
          0.18127332148589842,
          0.17922892191796266
         ]
        },
        {
         "name": "Factor 4",
         "type": "box",
         "y": [
          0.17283495703202417,
          0.17281831525068084,
          0.17108110111977629,
          0.17041674581003385,
          0.17274063212982013,
          0.17126282240385768,
          0.17030864143018343,
          0.17119456317584514,
          0.17050424467384132,
          0.16939306693668768
         ]
        },
        {
         "name": "Factor 5",
         "type": "box",
         "y": [
          0.09057934491190332,
          0.08990047402380935,
          0.09008729108953269,
          0.09020526375214874,
          0.08769209731560457,
          0.09082454007263958,
          0.08909808950918613,
          0.08993076139632648,
          0.08895341428195791,
          0.08792488921706267
         ]
        },
        {
         "name": "Factor 6",
         "type": "box",
         "y": [
          0.24848068727162761,
          0.2476427549205444,
          0.24812429015556225,
          0.24901291965808872,
          0.2497396343206034,
          0.2509261854787243,
          0.24780455447236488,
          0.2507762570581761,
          0.24975312674957456,
          0.25125807079719914
         ]
        },
        {
         "marker": {
          "color": "black"
         },
         "mode": "markers",
         "name": "Base",
         "type": "scatter",
         "x": [
          "Factor 1",
          "Factor 2",
          "Factor 3",
          "Factor 4",
          "Factor 5",
          "Factor 6"
         ],
         "y": [
          0.10953740790617049,
          0.1978608672562964,
          0.18203289301796755,
          0.16841077795372672,
          0.09186423044697777,
          0.25029382341886125
         ]
        }
       ],
       "layout": {
        "height": 800,
        "hovermode": "x unified",
        "template": {
         "data": {
          "bar": [
           {
            "error_x": {
             "color": "#2a3f5f"
            },
            "error_y": {
             "color": "#2a3f5f"
            },
            "marker": {
             "line": {
              "color": "#E5ECF6",
              "width": 0.5
             },
             "pattern": {
              "fillmode": "overlay",
              "size": 10,
              "solidity": 0.2
             }
            },
            "type": "bar"
           }
          ],
          "barpolar": [
           {
            "marker": {
             "line": {
              "color": "#E5ECF6",
              "width": 0.5
             },
             "pattern": {
              "fillmode": "overlay",
              "size": 10,
              "solidity": 0.2
             }
            },
            "type": "barpolar"
           }
          ],
          "carpet": [
           {
            "aaxis": {
             "endlinecolor": "#2a3f5f",
             "gridcolor": "white",
             "linecolor": "white",
             "minorgridcolor": "white",
             "startlinecolor": "#2a3f5f"
            },
            "baxis": {
             "endlinecolor": "#2a3f5f",
             "gridcolor": "white",
             "linecolor": "white",
             "minorgridcolor": "white",
             "startlinecolor": "#2a3f5f"
            },
            "type": "carpet"
           }
          ],
          "choropleth": [
           {
            "colorbar": {
             "outlinewidth": 0,
             "ticks": ""
            },
            "type": "choropleth"
           }
          ],
          "contour": [
           {
            "colorbar": {
             "outlinewidth": 0,
             "ticks": ""
            },
            "colorscale": [
             [
              0,
              "#0d0887"
             ],
             [
              0.1111111111111111,
              "#46039f"
             ],
             [
              0.2222222222222222,
              "#7201a8"
             ],
             [
              0.3333333333333333,
              "#9c179e"
             ],
             [
              0.4444444444444444,
              "#bd3786"
             ],
             [
              0.5555555555555556,
              "#d8576b"
             ],
             [
              0.6666666666666666,
              "#ed7953"
             ],
             [
              0.7777777777777778,
              "#fb9f3a"
             ],
             [
              0.8888888888888888,
              "#fdca26"
             ],
             [
              1,
              "#f0f921"
             ]
            ],
            "type": "contour"
           }
          ],
          "contourcarpet": [
           {
            "colorbar": {
             "outlinewidth": 0,
             "ticks": ""
            },
            "type": "contourcarpet"
           }
          ],
          "heatmap": [
           {
            "colorbar": {
             "outlinewidth": 0,
             "ticks": ""
            },
            "colorscale": [
             [
              0,
              "#0d0887"
             ],
             [
              0.1111111111111111,
              "#46039f"
             ],
             [
              0.2222222222222222,
              "#7201a8"
             ],
             [
              0.3333333333333333,
              "#9c179e"
             ],
             [
              0.4444444444444444,
              "#bd3786"
             ],
             [
              0.5555555555555556,
              "#d8576b"
             ],
             [
              0.6666666666666666,
              "#ed7953"
             ],
             [
              0.7777777777777778,
              "#fb9f3a"
             ],
             [
              0.8888888888888888,
              "#fdca26"
             ],
             [
              1,
              "#f0f921"
             ]
            ],
            "type": "heatmap"
           }
          ],
          "heatmapgl": [
           {
            "colorbar": {
             "outlinewidth": 0,
             "ticks": ""
            },
            "colorscale": [
             [
              0,
              "#0d0887"
             ],
             [
              0.1111111111111111,
              "#46039f"
             ],
             [
              0.2222222222222222,
              "#7201a8"
             ],
             [
              0.3333333333333333,
              "#9c179e"
             ],
             [
              0.4444444444444444,
              "#bd3786"
             ],
             [
              0.5555555555555556,
              "#d8576b"
             ],
             [
              0.6666666666666666,
              "#ed7953"
             ],
             [
              0.7777777777777778,
              "#fb9f3a"
             ],
             [
              0.8888888888888888,
              "#fdca26"
             ],
             [
              1,
              "#f0f921"
             ]
            ],
            "type": "heatmapgl"
           }
          ],
          "histogram": [
           {
            "marker": {
             "pattern": {
              "fillmode": "overlay",
              "size": 10,
              "solidity": 0.2
             }
            },
            "type": "histogram"
           }
          ],
          "histogram2d": [
           {
            "colorbar": {
             "outlinewidth": 0,
             "ticks": ""
            },
            "colorscale": [
             [
              0,
              "#0d0887"
             ],
             [
              0.1111111111111111,
              "#46039f"
             ],
             [
              0.2222222222222222,
              "#7201a8"
             ],
             [
              0.3333333333333333,
              "#9c179e"
             ],
             [
              0.4444444444444444,
              "#bd3786"
             ],
             [
              0.5555555555555556,
              "#d8576b"
             ],
             [
              0.6666666666666666,
              "#ed7953"
             ],
             [
              0.7777777777777778,
              "#fb9f3a"
             ],
             [
              0.8888888888888888,
              "#fdca26"
             ],
             [
              1,
              "#f0f921"
             ]
            ],
            "type": "histogram2d"
           }
          ],
          "histogram2dcontour": [
           {
            "colorbar": {
             "outlinewidth": 0,
             "ticks": ""
            },
            "colorscale": [
             [
              0,
              "#0d0887"
             ],
             [
              0.1111111111111111,
              "#46039f"
             ],
             [
              0.2222222222222222,
              "#7201a8"
             ],
             [
              0.3333333333333333,
              "#9c179e"
             ],
             [
              0.4444444444444444,
              "#bd3786"
             ],
             [
              0.5555555555555556,
              "#d8576b"
             ],
             [
              0.6666666666666666,
              "#ed7953"
             ],
             [
              0.7777777777777778,
              "#fb9f3a"
             ],
             [
              0.8888888888888888,
              "#fdca26"
             ],
             [
              1,
              "#f0f921"
             ]
            ],
            "type": "histogram2dcontour"
           }
          ],
          "mesh3d": [
           {
            "colorbar": {
             "outlinewidth": 0,
             "ticks": ""
            },
            "type": "mesh3d"
           }
          ],
          "parcoords": [
           {
            "line": {
             "colorbar": {
              "outlinewidth": 0,
              "ticks": ""
             }
            },
            "type": "parcoords"
           }
          ],
          "pie": [
           {
            "automargin": true,
            "type": "pie"
           }
          ],
          "scatter": [
           {
            "fillpattern": {
             "fillmode": "overlay",
             "size": 10,
             "solidity": 0.2
            },
            "type": "scatter"
           }
          ],
          "scatter3d": [
           {
            "line": {
             "colorbar": {
              "outlinewidth": 0,
              "ticks": ""
             }
            },
            "marker": {
             "colorbar": {
              "outlinewidth": 0,
              "ticks": ""
             }
            },
            "type": "scatter3d"
           }
          ],
          "scattercarpet": [
           {
            "marker": {
             "colorbar": {
              "outlinewidth": 0,
              "ticks": ""
             }
            },
            "type": "scattercarpet"
           }
          ],
          "scattergeo": [
           {
            "marker": {
             "colorbar": {
              "outlinewidth": 0,
              "ticks": ""
             }
            },
            "type": "scattergeo"
           }
          ],
          "scattergl": [
           {
            "marker": {
             "colorbar": {
              "outlinewidth": 0,
              "ticks": ""
             }
            },
            "type": "scattergl"
           }
          ],
          "scattermapbox": [
           {
            "marker": {
             "colorbar": {
              "outlinewidth": 0,
              "ticks": ""
             }
            },
            "type": "scattermapbox"
           }
          ],
          "scatterpolar": [
           {
            "marker": {
             "colorbar": {
              "outlinewidth": 0,
              "ticks": ""
             }
            },
            "type": "scatterpolar"
           }
          ],
          "scatterpolargl": [
           {
            "marker": {
             "colorbar": {
              "outlinewidth": 0,
              "ticks": ""
             }
            },
            "type": "scatterpolargl"
           }
          ],
          "scatterternary": [
           {
            "marker": {
             "colorbar": {
              "outlinewidth": 0,
              "ticks": ""
             }
            },
            "type": "scatterternary"
           }
          ],
          "surface": [
           {
            "colorbar": {
             "outlinewidth": 0,
             "ticks": ""
            },
            "colorscale": [
             [
              0,
              "#0d0887"
             ],
             [
              0.1111111111111111,
              "#46039f"
             ],
             [
              0.2222222222222222,
              "#7201a8"
             ],
             [
              0.3333333333333333,
              "#9c179e"
             ],
             [
              0.4444444444444444,
              "#bd3786"
             ],
             [
              0.5555555555555556,
              "#d8576b"
             ],
             [
              0.6666666666666666,
              "#ed7953"
             ],
             [
              0.7777777777777778,
              "#fb9f3a"
             ],
             [
              0.8888888888888888,
              "#fdca26"
             ],
             [
              1,
              "#f0f921"
             ]
            ],
            "type": "surface"
           }
          ],
          "table": [
           {
            "cells": {
             "fill": {
              "color": "#EBF0F8"
             },
             "line": {
              "color": "white"
             }
            },
            "header": {
             "fill": {
              "color": "#C8D4E3"
             },
             "line": {
              "color": "white"
             }
            },
            "type": "table"
           }
          ]
         },
         "layout": {
          "annotationdefaults": {
           "arrowcolor": "#2a3f5f",
           "arrowhead": 0,
           "arrowwidth": 1
          },
          "autotypenumbers": "strict",
          "coloraxis": {
           "colorbar": {
            "outlinewidth": 0,
            "ticks": ""
           }
          },
          "colorscale": {
           "diverging": [
            [
             0,
             "#8e0152"
            ],
            [
             0.1,
             "#c51b7d"
            ],
            [
             0.2,
             "#de77ae"
            ],
            [
             0.3,
             "#f1b6da"
            ],
            [
             0.4,
             "#fde0ef"
            ],
            [
             0.5,
             "#f7f7f7"
            ],
            [
             0.6,
             "#e6f5d0"
            ],
            [
             0.7,
             "#b8e186"
            ],
            [
             0.8,
             "#7fbc41"
            ],
            [
             0.9,
             "#4d9221"
            ],
            [
             1,
             "#276419"
            ]
           ],
           "sequential": [
            [
             0,
             "#0d0887"
            ],
            [
             0.1111111111111111,
             "#46039f"
            ],
            [
             0.2222222222222222,
             "#7201a8"
            ],
            [
             0.3333333333333333,
             "#9c179e"
            ],
            [
             0.4444444444444444,
             "#bd3786"
            ],
            [
             0.5555555555555556,
             "#d8576b"
            ],
            [
             0.6666666666666666,
             "#ed7953"
            ],
            [
             0.7777777777777778,
             "#fb9f3a"
            ],
            [
             0.8888888888888888,
             "#fdca26"
            ],
            [
             1,
             "#f0f921"
            ]
           ],
           "sequentialminus": [
            [
             0,
             "#0d0887"
            ],
            [
             0.1111111111111111,
             "#46039f"
            ],
            [
             0.2222222222222222,
             "#7201a8"
            ],
            [
             0.3333333333333333,
             "#9c179e"
            ],
            [
             0.4444444444444444,
             "#bd3786"
            ],
            [
             0.5555555555555556,
             "#d8576b"
            ],
            [
             0.6666666666666666,
             "#ed7953"
            ],
            [
             0.7777777777777778,
             "#fb9f3a"
            ],
            [
             0.8888888888888888,
             "#fdca26"
            ],
            [
             1,
             "#f0f921"
            ]
           ]
          },
          "colorway": [
           "#636efa",
           "#EF553B",
           "#00cc96",
           "#ab63fa",
           "#FFA15A",
           "#19d3f3",
           "#FF6692",
           "#B6E880",
           "#FF97FF",
           "#FECB52"
          ],
          "font": {
           "color": "#2a3f5f"
          },
          "geo": {
           "bgcolor": "white",
           "lakecolor": "white",
           "landcolor": "#E5ECF6",
           "showlakes": true,
           "showland": true,
           "subunitcolor": "white"
          },
          "hoverlabel": {
           "align": "left"
          },
          "hovermode": "closest",
          "mapbox": {
           "style": "light"
          },
          "paper_bgcolor": "white",
          "plot_bgcolor": "#E5ECF6",
          "polar": {
           "angularaxis": {
            "gridcolor": "white",
            "linecolor": "white",
            "ticks": ""
           },
           "bgcolor": "#E5ECF6",
           "radialaxis": {
            "gridcolor": "white",
            "linecolor": "white",
            "ticks": ""
           }
          },
          "scene": {
           "xaxis": {
            "backgroundcolor": "#E5ECF6",
            "gridcolor": "white",
            "gridwidth": 2,
            "linecolor": "white",
            "showbackground": true,
            "ticks": "",
            "zerolinecolor": "white"
           },
           "yaxis": {
            "backgroundcolor": "#E5ECF6",
            "gridcolor": "white",
            "gridwidth": 2,
            "linecolor": "white",
            "showbackground": true,
            "ticks": "",
            "zerolinecolor": "white"
           },
           "zaxis": {
            "backgroundcolor": "#E5ECF6",
            "gridcolor": "white",
            "gridwidth": 2,
            "linecolor": "white",
            "showbackground": true,
            "ticks": "",
            "zerolinecolor": "white"
           }
          },
          "shapedefaults": {
           "line": {
            "color": "#2a3f5f"
           }
          },
          "ternary": {
           "aaxis": {
            "gridcolor": "white",
            "linecolor": "white",
            "ticks": ""
           },
           "baxis": {
            "gridcolor": "white",
            "linecolor": "white",
            "ticks": ""
           },
           "bgcolor": "#E5ECF6",
           "caxis": {
            "gridcolor": "white",
            "linecolor": "white",
            "ticks": ""
           }
          },
          "title": {
           "x": 0.05
          },
          "xaxis": {
           "automargin": true,
           "gridcolor": "white",
           "linecolor": "white",
           "ticks": "",
           "title": {
            "standoff": 15
           },
           "zerolinecolor": "white",
           "zerolinewidth": 2
          },
          "yaxis": {
           "automargin": true,
           "gridcolor": "white",
           "linecolor": "white",
           "ticks": "",
           "title": {
            "standoff": 15
           },
           "zerolinecolor": "white",
           "zerolinewidth": 2
          }
         }
        },
        "title": {
         "text": "Perturbed Average Source Contributions - Sigma: 0.25"
        },
        "width": 1200,
        "xaxis": {
         "anchor": "y",
         "autorange": true,
         "domain": [
          0,
          1
         ],
         "range": [
          -0.5,
          5.5
         ],
         "type": "category"
        },
        "yaxis": {
         "anchor": "x",
         "autorange": true,
         "domain": [
          0,
          1
         ],
         "range": [
          0.0785975488100548,
          0.26048851892105007
         ],
         "title": {
          "text": "Source Contributions"
         },
         "type": "linear"
        }
       }
      },
      "image/png": "[encoded data removed]",
      "text/html": [
       "<div>                            <div id=\"ab79699c-086a-4b63-8b47-b3cd7a1abac5\" class=\"plotly-graph-div\" style=\"height:800px; width:1200px;\"></div>            <script type=\"text/javascript\">                require([\"plotly\"], function(Plotly) {                    window.PLOTLYENV=window.PLOTLYENV || {};                                    if (document.getElementById(\"ab79699c-086a-4b63-8b47-b3cd7a1abac5\")) {                    Plotly.newPlot(                        \"ab79699c-086a-4b63-8b47-b3cd7a1abac5\",                        [{\"name\":\"Factor 1\",\"y\":[0.10815497981392977,0.11081959695466155,0.11111569000730018,0.11048928042544091,0.11006583976828399,0.11154178714903094,0.10823608478271436,0.11021050977563557,0.10873777806528111,0.11036393407393873],\"type\":\"box\"},{\"name\":\"Factor 2\",\"y\":[0.19897205586684993,0.19699420519174518,0.19906663219821527,0.19766899596646098,0.1998400810884702,0.19729925505451285,0.19907425101688447,0.19693951646097768,0.20077811474344656,0.20183111705714904],\"type\":\"box\"},{\"name\":\"Factor 3\",\"y\":[0.18097797510366556,0.18182465365855863,0.18052499542961298,0.1822067943878268,0.17992171537721763,0.17814540984123453,0.1854783787886666,0.18094839213303915,0.18127332148589842,0.17922892191796266],\"type\":\"box\"},{\"name\":\"Factor 4\",\"y\":[0.17283495703202417,0.17281831525068084,0.17108110111977629,0.17041674581003385,0.17274063212982013,0.17126282240385768,0.17030864143018343,0.17119456317584514,0.17050424467384132,0.16939306693668768],\"type\":\"box\"},{\"name\":\"Factor 5\",\"y\":[0.09057934491190332,0.08990047402380935,0.09008729108953269,0.09020526375214874,0.08769209731560457,0.09082454007263958,0.08909808950918613,0.08993076139632648,0.08895341428195791,0.08792488921706267],\"type\":\"box\"},{\"name\":\"Factor 6\",\"y\":[0.24848068727162761,0.2476427549205444,0.24812429015556225,0.24901291965808872,0.2497396343206034,0.2509261854787243,0.24780455447236488,0.2507762570581761,0.24975312674957456,0.25125807079719914],\"type\":\"box\"},{\"marker\":{\"color\":\"black\"},\"mode\":\"markers\",\"name\":\"Base\",\"x\":[\"Factor 1\",\"Factor 2\",\"Factor 3\",\"Factor 4\",\"Factor 5\",\"Factor 6\"],\"y\":[0.10953740790617049,0.1978608672562964,0.18203289301796755,0.16841077795372672,0.09186423044697777,0.25029382341886125],\"type\":\"scatter\"}],                        {\"template\":{\"data\":{\"histogram2dcontour\":[{\"type\":\"histogram2dcontour\",\"colorbar\":{\"outlinewidth\":0,\"ticks\":\"\"},\"colorscale\":[[0.0,\"#0d0887\"],[0.1111111111111111,\"#46039f\"],[0.2222222222222222,\"#7201a8\"],[0.3333333333333333,\"#9c179e\"],[0.4444444444444444,\"#bd3786\"],[0.5555555555555556,\"#d8576b\"],[0.6666666666666666,\"#ed7953\"],[0.7777777777777778,\"#fb9f3a\"],[0.8888888888888888,\"#fdca26\"],[1.0,\"#f0f921\"]]}],\"choropleth\":[{\"type\":\"choropleth\",\"colorbar\":{\"outlinewidth\":0,\"ticks\":\"\"}}],\"histogram2d\":[{\"type\":\"histogram2d\",\"colorbar\":{\"outlinewidth\":0,\"ticks\":\"\"},\"colorscale\":[[0.0,\"#0d0887\"],[0.1111111111111111,\"#46039f\"],[0.2222222222222222,\"#7201a8\"],[0.3333333333333333,\"#9c179e\"],[0.4444444444444444,\"#bd3786\"],[0.5555555555555556,\"#d8576b\"],[0.6666666666666666,\"#ed7953\"],[0.7777777777777778,\"#fb9f3a\"],[0.8888888888888888,\"#fdca26\"],[1.0,\"#f0f921\"]]}],\"heatmap\":[{\"type\":\"heatmap\",\"colorbar\":{\"outlinewidth\":0,\"ticks\":\"\"},\"colorscale\":[[0.0,\"#0d0887\"],[0.1111111111111111,\"#46039f\"],[0.2222222222222222,\"#7201a8\"],[0.3333333333333333,\"#9c179e\"],[0.4444444444444444,\"#bd3786\"],[0.5555555555555556,\"#d8576b\"],[0.6666666666666666,\"#ed7953\"],[0.7777777777777778,\"#fb9f3a\"],[0.8888888888888888,\"#fdca26\"],[1.0,\"#f0f921\"]]}],\"heatmapgl\":[{\"type\":\"heatmapgl\",\"colorbar\":{\"outlinewidth\":0,\"ticks\":\"\"},\"colorscale\":[[0.0,\"#0d0887\"],[0.1111111111111111,\"#46039f\"],[0.2222222222222222,\"#7201a8\"],[0.3333333333333333,\"#9c179e\"],[0.4444444444444444,\"#bd3786\"],[0.5555555555555556,\"#d8576b\"],[0.6666666666666666,\"#ed7953\"],[0.7777777777777778,\"#fb9f3a\"],[0.8888888888888888,\"#fdca26\"],[1.0,\"#f0f921\"]]}],\"contourcarpet\":[{\"type\":\"contourcarpet\",\"colorbar\":{\"outlinewidth\":0,\"ticks\":\"\"}}],\"contour\":[{\"type\":\"contour\",\"colorbar\":{\"outlinewidth\":0,\"ticks\":\"\"},\"colorscale\":[[0.0,\"#0d0887\"],[0.1111111111111111,\"#46039f\"],[0.2222222222222222,\"#7201a8\"],[0.3333333333333333,\"#9c179e\"],[0.4444444444444444,\"#bd3786\"],[0.5555555555555556,\"#d8576b\"],[0.6666666666666666,\"#ed7953\"],[0.7777777777777778,\"#fb9f3a\"],[0.8888888888888888,\"#fdca26\"],[1.0,\"#f0f921\"]]}],\"surface\":[{\"type\":\"surface\",\"colorbar\":{\"outlinewidth\":0,\"ticks\":\"\"},\"colorscale\":[[0.0,\"#0d0887\"],[0.1111111111111111,\"#46039f\"],[0.2222222222222222,\"#7201a8\"],[0.3333333333333333,\"#9c179e\"],[0.4444444444444444,\"#bd3786\"],[0.5555555555555556,\"#d8576b\"],[0.6666666666666666,\"#ed7953\"],[0.7777777777777778,\"#fb9f3a\"],[0.8888888888888888,\"#fdca26\"],[1.0,\"#f0f921\"]]}],\"mesh3d\":[{\"type\":\"mesh3d\",\"colorbar\":{\"outlinewidth\":0,\"ticks\":\"\"}}],\"scatter\":[{\"fillpattern\":{\"fillmode\":\"overlay\",\"size\":10,\"solidity\":0.2},\"type\":\"scatter\"}],\"parcoords\":[{\"type\":\"parcoords\",\"line\":{\"colorbar\":{\"outlinewidth\":0,\"ticks\":\"\"}}}],\"scatterpolargl\":[{\"type\":\"scatterpolargl\",\"marker\":{\"colorbar\":{\"outlinewidth\":0,\"ticks\":\"\"}}}],\"bar\":[{\"error_x\":{\"color\":\"#2a3f5f\"},\"error_y\":{\"color\":\"#2a3f5f\"},\"marker\":{\"line\":{\"color\":\"#E5ECF6\",\"width\":0.5},\"pattern\":{\"fillmode\":\"overlay\",\"size\":10,\"solidity\":0.2}},\"type\":\"bar\"}],\"scattergeo\":[{\"type\":\"scattergeo\",\"marker\":{\"colorbar\":{\"outlinewidth\":0,\"ticks\":\"\"}}}],\"scatterpolar\":[{\"type\":\"scatterpolar\",\"marker\":{\"colorbar\":{\"outlinewidth\":0,\"ticks\":\"\"}}}],\"histogram\":[{\"marker\":{\"pattern\":{\"fillmode\":\"overlay\",\"size\":10,\"solidity\":0.2}},\"type\":\"histogram\"}],\"scattergl\":[{\"type\":\"scattergl\",\"marker\":{\"colorbar\":{\"outlinewidth\":0,\"ticks\":\"\"}}}],\"scatter3d\":[{\"type\":\"scatter3d\",\"line\":{\"colorbar\":{\"outlinewidth\":0,\"ticks\":\"\"}},\"marker\":{\"colorbar\":{\"outlinewidth\":0,\"ticks\":\"\"}}}],\"scattermapbox\":[{\"type\":\"scattermapbox\",\"marker\":{\"colorbar\":{\"outlinewidth\":0,\"ticks\":\"\"}}}],\"scatterternary\":[{\"type\":\"scatterternary\",\"marker\":{\"colorbar\":{\"outlinewidth\":0,\"ticks\":\"\"}}}],\"scattercarpet\":[{\"type\":\"scattercarpet\",\"marker\":{\"colorbar\":{\"outlinewidth\":0,\"ticks\":\"\"}}}],\"carpet\":[{\"aaxis\":{\"endlinecolor\":\"#2a3f5f\",\"gridcolor\":\"white\",\"linecolor\":\"white\",\"minorgridcolor\":\"white\",\"startlinecolor\":\"#2a3f5f\"},\"baxis\":{\"endlinecolor\":\"#2a3f5f\",\"gridcolor\":\"white\",\"linecolor\":\"white\",\"minorgridcolor\":\"white\",\"startlinecolor\":\"#2a3f5f\"},\"type\":\"carpet\"}],\"table\":[{\"cells\":{\"fill\":{\"color\":\"#EBF0F8\"},\"line\":{\"color\":\"white\"}},\"header\":{\"fill\":{\"color\":\"#C8D4E3\"},\"line\":{\"color\":\"white\"}},\"type\":\"table\"}],\"barpolar\":[{\"marker\":{\"line\":{\"color\":\"#E5ECF6\",\"width\":0.5},\"pattern\":{\"fillmode\":\"overlay\",\"size\":10,\"solidity\":0.2}},\"type\":\"barpolar\"}],\"pie\":[{\"automargin\":true,\"type\":\"pie\"}]},\"layout\":{\"autotypenumbers\":\"strict\",\"colorway\":[\"#636efa\",\"#EF553B\",\"#00cc96\",\"#ab63fa\",\"#FFA15A\",\"#19d3f3\",\"#FF6692\",\"#B6E880\",\"#FF97FF\",\"#FECB52\"],\"font\":{\"color\":\"#2a3f5f\"},\"hovermode\":\"closest\",\"hoverlabel\":{\"align\":\"left\"},\"paper_bgcolor\":\"white\",\"plot_bgcolor\":\"#E5ECF6\",\"polar\":{\"bgcolor\":\"#E5ECF6\",\"angularaxis\":{\"gridcolor\":\"white\",\"linecolor\":\"white\",\"ticks\":\"\"},\"radialaxis\":{\"gridcolor\":\"white\",\"linecolor\":\"white\",\"ticks\":\"\"}},\"ternary\":{\"bgcolor\":\"#E5ECF6\",\"aaxis\":{\"gridcolor\":\"white\",\"linecolor\":\"white\",\"ticks\":\"\"},\"baxis\":{\"gridcolor\":\"white\",\"linecolor\":\"white\",\"ticks\":\"\"},\"caxis\":{\"gridcolor\":\"white\",\"linecolor\":\"white\",\"ticks\":\"\"}},\"coloraxis\":{\"colorbar\":{\"outlinewidth\":0,\"ticks\":\"\"}},\"colorscale\":{\"sequential\":[[0.0,\"#0d0887\"],[0.1111111111111111,\"#46039f\"],[0.2222222222222222,\"#7201a8\"],[0.3333333333333333,\"#9c179e\"],[0.4444444444444444,\"#bd3786\"],[0.5555555555555556,\"#d8576b\"],[0.6666666666666666,\"#ed7953\"],[0.7777777777777778,\"#fb9f3a\"],[0.8888888888888888,\"#fdca26\"],[1.0,\"#f0f921\"]],\"sequentialminus\":[[0.0,\"#0d0887\"],[0.1111111111111111,\"#46039f\"],[0.2222222222222222,\"#7201a8\"],[0.3333333333333333,\"#9c179e\"],[0.4444444444444444,\"#bd3786\"],[0.5555555555555556,\"#d8576b\"],[0.6666666666666666,\"#ed7953\"],[0.7777777777777778,\"#fb9f3a\"],[0.8888888888888888,\"#fdca26\"],[1.0,\"#f0f921\"]],\"diverging\":[[0,\"#8e0152\"],[0.1,\"#c51b7d\"],[0.2,\"#de77ae\"],[0.3,\"#f1b6da\"],[0.4,\"#fde0ef\"],[0.5,\"#f7f7f7\"],[0.6,\"#e6f5d0\"],[0.7,\"#b8e186\"],[0.8,\"#7fbc41\"],[0.9,\"#4d9221\"],[1,\"#276419\"]]},\"xaxis\":{\"gridcolor\":\"white\",\"linecolor\":\"white\",\"ticks\":\"\",\"title\":{\"standoff\":15},\"zerolinecolor\":\"white\",\"automargin\":true,\"zerolinewidth\":2},\"yaxis\":{\"gridcolor\":\"white\",\"linecolor\":\"white\",\"ticks\":\"\",\"title\":{\"standoff\":15},\"zerolinecolor\":\"white\",\"automargin\":true,\"zerolinewidth\":2},\"scene\":{\"xaxis\":{\"backgroundcolor\":\"#E5ECF6\",\"gridcolor\":\"white\",\"linecolor\":\"white\",\"showbackground\":true,\"ticks\":\"\",\"zerolinecolor\":\"white\",\"gridwidth\":2},\"yaxis\":{\"backgroundcolor\":\"#E5ECF6\",\"gridcolor\":\"white\",\"linecolor\":\"white\",\"showbackground\":true,\"ticks\":\"\",\"zerolinecolor\":\"white\",\"gridwidth\":2},\"zaxis\":{\"backgroundcolor\":\"#E5ECF6\",\"gridcolor\":\"white\",\"linecolor\":\"white\",\"showbackground\":true,\"ticks\":\"\",\"zerolinecolor\":\"white\",\"gridwidth\":2}},\"shapedefaults\":{\"line\":{\"color\":\"#2a3f5f\"}},\"annotationdefaults\":{\"arrowcolor\":\"#2a3f5f\",\"arrowhead\":0,\"arrowwidth\":1},\"geo\":{\"bgcolor\":\"white\",\"landcolor\":\"#E5ECF6\",\"subunitcolor\":\"white\",\"showland\":true,\"showlakes\":true,\"lakecolor\":\"white\"},\"title\":{\"x\":0.05},\"mapbox\":{\"style\":\"light\"}}},\"xaxis\":{\"anchor\":\"y\",\"domain\":[0.0,1.0]},\"yaxis\":{\"anchor\":\"x\",\"domain\":[0.0,1.0],\"title\":{\"text\":\"Source Contributions\"}},\"title\":{\"text\":\"Perturbed Average Source Contributions - Sigma: 0.25\"},\"width\":1200,\"height\":800,\"hovermode\":\"x unified\"},                        {\"responsive\": true}                    ).then(function(){\n",
       "                            \n",
       "var gd = document.getElementById('ab79699c-086a-4b63-8b47-b3cd7a1abac5');\n",
       "var x = new MutationObserver(function (mutations, observer) {{\n",
       "        var display = window.getComputedStyle(gd).display;\n",
       "        if (!display || display === 'none') {{\n",
       "            console.log([gd, 'removed!']);\n",
       "            Plotly.purge(gd);\n",
       "            observer.disconnect();\n",
       "        }}\n",
       "}});\n",
       "\n",
       "// Listen for the removal of the full notebook cells\n",
       "var notebookContainer = gd.closest('#notebook-container');\n",
       "if (notebookContainer) {{\n",
       "    x.observe(notebookContainer, {childList: true});\n",
       "}}\n",
       "\n",
       "// Listen for the clearing of the current output cell\n",
       "var outputEl = gd.closest('.output');\n",
       "if (outputEl) {{\n",
       "    x.observe(outputEl, {childList: true});\n",
       "}}\n",
       "\n",
       "                        })                };                });            </script>        </div>"
      ]
     },
     "metadata": {},
     "output_type": "display_data"
    }
   ],
   "source": [
    "# Figure 2\n",
    "factor_w1_fig = make_subplots()\n",
    "p_W_means = np.mean(perturb_W, axis=1)\n",
    "base_W_means = np.mean(base_W, axis=0)\n",
    "for i in range(len(factor_labels)):\n",
    "    i_W_means = p_W_means[i]\n",
    "    factor_w1_fig.add_trace(go.Box(y=i_W_means, name=factor_labels[i]))\n",
    "factor_w1_fig.add_trace(go.Scatter(x=factor_labels, y=base_W_means, name=\"Base\", mode=\"markers\", marker_color=\"black\"))\n",
    "factor_w1_fig.update_layout(title=f\"Perturbed Average Source Contributions - Sigma: {perturb_sigma}\", width=1200, height=800, hovermode='x unified')\n",
    "factor_w1_fig.update_yaxes(title_text=\"Source Contributions\")\n",
    "factor_w1_fig.show()"
   ]
  },
  {
   "cell_type": "code",
   "execution_count": 97,
   "id": "1dd6f561-78a9-4aa8-93a9-2958d72ae8b6",
   "metadata": {},
   "outputs": [
    {
     "data": {
      "text/plain": [
       "({0: array([0, 1, 2, 3, 4, 5], dtype=int64),\n",
       "  1: array([0, 1, 2, 3, 4, 5], dtype=int64),\n",
       "  2: array([0, 1, 2, 3, 4, 5], dtype=int64),\n",
       "  3: array([0, 1, 2, 3, 4, 5], dtype=int64),\n",
       "  4: array([0, 1, 2, 3, 4, 5], dtype=int64),\n",
       "  5: array([0, 1, 2, 3, 4, 5], dtype=int64),\n",
       "  6: array([0, 1, 2, 3, 4, 5], dtype=int64),\n",
       "  7: array([0, 1, 2, 3, 4, 5], dtype=int64),\n",
       "  8: array([0, 1, 2, 3, 4, 5], dtype=int64),\n",
       "  9: array([0, 1, 2, 3, 4, 5], dtype=int64)},\n",
       " {0: [0.0495, 0.0307, 0.0504, 0.0451, 0.1085, 0.0247],\n",
       "  1: [0.0476, 0.0277, 0.0416, 0.0455, 0.0983, 0.0341],\n",
       "  2: [0.0439, 0.027, 0.0509, 0.044, 0.0971, 0.0249],\n",
       "  3: [0.0431, 0.0283, 0.0453, 0.0361, 0.0907, 0.0277],\n",
       "  4: [0.0539, 0.0294, 0.0559, 0.048, 0.1092, 0.0292],\n",
       "  5: [0.052, 0.0274, 0.0529, 0.0446, 0.0924, 0.0265],\n",
       "  6: [0.0465, 0.0274, 0.0448, 0.0385, 0.1026, 0.0264],\n",
       "  7: [0.0354, 0.0289, 0.0466, 0.0389, 0.0907, 0.0283],\n",
       "  8: [0.0521, 0.0327, 0.0479, 0.0454, 0.1081, 0.0259],\n",
       "  9: [0.0427, 0.0347, 0.0459, 0.0362, 0.1065, 0.0263]})"
      ]
     },
     "execution_count": 97,
     "metadata": {},
     "output_type": "execute_result"
    }
   ],
   "source": [
    "raae_mapping_results = optimal_mapping_algorithm(batch_results=batch_results0, mapping_type=\"raae\")\n",
    "raae_mapping_results"
   ]
  },
  {
   "cell_type": "code",
   "execution_count": 119,
   "id": "c01f048d-84aa-42c3-b6e0-fa3b86e45356",
   "metadata": {},
   "outputs": [
    {
     "data": {
      "application/vnd.plotly.v1+json": {
       "config": {
        "plotlyServerURL": "https://plot.ly"
       },
       "data": [
        {
         "name": "Factor 1",
         "type": "box",
         "y": [
          0.0495,
          0.0476,
          0.0439,
          0.0431,
          0.0539,
          0.052,
          0.0465,
          0.0354,
          0.0521,
          0.0427
         ]
        },
        {
         "name": "Factor 2",
         "type": "box",
         "y": [
          0.0307,
          0.0277,
          0.027,
          0.0283,
          0.0294,
          0.0274,
          0.0274,
          0.0289,
          0.0327,
          0.0347
         ]
        },
        {
         "name": "Factor 3",
         "type": "box",
         "y": [
          0.0504,
          0.0416,
          0.0509,
          0.0453,
          0.0559,
          0.0529,
          0.0448,
          0.0466,
          0.0479,
          0.0459
         ]
        },
        {
         "name": "Factor 4",
         "type": "box",
         "y": [
          0.0451,
          0.0455,
          0.044,
          0.0361,
          0.048,
          0.0446,
          0.0385,
          0.0389,
          0.0454,
          0.0362
         ]
        },
        {
         "name": "Factor 5",
         "type": "box",
         "y": [
          0.1085,
          0.0983,
          0.0971,
          0.0907,
          0.1092,
          0.0924,
          0.1026,
          0.0907,
          0.1081,
          0.1065
         ]
        },
        {
         "name": "Factor 6",
         "type": "box",
         "y": [
          0.0247,
          0.0341,
          0.0249,
          0.0277,
          0.0292,
          0.0265,
          0.0264,
          0.0283,
          0.0259,
          0.0263
         ]
        }
       ],
       "layout": {
        "height": 800,
        "hovermode": "x unified",
        "shapes": [
         {
          "type": "line",
          "x0": 0,
          "x1": 1,
          "xref": "x domain",
          "y0": 0.049058333333333336,
          "y1": 0.049058333333333336,
          "yref": "y"
         }
        ],
        "template": {
         "data": {
          "bar": [
           {
            "error_x": {
             "color": "#2a3f5f"
            },
            "error_y": {
             "color": "#2a3f5f"
            },
            "marker": {
             "line": {
              "color": "#E5ECF6",
              "width": 0.5
             },
             "pattern": {
              "fillmode": "overlay",
              "size": 10,
              "solidity": 0.2
             }
            },
            "type": "bar"
           }
          ],
          "barpolar": [
           {
            "marker": {
             "line": {
              "color": "#E5ECF6",
              "width": 0.5
             },
             "pattern": {
              "fillmode": "overlay",
              "size": 10,
              "solidity": 0.2
             }
            },
            "type": "barpolar"
           }
          ],
          "carpet": [
           {
            "aaxis": {
             "endlinecolor": "#2a3f5f",
             "gridcolor": "white",
             "linecolor": "white",
             "minorgridcolor": "white",
             "startlinecolor": "#2a3f5f"
            },
            "baxis": {
             "endlinecolor": "#2a3f5f",
             "gridcolor": "white",
             "linecolor": "white",
             "minorgridcolor": "white",
             "startlinecolor": "#2a3f5f"
            },
            "type": "carpet"
           }
          ],
          "choropleth": [
           {
            "colorbar": {
             "outlinewidth": 0,
             "ticks": ""
            },
            "type": "choropleth"
           }
          ],
          "contour": [
           {
            "colorbar": {
             "outlinewidth": 0,
             "ticks": ""
            },
            "colorscale": [
             [
              0,
              "#0d0887"
             ],
             [
              0.1111111111111111,
              "#46039f"
             ],
             [
              0.2222222222222222,
              "#7201a8"
             ],
             [
              0.3333333333333333,
              "#9c179e"
             ],
             [
              0.4444444444444444,
              "#bd3786"
             ],
             [
              0.5555555555555556,
              "#d8576b"
             ],
             [
              0.6666666666666666,
              "#ed7953"
             ],
             [
              0.7777777777777778,
              "#fb9f3a"
             ],
             [
              0.8888888888888888,
              "#fdca26"
             ],
             [
              1,
              "#f0f921"
             ]
            ],
            "type": "contour"
           }
          ],
          "contourcarpet": [
           {
            "colorbar": {
             "outlinewidth": 0,
             "ticks": ""
            },
            "type": "contourcarpet"
           }
          ],
          "heatmap": [
           {
            "colorbar": {
             "outlinewidth": 0,
             "ticks": ""
            },
            "colorscale": [
             [
              0,
              "#0d0887"
             ],
             [
              0.1111111111111111,
              "#46039f"
             ],
             [
              0.2222222222222222,
              "#7201a8"
             ],
             [
              0.3333333333333333,
              "#9c179e"
             ],
             [
              0.4444444444444444,
              "#bd3786"
             ],
             [
              0.5555555555555556,
              "#d8576b"
             ],
             [
              0.6666666666666666,
              "#ed7953"
             ],
             [
              0.7777777777777778,
              "#fb9f3a"
             ],
             [
              0.8888888888888888,
              "#fdca26"
             ],
             [
              1,
              "#f0f921"
             ]
            ],
            "type": "heatmap"
           }
          ],
          "heatmapgl": [
           {
            "colorbar": {
             "outlinewidth": 0,
             "ticks": ""
            },
            "colorscale": [
             [
              0,
              "#0d0887"
             ],
             [
              0.1111111111111111,
              "#46039f"
             ],
             [
              0.2222222222222222,
              "#7201a8"
             ],
             [
              0.3333333333333333,
              "#9c179e"
             ],
             [
              0.4444444444444444,
              "#bd3786"
             ],
             [
              0.5555555555555556,
              "#d8576b"
             ],
             [
              0.6666666666666666,
              "#ed7953"
             ],
             [
              0.7777777777777778,
              "#fb9f3a"
             ],
             [
              0.8888888888888888,
              "#fdca26"
             ],
             [
              1,
              "#f0f921"
             ]
            ],
            "type": "heatmapgl"
           }
          ],
          "histogram": [
           {
            "marker": {
             "pattern": {
              "fillmode": "overlay",
              "size": 10,
              "solidity": 0.2
             }
            },
            "type": "histogram"
           }
          ],
          "histogram2d": [
           {
            "colorbar": {
             "outlinewidth": 0,
             "ticks": ""
            },
            "colorscale": [
             [
              0,
              "#0d0887"
             ],
             [
              0.1111111111111111,
              "#46039f"
             ],
             [
              0.2222222222222222,
              "#7201a8"
             ],
             [
              0.3333333333333333,
              "#9c179e"
             ],
             [
              0.4444444444444444,
              "#bd3786"
             ],
             [
              0.5555555555555556,
              "#d8576b"
             ],
             [
              0.6666666666666666,
              "#ed7953"
             ],
             [
              0.7777777777777778,
              "#fb9f3a"
             ],
             [
              0.8888888888888888,
              "#fdca26"
             ],
             [
              1,
              "#f0f921"
             ]
            ],
            "type": "histogram2d"
           }
          ],
          "histogram2dcontour": [
           {
            "colorbar": {
             "outlinewidth": 0,
             "ticks": ""
            },
            "colorscale": [
             [
              0,
              "#0d0887"
             ],
             [
              0.1111111111111111,
              "#46039f"
             ],
             [
              0.2222222222222222,
              "#7201a8"
             ],
             [
              0.3333333333333333,
              "#9c179e"
             ],
             [
              0.4444444444444444,
              "#bd3786"
             ],
             [
              0.5555555555555556,
              "#d8576b"
             ],
             [
              0.6666666666666666,
              "#ed7953"
             ],
             [
              0.7777777777777778,
              "#fb9f3a"
             ],
             [
              0.8888888888888888,
              "#fdca26"
             ],
             [
              1,
              "#f0f921"
             ]
            ],
            "type": "histogram2dcontour"
           }
          ],
          "mesh3d": [
           {
            "colorbar": {
             "outlinewidth": 0,
             "ticks": ""
            },
            "type": "mesh3d"
           }
          ],
          "parcoords": [
           {
            "line": {
             "colorbar": {
              "outlinewidth": 0,
              "ticks": ""
             }
            },
            "type": "parcoords"
           }
          ],
          "pie": [
           {
            "automargin": true,
            "type": "pie"
           }
          ],
          "scatter": [
           {
            "fillpattern": {
             "fillmode": "overlay",
             "size": 10,
             "solidity": 0.2
            },
            "type": "scatter"
           }
          ],
          "scatter3d": [
           {
            "line": {
             "colorbar": {
              "outlinewidth": 0,
              "ticks": ""
             }
            },
            "marker": {
             "colorbar": {
              "outlinewidth": 0,
              "ticks": ""
             }
            },
            "type": "scatter3d"
           }
          ],
          "scattercarpet": [
           {
            "marker": {
             "colorbar": {
              "outlinewidth": 0,
              "ticks": ""
             }
            },
            "type": "scattercarpet"
           }
          ],
          "scattergeo": [
           {
            "marker": {
             "colorbar": {
              "outlinewidth": 0,
              "ticks": ""
             }
            },
            "type": "scattergeo"
           }
          ],
          "scattergl": [
           {
            "marker": {
             "colorbar": {
              "outlinewidth": 0,
              "ticks": ""
             }
            },
            "type": "scattergl"
           }
          ],
          "scattermapbox": [
           {
            "marker": {
             "colorbar": {
              "outlinewidth": 0,
              "ticks": ""
             }
            },
            "type": "scattermapbox"
           }
          ],
          "scatterpolar": [
           {
            "marker": {
             "colorbar": {
              "outlinewidth": 0,
              "ticks": ""
             }
            },
            "type": "scatterpolar"
           }
          ],
          "scatterpolargl": [
           {
            "marker": {
             "colorbar": {
              "outlinewidth": 0,
              "ticks": ""
             }
            },
            "type": "scatterpolargl"
           }
          ],
          "scatterternary": [
           {
            "marker": {
             "colorbar": {
              "outlinewidth": 0,
              "ticks": ""
             }
            },
            "type": "scatterternary"
           }
          ],
          "surface": [
           {
            "colorbar": {
             "outlinewidth": 0,
             "ticks": ""
            },
            "colorscale": [
             [
              0,
              "#0d0887"
             ],
             [
              0.1111111111111111,
              "#46039f"
             ],
             [
              0.2222222222222222,
              "#7201a8"
             ],
             [
              0.3333333333333333,
              "#9c179e"
             ],
             [
              0.4444444444444444,
              "#bd3786"
             ],
             [
              0.5555555555555556,
              "#d8576b"
             ],
             [
              0.6666666666666666,
              "#ed7953"
             ],
             [
              0.7777777777777778,
              "#fb9f3a"
             ],
             [
              0.8888888888888888,
              "#fdca26"
             ],
             [
              1,
              "#f0f921"
             ]
            ],
            "type": "surface"
           }
          ],
          "table": [
           {
            "cells": {
             "fill": {
              "color": "#EBF0F8"
             },
             "line": {
              "color": "white"
             }
            },
            "header": {
             "fill": {
              "color": "#C8D4E3"
             },
             "line": {
              "color": "white"
             }
            },
            "type": "table"
           }
          ]
         },
         "layout": {
          "annotationdefaults": {
           "arrowcolor": "#2a3f5f",
           "arrowhead": 0,
           "arrowwidth": 1
          },
          "autotypenumbers": "strict",
          "coloraxis": {
           "colorbar": {
            "outlinewidth": 0,
            "ticks": ""
           }
          },
          "colorscale": {
           "diverging": [
            [
             0,
             "#8e0152"
            ],
            [
             0.1,
             "#c51b7d"
            ],
            [
             0.2,
             "#de77ae"
            ],
            [
             0.3,
             "#f1b6da"
            ],
            [
             0.4,
             "#fde0ef"
            ],
            [
             0.5,
             "#f7f7f7"
            ],
            [
             0.6,
             "#e6f5d0"
            ],
            [
             0.7,
             "#b8e186"
            ],
            [
             0.8,
             "#7fbc41"
            ],
            [
             0.9,
             "#4d9221"
            ],
            [
             1,
             "#276419"
            ]
           ],
           "sequential": [
            [
             0,
             "#0d0887"
            ],
            [
             0.1111111111111111,
             "#46039f"
            ],
            [
             0.2222222222222222,
             "#7201a8"
            ],
            [
             0.3333333333333333,
             "#9c179e"
            ],
            [
             0.4444444444444444,
             "#bd3786"
            ],
            [
             0.5555555555555556,
             "#d8576b"
            ],
            [
             0.6666666666666666,
             "#ed7953"
            ],
            [
             0.7777777777777778,
             "#fb9f3a"
            ],
            [
             0.8888888888888888,
             "#fdca26"
            ],
            [
             1,
             "#f0f921"
            ]
           ],
           "sequentialminus": [
            [
             0,
             "#0d0887"
            ],
            [
             0.1111111111111111,
             "#46039f"
            ],
            [
             0.2222222222222222,
             "#7201a8"
            ],
            [
             0.3333333333333333,
             "#9c179e"
            ],
            [
             0.4444444444444444,
             "#bd3786"
            ],
            [
             0.5555555555555556,
             "#d8576b"
            ],
            [
             0.6666666666666666,
             "#ed7953"
            ],
            [
             0.7777777777777778,
             "#fb9f3a"
            ],
            [
             0.8888888888888888,
             "#fdca26"
            ],
            [
             1,
             "#f0f921"
            ]
           ]
          },
          "colorway": [
           "#636efa",
           "#EF553B",
           "#00cc96",
           "#ab63fa",
           "#FFA15A",
           "#19d3f3",
           "#FF6692",
           "#B6E880",
           "#FF97FF",
           "#FECB52"
          ],
          "font": {
           "color": "#2a3f5f"
          },
          "geo": {
           "bgcolor": "white",
           "lakecolor": "white",
           "landcolor": "#E5ECF6",
           "showlakes": true,
           "showland": true,
           "subunitcolor": "white"
          },
          "hoverlabel": {
           "align": "left"
          },
          "hovermode": "closest",
          "mapbox": {
           "style": "light"
          },
          "paper_bgcolor": "white",
          "plot_bgcolor": "#E5ECF6",
          "polar": {
           "angularaxis": {
            "gridcolor": "white",
            "linecolor": "white",
            "ticks": ""
           },
           "bgcolor": "#E5ECF6",
           "radialaxis": {
            "gridcolor": "white",
            "linecolor": "white",
            "ticks": ""
           }
          },
          "scene": {
           "xaxis": {
            "backgroundcolor": "#E5ECF6",
            "gridcolor": "white",
            "gridwidth": 2,
            "linecolor": "white",
            "showbackground": true,
            "ticks": "",
            "zerolinecolor": "white"
           },
           "yaxis": {
            "backgroundcolor": "#E5ECF6",
            "gridcolor": "white",
            "gridwidth": 2,
            "linecolor": "white",
            "showbackground": true,
            "ticks": "",
            "zerolinecolor": "white"
           },
           "zaxis": {
            "backgroundcolor": "#E5ECF6",
            "gridcolor": "white",
            "gridwidth": 2,
            "linecolor": "white",
            "showbackground": true,
            "ticks": "",
            "zerolinecolor": "white"
           }
          },
          "shapedefaults": {
           "line": {
            "color": "#2a3f5f"
           }
          },
          "ternary": {
           "aaxis": {
            "gridcolor": "white",
            "linecolor": "white",
            "ticks": ""
           },
           "baxis": {
            "gridcolor": "white",
            "linecolor": "white",
            "ticks": ""
           },
           "bgcolor": "#E5ECF6",
           "caxis": {
            "gridcolor": "white",
            "linecolor": "white",
            "ticks": ""
           }
          },
          "title": {
           "x": 0.05
          },
          "xaxis": {
           "automargin": true,
           "gridcolor": "white",
           "linecolor": "white",
           "ticks": "",
           "title": {
            "standoff": 15
           },
           "zerolinecolor": "white",
           "zerolinewidth": 2
          },
          "yaxis": {
           "automargin": true,
           "gridcolor": "white",
           "linecolor": "white",
           "ticks": "",
           "title": {
            "standoff": 15
           },
           "zerolinecolor": "white",
           "zerolinewidth": 2
          }
         }
        },
        "title": {
         "text": "Perturbed Source RAAE - Sigma: 0.25"
        },
        "width": 1200,
        "xaxis": {
         "anchor": "y",
         "autorange": true,
         "domain": [
          0,
          1
         ],
         "range": [
          -0.5,
          5.5
         ],
         "type": "category"
        },
        "yaxis": {
         "anchor": "x",
         "autorange": true,
         "domain": [
          0,
          1
         ],
         "range": [
          0.020005555555555554,
          0.11389444444444445
         ],
         "title": {
          "text": "RAAE"
         },
         "type": "linear"
        }
       }
      },
      "image/png": "[encoded data removed]",
      "text/html": [
       "<div>                            <div id=\"803b6bd2-0f74-4400-be01-e9d1c73d0fe8\" class=\"plotly-graph-div\" style=\"height:800px; width:1200px;\"></div>            <script type=\"text/javascript\">                require([\"plotly\"], function(Plotly) {                    window.PLOTLYENV=window.PLOTLYENV || {};                                    if (document.getElementById(\"803b6bd2-0f74-4400-be01-e9d1c73d0fe8\")) {                    Plotly.newPlot(                        \"803b6bd2-0f74-4400-be01-e9d1c73d0fe8\",                        [{\"name\":\"Factor 1\",\"y\":[0.0495,0.0476,0.0439,0.0431,0.0539,0.052,0.0465,0.0354,0.0521,0.0427],\"type\":\"box\"},{\"name\":\"Factor 2\",\"y\":[0.0307,0.0277,0.027,0.0283,0.0294,0.0274,0.0274,0.0289,0.0327,0.0347],\"type\":\"box\"},{\"name\":\"Factor 3\",\"y\":[0.0504,0.0416,0.0509,0.0453,0.0559,0.0529,0.0448,0.0466,0.0479,0.0459],\"type\":\"box\"},{\"name\":\"Factor 4\",\"y\":[0.0451,0.0455,0.044,0.0361,0.048,0.0446,0.0385,0.0389,0.0454,0.0362],\"type\":\"box\"},{\"name\":\"Factor 5\",\"y\":[0.1085,0.0983,0.0971,0.0907,0.1092,0.0924,0.1026,0.0907,0.1081,0.1065],\"type\":\"box\"},{\"name\":\"Factor 6\",\"y\":[0.0247,0.0341,0.0249,0.0277,0.0292,0.0265,0.0264,0.0283,0.0259,0.0263],\"type\":\"box\"}],                        {\"template\":{\"data\":{\"histogram2dcontour\":[{\"type\":\"histogram2dcontour\",\"colorbar\":{\"outlinewidth\":0,\"ticks\":\"\"},\"colorscale\":[[0.0,\"#0d0887\"],[0.1111111111111111,\"#46039f\"],[0.2222222222222222,\"#7201a8\"],[0.3333333333333333,\"#9c179e\"],[0.4444444444444444,\"#bd3786\"],[0.5555555555555556,\"#d8576b\"],[0.6666666666666666,\"#ed7953\"],[0.7777777777777778,\"#fb9f3a\"],[0.8888888888888888,\"#fdca26\"],[1.0,\"#f0f921\"]]}],\"choropleth\":[{\"type\":\"choropleth\",\"colorbar\":{\"outlinewidth\":0,\"ticks\":\"\"}}],\"histogram2d\":[{\"type\":\"histogram2d\",\"colorbar\":{\"outlinewidth\":0,\"ticks\":\"\"},\"colorscale\":[[0.0,\"#0d0887\"],[0.1111111111111111,\"#46039f\"],[0.2222222222222222,\"#7201a8\"],[0.3333333333333333,\"#9c179e\"],[0.4444444444444444,\"#bd3786\"],[0.5555555555555556,\"#d8576b\"],[0.6666666666666666,\"#ed7953\"],[0.7777777777777778,\"#fb9f3a\"],[0.8888888888888888,\"#fdca26\"],[1.0,\"#f0f921\"]]}],\"heatmap\":[{\"type\":\"heatmap\",\"colorbar\":{\"outlinewidth\":0,\"ticks\":\"\"},\"colorscale\":[[0.0,\"#0d0887\"],[0.1111111111111111,\"#46039f\"],[0.2222222222222222,\"#7201a8\"],[0.3333333333333333,\"#9c179e\"],[0.4444444444444444,\"#bd3786\"],[0.5555555555555556,\"#d8576b\"],[0.6666666666666666,\"#ed7953\"],[0.7777777777777778,\"#fb9f3a\"],[0.8888888888888888,\"#fdca26\"],[1.0,\"#f0f921\"]]}],\"heatmapgl\":[{\"type\":\"heatmapgl\",\"colorbar\":{\"outlinewidth\":0,\"ticks\":\"\"},\"colorscale\":[[0.0,\"#0d0887\"],[0.1111111111111111,\"#46039f\"],[0.2222222222222222,\"#7201a8\"],[0.3333333333333333,\"#9c179e\"],[0.4444444444444444,\"#bd3786\"],[0.5555555555555556,\"#d8576b\"],[0.6666666666666666,\"#ed7953\"],[0.7777777777777778,\"#fb9f3a\"],[0.8888888888888888,\"#fdca26\"],[1.0,\"#f0f921\"]]}],\"contourcarpet\":[{\"type\":\"contourcarpet\",\"colorbar\":{\"outlinewidth\":0,\"ticks\":\"\"}}],\"contour\":[{\"type\":\"contour\",\"colorbar\":{\"outlinewidth\":0,\"ticks\":\"\"},\"colorscale\":[[0.0,\"#0d0887\"],[0.1111111111111111,\"#46039f\"],[0.2222222222222222,\"#7201a8\"],[0.3333333333333333,\"#9c179e\"],[0.4444444444444444,\"#bd3786\"],[0.5555555555555556,\"#d8576b\"],[0.6666666666666666,\"#ed7953\"],[0.7777777777777778,\"#fb9f3a\"],[0.8888888888888888,\"#fdca26\"],[1.0,\"#f0f921\"]]}],\"surface\":[{\"type\":\"surface\",\"colorbar\":{\"outlinewidth\":0,\"ticks\":\"\"},\"colorscale\":[[0.0,\"#0d0887\"],[0.1111111111111111,\"#46039f\"],[0.2222222222222222,\"#7201a8\"],[0.3333333333333333,\"#9c179e\"],[0.4444444444444444,\"#bd3786\"],[0.5555555555555556,\"#d8576b\"],[0.6666666666666666,\"#ed7953\"],[0.7777777777777778,\"#fb9f3a\"],[0.8888888888888888,\"#fdca26\"],[1.0,\"#f0f921\"]]}],\"mesh3d\":[{\"type\":\"mesh3d\",\"colorbar\":{\"outlinewidth\":0,\"ticks\":\"\"}}],\"scatter\":[{\"fillpattern\":{\"fillmode\":\"overlay\",\"size\":10,\"solidity\":0.2},\"type\":\"scatter\"}],\"parcoords\":[{\"type\":\"parcoords\",\"line\":{\"colorbar\":{\"outlinewidth\":0,\"ticks\":\"\"}}}],\"scatterpolargl\":[{\"type\":\"scatterpolargl\",\"marker\":{\"colorbar\":{\"outlinewidth\":0,\"ticks\":\"\"}}}],\"bar\":[{\"error_x\":{\"color\":\"#2a3f5f\"},\"error_y\":{\"color\":\"#2a3f5f\"},\"marker\":{\"line\":{\"color\":\"#E5ECF6\",\"width\":0.5},\"pattern\":{\"fillmode\":\"overlay\",\"size\":10,\"solidity\":0.2}},\"type\":\"bar\"}],\"scattergeo\":[{\"type\":\"scattergeo\",\"marker\":{\"colorbar\":{\"outlinewidth\":0,\"ticks\":\"\"}}}],\"scatterpolar\":[{\"type\":\"scatterpolar\",\"marker\":{\"colorbar\":{\"outlinewidth\":0,\"ticks\":\"\"}}}],\"histogram\":[{\"marker\":{\"pattern\":{\"fillmode\":\"overlay\",\"size\":10,\"solidity\":0.2}},\"type\":\"histogram\"}],\"scattergl\":[{\"type\":\"scattergl\",\"marker\":{\"colorbar\":{\"outlinewidth\":0,\"ticks\":\"\"}}}],\"scatter3d\":[{\"type\":\"scatter3d\",\"line\":{\"colorbar\":{\"outlinewidth\":0,\"ticks\":\"\"}},\"marker\":{\"colorbar\":{\"outlinewidth\":0,\"ticks\":\"\"}}}],\"scattermapbox\":[{\"type\":\"scattermapbox\",\"marker\":{\"colorbar\":{\"outlinewidth\":0,\"ticks\":\"\"}}}],\"scatterternary\":[{\"type\":\"scatterternary\",\"marker\":{\"colorbar\":{\"outlinewidth\":0,\"ticks\":\"\"}}}],\"scattercarpet\":[{\"type\":\"scattercarpet\",\"marker\":{\"colorbar\":{\"outlinewidth\":0,\"ticks\":\"\"}}}],\"carpet\":[{\"aaxis\":{\"endlinecolor\":\"#2a3f5f\",\"gridcolor\":\"white\",\"linecolor\":\"white\",\"minorgridcolor\":\"white\",\"startlinecolor\":\"#2a3f5f\"},\"baxis\":{\"endlinecolor\":\"#2a3f5f\",\"gridcolor\":\"white\",\"linecolor\":\"white\",\"minorgridcolor\":\"white\",\"startlinecolor\":\"#2a3f5f\"},\"type\":\"carpet\"}],\"table\":[{\"cells\":{\"fill\":{\"color\":\"#EBF0F8\"},\"line\":{\"color\":\"white\"}},\"header\":{\"fill\":{\"color\":\"#C8D4E3\"},\"line\":{\"color\":\"white\"}},\"type\":\"table\"}],\"barpolar\":[{\"marker\":{\"line\":{\"color\":\"#E5ECF6\",\"width\":0.5},\"pattern\":{\"fillmode\":\"overlay\",\"size\":10,\"solidity\":0.2}},\"type\":\"barpolar\"}],\"pie\":[{\"automargin\":true,\"type\":\"pie\"}]},\"layout\":{\"autotypenumbers\":\"strict\",\"colorway\":[\"#636efa\",\"#EF553B\",\"#00cc96\",\"#ab63fa\",\"#FFA15A\",\"#19d3f3\",\"#FF6692\",\"#B6E880\",\"#FF97FF\",\"#FECB52\"],\"font\":{\"color\":\"#2a3f5f\"},\"hovermode\":\"closest\",\"hoverlabel\":{\"align\":\"left\"},\"paper_bgcolor\":\"white\",\"plot_bgcolor\":\"#E5ECF6\",\"polar\":{\"bgcolor\":\"#E5ECF6\",\"angularaxis\":{\"gridcolor\":\"white\",\"linecolor\":\"white\",\"ticks\":\"\"},\"radialaxis\":{\"gridcolor\":\"white\",\"linecolor\":\"white\",\"ticks\":\"\"}},\"ternary\":{\"bgcolor\":\"#E5ECF6\",\"aaxis\":{\"gridcolor\":\"white\",\"linecolor\":\"white\",\"ticks\":\"\"},\"baxis\":{\"gridcolor\":\"white\",\"linecolor\":\"white\",\"ticks\":\"\"},\"caxis\":{\"gridcolor\":\"white\",\"linecolor\":\"white\",\"ticks\":\"\"}},\"coloraxis\":{\"colorbar\":{\"outlinewidth\":0,\"ticks\":\"\"}},\"colorscale\":{\"sequential\":[[0.0,\"#0d0887\"],[0.1111111111111111,\"#46039f\"],[0.2222222222222222,\"#7201a8\"],[0.3333333333333333,\"#9c179e\"],[0.4444444444444444,\"#bd3786\"],[0.5555555555555556,\"#d8576b\"],[0.6666666666666666,\"#ed7953\"],[0.7777777777777778,\"#fb9f3a\"],[0.8888888888888888,\"#fdca26\"],[1.0,\"#f0f921\"]],\"sequentialminus\":[[0.0,\"#0d0887\"],[0.1111111111111111,\"#46039f\"],[0.2222222222222222,\"#7201a8\"],[0.3333333333333333,\"#9c179e\"],[0.4444444444444444,\"#bd3786\"],[0.5555555555555556,\"#d8576b\"],[0.6666666666666666,\"#ed7953\"],[0.7777777777777778,\"#fb9f3a\"],[0.8888888888888888,\"#fdca26\"],[1.0,\"#f0f921\"]],\"diverging\":[[0,\"#8e0152\"],[0.1,\"#c51b7d\"],[0.2,\"#de77ae\"],[0.3,\"#f1b6da\"],[0.4,\"#fde0ef\"],[0.5,\"#f7f7f7\"],[0.6,\"#e6f5d0\"],[0.7,\"#b8e186\"],[0.8,\"#7fbc41\"],[0.9,\"#4d9221\"],[1,\"#276419\"]]},\"xaxis\":{\"gridcolor\":\"white\",\"linecolor\":\"white\",\"ticks\":\"\",\"title\":{\"standoff\":15},\"zerolinecolor\":\"white\",\"automargin\":true,\"zerolinewidth\":2},\"yaxis\":{\"gridcolor\":\"white\",\"linecolor\":\"white\",\"ticks\":\"\",\"title\":{\"standoff\":15},\"zerolinecolor\":\"white\",\"automargin\":true,\"zerolinewidth\":2},\"scene\":{\"xaxis\":{\"backgroundcolor\":\"#E5ECF6\",\"gridcolor\":\"white\",\"linecolor\":\"white\",\"showbackground\":true,\"ticks\":\"\",\"zerolinecolor\":\"white\",\"gridwidth\":2},\"yaxis\":{\"backgroundcolor\":\"#E5ECF6\",\"gridcolor\":\"white\",\"linecolor\":\"white\",\"showbackground\":true,\"ticks\":\"\",\"zerolinecolor\":\"white\",\"gridwidth\":2},\"zaxis\":{\"backgroundcolor\":\"#E5ECF6\",\"gridcolor\":\"white\",\"linecolor\":\"white\",\"showbackground\":true,\"ticks\":\"\",\"zerolinecolor\":\"white\",\"gridwidth\":2}},\"shapedefaults\":{\"line\":{\"color\":\"#2a3f5f\"}},\"annotationdefaults\":{\"arrowcolor\":\"#2a3f5f\",\"arrowhead\":0,\"arrowwidth\":1},\"geo\":{\"bgcolor\":\"white\",\"landcolor\":\"#E5ECF6\",\"subunitcolor\":\"white\",\"showland\":true,\"showlakes\":true,\"lakecolor\":\"white\"},\"title\":{\"x\":0.05},\"mapbox\":{\"style\":\"light\"}}},\"xaxis\":{\"anchor\":\"y\",\"domain\":[0.0,1.0]},\"yaxis\":{\"anchor\":\"x\",\"domain\":[0.0,1.0],\"title\":{\"text\":\"RAAE\"}},\"shapes\":[{\"type\":\"line\",\"x0\":0,\"x1\":1,\"xref\":\"x domain\",\"y0\":0.049058333333333336,\"y1\":0.049058333333333336,\"yref\":\"y\"}],\"title\":{\"text\":\"Perturbed Source RAAE - Sigma: 0.25\"},\"width\":1200,\"height\":800,\"hovermode\":\"x unified\"},                        {\"responsive\": true}                    ).then(function(){\n",
       "                            \n",
       "var gd = document.getElementById('803b6bd2-0f74-4400-be01-e9d1c73d0fe8');\n",
       "var x = new MutationObserver(function (mutations, observer) {{\n",
       "        var display = window.getComputedStyle(gd).display;\n",
       "        if (!display || display === 'none') {{\n",
       "            console.log([gd, 'removed!']);\n",
       "            Plotly.purge(gd);\n",
       "            observer.disconnect();\n",
       "        }}\n",
       "}});\n",
       "\n",
       "// Listen for the removal of the full notebook cells\n",
       "var notebookContainer = gd.closest('#notebook-container');\n",
       "if (notebookContainer) {{\n",
       "    x.observe(notebookContainer, {childList: true});\n",
       "}}\n",
       "\n",
       "// Listen for the clearing of the current output cell\n",
       "var outputEl = gd.closest('.output');\n",
       "if (outputEl) {{\n",
       "    x.observe(outputEl, {childList: true});\n",
       "}}\n",
       "\n",
       "                        })                };                });            </script>        </div>"
      ]
     },
     "metadata": {},
     "output_type": "display_data"
    }
   ],
   "source": [
    "# Figure 2\n",
    "factor_raae_fig = make_subplots()\n",
    "factor_raae = np.zeros(shape=(n_models, len(factor_labels)))\n",
    "for i, v in raae_mapping_results[1].items():\n",
    "    i_mapping = raae_mapping_results[0][i]\n",
    "    factor_raae[i] = np.array(v)[i_mapping]\n",
    "for i in range(len(factor_labels)):\n",
    "    i_raae_means = factor_raae[:,i]\n",
    "    factor_raae_fig.add_trace(go.Box(y=i_raae_means, name=factor_labels[i]))\n",
    "factor_raae_fig.add_hline(y=np.mean(factor_raae))\n",
    "factor_raae_fig.update_layout(title=f\"Perturbed Source RAAE - Sigma: {perturb_sigma}\", width=1200, height=800, hovermode='x unified')\n",
    "factor_raae_fig.update_yaxes(title_text=\"RAAE\")\n",
    "factor_raae_fig.show()"
   ]
  },
  {
   "cell_type": "code",
   "execution_count": 121,
   "id": "d4797ed6-70e3-4d36-ada1-7490de5fe775",
   "metadata": {},
   "outputs": [
    {
     "data": {
      "application/vnd.plotly.v1+json": {
       "config": {
        "plotlyServerURL": "https://plot.ly"
       },
       "data": [
        {
         "name": "Factor 1",
         "type": "box",
         "y": [
          0.9983,
          0.998,
          0.9959,
          0.9994,
          0.9984,
          0.9979,
          0.9992,
          0.9977,
          0.9985,
          0.9976
         ]
        },
        {
         "name": "Factor 2",
         "type": "box",
         "y": [
          0.9934,
          0.9977,
          0.9989,
          0.9968,
          0.9943,
          0.9976,
          0.9913,
          0.9971,
          0.9968,
          0.9956
         ]
        },
        {
         "name": "Factor 3",
         "type": "box",
         "y": [
          0.999,
          0.9971,
          0.9988,
          0.9981,
          0.9985,
          0.9982,
          0.9985,
          0.9977,
          0.9979,
          0.9967
         ]
        },
        {
         "name": "Factor 4",
         "type": "box",
         "y": [
          0.9984,
          0.9987,
          0.9987,
          0.9995,
          0.9958,
          0.9981,
          0.9989,
          0.9984,
          0.9981,
          0.9988
         ]
        },
        {
         "name": "Factor 5",
         "type": "box",
         "y": [
          0.9891,
          0.9944,
          0.9872,
          0.9951,
          0.989,
          0.9923,
          0.9954,
          0.9952,
          0.9867,
          0.994
         ]
        },
        {
         "name": "Factor 6",
         "type": "box",
         "y": [
          0.9983,
          0.9984,
          0.9992,
          0.9982,
          0.9988,
          0.9991,
          0.9986,
          0.9992,
          0.9985,
          0.9991
         ]
        }
       ],
       "layout": {
        "height": 800,
        "hovermode": "x unified",
        "shapes": [
         {
          "type": "line",
          "x0": 0,
          "x1": 1,
          "xref": "x domain",
          "y0": 0.996835,
          "y1": 0.996835,
          "yref": "y"
         }
        ],
        "template": {
         "data": {
          "bar": [
           {
            "error_x": {
             "color": "#2a3f5f"
            },
            "error_y": {
             "color": "#2a3f5f"
            },
            "marker": {
             "line": {
              "color": "#E5ECF6",
              "width": 0.5
             },
             "pattern": {
              "fillmode": "overlay",
              "size": 10,
              "solidity": 0.2
             }
            },
            "type": "bar"
           }
          ],
          "barpolar": [
           {
            "marker": {
             "line": {
              "color": "#E5ECF6",
              "width": 0.5
             },
             "pattern": {
              "fillmode": "overlay",
              "size": 10,
              "solidity": 0.2
             }
            },
            "type": "barpolar"
           }
          ],
          "carpet": [
           {
            "aaxis": {
             "endlinecolor": "#2a3f5f",
             "gridcolor": "white",
             "linecolor": "white",
             "minorgridcolor": "white",
             "startlinecolor": "#2a3f5f"
            },
            "baxis": {
             "endlinecolor": "#2a3f5f",
             "gridcolor": "white",
             "linecolor": "white",
             "minorgridcolor": "white",
             "startlinecolor": "#2a3f5f"
            },
            "type": "carpet"
           }
          ],
          "choropleth": [
           {
            "colorbar": {
             "outlinewidth": 0,
             "ticks": ""
            },
            "type": "choropleth"
           }
          ],
          "contour": [
           {
            "colorbar": {
             "outlinewidth": 0,
             "ticks": ""
            },
            "colorscale": [
             [
              0,
              "#0d0887"
             ],
             [
              0.1111111111111111,
              "#46039f"
             ],
             [
              0.2222222222222222,
              "#7201a8"
             ],
             [
              0.3333333333333333,
              "#9c179e"
             ],
             [
              0.4444444444444444,
              "#bd3786"
             ],
             [
              0.5555555555555556,
              "#d8576b"
             ],
             [
              0.6666666666666666,
              "#ed7953"
             ],
             [
              0.7777777777777778,
              "#fb9f3a"
             ],
             [
              0.8888888888888888,
              "#fdca26"
             ],
             [
              1,
              "#f0f921"
             ]
            ],
            "type": "contour"
           }
          ],
          "contourcarpet": [
           {
            "colorbar": {
             "outlinewidth": 0,
             "ticks": ""
            },
            "type": "contourcarpet"
           }
          ],
          "heatmap": [
           {
            "colorbar": {
             "outlinewidth": 0,
             "ticks": ""
            },
            "colorscale": [
             [
              0,
              "#0d0887"
             ],
             [
              0.1111111111111111,
              "#46039f"
             ],
             [
              0.2222222222222222,
              "#7201a8"
             ],
             [
              0.3333333333333333,
              "#9c179e"
             ],
             [
              0.4444444444444444,
              "#bd3786"
             ],
             [
              0.5555555555555556,
              "#d8576b"
             ],
             [
              0.6666666666666666,
              "#ed7953"
             ],
             [
              0.7777777777777778,
              "#fb9f3a"
             ],
             [
              0.8888888888888888,
              "#fdca26"
             ],
             [
              1,
              "#f0f921"
             ]
            ],
            "type": "heatmap"
           }
          ],
          "heatmapgl": [
           {
            "colorbar": {
             "outlinewidth": 0,
             "ticks": ""
            },
            "colorscale": [
             [
              0,
              "#0d0887"
             ],
             [
              0.1111111111111111,
              "#46039f"
             ],
             [
              0.2222222222222222,
              "#7201a8"
             ],
             [
              0.3333333333333333,
              "#9c179e"
             ],
             [
              0.4444444444444444,
              "#bd3786"
             ],
             [
              0.5555555555555556,
              "#d8576b"
             ],
             [
              0.6666666666666666,
              "#ed7953"
             ],
             [
              0.7777777777777778,
              "#fb9f3a"
             ],
             [
              0.8888888888888888,
              "#fdca26"
             ],
             [
              1,
              "#f0f921"
             ]
            ],
            "type": "heatmapgl"
           }
          ],
          "histogram": [
           {
            "marker": {
             "pattern": {
              "fillmode": "overlay",
              "size": 10,
              "solidity": 0.2
             }
            },
            "type": "histogram"
           }
          ],
          "histogram2d": [
           {
            "colorbar": {
             "outlinewidth": 0,
             "ticks": ""
            },
            "colorscale": [
             [
              0,
              "#0d0887"
             ],
             [
              0.1111111111111111,
              "#46039f"
             ],
             [
              0.2222222222222222,
              "#7201a8"
             ],
             [
              0.3333333333333333,
              "#9c179e"
             ],
             [
              0.4444444444444444,
              "#bd3786"
             ],
             [
              0.5555555555555556,
              "#d8576b"
             ],
             [
              0.6666666666666666,
              "#ed7953"
             ],
             [
              0.7777777777777778,
              "#fb9f3a"
             ],
             [
              0.8888888888888888,
              "#fdca26"
             ],
             [
              1,
              "#f0f921"
             ]
            ],
            "type": "histogram2d"
           }
          ],
          "histogram2dcontour": [
           {
            "colorbar": {
             "outlinewidth": 0,
             "ticks": ""
            },
            "colorscale": [
             [
              0,
              "#0d0887"
             ],
             [
              0.1111111111111111,
              "#46039f"
             ],
             [
              0.2222222222222222,
              "#7201a8"
             ],
             [
              0.3333333333333333,
              "#9c179e"
             ],
             [
              0.4444444444444444,
              "#bd3786"
             ],
             [
              0.5555555555555556,
              "#d8576b"
             ],
             [
              0.6666666666666666,
              "#ed7953"
             ],
             [
              0.7777777777777778,
              "#fb9f3a"
             ],
             [
              0.8888888888888888,
              "#fdca26"
             ],
             [
              1,
              "#f0f921"
             ]
            ],
            "type": "histogram2dcontour"
           }
          ],
          "mesh3d": [
           {
            "colorbar": {
             "outlinewidth": 0,
             "ticks": ""
            },
            "type": "mesh3d"
           }
          ],
          "parcoords": [
           {
            "line": {
             "colorbar": {
              "outlinewidth": 0,
              "ticks": ""
             }
            },
            "type": "parcoords"
           }
          ],
          "pie": [
           {
            "automargin": true,
            "type": "pie"
           }
          ],
          "scatter": [
           {
            "fillpattern": {
             "fillmode": "overlay",
             "size": 10,
             "solidity": 0.2
            },
            "type": "scatter"
           }
          ],
          "scatter3d": [
           {
            "line": {
             "colorbar": {
              "outlinewidth": 0,
              "ticks": ""
             }
            },
            "marker": {
             "colorbar": {
              "outlinewidth": 0,
              "ticks": ""
             }
            },
            "type": "scatter3d"
           }
          ],
          "scattercarpet": [
           {
            "marker": {
             "colorbar": {
              "outlinewidth": 0,
              "ticks": ""
             }
            },
            "type": "scattercarpet"
           }
          ],
          "scattergeo": [
           {
            "marker": {
             "colorbar": {
              "outlinewidth": 0,
              "ticks": ""
             }
            },
            "type": "scattergeo"
           }
          ],
          "scattergl": [
           {
            "marker": {
             "colorbar": {
              "outlinewidth": 0,
              "ticks": ""
             }
            },
            "type": "scattergl"
           }
          ],
          "scattermapbox": [
           {
            "marker": {
             "colorbar": {
              "outlinewidth": 0,
              "ticks": ""
             }
            },
            "type": "scattermapbox"
           }
          ],
          "scatterpolar": [
           {
            "marker": {
             "colorbar": {
              "outlinewidth": 0,
              "ticks": ""
             }
            },
            "type": "scatterpolar"
           }
          ],
          "scatterpolargl": [
           {
            "marker": {
             "colorbar": {
              "outlinewidth": 0,
              "ticks": ""
             }
            },
            "type": "scatterpolargl"
           }
          ],
          "scatterternary": [
           {
            "marker": {
             "colorbar": {
              "outlinewidth": 0,
              "ticks": ""
             }
            },
            "type": "scatterternary"
           }
          ],
          "surface": [
           {
            "colorbar": {
             "outlinewidth": 0,
             "ticks": ""
            },
            "colorscale": [
             [
              0,
              "#0d0887"
             ],
             [
              0.1111111111111111,
              "#46039f"
             ],
             [
              0.2222222222222222,
              "#7201a8"
             ],
             [
              0.3333333333333333,
              "#9c179e"
             ],
             [
              0.4444444444444444,
              "#bd3786"
             ],
             [
              0.5555555555555556,
              "#d8576b"
             ],
             [
              0.6666666666666666,
              "#ed7953"
             ],
             [
              0.7777777777777778,
              "#fb9f3a"
             ],
             [
              0.8888888888888888,
              "#fdca26"
             ],
             [
              1,
              "#f0f921"
             ]
            ],
            "type": "surface"
           }
          ],
          "table": [
           {
            "cells": {
             "fill": {
              "color": "#EBF0F8"
             },
             "line": {
              "color": "white"
             }
            },
            "header": {
             "fill": {
              "color": "#C8D4E3"
             },
             "line": {
              "color": "white"
             }
            },
            "type": "table"
           }
          ]
         },
         "layout": {
          "annotationdefaults": {
           "arrowcolor": "#2a3f5f",
           "arrowhead": 0,
           "arrowwidth": 1
          },
          "autotypenumbers": "strict",
          "coloraxis": {
           "colorbar": {
            "outlinewidth": 0,
            "ticks": ""
           }
          },
          "colorscale": {
           "diverging": [
            [
             0,
             "#8e0152"
            ],
            [
             0.1,
             "#c51b7d"
            ],
            [
             0.2,
             "#de77ae"
            ],
            [
             0.3,
             "#f1b6da"
            ],
            [
             0.4,
             "#fde0ef"
            ],
            [
             0.5,
             "#f7f7f7"
            ],
            [
             0.6,
             "#e6f5d0"
            ],
            [
             0.7,
             "#b8e186"
            ],
            [
             0.8,
             "#7fbc41"
            ],
            [
             0.9,
             "#4d9221"
            ],
            [
             1,
             "#276419"
            ]
           ],
           "sequential": [
            [
             0,
             "#0d0887"
            ],
            [
             0.1111111111111111,
             "#46039f"
            ],
            [
             0.2222222222222222,
             "#7201a8"
            ],
            [
             0.3333333333333333,
             "#9c179e"
            ],
            [
             0.4444444444444444,
             "#bd3786"
            ],
            [
             0.5555555555555556,
             "#d8576b"
            ],
            [
             0.6666666666666666,
             "#ed7953"
            ],
            [
             0.7777777777777778,
             "#fb9f3a"
            ],
            [
             0.8888888888888888,
             "#fdca26"
            ],
            [
             1,
             "#f0f921"
            ]
           ],
           "sequentialminus": [
            [
             0,
             "#0d0887"
            ],
            [
             0.1111111111111111,
             "#46039f"
            ],
            [
             0.2222222222222222,
             "#7201a8"
            ],
            [
             0.3333333333333333,
             "#9c179e"
            ],
            [
             0.4444444444444444,
             "#bd3786"
            ],
            [
             0.5555555555555556,
             "#d8576b"
            ],
            [
             0.6666666666666666,
             "#ed7953"
            ],
            [
             0.7777777777777778,
             "#fb9f3a"
            ],
            [
             0.8888888888888888,
             "#fdca26"
            ],
            [
             1,
             "#f0f921"
            ]
           ]
          },
          "colorway": [
           "#636efa",
           "#EF553B",
           "#00cc96",
           "#ab63fa",
           "#FFA15A",
           "#19d3f3",
           "#FF6692",
           "#B6E880",
           "#FF97FF",
           "#FECB52"
          ],
          "font": {
           "color": "#2a3f5f"
          },
          "geo": {
           "bgcolor": "white",
           "lakecolor": "white",
           "landcolor": "#E5ECF6",
           "showlakes": true,
           "showland": true,
           "subunitcolor": "white"
          },
          "hoverlabel": {
           "align": "left"
          },
          "hovermode": "closest",
          "mapbox": {
           "style": "light"
          },
          "paper_bgcolor": "white",
          "plot_bgcolor": "#E5ECF6",
          "polar": {
           "angularaxis": {
            "gridcolor": "white",
            "linecolor": "white",
            "ticks": ""
           },
           "bgcolor": "#E5ECF6",
           "radialaxis": {
            "gridcolor": "white",
            "linecolor": "white",
            "ticks": ""
           }
          },
          "scene": {
           "xaxis": {
            "backgroundcolor": "#E5ECF6",
            "gridcolor": "white",
            "gridwidth": 2,
            "linecolor": "white",
            "showbackground": true,
            "ticks": "",
            "zerolinecolor": "white"
           },
           "yaxis": {
            "backgroundcolor": "#E5ECF6",
            "gridcolor": "white",
            "gridwidth": 2,
            "linecolor": "white",
            "showbackground": true,
            "ticks": "",
            "zerolinecolor": "white"
           },
           "zaxis": {
            "backgroundcolor": "#E5ECF6",
            "gridcolor": "white",
            "gridwidth": 2,
            "linecolor": "white",
            "showbackground": true,
            "ticks": "",
            "zerolinecolor": "white"
           }
          },
          "shapedefaults": {
           "line": {
            "color": "#2a3f5f"
           }
          },
          "ternary": {
           "aaxis": {
            "gridcolor": "white",
            "linecolor": "white",
            "ticks": ""
           },
           "baxis": {
            "gridcolor": "white",
            "linecolor": "white",
            "ticks": ""
           },
           "bgcolor": "#E5ECF6",
           "caxis": {
            "gridcolor": "white",
            "linecolor": "white",
            "ticks": ""
           }
          },
          "title": {
           "x": 0.05
          },
          "xaxis": {
           "automargin": true,
           "gridcolor": "white",
           "linecolor": "white",
           "ticks": "",
           "title": {
            "standoff": 15
           },
           "zerolinecolor": "white",
           "zerolinewidth": 2
          },
          "yaxis": {
           "automargin": true,
           "gridcolor": "white",
           "linecolor": "white",
           "ticks": "",
           "title": {
            "standoff": 15
           },
           "zerolinecolor": "white",
           "zerolinewidth": 2
          }
         }
        },
        "title": {
         "text": "Perturbed Source EMC - Sigma: 0.25"
        },
        "width": 1200,
        "xaxis": {
         "anchor": "y",
         "autorange": true,
         "domain": [
          0,
          1
         ],
         "range": [
          -0.5,
          5.5
         ],
         "type": "category"
        },
        "yaxis": {
         "anchor": "x",
         "autorange": true,
         "domain": [
          0,
          1
         ],
         "range": [
          0.9859888888888889,
          1.0002111111111112
         ],
         "title": {
          "text": "EMC"
         },
         "type": "linear"
        }
       }
      },
      "image/png": "[encoded data removed]",
      "text/html": [
       "<div>                            <div id=\"3f9b7ae4-4781-441c-982f-5059813e3989\" class=\"plotly-graph-div\" style=\"height:800px; width:1200px;\"></div>            <script type=\"text/javascript\">                require([\"plotly\"], function(Plotly) {                    window.PLOTLYENV=window.PLOTLYENV || {};                                    if (document.getElementById(\"3f9b7ae4-4781-441c-982f-5059813e3989\")) {                    Plotly.newPlot(                        \"3f9b7ae4-4781-441c-982f-5059813e3989\",                        [{\"name\":\"Factor 1\",\"y\":[0.9983,0.998,0.9959,0.9994,0.9984,0.9979,0.9992,0.9977,0.9985,0.9976],\"type\":\"box\"},{\"name\":\"Factor 2\",\"y\":[0.9934,0.9977,0.9989,0.9968,0.9943,0.9976,0.9913,0.9971,0.9968,0.9956],\"type\":\"box\"},{\"name\":\"Factor 3\",\"y\":[0.999,0.9971,0.9988,0.9981,0.9985,0.9982,0.9985,0.9977,0.9979,0.9967],\"type\":\"box\"},{\"name\":\"Factor 4\",\"y\":[0.9984,0.9987,0.9987,0.9995,0.9958,0.9981,0.9989,0.9984,0.9981,0.9988],\"type\":\"box\"},{\"name\":\"Factor 5\",\"y\":[0.9891,0.9944,0.9872,0.9951,0.989,0.9923,0.9954,0.9952,0.9867,0.994],\"type\":\"box\"},{\"name\":\"Factor 6\",\"y\":[0.9983,0.9984,0.9992,0.9982,0.9988,0.9991,0.9986,0.9992,0.9985,0.9991],\"type\":\"box\"}],                        {\"template\":{\"data\":{\"histogram2dcontour\":[{\"type\":\"histogram2dcontour\",\"colorbar\":{\"outlinewidth\":0,\"ticks\":\"\"},\"colorscale\":[[0.0,\"#0d0887\"],[0.1111111111111111,\"#46039f\"],[0.2222222222222222,\"#7201a8\"],[0.3333333333333333,\"#9c179e\"],[0.4444444444444444,\"#bd3786\"],[0.5555555555555556,\"#d8576b\"],[0.6666666666666666,\"#ed7953\"],[0.7777777777777778,\"#fb9f3a\"],[0.8888888888888888,\"#fdca26\"],[1.0,\"#f0f921\"]]}],\"choropleth\":[{\"type\":\"choropleth\",\"colorbar\":{\"outlinewidth\":0,\"ticks\":\"\"}}],\"histogram2d\":[{\"type\":\"histogram2d\",\"colorbar\":{\"outlinewidth\":0,\"ticks\":\"\"},\"colorscale\":[[0.0,\"#0d0887\"],[0.1111111111111111,\"#46039f\"],[0.2222222222222222,\"#7201a8\"],[0.3333333333333333,\"#9c179e\"],[0.4444444444444444,\"#bd3786\"],[0.5555555555555556,\"#d8576b\"],[0.6666666666666666,\"#ed7953\"],[0.7777777777777778,\"#fb9f3a\"],[0.8888888888888888,\"#fdca26\"],[1.0,\"#f0f921\"]]}],\"heatmap\":[{\"type\":\"heatmap\",\"colorbar\":{\"outlinewidth\":0,\"ticks\":\"\"},\"colorscale\":[[0.0,\"#0d0887\"],[0.1111111111111111,\"#46039f\"],[0.2222222222222222,\"#7201a8\"],[0.3333333333333333,\"#9c179e\"],[0.4444444444444444,\"#bd3786\"],[0.5555555555555556,\"#d8576b\"],[0.6666666666666666,\"#ed7953\"],[0.7777777777777778,\"#fb9f3a\"],[0.8888888888888888,\"#fdca26\"],[1.0,\"#f0f921\"]]}],\"heatmapgl\":[{\"type\":\"heatmapgl\",\"colorbar\":{\"outlinewidth\":0,\"ticks\":\"\"},\"colorscale\":[[0.0,\"#0d0887\"],[0.1111111111111111,\"#46039f\"],[0.2222222222222222,\"#7201a8\"],[0.3333333333333333,\"#9c179e\"],[0.4444444444444444,\"#bd3786\"],[0.5555555555555556,\"#d8576b\"],[0.6666666666666666,\"#ed7953\"],[0.7777777777777778,\"#fb9f3a\"],[0.8888888888888888,\"#fdca26\"],[1.0,\"#f0f921\"]]}],\"contourcarpet\":[{\"type\":\"contourcarpet\",\"colorbar\":{\"outlinewidth\":0,\"ticks\":\"\"}}],\"contour\":[{\"type\":\"contour\",\"colorbar\":{\"outlinewidth\":0,\"ticks\":\"\"},\"colorscale\":[[0.0,\"#0d0887\"],[0.1111111111111111,\"#46039f\"],[0.2222222222222222,\"#7201a8\"],[0.3333333333333333,\"#9c179e\"],[0.4444444444444444,\"#bd3786\"],[0.5555555555555556,\"#d8576b\"],[0.6666666666666666,\"#ed7953\"],[0.7777777777777778,\"#fb9f3a\"],[0.8888888888888888,\"#fdca26\"],[1.0,\"#f0f921\"]]}],\"surface\":[{\"type\":\"surface\",\"colorbar\":{\"outlinewidth\":0,\"ticks\":\"\"},\"colorscale\":[[0.0,\"#0d0887\"],[0.1111111111111111,\"#46039f\"],[0.2222222222222222,\"#7201a8\"],[0.3333333333333333,\"#9c179e\"],[0.4444444444444444,\"#bd3786\"],[0.5555555555555556,\"#d8576b\"],[0.6666666666666666,\"#ed7953\"],[0.7777777777777778,\"#fb9f3a\"],[0.8888888888888888,\"#fdca26\"],[1.0,\"#f0f921\"]]}],\"mesh3d\":[{\"type\":\"mesh3d\",\"colorbar\":{\"outlinewidth\":0,\"ticks\":\"\"}}],\"scatter\":[{\"fillpattern\":{\"fillmode\":\"overlay\",\"size\":10,\"solidity\":0.2},\"type\":\"scatter\"}],\"parcoords\":[{\"type\":\"parcoords\",\"line\":{\"colorbar\":{\"outlinewidth\":0,\"ticks\":\"\"}}}],\"scatterpolargl\":[{\"type\":\"scatterpolargl\",\"marker\":{\"colorbar\":{\"outlinewidth\":0,\"ticks\":\"\"}}}],\"bar\":[{\"error_x\":{\"color\":\"#2a3f5f\"},\"error_y\":{\"color\":\"#2a3f5f\"},\"marker\":{\"line\":{\"color\":\"#E5ECF6\",\"width\":0.5},\"pattern\":{\"fillmode\":\"overlay\",\"size\":10,\"solidity\":0.2}},\"type\":\"bar\"}],\"scattergeo\":[{\"type\":\"scattergeo\",\"marker\":{\"colorbar\":{\"outlinewidth\":0,\"ticks\":\"\"}}}],\"scatterpolar\":[{\"type\":\"scatterpolar\",\"marker\":{\"colorbar\":{\"outlinewidth\":0,\"ticks\":\"\"}}}],\"histogram\":[{\"marker\":{\"pattern\":{\"fillmode\":\"overlay\",\"size\":10,\"solidity\":0.2}},\"type\":\"histogram\"}],\"scattergl\":[{\"type\":\"scattergl\",\"marker\":{\"colorbar\":{\"outlinewidth\":0,\"ticks\":\"\"}}}],\"scatter3d\":[{\"type\":\"scatter3d\",\"line\":{\"colorbar\":{\"outlinewidth\":0,\"ticks\":\"\"}},\"marker\":{\"colorbar\":{\"outlinewidth\":0,\"ticks\":\"\"}}}],\"scattermapbox\":[{\"type\":\"scattermapbox\",\"marker\":{\"colorbar\":{\"outlinewidth\":0,\"ticks\":\"\"}}}],\"scatterternary\":[{\"type\":\"scatterternary\",\"marker\":{\"colorbar\":{\"outlinewidth\":0,\"ticks\":\"\"}}}],\"scattercarpet\":[{\"type\":\"scattercarpet\",\"marker\":{\"colorbar\":{\"outlinewidth\":0,\"ticks\":\"\"}}}],\"carpet\":[{\"aaxis\":{\"endlinecolor\":\"#2a3f5f\",\"gridcolor\":\"white\",\"linecolor\":\"white\",\"minorgridcolor\":\"white\",\"startlinecolor\":\"#2a3f5f\"},\"baxis\":{\"endlinecolor\":\"#2a3f5f\",\"gridcolor\":\"white\",\"linecolor\":\"white\",\"minorgridcolor\":\"white\",\"startlinecolor\":\"#2a3f5f\"},\"type\":\"carpet\"}],\"table\":[{\"cells\":{\"fill\":{\"color\":\"#EBF0F8\"},\"line\":{\"color\":\"white\"}},\"header\":{\"fill\":{\"color\":\"#C8D4E3\"},\"line\":{\"color\":\"white\"}},\"type\":\"table\"}],\"barpolar\":[{\"marker\":{\"line\":{\"color\":\"#E5ECF6\",\"width\":0.5},\"pattern\":{\"fillmode\":\"overlay\",\"size\":10,\"solidity\":0.2}},\"type\":\"barpolar\"}],\"pie\":[{\"automargin\":true,\"type\":\"pie\"}]},\"layout\":{\"autotypenumbers\":\"strict\",\"colorway\":[\"#636efa\",\"#EF553B\",\"#00cc96\",\"#ab63fa\",\"#FFA15A\",\"#19d3f3\",\"#FF6692\",\"#B6E880\",\"#FF97FF\",\"#FECB52\"],\"font\":{\"color\":\"#2a3f5f\"},\"hovermode\":\"closest\",\"hoverlabel\":{\"align\":\"left\"},\"paper_bgcolor\":\"white\",\"plot_bgcolor\":\"#E5ECF6\",\"polar\":{\"bgcolor\":\"#E5ECF6\",\"angularaxis\":{\"gridcolor\":\"white\",\"linecolor\":\"white\",\"ticks\":\"\"},\"radialaxis\":{\"gridcolor\":\"white\",\"linecolor\":\"white\",\"ticks\":\"\"}},\"ternary\":{\"bgcolor\":\"#E5ECF6\",\"aaxis\":{\"gridcolor\":\"white\",\"linecolor\":\"white\",\"ticks\":\"\"},\"baxis\":{\"gridcolor\":\"white\",\"linecolor\":\"white\",\"ticks\":\"\"},\"caxis\":{\"gridcolor\":\"white\",\"linecolor\":\"white\",\"ticks\":\"\"}},\"coloraxis\":{\"colorbar\":{\"outlinewidth\":0,\"ticks\":\"\"}},\"colorscale\":{\"sequential\":[[0.0,\"#0d0887\"],[0.1111111111111111,\"#46039f\"],[0.2222222222222222,\"#7201a8\"],[0.3333333333333333,\"#9c179e\"],[0.4444444444444444,\"#bd3786\"],[0.5555555555555556,\"#d8576b\"],[0.6666666666666666,\"#ed7953\"],[0.7777777777777778,\"#fb9f3a\"],[0.8888888888888888,\"#fdca26\"],[1.0,\"#f0f921\"]],\"sequentialminus\":[[0.0,\"#0d0887\"],[0.1111111111111111,\"#46039f\"],[0.2222222222222222,\"#7201a8\"],[0.3333333333333333,\"#9c179e\"],[0.4444444444444444,\"#bd3786\"],[0.5555555555555556,\"#d8576b\"],[0.6666666666666666,\"#ed7953\"],[0.7777777777777778,\"#fb9f3a\"],[0.8888888888888888,\"#fdca26\"],[1.0,\"#f0f921\"]],\"diverging\":[[0,\"#8e0152\"],[0.1,\"#c51b7d\"],[0.2,\"#de77ae\"],[0.3,\"#f1b6da\"],[0.4,\"#fde0ef\"],[0.5,\"#f7f7f7\"],[0.6,\"#e6f5d0\"],[0.7,\"#b8e186\"],[0.8,\"#7fbc41\"],[0.9,\"#4d9221\"],[1,\"#276419\"]]},\"xaxis\":{\"gridcolor\":\"white\",\"linecolor\":\"white\",\"ticks\":\"\",\"title\":{\"standoff\":15},\"zerolinecolor\":\"white\",\"automargin\":true,\"zerolinewidth\":2},\"yaxis\":{\"gridcolor\":\"white\",\"linecolor\":\"white\",\"ticks\":\"\",\"title\":{\"standoff\":15},\"zerolinecolor\":\"white\",\"automargin\":true,\"zerolinewidth\":2},\"scene\":{\"xaxis\":{\"backgroundcolor\":\"#E5ECF6\",\"gridcolor\":\"white\",\"linecolor\":\"white\",\"showbackground\":true,\"ticks\":\"\",\"zerolinecolor\":\"white\",\"gridwidth\":2},\"yaxis\":{\"backgroundcolor\":\"#E5ECF6\",\"gridcolor\":\"white\",\"linecolor\":\"white\",\"showbackground\":true,\"ticks\":\"\",\"zerolinecolor\":\"white\",\"gridwidth\":2},\"zaxis\":{\"backgroundcolor\":\"#E5ECF6\",\"gridcolor\":\"white\",\"linecolor\":\"white\",\"showbackground\":true,\"ticks\":\"\",\"zerolinecolor\":\"white\",\"gridwidth\":2}},\"shapedefaults\":{\"line\":{\"color\":\"#2a3f5f\"}},\"annotationdefaults\":{\"arrowcolor\":\"#2a3f5f\",\"arrowhead\":0,\"arrowwidth\":1},\"geo\":{\"bgcolor\":\"white\",\"landcolor\":\"#E5ECF6\",\"subunitcolor\":\"white\",\"showland\":true,\"showlakes\":true,\"lakecolor\":\"white\"},\"title\":{\"x\":0.05},\"mapbox\":{\"style\":\"light\"}}},\"xaxis\":{\"anchor\":\"y\",\"domain\":[0.0,1.0]},\"yaxis\":{\"anchor\":\"x\",\"domain\":[0.0,1.0],\"title\":{\"text\":\"EMC\"}},\"shapes\":[{\"type\":\"line\",\"x0\":0,\"x1\":1,\"xref\":\"x domain\",\"y0\":0.996835,\"y1\":0.996835,\"yref\":\"y\"}],\"title\":{\"text\":\"Perturbed Source EMC - Sigma: 0.25\"},\"width\":1200,\"height\":800,\"hovermode\":\"x unified\"},                        {\"responsive\": true}                    ).then(function(){\n",
       "                            \n",
       "var gd = document.getElementById('3f9b7ae4-4781-441c-982f-5059813e3989');\n",
       "var x = new MutationObserver(function (mutations, observer) {{\n",
       "        var display = window.getComputedStyle(gd).display;\n",
       "        if (!display || display === 'none') {{\n",
       "            console.log([gd, 'removed!']);\n",
       "            Plotly.purge(gd);\n",
       "            observer.disconnect();\n",
       "        }}\n",
       "}});\n",
       "\n",
       "// Listen for the removal of the full notebook cells\n",
       "var notebookContainer = gd.closest('#notebook-container');\n",
       "if (notebookContainer) {{\n",
       "    x.observe(notebookContainer, {childList: true});\n",
       "}}\n",
       "\n",
       "// Listen for the clearing of the current output cell\n",
       "var outputEl = gd.closest('.output');\n",
       "if (outputEl) {{\n",
       "    x.observe(outputEl, {childList: true});\n",
       "}}\n",
       "\n",
       "                        })                };                });            </script>        </div>"
      ]
     },
     "metadata": {},
     "output_type": "display_data"
    }
   ],
   "source": [
    "# Figure 4\n",
    "factor_emc_fig = make_subplots()\n",
    "factor_emc = np.zeros(shape=(n_models, len(factor_labels)))\n",
    "for i, v in emc_mapping_results[1].items():\n",
    "    i_mapping = emc_mapping_results[0][i]\n",
    "    factor_emc[i] = np.array(v)[i_mapping]\n",
    "for i in range(len(factor_labels)):\n",
    "    i_emc_means = factor_emc[:,i]\n",
    "    factor_emc_fig.add_trace(go.Box(y=i_emc_means, name=factor_labels[i]))\n",
    "factor_emc_fig.add_hline(y=np.mean(factor_emc))\n",
    "factor_emc_fig.update_layout(title=f\"Perturbed Source EMC - Sigma: {perturb_sigma}\", width=1200, height=800, hovermode='x unified')\n",
    "factor_emc_fig.update_yaxes(title_text=\"EMC\")\n",
    "factor_emc_fig.show()"
   ]
  },
  {
   "cell_type": "code",
   "execution_count": null,
   "id": "804a17ad-28ff-4dd4-a31d-0fe30a0697c2",
   "metadata": {},
   "outputs": [
    {
     "data": {
      "application/vnd.plotly.v1+json": {
       "config": {
        "plotlyServerURL": "https://plot.ly"
       },
       "data": [
        {
         "name": "Feature 1",
         "type": "box",
         "xaxis": "x",
         "y": [
          0.08544700927401255,
          0.08333352039063509,
          0.07746757554483862,
          0.0726117955439918,
          0.08388972314905484,
          0.08479188721540487,
          0.0894383484776291,
          0.07836165134646517,
          0.09191654181209928,
          0.08705045371061569
         ],
         "yaxis": "y"
        },
        {
         "name": "Feature 2",
         "type": "box",
         "xaxis": "x",
         "y": [
          0.0441168737776897,
          0.04296656852911029,
          0.04326123250546346,
          0.040550065143184065,
          0.044964002052966155,
          0.03865330081949624,
          0.042928927302415675,
          0.0326752548229176,
          0.04520626930656381,
          0.045116370322452484
         ],
         "yaxis": "y"
        },
        {
         "name": "Feature 3",
         "type": "box",
         "xaxis": "x",
         "y": [
          0.8636248557634549,
          0.8597350521652436,
          0.8617172384714346,
          0.8591078443939645,
          0.8611647875393456,
          0.8701852050630704,
          0.8636506936701798,
          0.8671058177941243,
          0.8588534545949122,
          0.8711978703776632
         ],
         "yaxis": "y"
        },
        {
         "name": "Feature 4",
         "type": "box",
         "xaxis": "x",
         "y": [
          0.4834882834527122,
          0.4842689229703255,
          0.4921959333873774,
          0.4924651539458273,
          0.4755413751956756,
          0.5092294861182196,
          0.4733736790201488,
          0.49889355847596434,
          0.47607581908649665,
          0.48311786662946415
         ],
         "yaxis": "y"
        },
        {
         "name": "Feature 5",
         "type": "box",
         "xaxis": "x",
         "y": [
          0.009458427729906937,
          0.011520123823293147,
          0.023639779814965123,
          0.01986203431146664,
          0.015618272911142027,
          0.014131689005885373,
          0.011370360529879346,
          0.014705523283741587,
          0.026528933482155067,
          0.02908661958615239
         ],
         "yaxis": "y"
        },
        {
         "name": "Feature 6",
         "type": "box",
         "xaxis": "x",
         "y": [
          7.797025364236569e-14,
          5.983675452147141e-15,
          2.5007711446100297e-11,
          2.2169694870590733e-12,
          6.989204459491206e-17,
          7.282822893195451e-13,
          2.999907616271495e-12,
          7.019996611635669e-14,
          1.3734551241183387e-14,
          1.2516204943703945e-11
         ],
         "yaxis": "y"
        },
        {
         "name": "Feature 7",
         "type": "box",
         "xaxis": "x",
         "y": [
          0.1804585165533878,
          0.16560401976998237,
          0.16090484702401286,
          0.17101284216025714,
          0.15653883716031575,
          0.15390735005742262,
          0.1639160633268305,
          0.1578564125779867,
          0.16024638811487013,
          0.15308416527432542
         ],
         "yaxis": "y"
        },
        {
         "name": "Feature 8",
         "type": "box",
         "xaxis": "x",
         "y": [
          0.23185978698568022,
          0.24714231529830644,
          0.22837696326582413,
          0.23749488141456138,
          0.23694329428462996,
          0.241634990084072,
          0.22560509423170155,
          0.235786435878711,
          0.2330833250307898,
          0.2557684709716338
         ],
         "yaxis": "y"
        },
        {
         "name": "Feature 9",
         "type": "box",
         "xaxis": "x",
         "y": [
          0.22499387653479613,
          0.23361898040138385,
          0.22368969073384282,
          0.21708974406229467,
          0.22472505671540693,
          0.2341435580231634,
          0.2246003846377718,
          0.2328657509269215,
          0.23659404470672113,
          0.2342967085726289
         ],
         "yaxis": "y"
        },
        {
         "name": "Feature 10",
         "type": "box",
         "xaxis": "x",
         "y": [
          0.9710635503044056,
          0.9698203149373029,
          0.9733077009283843,
          0.9735562544522719,
          0.9690852802901371,
          0.9730371540877555,
          0.9710192655413721,
          0.9725535085232392,
          0.9727939215986536,
          0.973280309576596
         ],
         "yaxis": "y"
        },
        {
         "name": "Feature 11",
         "type": "box",
         "xaxis": "x",
         "y": [
          0.974264693483729,
          0.9732240803437949,
          0.9755603274939698,
          0.9736696279400145,
          0.9676768652365194,
          0.9754787646591717,
          0.9753801348339171,
          0.9744673646946129,
          0.9737926401285706,
          0.9753461495780877
         ],
         "yaxis": "y"
        },
        {
         "name": "Feature 12",
         "type": "box",
         "xaxis": "x",
         "y": [
          0.03557766420961734,
          0.024588205444915672,
          0.026837096052859048,
          0.01566869040894089,
          0.02575877794982125,
          0.012776914235258669,
          0.026205914988196903,
          0.02533046235230049,
          0.027001884631210917,
          0.035142374444615605
         ],
         "yaxis": "y"
        },
        {
         "name": "Feature 13",
         "type": "box",
         "xaxis": "x",
         "y": [
          0.5838065598432208,
          0.5832093546005408,
          0.5856101587774857,
          0.5846786435497232,
          0.5912012676297983,
          0.5821135695705373,
          0.6058649659702887,
          0.604975259374499,
          0.587813796384065,
          0.5777166936046159
         ],
         "yaxis": "y"
        },
        {
         "name": "Feature 14",
         "type": "box",
         "xaxis": "x",
         "y": [
          7.294132945807114e-06,
          3.7725506427779754e-08,
          3.548941710926834e-08,
          2.281870739428489e-06,
          0.010311564005128962,
          0.0001431426146431535,
          1.4084081348100435e-08,
          2.879844505015382e-11,
          0.0037156091288300915,
          1.236642796941328e-06
         ],
         "yaxis": "y"
        },
        {
         "name": "Feature 15",
         "type": "box",
         "xaxis": "x",
         "y": [
          0.18451021100935125,
          0.1806307213500117,
          0.1941526072241764,
          0.1926789791914204,
          0.18818252056854692,
          0.18818434175261523,
          0.19492979695607293,
          0.1875835518077613,
          0.19363299014372654,
          0.19149700635990843
         ],
         "yaxis": "y"
        },
        {
         "name": "Feature 16",
         "type": "box",
         "xaxis": "x",
         "y": [
          0.04200476078279624,
          0.04340644630588532,
          0.039642271080499274,
          0.043738253251316035,
          0.035555621582936965,
          0.03709983038162568,
          0.03612547611969307,
          0.042006019328716795,
          0.03604071961054002,
          0.037744556690875605
         ],
         "yaxis": "y"
        },
        {
         "name": "Feature 17",
         "type": "box",
         "xaxis": "x",
         "y": [
          0.013684382594244059,
          3.5116462062468268e-06,
          5.9595422170539475e-05,
          0.004876711781457528,
          0.016023877054726934,
          0.009041417356732109,
          0.01347512916306206,
          0.007714486531299955,
          0.01219838033552217,
          0.016371378614292605
         ],
         "yaxis": "y"
        },
        {
         "name": "Feature 18",
         "type": "box",
         "xaxis": "x",
         "y": [
          0.04972612822492682,
          0.07051555242660053,
          0.06807883504542059,
          0.07298024149714939,
          0.05083858545959444,
          0.05751534713751567,
          0.040527871937680836,
          0.081021664589468,
          0.07249457275164144,
          0.057363527847396685
         ],
         "yaxis": "y"
        },
        {
         "name": "Feature 19",
         "type": "box",
         "xaxis": "x",
         "y": [
          0.1980911938472452,
          0.1857881284629898,
          0.21302105846589509,
          0.2018551538360259,
          0.2035910645834634,
          0.20302555735715855,
          0.20440374778775794,
          0.2093586688572672,
          0.19984414751494275,
          0.20513520237141056
         ],
         "yaxis": "y"
        },
        {
         "name": "Feature 20",
         "type": "box",
         "xaxis": "x",
         "y": [
          8.021432615143991e-36,
          6.122515090634126e-35,
          5.7478896541909105e-36,
          3.271502225460324e-36,
          9.48158062217058e-37,
          1.8765782362417527e-33,
          1.4763566209626716e-34,
          1.490430400380112e-34,
          2.4665737929040435e-33,
          3.9311664757903167e-35
         ],
         "yaxis": "y"
        },
        {
         "name": "Feature 21",
         "type": "box",
         "xaxis": "x",
         "y": [
          1.3282479665010798e-32,
          7.608794013252226e-35,
          7.381566854747461e-36,
          3.8811317089838423e-33,
          1.048045101549317e-44,
          1.6137095884419026e-34,
          9.452778718673669e-36,
          3.928590116195369e-32,
          7.2067131778996616e-34,
          6.283667288784592e-36
         ],
         "yaxis": "y"
        },
        {
         "name": "Feature 22",
         "type": "box",
         "xaxis": "x",
         "y": [
          1.0467049313569473e-38,
          1.8144890952108597e-33,
          2.5553240086882105e-38,
          1.9237589844771104e-38,
          2.8673485076811736e-51,
          3.3393336639837554e-40,
          3.4727993365932986e-36,
          1.0716139411982122e-33,
          2.2211724328357374e-40,
          4.077560239680843e-37
         ],
         "yaxis": "y"
        },
        {
         "name": "Feature 23",
         "type": "box",
         "xaxis": "x",
         "y": [
          0.11029765824895695,
          0.1077024380497174,
          0.11123494169305112,
          0.1023063414557389,
          0.11899184341158112,
          0.10969019815952834,
          0.1158430255773311,
          0.10455011869123443,
          0.11337019802802008,
          0.1104637684484968
         ],
         "yaxis": "y"
        },
        {
         "name": "Feature 24",
         "type": "box",
         "xaxis": "x",
         "y": [
          0.2790515116153442,
          0.2967904786178271,
          0.31413082939912523,
          0.3338183063400364,
          0.29492732728183385,
          0.3163218350618432,
          0.29549996649248383,
          0.3148741017680662,
          0.3047693830996722,
          0.2938017573330088
         ],
         "yaxis": "y"
        },
        {
         "marker": {
          "color": "black"
         },
         "mode": "markers",
         "name": "Base",
         "type": "scatter",
         "x": [
          "Feature 1",
          "Feature 2",
          "Feature 3",
          "Feature 4",
          "Feature 5",
          "Feature 6",
          "Feature 7",
          "Feature 8",
          "Feature 9",
          "Feature 10",
          "Feature 11",
          "Feature 12",
          "Feature 13",
          "Feature 14",
          "Feature 15",
          "Feature 16",
          "Feature 17",
          "Feature 18",
          "Feature 19",
          "Feature 20",
          "Feature 21",
          "Feature 22",
          "Feature 23",
          "Feature 24"
         ],
         "xaxis": "x",
         "y": [
          0.08492905137576548,
          0.038364587145538705,
          0.8619870386963224,
          0.5016299227274388,
          0.02062200393262325,
          8.799179626652415e-09,
          0.16238966986660727,
          0.23819127481729135,
          0.23062307225022402,
          0.9722628614866323,
          0.9748365977177736,
          0.024846249618471428,
          0.5867787344588665,
          2.3831351272483285e-05,
          0.18669823585661433,
          0.04180219276337179,
          0.0026407049700329257,
          0.0662512112178535,
          0.2074047764020728,
          5.334888903084819e-34,
          5.584906143815127e-29,
          7.10033979560071e-30,
          0.10848927540728996,
          0.3025007834180162
         ],
         "yaxis": "y"
        }
       ],
       "layout": {
        "height": 800,
        "hovermode": "x unified",
        "template": {
         "data": {
          "bar": [
           {
            "error_x": {
             "color": "#2a3f5f"
            },
            "error_y": {
             "color": "#2a3f5f"
            },
            "marker": {
             "line": {
              "color": "#E5ECF6",
              "width": 0.5
             },
             "pattern": {
              "fillmode": "overlay",
              "size": 10,
              "solidity": 0.2
             }
            },
            "type": "bar"
           }
          ],
          "barpolar": [
           {
            "marker": {
             "line": {
              "color": "#E5ECF6",
              "width": 0.5
             },
             "pattern": {
              "fillmode": "overlay",
              "size": 10,
              "solidity": 0.2
             }
            },
            "type": "barpolar"
           }
          ],
          "carpet": [
           {
            "aaxis": {
             "endlinecolor": "#2a3f5f",
             "gridcolor": "white",
             "linecolor": "white",
             "minorgridcolor": "white",
             "startlinecolor": "#2a3f5f"
            },
            "baxis": {
             "endlinecolor": "#2a3f5f",
             "gridcolor": "white",
             "linecolor": "white",
             "minorgridcolor": "white",
             "startlinecolor": "#2a3f5f"
            },
            "type": "carpet"
           }
          ],
          "choropleth": [
           {
            "colorbar": {
             "outlinewidth": 0,
             "ticks": ""
            },
            "type": "choropleth"
           }
          ],
          "contour": [
           {
            "colorbar": {
             "outlinewidth": 0,
             "ticks": ""
            },
            "colorscale": [
             [
              0,
              "#0d0887"
             ],
             [
              0.1111111111111111,
              "#46039f"
             ],
             [
              0.2222222222222222,
              "#7201a8"
             ],
             [
              0.3333333333333333,
              "#9c179e"
             ],
             [
              0.4444444444444444,
              "#bd3786"
             ],
             [
              0.5555555555555556,
              "#d8576b"
             ],
             [
              0.6666666666666666,
              "#ed7953"
             ],
             [
              0.7777777777777778,
              "#fb9f3a"
             ],
             [
              0.8888888888888888,
              "#fdca26"
             ],
             [
              1,
              "#f0f921"
             ]
            ],
            "type": "contour"
           }
          ],
          "contourcarpet": [
           {
            "colorbar": {
             "outlinewidth": 0,
             "ticks": ""
            },
            "type": "contourcarpet"
           }
          ],
          "heatmap": [
           {
            "colorbar": {
             "outlinewidth": 0,
             "ticks": ""
            },
            "colorscale": [
             [
              0,
              "#0d0887"
             ],
             [
              0.1111111111111111,
              "#46039f"
             ],
             [
              0.2222222222222222,
              "#7201a8"
             ],
             [
              0.3333333333333333,
              "#9c179e"
             ],
             [
              0.4444444444444444,
              "#bd3786"
             ],
             [
              0.5555555555555556,
              "#d8576b"
             ],
             [
              0.6666666666666666,
              "#ed7953"
             ],
             [
              0.7777777777777778,
              "#fb9f3a"
             ],
             [
              0.8888888888888888,
              "#fdca26"
             ],
             [
              1,
              "#f0f921"
             ]
            ],
            "type": "heatmap"
           }
          ],
          "heatmapgl": [
           {
            "colorbar": {
             "outlinewidth": 0,
             "ticks": ""
            },
            "colorscale": [
             [
              0,
              "#0d0887"
             ],
             [
              0.1111111111111111,
              "#46039f"
             ],
             [
              0.2222222222222222,
              "#7201a8"
             ],
             [
              0.3333333333333333,
              "#9c179e"
             ],
             [
              0.4444444444444444,
              "#bd3786"
             ],
             [
              0.5555555555555556,
              "#d8576b"
             ],
             [
              0.6666666666666666,
              "#ed7953"
             ],
             [
              0.7777777777777778,
              "#fb9f3a"
             ],
             [
              0.8888888888888888,
              "#fdca26"
             ],
             [
              1,
              "#f0f921"
             ]
            ],
            "type": "heatmapgl"
           }
          ],
          "histogram": [
           {
            "marker": {
             "pattern": {
              "fillmode": "overlay",
              "size": 10,
              "solidity": 0.2
             }
            },
            "type": "histogram"
           }
          ],
          "histogram2d": [
           {
            "colorbar": {
             "outlinewidth": 0,
             "ticks": ""
            },
            "colorscale": [
             [
              0,
              "#0d0887"
             ],
             [
              0.1111111111111111,
              "#46039f"
             ],
             [
              0.2222222222222222,
              "#7201a8"
             ],
             [
              0.3333333333333333,
              "#9c179e"
             ],
             [
              0.4444444444444444,
              "#bd3786"
             ],
             [
              0.5555555555555556,
              "#d8576b"
             ],
             [
              0.6666666666666666,
              "#ed7953"
             ],
             [
              0.7777777777777778,
              "#fb9f3a"
             ],
             [
              0.8888888888888888,
              "#fdca26"
             ],
             [
              1,
              "#f0f921"
             ]
            ],
            "type": "histogram2d"
           }
          ],
          "histogram2dcontour": [
           {
            "colorbar": {
             "outlinewidth": 0,
             "ticks": ""
            },
            "colorscale": [
             [
              0,
              "#0d0887"
             ],
             [
              0.1111111111111111,
              "#46039f"
             ],
             [
              0.2222222222222222,
              "#7201a8"
             ],
             [
              0.3333333333333333,
              "#9c179e"
             ],
             [
              0.4444444444444444,
              "#bd3786"
             ],
             [
              0.5555555555555556,
              "#d8576b"
             ],
             [
              0.6666666666666666,
              "#ed7953"
             ],
             [
              0.7777777777777778,
              "#fb9f3a"
             ],
             [
              0.8888888888888888,
              "#fdca26"
             ],
             [
              1,
              "#f0f921"
             ]
            ],
            "type": "histogram2dcontour"
           }
          ],
          "mesh3d": [
           {
            "colorbar": {
             "outlinewidth": 0,
             "ticks": ""
            },
            "type": "mesh3d"
           }
          ],
          "parcoords": [
           {
            "line": {
             "colorbar": {
              "outlinewidth": 0,
              "ticks": ""
             }
            },
            "type": "parcoords"
           }
          ],
          "pie": [
           {
            "automargin": true,
            "type": "pie"
           }
          ],
          "scatter": [
           {
            "fillpattern": {
             "fillmode": "overlay",
             "size": 10,
             "solidity": 0.2
            },
            "type": "scatter"
           }
          ],
          "scatter3d": [
           {
            "line": {
             "colorbar": {
              "outlinewidth": 0,
              "ticks": ""
             }
            },
            "marker": {
             "colorbar": {
              "outlinewidth": 0,
              "ticks": ""
             }
            },
            "type": "scatter3d"
           }
          ],
          "scattercarpet": [
           {
            "marker": {
             "colorbar": {
              "outlinewidth": 0,
              "ticks": ""
             }
            },
            "type": "scattercarpet"
           }
          ],
          "scattergeo": [
           {
            "marker": {
             "colorbar": {
              "outlinewidth": 0,
              "ticks": ""
             }
            },
            "type": "scattergeo"
           }
          ],
          "scattergl": [
           {
            "marker": {
             "colorbar": {
              "outlinewidth": 0,
              "ticks": ""
             }
            },
            "type": "scattergl"
           }
          ],
          "scattermapbox": [
           {
            "marker": {
             "colorbar": {
              "outlinewidth": 0,
              "ticks": ""
             }
            },
            "type": "scattermapbox"
           }
          ],
          "scatterpolar": [
           {
            "marker": {
             "colorbar": {
              "outlinewidth": 0,
              "ticks": ""
             }
            },
            "type": "scatterpolar"
           }
          ],
          "scatterpolargl": [
           {
            "marker": {
             "colorbar": {
              "outlinewidth": 0,
              "ticks": ""
             }
            },
            "type": "scatterpolargl"
           }
          ],
          "scatterternary": [
           {
            "marker": {
             "colorbar": {
              "outlinewidth": 0,
              "ticks": ""
             }
            },
            "type": "scatterternary"
           }
          ],
          "surface": [
           {
            "colorbar": {
             "outlinewidth": 0,
             "ticks": ""
            },
            "colorscale": [
             [
              0,
              "#0d0887"
             ],
             [
              0.1111111111111111,
              "#46039f"
             ],
             [
              0.2222222222222222,
              "#7201a8"
             ],
             [
              0.3333333333333333,
              "#9c179e"
             ],
             [
              0.4444444444444444,
              "#bd3786"
             ],
             [
              0.5555555555555556,
              "#d8576b"
             ],
             [
              0.6666666666666666,
              "#ed7953"
             ],
             [
              0.7777777777777778,
              "#fb9f3a"
             ],
             [
              0.8888888888888888,
              "#fdca26"
             ],
             [
              1,
              "#f0f921"
             ]
            ],
            "type": "surface"
           }
          ],
          "table": [
           {
            "cells": {
             "fill": {
              "color": "#EBF0F8"
             },
             "line": {
              "color": "white"
             }
            },
            "header": {
             "fill": {
              "color": "#C8D4E3"
             },
             "line": {
              "color": "white"
             }
            },
            "type": "table"
           }
          ]
         },
         "layout": {
          "annotationdefaults": {
           "arrowcolor": "#2a3f5f",
           "arrowhead": 0,
           "arrowwidth": 1
          },
          "autotypenumbers": "strict",
          "coloraxis": {
           "colorbar": {
            "outlinewidth": 0,
            "ticks": ""
           }
          },
          "colorscale": {
           "diverging": [
            [
             0,
             "#8e0152"
            ],
            [
             0.1,
             "#c51b7d"
            ],
            [
             0.2,
             "#de77ae"
            ],
            [
             0.3,
             "#f1b6da"
            ],
            [
             0.4,
             "#fde0ef"
            ],
            [
             0.5,
             "#f7f7f7"
            ],
            [
             0.6,
             "#e6f5d0"
            ],
            [
             0.7,
             "#b8e186"
            ],
            [
             0.8,
             "#7fbc41"
            ],
            [
             0.9,
             "#4d9221"
            ],
            [
             1,
             "#276419"
            ]
           ],
           "sequential": [
            [
             0,
             "#0d0887"
            ],
            [
             0.1111111111111111,
             "#46039f"
            ],
            [
             0.2222222222222222,
             "#7201a8"
            ],
            [
             0.3333333333333333,
             "#9c179e"
            ],
            [
             0.4444444444444444,
             "#bd3786"
            ],
            [
             0.5555555555555556,
             "#d8576b"
            ],
            [
             0.6666666666666666,
             "#ed7953"
            ],
            [
             0.7777777777777778,
             "#fb9f3a"
            ],
            [
             0.8888888888888888,
             "#fdca26"
            ],
            [
             1,
             "#f0f921"
            ]
           ],
           "sequentialminus": [
            [
             0,
             "#0d0887"
            ],
            [
             0.1111111111111111,
             "#46039f"
            ],
            [
             0.2222222222222222,
             "#7201a8"
            ],
            [
             0.3333333333333333,
             "#9c179e"
            ],
            [
             0.4444444444444444,
             "#bd3786"
            ],
            [
             0.5555555555555556,
             "#d8576b"
            ],
            [
             0.6666666666666666,
             "#ed7953"
            ],
            [
             0.7777777777777778,
             "#fb9f3a"
            ],
            [
             0.8888888888888888,
             "#fdca26"
            ],
            [
             1,
             "#f0f921"
            ]
           ]
          },
          "colorway": [
           "#636efa",
           "#EF553B",
           "#00cc96",
           "#ab63fa",
           "#FFA15A",
           "#19d3f3",
           "#FF6692",
           "#B6E880",
           "#FF97FF",
           "#FECB52"
          ],
          "font": {
           "color": "#2a3f5f"
          },
          "geo": {
           "bgcolor": "white",
           "lakecolor": "white",
           "landcolor": "#E5ECF6",
           "showlakes": true,
           "showland": true,
           "subunitcolor": "white"
          },
          "hoverlabel": {
           "align": "left"
          },
          "hovermode": "closest",
          "mapbox": {
           "style": "light"
          },
          "paper_bgcolor": "white",
          "plot_bgcolor": "#E5ECF6",
          "polar": {
           "angularaxis": {
            "gridcolor": "white",
            "linecolor": "white",
            "ticks": ""
           },
           "bgcolor": "#E5ECF6",
           "radialaxis": {
            "gridcolor": "white",
            "linecolor": "white",
            "ticks": ""
           }
          },
          "scene": {
           "xaxis": {
            "backgroundcolor": "#E5ECF6",
            "gridcolor": "white",
            "gridwidth": 2,
            "linecolor": "white",
            "showbackground": true,
            "ticks": "",
            "zerolinecolor": "white"
           },
           "yaxis": {
            "backgroundcolor": "#E5ECF6",
            "gridcolor": "white",
            "gridwidth": 2,
            "linecolor": "white",
            "showbackground": true,
            "ticks": "",
            "zerolinecolor": "white"
           },
           "zaxis": {
            "backgroundcolor": "#E5ECF6",
            "gridcolor": "white",
            "gridwidth": 2,
            "linecolor": "white",
            "showbackground": true,
            "ticks": "",
            "zerolinecolor": "white"
           }
          },
          "shapedefaults": {
           "line": {
            "color": "#2a3f5f"
           }
          },
          "ternary": {
           "aaxis": {
            "gridcolor": "white",
            "linecolor": "white",
            "ticks": ""
           },
           "baxis": {
            "gridcolor": "white",
            "linecolor": "white",
            "ticks": ""
           },
           "bgcolor": "#E5ECF6",
           "caxis": {
            "gridcolor": "white",
            "linecolor": "white",
            "ticks": ""
           }
          },
          "title": {
           "x": 0.05
          },
          "xaxis": {
           "automargin": true,
           "gridcolor": "white",
           "linecolor": "white",
           "ticks": "",
           "title": {
            "standoff": 15
           },
           "zerolinecolor": "white",
           "zerolinewidth": 2
          },
          "yaxis": {
           "automargin": true,
           "gridcolor": "white",
           "linecolor": "white",
           "ticks": "",
           "title": {
            "standoff": 15
           },
           "zerolinecolor": "white",
           "zerolinewidth": 2
          }
         }
        },
        "title": {
         "text": "Perturbed Factor 1 Profile Results"
        },
        "width": 1200,
        "xaxis": {
         "anchor": "y",
         "autorange": true,
         "domain": [
          0,
          0.94
         ],
         "range": [
          -1.3947843944510783,
          24.39478439445108
         ],
         "type": "category"
        },
        "yaxis": {
         "anchor": "x",
         "autorange": true,
         "domain": [
          0,
          1
         ],
         "range": [
          -0.0615360068495779,
          1.0363726045673516
         ],
         "title": {
          "text": "Normalized Profile"
         },
         "type": "linear"
        },
        "yaxis2": {
         "anchor": "x",
         "overlaying": "y",
         "side": "right"
        }
       }
      },
      "image/png": "[encoded data removed]",
      "text/html": [
       "<div>                            <div id=\"ed1eb259-96d4-4bdc-9f37-1721aae663f4\" class=\"plotly-graph-div\" style=\"height:800px; width:1200px;\"></div>            <script type=\"text/javascript\">                require([\"plotly\"], function(Plotly) {                    window.PLOTLYENV=window.PLOTLYENV || {};                                    if (document.getElementById(\"ed1eb259-96d4-4bdc-9f37-1721aae663f4\")) {                    Plotly.newPlot(                        \"ed1eb259-96d4-4bdc-9f37-1721aae663f4\",                        [{\"name\":\"Feature 1\",\"y\":[0.08544700927401255,0.08333352039063509,0.07746757554483862,0.0726117955439918,0.08388972314905484,0.08479188721540487,0.0894383484776291,0.07836165134646517,0.09191654181209928,0.08705045371061569],\"type\":\"box\",\"xaxis\":\"x\",\"yaxis\":\"y\"},{\"name\":\"Feature 2\",\"y\":[0.0441168737776897,0.04296656852911029,0.04326123250546346,0.040550065143184065,0.044964002052966155,0.03865330081949624,0.042928927302415675,0.0326752548229176,0.04520626930656381,0.045116370322452484],\"type\":\"box\",\"xaxis\":\"x\",\"yaxis\":\"y\"},{\"name\":\"Feature 3\",\"y\":[0.8636248557634549,0.8597350521652436,0.8617172384714346,0.8591078443939645,0.8611647875393456,0.8701852050630704,0.8636506936701798,0.8671058177941243,0.8588534545949122,0.8711978703776632],\"type\":\"box\",\"xaxis\":\"x\",\"yaxis\":\"y\"},{\"name\":\"Feature 4\",\"y\":[0.4834882834527122,0.4842689229703255,0.4921959333873774,0.4924651539458273,0.4755413751956756,0.5092294861182196,0.4733736790201488,0.49889355847596434,0.47607581908649665,0.48311786662946415],\"type\":\"box\",\"xaxis\":\"x\",\"yaxis\":\"y\"},{\"name\":\"Feature 5\",\"y\":[0.009458427729906937,0.011520123823293147,0.023639779814965123,0.01986203431146664,0.015618272911142027,0.014131689005885373,0.011370360529879346,0.014705523283741587,0.026528933482155067,0.02908661958615239],\"type\":\"box\",\"xaxis\":\"x\",\"yaxis\":\"y\"},{\"name\":\"Feature 6\",\"y\":[7.797025364236569e-14,5.983675452147141e-15,2.5007711446100297e-11,2.2169694870590733e-12,6.989204459491206e-17,7.282822893195451e-13,2.999907616271495e-12,7.019996611635669e-14,1.3734551241183387e-14,1.2516204943703945e-11],\"type\":\"box\",\"xaxis\":\"x\",\"yaxis\":\"y\"},{\"name\":\"Feature 7\",\"y\":[0.1804585165533878,0.16560401976998237,0.16090484702401286,0.17101284216025714,0.15653883716031575,0.15390735005742262,0.1639160633268305,0.1578564125779867,0.16024638811487013,0.15308416527432542],\"type\":\"box\",\"xaxis\":\"x\",\"yaxis\":\"y\"},{\"name\":\"Feature 8\",\"y\":[0.23185978698568022,0.24714231529830644,0.22837696326582413,0.23749488141456138,0.23694329428462996,0.241634990084072,0.22560509423170155,0.235786435878711,0.2330833250307898,0.2557684709716338],\"type\":\"box\",\"xaxis\":\"x\",\"yaxis\":\"y\"},{\"name\":\"Feature 9\",\"y\":[0.22499387653479613,0.23361898040138385,0.22368969073384282,0.21708974406229467,0.22472505671540693,0.2341435580231634,0.2246003846377718,0.2328657509269215,0.23659404470672113,0.2342967085726289],\"type\":\"box\",\"xaxis\":\"x\",\"yaxis\":\"y\"},{\"name\":\"Feature 10\",\"y\":[0.9710635503044056,0.9698203149373029,0.9733077009283843,0.9735562544522719,0.9690852802901371,0.9730371540877555,0.9710192655413721,0.9725535085232392,0.9727939215986536,0.973280309576596],\"type\":\"box\",\"xaxis\":\"x\",\"yaxis\":\"y\"},{\"name\":\"Feature 11\",\"y\":[0.974264693483729,0.9732240803437949,0.9755603274939698,0.9736696279400145,0.9676768652365194,0.9754787646591717,0.9753801348339171,0.9744673646946129,0.9737926401285706,0.9753461495780877],\"type\":\"box\",\"xaxis\":\"x\",\"yaxis\":\"y\"},{\"name\":\"Feature 12\",\"y\":[0.03557766420961734,0.024588205444915672,0.026837096052859048,0.01566869040894089,0.02575877794982125,0.012776914235258669,0.026205914988196903,0.02533046235230049,0.027001884631210917,0.035142374444615605],\"type\":\"box\",\"xaxis\":\"x\",\"yaxis\":\"y\"},{\"name\":\"Feature 13\",\"y\":[0.5838065598432208,0.5832093546005408,0.5856101587774857,0.5846786435497232,0.5912012676297983,0.5821135695705373,0.6058649659702887,0.604975259374499,0.587813796384065,0.5777166936046159],\"type\":\"box\",\"xaxis\":\"x\",\"yaxis\":\"y\"},{\"name\":\"Feature 14\",\"y\":[7.294132945807114e-06,3.7725506427779754e-08,3.548941710926834e-08,2.281870739428489e-06,0.010311564005128962,0.0001431426146431535,1.4084081348100435e-08,2.879844505015382e-11,0.0037156091288300915,1.236642796941328e-06],\"type\":\"box\",\"xaxis\":\"x\",\"yaxis\":\"y\"},{\"name\":\"Feature 15\",\"y\":[0.18451021100935125,0.1806307213500117,0.1941526072241764,0.1926789791914204,0.18818252056854692,0.18818434175261523,0.19492979695607293,0.1875835518077613,0.19363299014372654,0.19149700635990843],\"type\":\"box\",\"xaxis\":\"x\",\"yaxis\":\"y\"},{\"name\":\"Feature 16\",\"y\":[0.04200476078279624,0.04340644630588532,0.039642271080499274,0.043738253251316035,0.035555621582936965,0.03709983038162568,0.03612547611969307,0.042006019328716795,0.03604071961054002,0.037744556690875605],\"type\":\"box\",\"xaxis\":\"x\",\"yaxis\":\"y\"},{\"name\":\"Feature 17\",\"y\":[0.013684382594244059,3.5116462062468268e-06,5.9595422170539475e-05,0.004876711781457528,0.016023877054726934,0.009041417356732109,0.01347512916306206,0.007714486531299955,0.01219838033552217,0.016371378614292605],\"type\":\"box\",\"xaxis\":\"x\",\"yaxis\":\"y\"},{\"name\":\"Feature 18\",\"y\":[0.04972612822492682,0.07051555242660053,0.06807883504542059,0.07298024149714939,0.05083858545959444,0.05751534713751567,0.040527871937680836,0.081021664589468,0.07249457275164144,0.057363527847396685],\"type\":\"box\",\"xaxis\":\"x\",\"yaxis\":\"y\"},{\"name\":\"Feature 19\",\"y\":[0.1980911938472452,0.1857881284629898,0.21302105846589509,0.2018551538360259,0.2035910645834634,0.20302555735715855,0.20440374778775794,0.2093586688572672,0.19984414751494275,0.20513520237141056],\"type\":\"box\",\"xaxis\":\"x\",\"yaxis\":\"y\"},{\"name\":\"Feature 20\",\"y\":[8.021432615143991e-36,6.122515090634126e-35,5.7478896541909105e-36,3.271502225460324e-36,9.48158062217058e-37,1.8765782362417527e-33,1.4763566209626716e-34,1.490430400380112e-34,2.4665737929040435e-33,3.9311664757903167e-35],\"type\":\"box\",\"xaxis\":\"x\",\"yaxis\":\"y\"},{\"name\":\"Feature 21\",\"y\":[1.3282479665010798e-32,7.608794013252226e-35,7.381566854747461e-36,3.8811317089838423e-33,1.048045101549317e-44,1.6137095884419026e-34,9.452778718673669e-36,3.928590116195369e-32,7.2067131778996616e-34,6.283667288784592e-36],\"type\":\"box\",\"xaxis\":\"x\",\"yaxis\":\"y\"},{\"name\":\"Feature 22\",\"y\":[1.0467049313569473e-38,1.8144890952108597e-33,2.5553240086882105e-38,1.9237589844771104e-38,2.8673485076811736e-51,3.3393336639837554e-40,3.4727993365932986e-36,1.0716139411982122e-33,2.2211724328357374e-40,4.077560239680843e-37],\"type\":\"box\",\"xaxis\":\"x\",\"yaxis\":\"y\"},{\"name\":\"Feature 23\",\"y\":[0.11029765824895695,0.1077024380497174,0.11123494169305112,0.1023063414557389,0.11899184341158112,0.10969019815952834,0.1158430255773311,0.10455011869123443,0.11337019802802008,0.1104637684484968],\"type\":\"box\",\"xaxis\":\"x\",\"yaxis\":\"y\"},{\"name\":\"Feature 24\",\"y\":[0.2790515116153442,0.2967904786178271,0.31413082939912523,0.3338183063400364,0.29492732728183385,0.3163218350618432,0.29549996649248383,0.3148741017680662,0.3047693830996722,0.2938017573330088],\"type\":\"box\",\"xaxis\":\"x\",\"yaxis\":\"y\"},{\"marker\":{\"color\":\"black\"},\"mode\":\"markers\",\"name\":\"Base\",\"x\":[\"Feature 1\",\"Feature 2\",\"Feature 3\",\"Feature 4\",\"Feature 5\",\"Feature 6\",\"Feature 7\",\"Feature 8\",\"Feature 9\",\"Feature 10\",\"Feature 11\",\"Feature 12\",\"Feature 13\",\"Feature 14\",\"Feature 15\",\"Feature 16\",\"Feature 17\",\"Feature 18\",\"Feature 19\",\"Feature 20\",\"Feature 21\",\"Feature 22\",\"Feature 23\",\"Feature 24\"],\"y\":[0.08492905137576548,0.038364587145538705,0.8619870386963224,0.5016299227274388,0.02062200393262325,8.799179626652415e-09,0.16238966986660727,0.23819127481729135,0.23062307225022402,0.9722628614866323,0.9748365977177736,0.024846249618471428,0.5867787344588665,2.3831351272483285e-05,0.18669823585661433,0.04180219276337179,0.0026407049700329257,0.0662512112178535,0.2074047764020728,5.334888903084819e-34,5.584906143815127e-29,7.10033979560071e-30,0.10848927540728996,0.3025007834180162],\"type\":\"scatter\",\"xaxis\":\"x\",\"yaxis\":\"y\"}],                        {\"template\":{\"data\":{\"histogram2dcontour\":[{\"type\":\"histogram2dcontour\",\"colorbar\":{\"outlinewidth\":0,\"ticks\":\"\"},\"colorscale\":[[0.0,\"#0d0887\"],[0.1111111111111111,\"#46039f\"],[0.2222222222222222,\"#7201a8\"],[0.3333333333333333,\"#9c179e\"],[0.4444444444444444,\"#bd3786\"],[0.5555555555555556,\"#d8576b\"],[0.6666666666666666,\"#ed7953\"],[0.7777777777777778,\"#fb9f3a\"],[0.8888888888888888,\"#fdca26\"],[1.0,\"#f0f921\"]]}],\"choropleth\":[{\"type\":\"choropleth\",\"colorbar\":{\"outlinewidth\":0,\"ticks\":\"\"}}],\"histogram2d\":[{\"type\":\"histogram2d\",\"colorbar\":{\"outlinewidth\":0,\"ticks\":\"\"},\"colorscale\":[[0.0,\"#0d0887\"],[0.1111111111111111,\"#46039f\"],[0.2222222222222222,\"#7201a8\"],[0.3333333333333333,\"#9c179e\"],[0.4444444444444444,\"#bd3786\"],[0.5555555555555556,\"#d8576b\"],[0.6666666666666666,\"#ed7953\"],[0.7777777777777778,\"#fb9f3a\"],[0.8888888888888888,\"#fdca26\"],[1.0,\"#f0f921\"]]}],\"heatmap\":[{\"type\":\"heatmap\",\"colorbar\":{\"outlinewidth\":0,\"ticks\":\"\"},\"colorscale\":[[0.0,\"#0d0887\"],[0.1111111111111111,\"#46039f\"],[0.2222222222222222,\"#7201a8\"],[0.3333333333333333,\"#9c179e\"],[0.4444444444444444,\"#bd3786\"],[0.5555555555555556,\"#d8576b\"],[0.6666666666666666,\"#ed7953\"],[0.7777777777777778,\"#fb9f3a\"],[0.8888888888888888,\"#fdca26\"],[1.0,\"#f0f921\"]]}],\"heatmapgl\":[{\"type\":\"heatmapgl\",\"colorbar\":{\"outlinewidth\":0,\"ticks\":\"\"},\"colorscale\":[[0.0,\"#0d0887\"],[0.1111111111111111,\"#46039f\"],[0.2222222222222222,\"#7201a8\"],[0.3333333333333333,\"#9c179e\"],[0.4444444444444444,\"#bd3786\"],[0.5555555555555556,\"#d8576b\"],[0.6666666666666666,\"#ed7953\"],[0.7777777777777778,\"#fb9f3a\"],[0.8888888888888888,\"#fdca26\"],[1.0,\"#f0f921\"]]}],\"contourcarpet\":[{\"type\":\"contourcarpet\",\"colorbar\":{\"outlinewidth\":0,\"ticks\":\"\"}}],\"contour\":[{\"type\":\"contour\",\"colorbar\":{\"outlinewidth\":0,\"ticks\":\"\"},\"colorscale\":[[0.0,\"#0d0887\"],[0.1111111111111111,\"#46039f\"],[0.2222222222222222,\"#7201a8\"],[0.3333333333333333,\"#9c179e\"],[0.4444444444444444,\"#bd3786\"],[0.5555555555555556,\"#d8576b\"],[0.6666666666666666,\"#ed7953\"],[0.7777777777777778,\"#fb9f3a\"],[0.8888888888888888,\"#fdca26\"],[1.0,\"#f0f921\"]]}],\"surface\":[{\"type\":\"surface\",\"colorbar\":{\"outlinewidth\":0,\"ticks\":\"\"},\"colorscale\":[[0.0,\"#0d0887\"],[0.1111111111111111,\"#46039f\"],[0.2222222222222222,\"#7201a8\"],[0.3333333333333333,\"#9c179e\"],[0.4444444444444444,\"#bd3786\"],[0.5555555555555556,\"#d8576b\"],[0.6666666666666666,\"#ed7953\"],[0.7777777777777778,\"#fb9f3a\"],[0.8888888888888888,\"#fdca26\"],[1.0,\"#f0f921\"]]}],\"mesh3d\":[{\"type\":\"mesh3d\",\"colorbar\":{\"outlinewidth\":0,\"ticks\":\"\"}}],\"scatter\":[{\"fillpattern\":{\"fillmode\":\"overlay\",\"size\":10,\"solidity\":0.2},\"type\":\"scatter\"}],\"parcoords\":[{\"type\":\"parcoords\",\"line\":{\"colorbar\":{\"outlinewidth\":0,\"ticks\":\"\"}}}],\"scatterpolargl\":[{\"type\":\"scatterpolargl\",\"marker\":{\"colorbar\":{\"outlinewidth\":0,\"ticks\":\"\"}}}],\"bar\":[{\"error_x\":{\"color\":\"#2a3f5f\"},\"error_y\":{\"color\":\"#2a3f5f\"},\"marker\":{\"line\":{\"color\":\"#E5ECF6\",\"width\":0.5},\"pattern\":{\"fillmode\":\"overlay\",\"size\":10,\"solidity\":0.2}},\"type\":\"bar\"}],\"scattergeo\":[{\"type\":\"scattergeo\",\"marker\":{\"colorbar\":{\"outlinewidth\":0,\"ticks\":\"\"}}}],\"scatterpolar\":[{\"type\":\"scatterpolar\",\"marker\":{\"colorbar\":{\"outlinewidth\":0,\"ticks\":\"\"}}}],\"histogram\":[{\"marker\":{\"pattern\":{\"fillmode\":\"overlay\",\"size\":10,\"solidity\":0.2}},\"type\":\"histogram\"}],\"scattergl\":[{\"type\":\"scattergl\",\"marker\":{\"colorbar\":{\"outlinewidth\":0,\"ticks\":\"\"}}}],\"scatter3d\":[{\"type\":\"scatter3d\",\"line\":{\"colorbar\":{\"outlinewidth\":0,\"ticks\":\"\"}},\"marker\":{\"colorbar\":{\"outlinewidth\":0,\"ticks\":\"\"}}}],\"scattermapbox\":[{\"type\":\"scattermapbox\",\"marker\":{\"colorbar\":{\"outlinewidth\":0,\"ticks\":\"\"}}}],\"scatterternary\":[{\"type\":\"scatterternary\",\"marker\":{\"colorbar\":{\"outlinewidth\":0,\"ticks\":\"\"}}}],\"scattercarpet\":[{\"type\":\"scattercarpet\",\"marker\":{\"colorbar\":{\"outlinewidth\":0,\"ticks\":\"\"}}}],\"carpet\":[{\"aaxis\":{\"endlinecolor\":\"#2a3f5f\",\"gridcolor\":\"white\",\"linecolor\":\"white\",\"minorgridcolor\":\"white\",\"startlinecolor\":\"#2a3f5f\"},\"baxis\":{\"endlinecolor\":\"#2a3f5f\",\"gridcolor\":\"white\",\"linecolor\":\"white\",\"minorgridcolor\":\"white\",\"startlinecolor\":\"#2a3f5f\"},\"type\":\"carpet\"}],\"table\":[{\"cells\":{\"fill\":{\"color\":\"#EBF0F8\"},\"line\":{\"color\":\"white\"}},\"header\":{\"fill\":{\"color\":\"#C8D4E3\"},\"line\":{\"color\":\"white\"}},\"type\":\"table\"}],\"barpolar\":[{\"marker\":{\"line\":{\"color\":\"#E5ECF6\",\"width\":0.5},\"pattern\":{\"fillmode\":\"overlay\",\"size\":10,\"solidity\":0.2}},\"type\":\"barpolar\"}],\"pie\":[{\"automargin\":true,\"type\":\"pie\"}]},\"layout\":{\"autotypenumbers\":\"strict\",\"colorway\":[\"#636efa\",\"#EF553B\",\"#00cc96\",\"#ab63fa\",\"#FFA15A\",\"#19d3f3\",\"#FF6692\",\"#B6E880\",\"#FF97FF\",\"#FECB52\"],\"font\":{\"color\":\"#2a3f5f\"},\"hovermode\":\"closest\",\"hoverlabel\":{\"align\":\"left\"},\"paper_bgcolor\":\"white\",\"plot_bgcolor\":\"#E5ECF6\",\"polar\":{\"bgcolor\":\"#E5ECF6\",\"angularaxis\":{\"gridcolor\":\"white\",\"linecolor\":\"white\",\"ticks\":\"\"},\"radialaxis\":{\"gridcolor\":\"white\",\"linecolor\":\"white\",\"ticks\":\"\"}},\"ternary\":{\"bgcolor\":\"#E5ECF6\",\"aaxis\":{\"gridcolor\":\"white\",\"linecolor\":\"white\",\"ticks\":\"\"},\"baxis\":{\"gridcolor\":\"white\",\"linecolor\":\"white\",\"ticks\":\"\"},\"caxis\":{\"gridcolor\":\"white\",\"linecolor\":\"white\",\"ticks\":\"\"}},\"coloraxis\":{\"colorbar\":{\"outlinewidth\":0,\"ticks\":\"\"}},\"colorscale\":{\"sequential\":[[0.0,\"#0d0887\"],[0.1111111111111111,\"#46039f\"],[0.2222222222222222,\"#7201a8\"],[0.3333333333333333,\"#9c179e\"],[0.4444444444444444,\"#bd3786\"],[0.5555555555555556,\"#d8576b\"],[0.6666666666666666,\"#ed7953\"],[0.7777777777777778,\"#fb9f3a\"],[0.8888888888888888,\"#fdca26\"],[1.0,\"#f0f921\"]],\"sequentialminus\":[[0.0,\"#0d0887\"],[0.1111111111111111,\"#46039f\"],[0.2222222222222222,\"#7201a8\"],[0.3333333333333333,\"#9c179e\"],[0.4444444444444444,\"#bd3786\"],[0.5555555555555556,\"#d8576b\"],[0.6666666666666666,\"#ed7953\"],[0.7777777777777778,\"#fb9f3a\"],[0.8888888888888888,\"#fdca26\"],[1.0,\"#f0f921\"]],\"diverging\":[[0,\"#8e0152\"],[0.1,\"#c51b7d\"],[0.2,\"#de77ae\"],[0.3,\"#f1b6da\"],[0.4,\"#fde0ef\"],[0.5,\"#f7f7f7\"],[0.6,\"#e6f5d0\"],[0.7,\"#b8e186\"],[0.8,\"#7fbc41\"],[0.9,\"#4d9221\"],[1,\"#276419\"]]},\"xaxis\":{\"gridcolor\":\"white\",\"linecolor\":\"white\",\"ticks\":\"\",\"title\":{\"standoff\":15},\"zerolinecolor\":\"white\",\"automargin\":true,\"zerolinewidth\":2},\"yaxis\":{\"gridcolor\":\"white\",\"linecolor\":\"white\",\"ticks\":\"\",\"title\":{\"standoff\":15},\"zerolinecolor\":\"white\",\"automargin\":true,\"zerolinewidth\":2},\"scene\":{\"xaxis\":{\"backgroundcolor\":\"#E5ECF6\",\"gridcolor\":\"white\",\"linecolor\":\"white\",\"showbackground\":true,\"ticks\":\"\",\"zerolinecolor\":\"white\",\"gridwidth\":2},\"yaxis\":{\"backgroundcolor\":\"#E5ECF6\",\"gridcolor\":\"white\",\"linecolor\":\"white\",\"showbackground\":true,\"ticks\":\"\",\"zerolinecolor\":\"white\",\"gridwidth\":2},\"zaxis\":{\"backgroundcolor\":\"#E5ECF6\",\"gridcolor\":\"white\",\"linecolor\":\"white\",\"showbackground\":true,\"ticks\":\"\",\"zerolinecolor\":\"white\",\"gridwidth\":2}},\"shapedefaults\":{\"line\":{\"color\":\"#2a3f5f\"}},\"annotationdefaults\":{\"arrowcolor\":\"#2a3f5f\",\"arrowhead\":0,\"arrowwidth\":1},\"geo\":{\"bgcolor\":\"white\",\"landcolor\":\"#E5ECF6\",\"subunitcolor\":\"white\",\"showland\":true,\"showlakes\":true,\"lakecolor\":\"white\"},\"title\":{\"x\":0.05},\"mapbox\":{\"style\":\"light\"}}},\"xaxis\":{\"anchor\":\"y\",\"domain\":[0.0,0.94]},\"yaxis\":{\"anchor\":\"x\",\"domain\":[0.0,1.0],\"title\":{\"text\":\"Normalized Profile\"}},\"yaxis2\":{\"anchor\":\"x\",\"overlaying\":\"y\",\"side\":\"right\"},\"title\":{\"text\":\"Perturbed Factor 1 Profile Results\"},\"width\":1200,\"height\":800,\"hovermode\":\"x unified\"},                        {\"responsive\": true}                    ).then(function(){\n",
       "                            \n",
       "var gd = document.getElementById('ed1eb259-96d4-4bdc-9f37-1721aae663f4');\n",
       "var x = new MutationObserver(function (mutations, observer) {{\n",
       "        var display = window.getComputedStyle(gd).display;\n",
       "        if (!display || display === 'none') {{\n",
       "            console.log([gd, 'removed!']);\n",
       "            Plotly.purge(gd);\n",
       "            observer.disconnect();\n",
       "        }}\n",
       "}});\n",
       "\n",
       "// Listen for the removal of the full notebook cells\n",
       "var notebookContainer = gd.closest('#notebook-container');\n",
       "if (notebookContainer) {{\n",
       "    x.observe(notebookContainer, {childList: true});\n",
       "}}\n",
       "\n",
       "// Listen for the clearing of the current output cell\n",
       "var outputEl = gd.closest('.output');\n",
       "if (outputEl) {{\n",
       "    x.observe(outputEl, {childList: true});\n",
       "}}\n",
       "\n",
       "                        })                };                });            </script>        </div>"
      ]
     },
     "metadata": {},
     "output_type": "display_data"
    }
   ],
   "source": [
    "factor_i = 1\n",
    "factor_p0_fig = make_subplots(specs=[[{\"secondary_y\": True}]])\n",
    "for i in range(len(feature_labels)):\n",
    "    f_feature_i = perturb_H[factor_i,i]\n",
    "    factor_p0_fig.add_trace(go.Box(y=f_feature_i, name=feature_labels[i]), secondary_y=False)\n",
    "factor_p0_fig.add_trace(go.Scatter(x=feature_labels, y=base_H[factor_i], name=\"Base\", mode=\"markers\", marker_color=\"black\"), secondary_y=False)\n",
    "factor_p0_fig.update_layout(title=f\"Perturbed Factor {factor_i} Profile Results\", width=1200, height=800, hovermode='x unified')\n",
    "factor_p0_fig.update_yaxes(title_text=\"Normalized Profile\", secondary_y=False)\n",
    "factor_p0_fig.show()"
   ]
  },
  {
   "cell_type": "code",
   "execution_count": null,
   "id": "7e0829e7-67bb-4206-a1a8-76dd9771fb23",
   "metadata": {},
   "outputs": [],
   "source": []
  },
  {
   "cell_type": "code",
   "execution_count": null,
   "id": "56275785-b88d-4f77-ae28-614ad739a147",
   "metadata": {},
   "outputs": [],
   "source": []
  },
  {
   "cell_type": "code",
   "execution_count": null,
   "id": "4001717d-883b-47c9-9ec3-baf3a53c98d5",
   "metadata": {},
   "outputs": [],
   "source": [
    "def run_batch_perturbation(factors, v, u, random_seed, v_collection=None, batches=10, perturb_p=0.5, perturb_v=0.05, models=100, max_iter=20000, converge_n=20, converge_delta=0.01, threshold=0.9):\n",
    "    batch_collections = []\n",
    "    for b in trange(batches, desc='Running Perturbation Instances'):\n",
    "        b_seed = rng.integers(low=1, high=1e10)\n",
    "        batch_results = run_perturbation(factors=factors, v=v, u=u, random_seed=b_seed, v_collection=v_collection, perturb_p=perturb_p, perturb_v=perturb_v, models=n_models, max_iter=max_iter, converge_n=converge_n, converge_delta=converge_delta, threshold=threshold, pg_leave=False)\n",
    "        batch_collections.append(batch_results)\n",
    "    return batch_collections\n",
    "\n",
    "def check_factor_catalog_V(factor_V, factor_catalog):\n",
    "    best_r2 = 0.0\n",
    "    mapped_k = -1\n",
    "    for factor_i, factor_details in factor_catalog.items():\n",
    "        vk_r2_list = []\n",
    "        for f_Vk in factor_details[\"Vk\"]:\n",
    "            with np.errstate(divide='ignore', invalid='ignore'):\n",
    "                vk_r2 = FactorCompare.calculate_correlation(f_Vk.flatten(), factor_V.flatten())\n",
    "            vk_r2_list.append(vk_r2)\n",
    "        vk_r2_mean = np.mean(vk_r2_list)\n",
    "        if vk_r2_mean > best_r2:\n",
    "            best_r2 = vk_r2_mean\n",
    "            mapped_k = factor_details[\"idx\"]\n",
    "    return best_r2, mapped_k\n",
    "\n",
    "def map_batch_factors_V(batch_results, threshold=0.95):\n",
    "    base_models = [bm[\"base_model\"] for bm in batch_results]\n",
    "    base_wh = [bm[\"base_wh\"] for bm in batch_results]\n",
    "    factors = base_models[0].factors\n",
    "    factor_n = 0\n",
    "    factor_catalog = {}\n",
    "    for batch_i, batch_result in enumerate(base_models):\n",
    "        H_i = batch_result.H\n",
    "        norm_Hi = (H_i / np.sum(H_i, axis=0))\n",
    "        \n",
    "        wh_i = base_wh[batch_i]\n",
    "        for k in range(factors):\n",
    "            if batch_i == 0:\n",
    "                factor_catalog[f\"Factor {factor_n}\"] = {\"profile\": [norm_Hi[k]], \"Vk\": [wh_i[k]],  \"models\": [batch_i], \"r2\": [1.0], \"mapping\": [k], \"idx\": factor_n}\n",
    "                factor_n += 1\n",
    "            else:\n",
    "                best_r2, mapped_k = check_factor_catalog_V(wh_i[k], factor_catalog)\n",
    "                if best_r2 > threshold:\n",
    "                    factor_catalog[f\"Factor {mapped_k}\"][\"profile\"].append(norm_Hi[k])\n",
    "                    factor_catalog[f\"Factor {mapped_k}\"][\"models\"].append(batch_i)\n",
    "                    factor_catalog[f\"Factor {mapped_k}\"][\"r2\"].append(best_r2)\n",
    "                    factor_catalog[f\"Factor {mapped_k}\"][\"mapping\"].append(k)\n",
    "                    factor_catalog[f\"Factor {mapped_k}\"][\"Vk\"].append(wh_i[k])\n",
    "                else:\n",
    "                    factor_catalog[f\"Factor {factor_n}\"] = {\"profile\": [norm_Hi[k]], \"Vk\": [wh_i[k]], \"models\": [batch_i], \"r2\": [1.0], \"mapping\": [k], \"idx\": factor_n}\n",
    "                    factor_n += 1\n",
    "    return factor_catalog"
   ]
  },
  {
   "cell_type": "code",
   "execution_count": null,
   "id": "cf8881cd-73af-4867-b1ff-034698685b09",
   "metadata": {},
   "outputs": [],
   "source": [
    "%%time\n",
    "n_factors = 6\n",
    "n_batches = 20\n",
    "n_models = 5\n",
    "threshold = 0.95\n",
    "\n",
    "perturb_p = 0.5\n",
    "perturb_v = 0.05\n",
    "\n",
    "# The perturbed max percent change and percent occurrence can be defined by feature by providing a list of value, corresponding to a feature by index.\n",
    "# perturb_v = [ rng.uniform(low=0.0, high=0.1, size=None) for i in range(iV.shape[1])]\n",
    "# perturb_p = [ rng.uniform(low=0.1, high=0.5, size=None) for i in range(iV.shape[1])]\n",
    "\n",
    "batch_results = run_batch_perturbation(factors=n_factors, v=iV, u=iU, batches=n_batches, random_seed=random_seed, perturb_p=perturb_p, perturb_v=perturb_v, models=n_models, max_iter=10000, converge_n=20, converge_delta=0.01, threshold=threshold)"
   ]
  },
  {
   "cell_type": "code",
   "execution_count": null,
   "id": "6746cd6f-fdd4-4014-96ea-a3edc328a49e",
   "metadata": {},
   "outputs": [],
   "source": [
    "# Calculate the occurrences of each factor in all the batch base models\n",
    "\n",
    "profiles_dict = map_batch_factors_V(batch_results=batch_results)"
   ]
  },
  {
   "cell_type": "code",
   "execution_count": null,
   "id": "42f0015e-e002-4c31-9b15-b0ee07aa9382",
   "metadata": {},
   "outputs": [],
   "source": [
    "# factor_i = 1\n",
    "# f_name = f\"Factor {factor_i}\"\n",
    "# samples = list(range(batch_results[0][\"base_wh\"][0].shape[0]))\n",
    "# feature_j = 0\n",
    "\n",
    "# # # Feature line plot for \n",
    "# ffv_fig = make_subplots()\n",
    "# for f_i in range(len(profiles_dict[f_name][\"Vk\"])):\n",
    "#     ffv_fig.add_trace(go.Scatter(y=profiles_dict[f_name][\"Vk\"][f_i][:,feature_j], x=samples, name=f\"Model {profiles_dict[f_name][\"models\"][f_i]} - R2 {np.round(profiles_dict[f_name][\"r2\"][f_i],4)}\"))\n",
    "\n",
    "# ffv_fig.update_layout(title=f\"{f_name} - Feature {feature_j} Concentrations Across Models\", width=1200, height=800, hovermode='x unified')\n",
    "# ffv_fig.update_yaxes(title_text=\"Concentration\")\n",
    "# ffv_fig.show()"
   ]
  },
  {
   "cell_type": "code",
   "execution_count": null,
   "id": "610165b1-4d9a-462d-843a-e450fb00ee3e",
   "metadata": {},
   "outputs": [],
   "source": [
    "# Display factor counts, occurrences, and mean r2 value\n",
    "factor_occurrence = [round(100 * len(f[\"models\"])/n_batches, 2) for _, f in profiles_dict.items()]\n",
    "factor_count = [len(f[\"models\"]) for _, f in profiles_dict.items()]\n",
    "factor_mean_r2 = [round(np.mean(f[\"r2\"]), 4) for _, f in profiles_dict.items()]\n",
    "profiles_df = pd.DataFrame(data={\"factors\": profiles_dict.keys(), \"count\": factor_count,  \"% occurrence\": factor_occurrence, \"mean R2\": factor_mean_r2})\n",
    "profiles_df"
   ]
  },
  {
   "cell_type": "code",
   "execution_count": null,
   "id": "140cc1e5-5fd3-4180-8ca4-5155dac94959",
   "metadata": {},
   "outputs": [],
   "source": [
    "# Calculate scores for each of the models based upon the occurrences of the profiles across all batches\n",
    "model_scores = [0 for i in range(n_batches)]\n",
    "for f_name, factor_details in profiles_dict.items():\n",
    "    f_i = int(f_name.split(\" \")[1])\n",
    "    for i in factor_details[\"models\"]:\n",
    "        model_scores[i] += factor_occurrence[f_i]\n",
    "models_ranked = np.flip(np.argsort(model_scores))\n",
    "print(f\"Model Scores by Index: {model_scores}\")\n",
    "print(f\"Models Ordered by Score: {models_ranked}\")"
   ]
  },
  {
   "cell_type": "code",
   "execution_count": null,
   "id": "97ae0f95-fcac-4196-809d-74865c38eed4",
   "metadata": {},
   "outputs": [],
   "source": [
    "# Calcualte a specific factor profile range across all perturbations and models\n",
    "# For the specified factor, calculate the mean profile values from all the base models.\n",
    "# Then stack all perturbed models for that factor and generate box plot\n",
    "factor_selected = 1\n",
    "f_name = f\"Factor {factor_selected}\"\n",
    "f_details = profiles_dict[f_name]\n",
    "\n",
    "f_matrix = np.array(f_details[\"profile\"])\n",
    "f_matrix = np.dstack(f_matrix)[0]\n",
    "\n",
    "# Factor ranges from the base model profiles\n",
    "factor_base_fig = make_subplots()\n",
    "for i in range(len(feature_labels)):\n",
    "    b_feature_i = f_matrix[i]\n",
    "    factor_base_fig.add_trace(go.Box(y=b_feature_i, name=feature_labels[i]))\n",
    "\n",
    "factor_base_fig.update_layout(title=f\"Base Factor {factor_selected} Profile Results - N Models: {len(f_details[\"models\"])}\", width=1200, height=800, hovermode='x unified')\n",
    "factor_base_fig.update_yaxes(title_text=\"Normalized Profile\", range=[0, 1.0])\n",
    "factor_base_fig.show()\n",
    "\n",
    "# Factor profile ranges from the perturbed models which have a base model that mapped\n",
    "perturb_profile = []\n",
    "for i, base_i in enumerate(f_details[\"models\"]):\n",
    "    batch_result = batch_results[base_i][\"perturb_models\"]\n",
    "    mapped_factor = f_details['mapping'][i]\n",
    "    for p_model in batch_result:\n",
    "        norm_H = p_model.H / np.sum(p_model.H, axis=0)\n",
    "        perturb_profile.append(norm_H[mapped_factor])\n",
    "perturb_matrix = np.array(perturb_profile)\n",
    "perturb_matrix = np.dstack(perturb_matrix)[0]\n",
    "\n",
    "factor_p_fig = make_subplots()\n",
    "\n",
    "for i in range(len(feature_labels)):\n",
    "    b_feature_i = perturb_matrix[i]\n",
    "    factor_p_fig.add_trace(go.Box(y=b_feature_i, name=feature_labels[i])) \n",
    "factor_p_fig.add_trace(go.Scatter(x=feature_labels, y=np.mean(f_matrix, axis=1), name=\"Base Mean\", mode=\"markers\", marker_color=\"black\"))\n",
    "factor_p_fig.update_layout(title=f\"Perturbed Factor {factor_selected} Profile Results\", width=1200, height=800, hovermode='x unified')\n",
    "factor_p_fig.update_yaxes(title_text=\"Normalized Profile\", range=[0, 1.0])\n",
    "factor_p_fig.show()\n",
    "\n",
    "# Factor line plot from factor catalog\n",
    "factor_mapping_fig = make_subplots()\n",
    "for f_i in range(len(f_details[\"profile\"])):\n",
    "    factor_mapping_fig.add_trace(go.Scatter(y=f_details[\"profile\"][f_i], x=feature_labels, name=f\"Model {f_details[\"models\"][f_i]} - Factor {f_details[\"mapping\"][f_i]} - R2 {np.round(f_details[\"r2\"][f_i],4)}\"))\n",
    "\n",
    "factor_mapping_fig.update_layout(title=f\"{f_name} Mapping\", width=1200, height=800, hovermode='x unified')\n",
    "factor_mapping_fig.update_yaxes(title_text=\"Normalized Profile\", range=[0, 1.0])\n",
    "factor_mapping_fig.show()"
   ]
  },
  {
   "cell_type": "code",
   "execution_count": null,
   "id": "7c85116c-b5fb-4e28-86f8-ea91cdc1bce1",
   "metadata": {},
   "outputs": [],
   "source": [
    "# When running a large number of initial models use the mean values of the most frequent profiles as the initial profiles for a new SA model and see how well it performs, in terms of loss."
   ]
  },
  {
   "cell_type": "code",
   "execution_count": null,
   "id": "0320c8a8-8146-44a7-8a1b-cb1d58b21693",
   "metadata": {},
   "outputs": [],
   "source": [
    "profiles_df_sorted = profiles_df.sort_values(by='% occurrence', ascending=False)\n",
    "profiles_df_sorted"
   ]
  },
  {
   "cell_type": "code",
   "execution_count": null,
   "id": "c0fe045f-c1d7-4b75-95e6-abab6479cfc4",
   "metadata": {},
   "outputs": [],
   "source": [
    "optimal_factor_list = list(profiles_df_sorted[\"factors\"][0:5])\n",
    "optimal_factor_list"
   ]
  },
  {
   "cell_type": "code",
   "execution_count": null,
   "id": "6e05e369-221c-48a2-b221-22b81de2b90c",
   "metadata": {},
   "outputs": [],
   "source": [
    "# optimal_factor_list = ['Factor 4']"
   ]
  }
 ],
 "metadata": {
  "kernelspec": {
   "display_name": "Python 3 (ipykernel)",
   "language": "python",
   "name": "python3"
  },
  "language_info": {
   "codemirror_mode": {
    "name": "ipython",
    "version": 3
   },
   "file_extension": ".py",
   "mimetype": "text/x-python",
   "name": "python",
   "nbconvert_exporter": "python",
   "pygments_lexer": "ipython3",
   "version": "3.12.2"
  }
 },
 "nbformat": 4,
 "nbformat_minor": 5
}
