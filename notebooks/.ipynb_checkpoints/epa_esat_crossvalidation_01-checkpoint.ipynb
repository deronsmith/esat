{
 "cells": [
  {
   "cell_type": "markdown",
   "id": "5686853f-4655-4e79-af04-fe24aac1756e",
   "metadata": {},
   "source": [
    "## Environmental Source Apportionment Toolkit (ESAT) Cross-Validation\n",
    "\n",
    "*** TESTING NOTEBOOK ***\n",
    "\n",
    "This notebook is intended to test implementations of cross-validation of SA models for the purpose of estimating the optimal number of factors for a given dataset.\n",
    "\n",
    "The starting reference for this approach: http://alexhwilliams.info/itsneuronalblog/2018/02/26/crossval/\n",
    "\n",
    "Once an automated process has been developed, the approach can be validated using the synthetic data developed from the ESAT simulator.\n"
   ]
  },
  {
   "cell_type": "code",
   "execution_count": 1,
   "id": "e819075f-8cd8-401c-9b28-0d703dd7f3f8",
   "metadata": {},
   "outputs": [],
   "source": [
    "# Notebook imports\n",
    "import os\n",
    "import sys\n",
    "import json\n",
    "import copy\n",
    "import numpy as np\n",
    "import pandas as pd\n",
    "import multiprocessing as mp\n",
    "from tqdm import tqdm\n",
    "from scipy.cluster.vq import whiten\n",
    "import plotly.graph_objects as go"
   ]
  },
  {
   "cell_type": "markdown",
   "id": "770385fe-48ab-47c4-bdbb-50bab6950d05",
   "metadata": {},
   "source": [
    "#### Code Imports"
   ]
  },
  {
   "cell_type": "code",
   "execution_count": 2,
   "id": "c9de6b9e-89a5-4db8-94d4-2226605d9ae6",
   "metadata": {},
   "outputs": [],
   "source": [
    "from esat.data.datahandler import DataHandler\n",
    "from esat.model.sa import SA\n",
    "from esat.model.batch_sa import BatchSA\n",
    "from esat.data.analysis import ModelAnalysis, BatchAnalysis\n",
    "from esat.metrics import q_loss\n",
    "from esat_eval.simulator import Simulator"
   ]
  },
  {
   "cell_type": "markdown",
   "id": "5dfb2b9c-98ee-4482-a0f9-c06b1eeb651f",
   "metadata": {},
   "source": [
    "#### Sample Dataset\n",
    "The three sample datasets from PMF5 are available for use, but a new dataset can be used in their place."
   ]
  },
  {
   "cell_type": "code",
   "execution_count": 3,
   "id": "23a98e1e-93b6-4f09-8f34-70db43d1ee02",
   "metadata": {},
   "outputs": [],
   "source": [
    "# Synethic dataset parameters\n",
    "seed = 42\n",
    "syn_factors = 6                # Number of factors in the synthetic dataset\n",
    "syn_features = 40              # Number of features in the synthetic dataset\n",
    "syn_samples = 300             # Number of samples in the synthetic dataset\n",
    "outliers = True                # Add outliers to the dataset\n",
    "outlier_p = 0.10               # Decimal percent of outliers in the dataset\n",
    "outlier_mag = 1.25                # Magnitude of outliers\n",
    "contribution_max = 2           # Maximum value of the contribution matrix (W) (Randomly sampled from a uniform distribution)\n",
    "noise_mean_min = 0.03          # Min value for the mean of noise added to the synthetic dataset, used to randomly determine the mean decimal percentage of the noise for each feature.\n",
    "noise_mean_max = 0.05          # Max value for the mean of noise added to the synthetic dataset, used to randomly determine the mean decimal percentage of the noise for each feature.\n",
    "noise_scale = 0.02             # Scale of the noise added to the synthetic dataset\n",
    "uncertainty_mean_min = 0.04    # Min value for the mean uncertainty of a data feature, used to randomly determine the mean decimal percentage for each feature in the uncertainty dataset. \n",
    "uncertainty_mean_max = 0.06    # Max value for the mean uncertainty of a data feature, used to randomly determine the mean decimal percentage for each feature in the uncertainty dataset. \n",
    "uncertainty_scale = 0.01       # Scale of the uncertainty matrix"
   ]
  },
  {
   "cell_type": "code",
   "execution_count": 4,
   "id": "9347dab6-d04d-4937-a8ed-06c0adc5ff1f",
   "metadata": {},
   "outputs": [
    {
     "name": "stderr",
     "output_type": "stream",
     "text": [
      "08-May-24 15:54:24 - Synthetic profiles generated\n"
     ]
    }
   ],
   "source": [
    "# Initialize the simulator with the above parameters\n",
    "simulator = Simulator(seed=seed,\n",
    "                      factors_n=syn_factors,\n",
    "                      features_n=syn_features,\n",
    "                      samples_n=syn_samples,\n",
    "                      outliers=outliers,\n",
    "                      outlier_p=outlier_p,\n",
    "                      outlier_mag=outlier_mag,\n",
    "                      contribution_max=contribution_max,\n",
    "                      noise_mean_min=noise_mean_min,\n",
    "                      noise_mean_max=noise_mean_max,\n",
    "                      noise_scale=noise_scale,\n",
    "                      uncertainty_mean_min=uncertainty_mean_min,\n",
    "                      uncertainty_mean_max=uncertainty_mean_max,\n",
    "                      uncertainty_scale=uncertainty_scale\n",
    "                     )"
   ]
  },
  {
   "cell_type": "code",
   "execution_count": 5,
   "id": "cf2fea06-843f-4ac3-ad58-d8d5158ce822",
   "metadata": {},
   "outputs": [],
   "source": [
    "cwd = os.getcwd()\n",
    "data_dir = os.path.join(cwd, \"..\", \"data\")\n",
    "\n",
    "# Baton Rouge Dataset\n",
    "br_input_file = os.path.join(data_dir, \"Dataset-BatonRouge-con.csv\")\n",
    "br_uncertainty_file = os.path.join(data_dir, \"Dataset-BatonRouge-unc.csv\")\n",
    "br_output_path = os.path.join(data_dir, \"output\", \"BatonRouge\")\n",
    "# Baltimore Dataset\n",
    "b_input_file = os.path.join(data_dir, \"Dataset-Baltimore_con.txt\")\n",
    "b_uncertainty_file = os.path.join(data_dir, \"Dataset-Baltimore_unc.txt\")\n",
    "b_output_path = os.path.join(data_dir, \"output\", \"Baltimore\")\n",
    "# Saint Louis Dataset\n",
    "sl_input_file = os.path.join(data_dir, \"Dataset-StLouis-con.csv\")\n",
    "sl_uncertainty_file = os.path.join(data_dir, \"Dataset-StLouis-unc.csv\")\n",
    "sl_output_path = os.path.join(data_dir, \"output\", \"StLouis\")"
   ]
  },
  {
   "cell_type": "markdown",
   "id": "84f532c5-1e71-4966-8edf-e8f68fa0bd57",
   "metadata": {},
   "source": [
    "#### Input Parameters"
   ]
  },
  {
   "cell_type": "code",
   "execution_count": 6,
   "id": "2281601e-af6e-43b4-80eb-317ebfaf5ede",
   "metadata": {},
   "outputs": [],
   "source": [
    "index_col = \"Date\"                  # the index of the input/uncertainty datasets\n",
    "factors = 3                         # the number of factors\n",
    "method = \"ls-nmf\"                   # \"ls-nmf\", \"ws-nmf\"\n",
    "models = 20                         # the number of models to train\n",
    "init_method = \"col_means\"           # default is column means \"col_means\", \"kmeans\", \"cmeans\"\n",
    "init_norm = True                    # if init_method=kmeans or cmeans, normalize the data prior to clustering.\n",
    "seed = 42                           # random seed for initialization\n",
    "max_iterations = 20000              # the maximum number of iterations for fitting a model\n",
    "converge_delta = 0.1               # convergence criteria for the change in loss, Q\n",
    "converge_n = 10                     # convergence criteria for the number of steps where the loss changes by less than converge_delta\n",
    "verbose = True                      # adds more verbosity to the algorithm workflow on execution.\n",
    "optimized = True                    # use the Rust code if possible\n",
    "parallel = True                     # execute the model training in parallel, multiple models at the same time"
   ]
  },
  {
   "cell_type": "markdown",
   "id": "90318121-9709-4e67-baf3-8f76432f68ed",
   "metadata": {},
   "source": [
    "#### Dataset Selection\n",
    "One of the three sample datasets can be selected or a new cleaned dataset can be used. Datasets should be cleaned, containing no missing data (either dropping missing/NaNs, or interpolating the missing values)."
   ]
  },
  {
   "cell_type": "code",
   "execution_count": 7,
   "id": "16f90ce2-d9d3-42cd-8a30-aa5b0b73fe77",
   "metadata": {},
   "outputs": [
    {
     "name": "stderr",
     "output_type": "stream",
     "text": [
      "08-May-24 15:54:24 - Synthetic data generated\n",
      "08-May-24 15:54:24 - Synthetic uncertainty data generated\n",
      "08-May-24 15:54:24 - Synthetic dataframes completed\n",
      "08-May-24 15:54:24 - Synthetic source apportionment instance created.\n"
     ]
    }
   ],
   "source": [
    "# Loading the Baton Rouge dataset\n",
    "# input_file = br_input_file\n",
    "# uncertainty_file = br_uncertainty_file\n",
    "input_data_df, uncertainty_data_df = simulator.get_data()"
   ]
  },
  {
   "cell_type": "markdown",
   "id": "1d605314-c34a-434d-a178-81b6f6b3766d",
   "metadata": {},
   "source": [
    "#### Load Data\n",
    "Assign the processed data and uncertainty datasets to the variables V and U. These steps will be simplified/streamlined in a future version of the code."
   ]
  },
  {
   "cell_type": "code",
   "execution_count": 8,
   "id": "057c5901-f26d-4e0e-82a5-52059888de93",
   "metadata": {},
   "outputs": [],
   "source": [
    "# data_handler = DataHandler(\n",
    "#     input_path=input_file,\n",
    "#     uncertainty_path=uncertainty_file,\n",
    "#     index_col=index_col\n",
    "# )\n",
    "data_handler = DataHandler.load_dataframe(input_df=input_data_df, uncertainty_df=uncertainty_data_df)"
   ]
  },
  {
   "cell_type": "code",
   "execution_count": 9,
   "id": "8b47fa79-bd65-46a2-a8ce-cc62af5e2015",
   "metadata": {},
   "outputs": [],
   "source": [
    "# Get the processed data and uncertainty\n",
    "V, U = data_handler.get_data()"
   ]
  },
  {
   "cell_type": "markdown",
   "id": "8909a05f-8a39-4fdd-b918-12077bf1d455",
   "metadata": {},
   "source": [
    "#### Cross-Validation\n",
    "\n",
    "For a series of factors counts, i.e. 3->12, train a model(s) using the standard input data that has been masked. The mask is a binary matrix that indicates the cells in V and U which are used for training and validation testing. The selection of these cells will be random for each test.\n",
    "\n",
    "The mask will contain some percentage of the data points, the MSE will be evaluated for both training data (mask=1) and the testing data (mask=0). The point on the slope where the test data stops decreases is the proposed optimal number of factors/components.\n",
    "\n",
    "Tests will include using this method on a single model and averaging batch solutions.\n"
   ]
  },
  {
   "cell_type": "code",
   "execution_count": 10,
   "id": "b45d864b-646a-44a5-b35c-cb08184607ac",
   "metadata": {},
   "outputs": [],
   "source": [
    "from esat.helpers import FSearch"
   ]
  },
  {
   "cell_type": "code",
   "execution_count": 11,
   "id": "291aebd8-eac3-4a64-91a0-0ef23879ff03",
   "metadata": {},
   "outputs": [
    {
     "name": "stderr",
     "output_type": "stream",
     "text": [
      "Rapid random sampling for factor estimation:   0%|▌                                                                                                                     | 1/200 [00:05<18:51,  5.69s/it]"
     ]
    },
    {
     "name": "stdout",
     "output_type": "stream",
     "text": [
      "(0.19923, -0.22429, 3)\n"
     ]
    },
    {
     "name": "stderr",
     "output_type": "stream",
     "text": [
      "Rapid random sampling for factor estimation:   1%|█▏                                                                                                                    | 2/200 [00:06<08:20,  2.53s/it]"
     ]
    },
    {
     "name": "stdout",
     "output_type": "stream",
     "text": [
      "(0.22384, -0.24093, 3)\n"
     ]
    },
    {
     "name": "stderr",
     "output_type": "stream",
     "text": [
      "Rapid random sampling for factor estimation:   2%|█▊                                                                                                                    | 3/200 [00:07<07:06,  2.16s/it]"
     ]
    },
    {
     "name": "stdout",
     "output_type": "stream",
     "text": [
      "(0.12898, -0.14075, 4)\n"
     ]
    },
    {
     "name": "stderr",
     "output_type": "stream",
     "text": [
      "Rapid random sampling for factor estimation:   2%|██▎                                                                                                                   | 4/200 [00:08<04:53,  1.50s/it]"
     ]
    },
    {
     "name": "stdout",
     "output_type": "stream",
     "text": [
      "(0.02249, -0.02524, 6)\n"
     ]
    },
    {
     "name": "stderr",
     "output_type": "stream",
     "text": [
      "Rapid random sampling for factor estimation:   2%|██▉                                                                                                                   | 5/200 [00:08<03:31,  1.08s/it]"
     ]
    },
    {
     "name": "stdout",
     "output_type": "stream",
     "text": [
      "(0.02145, -0.02335, 9)\n"
     ]
    },
    {
     "name": "stderr",
     "output_type": "stream",
     "text": [
      "Rapid random sampling for factor estimation:   3%|███▌                                                                                                                  | 6/200 [00:09<02:57,  1.09it/s]"
     ]
    },
    {
     "name": "stdout",
     "output_type": "stream",
     "text": [
      "(0.07686, -0.07594, 5)\n",
      "(0.02125, -0.02421, 7)\n"
     ]
    },
    {
     "name": "stderr",
     "output_type": "stream",
     "text": [
      "Rapid random sampling for factor estimation:   4%|████▋                                                                                                                 | 8/200 [00:09<01:48,  1.77it/s]"
     ]
    },
    {
     "name": "stdout",
     "output_type": "stream",
     "text": [
      "(0.02152, -0.02361, 8)\n"
     ]
    },
    {
     "name": "stderr",
     "output_type": "stream",
     "text": [
      "Rapid random sampling for factor estimation:   4%|█████▎                                                                                                                | 9/200 [00:09<01:32,  2.06it/s]"
     ]
    },
    {
     "name": "stdout",
     "output_type": "stream",
     "text": [
      "(0.07316, -0.0743, 5)\n"
     ]
    },
    {
     "name": "stderr",
     "output_type": "stream",
     "text": [
      "Rapid random sampling for factor estimation:   5%|█████▊                                                                                                               | 10/200 [00:10<01:50,  1.72it/s]"
     ]
    },
    {
     "name": "stdout",
     "output_type": "stream",
     "text": [
      "(0.11779, -0.13686, 4)\n"
     ]
    },
    {
     "name": "stderr",
     "output_type": "stream",
     "text": [
      "Rapid random sampling for factor estimation:   6%|██████▍                                                                                                              | 11/200 [00:11<02:08,  1.47it/s]"
     ]
    },
    {
     "name": "stdout",
     "output_type": "stream",
     "text": [
      "(0.02219, -0.02308, 8)\n"
     ]
    },
    {
     "name": "stderr",
     "output_type": "stream",
     "text": [
      "Rapid random sampling for factor estimation:   6%|███████                                                                                                              | 12/200 [00:11<01:44,  1.80it/s]"
     ]
    },
    {
     "name": "stdout",
     "output_type": "stream",
     "text": [
      "(0.21533, -0.24025, 3)\n"
     ]
    },
    {
     "name": "stderr",
     "output_type": "stream",
     "text": [
      "Rapid random sampling for factor estimation:   6%|███████▌                                                                                                             | 13/200 [00:12<01:31,  2.05it/s]"
     ]
    },
    {
     "name": "stdout",
     "output_type": "stream",
     "text": [
      "(0.01993, -0.02229, 11)\n"
     ]
    },
    {
     "name": "stderr",
     "output_type": "stream",
     "text": [
      "Rapid random sampling for factor estimation:   7%|████████▏                                                                                                            | 14/200 [00:12<01:24,  2.19it/s]"
     ]
    },
    {
     "name": "stdout",
     "output_type": "stream",
     "text": [
      "(0.1196, -0.13685, 4)\n"
     ]
    },
    {
     "name": "stderr",
     "output_type": "stream",
     "text": [
      "Rapid random sampling for factor estimation:   8%|████████▊                                                                                                            | 15/200 [00:13<01:27,  2.13it/s]"
     ]
    },
    {
     "name": "stdout",
     "output_type": "stream",
     "text": [
      "(0.0214, -0.02397, 9)\n"
     ]
    },
    {
     "name": "stderr",
     "output_type": "stream",
     "text": [
      "Rapid random sampling for factor estimation:   8%|█████████▎                                                                                                           | 16/200 [00:13<01:23,  2.20it/s]"
     ]
    },
    {
     "name": "stdout",
     "output_type": "stream",
     "text": [
      "(0.05994, -0.08276, 5)\n",
      "(0.1861, -0.21446, 3)\n"
     ]
    },
    {
     "name": "stderr",
     "output_type": "stream",
     "text": [
      "Rapid random sampling for factor estimation:   9%|██████████▌                                                                                                          | 18/200 [00:13<00:57,  3.16it/s]"
     ]
    },
    {
     "name": "stdout",
     "output_type": "stream",
     "text": [
      "(0.07259, -0.07603, 5)\n",
      "(0.0204, -0.02224, 11)\n"
     ]
    },
    {
     "name": "stderr",
     "output_type": "stream",
     "text": [
      "Rapid random sampling for factor estimation:  12%|█████████████▍                                                                                                       | 23/200 [00:14<00:30,  5.82it/s]"
     ]
    },
    {
     "name": "stdout",
     "output_type": "stream",
     "text": [
      "(0.02118, -0.02321, 9)\n",
      "(0.19982, -0.24877, 3)\n",
      "(0.02203, -0.02318, 9)\n",
      "(0.02237, -0.02312, 9)\n"
     ]
    },
    {
     "name": "stderr",
     "output_type": "stream",
     "text": [
      "Rapid random sampling for factor estimation:  12%|██████████████                                                                                                       | 24/200 [00:14<00:34,  5.17it/s]"
     ]
    },
    {
     "name": "stdout",
     "output_type": "stream",
     "text": [
      "(0.29369, -0.35454, 2)\n",
      "(0.02183, -0.02503, 7)\n"
     ]
    },
    {
     "name": "stderr",
     "output_type": "stream",
     "text": [
      "Rapid random sampling for factor estimation:  13%|███████████████▏                                                                                                     | 26/200 [00:15<00:45,  3.83it/s]"
     ]
    },
    {
     "name": "stdout",
     "output_type": "stream",
     "text": [
      "(0.18193, -0.21395, 3)\n"
     ]
    },
    {
     "name": "stderr",
     "output_type": "stream",
     "text": [
      "Rapid random sampling for factor estimation:  14%|████████████████▍                                                                                                    | 28/200 [00:16<00:54,  3.17it/s]"
     ]
    },
    {
     "name": "stdout",
     "output_type": "stream",
     "text": [
      "(0.1188, -0.1365, 4)\n",
      "(0.02344, -0.0246, 7)\n"
     ]
    },
    {
     "name": "stderr",
     "output_type": "stream",
     "text": [
      "Rapid random sampling for factor estimation:  14%|████████████████▉                                                                                                    | 29/200 [00:16<00:57,  2.97it/s]"
     ]
    },
    {
     "name": "stdout",
     "output_type": "stream",
     "text": [
      "(0.02016, -0.02286, 9)\n"
     ]
    },
    {
     "name": "stderr",
     "output_type": "stream",
     "text": [
      "Rapid random sampling for factor estimation:  15%|█████████████████▌                                                                                                   | 30/200 [00:17<01:12,  2.36it/s]"
     ]
    },
    {
     "name": "stdout",
     "output_type": "stream",
     "text": [
      "(0.12203, -0.14444, 4)\n"
     ]
    },
    {
     "name": "stderr",
     "output_type": "stream",
     "text": [
      "Rapid random sampling for factor estimation:  16%|██████████████████▏                                                                                                  | 31/200 [00:17<01:03,  2.65it/s]"
     ]
    },
    {
     "name": "stdout",
     "output_type": "stream",
     "text": [
      "(0.3533, -0.38232, 2)\n"
     ]
    },
    {
     "name": "stderr",
     "output_type": "stream",
     "text": [
      "Rapid random sampling for factor estimation:  16%|██████████████████▋                                                                                                  | 32/200 [00:18<01:05,  2.55it/s]"
     ]
    },
    {
     "name": "stdout",
     "output_type": "stream",
     "text": [
      "(0.1192, -0.13671, 4)\n",
      "(0.05867, -0.0799, 5)\n"
     ]
    },
    {
     "name": "stderr",
     "output_type": "stream",
     "text": [
      "Rapid random sampling for factor estimation:  17%|███████████████████▉                                                                                                 | 34/200 [00:18<01:07,  2.47it/s]"
     ]
    },
    {
     "name": "stdout",
     "output_type": "stream",
     "text": [
      "(0.02339, -0.02396, 8)\n"
     ]
    },
    {
     "name": "stderr",
     "output_type": "stream",
     "text": [
      "Rapid random sampling for factor estimation:  18%|████████████████████▍                                                                                                | 35/200 [00:19<01:03,  2.60it/s]"
     ]
    },
    {
     "name": "stdout",
     "output_type": "stream",
     "text": [
      "(0.02286, -0.02414, 7)\n",
      "(0.02017, -0.02215, 11)\n"
     ]
    },
    {
     "name": "stderr",
     "output_type": "stream",
     "text": [
      "Rapid random sampling for factor estimation:  18%|█████████████████████▋                                                                                               | 37/200 [00:19<00:45,  3.57it/s]"
     ]
    },
    {
     "name": "stdout",
     "output_type": "stream",
     "text": [
      "(0.02053, -0.02126, 11)\n",
      "(0.29368, -0.36779, 2)\n"
     ]
    },
    {
     "name": "stderr",
     "output_type": "stream",
     "text": [
      "Rapid random sampling for factor estimation:  20%|██████████████████████▊                                                                                              | 39/200 [00:20<00:48,  3.30it/s]"
     ]
    },
    {
     "name": "stdout",
     "output_type": "stream",
     "text": [
      "(0.01997, -0.02123, 11)\n"
     ]
    },
    {
     "name": "stderr",
     "output_type": "stream",
     "text": [
      "Rapid random sampling for factor estimation:  20%|███████████████████████▍                                                                                             | 40/200 [00:20<00:58,  2.76it/s]"
     ]
    },
    {
     "name": "stdout",
     "output_type": "stream",
     "text": [
      "(0.02223, -0.02347, 8)\n"
     ]
    },
    {
     "name": "stderr",
     "output_type": "stream",
     "text": [
      "Rapid random sampling for factor estimation:  20%|███████████████████████▉                                                                                             | 41/200 [00:20<00:54,  2.93it/s]"
     ]
    },
    {
     "name": "stdout",
     "output_type": "stream",
     "text": [
      "(0.02383, -0.02554, 6)\n"
     ]
    },
    {
     "name": "stderr",
     "output_type": "stream",
     "text": [
      "Rapid random sampling for factor estimation:  21%|████████████████████████▌                                                                                            | 42/200 [00:21<00:58,  2.69it/s]"
     ]
    },
    {
     "name": "stdout",
     "output_type": "stream",
     "text": [
      "(0.02194, -0.02373, 9)\n"
     ]
    },
    {
     "name": "stderr",
     "output_type": "stream",
     "text": [
      "Rapid random sampling for factor estimation:  22%|█████████████████████████▏                                                                                           | 43/200 [00:21<00:59,  2.63it/s]"
     ]
    },
    {
     "name": "stdout",
     "output_type": "stream",
     "text": [
      "(0.02295, -0.02411, 8)\n",
      "(0.11799, -0.14602, 4)\n"
     ]
    },
    {
     "name": "stderr",
     "output_type": "stream",
     "text": [
      "Rapid random sampling for factor estimation:  22%|██████████████████████████▎                                                                                          | 45/200 [00:22<00:49,  3.10it/s]"
     ]
    },
    {
     "name": "stdout",
     "output_type": "stream",
     "text": [
      "(0.18767, -0.21427, 3)\n",
      "(0.02149, -0.02291, 9)\n"
     ]
    },
    {
     "name": "stderr",
     "output_type": "stream",
     "text": [
      "Rapid random sampling for factor estimation:  24%|███████████████████████████▍                                                                                         | 47/200 [00:22<00:36,  4.25it/s]"
     ]
    },
    {
     "name": "stdout",
     "output_type": "stream",
     "text": [
      "(0.20142, -0.25134, 3)\n"
     ]
    },
    {
     "name": "stderr",
     "output_type": "stream",
     "text": [
      "Rapid random sampling for factor estimation:  24%|████████████████████████████                                                                                         | 48/200 [00:23<00:46,  3.30it/s]"
     ]
    },
    {
     "name": "stdout",
     "output_type": "stream",
     "text": [
      "(0.1976, -0.26144, 3)\n"
     ]
    },
    {
     "name": "stderr",
     "output_type": "stream",
     "text": [
      "Rapid random sampling for factor estimation:  24%|████████████████████████████▋                                                                                        | 49/200 [00:23<01:00,  2.48it/s]"
     ]
    },
    {
     "name": "stdout",
     "output_type": "stream",
     "text": [
      "(0.02234, -0.0235, 8)\n"
     ]
    },
    {
     "name": "stderr",
     "output_type": "stream",
     "text": [
      "Rapid random sampling for factor estimation:  25%|█████████████████████████████▎                                                                                       | 50/200 [00:24<00:54,  2.77it/s]"
     ]
    },
    {
     "name": "stdout",
     "output_type": "stream",
     "text": [
      "(0.02163, -0.02232, 10)\n"
     ]
    },
    {
     "name": "stderr",
     "output_type": "stream",
     "text": [
      "Rapid random sampling for factor estimation:  26%|█████████████████████████████▊                                                                                       | 51/200 [00:24<01:02,  2.40it/s]"
     ]
    },
    {
     "name": "stdout",
     "output_type": "stream",
     "text": [
      "(0.0223, -0.0243, 8)\n"
     ]
    },
    {
     "name": "stderr",
     "output_type": "stream",
     "text": [
      "Rapid random sampling for factor estimation:  26%|██████████████████████████████▍                                                                                      | 52/200 [00:24<00:54,  2.70it/s]"
     ]
    },
    {
     "name": "stdout",
     "output_type": "stream",
     "text": [
      "(0.06032, -0.08245, 5)\n"
     ]
    },
    {
     "name": "stderr",
     "output_type": "stream",
     "text": [
      "Rapid random sampling for factor estimation:  26%|███████████████████████████████                                                                                      | 53/200 [00:25<00:51,  2.86it/s]"
     ]
    },
    {
     "name": "stdout",
     "output_type": "stream",
     "text": [
      "(0.13209, -0.1422, 4)\n"
     ]
    },
    {
     "name": "stderr",
     "output_type": "stream",
     "text": [
      "Rapid random sampling for factor estimation:  28%|████████████████████████████████▏                                                                                    | 55/200 [00:25<00:46,  3.14it/s]"
     ]
    },
    {
     "name": "stdout",
     "output_type": "stream",
     "text": [
      "(0.02033, -0.02247, 9)\n",
      "(0.02069, -0.02201, 11)\n"
     ]
    },
    {
     "name": "stderr",
     "output_type": "stream",
     "text": [
      "Rapid random sampling for factor estimation:  28%|████████████████████████████████▊                                                                                    | 56/200 [00:26<00:55,  2.59it/s]"
     ]
    },
    {
     "name": "stdout",
     "output_type": "stream",
     "text": [
      "(0.31811, -0.37333, 2)\n"
     ]
    },
    {
     "name": "stderr",
     "output_type": "stream",
     "text": [
      "Rapid random sampling for factor estimation:  28%|█████████████████████████████████▎                                                                                   | 57/200 [00:26<00:52,  2.73it/s]"
     ]
    },
    {
     "name": "stdout",
     "output_type": "stream",
     "text": [
      "(0.02129, -0.02234, 11)\n"
     ]
    },
    {
     "name": "stderr",
     "output_type": "stream",
     "text": [
      "Rapid random sampling for factor estimation:  29%|█████████████████████████████████▉                                                                                   | 58/200 [00:26<00:47,  2.97it/s]"
     ]
    },
    {
     "name": "stdout",
     "output_type": "stream",
     "text": [
      "(0.29996, -0.35619, 2)\n"
     ]
    },
    {
     "name": "stderr",
     "output_type": "stream",
     "text": [
      "Rapid random sampling for factor estimation:  30%|██████████████████████████████████▌                                                                                  | 59/200 [00:27<00:50,  2.81it/s]"
     ]
    },
    {
     "name": "stdout",
     "output_type": "stream",
     "text": [
      "(0.02167, -0.02302, 9)\n"
     ]
    },
    {
     "name": "stderr",
     "output_type": "stream",
     "text": [
      "Rapid random sampling for factor estimation:  30%|███████████████████████████████████                                                                                  | 60/200 [00:27<00:53,  2.61it/s]"
     ]
    },
    {
     "name": "stdout",
     "output_type": "stream",
     "text": [
      "(0.10022, -0.08769, 5)\n",
      "(0.02192, -0.02337, 8)\n"
     ]
    },
    {
     "name": "stderr",
     "output_type": "stream",
     "text": [
      "Rapid random sampling for factor estimation:  32%|████████████████████████████████████▊                                                                                | 63/200 [00:28<00:34,  3.92it/s]"
     ]
    },
    {
     "name": "stdout",
     "output_type": "stream",
     "text": [
      "(0.29226, -0.36444, 2)\n",
      "(0.02142, -0.02361, 8)\n"
     ]
    },
    {
     "name": "stderr",
     "output_type": "stream",
     "text": [
      "Rapid random sampling for factor estimation:  32%|█████████████████████████████████████▍                                                                               | 64/200 [00:28<00:29,  4.65it/s]"
     ]
    },
    {
     "name": "stdout",
     "output_type": "stream",
     "text": [
      "(0.05858, -0.0808, 5)\n",
      "(0.09503, -0.08863, 5)\n"
     ]
    },
    {
     "name": "stderr",
     "output_type": "stream",
     "text": [
      "Rapid random sampling for factor estimation:  33%|██████████████████████████████████████▌                                                                              | 66/200 [00:28<00:29,  4.55it/s]"
     ]
    },
    {
     "name": "stdout",
     "output_type": "stream",
     "text": [
      "(0.05958, -0.08153, 5)\n"
     ]
    },
    {
     "name": "stderr",
     "output_type": "stream",
     "text": [
      "Rapid random sampling for factor estimation:  34%|███████████████████████████████████████▏                                                                             | 67/200 [00:29<00:31,  4.18it/s]"
     ]
    },
    {
     "name": "stdout",
     "output_type": "stream",
     "text": [
      "(0.02171, -0.02251, 11)\n"
     ]
    },
    {
     "name": "stderr",
     "output_type": "stream",
     "text": [
      "Rapid random sampling for factor estimation:  34%|███████████████████████████████████████▊                                                                             | 68/200 [00:29<00:31,  4.20it/s]"
     ]
    },
    {
     "name": "stdout",
     "output_type": "stream",
     "text": [
      "(0.29962, -0.35599, 2)\n",
      "(0.02185, -0.02355, 9)\n"
     ]
    },
    {
     "name": "stderr",
     "output_type": "stream",
     "text": [
      "Rapid random sampling for factor estimation:  35%|████████████████████████████████████████▉                                                                            | 70/200 [00:30<00:34,  3.78it/s]"
     ]
    },
    {
     "name": "stdout",
     "output_type": "stream",
     "text": [
      "(0.05964, -0.08001, 5)\n"
     ]
    },
    {
     "name": "stderr",
     "output_type": "stream",
     "text": [
      "Rapid random sampling for factor estimation:  36%|█████████████████████████████████████████▌                                                                           | 71/200 [00:30<00:36,  3.56it/s]"
     ]
    },
    {
     "name": "stdout",
     "output_type": "stream",
     "text": [
      "(0.07324, -0.07435, 5)\n",
      "(0.05935, -0.08101, 5)\n"
     ]
    },
    {
     "name": "stderr",
     "output_type": "stream",
     "text": [
      "Rapid random sampling for factor estimation:  36%|██████████████████████████████████████████▋                                                                          | 73/200 [00:31<00:39,  3.23it/s]"
     ]
    },
    {
     "name": "stdout",
     "output_type": "stream",
     "text": [
      "(0.0219, -0.02417, 6)\n"
     ]
    },
    {
     "name": "stderr",
     "output_type": "stream",
     "text": [
      "Rapid random sampling for factor estimation:  37%|███████████████████████████████████████████▎                                                                         | 74/200 [00:31<00:42,  2.98it/s]"
     ]
    },
    {
     "name": "stdout",
     "output_type": "stream",
     "text": [
      "(0.1124, -0.13586, 4)\n"
     ]
    },
    {
     "name": "stderr",
     "output_type": "stream",
     "text": [
      "Rapid random sampling for factor estimation:  38%|███████████████████████████████████████████▉                                                                         | 75/200 [00:31<00:38,  3.28it/s]"
     ]
    },
    {
     "name": "stdout",
     "output_type": "stream",
     "text": [
      "(0.20599, -0.25446, 3)\n",
      "(0.02411, -0.02382, 8)\n"
     ]
    },
    {
     "name": "stderr",
     "output_type": "stream",
     "text": [
      "Rapid random sampling for factor estimation:  38%|█████████████████████████████████████████████                                                                        | 77/200 [00:32<00:37,  3.29it/s]"
     ]
    },
    {
     "name": "stdout",
     "output_type": "stream",
     "text": [
      "(0.02154, -0.02292, 9)\n",
      "(0.02117, -0.0233, 8)\n"
     ]
    },
    {
     "name": "stderr",
     "output_type": "stream",
     "text": [
      "Rapid random sampling for factor estimation:  40%|██████████████████████████████████████████████▏                                                                      | 79/200 [00:32<00:30,  3.96it/s]"
     ]
    },
    {
     "name": "stdout",
     "output_type": "stream",
     "text": [
      "(0.29706, -0.36787, 2)\n"
     ]
    },
    {
     "name": "stderr",
     "output_type": "stream",
     "text": [
      "Rapid random sampling for factor estimation:  41%|███████████████████████████████████████████████▉                                                                     | 82/200 [00:33<00:25,  4.55it/s]"
     ]
    },
    {
     "name": "stdout",
     "output_type": "stream",
     "text": [
      "(0.02259, -0.0251, 6)\n",
      "(0.02192, -0.02391, 7)\n",
      "(0.0232, -0.02474, 7)\n"
     ]
    },
    {
     "name": "stderr",
     "output_type": "stream",
     "text": [
      "Rapid random sampling for factor estimation:  42%|█████████████████████████████████████████████████▋                                                                   | 85/200 [00:33<00:19,  5.94it/s]"
     ]
    },
    {
     "name": "stdout",
     "output_type": "stream",
     "text": [
      "(0.06016, -0.07953, 5)\n",
      "(0.0218, -0.02253, 11)\n",
      "(0.3081, -0.37263, 2)\n"
     ]
    },
    {
     "name": "stderr",
     "output_type": "stream",
     "text": [
      "Rapid random sampling for factor estimation:  43%|██████████████████████████████████████████████████▎                                                                  | 86/200 [00:34<00:24,  4.60it/s]"
     ]
    },
    {
     "name": "stdout",
     "output_type": "stream",
     "text": [
      "(0.21836, -0.2394, 3)\n"
     ]
    },
    {
     "name": "stderr",
     "output_type": "stream",
     "text": [
      "Rapid random sampling for factor estimation:  44%|███████████████████████████████████████████████████▍                                                                 | 88/200 [00:34<00:29,  3.85it/s]"
     ]
    },
    {
     "name": "stdout",
     "output_type": "stream",
     "text": [
      "(0.02337, -0.02427, 6)\n",
      "(0.29421, -0.3558, 2)\n",
      "(0.02364, -0.02512, 6)\n",
      "(0.02298, -0.02385, 8)\n"
     ]
    },
    {
     "name": "stderr",
     "output_type": "stream",
     "text": [
      "Rapid random sampling for factor estimation:  46%|█████████████████████████████████████████████████████▏                                                               | 91/200 [00:35<00:19,  5.53it/s]"
     ]
    },
    {
     "name": "stdout",
     "output_type": "stream",
     "text": [
      "(0.11521, -0.13955, 4)\n",
      "(0.30254, -0.35863, 2)\n"
     ]
    },
    {
     "name": "stderr",
     "output_type": "stream",
     "text": [
      "Rapid random sampling for factor estimation:  46%|██████████████████████████████████████████████████████▍                                                              | 93/200 [00:35<00:20,  5.33it/s]"
     ]
    },
    {
     "name": "stdout",
     "output_type": "stream",
     "text": [
      "(0.05951, -0.07981, 5)\n"
     ]
    },
    {
     "name": "stderr",
     "output_type": "stream",
     "text": [
      "Rapid random sampling for factor estimation:  48%|███████████████████████████████████████████████████████▌                                                             | 95/200 [00:36<00:22,  4.75it/s]"
     ]
    },
    {
     "name": "stdout",
     "output_type": "stream",
     "text": [
      "(0.0219, -0.02336, 9)\n",
      "(0.02153, -0.02394, 7)\n"
     ]
    },
    {
     "name": "stderr",
     "output_type": "stream",
     "text": [
      "Rapid random sampling for factor estimation:  48%|████████████████████████████████████████████████████████▋                                                            | 97/200 [00:36<00:21,  4.82it/s]"
     ]
    },
    {
     "name": "stdout",
     "output_type": "stream",
     "text": [
      "(0.02184, -0.02358, 8)\n",
      "(0.02266, -0.02484, 6)\n"
     ]
    },
    {
     "name": "stderr",
     "output_type": "stream",
     "text": [
      "Rapid random sampling for factor estimation:  49%|█████████████████████████████████████████████████████████▎                                                           | 98/200 [00:36<00:18,  5.53it/s]"
     ]
    },
    {
     "name": "stdout",
     "output_type": "stream",
     "text": [
      "(0.02227, -0.02525, 6)\n"
     ]
    },
    {
     "name": "stderr",
     "output_type": "stream",
     "text": [
      "Rapid random sampling for factor estimation:  50%|█████████████████████████████████████████████████████████▉                                                           | 99/200 [00:36<00:19,  5.11it/s]"
     ]
    },
    {
     "name": "stdout",
     "output_type": "stream",
     "text": [
      "(0.18525, -0.21453, 3)\n"
     ]
    },
    {
     "name": "stderr",
     "output_type": "stream",
     "text": [
      "Rapid random sampling for factor estimation:  50%|██████████████████████████████████████████████████████████                                                          | 100/200 [00:37<00:26,  3.70it/s]"
     ]
    },
    {
     "name": "stdout",
     "output_type": "stream",
     "text": [
      "(0.12389, -0.14019, 4)\n"
     ]
    },
    {
     "name": "stderr",
     "output_type": "stream",
     "text": [
      "Rapid random sampling for factor estimation:  51%|███████████████████████████████████████████████████████████▏                                                        | 102/200 [00:37<00:23,  4.10it/s]"
     ]
    },
    {
     "name": "stdout",
     "output_type": "stream",
     "text": [
      "(0.12713, -0.14045, 4)\n",
      "(0.29109, -0.36443, 2)\n"
     ]
    },
    {
     "name": "stderr",
     "output_type": "stream",
     "text": [
      "Rapid random sampling for factor estimation:  52%|███████████████████████████████████████████████████████████▋                                                        | 103/200 [00:38<00:39,  2.48it/s]"
     ]
    },
    {
     "name": "stdout",
     "output_type": "stream",
     "text": [
      "(0.06465, -0.07756, 5)\n",
      "(0.21619, -0.22597, 3)\n"
     ]
    },
    {
     "name": "stderr",
     "output_type": "stream",
     "text": [
      "Rapid random sampling for factor estimation:  52%|████████████████████████████████████████████████████████████▉                                                       | 105/200 [00:38<00:26,  3.56it/s]"
     ]
    },
    {
     "name": "stdout",
     "output_type": "stream",
     "text": [
      "(0.02261, -0.0248, 6)\n"
     ]
    },
    {
     "name": "stderr",
     "output_type": "stream",
     "text": [
      "Rapid random sampling for factor estimation:  54%|██████████████████████████████████████████████████████████████                                                      | 107/200 [00:39<00:21,  4.36it/s]"
     ]
    },
    {
     "name": "stdout",
     "output_type": "stream",
     "text": [
      "(0.02301, -0.02348, 8)\n",
      "(0.02261, -0.02495, 6)\n"
     ]
    },
    {
     "name": "stderr",
     "output_type": "stream",
     "text": [
      "Rapid random sampling for factor estimation:  54%|██████████████████████████████████████████████████████████████▋                                                     | 108/200 [00:39<00:19,  4.84it/s]"
     ]
    },
    {
     "name": "stdout",
     "output_type": "stream",
     "text": [
      "(0.02329, -0.02557, 6)\n",
      "(0.19862, -0.22602, 3)\n"
     ]
    },
    {
     "name": "stderr",
     "output_type": "stream",
     "text": [
      "Rapid random sampling for factor estimation:  55%|███████████████████████████████████████████████████████████████▊                                                    | 110/200 [00:40<00:23,  3.80it/s]"
     ]
    },
    {
     "name": "stdout",
     "output_type": "stream",
     "text": [
      "(0.02265, -0.02374, 9)\n"
     ]
    },
    {
     "name": "stderr",
     "output_type": "stream",
     "text": [
      "Rapid random sampling for factor estimation:  57%|██████████████████████████████████████████████████████████████████                                                  | 114/200 [00:40<00:16,  5.27it/s]"
     ]
    },
    {
     "name": "stdout",
     "output_type": "stream",
     "text": [
      "(0.1149, -0.13632, 4)\n",
      "(0.12231, -0.13714, 4)\n",
      "(0.20252, -0.21727, 3)\n",
      "(0.11905, -0.13661, 4)\n"
     ]
    },
    {
     "name": "stderr",
     "output_type": "stream",
     "text": [
      "Rapid random sampling for factor estimation:  57%|██████████████████████████████████████████████████████████████████▋                                                 | 115/200 [00:41<00:24,  3.52it/s]"
     ]
    },
    {
     "name": "stdout",
     "output_type": "stream",
     "text": [
      "(0.02398, -0.02557, 6)\n",
      "(0.02079, -0.02265, 9)\n",
      "(0.02167, -0.02329, 8)\n",
      "(0.30474, -0.35664, 2)\n"
     ]
    },
    {
     "name": "stderr",
     "output_type": "stream",
     "text": [
      "Rapid random sampling for factor estimation:  60%|█████████████████████████████████████████████████████████████████████▌                                              | 120/200 [00:41<00:12,  6.21it/s]"
     ]
    },
    {
     "name": "stdout",
     "output_type": "stream",
     "text": [
      "(0.02109, -0.02243, 10)\n",
      "(0.18213, -0.21457, 3)\n"
     ]
    },
    {
     "name": "stderr",
     "output_type": "stream",
     "text": [
      "Rapid random sampling for factor estimation:  60%|██████████████████████████████████████████████████████████████████████▏                                             | 121/200 [00:42<00:13,  5.95it/s]"
     ]
    },
    {
     "name": "stdout",
     "output_type": "stream",
     "text": [
      "(0.31174, -0.3732, 2)\n"
     ]
    },
    {
     "name": "stderr",
     "output_type": "stream",
     "text": [
      "Rapid random sampling for factor estimation:  62%|███████████████████████████████████████████████████████████████████████▎                                            | 123/200 [00:43<00:25,  3.03it/s]"
     ]
    },
    {
     "name": "stdout",
     "output_type": "stream",
     "text": [
      "(0.01962, -0.02167, 11)\n",
      "(0.02232, -0.02312, 10)\n"
     ]
    },
    {
     "name": "stderr",
     "output_type": "stream",
     "text": [
      "Rapid random sampling for factor estimation:  62%|███████████████████████████████████████████████████████████████████████▉                                            | 124/200 [00:43<00:28,  2.70it/s]"
     ]
    },
    {
     "name": "stdout",
     "output_type": "stream",
     "text": [
      "(0.07323, -0.0767, 5)\n"
     ]
    },
    {
     "name": "stderr",
     "output_type": "stream",
     "text": [
      "Rapid random sampling for factor estimation:  63%|█████████████████████████████████████████████████████████████████████████                                           | 126/200 [00:44<00:29,  2.52it/s]"
     ]
    },
    {
     "name": "stdout",
     "output_type": "stream",
     "text": [
      "(0.02419, -0.02632, 6)\n",
      "(0.02148, -0.02349, 8)\n"
     ]
    },
    {
     "name": "stderr",
     "output_type": "stream",
     "text": [
      "Rapid random sampling for factor estimation:  64%|█████████████████████████████████████████████████████████████████████████▋                                          | 127/200 [00:45<00:33,  2.18it/s]"
     ]
    },
    {
     "name": "stdout",
     "output_type": "stream",
     "text": [
      "(0.21578, -0.24039, 3)\n"
     ]
    },
    {
     "name": "stderr",
     "output_type": "stream",
     "text": [
      "Rapid random sampling for factor estimation:  64%|██████████████████████████████████████████████████████████████████████████▏                                         | 128/200 [00:46<00:36,  1.95it/s]"
     ]
    },
    {
     "name": "stdout",
     "output_type": "stream",
     "text": [
      "(0.02366, -0.02454, 6)\n"
     ]
    },
    {
     "name": "stderr",
     "output_type": "stream",
     "text": [
      "Rapid random sampling for factor estimation:  64%|██████████████████████████████████████████████████████████████████████████▊                                         | 129/200 [00:46<00:35,  2.01it/s]"
     ]
    },
    {
     "name": "stdout",
     "output_type": "stream",
     "text": [
      "(0.18146, -0.2224, 3)\n"
     ]
    },
    {
     "name": "stderr",
     "output_type": "stream",
     "text": [
      "Rapid random sampling for factor estimation:  65%|███████████████████████████████████████████████████████████████████████████▍                                        | 130/200 [00:47<00:40,  1.74it/s]"
     ]
    },
    {
     "name": "stdout",
     "output_type": "stream",
     "text": [
      "(0.02167, -0.02309, 9)\n"
     ]
    },
    {
     "name": "stderr",
     "output_type": "stream",
     "text": [
      "Rapid random sampling for factor estimation:  66%|███████████████████████████████████████████████████████████████████████████▉                                        | 131/200 [00:47<00:35,  1.92it/s]"
     ]
    },
    {
     "name": "stdout",
     "output_type": "stream",
     "text": [
      "(0.02209, -0.02314, 9)\n",
      "(0.02022, -0.02202, 10)\n"
     ]
    },
    {
     "name": "stderr",
     "output_type": "stream",
     "text": [
      "Rapid random sampling for factor estimation:  67%|█████████████████████████████████████████████████████████████████████████████▋                                      | 134/200 [00:48<00:23,  2.79it/s]"
     ]
    },
    {
     "name": "stdout",
     "output_type": "stream",
     "text": [
      "(0.05966, -0.08006, 5)\n",
      "(0.0228, -0.02501, 6)\n"
     ]
    },
    {
     "name": "stderr",
     "output_type": "stream",
     "text": [
      "Rapid random sampling for factor estimation:  68%|██████████████████████████████████████████████████████████████████████████████▎                                     | 135/200 [00:48<00:20,  3.12it/s]"
     ]
    },
    {
     "name": "stdout",
     "output_type": "stream",
     "text": [
      "(0.02137, -0.02253, 10)\n",
      "(0.02176, -0.02331, 9)\n"
     ]
    },
    {
     "name": "stderr",
     "output_type": "stream",
     "text": [
      "Rapid random sampling for factor estimation:  68%|███████████████████████████████████████████████████████████████████████████████▍                                    | 137/200 [00:49<00:15,  4.15it/s]"
     ]
    },
    {
     "name": "stdout",
     "output_type": "stream",
     "text": [
      "(0.19967, -0.23951, 3)\n",
      "(0.28529, -0.35683, 2)\n"
     ]
    },
    {
     "name": "stderr",
     "output_type": "stream",
     "text": [
      "Rapid random sampling for factor estimation:  70%|████████████████████████████████████████████████████████████████████████████████▌                                   | 139/200 [00:49<00:15,  4.03it/s]"
     ]
    },
    {
     "name": "stdout",
     "output_type": "stream",
     "text": [
      "(0.02098, -0.02404, 6)\n"
     ]
    },
    {
     "name": "stderr",
     "output_type": "stream",
     "text": [
      "Rapid random sampling for factor estimation:  70%|█████████████████████████████████████████████████████████████████████████████████▏                                  | 140/200 [00:50<00:20,  2.91it/s]"
     ]
    },
    {
     "name": "stdout",
     "output_type": "stream",
     "text": [
      "(0.02194, -0.02321, 9)\n",
      "(0.17867, -0.2133, 3)\n"
     ]
    },
    {
     "name": "stderr",
     "output_type": "stream",
     "text": [
      "Rapid random sampling for factor estimation:  71%|██████████████████████████████████████████████████████████████████████████████████▎                                 | 142/200 [00:50<00:14,  3.92it/s]"
     ]
    },
    {
     "name": "stdout",
     "output_type": "stream",
     "text": [
      "(0.02264, -0.02429, 8)\n"
     ]
    },
    {
     "name": "stderr",
     "output_type": "stream",
     "text": [
      "Rapid random sampling for factor estimation:  72%|██████████████████████████████████████████████████████████████████████████████████▉                                 | 143/200 [00:50<00:15,  3.75it/s]"
     ]
    },
    {
     "name": "stdout",
     "output_type": "stream",
     "text": [
      "(0.22234, -0.23897, 3)\n",
      "(0.0219, -0.02398, 8)\n"
     ]
    },
    {
     "name": "stderr",
     "output_type": "stream",
     "text": [
      "Rapid random sampling for factor estimation:  72%|████████████████████████████████████████████████████████████████████████████████████                                | 145/200 [00:51<00:16,  3.38it/s]"
     ]
    },
    {
     "name": "stdout",
     "output_type": "stream",
     "text": [
      "(0.023, -0.02696, 6)\n",
      "(0.02301, -0.02408, 7)\n"
     ]
    },
    {
     "name": "stderr",
     "output_type": "stream",
     "text": [
      "Rapid random sampling for factor estimation:  74%|█████████████████████████████████████████████████████████████████████████████████████▊                              | 148/200 [00:52<00:12,  4.08it/s]"
     ]
    },
    {
     "name": "stdout",
     "output_type": "stream",
     "text": [
      "(0.02189, -0.02354, 8)\n",
      "(0.02241, -0.02248, 10)\n"
     ]
    },
    {
     "name": "stderr",
     "output_type": "stream",
     "text": [
      "Rapid random sampling for factor estimation:  74%|██████████████████████████████████████████████████████████████████████████████████████▍                             | 149/200 [00:52<00:12,  4.19it/s]"
     ]
    },
    {
     "name": "stdout",
     "output_type": "stream",
     "text": [
      "(0.11231, -0.13627, 4)\n",
      "(0.02123, -0.02336, 9)\n"
     ]
    },
    {
     "name": "stderr",
     "output_type": "stream",
     "text": [
      "Rapid random sampling for factor estimation:  76%|███████████████████████████████████████████████████████████████████████████████████████▌                            | 151/200 [00:52<00:10,  4.54it/s]"
     ]
    },
    {
     "name": "stdout",
     "output_type": "stream",
     "text": [
      "(0.02313, -0.02437, 6)\n",
      "(0.28013, -0.34963, 2)\n",
      "(0.05709, -0.07948, 5)\n"
     ]
    },
    {
     "name": "stderr",
     "output_type": "stream",
     "text": [
      "Rapid random sampling for factor estimation:  77%|█████████████████████████████████████████████████████████████████████████████████████████▎                          | 154/200 [00:53<00:08,  5.18it/s]"
     ]
    },
    {
     "name": "stdout",
     "output_type": "stream",
     "text": [
      "(0.35986, -0.39142, 2)\n"
     ]
    },
    {
     "name": "stderr",
     "output_type": "stream",
     "text": [
      "Rapid random sampling for factor estimation:  78%|█████████████████████████████████████████████████████████████████████████████████████████▉                          | 155/200 [00:53<00:10,  4.43it/s]"
     ]
    },
    {
     "name": "stdout",
     "output_type": "stream",
     "text": [
      "(0.02054, -0.02202, 10)\n"
     ]
    },
    {
     "name": "stderr",
     "output_type": "stream",
     "text": [
      "Rapid random sampling for factor estimation:  78%|██████████████████████████████████████████████████████████████████████████████████████████▍                         | 156/200 [00:53<00:11,  3.70it/s]"
     ]
    },
    {
     "name": "stdout",
     "output_type": "stream",
     "text": [
      "(0.11965, -0.13672, 4)\n"
     ]
    },
    {
     "name": "stderr",
     "output_type": "stream",
     "text": [
      "Rapid random sampling for factor estimation:  78%|███████████████████████████████████████████████████████████████████████████████████████████                         | 157/200 [00:54<00:14,  2.92it/s]"
     ]
    },
    {
     "name": "stdout",
     "output_type": "stream",
     "text": [
      "(0.02158, -0.02225, 11)\n",
      "(0.02339, -0.02427, 7)\n"
     ]
    },
    {
     "name": "stderr",
     "output_type": "stream",
     "text": [
      "Rapid random sampling for factor estimation:  80%|████████████████████████████████████████████████████████████████████████████████████████████▏                       | 159/200 [00:55<00:14,  2.90it/s]"
     ]
    },
    {
     "name": "stdout",
     "output_type": "stream",
     "text": [
      "(0.11785, -0.13662, 4)\n",
      "(0.19345, -0.22235, 3)\n"
     ]
    },
    {
     "name": "stderr",
     "output_type": "stream",
     "text": [
      "Rapid random sampling for factor estimation:  80%|█████████████████████████████████████████████████████████████████████████████████████████████▍                      | 161/200 [00:55<00:10,  3.86it/s]"
     ]
    },
    {
     "name": "stdout",
     "output_type": "stream",
     "text": [
      "(0.11955, -0.13684, 4)\n",
      "(0.02226, -0.02513, 6)\n"
     ]
    },
    {
     "name": "stderr",
     "output_type": "stream",
     "text": [
      "Rapid random sampling for factor estimation:  82%|██████████████████████████████████████████████████████████████████████████████████████████████▌                     | 163/200 [00:55<00:07,  4.72it/s]"
     ]
    },
    {
     "name": "stdout",
     "output_type": "stream",
     "text": [
      "(0.02173, -0.02394, 7)\n",
      "(0.02157, -0.02279, 10)\n"
     ]
    },
    {
     "name": "stderr",
     "output_type": "stream",
     "text": [
      "Rapid random sampling for factor estimation:  82%|███████████████████████████████████████████████████████████████████████████████████████████████▋                    | 165/200 [00:56<00:08,  4.06it/s]"
     ]
    },
    {
     "name": "stdout",
     "output_type": "stream",
     "text": [
      "(0.11984, -0.13956, 4)\n"
     ]
    },
    {
     "name": "stderr",
     "output_type": "stream",
     "text": [
      "Rapid random sampling for factor estimation:  83%|████████████████████████████████████████████████████████████████████████████████████████████████▎                   | 166/200 [00:57<00:13,  2.61it/s]"
     ]
    },
    {
     "name": "stdout",
     "output_type": "stream",
     "text": [
      "(0.02111, -0.02292, 10)\n"
     ]
    },
    {
     "name": "stderr",
     "output_type": "stream",
     "text": [
      "Rapid random sampling for factor estimation:  84%|████████████████████████████████████████████████████████████████████████████████████████████████▊                   | 167/200 [00:58<00:19,  1.69it/s]"
     ]
    },
    {
     "name": "stdout",
     "output_type": "stream",
     "text": [
      "(0.02224, -0.02402, 8)\n"
     ]
    },
    {
     "name": "stderr",
     "output_type": "stream",
     "text": [
      "Rapid random sampling for factor estimation:  84%|█████████████████████████████████████████████████████████████████████████████████████████████████▍                  | 168/200 [00:58<00:16,  1.90it/s]"
     ]
    },
    {
     "name": "stdout",
     "output_type": "stream",
     "text": [
      "(0.02282, -0.02325, 10)\n"
     ]
    },
    {
     "name": "stderr",
     "output_type": "stream",
     "text": [
      "Rapid random sampling for factor estimation:  85%|██████████████████████████████████████████████████████████████████████████████████████████████████▌                 | 170/200 [00:59<00:12,  2.38it/s]"
     ]
    },
    {
     "name": "stdout",
     "output_type": "stream",
     "text": [
      "(0.02299, -0.02346, 9)\n",
      "(0.0226, -0.02399, 8)\n"
     ]
    },
    {
     "name": "stderr",
     "output_type": "stream",
     "text": [
      "Rapid random sampling for factor estimation:  86%|███████████████████████████████████████████████████████████████████████████████████████████████████▊                | 172/200 [00:59<00:08,  3.43it/s]"
     ]
    },
    {
     "name": "stdout",
     "output_type": "stream",
     "text": [
      "(0.18222, -0.21427, 3)\n",
      "(0.02189, -0.02232, 10)\n"
     ]
    },
    {
     "name": "stderr",
     "output_type": "stream",
     "text": [
      "Rapid random sampling for factor estimation:  87%|████████████████████████████████████████████████████████████████████████████████████████████████████▉               | 174/200 [01:00<00:05,  4.84it/s]"
     ]
    },
    {
     "name": "stdout",
     "output_type": "stream",
     "text": [
      "(0.02036, -0.02216, 11)\n",
      "(0.02202, -0.02295, 10)\n"
     ]
    },
    {
     "name": "stderr",
     "output_type": "stream",
     "text": [
      "Rapid random sampling for factor estimation:  88%|█████████████████████████████████████████████████████████████████████████████████████████████████████▌              | 175/200 [01:00<00:04,  5.19it/s]"
     ]
    },
    {
     "name": "stdout",
     "output_type": "stream",
     "text": [
      "(0.13218, -0.1411, 4)\n"
     ]
    },
    {
     "name": "stderr",
     "output_type": "stream",
     "text": [
      "Rapid random sampling for factor estimation:  88%|██████████████████████████████████████████████████████████████████████████████████████████████████████              | 176/200 [01:01<00:08,  2.95it/s]"
     ]
    },
    {
     "name": "stdout",
     "output_type": "stream",
     "text": [
      "(0.02077, -0.02226, 11)\n"
     ]
    },
    {
     "name": "stderr",
     "output_type": "stream",
     "text": [
      "Rapid random sampling for factor estimation:  88%|██████████████████████████████████████████████████████████████████████████████████████████████████████▋             | 177/200 [01:01<00:11,  2.04it/s]"
     ]
    },
    {
     "name": "stdout",
     "output_type": "stream",
     "text": [
      "(0.02147, -0.02304, 10)\n",
      "(0.02221, -0.02424, 9)\n"
     ]
    },
    {
     "name": "stderr",
     "output_type": "stream",
     "text": [
      "Rapid random sampling for factor estimation:  90%|███████████████████████████████████████████████████████████████████████████████████████████████████████▊            | 179/200 [01:02<00:07,  2.66it/s]"
     ]
    },
    {
     "name": "stdout",
     "output_type": "stream",
     "text": [
      "(0.02236, -0.02359, 9)\n",
      "(0.06279, -0.07578, 5)\n"
     ]
    },
    {
     "name": "stderr",
     "output_type": "stream",
     "text": [
      "Rapid random sampling for factor estimation:  90%|████████████████████████████████████████████████████████████████████████████████████████████████████████▉           | 181/200 [01:02<00:05,  3.43it/s]"
     ]
    },
    {
     "name": "stdout",
     "output_type": "stream",
     "text": [
      "(0.02283, -0.02543, 6)\n",
      "(0.31587, -0.36597, 2)\n"
     ]
    },
    {
     "name": "stderr",
     "output_type": "stream",
     "text": [
      "Rapid random sampling for factor estimation:  92%|██████████████████████████████████████████████████████████████████████████████████████████████████████████▏         | 183/200 [01:03<00:04,  3.70it/s]"
     ]
    },
    {
     "name": "stdout",
     "output_type": "stream",
     "text": [
      "(0.31602, -0.36461, 2)\n"
     ]
    },
    {
     "name": "stderr",
     "output_type": "stream",
     "text": [
      "Rapid random sampling for factor estimation:  92%|██████████████████████████████████████████████████████████████████████████████████████████████████████████▋         | 184/200 [01:03<00:05,  2.69it/s]"
     ]
    },
    {
     "name": "stdout",
     "output_type": "stream",
     "text": [
      "(0.02153, -0.02499, 6)\n"
     ]
    },
    {
     "name": "stderr",
     "output_type": "stream",
     "text": [
      "Rapid random sampling for factor estimation:  94%|████████████████████████████████████████████████████████████████████████████████████████████████████████████▍       | 187/200 [01:04<00:03,  4.24it/s]"
     ]
    },
    {
     "name": "stdout",
     "output_type": "stream",
     "text": [
      "(0.02067, -0.02153, 11)\n",
      "(0.02251, -0.02338, 9)\n",
      "(0.18185, -0.21413, 3)\n",
      "(0.11943, -0.13667, 4)\n"
     ]
    },
    {
     "name": "stderr",
     "output_type": "stream",
     "text": [
      "Rapid random sampling for factor estimation:  94%|█████████████████████████████████████████████████████████████████████████████████████████████████████████████▌      | 189/200 [01:04<00:02,  5.38it/s]"
     ]
    },
    {
     "name": "stdout",
     "output_type": "stream",
     "text": [
      "(0.02154, -0.02305, 9)\n"
     ]
    },
    {
     "name": "stderr",
     "output_type": "stream",
     "text": [
      "Rapid random sampling for factor estimation:  96%|██████████████████████████████████████████████████████████████████████████████████████████████████████████████▊     | 191/200 [01:05<00:02,  3.57it/s]"
     ]
    },
    {
     "name": "stdout",
     "output_type": "stream",
     "text": [
      "(0.02186, -0.02171, 11)\n",
      "(0.02262, -0.02544, 6)\n"
     ]
    },
    {
     "name": "stderr",
     "output_type": "stream",
     "text": [
      "Rapid random sampling for factor estimation:  96%|███████████████████████████████████████████████████████████████████████████████████████████████████████████████▎    | 192/200 [01:06<00:02,  2.87it/s]"
     ]
    },
    {
     "name": "stdout",
     "output_type": "stream",
     "text": [
      "(0.02181, -0.0242, 7)\n",
      "(0.0761, -0.07458, 5)\n"
     ]
    },
    {
     "name": "stderr",
     "output_type": "stream",
     "text": [
      "Rapid random sampling for factor estimation:  97%|████████████████████████████████████████████████████████████████████████████████████████████████████████████████▌   | 194/200 [01:06<00:01,  3.43it/s]"
     ]
    },
    {
     "name": "stdout",
     "output_type": "stream",
     "text": [
      "(0.02293, -0.02438, 8)\n"
     ]
    },
    {
     "name": "stderr",
     "output_type": "stream",
     "text": [
      "Rapid random sampling for factor estimation:  98%|█████████████████████████████████████████████████████████████████████████████████████████████████████████████████   | 195/200 [01:06<00:01,  3.36it/s]"
     ]
    },
    {
     "name": "stdout",
     "output_type": "stream",
     "text": [
      "(0.02307, -0.02391, 7)\n",
      "(0.02086, -0.02283, 8)\n"
     ]
    },
    {
     "name": "stderr",
     "output_type": "stream",
     "text": [
      "Rapid random sampling for factor estimation:  98%|██████████████████████████████████████████████████████████████████████████████████████████████████████████████████▎ | 197/200 [01:07<00:00,  4.12it/s]"
     ]
    },
    {
     "name": "stdout",
     "output_type": "stream",
     "text": [
      "(0.0218, -0.02402, 7)\n",
      "(0.02269, -0.02354, 8)\n"
     ]
    },
    {
     "name": "stderr",
     "output_type": "stream",
     "text": [
      "Rapid random sampling for factor estimation: 100%|███████████████████████████████████████████████████████████████████████████████████████████████████████████████████▍| 199/200 [01:07<00:00,  4.99it/s]"
     ]
    },
    {
     "name": "stdout",
     "output_type": "stream",
     "text": [
      "(0.02226, -0.02404, 8)\n"
     ]
    },
    {
     "name": "stderr",
     "output_type": "stream",
     "text": [
      "Rapid random sampling for factor estimation: 100%|████████████████████████████████████████████████████████████████████████████████████████████████████████████████████| 200/200 [01:10<00:00,  1.20it/s]"
     ]
    },
    {
     "name": "stdout",
     "output_type": "stream",
     "text": [
      "(0.02103, -0.02255, 10)\n"
     ]
    },
    {
     "name": "stderr",
     "output_type": "stream",
     "text": [
      "Rapid random sampling for factor estimation: 100%|████████████████████████████████████████████████████████████████████████████████████████████████████████████████████| 200/200 [01:11<00:00,  2.81it/s]\n",
      "08-May-24 15:55:35 - Estimated factor count: 5\n"
     ]
    },
    {
     "data": {
      "text/html": [
       "<div>\n",
       "<style scoped>\n",
       "    .dataframe tbody tr th:only-of-type {\n",
       "        vertical-align: middle;\n",
       "    }\n",
       "\n",
       "    .dataframe tbody tr th {\n",
       "        vertical-align: top;\n",
       "    }\n",
       "\n",
       "    .dataframe thead th {\n",
       "        text-align: right;\n",
       "    }\n",
       "</style>\n",
       "<table border=\"1\" class=\"dataframe\">\n",
       "  <thead>\n",
       "    <tr style=\"text-align: right;\">\n",
       "      <th></th>\n",
       "      <th>Test MSE</th>\n",
       "      <th>Train MSE</th>\n",
       "      <th>Delta MSE</th>\n",
       "      <th>Delta Ratio</th>\n",
       "    </tr>\n",
       "  </thead>\n",
       "  <tbody>\n",
       "    <tr>\n",
       "      <th>0</th>\n",
       "      <td>-0.364856</td>\n",
       "      <td>0.306172</td>\n",
       "      <td>NaN</td>\n",
       "      <td>NaN</td>\n",
       "    </tr>\n",
       "    <tr>\n",
       "      <th>1</th>\n",
       "      <td>-0.229468</td>\n",
       "      <td>0.198227</td>\n",
       "      <td>-0.135387</td>\n",
       "      <td>NaN</td>\n",
       "    </tr>\n",
       "    <tr>\n",
       "      <th>2</th>\n",
       "      <td>-0.138647</td>\n",
       "      <td>0.120554</td>\n",
       "      <td>-0.090822</td>\n",
       "      <td>1.490629</td>\n",
       "    </tr>\n",
       "    <tr>\n",
       "      <th>3</th>\n",
       "      <td>-0.079471</td>\n",
       "      <td>0.067637</td>\n",
       "      <td>-0.059175</td>\n",
       "      <td>1.534676</td>\n",
       "    </tr>\n",
       "    <tr>\n",
       "      <th>4</th>\n",
       "      <td>-0.025120</td>\n",
       "      <td>0.022829</td>\n",
       "      <td>-0.054351</td>\n",
       "      <td>1.088679</td>\n",
       "    </tr>\n",
       "    <tr>\n",
       "      <th>5</th>\n",
       "      <td>-0.024230</td>\n",
       "      <td>0.022372</td>\n",
       "      <td>-0.000890</td>\n",
       "      <td>60.749164</td>\n",
       "    </tr>\n",
       "    <tr>\n",
       "      <th>6</th>\n",
       "      <td>-0.023697</td>\n",
       "      <td>0.022261</td>\n",
       "      <td>-0.000533</td>\n",
       "      <td>1.658128</td>\n",
       "    </tr>\n",
       "    <tr>\n",
       "      <th>7</th>\n",
       "      <td>-0.023275</td>\n",
       "      <td>0.021722</td>\n",
       "      <td>-0.000422</td>\n",
       "      <td>1.248875</td>\n",
       "    </tr>\n",
       "    <tr>\n",
       "      <th>8</th>\n",
       "      <td>-0.022624</td>\n",
       "      <td>0.021535</td>\n",
       "      <td>-0.000651</td>\n",
       "      <td>0.645143</td>\n",
       "    </tr>\n",
       "    <tr>\n",
       "      <th>9</th>\n",
       "      <td>-0.022009</td>\n",
       "      <td>0.020757</td>\n",
       "      <td>-0.000615</td>\n",
       "      <td>1.050612</td>\n",
       "    </tr>\n",
       "  </tbody>\n",
       "</table>\n",
       "</div>"
      ],
      "text/plain": [
       "   Test MSE  Train MSE  Delta MSE  Delta Ratio\n",
       "0 -0.364856   0.306172        NaN          NaN\n",
       "1 -0.229468   0.198227  -0.135387          NaN\n",
       "2 -0.138647   0.120554  -0.090822     1.490629\n",
       "3 -0.079471   0.067637  -0.059175     1.534676\n",
       "4 -0.025120   0.022829  -0.054351     1.088679\n",
       "5 -0.024230   0.022372  -0.000890    60.749164\n",
       "6 -0.023697   0.022261  -0.000533     1.658128\n",
       "7 -0.023275   0.021722  -0.000422     1.248875\n",
       "8 -0.022624   0.021535  -0.000651     0.645143\n",
       "9 -0.022009   0.020757  -0.000615     1.050612"
      ]
     },
     "execution_count": 11,
     "metadata": {},
     "output_type": "execute_result"
    }
   ],
   "source": [
    "factor_search = FSearch(V=V, U=U)\n",
    "results = factor_search.search(samples=200, min_factors=2, max_factors=12)\n",
    "results"
   ]
  },
  {
   "cell_type": "code",
   "execution_count": 13,
   "id": "889ecbbc-0ce4-4f89-8e9f-92cd0c48fe0b",
   "metadata": {},
   "outputs": [
    {
     "data": {
      "text/html": [
       "<div>\n",
       "<style scoped>\n",
       "    .dataframe tbody tr th:only-of-type {\n",
       "        vertical-align: middle;\n",
       "    }\n",
       "\n",
       "    .dataframe tbody tr th {\n",
       "        vertical-align: top;\n",
       "    }\n",
       "\n",
       "    .dataframe thead th {\n",
       "        text-align: right;\n",
       "    }\n",
       "</style>\n",
       "<table border=\"1\" class=\"dataframe\">\n",
       "  <thead>\n",
       "    <tr style=\"text-align: right;\">\n",
       "      <th></th>\n",
       "      <th>Test MSE</th>\n",
       "      <th>Train MSE</th>\n",
       "      <th>Delta MSE</th>\n",
       "      <th>Delta Ratio</th>\n",
       "    </tr>\n",
       "  </thead>\n",
       "  <tbody>\n",
       "    <tr>\n",
       "      <th>0</th>\n",
       "      <td>-0.364856</td>\n",
       "      <td>0.306172</td>\n",
       "      <td>NaN</td>\n",
       "      <td>NaN</td>\n",
       "    </tr>\n",
       "    <tr>\n",
       "      <th>1</th>\n",
       "      <td>-0.229468</td>\n",
       "      <td>0.198227</td>\n",
       "      <td>-0.135387</td>\n",
       "      <td>NaN</td>\n",
       "    </tr>\n",
       "    <tr>\n",
       "      <th>2</th>\n",
       "      <td>-0.138647</td>\n",
       "      <td>0.120554</td>\n",
       "      <td>-0.090822</td>\n",
       "      <td>1.490629</td>\n",
       "    </tr>\n",
       "    <tr>\n",
       "      <th>3</th>\n",
       "      <td>-0.079471</td>\n",
       "      <td>0.067637</td>\n",
       "      <td>-0.059175</td>\n",
       "      <td>1.534676</td>\n",
       "    </tr>\n",
       "    <tr>\n",
       "      <th>4</th>\n",
       "      <td>-0.025120</td>\n",
       "      <td>0.022829</td>\n",
       "      <td>-0.054351</td>\n",
       "      <td>1.088679</td>\n",
       "    </tr>\n",
       "    <tr>\n",
       "      <th>5</th>\n",
       "      <td>-0.024230</td>\n",
       "      <td>0.022372</td>\n",
       "      <td>-0.000890</td>\n",
       "      <td>60.749164</td>\n",
       "    </tr>\n",
       "    <tr>\n",
       "      <th>6</th>\n",
       "      <td>-0.023697</td>\n",
       "      <td>0.022261</td>\n",
       "      <td>-0.000533</td>\n",
       "      <td>1.658128</td>\n",
       "    </tr>\n",
       "    <tr>\n",
       "      <th>7</th>\n",
       "      <td>-0.023275</td>\n",
       "      <td>0.021722</td>\n",
       "      <td>-0.000422</td>\n",
       "      <td>1.248875</td>\n",
       "    </tr>\n",
       "    <tr>\n",
       "      <th>8</th>\n",
       "      <td>-0.022624</td>\n",
       "      <td>0.021535</td>\n",
       "      <td>-0.000651</td>\n",
       "      <td>0.645143</td>\n",
       "    </tr>\n",
       "    <tr>\n",
       "      <th>9</th>\n",
       "      <td>-0.022009</td>\n",
       "      <td>0.020757</td>\n",
       "      <td>-0.000615</td>\n",
       "      <td>1.050612</td>\n",
       "    </tr>\n",
       "  </tbody>\n",
       "</table>\n",
       "</div>"
      ],
      "text/plain": [
       "   Test MSE  Train MSE  Delta MSE  Delta Ratio\n",
       "0 -0.364856   0.306172        NaN          NaN\n",
       "1 -0.229468   0.198227  -0.135387          NaN\n",
       "2 -0.138647   0.120554  -0.090822     1.490629\n",
       "3 -0.079471   0.067637  -0.059175     1.534676\n",
       "4 -0.025120   0.022829  -0.054351     1.088679\n",
       "5 -0.024230   0.022372  -0.000890    60.749164\n",
       "6 -0.023697   0.022261  -0.000533     1.658128\n",
       "7 -0.023275   0.021722  -0.000422     1.248875\n",
       "8 -0.022624   0.021535  -0.000651     0.645143\n",
       "9 -0.022009   0.020757  -0.000615     1.050612"
      ]
     },
     "execution_count": 13,
     "metadata": {},
     "output_type": "execute_result"
    }
   ],
   "source": [
    "factor_search.plot(actual_count=syn_factors)"
   ]
  },
  {
   "cell_type": "code",
   "execution_count": null,
   "id": "92b6e551-4a96-499e-b1fe-1c564dfd07c5",
   "metadata": {},
   "outputs": [],
   "source": [
    "# rng = np.random.default_rng(seed=seed)\n",
    "\n",
    "# hold_percentage = 0.10               # 10%\n",
    "# mask = rng.random(size=V.shape) > hold_percentage\n",
    "# rng_V = rng.random(size=V.shape)\n",
    "# rng_U = rng.random(size=U.shape)\n",
    "\n",
    "# V_train = copy.copy(V)\n",
    "# V_train[~mask] = rng_V[~mask]\n",
    "# U_train = copy.copy(U)\n",
    "# U_train[~mask] = rng_U[~mask]\n",
    "\n",
    "# m_train = np.count_nonzero(mask)\n",
    "# m_test = np.count_nonzero(~mask)\n",
    "\n",
    "# pbar = None\n",
    "\n",
    "# def get_mask(V, threshold=0.1):\n",
    "#     _mask = np.zeros(shape=V.shape)\n",
    "#     for feature in range(V.shape[1]):\n",
    "#         feature_i = rng.random(size=V[feature].shape) > threshold\n",
    "#         _mask[feature] = feature_i\n",
    "#     return _mask.astype(int)\n",
    "\n",
    "# def random_sample(seed, factor_n):\n",
    "#     mask = get_mask(V=V, threshold=hold_percentage)\n",
    "#     m_train = np.count_nonzero(mask)\n",
    "#     m_test = np.count_nonzero(~mask)\n",
    "#     _sa = SA(V=V, U=U, factors=factor_n, method=method, seed=seed, optimized=True, verbose=False)\n",
    "#     _sa.initialize()\n",
    "#     _sa.train(max_iter=10000, converge_delta=1.0, converge_n=10)\n",
    "#     residuals = V - _sa.WH\n",
    "#     train_residuals = np.multiply(mask, residuals**2)\n",
    "#     test_residuals = np.multiply(~mask, residuals**2)\n",
    "#     train_mse = np.round(train_residuals.sum()/m_train, 5)\n",
    "#     test_mse = np.round(test_residuals.sum()/m_test, 5)\n",
    "#     return train_mse, test_mse, factor_n"
   ]
  },
  {
   "cell_type": "code",
   "execution_count": null,
   "id": "b76021d9-242a-41a4-9c3d-abdf2bfa5d10",
   "metadata": {},
   "outputs": [],
   "source": [
    "# samples = 100\n",
    "\n",
    "# min_factor = 3\n",
    "# max_factor = 15\n",
    "# train_mse = [[] for i in range(max_factor-min_factor)]\n",
    "# test_mse = [[] for i in range(max_factor-min_factor)]\n",
    "\n",
    "# # mp_pool = mp.Pool()\n",
    "# # pool_parameters = []\n",
    "# # for i in range(samples):\n",
    "# #     seed_i = rng.integers(low=100, high=1e6, size=1)[0]\n",
    "# #     factor_i = rng.integers(low=min_factor, high=max_factor, size=1)[0]\n",
    "# #     pool_parameters.append((seed_i, factor_i))\n",
    "\n",
    "# # pbar = tqdm(total=samples, desc=\"Rapid random sampling for factor estimation\")\n",
    "\n",
    "# # with mp.Pool() as pool:\n",
    "# #     results = pool.starmap(random_sample, pool_parameters)\n",
    "# # for result in results:\n",
    "# #     list_i = result[2]-min_factor\n",
    "# #     train_mse[list_i].append(result[0])\n",
    "# #     test_mse[list_i].append(result[1])\n",
    "\n",
    "\n",
    "\n",
    "# for i in tqdm(range(samples), desc=\"Rapid random sampling for factor estimation\"):\n",
    "#     seed_i = rng.integers(low=100, high=1e6, size=1)[0]\n",
    "#     factor_i = rng.integers(low=min_factor, high=max_factor, size=1)[0]\n",
    "#     train_mse_i, test_mse_i, _ = random_sample(seed=seed_i, factor_n=factor_i)\n",
    "#     list_i = factor_i-min_factor\n",
    "#     train_mse[list_i].append(train_mse_i)\n",
    "#     test_mse[list_i].append(test_mse_i)\n",
    "\n",
    "# # mask_n = 3\n",
    "# # train_mse = []\n",
    "# # test_mse = []\n",
    "\n",
    "# # min_factor = 1\n",
    "# # max_factor = 15\n",
    "# # check_i = 0\n",
    "# # total_n = int(mask_n)\n",
    "# # print(f\"Total: {total_n}\")\n",
    "\n",
    "\n",
    "\n",
    "\n",
    "# # mask_pbar = tqdm(range(mask_n), total=total_n, desc=f\"Mask: NA - Searching factors {min_factor} -> {max_factor}\") \n",
    "# # for mask_i in mask_pbar:\n",
    "# #     mask_pbar.set_description(f\"Mask: {mask_i+1} - Searching factors {min_factor} -> {max_factor}\")\n",
    "# #     # mask = rng.random(size=V.shape) > hold_percentage\n",
    "# #     mask = get_mask(V=V, threshold=hold_percentage)\n",
    "# #     m_train = np.count_nonzero(mask)\n",
    "# #     m_test = np.count_nonzero(~mask)\n",
    "# #     # mask = mask.astype(int)\n",
    "\n",
    "# #     train_mse_n = []\n",
    "# #     test_mse_n = []\n",
    "# #     # for factor_n in tqdm(list(range(min_factor, max_factor+1)), desc=f\"Mask: {mask_i} - Search factors {min_factor} -> {max_factor}\", position=0, leave=True):\n",
    "# #     for factor_n in range(min_factor, max_factor+1):\n",
    "# #         # mask = get_mask(V=nV, threshold=hold_percentage)\n",
    "# #         # m_train = np.count_nonzero(mask)\n",
    "# #         # m_test = np.count_nonzero(~mask)\n",
    "# #         # mask = mask.astype(int)\n",
    "# #         # _batch_sa = BatchSA(V=V, U=U, factors=factor_n, method=method, seed=seed, optimized=True, verbose=False)\n",
    "# #         _sa = SA(V=V, U=U, factors=factor_n, method=method, seed=seed, optimized=True, verbose=False)\n",
    "# #         _sa.initialize()\n",
    "# #         _sa.train()\n",
    "# #         # _sa = _batch_sa.results[_batch_sa.best_model]\n",
    "# #         residuals = V - _sa.WH\n",
    "# #         train_residuals = np.multiply(mask, residuals**2)\n",
    "# #         test_residuals = np.multiply(~mask, residuals**2)\n",
    "# #         train_mse_i = np.round(train_residuals.sum()/m_train, 5)\n",
    "# #         test_mse_i = np.round(test_residuals.sum()/m_test, 5)\n",
    "# #         train_mse_n.append(train_mse_i)\n",
    "# #         test_mse_n.append(test_mse_i)\n",
    "# #     train_mse.append(train_mse_n)\n",
    "# #     test_mse.append(test_mse_n)"
   ]
  },
  {
   "cell_type": "code",
   "execution_count": null,
   "id": "087dd484-5f21-4eea-92df-59563e837643",
   "metadata": {},
   "outputs": [],
   "source": []
  },
  {
   "cell_type": "code",
   "execution_count": null,
   "id": "09bfd9c9-78b7-4cc9-8008-8970cbb660a9",
   "metadata": {},
   "outputs": [],
   "source": [
    "# train_mse_mean = [np.mean(i) for i in train_mse]\n",
    "# test_mse_mean = [np.mean(i) for i in test_mse]\n",
    "\n",
    "# delta_mse_r = []\n",
    "# for factor_n in range(0, len(test_mse_mean)-1):\n",
    "#     delta_i = test_mse_mean[factor_n] - test_mse_mean[factor_n+1]\n",
    "#     delta_mse_r.append(delta_i)\n",
    "# c = np.max(delta_mse_r)*0.01\n",
    "# ratio_delta = [np.nan]*2\n",
    "# for factor_n in range(0, len(test_mse_mean)-2):\n",
    "#     rd = delta_mse_r[factor_n]/(delta_mse_r[factor_n+1]+c)\n",
    "#     ratio_delta.append(rd)\n",
    "# delta_mse = [np.nan]\n",
    "# for factor_n in range(0, len(test_mse_mean)-1):\n",
    "#     delta_i = test_mse_mean[factor_n] - test_mse_mean[factor_n+1]\n",
    "#     delta_mse.append(delta_i)\n",
    "\n",
    "# mse_fig = go.Figure()\n",
    "# x = list(range(min_factor, max_factor))\n",
    "# mse_fig.add_trace(go.Scatter(x=x, y=train_mse_mean, name=\"Train MSE\", mode='lines+markers'))\n",
    "# mse_fig.add_trace(go.Scatter(x=x, y=test_mse_mean, name=\"Test MSE\", mode='lines+markers'))\n",
    "# mse_fig.add_trace(go.Scatter(x=x, y=delta_mse, name=\"Delta MSE\", mode='lines+markers'))\n",
    "# mse_fig.add_trace(go.Scatter(x=x, y=ratio_delta, name=\"Ratio MSE\", mode='lines+markers'))\n",
    "# mse_fig.add_vline(x=syn_factors, line_width=1, line_dash=\"dash\", line_color=\"black\", name=\"Actual Factors\")\n",
    "# mse_fig.update_layout(width=800, height=800, title_text=\"Factor Search\", hovermode='x')\n",
    "# mse_fig.update_yaxes(title_text=\"Mean Squared Error\")\n",
    "# mse_fig.update_xaxes(title_text=\"Number of Factors\")\n",
    "# mse_fig.show()"
   ]
  },
  {
   "cell_type": "code",
   "execution_count": null,
   "id": "03fe726c-db04-4de1-9ce5-4e8593356784",
   "metadata": {},
   "outputs": [],
   "source": [
    "# optimal_factor_n = np.nanargmax(ratio_delta) + min_factor\n",
    "# print(f\"Optimal Factor n: {optimal_factor_n}, Actual Factor n: {syn_factors}\")"
   ]
  },
  {
   "cell_type": "code",
   "execution_count": null,
   "id": "2f6e14d6-f287-48e2-a1f1-8b4083bb1a2e",
   "metadata": {},
   "outputs": [],
   "source": []
  },
  {
   "cell_type": "code",
   "execution_count": null,
   "id": "518f1ed2-324c-47e8-9986-267a4076bd4b",
   "metadata": {},
   "outputs": [],
   "source": []
  },
  {
   "cell_type": "code",
   "execution_count": null,
   "id": "b4300bec-ed42-41bf-8ca6-4a5ccee53bd3",
   "metadata": {},
   "outputs": [],
   "source": []
  },
  {
   "cell_type": "code",
   "execution_count": null,
   "id": "e0b79e6b-ff47-459f-bbde-49d05efe4c17",
   "metadata": {},
   "outputs": [],
   "source": []
  },
  {
   "cell_type": "code",
   "execution_count": null,
   "id": "db68b49c-a87a-4ff6-95e0-9b6501acb3d6",
   "metadata": {},
   "outputs": [],
   "source": []
  },
  {
   "cell_type": "code",
   "execution_count": null,
   "id": "599c81ad-d533-4954-a615-5f5fc01d18b9",
   "metadata": {},
   "outputs": [],
   "source": []
  },
  {
   "cell_type": "code",
   "execution_count": null,
   "id": "3bf1c0c4-0e1e-4a6f-b69b-901335e7033d",
   "metadata": {},
   "outputs": [],
   "source": []
  }
 ],
 "metadata": {
  "kernelspec": {
   "display_name": "Python 3 (ipykernel)",
   "language": "python",
   "name": "python3"
  },
  "language_info": {
   "codemirror_mode": {
    "name": "ipython",
    "version": 3
   },
   "file_extension": ".py",
   "mimetype": "text/x-python",
   "name": "python",
   "nbconvert_exporter": "python",
   "pygments_lexer": "ipython3",
   "version": "3.12.2"
  }
 },
 "nbformat": 4,
 "nbformat_minor": 5
}
