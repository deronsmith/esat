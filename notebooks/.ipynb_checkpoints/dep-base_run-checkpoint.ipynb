{
 "cells": [
  {
   "cell_type": "code",
   "execution_count": 1,
   "id": "46d83210-9ad0-4ee7-80e2-c00030cba177",
   "metadata": {},
   "outputs": [],
   "source": [
    "import os\n",
    "import sys\n",
    "import copy\n",
    "module_path = os.path.abspath(os.path.join('..'))\n",
    "if module_path not in sys.path:\n",
    "    sys.path.append(module_path)\n",
    "    \n",
    "from src.model.model import NMFModel\n",
    "from src.data.datahandler import DataHandler\n",
    "import os\n",
    "import logging\n",
    "import time"
   ]
  },
  {
   "cell_type": "code",
   "execution_count": 2,
   "id": "96359d3b-83f0-4d8a-ae29-260e696f7c31",
   "metadata": {},
   "outputs": [],
   "source": [
    "input_file = os.path.join(\"D:\\\\\", \"projects\", \"nmf_py\", \"data\", \"Dataset-BatonRouge-con.csv\")\n",
    "uncertainty_file = os.path.join(\"D:\\\\\", \"projects\", \"nmf_py\", \"data\", \"Dataset-BatonRouge-unc.csv\")\n",
    "output_path = os.path.join(\"D:\\\\\", \"projects\", \"nmf_py\", \"output\", \"BatonRouge\")"
   ]
  },
  {
   "cell_type": "code",
   "execution_count": 3,
   "id": "73573742-26a5-4206-bc6b-50bc87571895",
   "metadata": {},
   "outputs": [],
   "source": [
    "quantile = 0.99\n",
    "drop_max = True\n",
    "drop_min = False\n",
    "\n",
    "epochs = 20\n",
    "n_components = 4\n",
    "max_iterations = 5000\n",
    "seed = 42\n",
    "use_original_convergence = False\n",
    "\n",
    "lr_initial = 1e-2\n",
    "lr_decay_steps = 250\n",
    "lr_decay_rate = 0.9\n",
    "converge_diff = 50\n",
    "converge_iter = 50\n",
    "epoch_reset = True\n",
    "\n",
    "index_col = \"Date\""
   ]
  },
  {
   "cell_type": "code",
   "execution_count": 4,
   "id": "45f30064-4749-42b4-b176-65865d0ebd67",
   "metadata": {},
   "outputs": [
    {
     "name": "stderr",
     "output_type": "stream",
     "text": [
      "30-Nov-22 15:28:12 - Input and output configured successfully\n",
      "30-Nov-22 15:28:13 - Removed outliers for quantile: 0.98, min values: False, max values: True\n",
      "30-Nov-22 15:28:13 - Original row count: 307, Updated row count: 224\n"
     ]
    }
   ],
   "source": [
    "dh = DataHandler(\n",
    "        input_path=input_file,\n",
    "        uncertainty_path=uncertainty_file,\n",
    "        output_path=output_path,\n",
    "        index_col=index_col\n",
    "    )\n",
    "dh.remove_outliers(quantile=quantile, drop_min=drop_min, drop_max=drop_max)\n",
    "# dh.scale()"
   ]
  },
  {
   "cell_type": "code",
   "execution_count": null,
   "id": "093f8d76-cb03-4bfc-a14d-8632af2e99bb",
   "metadata": {},
   "outputs": [
    {
     "name": "stderr",
     "output_type": "stream",
     "text": [
      "30-Nov-22 15:28:13 - --------------------------------NMF-EPA Model Details ------------------------------------------\n",
      "30-Nov-22 15:28:13 - Epochs: 20, N Components: 4, Seed: 42\n",
      "30-Nov-22 15:28:13 - Max Iterations: 7000, Feature Count: 41, Sample Count: 224\n",
      "30-Nov-22 15:28:13 - Convergence Difference Threshold 50, Convergence Iterations Threshold: 50\n",
      "30-Nov-22 15:28:13 - Number of GPU's available: 1\n",
      "30-Nov-22 15:28:13 - ------------------------------------------------------------------------------------------------\n",
      "Epoch 1 fit: Q = 77960.171875:   5%|██▌                                             | 381/7000 [00:11<03:01, 36.45it/s]"
     ]
    }
   ],
   "source": [
    "model = NMFModel(\n",
    "    dh=dh, \n",
    "    epochs=epochs, \n",
    "    n_components=n_components, \n",
    "    max_iterations=max_iterations, \n",
    "    seed=seed,\n",
    "    lr_initial=lr_initial,\n",
    "    lr_decay_steps=lr_decay_steps,\n",
    "    lr_decay_rate=lr_decay_rate,\n",
    "    converge_diff=converge_diff,\n",
    "    converge_iter=converge_iter,\n",
    "    epoch_reset=epoch_reset,\n",
    "    use_original_convergence=use_original_convergence\n",
    ")\n",
    "model.fit()\n",
    "model.print_results()"
   ]
  },
  {
   "cell_type": "code",
   "execution_count": null,
   "id": "94051004-dccf-4b90-8e06-5067d2ab9ad7",
   "metadata": {},
   "outputs": [],
   "source": [
    "model.save(output_name=\"test-save.json\")"
   ]
  },
  {
   "cell_type": "code",
   "execution_count": null,
   "id": "5e0ac04a-0171-4189-9244-5d783590ceb8",
   "metadata": {},
   "outputs": [],
   "source": []
  }
 ],
 "metadata": {
  "kernelspec": {
   "display_name": "Python 3 (ipykernel)",
   "language": "python",
   "name": "python3"
  },
  "language_info": {
   "codemirror_mode": {
    "name": "ipython",
    "version": 3
   },
   "file_extension": ".py",
   "mimetype": "text/x-python",
   "name": "python",
   "nbconvert_exporter": "python",
   "pygments_lexer": "ipython3",
   "version": "3.10.6"
  }
 },
 "nbformat": 4,
 "nbformat_minor": 5
}
