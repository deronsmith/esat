{
 "cells": [
  {
   "cell_type": "markdown",
   "id": "5686853f-4655-4e79-af04-fe24aac1756e",
   "metadata": {},
   "source": [
    "## ESAT Perturb K-Estimate Workflow\n",
    "\n",
    "This notebook implements an uncertainty perturbation workflow that searches over a range of factor counts to evaluate the change in correlation across permutations and factor counts in an attempt to estimate the optimal factor k.\n"
   ]
  },
  {
   "cell_type": "markdown",
   "id": "206ac55f-9259-4ce1-b87e-3302d2ed00f9",
   "metadata": {},
   "source": [
    "#### Code Imports"
   ]
  },
  {
   "cell_type": "code",
   "execution_count": 1,
   "id": "c9de6b9e-89a5-4db8-94d4-2226605d9ae6",
   "metadata": {},
   "outputs": [],
   "source": [
    "import time\n",
    "import copy\n",
    "\n",
    "import numpy as np\n",
    "import pandas as pd\n",
    "import plotly.graph_objects as go\n",
    "\n",
    "from tqdm.notebook import trange, tqdm, tnrange\n",
    "from plotly.subplots import make_subplots\n",
    "from scipy.sparse import csr_matrix\n",
    "from scipy.sparse.csgraph import min_weight_full_bipartite_matching\n",
    "from esat.data.datahandler import DataHandler\n",
    "from esat.model.sa import SA\n",
    "from esat.model.batch_sa import BatchSA\n",
    "from esat.data.analysis import ModelAnalysis, BatchAnalysis\n",
    "from esat.error.bootstrap import Bootstrap\n",
    "from esat_eval.simulator import Simulator\n",
    "from esat_eval.factor_comparison import FactorCompare\n",
    "\n",
    "pd.options.display.float_format = '{:.4f}'.format"
   ]
  },
  {
   "cell_type": "code",
   "execution_count": 2,
   "id": "47e80dbc-702b-4fca-b800-0660033a251d",
   "metadata": {},
   "outputs": [],
   "source": [
    "# Synethic dataset parameter value ranges\n",
    "syn_factors_min = 3\n",
    "syn_factors_max = 8\n",
    "\n",
    "syn_features_min = 15\n",
    "syn_features_max = 45\n",
    "\n",
    "syn_samples_min = 200\n",
    "syn_samples_max = 1000\n",
    "\n",
    "outliers = True\n",
    "outliers_p_min = 0.05\n",
    "outliers_p_max = 0.1\n",
    "outliers_mag_min = 1.1\n",
    "outliers_mag_max = 2\n",
    "\n",
    "noise_mean_min = 0.05\n",
    "noise_mean_max = 0.15\n",
    "noise_scale = 0.01\n",
    "\n",
    "uncertainty_mean_min = 0.05\n",
    "uncertainty_mean_max = 0.15\n",
    "uncertainty_scale = 0.01\n",
    "\n",
    "contr_curve_min_range = [0.0, 1.0]\n",
    "contr_curve_max_range = [2.0, 5.0]\n",
    "contr_curve_scale_range = [0.1, 0.5]\n",
    "\n",
    "random_seed = 337"
   ]
  },
  {
   "cell_type": "code",
   "execution_count": 3,
   "id": "a2408991-45a6-4a5c-ac14-388f79cbab49",
   "metadata": {},
   "outputs": [],
   "source": [
    "rng = np.random.default_rng(seed=random_seed)"
   ]
  },
  {
   "cell_type": "code",
   "execution_count": 23,
   "id": "372a6a6a-612a-4d00-a3ae-be12aecb0e60",
   "metadata": {},
   "outputs": [],
   "source": [
    "# Initialize the simulator with the above parameters\n",
    "def generate_synthetic_data(true_factor):\n",
    "    n_features = rng.integers(low=syn_features_min, high=syn_features_max, size=1)[0]\n",
    "    n_samples = rng.integers(low=syn_samples_min, high=syn_samples_max, size=1)[0]\n",
    "    i_outlier_p = round(rng.uniform(low=outliers_p_min, high=outliers_p_max, size=1)[0], 2)\n",
    "    i_outlier_mag = round(rng.uniform(low=outliers_mag_min, high=outliers_mag_max, size=1)[0], 2)\n",
    "    contribution_max = round(rng.uniform(low=1.0, high=10.0, size=1)[0], 2)\n",
    "    print(f\"True Factors: {true_factor}, Features: {n_features}, Samples: {n_samples}, Outliers %: {i_outlier_p}, Outliers Magnitude: {i_outlier_mag}, Contribution Max: {contribution_max}\")\n",
    "    simulator = Simulator(seed=rng.integers(low=0, high=10, size=1)[0],\n",
    "                          factors_n=true_factor,\n",
    "                          features_n=n_features,\n",
    "                          samples_n=n_samples,\n",
    "                          outliers=outliers,\n",
    "                          outlier_p=i_outlier_p,\n",
    "                          outlier_mag=i_outlier_mag,\n",
    "                          contribution_max=contribution_max,\n",
    "                          noise_mean_min=noise_mean_min,\n",
    "                          noise_mean_max=noise_mean_max,\n",
    "                          noise_scale=noise_scale,\n",
    "                          uncertainty_mean_min=uncertainty_mean_min,\n",
    "                          uncertainty_mean_max=uncertainty_mean_max,\n",
    "                          uncertainty_scale=uncertainty_scale,\n",
    "                          verbose=False\n",
    "                         )\n",
    "    curved_factors_count = rng.integers(low=0, high=true_factor, size=1)[0]\n",
    "    curved_factor_list = rng.choice(list(range(true_factor)), size=curved_factors_count, replace=False)\n",
    "    for c_i in curved_factor_list:\n",
    "        # parameters not used by the curve type are ignored\n",
    "        i_curve_type = rng.choice(['uniform', 'decreasing', 'increasing', 'logistic', 'periodic'], size=1)[0]\n",
    "        i_curve_min = rng.uniform(low=contr_curve_min_range[0], high=contr_curve_min_range[1], size=1)[0]\n",
    "        i_curve_max = rng.uniform(low=contr_curve_max_range[0], high=contr_curve_max_range[1], size=1)[0]\n",
    "        i_curve_scale = rng.uniform(low=contr_curve_scale_range[0], high=contr_curve_scale_range[1], size=1)[0]\n",
    "        i_curve_frequency = rng.uniform(low=0.1, high=0.9, size=1)[0]\n",
    "        \n",
    "        # To keep all as uniform comment out the line below\n",
    "        # simulator.update_contribution(factor_i=c_i, curve_type=i_curve_type, scale=i_curve_scale, frequency=i_curve_frequency, minimum=i_curve_min, maximum=i_curve_max)\n",
    "    \n",
    "    syn_input_df, syn_uncertainty_df = simulator.get_data()\n",
    "    data_handler = DataHandler.load_dataframe(input_df=syn_input_df, uncertainty_df=syn_uncertainty_df)\n",
    "    data_handler.metrics\n",
    "    V, U = data_handler.get_data()\n",
    "    return V, U\n",
    "\n",
    "# Optimized Factor Mapping Algorithm\n",
    "# Step 1: check indices of max/min values (corr,emc/raae) by column. If all are unique this is the optimal mapping.\n",
    "# Step 2: perform a min weight full bipartite matching, where each column index is mapped to a row index to maximize or minimize the sum of matching.\n",
    "def optimal_mapping_algorithm(batch_results, mapping_type: str = \"raae\"):\n",
    "    n_factors = batch_results[\"k\"]\n",
    "    batch_mapping = {}\n",
    "    batch_values = {}\n",
    "    mean_values = []\n",
    "    for i, p_model in batch_results[\"perturb results\"].items():\n",
    "        model_mapping = None\n",
    "        mapping_values = [-1 for i in range(n_factors)]\n",
    "        mapping_matrix = None\n",
    "        if mapping_type == \"raae\":\n",
    "            optimal_indices = np.array(p_model[\"all_raae\"]).argmin(axis=0)\n",
    "            mapping_matrix = np.array(p_model[\"all_raae\"])\n",
    "            maximize = False\n",
    "        elif mapping_type == \"emc\":\n",
    "            optimal_indices = np.array(p_model[\"all_emc\"]).argmax(axis=0)\n",
    "            mapping_matrix = np.array(p_model[\"all_emc\"])\n",
    "            maximize = True\n",
    "        else:\n",
    "            optimal_indices = np.array(p_model[\"all_corr\"]).argmax(axis=0)\n",
    "            mapping_matrix = np.array(p_model[\"all_corr\"])\n",
    "            maximize = True\n",
    "\n",
    "        # Step 1, all optimal value indices are unique and no other values need to be checked.\n",
    "        if (np.unique(optimal_indices, return_counts=True)[1].max() == 1):\n",
    "            model_mapping = optimal_indices\n",
    "        else:\n",
    "            m_bi_matrix = csr_matrix(mapping_matrix)\n",
    "            model_mapping = list(min_weight_full_bipartite_matching(m_bi_matrix, maximize=maximize))\n",
    "        optimal_index_tuples = list(zip(list(range(n_factors)), model_mapping))\n",
    "        for j, oi in enumerate(optimal_index_tuples):\n",
    "            ele_values = mapping_matrix[oi]\n",
    "            mapping_values[j] = np.round(ele_values, 4)\n",
    "            mean_values.append(np.mean(ele_values))\n",
    "        batch_mapping[i] = optimal_indices\n",
    "        batch_values[i] = mapping_values\n",
    "        \n",
    "    return batch_mapping, batch_values, np.round(np.mean(mean_values), 4)\n",
    "\n",
    "def perturb_uncertainty(u, _rng, perturb_p = 0.25, sigma = 0.25):\n",
    "    i_u = copy.copy(u)\n",
    "    if isinstance(perturb_p, float):\n",
    "        perturb_p = [perturb_p for i in range(u.shape[1])]\n",
    "    elif isinstance(perturb_p, list) and len(perturb_p) != u.shape[1]:\n",
    "        perturb_p = [perturb_p[0] for i in range(u.shape[1])]\n",
    "    if isinstance(sigma, float):\n",
    "        sigma = [sigma for i in range(u.shape[1])]\n",
    "    elif isinstance(sigma, list) and len(sigma) != u.shape[1]:\n",
    "        sigma = [sigma[0] for i in range(u.shape[1])]\n",
    "    i_m = np.zeros(shape=i_u.shape)\n",
    "    for i, _p in enumerate(perturb_p):\n",
    "        i_mask = _rng.random(size=u[:,i].shape) > _p\n",
    "        i_mean = 0.0\n",
    "        i_logn = _rng.lognormal(i_mean, sigma[i], size=u[:,i].shape)\n",
    "        i_m[:,i] = i_logn\n",
    "        i_m[:,i][i_mask] = i_m[:,i][i_mask]\n",
    "        ij_u = i_u[:,i]\n",
    "        ij_u = ij_u * i_logn\n",
    "        ij_u[i_mask] = ij_u[i_mask]\n",
    "        ij_u[ij_u <= 0.0] = 1e-12\n",
    "        i_u[:,i] = ij_u\n",
    "    return i_u, i_m\n",
    "\n",
    "\n",
    "def run_perturbation(v, u, factors, random_seed, u_collection = None, perturb_p = 1.0, sigma = 0.33, sa_model=None, models=10, max_iter=10000, converge_n=50, converge_delta=0.01, threshold: float=0.9, pg_leave=True, verbose=False):\n",
    "    # Runs a perturbation input batch instance\n",
    "    # Steps:\n",
    "    # 1. Create a SA instance using the provided iV, iU and true_k for the data and factor count (if one is not provided).\n",
    "    # 2. Using a lognormal std (sigma) and % instance change (perturb_p) for the uncertainty:\n",
    "    #    a. Select perturb_p number of indecies from the uncertainty data matrix and change those values by a random selection from a lognormal distribution with mean=1 and sigma/std=the provided valude (default=0.25)\n",
    "    #    b. Use a provided collection of pre-defiend uncertainty matrices\n",
    "    # 3. With the perturbed uncertainty rerun the model using the base model H matrix.\n",
    "    # 4. Repeat for n number of models\n",
    "    # 5. Evaluate the results from all the perturb model profiles and concentrations, the ones that mapped (had a correlation above the threhsold) and provide the range of values for the factors.\n",
    "    rng = np.random.default_rng(seed=random_seed)\n",
    "    # step 1\n",
    "    if sa_model is None:\n",
    "        sa_model = SA(V=v, U=u, factors=factors, seed=random_seed, verbose=verbose, method=\"ls-nmf\")\n",
    "        sa_model.initialize()\n",
    "        sa_model.train(max_iter=max_iter, converge_delta=converge_delta, converge_n=converge_n)\n",
    "\n",
    "    base_mean_W = np.mean(sa_model.W, axis=0)[0]\n",
    "    base_mass_matrix = (base_mean_W*sa_model.H)/np.sum(base_mean_W*sa_model.H)    # base mass matrix\n",
    "    \n",
    "    perturb_results = {\n",
    "        \"k\": factors,\n",
    "        \"seed\": random_seed,\n",
    "        \"base model\": sa_model,\n",
    "        \"perturb %\": perturb_p,\n",
    "        \"perturb sigma\": sigma,\n",
    "        \"perturb results\": {}\n",
    "    }\n",
    "    \n",
    "    for i in tnrange(models, desc=\"Running Perturbations on base model\", leave=pg_leave):\n",
    "        if u_collection is None:\n",
    "            i_u, i_m = perturb_uncertainty(u=u, perturb_p=perturb_p, sigma=sigma, _rng=rng)\n",
    "        elif i > len(u_collection):\n",
    "            i_u, i_m = perturb_uncertainty(u=u, perturb_p=perturb_p, sigma=sigma, _rng=rng)\n",
    "        else:\n",
    "            i_u = u_collection[i]\n",
    "            i_m = None\n",
    "            \n",
    "        i_sa_model = SA(v, U=i_u, factors=factors, seed=random_seed, verbose=verbose, method=\"ls-nmf\")\n",
    "        i_sa_model.initialize(H=sa_model.H, W=sa_model.W)\n",
    "        i_sa_model.train(max_iter=max_iter, converge_delta=converge_delta, converge_n=converge_n)\n",
    "\n",
    "        i_results = {\n",
    "            \"model\": copy.copy(i_sa_model),\n",
    "            \"multiplier\": i_m,\n",
    "            \"corr\": [],\n",
    "            \"corr_mapping\": [],\n",
    "            \"all_corr\": [],\n",
    "            \"raae\": [],\n",
    "            \"raae_mapping\": [],\n",
    "            \"all_raae\": [],\n",
    "            \"emc\": [],\n",
    "            \"emc_mapping\": [],\n",
    "            \"all_emc\": []\n",
    "        }\n",
    "        n = 1/sa_model.W[:,0].shape[0]\n",
    "\n",
    "        i_W_mean = np.mean(i_sa_model.W, axis=0)[0]\n",
    "        i_mass_matrix = (i_W_mean*i_sa_model.H)/np.sum(i_W_mean*i_sa_model.H)   # perturbed mass matrix\n",
    "        \n",
    "        for j in range(factors):\n",
    "            j_W = sa_model.W[:,j]      # Base model W column j (factor contribution)\n",
    "            j_H = sa_model.H[j]        # Base model H row j (factor profile)\n",
    "\n",
    "            # Tacking results of equation 4\n",
    "            j_r2 = 0.0\n",
    "            r2_best = -1\n",
    "            all_corr = []\n",
    "\n",
    "            # Tracking results of equation 5\n",
    "            j_raae = float(\"inf\")\n",
    "            raae_best = -1\n",
    "            all_raae = []\n",
    "\n",
    "            # Tracking results of equation 7\n",
    "            j_emc = 0.0\n",
    "            best_emc = -1\n",
    "            all_emc = []\n",
    "            \n",
    "            for k in range(factors):\n",
    "                k_W = i_sa_model.W[:,k]    # Perturbed model i, W column j (perturbed factor contribution j)\n",
    "                jk_r2 = FactorCompare.calculate_correlation(factor1=j_W.flatten(), factor2=k_W.flatten())    # Equation 4\n",
    "                jk_raae = (np.sum(np.abs(k_W - j_W))*n)/(np.sum(j_W)*n)                                      # Equation 5\n",
    "                jk_emc = FactorCompare.calculate_correlation(factor1=base_mass_matrix[j], factor2= i_mass_matrix[k]) # Equation 7\n",
    "                \n",
    "                if jk_r2 > j_r2:\n",
    "                    r2_best = k \n",
    "                    j_r2 = jk_r2\n",
    "                if jk_raae < j_raae:\n",
    "                    j_raae = jk_raae\n",
    "                    raae_best = k\n",
    "                if jk_emc > j_emc:\n",
    "                    j_emc = jk_emc\n",
    "                    best_emc = k\n",
    "                all_corr.append(jk_r2)\n",
    "                all_raae.append(jk_raae)\n",
    "                all_emc.append(jk_emc)\n",
    "            i_results[\"corr\"].append(j_r2)\n",
    "            i_results[\"corr_mapping\"].append(r2_best)\n",
    "            i_results[\"all_corr\"].append(all_corr)\n",
    "            i_results[\"raae\"].append(j_raae)\n",
    "            i_results[\"raae_mapping\"].append(raae_best)\n",
    "            i_results[\"all_raae\"].append(all_raae)\n",
    "            i_results[\"emc\"].append(j_emc)\n",
    "            i_results[\"emc_mapping\"].append(best_emc)\n",
    "            i_results[\"all_emc\"].append(all_emc)\n",
    "        perturb_results[\"perturb results\"][i] = i_results\n",
    "    return perturb_results\n",
    "\n",
    "\n",
    "def run_batch(v, u, factors, batches, random_seed, u_collection = None, perturb_p = 1.0, sigma = 0.33, sa_model=None, models=10, max_iter=10000, converge_n=50, converge_delta=0.01, threshold: float=0.9, pg_leave=True, verbose=False):\n",
    "    batch_results = {}\n",
    "    batch_rng = np.random.default_rng(seed=random_seed)\n",
    "    for i in tnrange(batches, desc=f\"Running Perturbation Batch, for k: {factors}\", leave=pg_leave): \n",
    "        seed_i = batch_rng.integers(low=0, high=10, size=1)[0]\n",
    "        batch_i = run_perturbation(factors=estimate_k, v=iV, u=iU, random_seed=seed_i, perturb_p=perturb_p, sigma=perturb_sigma, models=n_models, max_iter=20000, converge_n=20, converge_delta=0.01, threshold=threshold, pg_leave=False)\n",
    "        corr_mapping = optimal_mapping_algorithm(batch_results=batch_i, mapping_type=\"corr\")\n",
    "        vaae_mapping = optimal_mapping_algorithm(batch_results=batch_i, mapping_type=\"vaae\")\n",
    "        emc_mapping = optimal_mapping_algorithm(batch_results=batch_i, mapping_type=\"emc\")\n",
    "        i_results = {\n",
    "            \"factors\": factors,\n",
    "            \"batch\": batch_i,\n",
    "            \"seed\": seed_i,\n",
    "            \"corr\": corr_mapping,\n",
    "            \"vaae\": vaae_mapping,\n",
    "            \"emc\": emc_mapping\n",
    "        }\n",
    "        batch_results[i] = i_results\n",
    "    batch_corr = []\n",
    "    batch_vaae = []\n",
    "    batch_emc = []\n",
    "    for i in range(batch_n):\n",
    "        batch_corr.append(batch_results0[i][\"corr\"][2])\n",
    "        batch_vaae.append(batch_results0[i][\"vaae\"][2])\n",
    "        batch_emc.append(batch_results0[i][\"emc\"][2])\n",
    "    batch_results[\"summary\"] = {\n",
    "        \"mean corr\": batch_corr,\n",
    "        \"mean raae\": batch_vaae,\n",
    "        \"mean emc\": batch_emc\n",
    "    }\n",
    "    return batch_results\n",
    "    "
   ]
  },
  {
   "cell_type": "markdown",
   "id": "69a89726-42b6-4aeb-88d2-6d8b71c02737",
   "metadata": {},
   "source": [
    "## Batch Perturbation Instance\n"
   ]
  },
  {
   "cell_type": "code",
   "execution_count": 5,
   "id": "1728e8e8-cd9a-4a68-a5c1-2ab827ca237a",
   "metadata": {},
   "outputs": [
    {
     "name": "stdout",
     "output_type": "stream",
     "text": [
      "True Factors: 6, Features: 24, Samples: 222, Outliers %: 0.06, Outliers Magnitude: 1.8, Contribution Max: 9.26\n"
     ]
    }
   ],
   "source": [
    "true_k = 6\n",
    "iV, iU = generate_synthetic_data(true_factor=true_k)"
   ]
  },
  {
   "cell_type": "code",
   "execution_count": 30,
   "id": "6fcb14e0-00c4-423f-bc8b-6631eea7366f",
   "metadata": {},
   "outputs": [
    {
     "data": {
      "application/vnd.jupyter.widget-view+json": {
       "model_id": "88d54ee94a5b4ea99228e5e4bc5a41e7",
       "version_major": 2,
       "version_minor": 0
      },
      "text/plain": [
       "Searching Perturbation Space:   0%|          | 0/10 [00:00<?, ?it/s]"
      ]
     },
     "metadata": {},
     "output_type": "display_data"
    },
    {
     "data": {
      "application/vnd.jupyter.widget-view+json": {
       "model_id": "",
       "version_major": 2,
       "version_minor": 0
      },
      "text/plain": [
       "Running Perturbation Batch, for k: 3:   0%|          | 0/10 [00:00<?, ?it/s]"
      ]
     },
     "metadata": {},
     "output_type": "display_data"
    },
    {
     "data": {
      "application/vnd.jupyter.widget-view+json": {
       "model_id": "",
       "version_major": 2,
       "version_minor": 0
      },
      "text/plain": [
       "Running Perturbations on base model:   0%|          | 0/10 [00:00<?, ?it/s]"
      ]
     },
     "metadata": {},
     "output_type": "display_data"
    },
    {
     "data": {
      "application/vnd.jupyter.widget-view+json": {
       "model_id": "",
       "version_major": 2,
       "version_minor": 0
      },
      "text/plain": [
       "Running Perturbations on base model:   0%|          | 0/10 [00:00<?, ?it/s]"
      ]
     },
     "metadata": {},
     "output_type": "display_data"
    },
    {
     "data": {
      "application/vnd.jupyter.widget-view+json": {
       "model_id": "",
       "version_major": 2,
       "version_minor": 0
      },
      "text/plain": [
       "Running Perturbations on base model:   0%|          | 0/10 [00:00<?, ?it/s]"
      ]
     },
     "metadata": {},
     "output_type": "display_data"
    },
    {
     "data": {
      "application/vnd.jupyter.widget-view+json": {
       "model_id": "",
       "version_major": 2,
       "version_minor": 0
      },
      "text/plain": [
       "Running Perturbations on base model:   0%|          | 0/10 [00:00<?, ?it/s]"
      ]
     },
     "metadata": {},
     "output_type": "display_data"
    },
    {
     "data": {
      "application/vnd.jupyter.widget-view+json": {
       "model_id": "",
       "version_major": 2,
       "version_minor": 0
      },
      "text/plain": [
       "Running Perturbations on base model:   0%|          | 0/10 [00:00<?, ?it/s]"
      ]
     },
     "metadata": {},
     "output_type": "display_data"
    },
    {
     "data": {
      "application/vnd.jupyter.widget-view+json": {
       "model_id": "",
       "version_major": 2,
       "version_minor": 0
      },
      "text/plain": [
       "Running Perturbations on base model:   0%|          | 0/10 [00:00<?, ?it/s]"
      ]
     },
     "metadata": {},
     "output_type": "display_data"
    },
    {
     "data": {
      "application/vnd.jupyter.widget-view+json": {
       "model_id": "",
       "version_major": 2,
       "version_minor": 0
      },
      "text/plain": [
       "Running Perturbations on base model:   0%|          | 0/10 [00:00<?, ?it/s]"
      ]
     },
     "metadata": {},
     "output_type": "display_data"
    },
    {
     "data": {
      "application/vnd.jupyter.widget-view+json": {
       "model_id": "",
       "version_major": 2,
       "version_minor": 0
      },
      "text/plain": [
       "Running Perturbations on base model:   0%|          | 0/10 [00:00<?, ?it/s]"
      ]
     },
     "metadata": {},
     "output_type": "display_data"
    },
    {
     "data": {
      "application/vnd.jupyter.widget-view+json": {
       "model_id": "",
       "version_major": 2,
       "version_minor": 0
      },
      "text/plain": [
       "Running Perturbations on base model:   0%|          | 0/10 [00:00<?, ?it/s]"
      ]
     },
     "metadata": {},
     "output_type": "display_data"
    },
    {
     "data": {
      "application/vnd.jupyter.widget-view+json": {
       "model_id": "",
       "version_major": 2,
       "version_minor": 0
      },
      "text/plain": [
       "Running Perturbations on base model:   0%|          | 0/10 [00:00<?, ?it/s]"
      ]
     },
     "metadata": {},
     "output_type": "display_data"
    },
    {
     "data": {
      "application/vnd.jupyter.widget-view+json": {
       "model_id": "",
       "version_major": 2,
       "version_minor": 0
      },
      "text/plain": [
       "Running Perturbation Batch, for k: 4:   0%|          | 0/10 [00:00<?, ?it/s]"
      ]
     },
     "metadata": {},
     "output_type": "display_data"
    },
    {
     "data": {
      "application/vnd.jupyter.widget-view+json": {
       "model_id": "",
       "version_major": 2,
       "version_minor": 0
      },
      "text/plain": [
       "Running Perturbations on base model:   0%|          | 0/10 [00:00<?, ?it/s]"
      ]
     },
     "metadata": {},
     "output_type": "display_data"
    },
    {
     "data": {
      "application/vnd.jupyter.widget-view+json": {
       "model_id": "",
       "version_major": 2,
       "version_minor": 0
      },
      "text/plain": [
       "Running Perturbations on base model:   0%|          | 0/10 [00:00<?, ?it/s]"
      ]
     },
     "metadata": {},
     "output_type": "display_data"
    },
    {
     "data": {
      "application/vnd.jupyter.widget-view+json": {
       "model_id": "",
       "version_major": 2,
       "version_minor": 0
      },
      "text/plain": [
       "Running Perturbations on base model:   0%|          | 0/10 [00:00<?, ?it/s]"
      ]
     },
     "metadata": {},
     "output_type": "display_data"
    },
    {
     "data": {
      "application/vnd.jupyter.widget-view+json": {
       "model_id": "",
       "version_major": 2,
       "version_minor": 0
      },
      "text/plain": [
       "Running Perturbations on base model:   0%|          | 0/10 [00:00<?, ?it/s]"
      ]
     },
     "metadata": {},
     "output_type": "display_data"
    },
    {
     "data": {
      "application/vnd.jupyter.widget-view+json": {
       "model_id": "",
       "version_major": 2,
       "version_minor": 0
      },
      "text/plain": [
       "Running Perturbations on base model:   0%|          | 0/10 [00:00<?, ?it/s]"
      ]
     },
     "metadata": {},
     "output_type": "display_data"
    },
    {
     "data": {
      "application/vnd.jupyter.widget-view+json": {
       "model_id": "",
       "version_major": 2,
       "version_minor": 0
      },
      "text/plain": [
       "Running Perturbations on base model:   0%|          | 0/10 [00:00<?, ?it/s]"
      ]
     },
     "metadata": {},
     "output_type": "display_data"
    },
    {
     "data": {
      "application/vnd.jupyter.widget-view+json": {
       "model_id": "",
       "version_major": 2,
       "version_minor": 0
      },
      "text/plain": [
       "Running Perturbations on base model:   0%|          | 0/10 [00:00<?, ?it/s]"
      ]
     },
     "metadata": {},
     "output_type": "display_data"
    },
    {
     "data": {
      "application/vnd.jupyter.widget-view+json": {
       "model_id": "",
       "version_major": 2,
       "version_minor": 0
      },
      "text/plain": [
       "Running Perturbations on base model:   0%|          | 0/10 [00:00<?, ?it/s]"
      ]
     },
     "metadata": {},
     "output_type": "display_data"
    },
    {
     "data": {
      "application/vnd.jupyter.widget-view+json": {
       "model_id": "",
       "version_major": 2,
       "version_minor": 0
      },
      "text/plain": [
       "Running Perturbations on base model:   0%|          | 0/10 [00:00<?, ?it/s]"
      ]
     },
     "metadata": {},
     "output_type": "display_data"
    },
    {
     "data": {
      "application/vnd.jupyter.widget-view+json": {
       "model_id": "",
       "version_major": 2,
       "version_minor": 0
      },
      "text/plain": [
       "Running Perturbations on base model:   0%|          | 0/10 [00:00<?, ?it/s]"
      ]
     },
     "metadata": {},
     "output_type": "display_data"
    },
    {
     "data": {
      "application/vnd.jupyter.widget-view+json": {
       "model_id": "",
       "version_major": 2,
       "version_minor": 0
      },
      "text/plain": [
       "Running Perturbation Batch, for k: 5:   0%|          | 0/10 [00:00<?, ?it/s]"
      ]
     },
     "metadata": {},
     "output_type": "display_data"
    },
    {
     "data": {
      "application/vnd.jupyter.widget-view+json": {
       "model_id": "",
       "version_major": 2,
       "version_minor": 0
      },
      "text/plain": [
       "Running Perturbations on base model:   0%|          | 0/10 [00:00<?, ?it/s]"
      ]
     },
     "metadata": {},
     "output_type": "display_data"
    },
    {
     "data": {
      "application/vnd.jupyter.widget-view+json": {
       "model_id": "",
       "version_major": 2,
       "version_minor": 0
      },
      "text/plain": [
       "Running Perturbations on base model:   0%|          | 0/10 [00:00<?, ?it/s]"
      ]
     },
     "metadata": {},
     "output_type": "display_data"
    },
    {
     "data": {
      "application/vnd.jupyter.widget-view+json": {
       "model_id": "",
       "version_major": 2,
       "version_minor": 0
      },
      "text/plain": [
       "Running Perturbations on base model:   0%|          | 0/10 [00:00<?, ?it/s]"
      ]
     },
     "metadata": {},
     "output_type": "display_data"
    },
    {
     "data": {
      "application/vnd.jupyter.widget-view+json": {
       "model_id": "",
       "version_major": 2,
       "version_minor": 0
      },
      "text/plain": [
       "Running Perturbations on base model:   0%|          | 0/10 [00:00<?, ?it/s]"
      ]
     },
     "metadata": {},
     "output_type": "display_data"
    },
    {
     "data": {
      "application/vnd.jupyter.widget-view+json": {
       "model_id": "",
       "version_major": 2,
       "version_minor": 0
      },
      "text/plain": [
       "Running Perturbations on base model:   0%|          | 0/10 [00:00<?, ?it/s]"
      ]
     },
     "metadata": {},
     "output_type": "display_data"
    },
    {
     "data": {
      "application/vnd.jupyter.widget-view+json": {
       "model_id": "",
       "version_major": 2,
       "version_minor": 0
      },
      "text/plain": [
       "Running Perturbations on base model:   0%|          | 0/10 [00:00<?, ?it/s]"
      ]
     },
     "metadata": {},
     "output_type": "display_data"
    },
    {
     "data": {
      "application/vnd.jupyter.widget-view+json": {
       "model_id": "",
       "version_major": 2,
       "version_minor": 0
      },
      "text/plain": [
       "Running Perturbations on base model:   0%|          | 0/10 [00:00<?, ?it/s]"
      ]
     },
     "metadata": {},
     "output_type": "display_data"
    },
    {
     "data": {
      "application/vnd.jupyter.widget-view+json": {
       "model_id": "",
       "version_major": 2,
       "version_minor": 0
      },
      "text/plain": [
       "Running Perturbations on base model:   0%|          | 0/10 [00:00<?, ?it/s]"
      ]
     },
     "metadata": {},
     "output_type": "display_data"
    },
    {
     "data": {
      "application/vnd.jupyter.widget-view+json": {
       "model_id": "",
       "version_major": 2,
       "version_minor": 0
      },
      "text/plain": [
       "Running Perturbations on base model:   0%|          | 0/10 [00:00<?, ?it/s]"
      ]
     },
     "metadata": {},
     "output_type": "display_data"
    },
    {
     "data": {
      "application/vnd.jupyter.widget-view+json": {
       "model_id": "",
       "version_major": 2,
       "version_minor": 0
      },
      "text/plain": [
       "Running Perturbations on base model:   0%|          | 0/10 [00:00<?, ?it/s]"
      ]
     },
     "metadata": {},
     "output_type": "display_data"
    },
    {
     "data": {
      "application/vnd.jupyter.widget-view+json": {
       "model_id": "",
       "version_major": 2,
       "version_minor": 0
      },
      "text/plain": [
       "Running Perturbation Batch, for k: 6:   0%|          | 0/10 [00:00<?, ?it/s]"
      ]
     },
     "metadata": {},
     "output_type": "display_data"
    },
    {
     "data": {
      "application/vnd.jupyter.widget-view+json": {
       "model_id": "",
       "version_major": 2,
       "version_minor": 0
      },
      "text/plain": [
       "Running Perturbations on base model:   0%|          | 0/10 [00:00<?, ?it/s]"
      ]
     },
     "metadata": {},
     "output_type": "display_data"
    },
    {
     "data": {
      "application/vnd.jupyter.widget-view+json": {
       "model_id": "",
       "version_major": 2,
       "version_minor": 0
      },
      "text/plain": [
       "Running Perturbations on base model:   0%|          | 0/10 [00:00<?, ?it/s]"
      ]
     },
     "metadata": {},
     "output_type": "display_data"
    },
    {
     "data": {
      "application/vnd.jupyter.widget-view+json": {
       "model_id": "",
       "version_major": 2,
       "version_minor": 0
      },
      "text/plain": [
       "Running Perturbations on base model:   0%|          | 0/10 [00:00<?, ?it/s]"
      ]
     },
     "metadata": {},
     "output_type": "display_data"
    },
    {
     "data": {
      "application/vnd.jupyter.widget-view+json": {
       "model_id": "",
       "version_major": 2,
       "version_minor": 0
      },
      "text/plain": [
       "Running Perturbations on base model:   0%|          | 0/10 [00:00<?, ?it/s]"
      ]
     },
     "metadata": {},
     "output_type": "display_data"
    },
    {
     "data": {
      "application/vnd.jupyter.widget-view+json": {
       "model_id": "",
       "version_major": 2,
       "version_minor": 0
      },
      "text/plain": [
       "Running Perturbations on base model:   0%|          | 0/10 [00:00<?, ?it/s]"
      ]
     },
     "metadata": {},
     "output_type": "display_data"
    },
    {
     "data": {
      "application/vnd.jupyter.widget-view+json": {
       "model_id": "",
       "version_major": 2,
       "version_minor": 0
      },
      "text/plain": [
       "Running Perturbations on base model:   0%|          | 0/10 [00:00<?, ?it/s]"
      ]
     },
     "metadata": {},
     "output_type": "display_data"
    },
    {
     "data": {
      "application/vnd.jupyter.widget-view+json": {
       "model_id": "",
       "version_major": 2,
       "version_minor": 0
      },
      "text/plain": [
       "Running Perturbations on base model:   0%|          | 0/10 [00:00<?, ?it/s]"
      ]
     },
     "metadata": {},
     "output_type": "display_data"
    },
    {
     "data": {
      "application/vnd.jupyter.widget-view+json": {
       "model_id": "",
       "version_major": 2,
       "version_minor": 0
      },
      "text/plain": [
       "Running Perturbations on base model:   0%|          | 0/10 [00:00<?, ?it/s]"
      ]
     },
     "metadata": {},
     "output_type": "display_data"
    },
    {
     "data": {
      "application/vnd.jupyter.widget-view+json": {
       "model_id": "",
       "version_major": 2,
       "version_minor": 0
      },
      "text/plain": [
       "Running Perturbations on base model:   0%|          | 0/10 [00:00<?, ?it/s]"
      ]
     },
     "metadata": {},
     "output_type": "display_data"
    },
    {
     "data": {
      "application/vnd.jupyter.widget-view+json": {
       "model_id": "",
       "version_major": 2,
       "version_minor": 0
      },
      "text/plain": [
       "Running Perturbations on base model:   0%|          | 0/10 [00:00<?, ?it/s]"
      ]
     },
     "metadata": {},
     "output_type": "display_data"
    },
    {
     "data": {
      "application/vnd.jupyter.widget-view+json": {
       "model_id": "",
       "version_major": 2,
       "version_minor": 0
      },
      "text/plain": [
       "Running Perturbation Batch, for k: 7:   0%|          | 0/10 [00:00<?, ?it/s]"
      ]
     },
     "metadata": {},
     "output_type": "display_data"
    },
    {
     "data": {
      "application/vnd.jupyter.widget-view+json": {
       "model_id": "",
       "version_major": 2,
       "version_minor": 0
      },
      "text/plain": [
       "Running Perturbations on base model:   0%|          | 0/10 [00:00<?, ?it/s]"
      ]
     },
     "metadata": {},
     "output_type": "display_data"
    },
    {
     "data": {
      "application/vnd.jupyter.widget-view+json": {
       "model_id": "",
       "version_major": 2,
       "version_minor": 0
      },
      "text/plain": [
       "Running Perturbations on base model:   0%|          | 0/10 [00:00<?, ?it/s]"
      ]
     },
     "metadata": {},
     "output_type": "display_data"
    },
    {
     "data": {
      "application/vnd.jupyter.widget-view+json": {
       "model_id": "",
       "version_major": 2,
       "version_minor": 0
      },
      "text/plain": [
       "Running Perturbations on base model:   0%|          | 0/10 [00:00<?, ?it/s]"
      ]
     },
     "metadata": {},
     "output_type": "display_data"
    },
    {
     "data": {
      "application/vnd.jupyter.widget-view+json": {
       "model_id": "",
       "version_major": 2,
       "version_minor": 0
      },
      "text/plain": [
       "Running Perturbations on base model:   0%|          | 0/10 [00:00<?, ?it/s]"
      ]
     },
     "metadata": {},
     "output_type": "display_data"
    },
    {
     "data": {
      "application/vnd.jupyter.widget-view+json": {
       "model_id": "3079879a3c504514863428d09ec29be9",
       "version_major": 2,
       "version_minor": 0
      },
      "text/plain": [
       "Running Perturbations on base model:   0%|          | 0/10 [00:00<?, ?it/s]"
      ]
     },
     "metadata": {},
     "output_type": "display_data"
    },
    {
     "data": {
      "application/vnd.jupyter.widget-view+json": {
       "model_id": "22509addf40c484b93468d2f24046fd0",
       "version_major": 2,
       "version_minor": 0
      },
      "text/plain": [
       "Running Perturbations on base model:   0%|          | 0/10 [00:00<?, ?it/s]"
      ]
     },
     "metadata": {},
     "output_type": "display_data"
    },
    {
     "data": {
      "application/vnd.jupyter.widget-view+json": {
       "model_id": "27e9a8b0002242648dac4d6ea250c96d",
       "version_major": 2,
       "version_minor": 0
      },
      "text/plain": [
       "Running Perturbations on base model:   0%|          | 0/10 [00:00<?, ?it/s]"
      ]
     },
     "metadata": {},
     "output_type": "display_data"
    },
    {
     "data": {
      "application/vnd.jupyter.widget-view+json": {
       "model_id": "199dda2c79604076a8d1ca2cd1f9e6b5",
       "version_major": 2,
       "version_minor": 0
      },
      "text/plain": [
       "Running Perturbations on base model:   0%|          | 0/10 [00:00<?, ?it/s]"
      ]
     },
     "metadata": {},
     "output_type": "display_data"
    },
    {
     "data": {
      "application/vnd.jupyter.widget-view+json": {
       "model_id": "",
       "version_major": 2,
       "version_minor": 0
      },
      "text/plain": [
       "Running Perturbations on base model:   0%|          | 0/10 [00:00<?, ?it/s]"
      ]
     },
     "metadata": {},
     "output_type": "display_data"
    },
    {
     "data": {
      "application/vnd.jupyter.widget-view+json": {
       "model_id": "",
       "version_major": 2,
       "version_minor": 0
      },
      "text/plain": [
       "Running Perturbations on base model:   0%|          | 0/10 [00:00<?, ?it/s]"
      ]
     },
     "metadata": {},
     "output_type": "display_data"
    },
    {
     "data": {
      "application/vnd.jupyter.widget-view+json": {
       "model_id": "",
       "version_major": 2,
       "version_minor": 0
      },
      "text/plain": [
       "Running Perturbation Batch, for k: 8:   0%|          | 0/10 [00:00<?, ?it/s]"
      ]
     },
     "metadata": {},
     "output_type": "display_data"
    },
    {
     "data": {
      "application/vnd.jupyter.widget-view+json": {
       "model_id": "",
       "version_major": 2,
       "version_minor": 0
      },
      "text/plain": [
       "Running Perturbations on base model:   0%|          | 0/10 [00:00<?, ?it/s]"
      ]
     },
     "metadata": {},
     "output_type": "display_data"
    },
    {
     "data": {
      "application/vnd.jupyter.widget-view+json": {
       "model_id": "",
       "version_major": 2,
       "version_minor": 0
      },
      "text/plain": [
       "Running Perturbations on base model:   0%|          | 0/10 [00:00<?, ?it/s]"
      ]
     },
     "metadata": {},
     "output_type": "display_data"
    },
    {
     "data": {
      "application/vnd.jupyter.widget-view+json": {
       "model_id": "",
       "version_major": 2,
       "version_minor": 0
      },
      "text/plain": [
       "Running Perturbations on base model:   0%|          | 0/10 [00:00<?, ?it/s]"
      ]
     },
     "metadata": {},
     "output_type": "display_data"
    },
    {
     "data": {
      "application/vnd.jupyter.widget-view+json": {
       "model_id": "",
       "version_major": 2,
       "version_minor": 0
      },
      "text/plain": [
       "Running Perturbations on base model:   0%|          | 0/10 [00:00<?, ?it/s]"
      ]
     },
     "metadata": {},
     "output_type": "display_data"
    },
    {
     "data": {
      "application/vnd.jupyter.widget-view+json": {
       "model_id": "",
       "version_major": 2,
       "version_minor": 0
      },
      "text/plain": [
       "Running Perturbations on base model:   0%|          | 0/10 [00:00<?, ?it/s]"
      ]
     },
     "metadata": {},
     "output_type": "display_data"
    },
    {
     "data": {
      "application/vnd.jupyter.widget-view+json": {
       "model_id": "",
       "version_major": 2,
       "version_minor": 0
      },
      "text/plain": [
       "Running Perturbations on base model:   0%|          | 0/10 [00:00<?, ?it/s]"
      ]
     },
     "metadata": {},
     "output_type": "display_data"
    },
    {
     "data": {
      "application/vnd.jupyter.widget-view+json": {
       "model_id": "",
       "version_major": 2,
       "version_minor": 0
      },
      "text/plain": [
       "Running Perturbations on base model:   0%|          | 0/10 [00:00<?, ?it/s]"
      ]
     },
     "metadata": {},
     "output_type": "display_data"
    },
    {
     "data": {
      "application/vnd.jupyter.widget-view+json": {
       "model_id": "",
       "version_major": 2,
       "version_minor": 0
      },
      "text/plain": [
       "Running Perturbations on base model:   0%|          | 0/10 [00:00<?, ?it/s]"
      ]
     },
     "metadata": {},
     "output_type": "display_data"
    },
    {
     "data": {
      "application/vnd.jupyter.widget-view+json": {
       "model_id": "",
       "version_major": 2,
       "version_minor": 0
      },
      "text/plain": [
       "Running Perturbations on base model:   0%|          | 0/10 [00:00<?, ?it/s]"
      ]
     },
     "metadata": {},
     "output_type": "display_data"
    },
    {
     "data": {
      "application/vnd.jupyter.widget-view+json": {
       "model_id": "",
       "version_major": 2,
       "version_minor": 0
      },
      "text/plain": [
       "Running Perturbations on base model:   0%|          | 0/10 [00:00<?, ?it/s]"
      ]
     },
     "metadata": {},
     "output_type": "display_data"
    },
    {
     "data": {
      "application/vnd.jupyter.widget-view+json": {
       "model_id": "",
       "version_major": 2,
       "version_minor": 0
      },
      "text/plain": [
       "Running Perturbation Batch, for k: 9:   0%|          | 0/10 [00:00<?, ?it/s]"
      ]
     },
     "metadata": {},
     "output_type": "display_data"
    },
    {
     "data": {
      "application/vnd.jupyter.widget-view+json": {
       "model_id": "",
       "version_major": 2,
       "version_minor": 0
      },
      "text/plain": [
       "Running Perturbations on base model:   0%|          | 0/10 [00:00<?, ?it/s]"
      ]
     },
     "metadata": {},
     "output_type": "display_data"
    },
    {
     "data": {
      "application/vnd.jupyter.widget-view+json": {
       "model_id": "",
       "version_major": 2,
       "version_minor": 0
      },
      "text/plain": [
       "Running Perturbations on base model:   0%|          | 0/10 [00:00<?, ?it/s]"
      ]
     },
     "metadata": {},
     "output_type": "display_data"
    },
    {
     "data": {
      "application/vnd.jupyter.widget-view+json": {
       "model_id": "",
       "version_major": 2,
       "version_minor": 0
      },
      "text/plain": [
       "Running Perturbations on base model:   0%|          | 0/10 [00:00<?, ?it/s]"
      ]
     },
     "metadata": {},
     "output_type": "display_data"
    },
    {
     "data": {
      "application/vnd.jupyter.widget-view+json": {
       "model_id": "",
       "version_major": 2,
       "version_minor": 0
      },
      "text/plain": [
       "Running Perturbations on base model:   0%|          | 0/10 [00:00<?, ?it/s]"
      ]
     },
     "metadata": {},
     "output_type": "display_data"
    },
    {
     "data": {
      "application/vnd.jupyter.widget-view+json": {
       "model_id": "",
       "version_major": 2,
       "version_minor": 0
      },
      "text/plain": [
       "Running Perturbations on base model:   0%|          | 0/10 [00:00<?, ?it/s]"
      ]
     },
     "metadata": {},
     "output_type": "display_data"
    },
    {
     "data": {
      "application/vnd.jupyter.widget-view+json": {
       "model_id": "",
       "version_major": 2,
       "version_minor": 0
      },
      "text/plain": [
       "Running Perturbations on base model:   0%|          | 0/10 [00:00<?, ?it/s]"
      ]
     },
     "metadata": {},
     "output_type": "display_data"
    },
    {
     "data": {
      "application/vnd.jupyter.widget-view+json": {
       "model_id": "",
       "version_major": 2,
       "version_minor": 0
      },
      "text/plain": [
       "Running Perturbations on base model:   0%|          | 0/10 [00:00<?, ?it/s]"
      ]
     },
     "metadata": {},
     "output_type": "display_data"
    },
    {
     "data": {
      "application/vnd.jupyter.widget-view+json": {
       "model_id": "",
       "version_major": 2,
       "version_minor": 0
      },
      "text/plain": [
       "Running Perturbations on base model:   0%|          | 0/10 [00:00<?, ?it/s]"
      ]
     },
     "metadata": {},
     "output_type": "display_data"
    },
    {
     "data": {
      "application/vnd.jupyter.widget-view+json": {
       "model_id": "",
       "version_major": 2,
       "version_minor": 0
      },
      "text/plain": [
       "Running Perturbations on base model:   0%|          | 0/10 [00:00<?, ?it/s]"
      ]
     },
     "metadata": {},
     "output_type": "display_data"
    },
    {
     "data": {
      "application/vnd.jupyter.widget-view+json": {
       "model_id": "",
       "version_major": 2,
       "version_minor": 0
      },
      "text/plain": [
       "Running Perturbations on base model:   0%|          | 0/10 [00:00<?, ?it/s]"
      ]
     },
     "metadata": {},
     "output_type": "display_data"
    },
    {
     "data": {
      "application/vnd.jupyter.widget-view+json": {
       "model_id": "",
       "version_major": 2,
       "version_minor": 0
      },
      "text/plain": [
       "Running Perturbation Batch, for k: 10:   0%|          | 0/10 [00:00<?, ?it/s]"
      ]
     },
     "metadata": {},
     "output_type": "display_data"
    },
    {
     "data": {
      "application/vnd.jupyter.widget-view+json": {
       "model_id": "",
       "version_major": 2,
       "version_minor": 0
      },
      "text/plain": [
       "Running Perturbations on base model:   0%|          | 0/10 [00:00<?, ?it/s]"
      ]
     },
     "metadata": {},
     "output_type": "display_data"
    },
    {
     "data": {
      "application/vnd.jupyter.widget-view+json": {
       "model_id": "",
       "version_major": 2,
       "version_minor": 0
      },
      "text/plain": [
       "Running Perturbations on base model:   0%|          | 0/10 [00:00<?, ?it/s]"
      ]
     },
     "metadata": {},
     "output_type": "display_data"
    },
    {
     "data": {
      "application/vnd.jupyter.widget-view+json": {
       "model_id": "",
       "version_major": 2,
       "version_minor": 0
      },
      "text/plain": [
       "Running Perturbations on base model:   0%|          | 0/10 [00:00<?, ?it/s]"
      ]
     },
     "metadata": {},
     "output_type": "display_data"
    },
    {
     "data": {
      "application/vnd.jupyter.widget-view+json": {
       "model_id": "",
       "version_major": 2,
       "version_minor": 0
      },
      "text/plain": [
       "Running Perturbations on base model:   0%|          | 0/10 [00:00<?, ?it/s]"
      ]
     },
     "metadata": {},
     "output_type": "display_data"
    },
    {
     "data": {
      "application/vnd.jupyter.widget-view+json": {
       "model_id": "",
       "version_major": 2,
       "version_minor": 0
      },
      "text/plain": [
       "Running Perturbations on base model:   0%|          | 0/10 [00:00<?, ?it/s]"
      ]
     },
     "metadata": {},
     "output_type": "display_data"
    },
    {
     "data": {
      "application/vnd.jupyter.widget-view+json": {
       "model_id": "",
       "version_major": 2,
       "version_minor": 0
      },
      "text/plain": [
       "Running Perturbations on base model:   0%|          | 0/10 [00:00<?, ?it/s]"
      ]
     },
     "metadata": {},
     "output_type": "display_data"
    },
    {
     "data": {
      "application/vnd.jupyter.widget-view+json": {
       "model_id": "",
       "version_major": 2,
       "version_minor": 0
      },
      "text/plain": [
       "Running Perturbations on base model:   0%|          | 0/10 [00:00<?, ?it/s]"
      ]
     },
     "metadata": {},
     "output_type": "display_data"
    },
    {
     "data": {
      "application/vnd.jupyter.widget-view+json": {
       "model_id": "",
       "version_major": 2,
       "version_minor": 0
      },
      "text/plain": [
       "Running Perturbations on base model:   0%|          | 0/10 [00:00<?, ?it/s]"
      ]
     },
     "metadata": {},
     "output_type": "display_data"
    },
    {
     "data": {
      "application/vnd.jupyter.widget-view+json": {
       "model_id": "",
       "version_major": 2,
       "version_minor": 0
      },
      "text/plain": [
       "Running Perturbations on base model:   0%|          | 0/10 [00:00<?, ?it/s]"
      ]
     },
     "metadata": {},
     "output_type": "display_data"
    },
    {
     "data": {
      "application/vnd.jupyter.widget-view+json": {
       "model_id": "",
       "version_major": 2,
       "version_minor": 0
      },
      "text/plain": [
       "Running Perturbations on base model:   0%|          | 0/10 [00:00<?, ?it/s]"
      ]
     },
     "metadata": {},
     "output_type": "display_data"
    },
    {
     "data": {
      "application/vnd.jupyter.widget-view+json": {
       "model_id": "",
       "version_major": 2,
       "version_minor": 0
      },
      "text/plain": [
       "Running Perturbation Batch, for k: 11:   0%|          | 0/10 [00:00<?, ?it/s]"
      ]
     },
     "metadata": {},
     "output_type": "display_data"
    },
    {
     "data": {
      "application/vnd.jupyter.widget-view+json": {
       "model_id": "",
       "version_major": 2,
       "version_minor": 0
      },
      "text/plain": [
       "Running Perturbations on base model:   0%|          | 0/10 [00:00<?, ?it/s]"
      ]
     },
     "metadata": {},
     "output_type": "display_data"
    },
    {
     "data": {
      "application/vnd.jupyter.widget-view+json": {
       "model_id": "",
       "version_major": 2,
       "version_minor": 0
      },
      "text/plain": [
       "Running Perturbations on base model:   0%|          | 0/10 [00:00<?, ?it/s]"
      ]
     },
     "metadata": {},
     "output_type": "display_data"
    },
    {
     "data": {
      "application/vnd.jupyter.widget-view+json": {
       "model_id": "",
       "version_major": 2,
       "version_minor": 0
      },
      "text/plain": [
       "Running Perturbations on base model:   0%|          | 0/10 [00:00<?, ?it/s]"
      ]
     },
     "metadata": {},
     "output_type": "display_data"
    },
    {
     "data": {
      "application/vnd.jupyter.widget-view+json": {
       "model_id": "",
       "version_major": 2,
       "version_minor": 0
      },
      "text/plain": [
       "Running Perturbations on base model:   0%|          | 0/10 [00:00<?, ?it/s]"
      ]
     },
     "metadata": {},
     "output_type": "display_data"
    },
    {
     "data": {
      "application/vnd.jupyter.widget-view+json": {
       "model_id": "",
       "version_major": 2,
       "version_minor": 0
      },
      "text/plain": [
       "Running Perturbations on base model:   0%|          | 0/10 [00:00<?, ?it/s]"
      ]
     },
     "metadata": {},
     "output_type": "display_data"
    },
    {
     "data": {
      "application/vnd.jupyter.widget-view+json": {
       "model_id": "",
       "version_major": 2,
       "version_minor": 0
      },
      "text/plain": [
       "Running Perturbations on base model:   0%|          | 0/10 [00:00<?, ?it/s]"
      ]
     },
     "metadata": {},
     "output_type": "display_data"
    },
    {
     "data": {
      "application/vnd.jupyter.widget-view+json": {
       "model_id": "",
       "version_major": 2,
       "version_minor": 0
      },
      "text/plain": [
       "Running Perturbations on base model:   0%|          | 0/10 [00:00<?, ?it/s]"
      ]
     },
     "metadata": {},
     "output_type": "display_data"
    },
    {
     "data": {
      "application/vnd.jupyter.widget-view+json": {
       "model_id": "",
       "version_major": 2,
       "version_minor": 0
      },
      "text/plain": [
       "Running Perturbations on base model:   0%|          | 0/10 [00:00<?, ?it/s]"
      ]
     },
     "metadata": {},
     "output_type": "display_data"
    },
    {
     "data": {
      "application/vnd.jupyter.widget-view+json": {
       "model_id": "",
       "version_major": 2,
       "version_minor": 0
      },
      "text/plain": [
       "Running Perturbations on base model:   0%|          | 0/10 [00:00<?, ?it/s]"
      ]
     },
     "metadata": {},
     "output_type": "display_data"
    },
    {
     "data": {
      "application/vnd.jupyter.widget-view+json": {
       "model_id": "",
       "version_major": 2,
       "version_minor": 0
      },
      "text/plain": [
       "Running Perturbations on base model:   0%|          | 0/10 [00:00<?, ?it/s]"
      ]
     },
     "metadata": {},
     "output_type": "display_data"
    },
    {
     "data": {
      "application/vnd.jupyter.widget-view+json": {
       "model_id": "",
       "version_major": 2,
       "version_minor": 0
      },
      "text/plain": [
       "Running Perturbation Batch, for k: 12:   0%|          | 0/10 [00:00<?, ?it/s]"
      ]
     },
     "metadata": {},
     "output_type": "display_data"
    },
    {
     "data": {
      "application/vnd.jupyter.widget-view+json": {
       "model_id": "",
       "version_major": 2,
       "version_minor": 0
      },
      "text/plain": [
       "Running Perturbations on base model:   0%|          | 0/10 [00:00<?, ?it/s]"
      ]
     },
     "metadata": {},
     "output_type": "display_data"
    },
    {
     "data": {
      "application/vnd.jupyter.widget-view+json": {
       "model_id": "",
       "version_major": 2,
       "version_minor": 0
      },
      "text/plain": [
       "Running Perturbations on base model:   0%|          | 0/10 [00:00<?, ?it/s]"
      ]
     },
     "metadata": {},
     "output_type": "display_data"
    },
    {
     "data": {
      "application/vnd.jupyter.widget-view+json": {
       "model_id": "",
       "version_major": 2,
       "version_minor": 0
      },
      "text/plain": [
       "Running Perturbations on base model:   0%|          | 0/10 [00:00<?, ?it/s]"
      ]
     },
     "metadata": {},
     "output_type": "display_data"
    },
    {
     "data": {
      "application/vnd.jupyter.widget-view+json": {
       "model_id": "",
       "version_major": 2,
       "version_minor": 0
      },
      "text/plain": [
       "Running Perturbations on base model:   0%|          | 0/10 [00:00<?, ?it/s]"
      ]
     },
     "metadata": {},
     "output_type": "display_data"
    },
    {
     "data": {
      "application/vnd.jupyter.widget-view+json": {
       "model_id": "",
       "version_major": 2,
       "version_minor": 0
      },
      "text/plain": [
       "Running Perturbations on base model:   0%|          | 0/10 [00:00<?, ?it/s]"
      ]
     },
     "metadata": {},
     "output_type": "display_data"
    },
    {
     "data": {
      "application/vnd.jupyter.widget-view+json": {
       "model_id": "",
       "version_major": 2,
       "version_minor": 0
      },
      "text/plain": [
       "Running Perturbations on base model:   0%|          | 0/10 [00:00<?, ?it/s]"
      ]
     },
     "metadata": {},
     "output_type": "display_data"
    },
    {
     "data": {
      "application/vnd.jupyter.widget-view+json": {
       "model_id": "",
       "version_major": 2,
       "version_minor": 0
      },
      "text/plain": [
       "Running Perturbations on base model:   0%|          | 0/10 [00:00<?, ?it/s]"
      ]
     },
     "metadata": {},
     "output_type": "display_data"
    },
    {
     "data": {
      "application/vnd.jupyter.widget-view+json": {
       "model_id": "",
       "version_major": 2,
       "version_minor": 0
      },
      "text/plain": [
       "Running Perturbations on base model:   0%|          | 0/10 [00:00<?, ?it/s]"
      ]
     },
     "metadata": {},
     "output_type": "display_data"
    },
    {
     "data": {
      "application/vnd.jupyter.widget-view+json": {
       "model_id": "",
       "version_major": 2,
       "version_minor": 0
      },
      "text/plain": [
       "Running Perturbations on base model:   0%|          | 0/10 [00:00<?, ?it/s]"
      ]
     },
     "metadata": {},
     "output_type": "display_data"
    },
    {
     "data": {
      "application/vnd.jupyter.widget-view+json": {
       "model_id": "",
       "version_major": 2,
       "version_minor": 0
      },
      "text/plain": [
       "Running Perturbations on base model:   0%|          | 0/10 [00:00<?, ?it/s]"
      ]
     },
     "metadata": {},
     "output_type": "display_data"
    },
    {
     "name": "stdout",
     "output_type": "stream",
     "text": [
      "CPU times: total: 20min 32s\n",
      "Wall time: 22min 12s\n"
     ]
    }
   ],
   "source": [
    "%%time\n",
    "\n",
    "estimate_k = 6\n",
    "n_models = 10\n",
    "threshold = 0.9\n",
    "\n",
    "perturb_p = 1.0\n",
    "perturb_sigma = 0.25\n",
    "batch_n = 10\n",
    "\n",
    "min_factor = 3\n",
    "max_factor = 12\n",
    "\n",
    "\n",
    "batch_results = {}\n",
    "for i in tnrange(max_factor-min_factor+1, desc=f\"Searching Perturbation Space\"): \n",
    "    batch_results_i = run_batch(factors=i+min_factor, v=iV, u=iU, batches=batch_n, random_seed=random_seed, perturb_p=perturb_p, sigma=perturb_sigma, models=n_models, max_iter=20000, converge_n=20, converge_delta=0.01, threshold=threshold, pg_leave=False)\n",
    "    batch_results[i] = batch_results_i"
   ]
  },
  {
   "cell_type": "code",
   "execution_count": 31,
   "id": "a25118a1-df94-42a8-a6c4-bc33db318daa",
   "metadata": {},
   "outputs": [
    {
     "ename": "KeyError",
     "evalue": "'summary'",
     "output_type": "error",
     "traceback": [
      "\u001b[1;31m---------------------------------------------------------------------------\u001b[0m",
      "\u001b[1;31mKeyError\u001b[0m                                  Traceback (most recent call last)",
      "Cell \u001b[1;32mIn[31], line 1\u001b[0m\n\u001b[1;32m----> 1\u001b[0m \u001b[43mbatch_results0\u001b[49m\u001b[43m[\u001b[49m\u001b[38;5;241;43m0\u001b[39;49m\u001b[43m]\u001b[49m\u001b[43m[\u001b[49m\u001b[38;5;124;43m\"\u001b[39;49m\u001b[38;5;124;43msummary\u001b[39;49m\u001b[38;5;124;43m\"\u001b[39;49m\u001b[43m]\u001b[49m\n",
      "\u001b[1;31mKeyError\u001b[0m: 'summary'"
     ]
    }
   ],
   "source": [
    "batch_results0[0][\"summary\"]"
   ]
  },
  {
   "cell_type": "code",
   "execution_count": null,
   "id": "448555a9-b621-4453-b4ce-c0682ad893dd",
   "metadata": {},
   "outputs": [
    {
     "ename": "KeyError",
     "evalue": "'perturb results'",
     "output_type": "error",
     "traceback": [
      "\u001b[1;31m---------------------------------------------------------------------------\u001b[0m",
      "\u001b[1;31mKeyError\u001b[0m                                  Traceback (most recent call last)",
      "Cell \u001b[1;32mIn[7], line 9\u001b[0m\n\u001b[0;32m      7\u001b[0m raae_mapping \u001b[38;5;241m=\u001b[39m [\u001b[38;5;241m0\u001b[39m] \u001b[38;5;241m*\u001b[39m n_factors\n\u001b[0;32m      8\u001b[0m emc_mapping \u001b[38;5;241m=\u001b[39m [\u001b[38;5;241m0\u001b[39m] \u001b[38;5;241m*\u001b[39m n_factors\n\u001b[1;32m----> 9\u001b[0m \u001b[38;5;28;01mfor\u001b[39;00m i, p_model \u001b[38;5;129;01min\u001b[39;00m \u001b[43mbatch_results0\u001b[49m\u001b[43m[\u001b[49m\u001b[38;5;124;43m\"\u001b[39;49m\u001b[38;5;124;43mperturb results\u001b[39;49m\u001b[38;5;124;43m\"\u001b[39;49m\u001b[43m]\u001b[49m\u001b[38;5;241m.\u001b[39mitems():\n\u001b[0;32m     10\u001b[0m     cmap_dif \u001b[38;5;241m=\u001b[39m np\u001b[38;5;241m.\u001b[39msubtract(p_model[\u001b[38;5;124m\"\u001b[39m\u001b[38;5;124mcorr_mapping\u001b[39m\u001b[38;5;124m\"\u001b[39m], \u001b[38;5;28mlist\u001b[39m(\u001b[38;5;28mrange\u001b[39m(n_factors)))\n\u001b[0;32m     11\u001b[0m     raae_dif \u001b[38;5;241m=\u001b[39m np\u001b[38;5;241m.\u001b[39msubtract(p_model[\u001b[38;5;124m\"\u001b[39m\u001b[38;5;124mraae_mapping\u001b[39m\u001b[38;5;124m\"\u001b[39m], \u001b[38;5;28mlist\u001b[39m(\u001b[38;5;28mrange\u001b[39m(n_factors)))\n",
      "\u001b[1;31mKeyError\u001b[0m: 'perturb results'"
     ]
    }
   ],
   "source": [
    "# Metrics\n",
    "# Factor mapping (what percentage of perturbed model factors map to the base model factors, using corr(W), RAAE or EMC)\n",
    "# Factor profile ranges (among mapped perturbed model factors)\n",
    "# Factor mean contribution ranges (among mapped pertrubed model factors)\n",
    "n_factors = estimate_k\n",
    "corr_mapping = [0] * n_factors\n",
    "raae_mapping = [0] * n_factors\n",
    "emc_mapping = [0] * n_factors\n",
    "for i, p_model in batch_results0[\"perturb results\"].items():\n",
    "    cmap_dif = np.subtract(p_model[\"corr_mapping\"], list(range(n_factors)))\n",
    "    raae_dif = np.subtract(p_model[\"raae_mapping\"], list(range(n_factors)))\n",
    "    emc_dif = np.subtract(p_model[\"emc_mapping\"], list(range(n_factors)))\n",
    "    for j in range(n_factors):\n",
    "        if cmap_dif[j] == 0:\n",
    "            corr_mapping[j] += 1\n",
    "        if raae_dif[j] == 0:\n",
    "            raae_mapping[j] += 1\n",
    "        if emc_dif[j] == 0:\n",
    "            emc_mapping[j] += 1\n",
    "mapping_df = pd.DataFrame(data=\n",
    "                          {\n",
    "                              \"Factor\": list(range(n_factors)), \n",
    "                              \"R2\": np.round(100 * np.array(corr_mapping)/n_models, 2), \n",
    "                              \"RAAE\": np.round(100 * np.array(raae_mapping)/n_models, 2), \n",
    "                              \"EMC\": np.round(100 * np.array(emc_mapping)/n_models, 2)\n",
    "                          }\n",
    "                         )\n",
    "mapping_df"
   ]
  },
  {
   "cell_type": "code",
   "execution_count": null,
   "id": "efef0cc4-0061-42a3-a4d9-9d896c0f9bba",
   "metadata": {},
   "outputs": [],
   "source": [
    "df_columns = [f\"Factor {i}\" for i in range(n_factors)]\n",
    "df_index = [f\"Base Factor {i}\" for i in range(n_factors)]\n",
    "corr_df = pd.DataFrame(data=np.array(batch_results0[\"perturb results\"][0][\"all_corr\"]), columns=df_columns, index=df_index)\n",
    "print(\"Correlation Matrix\")\n",
    "corr_df"
   ]
  },
  {
   "cell_type": "code",
   "execution_count": null,
   "id": "a129c799-dd6a-42b4-b4c9-d4da03dcc903",
   "metadata": {},
   "outputs": [],
   "source": [
    "raae_df = pd.DataFrame(data=np.array(batch_results0[\"perturb results\"][0][\"all_raae\"]), columns=df_columns, index=df_index)\n",
    "print(\"RAAE Matrix\")\n",
    "raae_df"
   ]
  },
  {
   "cell_type": "code",
   "execution_count": null,
   "id": "c9e7be23-a1da-46e9-9503-40974a468494",
   "metadata": {},
   "outputs": [],
   "source": [
    "emc_df = pd.DataFrame(data=np.array(batch_results0[\"perturb results\"][1][\"all_emc\"]), columns=df_columns, index=df_index)\n",
    "print(\"EMC Matrix\")\n",
    "emc_df"
   ]
  },
  {
   "cell_type": "code",
   "execution_count": null,
   "id": "cd9da98a-4f4d-464b-9add-71304af52b5a",
   "metadata": {
    "jp-MarkdownHeadingCollapsed": true
   },
   "outputs": [],
   "source": []
  },
  {
   "cell_type": "code",
   "execution_count": null,
   "id": "12652c5a-b8e6-43f5-8c44-199493ffef47",
   "metadata": {},
   "outputs": [],
   "source": []
  },
  {
   "cell_type": "code",
   "execution_count": null,
   "id": "35e1658b-068c-4c97-8525-108e5b9dec45",
   "metadata": {},
   "outputs": [],
   "source": [
    "emc_mapping_results = optimal_mapping_algorithm(batch_results=batch_results0, mapping_type=\"emc\")\n",
    "emc_mapping_results"
   ]
  },
  {
   "cell_type": "code",
   "execution_count": null,
   "id": "457f78ec-bbd6-40de-b90a-c69d2b587570",
   "metadata": {},
   "outputs": [],
   "source": []
  },
  {
   "cell_type": "code",
   "execution_count": null,
   "id": "19314935-f271-47ec-a5ff-a4eeab7fa743",
   "metadata": {},
   "outputs": [],
   "source": [
    "# Table 1\n",
    "u_m_stats = np.percentile(batch_results0[\"perturb results\"][0][\"multiplier\"], [1, 25, 50, 75, 99])\n",
    "m_stats_dict = dict(zip([\"first\", \"25th\", \"50th\", \"75th\", \"99th\"], u_m_stats))\n",
    "m_stats_dict[\"sigma\"] = perturb_sigma\n",
    "m_stats_df = pd.Series(data=m_stats_dict)\n",
    "m_stats_df"
   ]
  },
  {
   "cell_type": "code",
   "execution_count": null,
   "id": "34a00b0f-983a-455f-9e9f-d658ca65868d",
   "metadata": {},
   "outputs": [],
   "source": [
    "base_H = batch_results0[\"base model\"].H\n",
    "base_H = (base_H / np.sum(base_H, axis=0))\n",
    "\n",
    "base_W = batch_results0[\"base model\"].W\n",
    "base_W = (base_W.T / np.sum(base_W.T, axis=0)).T\n",
    "\n",
    "threshold = 0.95\n",
    "\n",
    "p_Hs = []\n",
    "p_Ws = []\n",
    "p_Qs = []\n",
    "for p, p_results in batch_results0[\"perturb results\"].items():\n",
    "    p_model = p_results[\"model\"]\n",
    "    p_H = (p_model.H / np.sum(p_model.H, axis=0))\n",
    "    p_W = (p_model.W.T / np.sum(p_model.W.T, axis=0)).T\n",
    "    _p_H = []\n",
    "    _p_W = []\n",
    "    p_mapping = emc_mapping_results[0][p]\n",
    "    p_map_metric = np.array(emc_mapping_results[1][p]) > threshold\n",
    "    for i in range(p_model.factors):\n",
    "        if p_map_metric[i]:\n",
    "            _p_H.append(p_H[p_mapping[i]])\n",
    "            _p_W.append(p_W[:,p_mapping[i]])\n",
    "        # else:\n",
    "        #     _p_H.append(base_H[p_mapping[i]])\n",
    "    _p_H = np.array(_p_H)\n",
    "    _p_W = np.array(_p_W)\n",
    "    p_Hs.append(_p_H)\n",
    "    p_Ws.append(_p_W)\n",
    "    p_Qs.append(p_model.Qtrue)\n",
    "perturb_H = np.dstack(p_Hs)\n",
    "perturb_W = np.dstack(p_Ws)\n",
    "mean_perturb_H = np.mean(perturb_H, axis=2)\n",
    "std_perturb_H = np.std(perturb_H, axis=2)\n",
    "min_perturb_H = np.min(perturb_H, axis=2)\n",
    "max_perturb_H = np.max(perturb_H, axis=2)\n",
    "\n",
    "feature_labels = [f\"Feature {i+1}\" for i in range(base_H.shape[1])]\n",
    "print(f\"QTrue - Base: {np.round(batch_results0[\"base model\"].Qtrue,4)}, Perturb Mean: {np.round(np.mean(p_Qs),4)}, Perturb STD: {np.round(np.std(p_Qs),4)}, Perturb Min: {np.round(np.min(p_Qs),4)}, Perturb Max: {np.round(np.max(p_Qs),4)}\")"
   ]
  },
  {
   "cell_type": "code",
   "execution_count": null,
   "id": "ef04f921-bd27-493d-8b73-712e67081afe",
   "metadata": {},
   "outputs": [],
   "source": []
  },
  {
   "cell_type": "code",
   "execution_count": null,
   "id": "9ec70aa6-2997-4cad-893c-504c7bacc86a",
   "metadata": {},
   "outputs": [],
   "source": [
    "factor_i = 1\n",
    "f1_dict = {\n",
    "    \"Base\": base_H[factor_i],\n",
    "    \"Mean Perturb\": mean_perturb_H[factor_i],\n",
    "    \"% diff\": np.round(100*(mean_perturb_H[factor_i] - base_H[factor_i])/((mean_perturb_H[factor_i] + base_H[factor_i])/2) , 4),\n",
    "    \"STD Perturb\": std_perturb_H[factor_i],\n",
    "    \"Min Perturb\": min_perturb_H[factor_i],\n",
    "    \"Max Perturb\": max_perturb_H[factor_i],\n",
    "}\n",
    "f1_dict[\"% diff\"][f1_dict[\"Mean Perturb\"] < 1e-6] = 0.0 \n",
    "\n",
    "f1_df = pd.DataFrame(f1_dict, index=feature_labels).round(10)\n",
    "f1_df"
   ]
  },
  {
   "cell_type": "code",
   "execution_count": null,
   "id": "2fedfebe-0f13-4bcb-915d-695e5491e6ec",
   "metadata": {},
   "outputs": [],
   "source": [
    "# Figure 1\n",
    "factor_labels = [f\"Factor {i+1}\" for i in range(base_W.shape[1])]\n",
    "p_W_mean = np.mean(perturb_W, axis=(1,2))\n",
    "base_W_mean = np.mean(base_W, axis=0)\n",
    "factor_w0_fig = make_subplots()\n",
    "factor_w0_fig.add_trace(go.Bar(x=factor_labels, y=100*p_W_mean, name=\"Perturbed W\"))\n",
    "factor_w0_fig.add_trace(go.Bar(x=factor_labels, y=100*base_W_mean, name=\"Base W\"))\n",
    "factor_w0_fig.update_layout(title=f\"Perturbed Mean Factor Contribution Results\", width=1200, height=800, hovermode='x unified', barmode='group')\n",
    "factor_w0_fig.update_yaxes(title_text=\"Mean Normalized Contributions (%)\")\n",
    "factor_w0_fig.show()"
   ]
  },
  {
   "cell_type": "code",
   "execution_count": null,
   "id": "92e876fe-b877-4d3e-b80f-3c0fe71fa409",
   "metadata": {},
   "outputs": [],
   "source": [
    "# Figure 2\n",
    "factor_w1_fig = make_subplots()\n",
    "p_W_means = np.mean(perturb_W, axis=1)\n",
    "base_W_means = np.mean(base_W, axis=0)\n",
    "for i in range(len(factor_labels)):\n",
    "    i_W_means = p_W_means[i]\n",
    "    factor_w1_fig.add_trace(go.Box(y=i_W_means, name=factor_labels[i]))\n",
    "factor_w1_fig.add_trace(go.Scatter(x=factor_labels, y=base_W_means, name=\"Base\", mode=\"markers\", marker_color=\"black\"))\n",
    "factor_w1_fig.update_layout(title=f\"Perturbed Average Source Contributions - Sigma: {perturb_sigma}\", width=1200, height=800, hovermode='x unified')\n",
    "factor_w1_fig.update_yaxes(title_text=\"Source Contributions\")\n",
    "factor_w1_fig.show()"
   ]
  },
  {
   "cell_type": "code",
   "execution_count": null,
   "id": "1dd6f561-78a9-4aa8-93a9-2958d72ae8b6",
   "metadata": {},
   "outputs": [],
   "source": [
    "raae_mapping_results = optimal_mapping_algorithm(batch_results=batch_results0, mapping_type=\"raae\")\n",
    "raae_mapping_results"
   ]
  },
  {
   "cell_type": "code",
   "execution_count": null,
   "id": "c01f048d-84aa-42c3-b6e0-fa3b86e45356",
   "metadata": {},
   "outputs": [],
   "source": [
    "# Figure 2\n",
    "factor_raae_fig = make_subplots()\n",
    "factor_raae = np.zeros(shape=(n_models, len(factor_labels)))\n",
    "for i, v in raae_mapping_results[1].items():\n",
    "    i_mapping = raae_mapping_results[0][i]\n",
    "    factor_raae[i] = np.array(v)[i_mapping]\n",
    "for i in range(len(factor_labels)):\n",
    "    i_raae_means = factor_raae[:,i]\n",
    "    factor_raae_fig.add_trace(go.Box(y=i_raae_means, name=factor_labels[i]))\n",
    "factor_raae_fig.add_hline(y=np.mean(factor_raae))\n",
    "factor_raae_fig.update_layout(title=f\"Perturbed Source RAAE - Sigma: {perturb_sigma}\", width=1200, height=800, hovermode='x unified')\n",
    "factor_raae_fig.update_yaxes(title_text=\"RAAE\")\n",
    "factor_raae_fig.show()"
   ]
  },
  {
   "cell_type": "code",
   "execution_count": null,
   "id": "d4797ed6-70e3-4d36-ada1-7490de5fe775",
   "metadata": {},
   "outputs": [],
   "source": [
    "# Figure 4\n",
    "factor_emc_fig = make_subplots()\n",
    "factor_emc = np.zeros(shape=(n_models, len(factor_labels)))\n",
    "for i, v in emc_mapping_results[1].items():\n",
    "    i_mapping = emc_mapping_results[0][i]\n",
    "    factor_emc[i] = np.array(v)[i_mapping]\n",
    "for i in range(len(factor_labels)):\n",
    "    i_emc_means = factor_emc[:,i]\n",
    "    factor_emc_fig.add_trace(go.Box(y=i_emc_means, name=factor_labels[i]))\n",
    "factor_emc_fig.add_hline(y=np.mean(factor_emc))\n",
    "factor_emc_fig.update_layout(title=f\"Perturbed Source EMC - Sigma: {perturb_sigma}\", width=1200, height=800, hovermode='x unified')\n",
    "factor_emc_fig.update_yaxes(title_text=\"EMC\")\n",
    "factor_emc_fig.show()"
   ]
  },
  {
   "cell_type": "code",
   "execution_count": null,
   "id": "804a17ad-28ff-4dd4-a31d-0fe30a0697c2",
   "metadata": {},
   "outputs": [],
   "source": [
    "factor_i = 1\n",
    "factor_p0_fig = make_subplots(specs=[[{\"secondary_y\": True}]])\n",
    "for i in range(len(feature_labels)):\n",
    "    f_feature_i = perturb_H[factor_i,i]\n",
    "    factor_p0_fig.add_trace(go.Box(y=f_feature_i, name=feature_labels[i]), secondary_y=False)\n",
    "factor_p0_fig.add_trace(go.Scatter(x=feature_labels, y=base_H[factor_i], name=\"Base\", mode=\"markers\", marker_color=\"black\"), secondary_y=False)\n",
    "factor_p0_fig.update_layout(title=f\"Perturbed Factor {factor_i} Profile Results\", width=1200, height=800, hovermode='x unified')\n",
    "factor_p0_fig.update_yaxes(title_text=\"Normalized Profile\", secondary_y=False)\n",
    "factor_p0_fig.show()"
   ]
  },
  {
   "cell_type": "code",
   "execution_count": null,
   "id": "ed1212ad-8f5b-403d-a70e-a53c2cbd922c",
   "metadata": {},
   "outputs": [],
   "source": []
  },
  {
   "cell_type": "code",
   "execution_count": null,
   "id": "9507e4d0-b2bd-47df-9f1f-434b37f93261",
   "metadata": {},
   "outputs": [],
   "source": []
  },
  {
   "cell_type": "code",
   "execution_count": null,
   "id": "4826b202-4f4a-4b49-b756-697f6777a20a",
   "metadata": {},
   "outputs": [],
   "source": []
  },
  {
   "cell_type": "markdown",
   "id": "099bb4fa-d6d8-43e8-8e93-79d2a1dcbd2b",
   "metadata": {},
   "source": [
    "## "
   ]
  }
 ],
 "metadata": {
  "kernelspec": {
   "display_name": "Python 3 (ipykernel)",
   "language": "python",
   "name": "python3"
  },
  "language_info": {
   "codemirror_mode": {
    "name": "ipython",
    "version": 3
   },
   "file_extension": ".py",
   "mimetype": "text/x-python",
   "name": "python",
   "nbconvert_exporter": "python",
   "pygments_lexer": "ipython3",
   "version": "3.12.2"
  }
 },
 "nbformat": 4,
 "nbformat_minor": 5
}
