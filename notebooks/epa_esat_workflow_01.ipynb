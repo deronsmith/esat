{
 "cells": [
  {
   "cell_type": "markdown",
   "id": "5686853f-4655-4e79-af04-fe24aac1756e",
   "metadata": {},
   "source": [
    "## Environmental Source Apportionment Toolkit (ESAT) Workflow\n",
    "\n",
    "The source apportionment workflow that is available in ESAT replicates the functionality that is found in PMF5. The workflow covers all of the steps for each feature that is available in PMF5:\n",
    " 1. Data preprocessing, cleanup and analysis.\n",
    " 2. Source apportionment model creation.\n",
    " 3. Post-processing analysis and visualizations.\n",
    " 4. Error estimation analysis of the source apportionment model.\n",
    "    1. Bootstrap (BS)\n",
    "    2. Displacement (DISP)\n",
    "    3. Bootstrap-Displacement (BS-DISP)\n",
    " 5. Constrained source apportionment model. \n",
    "\n",
    "The code provided in this notebook are intended to provide an example of how to implement the ESAT workflow programmaticaly.\n"
   ]
  },
  {
   "cell_type": "code",
   "execution_count": 1,
   "id": "e819075f-8cd8-401c-9b28-0d703dd7f3f8",
   "metadata": {},
   "outputs": [],
   "source": [
    "# Notebook imports\n",
    "import os\n",
    "import sys\n",
    "import json"
   ]
  },
  {
   "cell_type": "code",
   "execution_count": 2,
   "id": "e208cc14-b39c-4095-a100-35b85f4d19e1",
   "metadata": {},
   "outputs": [],
   "source": [
    "# When running from Google Colab or other Jupyter notebook cloud environment, the esat python package may need to be installed.\n",
    "# If the python package file is available locally run a pip install for the specific wheel for your current OS/Arch\n",
    "#! pip install esat"
   ]
  },
  {
   "cell_type": "markdown",
   "id": "770385fe-48ab-47c4-bdbb-50bab6950d05",
   "metadata": {},
   "source": [
    "#### Code Imports"
   ]
  },
  {
   "cell_type": "code",
   "execution_count": 3,
   "id": "c9de6b9e-89a5-4db8-94d4-2226605d9ae6",
   "metadata": {},
   "outputs": [],
   "source": [
    "from esat.data.datahandler import DataHandler\n",
    "from esat.model.sa import SA\n",
    "from esat.model.batch_sa import BatchSA\n",
    "from esat.data.analysis import ModelAnalysis, BatchAnalysis"
   ]
  },
  {
   "cell_type": "markdown",
   "id": "5dfb2b9c-98ee-4482-a0f9-c06b1eeb651f",
   "metadata": {},
   "source": [
    "#### Sample Dataset\n",
    "The three sample datasets from PMF5 are available for use, but a new dataset can be used in their place."
   ]
  },
  {
   "cell_type": "code",
   "execution_count": 4,
   "id": "f6887c06-7ebe-4fe4-82fd-5bcd5ec82604",
   "metadata": {},
   "outputs": [],
   "source": [
    "cwd = os.getcwd()\n",
    "data_dir = os.path.join(cwd, \"..\", \"data\")\n",
    "\n",
    "# Baton Rouge Dataset\n",
    "br_input_file = os.path.join(data_dir, \"Dataset-BatonRouge-con.csv\")\n",
    "br_uncertainty_file = os.path.join(data_dir, \"Dataset-BatonRouge-unc.csv\")\n",
    "br_output_path = os.path.join(data_dir, \"output\", \"BatonRouge\")\n",
    "# Baltimore Dataset\n",
    "b_input_file = os.path.join(data_dir, \"Dataset-Baltimore_con.txt\")\n",
    "b_uncertainty_file = os.path.join(data_dir, \"Dataset-Baltimore_unc.txt\")\n",
    "b_output_path = os.path.join(data_dir, \"output\", \"Baltimore\")\n",
    "# Saint Louis Dataset\n",
    "sl_input_file = os.path.join(data_dir, \"Dataset-StLouis-con.csv\")\n",
    "sl_uncertainty_file = os.path.join(data_dir, \"Dataset-StLouis-unc.csv\")\n",
    "sl_output_path = os.path.join(data_dir, \"output\", \"StLouis\")"
   ]
  },
  {
   "cell_type": "markdown",
   "id": "84f532c5-1e71-4966-8edf-e8f68fa0bd57",
   "metadata": {},
   "source": [
    "#### Input Parameters"
   ]
  },
  {
   "cell_type": "code",
   "execution_count": 5,
   "id": "2281601e-af6e-43b4-80eb-317ebfaf5ede",
   "metadata": {},
   "outputs": [],
   "source": [
    "index_col = \"Date\"                  # the index of the input/uncertainty datasets\n",
    "factors = 6                         # the number of factors\n",
    "method = \"ls-nmf\"                   # \"ls-nmf\", \"ws-nmf\"\n",
    "models = 20                         # the number of models to train\n",
    "init_method = \"col_means\"           # default is column means \"col_means\", \"kmeans\", \"cmeans\"\n",
    "init_norm = True                    # if init_method=kmeans or cmeans, normalize the data prior to clustering.\n",
    "seed = 42                           # random seed for initialization\n",
    "max_iterations = 20000              # the maximum number of iterations for fitting a model\n",
    "converge_delta = 0.01               # convergence criteria for the change in loss, Q\n",
    "converge_n = 50                     # convergence criteria for the number of steps where the loss changes by less than converge_delta\n",
    "verbose = True                      # adds more verbosity to the algorithm workflow on execution."
   ]
  },
  {
   "cell_type": "markdown",
   "id": "90318121-9709-4e67-baf3-8f76432f68ed",
   "metadata": {},
   "source": [
    "#### Dataset Selection\n",
    "One of the three sample datasets can be selected or a new cleaned dataset can be used. Datasets should be cleaned, containing no missing data (either dropping missing/NaNs, or interpolating the missing values)."
   ]
  },
  {
   "cell_type": "code",
   "execution_count": 6,
   "id": "16f90ce2-d9d3-42cd-8a30-aa5b0b73fe77",
   "metadata": {},
   "outputs": [],
   "source": [
    "# Loading the Baton Rouge dataset\n",
    "input_file = br_input_file\n",
    "uncertainty_file = br_uncertainty_file\n",
    "output_path = b_output_path"
   ]
  },
  {
   "cell_type": "markdown",
   "id": "1d605314-c34a-434d-a178-81b6f6b3766d",
   "metadata": {},
   "source": [
    "#### Load Data\n",
    "Assign the processed data and uncertainty datasets to the variables V and U. These steps will be simplified/streamlined in a future version of the code."
   ]
  },
  {
   "cell_type": "code",
   "execution_count": 7,
   "id": "057c5901-f26d-4e0e-82a5-52059888de93",
   "metadata": {},
   "outputs": [
    {
     "name": "stderr",
     "output_type": "stream",
     "text": [
      "25-Jul-25 14:54:25 - Input and output configured successfully\n"
     ]
    }
   ],
   "source": [
    "data_handler = DataHandler(\n",
    "    input_path=input_file,\n",
    "    uncertainty_path=uncertainty_file,\n",
    "    index_col=index_col\n",
    ")"
   ]
  },
  {
   "cell_type": "markdown",
   "id": "412787cb-62cf-4a86-9a2d-f368030e11db",
   "metadata": {},
   "source": [
    "#### Input/Uncertainty Data Metrics and Visualizations"
   ]
  },
  {
   "cell_type": "code",
   "execution_count": 8,
   "id": "2335d1a5-ed15-41be-a193-ace01426e803",
   "metadata": {
    "scrolled": true
   },
   "outputs": [
    {
     "data": {
      "text/html": [
       "<div>\n",
       "<style scoped>\n",
       "    .dataframe tbody tr th:only-of-type {\n",
       "        vertical-align: middle;\n",
       "    }\n",
       "\n",
       "    .dataframe tbody tr th {\n",
       "        vertical-align: top;\n",
       "    }\n",
       "\n",
       "    .dataframe thead th {\n",
       "        text-align: right;\n",
       "    }\n",
       "</style>\n",
       "<table border=\"1\" class=\"dataframe\">\n",
       "  <thead>\n",
       "    <tr style=\"text-align: right;\">\n",
       "      <th></th>\n",
       "      <th>Category</th>\n",
       "      <th>S/N</th>\n",
       "      <th>Min</th>\n",
       "      <th>25th</th>\n",
       "      <th>50th</th>\n",
       "      <th>75th</th>\n",
       "      <th>Max</th>\n",
       "    </tr>\n",
       "  </thead>\n",
       "  <tbody>\n",
       "    <tr>\n",
       "      <th>124-Trimethylbenzene</th>\n",
       "      <td>strong</td>\n",
       "      <td>5.445168</td>\n",
       "      <td>0.005000</td>\n",
       "      <td>0.820001</td>\n",
       "      <td>1.290001</td>\n",
       "      <td>1.865001</td>\n",
       "      <td>5.470003</td>\n",
       "    </tr>\n",
       "    <tr>\n",
       "      <th>224-Trimethylpentane</th>\n",
       "      <td>strong</td>\n",
       "      <td>5.666667</td>\n",
       "      <td>0.410000</td>\n",
       "      <td>1.580001</td>\n",
       "      <td>2.490002</td>\n",
       "      <td>3.865002</td>\n",
       "      <td>13.560008</td>\n",
       "    </tr>\n",
       "    <tr>\n",
       "      <th>234-Trimethylpentane</th>\n",
       "      <td>strong</td>\n",
       "      <td>5.537459</td>\n",
       "      <td>0.005000</td>\n",
       "      <td>0.530000</td>\n",
       "      <td>0.820001</td>\n",
       "      <td>1.300001</td>\n",
       "      <td>4.410003</td>\n",
       "    </tr>\n",
       "    <tr>\n",
       "      <th>23-Dimethylbutane</th>\n",
       "      <td>strong</td>\n",
       "      <td>5.500543</td>\n",
       "      <td>0.005000</td>\n",
       "      <td>0.640000</td>\n",
       "      <td>1.110001</td>\n",
       "      <td>2.285001</td>\n",
       "      <td>10.500007</td>\n",
       "    </tr>\n",
       "    <tr>\n",
       "      <th>23-Dimethylpentane</th>\n",
       "      <td>strong</td>\n",
       "      <td>5.463626</td>\n",
       "      <td>0.005000</td>\n",
       "      <td>0.340000</td>\n",
       "      <td>0.490000</td>\n",
       "      <td>0.780000</td>\n",
       "      <td>3.310002</td>\n",
       "    </tr>\n",
       "    <tr>\n",
       "      <th>2-Methylheptane</th>\n",
       "      <td>strong</td>\n",
       "      <td>5.039088</td>\n",
       "      <td>0.005000</td>\n",
       "      <td>0.215000</td>\n",
       "      <td>0.330000</td>\n",
       "      <td>0.535000</td>\n",
       "      <td>2.480002</td>\n",
       "    </tr>\n",
       "    <tr>\n",
       "      <th>3-Methylhexane</th>\n",
       "      <td>strong</td>\n",
       "      <td>5.648208</td>\n",
       "      <td>0.005000</td>\n",
       "      <td>0.655000</td>\n",
       "      <td>1.050001</td>\n",
       "      <td>1.510001</td>\n",
       "      <td>7.780005</td>\n",
       "    </tr>\n",
       "    <tr>\n",
       "      <th>3-Methylpentane</th>\n",
       "      <td>strong</td>\n",
       "      <td>5.611292</td>\n",
       "      <td>0.540000</td>\n",
       "      <td>1.720001</td>\n",
       "      <td>2.990002</td>\n",
       "      <td>5.945004</td>\n",
       "      <td>29.100018</td>\n",
       "    </tr>\n",
       "    <tr>\n",
       "      <th>Acetylene</th>\n",
       "      <td>strong</td>\n",
       "      <td>5.666667</td>\n",
       "      <td>0.380000</td>\n",
       "      <td>1.410001</td>\n",
       "      <td>1.990001</td>\n",
       "      <td>2.835002</td>\n",
       "      <td>8.070005</td>\n",
       "    </tr>\n",
       "    <tr>\n",
       "      <th>Benzene</th>\n",
       "      <td>strong</td>\n",
       "      <td>5.666667</td>\n",
       "      <td>0.590000</td>\n",
       "      <td>1.960001</td>\n",
       "      <td>2.770002</td>\n",
       "      <td>4.440003</td>\n",
       "      <td>9.330006</td>\n",
       "    </tr>\n",
       "    <tr>\n",
       "      <th>Cis-2-Butene</th>\n",
       "      <td>strong</td>\n",
       "      <td>3.100977</td>\n",
       "      <td>0.005000</td>\n",
       "      <td>0.005000</td>\n",
       "      <td>0.120000</td>\n",
       "      <td>0.310000</td>\n",
       "      <td>21.510013</td>\n",
       "    </tr>\n",
       "    <tr>\n",
       "      <th>Cis-2-Pentene</th>\n",
       "      <td>strong</td>\n",
       "      <td>5.057546</td>\n",
       "      <td>0.005000</td>\n",
       "      <td>0.220000</td>\n",
       "      <td>0.370000</td>\n",
       "      <td>0.720000</td>\n",
       "      <td>19.130012</td>\n",
       "    </tr>\n",
       "    <tr>\n",
       "      <th>Ethane</th>\n",
       "      <td>strong</td>\n",
       "      <td>5.666667</td>\n",
       "      <td>2.570002</td>\n",
       "      <td>8.285005</td>\n",
       "      <td>12.070008</td>\n",
       "      <td>17.890011</td>\n",
       "      <td>49.970031</td>\n",
       "    </tr>\n",
       "    <tr>\n",
       "      <th>Ethylbenzene</th>\n",
       "      <td>strong</td>\n",
       "      <td>5.666667</td>\n",
       "      <td>0.200000</td>\n",
       "      <td>0.620000</td>\n",
       "      <td>0.940001</td>\n",
       "      <td>1.450001</td>\n",
       "      <td>3.760002</td>\n",
       "    </tr>\n",
       "    <tr>\n",
       "      <th>Ethylene</th>\n",
       "      <td>strong</td>\n",
       "      <td>5.666667</td>\n",
       "      <td>0.890001</td>\n",
       "      <td>3.055002</td>\n",
       "      <td>5.260003</td>\n",
       "      <td>10.370006</td>\n",
       "      <td>49.490031</td>\n",
       "    </tr>\n",
       "    <tr>\n",
       "      <th>Isobutane</th>\n",
       "      <td>strong</td>\n",
       "      <td>5.666667</td>\n",
       "      <td>0.690000</td>\n",
       "      <td>2.705002</td>\n",
       "      <td>4.680003</td>\n",
       "      <td>7.700005</td>\n",
       "      <td>36.330023</td>\n",
       "    </tr>\n",
       "    <tr>\n",
       "      <th>Isopentane</th>\n",
       "      <td>strong</td>\n",
       "      <td>5.666667</td>\n",
       "      <td>2.500002</td>\n",
       "      <td>6.530004</td>\n",
       "      <td>10.260006</td>\n",
       "      <td>16.080010</td>\n",
       "      <td>125.500079</td>\n",
       "    </tr>\n",
       "    <tr>\n",
       "      <th>Isoprene</th>\n",
       "      <td>strong</td>\n",
       "      <td>5.555917</td>\n",
       "      <td>0.005000</td>\n",
       "      <td>0.890001</td>\n",
       "      <td>2.520002</td>\n",
       "      <td>4.840003</td>\n",
       "      <td>9.420006</td>\n",
       "    </tr>\n",
       "    <tr>\n",
       "      <th>Isopropylbenzene</th>\n",
       "      <td>strong</td>\n",
       "      <td>2.067318</td>\n",
       "      <td>0.005000</td>\n",
       "      <td>0.005000</td>\n",
       "      <td>0.005000</td>\n",
       "      <td>0.220000</td>\n",
       "      <td>6.640004</td>\n",
       "    </tr>\n",
       "    <tr>\n",
       "      <th>M_P Xylene</th>\n",
       "      <td>strong</td>\n",
       "      <td>5.666667</td>\n",
       "      <td>0.470000</td>\n",
       "      <td>1.845001</td>\n",
       "      <td>2.950002</td>\n",
       "      <td>4.510003</td>\n",
       "      <td>13.050008</td>\n",
       "    </tr>\n",
       "    <tr>\n",
       "      <th>M-Diethylbenzene</th>\n",
       "      <td>strong</td>\n",
       "      <td>2.436482</td>\n",
       "      <td>0.005000</td>\n",
       "      <td>0.005000</td>\n",
       "      <td>0.005000</td>\n",
       "      <td>0.230000</td>\n",
       "      <td>1.740001</td>\n",
       "    </tr>\n",
       "    <tr>\n",
       "      <th>M-Ethyltoluene</th>\n",
       "      <td>strong</td>\n",
       "      <td>5.519001</td>\n",
       "      <td>0.005000</td>\n",
       "      <td>0.530000</td>\n",
       "      <td>0.890001</td>\n",
       "      <td>1.395001</td>\n",
       "      <td>4.670003</td>\n",
       "    </tr>\n",
       "    <tr>\n",
       "      <th>N-Butane</th>\n",
       "      <td>strong</td>\n",
       "      <td>5.666667</td>\n",
       "      <td>1.650001</td>\n",
       "      <td>4.790003</td>\n",
       "      <td>7.360005</td>\n",
       "      <td>11.445007</td>\n",
       "      <td>56.230035</td>\n",
       "    </tr>\n",
       "    <tr>\n",
       "      <th>N-Decane</th>\n",
       "      <td>strong</td>\n",
       "      <td>5.168295</td>\n",
       "      <td>0.005000</td>\n",
       "      <td>0.280000</td>\n",
       "      <td>0.430000</td>\n",
       "      <td>0.690000</td>\n",
       "      <td>1.760001</td>\n",
       "    </tr>\n",
       "    <tr>\n",
       "      <th>N-Heptane</th>\n",
       "      <td>strong</td>\n",
       "      <td>5.666667</td>\n",
       "      <td>0.210000</td>\n",
       "      <td>0.730000</td>\n",
       "      <td>1.060001</td>\n",
       "      <td>1.515001</td>\n",
       "      <td>5.350003</td>\n",
       "    </tr>\n",
       "    <tr>\n",
       "      <th>N-Hexane</th>\n",
       "      <td>strong</td>\n",
       "      <td>5.611292</td>\n",
       "      <td>0.660000</td>\n",
       "      <td>2.170001</td>\n",
       "      <td>4.530003</td>\n",
       "      <td>9.820006</td>\n",
       "      <td>92.560058</td>\n",
       "    </tr>\n",
       "    <tr>\n",
       "      <th>N-Nonane</th>\n",
       "      <td>strong</td>\n",
       "      <td>5.408252</td>\n",
       "      <td>0.005000</td>\n",
       "      <td>0.310000</td>\n",
       "      <td>0.460000</td>\n",
       "      <td>0.670000</td>\n",
       "      <td>1.950001</td>\n",
       "    </tr>\n",
       "    <tr>\n",
       "      <th>N-Octane</th>\n",
       "      <td>strong</td>\n",
       "      <td>5.574376</td>\n",
       "      <td>0.005000</td>\n",
       "      <td>0.405000</td>\n",
       "      <td>0.630000</td>\n",
       "      <td>0.890001</td>\n",
       "      <td>3.100002</td>\n",
       "    </tr>\n",
       "    <tr>\n",
       "      <th>N-Pentane</th>\n",
       "      <td>strong</td>\n",
       "      <td>5.666667</td>\n",
       "      <td>0.710000</td>\n",
       "      <td>3.770002</td>\n",
       "      <td>5.450003</td>\n",
       "      <td>9.270006</td>\n",
       "      <td>38.580024</td>\n",
       "    </tr>\n",
       "    <tr>\n",
       "      <th>N-Propylbenzene</th>\n",
       "      <td>strong</td>\n",
       "      <td>3.617807</td>\n",
       "      <td>0.005000</td>\n",
       "      <td>0.005000</td>\n",
       "      <td>0.220000</td>\n",
       "      <td>0.330000</td>\n",
       "      <td>0.940001</td>\n",
       "    </tr>\n",
       "    <tr>\n",
       "      <th>N-Undecane</th>\n",
       "      <td>strong</td>\n",
       "      <td>4.983713</td>\n",
       "      <td>0.005000</td>\n",
       "      <td>0.250000</td>\n",
       "      <td>0.370000</td>\n",
       "      <td>0.550000</td>\n",
       "      <td>2.860002</td>\n",
       "    </tr>\n",
       "    <tr>\n",
       "      <th>O-Ethyltoluene</th>\n",
       "      <td>strong</td>\n",
       "      <td>4.946797</td>\n",
       "      <td>0.005000</td>\n",
       "      <td>0.240000</td>\n",
       "      <td>0.390000</td>\n",
       "      <td>0.585000</td>\n",
       "      <td>1.620001</td>\n",
       "    </tr>\n",
       "    <tr>\n",
       "      <th>O-Xylene</th>\n",
       "      <td>strong</td>\n",
       "      <td>5.666667</td>\n",
       "      <td>0.220000</td>\n",
       "      <td>0.800001</td>\n",
       "      <td>1.160001</td>\n",
       "      <td>1.735001</td>\n",
       "      <td>5.290003</td>\n",
       "    </tr>\n",
       "    <tr>\n",
       "      <th>Propane</th>\n",
       "      <td>strong</td>\n",
       "      <td>5.666667</td>\n",
       "      <td>2.260001</td>\n",
       "      <td>8.250005</td>\n",
       "      <td>12.270008</td>\n",
       "      <td>18.440012</td>\n",
       "      <td>70.960044</td>\n",
       "    </tr>\n",
       "    <tr>\n",
       "      <th>Propylene</th>\n",
       "      <td>strong</td>\n",
       "      <td>5.666667</td>\n",
       "      <td>0.380000</td>\n",
       "      <td>1.285001</td>\n",
       "      <td>2.450002</td>\n",
       "      <td>4.705003</td>\n",
       "      <td>24.900016</td>\n",
       "    </tr>\n",
       "    <tr>\n",
       "      <th>Styrene</th>\n",
       "      <td>strong</td>\n",
       "      <td>4.891422</td>\n",
       "      <td>0.005000</td>\n",
       "      <td>0.270000</td>\n",
       "      <td>0.500000</td>\n",
       "      <td>0.885001</td>\n",
       "      <td>7.650005</td>\n",
       "    </tr>\n",
       "    <tr>\n",
       "      <th>Toluene</th>\n",
       "      <td>strong</td>\n",
       "      <td>5.666667</td>\n",
       "      <td>1.310001</td>\n",
       "      <td>3.890002</td>\n",
       "      <td>5.950004</td>\n",
       "      <td>8.690005</td>\n",
       "      <td>26.870017</td>\n",
       "    </tr>\n",
       "    <tr>\n",
       "      <th>Trans-2-Butene</th>\n",
       "      <td>strong</td>\n",
       "      <td>2.971770</td>\n",
       "      <td>0.005000</td>\n",
       "      <td>0.005000</td>\n",
       "      <td>0.090000</td>\n",
       "      <td>0.300000</td>\n",
       "      <td>3.210002</td>\n",
       "    </tr>\n",
       "    <tr>\n",
       "      <th>Trans-2-Pentene</th>\n",
       "      <td>strong</td>\n",
       "      <td>5.408252</td>\n",
       "      <td>0.005000</td>\n",
       "      <td>0.405000</td>\n",
       "      <td>0.700000</td>\n",
       "      <td>1.300001</td>\n",
       "      <td>17.280011</td>\n",
       "    </tr>\n",
       "    <tr>\n",
       "      <th>Unidentified</th>\n",
       "      <td>strong</td>\n",
       "      <td>1.000000</td>\n",
       "      <td>1.020135</td>\n",
       "      <td>28.923549</td>\n",
       "      <td>50.394956</td>\n",
       "      <td>76.587424</td>\n",
       "      <td>385.184875</td>\n",
       "    </tr>\n",
       "    <tr>\n",
       "      <th>TNMOC</th>\n",
       "      <td>strong</td>\n",
       "      <td>0.000000</td>\n",
       "      <td>44.420000</td>\n",
       "      <td>113.616462</td>\n",
       "      <td>158.820000</td>\n",
       "      <td>249.795150</td>\n",
       "      <td>708.467700</td>\n",
       "    </tr>\n",
       "  </tbody>\n",
       "</table>\n",
       "</div>"
      ],
      "text/plain": [
       "                     Category       S/N        Min        25th        50th  \\\n",
       "124-Trimethylbenzene   strong  5.445168   0.005000    0.820001    1.290001   \n",
       "224-Trimethylpentane   strong  5.666667   0.410000    1.580001    2.490002   \n",
       "234-Trimethylpentane   strong  5.537459   0.005000    0.530000    0.820001   \n",
       "23-Dimethylbutane      strong  5.500543   0.005000    0.640000    1.110001   \n",
       "23-Dimethylpentane     strong  5.463626   0.005000    0.340000    0.490000   \n",
       "2-Methylheptane        strong  5.039088   0.005000    0.215000    0.330000   \n",
       "3-Methylhexane         strong  5.648208   0.005000    0.655000    1.050001   \n",
       "3-Methylpentane        strong  5.611292   0.540000    1.720001    2.990002   \n",
       "Acetylene              strong  5.666667   0.380000    1.410001    1.990001   \n",
       "Benzene                strong  5.666667   0.590000    1.960001    2.770002   \n",
       "Cis-2-Butene           strong  3.100977   0.005000    0.005000    0.120000   \n",
       "Cis-2-Pentene          strong  5.057546   0.005000    0.220000    0.370000   \n",
       "Ethane                 strong  5.666667   2.570002    8.285005   12.070008   \n",
       "Ethylbenzene           strong  5.666667   0.200000    0.620000    0.940001   \n",
       "Ethylene               strong  5.666667   0.890001    3.055002    5.260003   \n",
       "Isobutane              strong  5.666667   0.690000    2.705002    4.680003   \n",
       "Isopentane             strong  5.666667   2.500002    6.530004   10.260006   \n",
       "Isoprene               strong  5.555917   0.005000    0.890001    2.520002   \n",
       "Isopropylbenzene       strong  2.067318   0.005000    0.005000    0.005000   \n",
       "M_P Xylene             strong  5.666667   0.470000    1.845001    2.950002   \n",
       "M-Diethylbenzene       strong  2.436482   0.005000    0.005000    0.005000   \n",
       "M-Ethyltoluene         strong  5.519001   0.005000    0.530000    0.890001   \n",
       "N-Butane               strong  5.666667   1.650001    4.790003    7.360005   \n",
       "N-Decane               strong  5.168295   0.005000    0.280000    0.430000   \n",
       "N-Heptane              strong  5.666667   0.210000    0.730000    1.060001   \n",
       "N-Hexane               strong  5.611292   0.660000    2.170001    4.530003   \n",
       "N-Nonane               strong  5.408252   0.005000    0.310000    0.460000   \n",
       "N-Octane               strong  5.574376   0.005000    0.405000    0.630000   \n",
       "N-Pentane              strong  5.666667   0.710000    3.770002    5.450003   \n",
       "N-Propylbenzene        strong  3.617807   0.005000    0.005000    0.220000   \n",
       "N-Undecane             strong  4.983713   0.005000    0.250000    0.370000   \n",
       "O-Ethyltoluene         strong  4.946797   0.005000    0.240000    0.390000   \n",
       "O-Xylene               strong  5.666667   0.220000    0.800001    1.160001   \n",
       "Propane                strong  5.666667   2.260001    8.250005   12.270008   \n",
       "Propylene              strong  5.666667   0.380000    1.285001    2.450002   \n",
       "Styrene                strong  4.891422   0.005000    0.270000    0.500000   \n",
       "Toluene                strong  5.666667   1.310001    3.890002    5.950004   \n",
       "Trans-2-Butene         strong  2.971770   0.005000    0.005000    0.090000   \n",
       "Trans-2-Pentene        strong  5.408252   0.005000    0.405000    0.700000   \n",
       "Unidentified           strong  1.000000   1.020135   28.923549   50.394956   \n",
       "TNMOC                  strong  0.000000  44.420000  113.616462  158.820000   \n",
       "\n",
       "                            75th         Max  \n",
       "124-Trimethylbenzene    1.865001    5.470003  \n",
       "224-Trimethylpentane    3.865002   13.560008  \n",
       "234-Trimethylpentane    1.300001    4.410003  \n",
       "23-Dimethylbutane       2.285001   10.500007  \n",
       "23-Dimethylpentane      0.780000    3.310002  \n",
       "2-Methylheptane         0.535000    2.480002  \n",
       "3-Methylhexane          1.510001    7.780005  \n",
       "3-Methylpentane         5.945004   29.100018  \n",
       "Acetylene               2.835002    8.070005  \n",
       "Benzene                 4.440003    9.330006  \n",
       "Cis-2-Butene            0.310000   21.510013  \n",
       "Cis-2-Pentene           0.720000   19.130012  \n",
       "Ethane                 17.890011   49.970031  \n",
       "Ethylbenzene            1.450001    3.760002  \n",
       "Ethylene               10.370006   49.490031  \n",
       "Isobutane               7.700005   36.330023  \n",
       "Isopentane             16.080010  125.500079  \n",
       "Isoprene                4.840003    9.420006  \n",
       "Isopropylbenzene        0.220000    6.640004  \n",
       "M_P Xylene              4.510003   13.050008  \n",
       "M-Diethylbenzene        0.230000    1.740001  \n",
       "M-Ethyltoluene          1.395001    4.670003  \n",
       "N-Butane               11.445007   56.230035  \n",
       "N-Decane                0.690000    1.760001  \n",
       "N-Heptane               1.515001    5.350003  \n",
       "N-Hexane                9.820006   92.560058  \n",
       "N-Nonane                0.670000    1.950001  \n",
       "N-Octane                0.890001    3.100002  \n",
       "N-Pentane               9.270006   38.580024  \n",
       "N-Propylbenzene         0.330000    0.940001  \n",
       "N-Undecane              0.550000    2.860002  \n",
       "O-Ethyltoluene          0.585000    1.620001  \n",
       "O-Xylene                1.735001    5.290003  \n",
       "Propane                18.440012   70.960044  \n",
       "Propylene               4.705003   24.900016  \n",
       "Styrene                 0.885001    7.650005  \n",
       "Toluene                 8.690005   26.870017  \n",
       "Trans-2-Butene          0.300000    3.210002  \n",
       "Trans-2-Pentene         1.300001   17.280011  \n",
       "Unidentified           76.587424  385.184875  \n",
       "TNMOC                 249.795150  708.467700  "
      ]
     },
     "execution_count": 8,
     "metadata": {},
     "output_type": "execute_result"
    }
   ],
   "source": [
    "# Show the input data metrics, including signal to noise ratio of the data and uncertainty\n",
    "data_handler.metrics"
   ]
  },
  {
   "cell_type": "code",
   "execution_count": 9,
   "id": "78e3d92f-0085-44c6-a3f8-432c4b80fe75",
   "metadata": {
    "scrolled": true
   },
   "outputs": [],
   "source": [
    "# Change categories of features\n",
    "# data_handler.set_category(feature='Unidentified', category='bad')\n",
    "# data_handler.set_category(feature='Isopropylbenzene', category='weak')\n",
    "# data_handler.set_category(feature='N-Propylbenzene', category='weak')\n",
    "# data_handler.metrics"
   ]
  },
  {
   "cell_type": "code",
   "execution_count": 10,
   "id": "15ac7440-7f97-4b81-a2ac-6e539f294132",
   "metadata": {},
   "outputs": [
    {
     "data": {
      "application/vnd.plotly.v1+json": {
       "config": {
        "plotlyServerURL": "https://plot.ly"
       },
       "data": [
        {
         "mode": "markers",
         "name": "124-Trimethylbenzene",
         "type": "scatter",
         "visible": true,
         "x": {
          "bdata": "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",
          "dtype": "f8"
         },
         "y": {
          "bdata": "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",
          "dtype": "f8"
         }
        }
       ],
       "layout": {
        "height": 600,
        "template": {
         "data": {
          "bar": [
           {
            "error_x": {
             "color": "#2a3f5f"
            },
            "error_y": {
             "color": "#2a3f5f"
            },
            "marker": {
             "line": {
              "color": "#E5ECF6",
              "width": 0.5
             },
             "pattern": {
              "fillmode": "overlay",
              "size": 10,
              "solidity": 0.2
             }
            },
            "type": "bar"
           }
          ],
          "barpolar": [
           {
            "marker": {
             "line": {
              "color": "#E5ECF6",
              "width": 0.5
             },
             "pattern": {
              "fillmode": "overlay",
              "size": 10,
              "solidity": 0.2
             }
            },
            "type": "barpolar"
           }
          ],
          "carpet": [
           {
            "aaxis": {
             "endlinecolor": "#2a3f5f",
             "gridcolor": "white",
             "linecolor": "white",
             "minorgridcolor": "white",
             "startlinecolor": "#2a3f5f"
            },
            "baxis": {
             "endlinecolor": "#2a3f5f",
             "gridcolor": "white",
             "linecolor": "white",
             "minorgridcolor": "white",
             "startlinecolor": "#2a3f5f"
            },
            "type": "carpet"
           }
          ],
          "choropleth": [
           {
            "colorbar": {
             "outlinewidth": 0,
             "ticks": ""
            },
            "type": "choropleth"
           }
          ],
          "contour": [
           {
            "colorbar": {
             "outlinewidth": 0,
             "ticks": ""
            },
            "colorscale": [
             [
              0,
              "#0d0887"
             ],
             [
              0.1111111111111111,
              "#46039f"
             ],
             [
              0.2222222222222222,
              "#7201a8"
             ],
             [
              0.3333333333333333,
              "#9c179e"
             ],
             [
              0.4444444444444444,
              "#bd3786"
             ],
             [
              0.5555555555555556,
              "#d8576b"
             ],
             [
              0.6666666666666666,
              "#ed7953"
             ],
             [
              0.7777777777777778,
              "#fb9f3a"
             ],
             [
              0.8888888888888888,
              "#fdca26"
             ],
             [
              1,
              "#f0f921"
             ]
            ],
            "type": "contour"
           }
          ],
          "contourcarpet": [
           {
            "colorbar": {
             "outlinewidth": 0,
             "ticks": ""
            },
            "type": "contourcarpet"
           }
          ],
          "heatmap": [
           {
            "colorbar": {
             "outlinewidth": 0,
             "ticks": ""
            },
            "colorscale": [
             [
              0,
              "#0d0887"
             ],
             [
              0.1111111111111111,
              "#46039f"
             ],
             [
              0.2222222222222222,
              "#7201a8"
             ],
             [
              0.3333333333333333,
              "#9c179e"
             ],
             [
              0.4444444444444444,
              "#bd3786"
             ],
             [
              0.5555555555555556,
              "#d8576b"
             ],
             [
              0.6666666666666666,
              "#ed7953"
             ],
             [
              0.7777777777777778,
              "#fb9f3a"
             ],
             [
              0.8888888888888888,
              "#fdca26"
             ],
             [
              1,
              "#f0f921"
             ]
            ],
            "type": "heatmap"
           }
          ],
          "histogram": [
           {
            "marker": {
             "pattern": {
              "fillmode": "overlay",
              "size": 10,
              "solidity": 0.2
             }
            },
            "type": "histogram"
           }
          ],
          "histogram2d": [
           {
            "colorbar": {
             "outlinewidth": 0,
             "ticks": ""
            },
            "colorscale": [
             [
              0,
              "#0d0887"
             ],
             [
              0.1111111111111111,
              "#46039f"
             ],
             [
              0.2222222222222222,
              "#7201a8"
             ],
             [
              0.3333333333333333,
              "#9c179e"
             ],
             [
              0.4444444444444444,
              "#bd3786"
             ],
             [
              0.5555555555555556,
              "#d8576b"
             ],
             [
              0.6666666666666666,
              "#ed7953"
             ],
             [
              0.7777777777777778,
              "#fb9f3a"
             ],
             [
              0.8888888888888888,
              "#fdca26"
             ],
             [
              1,
              "#f0f921"
             ]
            ],
            "type": "histogram2d"
           }
          ],
          "histogram2dcontour": [
           {
            "colorbar": {
             "outlinewidth": 0,
             "ticks": ""
            },
            "colorscale": [
             [
              0,
              "#0d0887"
             ],
             [
              0.1111111111111111,
              "#46039f"
             ],
             [
              0.2222222222222222,
              "#7201a8"
             ],
             [
              0.3333333333333333,
              "#9c179e"
             ],
             [
              0.4444444444444444,
              "#bd3786"
             ],
             [
              0.5555555555555556,
              "#d8576b"
             ],
             [
              0.6666666666666666,
              "#ed7953"
             ],
             [
              0.7777777777777778,
              "#fb9f3a"
             ],
             [
              0.8888888888888888,
              "#fdca26"
             ],
             [
              1,
              "#f0f921"
             ]
            ],
            "type": "histogram2dcontour"
           }
          ],
          "mesh3d": [
           {
            "colorbar": {
             "outlinewidth": 0,
             "ticks": ""
            },
            "type": "mesh3d"
           }
          ],
          "parcoords": [
           {
            "line": {
             "colorbar": {
              "outlinewidth": 0,
              "ticks": ""
             }
            },
            "type": "parcoords"
           }
          ],
          "pie": [
           {
            "automargin": true,
            "type": "pie"
           }
          ],
          "scatter": [
           {
            "fillpattern": {
             "fillmode": "overlay",
             "size": 10,
             "solidity": 0.2
            },
            "type": "scatter"
           }
          ],
          "scatter3d": [
           {
            "line": {
             "colorbar": {
              "outlinewidth": 0,
              "ticks": ""
             }
            },
            "marker": {
             "colorbar": {
              "outlinewidth": 0,
              "ticks": ""
             }
            },
            "type": "scatter3d"
           }
          ],
          "scattercarpet": [
           {
            "marker": {
             "colorbar": {
              "outlinewidth": 0,
              "ticks": ""
             }
            },
            "type": "scattercarpet"
           }
          ],
          "scattergeo": [
           {
            "marker": {
             "colorbar": {
              "outlinewidth": 0,
              "ticks": ""
             }
            },
            "type": "scattergeo"
           }
          ],
          "scattergl": [
           {
            "marker": {
             "colorbar": {
              "outlinewidth": 0,
              "ticks": ""
             }
            },
            "type": "scattergl"
           }
          ],
          "scattermap": [
           {
            "marker": {
             "colorbar": {
              "outlinewidth": 0,
              "ticks": ""
             }
            },
            "type": "scattermap"
           }
          ],
          "scattermapbox": [
           {
            "marker": {
             "colorbar": {
              "outlinewidth": 0,
              "ticks": ""
             }
            },
            "type": "scattermapbox"
           }
          ],
          "scatterpolar": [
           {
            "marker": {
             "colorbar": {
              "outlinewidth": 0,
              "ticks": ""
             }
            },
            "type": "scatterpolar"
           }
          ],
          "scatterpolargl": [
           {
            "marker": {
             "colorbar": {
              "outlinewidth": 0,
              "ticks": ""
             }
            },
            "type": "scatterpolargl"
           }
          ],
          "scatterternary": [
           {
            "marker": {
             "colorbar": {
              "outlinewidth": 0,
              "ticks": ""
             }
            },
            "type": "scatterternary"
           }
          ],
          "surface": [
           {
            "colorbar": {
             "outlinewidth": 0,
             "ticks": ""
            },
            "colorscale": [
             [
              0,
              "#0d0887"
             ],
             [
              0.1111111111111111,
              "#46039f"
             ],
             [
              0.2222222222222222,
              "#7201a8"
             ],
             [
              0.3333333333333333,
              "#9c179e"
             ],
             [
              0.4444444444444444,
              "#bd3786"
             ],
             [
              0.5555555555555556,
              "#d8576b"
             ],
             [
              0.6666666666666666,
              "#ed7953"
             ],
             [
              0.7777777777777778,
              "#fb9f3a"
             ],
             [
              0.8888888888888888,
              "#fdca26"
             ],
             [
              1,
              "#f0f921"
             ]
            ],
            "type": "surface"
           }
          ],
          "table": [
           {
            "cells": {
             "fill": {
              "color": "#EBF0F8"
             },
             "line": {
              "color": "white"
             }
            },
            "header": {
             "fill": {
              "color": "#C8D4E3"
             },
             "line": {
              "color": "white"
             }
            },
            "type": "table"
           }
          ]
         },
         "layout": {
          "annotationdefaults": {
           "arrowcolor": "#2a3f5f",
           "arrowhead": 0,
           "arrowwidth": 1
          },
          "autotypenumbers": "strict",
          "coloraxis": {
           "colorbar": {
            "outlinewidth": 0,
            "ticks": ""
           }
          },
          "colorscale": {
           "diverging": [
            [
             0,
             "#8e0152"
            ],
            [
             0.1,
             "#c51b7d"
            ],
            [
             0.2,
             "#de77ae"
            ],
            [
             0.3,
             "#f1b6da"
            ],
            [
             0.4,
             "#fde0ef"
            ],
            [
             0.5,
             "#f7f7f7"
            ],
            [
             0.6,
             "#e6f5d0"
            ],
            [
             0.7,
             "#b8e186"
            ],
            [
             0.8,
             "#7fbc41"
            ],
            [
             0.9,
             "#4d9221"
            ],
            [
             1,
             "#276419"
            ]
           ],
           "sequential": [
            [
             0,
             "#0d0887"
            ],
            [
             0.1111111111111111,
             "#46039f"
            ],
            [
             0.2222222222222222,
             "#7201a8"
            ],
            [
             0.3333333333333333,
             "#9c179e"
            ],
            [
             0.4444444444444444,
             "#bd3786"
            ],
            [
             0.5555555555555556,
             "#d8576b"
            ],
            [
             0.6666666666666666,
             "#ed7953"
            ],
            [
             0.7777777777777778,
             "#fb9f3a"
            ],
            [
             0.8888888888888888,
             "#fdca26"
            ],
            [
             1,
             "#f0f921"
            ]
           ],
           "sequentialminus": [
            [
             0,
             "#0d0887"
            ],
            [
             0.1111111111111111,
             "#46039f"
            ],
            [
             0.2222222222222222,
             "#7201a8"
            ],
            [
             0.3333333333333333,
             "#9c179e"
            ],
            [
             0.4444444444444444,
             "#bd3786"
            ],
            [
             0.5555555555555556,
             "#d8576b"
            ],
            [
             0.6666666666666666,
             "#ed7953"
            ],
            [
             0.7777777777777778,
             "#fb9f3a"
            ],
            [
             0.8888888888888888,
             "#fdca26"
            ],
            [
             1,
             "#f0f921"
            ]
           ]
          },
          "colorway": [
           "#636efa",
           "#EF553B",
           "#00cc96",
           "#ab63fa",
           "#FFA15A",
           "#19d3f3",
           "#FF6692",
           "#B6E880",
           "#FF97FF",
           "#FECB52"
          ],
          "font": {
           "color": "#2a3f5f"
          },
          "geo": {
           "bgcolor": "white",
           "lakecolor": "white",
           "landcolor": "#E5ECF6",
           "showlakes": true,
           "showland": true,
           "subunitcolor": "white"
          },
          "hoverlabel": {
           "align": "left"
          },
          "hovermode": "closest",
          "mapbox": {
           "style": "light"
          },
          "paper_bgcolor": "white",
          "plot_bgcolor": "#E5ECF6",
          "polar": {
           "angularaxis": {
            "gridcolor": "white",
            "linecolor": "white",
            "ticks": ""
           },
           "bgcolor": "#E5ECF6",
           "radialaxis": {
            "gridcolor": "white",
            "linecolor": "white",
            "ticks": ""
           }
          },
          "scene": {
           "xaxis": {
            "backgroundcolor": "#E5ECF6",
            "gridcolor": "white",
            "gridwidth": 2,
            "linecolor": "white",
            "showbackground": true,
            "ticks": "",
            "zerolinecolor": "white"
           },
           "yaxis": {
            "backgroundcolor": "#E5ECF6",
            "gridcolor": "white",
            "gridwidth": 2,
            "linecolor": "white",
            "showbackground": true,
            "ticks": "",
            "zerolinecolor": "white"
           },
           "zaxis": {
            "backgroundcolor": "#E5ECF6",
            "gridcolor": "white",
            "gridwidth": 2,
            "linecolor": "white",
            "showbackground": true,
            "ticks": "",
            "zerolinecolor": "white"
           }
          },
          "shapedefaults": {
           "line": {
            "color": "#2a3f5f"
           }
          },
          "ternary": {
           "aaxis": {
            "gridcolor": "white",
            "linecolor": "white",
            "ticks": ""
           },
           "baxis": {
            "gridcolor": "white",
            "linecolor": "white",
            "ticks": ""
           },
           "bgcolor": "#E5ECF6",
           "caxis": {
            "gridcolor": "white",
            "linecolor": "white",
            "ticks": ""
           }
          },
          "title": {
           "x": 0.05
          },
          "xaxis": {
           "automargin": true,
           "gridcolor": "white",
           "linecolor": "white",
           "ticks": "",
           "title": {
            "standoff": 15
           },
           "zerolinecolor": "white",
           "zerolinewidth": 2
          },
          "yaxis": {
           "automargin": true,
           "gridcolor": "white",
           "linecolor": "white",
           "ticks": "",
           "title": {
            "standoff": 15
           },
           "zerolinecolor": "white",
           "zerolinewidth": 2
          }
         }
        },
        "title": {
         "text": "Concentration/Uncertainty Scatter Plot - 124-Trimethylbenzene"
        },
        "width": 800,
        "xaxis": {
         "title": {
          "text": "Concentration"
         }
        },
        "yaxis": {
         "title": {
          "text": "Uncertainty"
         }
        }
       }
      },
      "image/png": "[encoded data removed]"
     },
     "metadata": {},
     "output_type": "display_data"
    }
   ],
   "source": [
    "# Concentration / Uncertainty Scatter plot for specific feature, feature/column specified by index\n",
    "data_handler.plot_data_uncertainty(feature_idx=0, include_menu=False)"
   ]
  },
  {
   "cell_type": "code",
   "execution_count": 11,
   "id": "0c24b313-37ca-412f-b07b-dcd00021773b",
   "metadata": {},
   "outputs": [
    {
     "data": {
      "application/vnd.plotly.v1+json": {
       "config": {
        "plotlyServerURL": "https://plot.ly"
       },
       "data": [
        {
         "customdata": [
          [
           "6/1/2005 6:00"
          ],
          [
           "6/2/2005 3:00"
          ],
          [
           "6/2/2005 6:00"
          ],
          [
           "6/3/2005 3:00"
          ],
          [
           "6/4/2005 3:00"
          ],
          [
           "6/4/2005 6:00"
          ],
          [
           "6/5/2005 3:00"
          ],
          [
           "6/5/2005 6:00"
          ],
          [
           "6/6/2005 3:00"
          ],
          [
           "6/6/2005 6:00"
          ],
          [
           "6/7/2005 3:00"
          ],
          [
           "6/7/2005 6:00"
          ],
          [
           "6/8/2005 3:00"
          ],
          [
           "6/8/2005 6:00"
          ],
          [
           "6/9/2005 3:00"
          ],
          [
           "6/10/2005 3:00"
          ],
          [
           "6/10/2005 6:00"
          ],
          [
           "6/11/2005 6:00"
          ],
          [
           "6/12/2005 3:00"
          ],
          [
           "6/12/2005 6:00"
          ],
          [
           "6/13/2005 3:00"
          ],
          [
           "6/13/2005 6:00"
          ],
          [
           "6/18/2005 3:00"
          ],
          [
           "6/18/2005 6:00"
          ],
          [
           "6/19/2005 3:00"
          ],
          [
           "6/20/2005 3:00"
          ],
          [
           "6/20/2005 6:00"
          ],
          [
           "6/22/2005 3:00"
          ],
          [
           "6/22/2005 6:00"
          ],
          [
           "6/23/2005 3:00"
          ],
          [
           "6/24/2005 3:00"
          ],
          [
           "6/24/2005 6:00"
          ],
          [
           "6/25/2005 3:00"
          ],
          [
           "6/25/2005 6:00"
          ],
          [
           "6/26/2005 3:00"
          ],
          [
           "6/26/2005 6:00"
          ],
          [
           "6/27/2005 3:00"
          ],
          [
           "6/27/2005 6:00"
          ],
          [
           "6/28/2005 3:00"
          ],
          [
           "6/28/2005 6:00"
          ],
          [
           "6/29/2005 3:00"
          ],
          [
           "6/29/2005 6:00"
          ],
          [
           "6/30/2005 3:00"
          ],
          [
           "7/1/2005 3:00"
          ],
          [
           "7/1/2005 6:00"
          ],
          [
           "7/2/2005 3:00"
          ],
          [
           "7/2/2005 6:00"
          ],
          [
           "7/3/2005 3:00"
          ],
          [
           "7/4/2005 3:00"
          ],
          [
           "7/4/2005 6:00"
          ],
          [
           "7/5/2005 3:00"
          ],
          [
           "7/5/2005 6:00"
          ],
          [
           "7/7/2005 3:00"
          ],
          [
           "7/7/2005 6:00"
          ],
          [
           "7/8/2005 3:00"
          ],
          [
           "7/8/2005 6:00"
          ],
          [
           "7/9/2005 3:00"
          ],
          [
           "7/9/2005 6:00"
          ],
          [
           "7/10/2005 3:00"
          ],
          [
           "7/10/2005 6:00"
          ],
          [
           "7/11/2005 6:00"
          ],
          [
           "7/12/2005 3:00"
          ],
          [
           "7/12/2005 6:00"
          ],
          [
           "7/13/2005 6:00"
          ],
          [
           "7/15/2005 3:00"
          ],
          [
           "7/15/2005 6:00"
          ],
          [
           "7/16/2005 3:00"
          ],
          [
           "7/16/2005 6:00"
          ],
          [
           "7/17/2005 3:00"
          ],
          [
           "7/17/2005 6:00"
          ],
          [
           "7/18/2005 3:00"
          ],
          [
           "7/18/2005 6:00"
          ],
          [
           "7/19/2005 3:00"
          ],
          [
           "7/19/2005 6:00"
          ],
          [
           "7/20/2005 3:00"
          ],
          [
           "7/20/2005 6:00"
          ],
          [
           "7/21/2005 3:00"
          ],
          [
           "7/21/2005 6:00"
          ],
          [
           "7/23/2005 3:00"
          ],
          [
           "7/23/2005 6:00"
          ],
          [
           "7/24/2005 3:00"
          ],
          [
           "7/25/2005 3:00"
          ],
          [
           "7/25/2005 6:00"
          ],
          [
           "7/26/2005 3:00"
          ],
          [
           "7/27/2005 3:00"
          ],
          [
           "7/27/2005 6:00"
          ],
          [
           "7/28/2005 3:00"
          ],
          [
           "7/29/2005 3:00"
          ],
          [
           "7/29/2005 6:00"
          ],
          [
           "7/30/2005 6:00"
          ],
          [
           "7/31/2005 3:00"
          ],
          [
           "7/31/2005 6:00"
          ],
          [
           "8/1/2005 3:00"
          ],
          [
           "8/1/2005 6:00"
          ],
          [
           "8/2/2005 3:00"
          ],
          [
           "8/2/2005 6:00"
          ],
          [
           "8/3/2005 3:00"
          ],
          [
           "8/3/2005 6:00"
          ],
          [
           "8/4/2005 3:00"
          ],
          [
           "8/4/2005 6:00"
          ],
          [
           "8/5/2005 3:00"
          ],
          [
           "8/5/2005 6:00"
          ],
          [
           "8/6/2005 3:00"
          ],
          [
           "8/7/2005 3:00"
          ],
          [
           "8/8/2005 3:00"
          ],
          [
           "8/10/2005 6:00"
          ],
          [
           "8/12/2005 3:00"
          ],
          [
           "8/12/2005 6:00"
          ],
          [
           "8/13/2005 6:00"
          ],
          [
           "8/14/2005 3:00"
          ],
          [
           "8/14/2005 6:00"
          ],
          [
           "8/15/2005 6:00"
          ],
          [
           "8/16/2005 3:00"
          ],
          [
           "8/16/2005 6:00"
          ],
          [
           "8/17/2005 6:00"
          ],
          [
           "8/18/2005 3:00"
          ],
          [
           "8/19/2005 3:00"
          ],
          [
           "8/19/2005 6:00"
          ],
          [
           "8/21/2005 3:00"
          ],
          [
           "8/22/2005 3:00"
          ],
          [
           "8/22/2005 6:00"
          ],
          [
           "8/23/2005 3:00"
          ],
          [
           "8/23/2005 6:00"
          ],
          [
           "8/24/2005 3:00"
          ],
          [
           "8/24/2005 6:00"
          ],
          [
           "8/25/2005 3:00"
          ],
          [
           "8/25/2005 6:00"
          ],
          [
           "8/26/2005 3:00"
          ],
          [
           "8/26/2005 6:00"
          ],
          [
           "8/27/2005 3:00"
          ],
          [
           "8/27/2005 6:00"
          ],
          [
           "8/28/2005 3:00"
          ],
          [
           "8/28/2005 6:00"
          ],
          [
           "6/1/2006 6:00"
          ],
          [
           "6/2/2006 3:00"
          ],
          [
           "6/3/2006 6:00"
          ],
          [
           "6/4/2006 3:00"
          ],
          [
           "6/4/2006 6:00"
          ],
          [
           "6/5/2006 3:00"
          ],
          [
           "6/5/2006 6:00"
          ],
          [
           "6/6/2006 3:00"
          ],
          [
           "6/6/2006 6:00"
          ],
          [
           "6/7/2006 3:00"
          ],
          [
           "6/9/2006 3:00"
          ],
          [
           "6/9/2006 6:00"
          ],
          [
           "6/10/2006 3:00"
          ],
          [
           "6/10/2006 6:00"
          ],
          [
           "6/11/2006 3:00"
          ],
          [
           "6/11/2006 6:00"
          ],
          [
           "6/12/2006 6:00"
          ],
          [
           "6/14/2006 3:00"
          ],
          [
           "6/14/2006 6:00"
          ],
          [
           "6/15/2006 3:00"
          ],
          [
           "6/15/2006 6:00"
          ],
          [
           "6/16/2006 3:00"
          ],
          [
           "6/16/2006 6:00"
          ],
          [
           "6/18/2006 3:00"
          ],
          [
           "6/19/2006 3:00"
          ],
          [
           "6/19/2006 6:00"
          ],
          [
           "6/20/2006 3:00"
          ],
          [
           "6/20/2006 6:00"
          ],
          [
           "6/21/2006 3:00"
          ],
          [
           "6/21/2006 6:00"
          ],
          [
           "6/22/2006 3:00"
          ],
          [
           "6/22/2006 6:00"
          ],
          [
           "6/25/2006 3:00"
          ],
          [
           "6/25/2006 6:00"
          ],
          [
           "6/26/2006 3:00"
          ],
          [
           "6/27/2006 3:00"
          ],
          [
           "6/28/2006 3:00"
          ],
          [
           "6/28/2006 6:00"
          ],
          [
           "6/29/2006 3:00"
          ],
          [
           "6/29/2006 6:00"
          ],
          [
           "6/30/2006 3:00"
          ],
          [
           "7/1/2006 6:00"
          ],
          [
           "7/2/2006 3:00"
          ],
          [
           "7/2/2006 6:00"
          ],
          [
           "7/3/2006 3:00"
          ],
          [
           "7/3/2006 6:00"
          ],
          [
           "7/4/2006 3:00"
          ],
          [
           "7/4/2006 6:00"
          ],
          [
           "7/5/2006 3:00"
          ],
          [
           "7/5/2006 6:00"
          ],
          [
           "7/6/2006 3:00"
          ],
          [
           "7/6/2006 6:00"
          ],
          [
           "7/7/2006 3:00"
          ],
          [
           "7/7/2006 6:00"
          ],
          [
           "7/8/2006 3:00"
          ],
          [
           "7/8/2006 6:00"
          ],
          [
           "7/9/2006 3:00"
          ],
          [
           "7/9/2006 6:00"
          ],
          [
           "7/10/2006 6:00"
          ],
          [
           "7/11/2006 3:00"
          ],
          [
           "7/11/2006 6:00"
          ],
          [
           "7/12/2006 3:00"
          ],
          [
           "7/12/2006 6:00"
          ],
          [
           "7/13/2006 3:00"
          ],
          [
           "7/13/2006 6:00"
          ],
          [
           "7/14/2006 3:00"
          ],
          [
           "7/15/2006 3:00"
          ],
          [
           "7/15/2006 6:00"
          ],
          [
           "7/16/2006 3:00"
          ],
          [
           "7/16/2006 6:00"
          ],
          [
           "7/17/2006 3:00"
          ],
          [
           "7/18/2006 6:00"
          ],
          [
           "7/19/2006 3:00"
          ],
          [
           "7/20/2006 3:00"
          ],
          [
           "7/20/2006 6:00"
          ],
          [
           "7/21/2006 3:00"
          ],
          [
           "7/22/2006 3:00"
          ],
          [
           "7/23/2006 3:00"
          ],
          [
           "7/23/2006 6:00"
          ],
          [
           "7/24/2006 3:00"
          ],
          [
           "7/24/2006 6:00"
          ],
          [
           "7/25/2006 3:00"
          ],
          [
           "7/25/2006 6:00"
          ],
          [
           "7/26/2006 3:00"
          ],
          [
           "7/26/2006 6:00"
          ],
          [
           "7/27/2006 6:00"
          ],
          [
           "7/28/2006 3:00"
          ],
          [
           "7/28/2006 6:00"
          ],
          [
           "7/29/2006 3:00"
          ],
          [
           "7/29/2006 6:00"
          ],
          [
           "7/30/2006 3:00"
          ],
          [
           "8/1/2006 6:00"
          ],
          [
           "8/2/2006 3:00"
          ],
          [
           "8/3/2006 3:00"
          ],
          [
           "8/3/2006 6:00"
          ],
          [
           "8/4/2006 3:00"
          ],
          [
           "8/6/2006 3:00"
          ],
          [
           "8/6/2006 6:00"
          ],
          [
           "8/7/2006 3:00"
          ],
          [
           "8/7/2006 6:00"
          ],
          [
           "8/8/2006 3:00"
          ],
          [
           "8/9/2006 3:00"
          ],
          [
           "8/9/2006 6:00"
          ],
          [
           "8/10/2006 3:00"
          ],
          [
           "8/10/2006 6:00"
          ],
          [
           "8/12/2006 3:00"
          ],
          [
           "8/12/2006 6:00"
          ],
          [
           "8/13/2006 3:00"
          ],
          [
           "8/13/2006 6:00"
          ],
          [
           "8/14/2006 6:00"
          ],
          [
           "8/15/2006 6:00"
          ],
          [
           "8/16/2006 3:00"
          ],
          [
           "8/16/2006 6:00"
          ],
          [
           "8/17/2006 3:00"
          ],
          [
           "8/17/2006 6:00"
          ],
          [
           "8/18/2006 3:00"
          ],
          [
           "8/18/2006 6:00"
          ],
          [
           "8/19/2006 3:00"
          ],
          [
           "8/19/2006 6:00"
          ],
          [
           "8/20/2006 3:00"
          ],
          [
           "8/20/2006 6:00"
          ],
          [
           "8/21/2006 6:00"
          ],
          [
           "8/22/2006 3:00"
          ],
          [
           "8/22/2006 6:00"
          ],
          [
           "8/23/2006 6:00"
          ],
          [
           "8/24/2006 6:00"
          ],
          [
           "8/25/2006 3:00"
          ],
          [
           "8/25/2006 6:00"
          ],
          [
           "8/26/2006 3:00"
          ],
          [
           "8/29/2006 3:00"
          ],
          [
           "8/30/2006 6:00"
          ],
          [
           "8/31/2006 6:00"
          ],
          [
           "9/1/2006 6:00"
          ],
          [
           "9/2/2006 3:00"
          ],
          [
           "9/2/2006 6:00"
          ],
          [
           "9/3/2006 3:00"
          ],
          [
           "9/3/2006 6:00"
          ],
          [
           "9/4/2006 3:00"
          ],
          [
           "9/4/2006 6:00"
          ],
          [
           "9/5/2006 3:00"
          ],
          [
           "9/5/2006 6:00"
          ],
          [
           "9/6/2006 3:00"
          ],
          [
           "9/6/2006 6:00"
          ],
          [
           "9/7/2006 3:00"
          ],
          [
           "9/7/2006 6:00"
          ],
          [
           "9/8/2006 3:00"
          ],
          [
           "9/8/2006 6:00"
          ],
          [
           "9/9/2006 6:00"
          ],
          [
           "9/10/2006 3:00"
          ],
          [
           "9/10/2006 6:00"
          ],
          [
           "9/11/2006 3:00"
          ],
          [
           "9/11/2006 6:00"
          ],
          [
           "9/12/2006 3:00"
          ],
          [
           "9/13/2006 3:00"
          ],
          [
           "9/14/2006 6:00"
          ],
          [
           "9/15/2006 3:00"
          ],
          [
           "9/15/2006 6:00"
          ],
          [
           "9/16/2006 3:00"
          ],
          [
           "9/17/2006 3:00"
          ],
          [
           "9/17/2006 6:00"
          ],
          [
           "9/18/2006 3:00"
          ],
          [
           "9/18/2006 6:00"
          ],
          [
           "9/19/2006 3:00"
          ],
          [
           "9/19/2006 6:00"
          ],
          [
           "9/20/2006 3:00"
          ],
          [
           "9/20/2006 6:00"
          ],
          [
           "9/21/2006 3:00"
          ],
          [
           "9/21/2006 6:00"
          ],
          [
           "9/22/2006 6:00"
          ],
          [
           "9/24/2006 6:00"
          ],
          [
           "9/25/2006 6:00"
          ],
          [
           "9/26/2006 3:00"
          ],
          [
           "9/26/2006 6:00"
          ],
          [
           "9/28/2006 3:00"
          ]
         ],
         "hovertemplate": "<b>Date:</b> %{customdata[0]}<br><b>124-Trimethylbenzene:</b> %{x}<br><b>224-Trimethylpentane:</b> %{y}<extra></extra>",
         "mode": "markers",
         "name": "Data",
         "type": "scatter",
         "x": {
          "bdata": "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",
          "dtype": "f8"
         },
         "y": {
          "bdata": "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",
          "dtype": "f8"
         }
        },
        {
         "line": {
          "color": "red",
          "dash": "dash",
          "width": 1
         },
         "name": "Regression",
         "type": "scatter",
         "x": {
          "bdata": "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",
          "dtype": "f8"
         },
         "y": {
          "bdata": "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",
          "dtype": "f8"
         }
        },
        {
         "line": {
          "color": "blue",
          "width": 1
         },
         "name": "One-to-One",
         "type": "scatter",
         "x": {
          "bdata": "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",
          "dtype": "f8"
         },
         "y": {
          "bdata": "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",
          "dtype": "f8"
         }
        }
       ],
       "layout": {
        "height": 600,
        "template": {
         "data": {
          "bar": [
           {
            "error_x": {
             "color": "#2a3f5f"
            },
            "error_y": {
             "color": "#2a3f5f"
            },
            "marker": {
             "line": {
              "color": "#E5ECF6",
              "width": 0.5
             },
             "pattern": {
              "fillmode": "overlay",
              "size": 10,
              "solidity": 0.2
             }
            },
            "type": "bar"
           }
          ],
          "barpolar": [
           {
            "marker": {
             "line": {
              "color": "#E5ECF6",
              "width": 0.5
             },
             "pattern": {
              "fillmode": "overlay",
              "size": 10,
              "solidity": 0.2
             }
            },
            "type": "barpolar"
           }
          ],
          "carpet": [
           {
            "aaxis": {
             "endlinecolor": "#2a3f5f",
             "gridcolor": "white",
             "linecolor": "white",
             "minorgridcolor": "white",
             "startlinecolor": "#2a3f5f"
            },
            "baxis": {
             "endlinecolor": "#2a3f5f",
             "gridcolor": "white",
             "linecolor": "white",
             "minorgridcolor": "white",
             "startlinecolor": "#2a3f5f"
            },
            "type": "carpet"
           }
          ],
          "choropleth": [
           {
            "colorbar": {
             "outlinewidth": 0,
             "ticks": ""
            },
            "type": "choropleth"
           }
          ],
          "contour": [
           {
            "colorbar": {
             "outlinewidth": 0,
             "ticks": ""
            },
            "colorscale": [
             [
              0,
              "#0d0887"
             ],
             [
              0.1111111111111111,
              "#46039f"
             ],
             [
              0.2222222222222222,
              "#7201a8"
             ],
             [
              0.3333333333333333,
              "#9c179e"
             ],
             [
              0.4444444444444444,
              "#bd3786"
             ],
             [
              0.5555555555555556,
              "#d8576b"
             ],
             [
              0.6666666666666666,
              "#ed7953"
             ],
             [
              0.7777777777777778,
              "#fb9f3a"
             ],
             [
              0.8888888888888888,
              "#fdca26"
             ],
             [
              1,
              "#f0f921"
             ]
            ],
            "type": "contour"
           }
          ],
          "contourcarpet": [
           {
            "colorbar": {
             "outlinewidth": 0,
             "ticks": ""
            },
            "type": "contourcarpet"
           }
          ],
          "heatmap": [
           {
            "colorbar": {
             "outlinewidth": 0,
             "ticks": ""
            },
            "colorscale": [
             [
              0,
              "#0d0887"
             ],
             [
              0.1111111111111111,
              "#46039f"
             ],
             [
              0.2222222222222222,
              "#7201a8"
             ],
             [
              0.3333333333333333,
              "#9c179e"
             ],
             [
              0.4444444444444444,
              "#bd3786"
             ],
             [
              0.5555555555555556,
              "#d8576b"
             ],
             [
              0.6666666666666666,
              "#ed7953"
             ],
             [
              0.7777777777777778,
              "#fb9f3a"
             ],
             [
              0.8888888888888888,
              "#fdca26"
             ],
             [
              1,
              "#f0f921"
             ]
            ],
            "type": "heatmap"
           }
          ],
          "histogram": [
           {
            "marker": {
             "pattern": {
              "fillmode": "overlay",
              "size": 10,
              "solidity": 0.2
             }
            },
            "type": "histogram"
           }
          ],
          "histogram2d": [
           {
            "colorbar": {
             "outlinewidth": 0,
             "ticks": ""
            },
            "colorscale": [
             [
              0,
              "#0d0887"
             ],
             [
              0.1111111111111111,
              "#46039f"
             ],
             [
              0.2222222222222222,
              "#7201a8"
             ],
             [
              0.3333333333333333,
              "#9c179e"
             ],
             [
              0.4444444444444444,
              "#bd3786"
             ],
             [
              0.5555555555555556,
              "#d8576b"
             ],
             [
              0.6666666666666666,
              "#ed7953"
             ],
             [
              0.7777777777777778,
              "#fb9f3a"
             ],
             [
              0.8888888888888888,
              "#fdca26"
             ],
             [
              1,
              "#f0f921"
             ]
            ],
            "type": "histogram2d"
           }
          ],
          "histogram2dcontour": [
           {
            "colorbar": {
             "outlinewidth": 0,
             "ticks": ""
            },
            "colorscale": [
             [
              0,
              "#0d0887"
             ],
             [
              0.1111111111111111,
              "#46039f"
             ],
             [
              0.2222222222222222,
              "#7201a8"
             ],
             [
              0.3333333333333333,
              "#9c179e"
             ],
             [
              0.4444444444444444,
              "#bd3786"
             ],
             [
              0.5555555555555556,
              "#d8576b"
             ],
             [
              0.6666666666666666,
              "#ed7953"
             ],
             [
              0.7777777777777778,
              "#fb9f3a"
             ],
             [
              0.8888888888888888,
              "#fdca26"
             ],
             [
              1,
              "#f0f921"
             ]
            ],
            "type": "histogram2dcontour"
           }
          ],
          "mesh3d": [
           {
            "colorbar": {
             "outlinewidth": 0,
             "ticks": ""
            },
            "type": "mesh3d"
           }
          ],
          "parcoords": [
           {
            "line": {
             "colorbar": {
              "outlinewidth": 0,
              "ticks": ""
             }
            },
            "type": "parcoords"
           }
          ],
          "pie": [
           {
            "automargin": true,
            "type": "pie"
           }
          ],
          "scatter": [
           {
            "fillpattern": {
             "fillmode": "overlay",
             "size": 10,
             "solidity": 0.2
            },
            "type": "scatter"
           }
          ],
          "scatter3d": [
           {
            "line": {
             "colorbar": {
              "outlinewidth": 0,
              "ticks": ""
             }
            },
            "marker": {
             "colorbar": {
              "outlinewidth": 0,
              "ticks": ""
             }
            },
            "type": "scatter3d"
           }
          ],
          "scattercarpet": [
           {
            "marker": {
             "colorbar": {
              "outlinewidth": 0,
              "ticks": ""
             }
            },
            "type": "scattercarpet"
           }
          ],
          "scattergeo": [
           {
            "marker": {
             "colorbar": {
              "outlinewidth": 0,
              "ticks": ""
             }
            },
            "type": "scattergeo"
           }
          ],
          "scattergl": [
           {
            "marker": {
             "colorbar": {
              "outlinewidth": 0,
              "ticks": ""
             }
            },
            "type": "scattergl"
           }
          ],
          "scattermap": [
           {
            "marker": {
             "colorbar": {
              "outlinewidth": 0,
              "ticks": ""
             }
            },
            "type": "scattermap"
           }
          ],
          "scattermapbox": [
           {
            "marker": {
             "colorbar": {
              "outlinewidth": 0,
              "ticks": ""
             }
            },
            "type": "scattermapbox"
           }
          ],
          "scatterpolar": [
           {
            "marker": {
             "colorbar": {
              "outlinewidth": 0,
              "ticks": ""
             }
            },
            "type": "scatterpolar"
           }
          ],
          "scatterpolargl": [
           {
            "marker": {
             "colorbar": {
              "outlinewidth": 0,
              "ticks": ""
             }
            },
            "type": "scatterpolargl"
           }
          ],
          "scatterternary": [
           {
            "marker": {
             "colorbar": {
              "outlinewidth": 0,
              "ticks": ""
             }
            },
            "type": "scatterternary"
           }
          ],
          "surface": [
           {
            "colorbar": {
             "outlinewidth": 0,
             "ticks": ""
            },
            "colorscale": [
             [
              0,
              "#0d0887"
             ],
             [
              0.1111111111111111,
              "#46039f"
             ],
             [
              0.2222222222222222,
              "#7201a8"
             ],
             [
              0.3333333333333333,
              "#9c179e"
             ],
             [
              0.4444444444444444,
              "#bd3786"
             ],
             [
              0.5555555555555556,
              "#d8576b"
             ],
             [
              0.6666666666666666,
              "#ed7953"
             ],
             [
              0.7777777777777778,
              "#fb9f3a"
             ],
             [
              0.8888888888888888,
              "#fdca26"
             ],
             [
              1,
              "#f0f921"
             ]
            ],
            "type": "surface"
           }
          ],
          "table": [
           {
            "cells": {
             "fill": {
              "color": "#EBF0F8"
             },
             "line": {
              "color": "white"
             }
            },
            "header": {
             "fill": {
              "color": "#C8D4E3"
             },
             "line": {
              "color": "white"
             }
            },
            "type": "table"
           }
          ]
         },
         "layout": {
          "annotationdefaults": {
           "arrowcolor": "#2a3f5f",
           "arrowhead": 0,
           "arrowwidth": 1
          },
          "autotypenumbers": "strict",
          "coloraxis": {
           "colorbar": {
            "outlinewidth": 0,
            "ticks": ""
           }
          },
          "colorscale": {
           "diverging": [
            [
             0,
             "#8e0152"
            ],
            [
             0.1,
             "#c51b7d"
            ],
            [
             0.2,
             "#de77ae"
            ],
            [
             0.3,
             "#f1b6da"
            ],
            [
             0.4,
             "#fde0ef"
            ],
            [
             0.5,
             "#f7f7f7"
            ],
            [
             0.6,
             "#e6f5d0"
            ],
            [
             0.7,
             "#b8e186"
            ],
            [
             0.8,
             "#7fbc41"
            ],
            [
             0.9,
             "#4d9221"
            ],
            [
             1,
             "#276419"
            ]
           ],
           "sequential": [
            [
             0,
             "#0d0887"
            ],
            [
             0.1111111111111111,
             "#46039f"
            ],
            [
             0.2222222222222222,
             "#7201a8"
            ],
            [
             0.3333333333333333,
             "#9c179e"
            ],
            [
             0.4444444444444444,
             "#bd3786"
            ],
            [
             0.5555555555555556,
             "#d8576b"
            ],
            [
             0.6666666666666666,
             "#ed7953"
            ],
            [
             0.7777777777777778,
             "#fb9f3a"
            ],
            [
             0.8888888888888888,
             "#fdca26"
            ],
            [
             1,
             "#f0f921"
            ]
           ],
           "sequentialminus": [
            [
             0,
             "#0d0887"
            ],
            [
             0.1111111111111111,
             "#46039f"
            ],
            [
             0.2222222222222222,
             "#7201a8"
            ],
            [
             0.3333333333333333,
             "#9c179e"
            ],
            [
             0.4444444444444444,
             "#bd3786"
            ],
            [
             0.5555555555555556,
             "#d8576b"
            ],
            [
             0.6666666666666666,
             "#ed7953"
            ],
            [
             0.7777777777777778,
             "#fb9f3a"
            ],
            [
             0.8888888888888888,
             "#fdca26"
            ],
            [
             1,
             "#f0f921"
            ]
           ]
          },
          "colorway": [
           "#636efa",
           "#EF553B",
           "#00cc96",
           "#ab63fa",
           "#FFA15A",
           "#19d3f3",
           "#FF6692",
           "#B6E880",
           "#FF97FF",
           "#FECB52"
          ],
          "font": {
           "color": "#2a3f5f"
          },
          "geo": {
           "bgcolor": "white",
           "lakecolor": "white",
           "landcolor": "#E5ECF6",
           "showlakes": true,
           "showland": true,
           "subunitcolor": "white"
          },
          "hoverlabel": {
           "align": "left"
          },
          "hovermode": "closest",
          "mapbox": {
           "style": "light"
          },
          "paper_bgcolor": "white",
          "plot_bgcolor": "#E5ECF6",
          "polar": {
           "angularaxis": {
            "gridcolor": "white",
            "linecolor": "white",
            "ticks": ""
           },
           "bgcolor": "#E5ECF6",
           "radialaxis": {
            "gridcolor": "white",
            "linecolor": "white",
            "ticks": ""
           }
          },
          "scene": {
           "xaxis": {
            "backgroundcolor": "#E5ECF6",
            "gridcolor": "white",
            "gridwidth": 2,
            "linecolor": "white",
            "showbackground": true,
            "ticks": "",
            "zerolinecolor": "white"
           },
           "yaxis": {
            "backgroundcolor": "#E5ECF6",
            "gridcolor": "white",
            "gridwidth": 2,
            "linecolor": "white",
            "showbackground": true,
            "ticks": "",
            "zerolinecolor": "white"
           },
           "zaxis": {
            "backgroundcolor": "#E5ECF6",
            "gridcolor": "white",
            "gridwidth": 2,
            "linecolor": "white",
            "showbackground": true,
            "ticks": "",
            "zerolinecolor": "white"
           }
          },
          "shapedefaults": {
           "line": {
            "color": "#2a3f5f"
           }
          },
          "ternary": {
           "aaxis": {
            "gridcolor": "white",
            "linecolor": "white",
            "ticks": ""
           },
           "baxis": {
            "gridcolor": "white",
            "linecolor": "white",
            "ticks": ""
           },
           "bgcolor": "#E5ECF6",
           "caxis": {
            "gridcolor": "white",
            "linecolor": "white",
            "ticks": ""
           }
          },
          "title": {
           "x": 0.05
          },
          "xaxis": {
           "automargin": true,
           "gridcolor": "white",
           "linecolor": "white",
           "ticks": "",
           "title": {
            "standoff": 15
           },
           "zerolinecolor": "white",
           "zerolinewidth": 2
          },
          "yaxis": {
           "automargin": true,
           "gridcolor": "white",
           "linecolor": "white",
           "ticks": "",
           "title": {
            "standoff": 15
           },
           "zerolinecolor": "white",
           "zerolinewidth": 2
          }
         }
        },
        "title": {
         "text": "Feature vs Feature Plot: 224-Trimethylpentane/124-Trimethylbenzene"
        },
        "width": 800,
        "xaxis": {
         "range": [
          0,
          5.970003424
         ],
         "title": {
          "text": "124-Trimethylbenzene"
         }
        },
        "yaxis": {
         "range": [
          0,
          14.06000849
         ],
         "title": {
          "text": "224-Trimethylpentane"
         }
        }
       }
      },
      "image/png": "[encoded data removed]"
     },
     "metadata": {},
     "output_type": "display_data"
    }
   ],
   "source": [
    "# Species Concentration plot comparing features, features/columns specified by index\n",
    "data_handler.plot_feature_data(x_idx=0, y_idx=1)"
   ]
  },
  {
   "cell_type": "code",
   "execution_count": 12,
   "id": "964a8c8b-3b57-487c-b7b3-c9f6ca7dad78",
   "metadata": {},
   "outputs": [
    {
     "data": {
      "application/vnd.plotly.v1+json": {
       "config": {
        "plotlyServerURL": "https://plot.ly"
       },
       "data": [
        {
         "line": {
          "width": 1
         },
         "mode": "lines+markers",
         "name": "124-Trimethylbenzene",
         "type": "scatter",
         "x": [
          "2005-06-01T06:00:00",
          "2005-06-01T09:00:00",
          "2005-06-01T12:00:00",
          "2005-06-01T15:00:00",
          "2005-06-01T18:00:00",
          "2005-06-01T21:00:00",
          "2005-06-02T00:00:00",
          "2005-06-02T03:00:00",
          "2005-06-02T06:00:00",
          "2005-06-02T09:00:00",
          "2005-06-02T12:00:00",
          "2005-06-02T15:00:00",
          "2005-06-02T18:00:00",
          "2005-06-02T21:00:00",
          "2005-06-03T00:00:00",
          "2005-06-03T03:00:00",
          "2005-06-03T06:00:00",
          "2005-06-03T09:00:00",
          "2005-06-03T12:00:00",
          "2005-06-03T15:00:00",
          "2005-06-03T18:00:00",
          "2005-06-03T21:00:00",
          "2005-06-04T00:00:00",
          "2005-06-04T03:00:00",
          "2005-06-04T06:00:00",
          "2005-06-04T09:00:00",
          "2005-06-04T12:00:00",
          "2005-06-04T15:00:00",
          "2005-06-04T18:00:00",
          "2005-06-04T21:00:00",
          "2005-06-05T00:00:00",
          "2005-06-05T03:00:00",
          "2005-06-05T06:00:00",
          "2005-06-05T09:00:00",
          "2005-06-05T12:00:00",
          "2005-06-05T15:00:00",
          "2005-06-05T18:00:00",
          "2005-06-05T21:00:00",
          "2005-06-06T00:00:00",
          "2005-06-06T03:00:00",
          "2005-06-06T06:00:00",
          "2005-06-06T09:00:00",
          "2005-06-06T12:00:00",
          "2005-06-06T15:00:00",
          "2005-06-06T18:00:00",
          "2005-06-06T21:00:00",
          "2005-06-07T00:00:00",
          "2005-06-07T03:00:00",
          "2005-06-07T06:00:00",
          "2005-06-07T09:00:00",
          "2005-06-07T12:00:00",
          "2005-06-07T15:00:00",
          "2005-06-07T18:00:00",
          "2005-06-07T21:00:00",
          "2005-06-08T00:00:00",
          "2005-06-08T03:00:00",
          "2005-06-08T06:00:00",
          "2005-06-08T09:00:00",
          "2005-06-08T12:00:00",
          "2005-06-08T15:00:00",
          "2005-06-08T18:00:00",
          "2005-06-08T21:00:00",
          "2005-06-09T00:00:00",
          "2005-06-09T03:00:00",
          "2005-06-09T06:00:00",
          "2005-06-09T09:00:00",
          "2005-06-09T12:00:00",
          "2005-06-09T15:00:00",
          "2005-06-09T18:00:00",
          "2005-06-09T21:00:00",
          "2005-06-10T00:00:00",
          "2005-06-10T03:00:00",
          "2005-06-10T06:00:00",
          "2005-06-10T09:00:00",
          "2005-06-10T12:00:00",
          "2005-06-10T15:00:00",
          "2005-06-10T18:00:00",
          "2005-06-10T21:00:00",
          "2005-06-11T00:00:00",
          "2005-06-11T03:00:00",
          "2005-06-11T06:00:00",
          "2005-06-11T09:00:00",
          "2005-06-11T12:00:00",
          "2005-06-11T15:00:00",
          "2005-06-11T18:00:00",
          "2005-06-11T21:00:00",
          "2005-06-12T00:00:00",
          "2005-06-12T03:00:00",
          "2005-06-12T06:00:00",
          "2005-06-12T09:00:00",
          "2005-06-12T12:00:00",
          "2005-06-12T15:00:00",
          "2005-06-12T18:00:00",
          "2005-06-12T21:00:00",
          "2005-06-13T00:00:00",
          "2005-06-13T03:00:00",
          "2005-06-13T06:00:00",
          "2005-06-13T09:00:00",
          "2005-06-13T12:00:00",
          "2005-06-13T15:00:00",
          "2005-06-13T18:00:00",
          "2005-06-13T21:00:00",
          "2005-06-14T00:00:00",
          "2005-06-14T03:00:00",
          "2005-06-14T06:00:00",
          "2005-06-14T09:00:00",
          "2005-06-14T12:00:00",
          "2005-06-14T15:00:00",
          "2005-06-14T18:00:00",
          "2005-06-14T21:00:00",
          "2005-06-15T00:00:00",
          "2005-06-15T03:00:00",
          "2005-06-15T06:00:00",
          "2005-06-15T09:00:00",
          "2005-06-15T12:00:00",
          "2005-06-15T15:00:00",
          "2005-06-15T18:00:00",
          "2005-06-15T21:00:00",
          "2005-06-16T00:00:00",
          "2005-06-16T03:00:00",
          "2005-06-16T06:00:00",
          "2005-06-16T09:00:00",
          "2005-06-16T12:00:00",
          "2005-06-16T15:00:00",
          "2005-06-16T18:00:00",
          "2005-06-16T21:00:00",
          "2005-06-17T00:00:00",
          "2005-06-17T03:00:00",
          "2005-06-17T06:00:00",
          "2005-06-17T09:00:00",
          "2005-06-17T12:00:00",
          "2005-06-17T15:00:00",
          "2005-06-17T18:00:00",
          "2005-06-17T21:00:00",
          "2005-06-18T00:00:00",
          "2005-06-18T03:00:00",
          "2005-06-18T06:00:00",
          "2005-06-18T09:00:00",
          "2005-06-18T12:00:00",
          "2005-06-18T15:00:00",
          "2005-06-18T18:00:00",
          "2005-06-18T21:00:00",
          "2005-06-19T00:00:00",
          "2005-06-19T03:00:00",
          "2005-06-19T06:00:00",
          "2005-06-19T09:00:00",
          "2005-06-19T12:00:00",
          "2005-06-19T15:00:00",
          "2005-06-19T18:00:00",
          "2005-06-19T21:00:00",
          "2005-06-20T00:00:00",
          "2005-06-20T03:00:00",
          "2005-06-20T06:00:00",
          "2005-06-20T09:00:00",
          "2005-06-20T12:00:00",
          "2005-06-20T15:00:00",
          "2005-06-20T18:00:00",
          "2005-06-20T21:00:00",
          "2005-06-21T00:00:00",
          "2005-06-21T03:00:00",
          "2005-06-21T06:00:00",
          "2005-06-21T09:00:00",
          "2005-06-21T12:00:00",
          "2005-06-21T15:00:00",
          "2005-06-21T18:00:00",
          "2005-06-21T21:00:00",
          "2005-06-22T00:00:00",
          "2005-06-22T03:00:00",
          "2005-06-22T06:00:00",
          "2005-06-22T09:00:00",
          "2005-06-22T12:00:00",
          "2005-06-22T15:00:00",
          "2005-06-22T18:00:00",
          "2005-06-22T21:00:00",
          "2005-06-23T00:00:00",
          "2005-06-23T03:00:00",
          "2005-06-23T06:00:00",
          "2005-06-23T09:00:00",
          "2005-06-23T12:00:00",
          "2005-06-23T15:00:00",
          "2005-06-23T18:00:00",
          "2005-06-23T21:00:00",
          "2005-06-24T00:00:00",
          "2005-06-24T03:00:00",
          "2005-06-24T06:00:00",
          "2005-06-24T09:00:00",
          "2005-06-24T12:00:00",
          "2005-06-24T15:00:00",
          "2005-06-24T18:00:00",
          "2005-06-24T21:00:00",
          "2005-06-25T00:00:00",
          "2005-06-25T03:00:00",
          "2005-06-25T06:00:00",
          "2005-06-25T09:00:00",
          "2005-06-25T12:00:00",
          "2005-06-25T15:00:00",
          "2005-06-25T18:00:00",
          "2005-06-25T21:00:00",
          "2005-06-26T00:00:00",
          "2005-06-26T03:00:00",
          "2005-06-26T06:00:00",
          "2005-06-26T09:00:00",
          "2005-06-26T12:00:00",
          "2005-06-26T15:00:00",
          "2005-06-26T18:00:00",
          "2005-06-26T21:00:00",
          "2005-06-27T00:00:00",
          "2005-06-27T03:00:00",
          "2005-06-27T06:00:00",
          "2005-06-27T09:00:00",
          "2005-06-27T12:00:00",
          "2005-06-27T15:00:00",
          "2005-06-27T18:00:00",
          "2005-06-27T21:00:00",
          "2005-06-28T00:00:00",
          "2005-06-28T03:00:00",
          "2005-06-28T06:00:00",
          "2005-06-28T09:00:00",
          "2005-06-28T12:00:00",
          "2005-06-28T15:00:00",
          "2005-06-28T18:00:00",
          "2005-06-28T21:00:00",
          "2005-06-29T00:00:00",
          "2005-06-29T03:00:00",
          "2005-06-29T06:00:00",
          "2005-06-29T09:00:00",
          "2005-06-29T12:00:00",
          "2005-06-29T15:00:00",
          "2005-06-29T18:00:00",
          "2005-06-29T21:00:00",
          "2005-06-30T00:00:00",
          "2005-06-30T03:00:00",
          "2005-06-30T06:00:00",
          "2005-06-30T09:00:00",
          "2005-06-30T12:00:00",
          "2005-06-30T15:00:00",
          "2005-06-30T18:00:00",
          "2005-06-30T21:00:00",
          "2005-07-01T00:00:00",
          "2005-07-01T03:00:00",
          "2005-07-01T06:00:00",
          "2005-07-01T09:00:00",
          "2005-07-01T12:00:00",
          "2005-07-01T15:00:00",
          "2005-07-01T18:00:00",
          "2005-07-01T21:00:00",
          "2005-07-02T00:00:00",
          "2005-07-02T03:00:00",
          "2005-07-02T06:00:00",
          "2005-07-02T09:00:00",
          "2005-07-02T12:00:00",
          "2005-07-02T15:00:00",
          "2005-07-02T18:00:00",
          "2005-07-02T21:00:00",
          "2005-07-03T00:00:00",
          "2005-07-03T03:00:00",
          "2005-07-03T06:00:00",
          "2005-07-03T09:00:00",
          "2005-07-03T12:00:00",
          "2005-07-03T15:00:00",
          "2005-07-03T18:00:00",
          "2005-07-03T21:00:00",
          "2005-07-04T00:00:00",
          "2005-07-04T03:00:00",
          "2005-07-04T06:00:00",
          "2005-07-04T09:00:00",
          "2005-07-04T12:00:00",
          "2005-07-04T15:00:00",
          "2005-07-04T18:00:00",
          "2005-07-04T21:00:00",
          "2005-07-05T00:00:00",
          "2005-07-05T03:00:00",
          "2005-07-05T06:00:00",
          "2005-07-05T09:00:00",
          "2005-07-05T12:00:00",
          "2005-07-05T15:00:00",
          "2005-07-05T18:00:00",
          "2005-07-05T21:00:00",
          "2005-07-06T00:00:00",
          "2005-07-06T03:00:00",
          "2005-07-06T06:00:00",
          "2005-07-06T09:00:00",
          "2005-07-06T12:00:00",
          "2005-07-06T15:00:00",
          "2005-07-06T18:00:00",
          "2005-07-06T21:00:00",
          "2005-07-07T00:00:00",
          "2005-07-07T03:00:00",
          "2005-07-07T06:00:00",
          "2005-07-07T09:00:00",
          "2005-07-07T12:00:00",
          "2005-07-07T15:00:00",
          "2005-07-07T18:00:00",
          "2005-07-07T21:00:00",
          "2005-07-08T00:00:00",
          "2005-07-08T03:00:00",
          "2005-07-08T06:00:00",
          "2005-07-08T09:00:00",
          "2005-07-08T12:00:00",
          "2005-07-08T15:00:00",
          "2005-07-08T18:00:00",
          "2005-07-08T21:00:00",
          "2005-07-09T00:00:00",
          "2005-07-09T03:00:00",
          "2005-07-09T06:00:00",
          "2005-07-09T09:00:00",
          "2005-07-09T12:00:00",
          "2005-07-09T15:00:00",
          "2005-07-09T18:00:00",
          "2005-07-09T21:00:00",
          "2005-07-10T00:00:00",
          "2005-07-10T03:00:00",
          "2005-07-10T06:00:00",
          "2005-07-10T09:00:00",
          "2005-07-10T12:00:00",
          "2005-07-10T15:00:00",
          "2005-07-10T18:00:00",
          "2005-07-10T21:00:00",
          "2005-07-11T00:00:00",
          "2005-07-11T03:00:00",
          "2005-07-11T06:00:00",
          "2005-07-11T09:00:00",
          "2005-07-11T12:00:00",
          "2005-07-11T15:00:00",
          "2005-07-11T18:00:00",
          "2005-07-11T21:00:00",
          "2005-07-12T00:00:00",
          "2005-07-12T03:00:00",
          "2005-07-12T06:00:00",
          "2005-07-12T09:00:00",
          "2005-07-12T12:00:00",
          "2005-07-12T15:00:00",
          "2005-07-12T18:00:00",
          "2005-07-12T21:00:00",
          "2005-07-13T00:00:00",
          "2005-07-13T03:00:00",
          "2005-07-13T06:00:00",
          "2005-07-13T09:00:00",
          "2005-07-13T12:00:00",
          "2005-07-13T15:00:00",
          "2005-07-13T18:00:00",
          "2005-07-13T21:00:00",
          "2005-07-14T00:00:00",
          "2005-07-14T03:00:00",
          "2005-07-14T06:00:00",
          "2005-07-14T09:00:00",
          "2005-07-14T12:00:00",
          "2005-07-14T15:00:00",
          "2005-07-14T18:00:00",
          "2005-07-14T21:00:00",
          "2005-07-15T00:00:00",
          "2005-07-15T03:00:00",
          "2005-07-15T06:00:00",
          "2005-07-15T09:00:00",
          "2005-07-15T12:00:00",
          "2005-07-15T15:00:00",
          "2005-07-15T18:00:00",
          "2005-07-15T21:00:00",
          "2005-07-16T00:00:00",
          "2005-07-16T03:00:00",
          "2005-07-16T06:00:00",
          "2005-07-16T09:00:00",
          "2005-07-16T12:00:00",
          "2005-07-16T15:00:00",
          "2005-07-16T18:00:00",
          "2005-07-16T21:00:00",
          "2005-07-17T00:00:00",
          "2005-07-17T03:00:00",
          "2005-07-17T06:00:00",
          "2005-07-17T09:00:00",
          "2005-07-17T12:00:00",
          "2005-07-17T15:00:00",
          "2005-07-17T18:00:00",
          "2005-07-17T21:00:00",
          "2005-07-18T00:00:00",
          "2005-07-18T03:00:00",
          "2005-07-18T06:00:00",
          "2005-07-18T09:00:00",
          "2005-07-18T12:00:00",
          "2005-07-18T15:00:00",
          "2005-07-18T18:00:00",
          "2005-07-18T21:00:00",
          "2005-07-19T00:00:00",
          "2005-07-19T03:00:00",
          "2005-07-19T06:00:00",
          "2005-07-19T09:00:00",
          "2005-07-19T12:00:00",
          "2005-07-19T15:00:00",
          "2005-07-19T18:00:00",
          "2005-07-19T21:00:00",
          "2005-07-20T00:00:00",
          "2005-07-20T03:00:00",
          "2005-07-20T06:00:00",
          "2005-07-20T09:00:00",
          "2005-07-20T12:00:00",
          "2005-07-20T15:00:00",
          "2005-07-20T18:00:00",
          "2005-07-20T21:00:00",
          "2005-07-21T00:00:00",
          "2005-07-21T03:00:00",
          "2005-07-21T06:00:00",
          "2005-07-21T09:00:00",
          "2005-07-21T12:00:00",
          "2005-07-21T15:00:00",
          "2005-07-21T18:00:00",
          "2005-07-21T21:00:00",
          "2005-07-22T00:00:00",
          "2005-07-22T03:00:00",
          "2005-07-22T06:00:00",
          "2005-07-22T09:00:00",
          "2005-07-22T12:00:00",
          "2005-07-22T15:00:00",
          "2005-07-22T18:00:00",
          "2005-07-22T21:00:00",
          "2005-07-23T00:00:00",
          "2005-07-23T03:00:00",
          "2005-07-23T06:00:00",
          "2005-07-23T09:00:00",
          "2005-07-23T12:00:00",
          "2005-07-23T15:00:00",
          "2005-07-23T18:00:00",
          "2005-07-23T21:00:00",
          "2005-07-24T00:00:00",
          "2005-07-24T03:00:00",
          "2005-07-24T06:00:00",
          "2005-07-24T09:00:00",
          "2005-07-24T12:00:00",
          "2005-07-24T15:00:00",
          "2005-07-24T18:00:00",
          "2005-07-24T21:00:00",
          "2005-07-25T00:00:00",
          "2005-07-25T03:00:00",
          "2005-07-25T06:00:00",
          "2005-07-25T09:00:00",
          "2005-07-25T12:00:00",
          "2005-07-25T15:00:00",
          "2005-07-25T18:00:00",
          "2005-07-25T21:00:00",
          "2005-07-26T00:00:00",
          "2005-07-26T03:00:00",
          "2005-07-26T06:00:00",
          "2005-07-26T09:00:00",
          "2005-07-26T12:00:00",
          "2005-07-26T15:00:00",
          "2005-07-26T18:00:00",
          "2005-07-26T21:00:00",
          "2005-07-27T00:00:00",
          "2005-07-27T03:00:00",
          "2005-07-27T06:00:00",
          "2005-07-27T09:00:00",
          "2005-07-27T12:00:00",
          "2005-07-27T15:00:00",
          "2005-07-27T18:00:00",
          "2005-07-27T21:00:00",
          "2005-07-28T00:00:00",
          "2005-07-28T03:00:00",
          "2005-07-28T06:00:00",
          "2005-07-28T09:00:00",
          "2005-07-28T12:00:00",
          "2005-07-28T15:00:00",
          "2005-07-28T18:00:00",
          "2005-07-28T21:00:00",
          "2005-07-29T00:00:00",
          "2005-07-29T03:00:00",
          "2005-07-29T06:00:00",
          "2005-07-29T09:00:00",
          "2005-07-29T12:00:00",
          "2005-07-29T15:00:00",
          "2005-07-29T18:00:00",
          "2005-07-29T21:00:00",
          "2005-07-30T00:00:00",
          "2005-07-30T03:00:00",
          "2005-07-30T06:00:00",
          "2005-07-30T09:00:00",
          "2005-07-30T12:00:00",
          "2005-07-30T15:00:00",
          "2005-07-30T18:00:00",
          "2005-07-30T21:00:00",
          "2005-07-31T00:00:00",
          "2005-07-31T03:00:00",
          "2005-07-31T06:00:00",
          "2005-07-31T09:00:00",
          "2005-07-31T12:00:00",
          "2005-07-31T15:00:00",
          "2005-07-31T18:00:00",
          "2005-07-31T21:00:00",
          "2005-08-01T00:00:00",
          "2005-08-01T03:00:00",
          "2005-08-01T06:00:00",
          "2005-08-01T09:00:00",
          "2005-08-01T12:00:00",
          "2005-08-01T15:00:00",
          "2005-08-01T18:00:00",
          "2005-08-01T21:00:00",
          "2005-08-02T00:00:00",
          "2005-08-02T03:00:00",
          "2005-08-02T06:00:00",
          "2005-08-02T09:00:00",
          "2005-08-02T12:00:00",
          "2005-08-02T15:00:00",
          "2005-08-02T18:00:00",
          "2005-08-02T21:00:00",
          "2005-08-03T00:00:00",
          "2005-08-03T03:00:00",
          "2005-08-03T06:00:00",
          "2005-08-03T09:00:00",
          "2005-08-03T12:00:00",
          "2005-08-03T15:00:00",
          "2005-08-03T18:00:00",
          "2005-08-03T21:00:00",
          "2005-08-04T00:00:00",
          "2005-08-04T03:00:00",
          "2005-08-04T06:00:00",
          "2005-08-04T09:00:00",
          "2005-08-04T12:00:00",
          "2005-08-04T15:00:00",
          "2005-08-04T18:00:00",
          "2005-08-04T21:00:00",
          "2005-08-05T00:00:00",
          "2005-08-05T03:00:00",
          "2005-08-05T06:00:00",
          "2005-08-05T09:00:00",
          "2005-08-05T12:00:00",
          "2005-08-05T15:00:00",
          "2005-08-05T18:00:00",
          "2005-08-05T21:00:00",
          "2005-08-06T00:00:00",
          "2005-08-06T03:00:00",
          "2005-08-06T06:00:00",
          "2005-08-06T09:00:00",
          "2005-08-06T12:00:00",
          "2005-08-06T15:00:00",
          "2005-08-06T18:00:00",
          "2005-08-06T21:00:00",
          "2005-08-07T00:00:00",
          "2005-08-07T03:00:00",
          "2005-08-07T06:00:00",
          "2005-08-07T09:00:00",
          "2005-08-07T12:00:00",
          "2005-08-07T15:00:00",
          "2005-08-07T18:00:00",
          "2005-08-07T21:00:00",
          "2005-08-08T00:00:00",
          "2005-08-08T03:00:00",
          "2005-08-08T06:00:00",
          "2005-08-08T09:00:00",
          "2005-08-08T12:00:00",
          "2005-08-08T15:00:00",
          "2005-08-08T18:00:00",
          "2005-08-08T21:00:00",
          "2005-08-09T00:00:00",
          "2005-08-09T03:00:00",
          "2005-08-09T06:00:00",
          "2005-08-09T09:00:00",
          "2005-08-09T12:00:00",
          "2005-08-09T15:00:00",
          "2005-08-09T18:00:00",
          "2005-08-09T21:00:00",
          "2005-08-10T00:00:00",
          "2005-08-10T03:00:00",
          "2005-08-10T06:00:00",
          "2005-08-10T09:00:00",
          "2005-08-10T12:00:00",
          "2005-08-10T15:00:00",
          "2005-08-10T18:00:00",
          "2005-08-10T21:00:00",
          "2005-08-11T00:00:00",
          "2005-08-11T03:00:00",
          "2005-08-11T06:00:00",
          "2005-08-11T09:00:00",
          "2005-08-11T12:00:00",
          "2005-08-11T15:00:00",
          "2005-08-11T18:00:00",
          "2005-08-11T21:00:00",
          "2005-08-12T00:00:00",
          "2005-08-12T03:00:00",
          "2005-08-12T06:00:00",
          "2005-08-12T09:00:00",
          "2005-08-12T12:00:00",
          "2005-08-12T15:00:00",
          "2005-08-12T18:00:00",
          "2005-08-12T21:00:00",
          "2005-08-13T00:00:00",
          "2005-08-13T03:00:00",
          "2005-08-13T06:00:00",
          "2005-08-13T09:00:00",
          "2005-08-13T12:00:00",
          "2005-08-13T15:00:00",
          "2005-08-13T18:00:00",
          "2005-08-13T21:00:00",
          "2005-08-14T00:00:00",
          "2005-08-14T03:00:00",
          "2005-08-14T06:00:00",
          "2005-08-14T09:00:00",
          "2005-08-14T12:00:00",
          "2005-08-14T15:00:00",
          "2005-08-14T18:00:00",
          "2005-08-14T21:00:00",
          "2005-08-15T00:00:00",
          "2005-08-15T03:00:00",
          "2005-08-15T06:00:00",
          "2005-08-15T09:00:00",
          "2005-08-15T12:00:00",
          "2005-08-15T15:00:00",
          "2005-08-15T18:00:00",
          "2005-08-15T21:00:00",
          "2005-08-16T00:00:00",
          "2005-08-16T03:00:00",
          "2005-08-16T06:00:00",
          "2005-08-16T09:00:00",
          "2005-08-16T12:00:00",
          "2005-08-16T15:00:00",
          "2005-08-16T18:00:00",
          "2005-08-16T21:00:00",
          "2005-08-17T00:00:00",
          "2005-08-17T03:00:00",
          "2005-08-17T06:00:00",
          "2005-08-17T09:00:00",
          "2005-08-17T12:00:00",
          "2005-08-17T15:00:00",
          "2005-08-17T18:00:00",
          "2005-08-17T21:00:00",
          "2005-08-18T00:00:00",
          "2005-08-18T03:00:00",
          "2005-08-18T06:00:00",
          "2005-08-18T09:00:00",
          "2005-08-18T12:00:00",
          "2005-08-18T15:00:00",
          "2005-08-18T18:00:00",
          "2005-08-18T21:00:00",
          "2005-08-19T00:00:00",
          "2005-08-19T03:00:00",
          "2005-08-19T06:00:00",
          "2005-08-19T09:00:00",
          "2005-08-19T12:00:00",
          "2005-08-19T15:00:00",
          "2005-08-19T18:00:00",
          "2005-08-19T21:00:00",
          "2005-08-20T00:00:00",
          "2005-08-20T03:00:00",
          "2005-08-20T06:00:00",
          "2005-08-20T09:00:00",
          "2005-08-20T12:00:00",
          "2005-08-20T15:00:00",
          "2005-08-20T18:00:00",
          "2005-08-20T21:00:00",
          "2005-08-21T00:00:00",
          "2005-08-21T03:00:00",
          "2005-08-21T06:00:00",
          "2005-08-21T09:00:00",
          "2005-08-21T12:00:00",
          "2005-08-21T15:00:00",
          "2005-08-21T18:00:00",
          "2005-08-21T21:00:00",
          "2005-08-22T00:00:00",
          "2005-08-22T03:00:00",
          "2005-08-22T06:00:00",
          "2005-08-22T09:00:00",
          "2005-08-22T12:00:00",
          "2005-08-22T15:00:00",
          "2005-08-22T18:00:00",
          "2005-08-22T21:00:00",
          "2005-08-23T00:00:00",
          "2005-08-23T03:00:00",
          "2005-08-23T06:00:00",
          "2005-08-23T09:00:00",
          "2005-08-23T12:00:00",
          "2005-08-23T15:00:00",
          "2005-08-23T18:00:00",
          "2005-08-23T21:00:00",
          "2005-08-24T00:00:00",
          "2005-08-24T03:00:00",
          "2005-08-24T06:00:00",
          "2005-08-24T09:00:00",
          "2005-08-24T12:00:00",
          "2005-08-24T15:00:00",
          "2005-08-24T18:00:00",
          "2005-08-24T21:00:00",
          "2005-08-25T00:00:00",
          "2005-08-25T03:00:00",
          "2005-08-25T06:00:00",
          "2005-08-25T09:00:00",
          "2005-08-25T12:00:00",
          "2005-08-25T15:00:00",
          "2005-08-25T18:00:00",
          "2005-08-25T21:00:00",
          "2005-08-26T00:00:00",
          "2005-08-26T03:00:00",
          "2005-08-26T06:00:00",
          "2005-08-26T09:00:00",
          "2005-08-26T12:00:00",
          "2005-08-26T15:00:00",
          "2005-08-26T18:00:00",
          "2005-08-26T21:00:00",
          "2005-08-27T00:00:00",
          "2005-08-27T03:00:00",
          "2005-08-27T06:00:00",
          "2005-08-27T09:00:00",
          "2005-08-27T12:00:00",
          "2005-08-27T15:00:00",
          "2005-08-27T18:00:00",
          "2005-08-27T21:00:00",
          "2005-08-28T00:00:00",
          "2005-08-28T03:00:00",
          "2005-08-28T06:00:00",
          "2005-08-28T09:00:00",
          "2005-08-28T12:00:00",
          "2005-08-28T15:00:00",
          "2005-08-28T18:00:00",
          "2005-08-28T21:00:00",
          "2005-08-29T00:00:00",
          "2005-08-29T03:00:00",
          "2005-08-29T06:00:00",
          "2005-08-29T09:00:00",
          "2005-08-29T12:00:00",
          "2005-08-29T15:00:00",
          "2005-08-29T18:00:00",
          "2005-08-29T21:00:00",
          "2005-08-30T00:00:00",
          "2005-08-30T03:00:00",
          "2005-08-30T06:00:00",
          "2005-08-30T09:00:00",
          "2005-08-30T12:00:00",
          "2005-08-30T15:00:00",
          "2005-08-30T18:00:00",
          "2005-08-30T21:00:00",
          "2005-08-31T00:00:00",
          "2005-08-31T03:00:00",
          "2005-08-31T06:00:00",
          "2005-08-31T09:00:00",
          "2005-08-31T12:00:00",
          "2005-08-31T15:00:00",
          "2005-08-31T18:00:00",
          "2005-08-31T21:00:00",
          "2005-09-01T00:00:00",
          "2005-09-01T03:00:00",
          "2005-09-01T06:00:00",
          "2005-09-01T09:00:00",
          "2005-09-01T12:00:00",
          "2005-09-01T15:00:00",
          "2005-09-01T18:00:00",
          "2005-09-01T21:00:00",
          "2005-09-02T00:00:00",
          "2005-09-02T03:00:00",
          "2005-09-02T06:00:00",
          "2005-09-02T09:00:00",
          "2005-09-02T12:00:00",
          "2005-09-02T15:00:00",
          "2005-09-02T18:00:00",
          "2005-09-02T21:00:00",
          "2005-09-03T00:00:00",
          "2005-09-03T03:00:00",
          "2005-09-03T06:00:00",
          "2005-09-03T09:00:00",
          "2005-09-03T12:00:00",
          "2005-09-03T15:00:00",
          "2005-09-03T18:00:00",
          "2005-09-03T21:00:00",
          "2005-09-04T00:00:00",
          "2005-09-04T03:00:00",
          "2005-09-04T06:00:00",
          "2005-09-04T09:00:00",
          "2005-09-04T12:00:00",
          "2005-09-04T15:00:00",
          "2005-09-04T18:00:00",
          "2005-09-04T21:00:00",
          "2005-09-05T00:00:00",
          "2005-09-05T03:00:00",
          "2005-09-05T06:00:00",
          "2005-09-05T09:00:00",
          "2005-09-05T12:00:00",
          "2005-09-05T15:00:00",
          "2005-09-05T18:00:00",
          "2005-09-05T21:00:00",
          "2005-09-06T00:00:00",
          "2005-09-06T03:00:00",
          "2005-09-06T06:00:00",
          "2005-09-06T09:00:00",
          "2005-09-06T12:00:00",
          "2005-09-06T15:00:00",
          "2005-09-06T18:00:00",
          "2005-09-06T21:00:00",
          "2005-09-07T00:00:00",
          "2005-09-07T03:00:00",
          "2005-09-07T06:00:00",
          "2005-09-07T09:00:00",
          "2005-09-07T12:00:00",
          "2005-09-07T15:00:00",
          "2005-09-07T18:00:00",
          "2005-09-07T21:00:00",
          "2005-09-08T00:00:00",
          "2005-09-08T03:00:00",
          "2005-09-08T06:00:00",
          "2005-09-08T09:00:00",
          "2005-09-08T12:00:00",
          "2005-09-08T15:00:00",
          "2005-09-08T18:00:00",
          "2005-09-08T21:00:00",
          "2005-09-09T00:00:00",
          "2005-09-09T03:00:00",
          "2005-09-09T06:00:00",
          "2005-09-09T09:00:00",
          "2005-09-09T12:00:00",
          "2005-09-09T15:00:00",
          "2005-09-09T18:00:00",
          "2005-09-09T21:00:00",
          "2005-09-10T00:00:00",
          "2005-09-10T03:00:00",
          "2005-09-10T06:00:00",
          "2005-09-10T09:00:00",
          "2005-09-10T12:00:00",
          "2005-09-10T15:00:00",
          "2005-09-10T18:00:00",
          "2005-09-10T21:00:00",
          "2005-09-11T00:00:00",
          "2005-09-11T03:00:00",
          "2005-09-11T06:00:00",
          "2005-09-11T09:00:00",
          "2005-09-11T12:00:00",
          "2005-09-11T15:00:00",
          "2005-09-11T18:00:00",
          "2005-09-11T21:00:00",
          "2005-09-12T00:00:00",
          "2005-09-12T03:00:00",
          "2005-09-12T06:00:00",
          "2005-09-12T09:00:00",
          "2005-09-12T12:00:00",
          "2005-09-12T15:00:00",
          "2005-09-12T18:00:00",
          "2005-09-12T21:00:00",
          "2005-09-13T00:00:00",
          "2005-09-13T03:00:00",
          "2005-09-13T06:00:00",
          "2005-09-13T09:00:00",
          "2005-09-13T12:00:00",
          "2005-09-13T15:00:00",
          "2005-09-13T18:00:00",
          "2005-09-13T21:00:00",
          "2005-09-14T00:00:00",
          "2005-09-14T03:00:00",
          "2005-09-14T06:00:00",
          "2005-09-14T09:00:00",
          "2005-09-14T12:00:00",
          "2005-09-14T15:00:00",
          "2005-09-14T18:00:00",
          "2005-09-14T21:00:00",
          "2005-09-15T00:00:00",
          "2005-09-15T03:00:00",
          "2005-09-15T06:00:00",
          "2005-09-15T09:00:00",
          "2005-09-15T12:00:00",
          "2005-09-15T15:00:00",
          "2005-09-15T18:00:00",
          "2005-09-15T21:00:00",
          "2005-09-16T00:00:00",
          "2005-09-16T03:00:00",
          "2005-09-16T06:00:00",
          "2005-09-16T09:00:00",
          "2005-09-16T12:00:00",
          "2005-09-16T15:00:00",
          "2005-09-16T18:00:00",
          "2005-09-16T21:00:00",
          "2005-09-17T00:00:00",
          "2005-09-17T03:00:00",
          "2005-09-17T06:00:00",
          "2005-09-17T09:00:00",
          "2005-09-17T12:00:00",
          "2005-09-17T15:00:00",
          "2005-09-17T18:00:00",
          "2005-09-17T21:00:00",
          "2005-09-18T00:00:00",
          "2005-09-18T03:00:00",
          "2005-09-18T06:00:00",
          "2005-09-18T09:00:00",
          "2005-09-18T12:00:00",
          "2005-09-18T15:00:00",
          "2005-09-18T18:00:00",
          "2005-09-18T21:00:00",
          "2005-09-19T00:00:00",
          "2005-09-19T03:00:00",
          "2005-09-19T06:00:00",
          "2005-09-19T09:00:00",
          "2005-09-19T12:00:00",
          "2005-09-19T15:00:00",
          "2005-09-19T18:00:00",
          "2005-09-19T21:00:00",
          "2005-09-20T00:00:00",
          "2005-09-20T03:00:00",
          "2005-09-20T06:00:00",
          "2005-09-20T09:00:00",
          "2005-09-20T12:00:00",
          "2005-09-20T15:00:00",
          "2005-09-20T18:00:00",
          "2005-09-20T21:00:00",
          "2005-09-21T00:00:00",
          "2005-09-21T03:00:00",
          "2005-09-21T06:00:00",
          "2005-09-21T09:00:00",
          "2005-09-21T12:00:00",
          "2005-09-21T15:00:00",
          "2005-09-21T18:00:00",
          "2005-09-21T21:00:00",
          "2005-09-22T00:00:00",
          "2005-09-22T03:00:00",
          "2005-09-22T06:00:00",
          "2005-09-22T09:00:00",
          "2005-09-22T12:00:00",
          "2005-09-22T15:00:00",
          "2005-09-22T18:00:00",
          "2005-09-22T21:00:00",
          "2005-09-23T00:00:00",
          "2005-09-23T03:00:00",
          "2005-09-23T06:00:00",
          "2005-09-23T09:00:00",
          "2005-09-23T12:00:00",
          "2005-09-23T15:00:00",
          "2005-09-23T18:00:00",
          "2005-09-23T21:00:00",
          "2005-09-24T00:00:00",
          "2005-09-24T03:00:00",
          "2005-09-24T06:00:00",
          "2005-09-24T09:00:00",
          "2005-09-24T12:00:00",
          "2005-09-24T15:00:00",
          "2005-09-24T18:00:00",
          "2005-09-24T21:00:00",
          "2005-09-25T00:00:00",
          "2005-09-25T03:00:00",
          "2005-09-25T06:00:00",
          "2005-09-25T09:00:00",
          "2005-09-25T12:00:00",
          "2005-09-25T15:00:00",
          "2005-09-25T18:00:00",
          "2005-09-25T21:00:00",
          "2005-09-26T00:00:00",
          "2005-09-26T03:00:00",
          "2005-09-26T06:00:00",
          "2005-09-26T09:00:00",
          "2005-09-26T12:00:00",
          "2005-09-26T15:00:00",
          "2005-09-26T18:00:00",
          "2005-09-26T21:00:00",
          "2005-09-27T00:00:00",
          "2005-09-27T03:00:00",
          "2005-09-27T06:00:00",
          "2005-09-27T09:00:00",
          "2005-09-27T12:00:00",
          "2005-09-27T15:00:00",
          "2005-09-27T18:00:00",
          "2005-09-27T21:00:00",
          "2005-09-28T00:00:00",
          "2005-09-28T03:00:00",
          "2005-09-28T06:00:00",
          "2005-09-28T09:00:00",
          "2005-09-28T12:00:00",
          "2005-09-28T15:00:00",
          "2005-09-28T18:00:00",
          "2005-09-28T21:00:00",
          "2005-09-29T00:00:00",
          "2005-09-29T03:00:00",
          "2005-09-29T06:00:00",
          "2005-09-29T09:00:00",
          "2005-09-29T12:00:00",
          "2005-09-29T15:00:00",
          "2005-09-29T18:00:00",
          "2005-09-29T21:00:00",
          "2005-09-30T00:00:00",
          "2005-09-30T03:00:00",
          "2005-09-30T06:00:00",
          "2005-09-30T09:00:00",
          "2005-09-30T12:00:00",
          "2005-09-30T15:00:00",
          "2005-09-30T18:00:00",
          "2005-09-30T21:00:00",
          "2005-10-01T00:00:00",
          "2005-10-01T03:00:00",
          "2005-10-01T06:00:00",
          "2005-10-01T09:00:00",
          "2005-10-01T12:00:00",
          "2005-10-01T15:00:00",
          "2005-10-01T18:00:00",
          "2005-10-01T21:00:00",
          "2005-10-02T00:00:00",
          "2005-10-02T03:00:00",
          "2005-10-02T06:00:00",
          "2005-10-02T09:00:00",
          "2005-10-02T12:00:00",
          "2005-10-02T15:00:00",
          "2005-10-02T18:00:00",
          "2005-10-02T21:00:00",
          "2005-10-03T00:00:00",
          "2005-10-03T03:00:00",
          "2005-10-03T06:00:00",
          "2005-10-03T09:00:00",
          "2005-10-03T12:00:00",
          "2005-10-03T15:00:00",
          "2005-10-03T18:00:00",
          "2005-10-03T21:00:00",
          "2005-10-04T00:00:00",
          "2005-10-04T03:00:00",
          "2005-10-04T06:00:00",
          "2005-10-04T09:00:00",
          "2005-10-04T12:00:00",
          "2005-10-04T15:00:00",
          "2005-10-04T18:00:00",
          "2005-10-04T21:00:00",
          "2005-10-05T00:00:00",
          "2005-10-05T03:00:00",
          "2005-10-05T06:00:00",
          "2005-10-05T09:00:00",
          "2005-10-05T12:00:00",
          "2005-10-05T15:00:00",
          "2005-10-05T18:00:00",
          "2005-10-05T21:00:00",
          "2005-10-06T00:00:00",
          "2005-10-06T03:00:00",
          "2005-10-06T06:00:00",
          "2005-10-06T09:00:00",
          "2005-10-06T12:00:00",
          "2005-10-06T15:00:00",
          "2005-10-06T18:00:00",
          "2005-10-06T21:00:00",
          "2005-10-07T00:00:00",
          "2005-10-07T03:00:00",
          "2005-10-07T06:00:00",
          "2005-10-07T09:00:00",
          "2005-10-07T12:00:00",
          "2005-10-07T15:00:00",
          "2005-10-07T18:00:00",
          "2005-10-07T21:00:00",
          "2005-10-08T00:00:00",
          "2005-10-08T03:00:00",
          "2005-10-08T06:00:00",
          "2005-10-08T09:00:00",
          "2005-10-08T12:00:00",
          "2005-10-08T15:00:00",
          "2005-10-08T18:00:00",
          "2005-10-08T21:00:00",
          "2005-10-09T00:00:00",
          "2005-10-09T03:00:00",
          "2005-10-09T06:00:00",
          "2005-10-09T09:00:00",
          "2005-10-09T12:00:00",
          "2005-10-09T15:00:00",
          "2005-10-09T18:00:00",
          "2005-10-09T21:00:00",
          "2005-10-10T00:00:00",
          "2005-10-10T03:00:00",
          "2005-10-10T06:00:00",
          "2005-10-10T09:00:00",
          "2005-10-10T12:00:00",
          "2005-10-10T15:00:00",
          "2005-10-10T18:00:00",
          "2005-10-10T21:00:00",
          "2005-10-11T00:00:00",
          "2005-10-11T03:00:00",
          "2005-10-11T06:00:00",
          "2005-10-11T09:00:00",
          "2005-10-11T12:00:00",
          "2005-10-11T15:00:00",
          "2005-10-11T18:00:00",
          "2005-10-11T21:00:00",
          "2005-10-12T00:00:00",
          "2005-10-12T03:00:00",
          "2005-10-12T06:00:00",
          "2005-10-12T09:00:00",
          "2005-10-12T12:00:00",
          "2005-10-12T15:00:00",
          "2005-10-12T18:00:00",
          "2005-10-12T21:00:00",
          "2005-10-13T00:00:00",
          "2005-10-13T03:00:00",
          "2005-10-13T06:00:00",
          "2005-10-13T09:00:00",
          "2005-10-13T12:00:00",
          "2005-10-13T15:00:00",
          "2005-10-13T18:00:00",
          "2005-10-13T21:00:00",
          "2005-10-14T00:00:00",
          "2005-10-14T03:00:00",
          "2005-10-14T06:00:00",
          "2005-10-14T09:00:00",
          "2005-10-14T12:00:00",
          "2005-10-14T15:00:00",
          "2005-10-14T18:00:00",
          "2005-10-14T21:00:00",
          "2005-10-15T00:00:00",
          "2005-10-15T03:00:00",
          "2005-10-15T06:00:00",
          "2005-10-15T09:00:00",
          "2005-10-15T12:00:00",
          "2005-10-15T15:00:00",
          "2005-10-15T18:00:00",
          "2005-10-15T21:00:00",
          "2005-10-16T00:00:00",
          "2005-10-16T03:00:00",
          "2005-10-16T06:00:00",
          "2005-10-16T09:00:00",
          "2005-10-16T12:00:00",
          "2005-10-16T15:00:00",
          "2005-10-16T18:00:00",
          "2005-10-16T21:00:00",
          "2005-10-17T00:00:00",
          "2005-10-17T03:00:00",
          "2005-10-17T06:00:00",
          "2005-10-17T09:00:00",
          "2005-10-17T12:00:00",
          "2005-10-17T15:00:00",
          "2005-10-17T18:00:00",
          "2005-10-17T21:00:00",
          "2005-10-18T00:00:00",
          "2005-10-18T03:00:00",
          "2005-10-18T06:00:00",
          "2005-10-18T09:00:00",
          "2005-10-18T12:00:00",
          "2005-10-18T15:00:00",
          "2005-10-18T18:00:00",
          "2005-10-18T21:00:00",
          "2005-10-19T00:00:00",
          "2005-10-19T03:00:00",
          "2005-10-19T06:00:00",
          "2005-10-19T09:00:00",
          "2005-10-19T12:00:00",
          "2005-10-19T15:00:00",
          "2005-10-19T18:00:00",
          "2005-10-19T21:00:00",
          "2005-10-20T00:00:00",
          "2005-10-20T03:00:00",
          "2005-10-20T06:00:00",
          "2005-10-20T09:00:00",
          "2005-10-20T12:00:00",
          "2005-10-20T15:00:00",
          "2005-10-20T18:00:00",
          "2005-10-20T21:00:00",
          "2005-10-21T00:00:00",
          "2005-10-21T03:00:00",
          "2005-10-21T06:00:00",
          "2005-10-21T09:00:00",
          "2005-10-21T12:00:00",
          "2005-10-21T15:00:00",
          "2005-10-21T18:00:00",
          "2005-10-21T21:00:00",
          "2005-10-22T00:00:00",
          "2005-10-22T03:00:00",
          "2005-10-22T06:00:00",
          "2005-10-22T09:00:00",
          "2005-10-22T12:00:00",
          "2005-10-22T15:00:00",
          "2005-10-22T18:00:00",
          "2005-10-22T21:00:00",
          "2005-10-23T00:00:00",
          "2005-10-23T03:00:00",
          "2005-10-23T06:00:00",
          "2005-10-23T09:00:00",
          "2005-10-23T12:00:00",
          "2005-10-23T15:00:00",
          "2005-10-23T18:00:00",
          "2005-10-23T21:00:00",
          "2005-10-24T00:00:00",
          "2005-10-24T03:00:00",
          "2005-10-24T06:00:00",
          "2005-10-24T09:00:00",
          "2005-10-24T12:00:00",
          "2005-10-24T15:00:00",
          "2005-10-24T18:00:00",
          "2005-10-24T21:00:00",
          "2005-10-25T00:00:00",
          "2005-10-25T03:00:00",
          "2005-10-25T06:00:00",
          "2005-10-25T09:00:00",
          "2005-10-25T12:00:00",
          "2005-10-25T15:00:00",
          "2005-10-25T18:00:00",
          "2005-10-25T21:00:00",
          "2005-10-26T00:00:00",
          "2005-10-26T03:00:00",
          "2005-10-26T06:00:00",
          "2005-10-26T09:00:00",
          "2005-10-26T12:00:00",
          "2005-10-26T15:00:00",
          "2005-10-26T18:00:00",
          "2005-10-26T21:00:00",
          "2005-10-27T00:00:00",
          "2005-10-27T03:00:00",
          "2005-10-27T06:00:00",
          "2005-10-27T09:00:00",
          "2005-10-27T12:00:00",
          "2005-10-27T15:00:00",
          "2005-10-27T18:00:00",
          "2005-10-27T21:00:00",
          "2005-10-28T00:00:00",
          "2005-10-28T03:00:00",
          "2005-10-28T06:00:00",
          "2005-10-28T09:00:00",
          "2005-10-28T12:00:00",
          "2005-10-28T15:00:00",
          "2005-10-28T18:00:00",
          "2005-10-28T21:00:00",
          "2005-10-29T00:00:00",
          "2005-10-29T03:00:00",
          "2005-10-29T06:00:00",
          "2005-10-29T09:00:00",
          "2005-10-29T12:00:00",
          "2005-10-29T15:00:00",
          "2005-10-29T18:00:00",
          "2005-10-29T21:00:00",
          "2005-10-30T00:00:00",
          "2005-10-30T03:00:00",
          "2005-10-30T06:00:00",
          "2005-10-30T09:00:00",
          "2005-10-30T12:00:00",
          "2005-10-30T15:00:00",
          "2005-10-30T18:00:00",
          "2005-10-30T21:00:00",
          "2005-10-31T00:00:00",
          "2005-10-31T03:00:00",
          "2005-10-31T06:00:00",
          "2005-10-31T09:00:00",
          "2005-10-31T12:00:00",
          "2005-10-31T15:00:00",
          "2005-10-31T18:00:00",
          "2005-10-31T21:00:00",
          "2005-11-01T00:00:00",
          "2005-11-01T03:00:00",
          "2005-11-01T06:00:00",
          "2005-11-01T09:00:00",
          "2005-11-01T12:00:00",
          "2005-11-01T15:00:00",
          "2005-11-01T18:00:00",
          "2005-11-01T21:00:00",
          "2005-11-02T00:00:00",
          "2005-11-02T03:00:00",
          "2005-11-02T06:00:00",
          "2005-11-02T09:00:00",
          "2005-11-02T12:00:00",
          "2005-11-02T15:00:00",
          "2005-11-02T18:00:00",
          "2005-11-02T21:00:00",
          "2005-11-03T00:00:00",
          "2005-11-03T03:00:00",
          "2005-11-03T06:00:00",
          "2005-11-03T09:00:00",
          "2005-11-03T12:00:00",
          "2005-11-03T15:00:00",
          "2005-11-03T18:00:00",
          "2005-11-03T21:00:00",
          "2005-11-04T00:00:00",
          "2005-11-04T03:00:00",
          "2005-11-04T06:00:00",
          "2005-11-04T09:00:00",
          "2005-11-04T12:00:00",
          "2005-11-04T15:00:00",
          "2005-11-04T18:00:00",
          "2005-11-04T21:00:00",
          "2005-11-05T00:00:00",
          "2005-11-05T03:00:00",
          "2005-11-05T06:00:00",
          "2005-11-05T09:00:00",
          "2005-11-05T12:00:00",
          "2005-11-05T15:00:00",
          "2005-11-05T18:00:00",
          "2005-11-05T21:00:00",
          "2005-11-06T00:00:00",
          "2005-11-06T03:00:00",
          "2005-11-06T06:00:00",
          "2005-11-06T09:00:00",
          "2005-11-06T12:00:00",
          "2005-11-06T15:00:00",
          "2005-11-06T18:00:00",
          "2005-11-06T21:00:00",
          "2005-11-07T00:00:00",
          "2005-11-07T03:00:00",
          "2005-11-07T06:00:00",
          "2005-11-07T09:00:00",
          "2005-11-07T12:00:00",
          "2005-11-07T15:00:00",
          "2005-11-07T18:00:00",
          "2005-11-07T21:00:00",
          "2005-11-08T00:00:00",
          "2005-11-08T03:00:00",
          "2005-11-08T06:00:00",
          "2005-11-08T09:00:00",
          "2005-11-08T12:00:00",
          "2005-11-08T15:00:00",
          "2005-11-08T18:00:00",
          "2005-11-08T21:00:00",
          "2005-11-09T00:00:00",
          "2005-11-09T03:00:00",
          "2005-11-09T06:00:00",
          "2005-11-09T09:00:00",
          "2005-11-09T12:00:00",
          "2005-11-09T15:00:00",
          "2005-11-09T18:00:00",
          "2005-11-09T21:00:00",
          "2005-11-10T00:00:00",
          "2005-11-10T03:00:00",
          "2005-11-10T06:00:00",
          "2005-11-10T09:00:00",
          "2005-11-10T12:00:00",
          "2005-11-10T15:00:00",
          "2005-11-10T18:00:00",
          "2005-11-10T21:00:00",
          "2005-11-11T00:00:00",
          "2005-11-11T03:00:00",
          "2005-11-11T06:00:00",
          "2005-11-11T09:00:00",
          "2005-11-11T12:00:00",
          "2005-11-11T15:00:00",
          "2005-11-11T18:00:00",
          "2005-11-11T21:00:00",
          "2005-11-12T00:00:00",
          "2005-11-12T03:00:00",
          "2005-11-12T06:00:00",
          "2005-11-12T09:00:00",
          "2005-11-12T12:00:00",
          "2005-11-12T15:00:00",
          "2005-11-12T18:00:00",
          "2005-11-12T21:00:00",
          "2005-11-13T00:00:00",
          "2005-11-13T03:00:00",
          "2005-11-13T06:00:00",
          "2005-11-13T09:00:00",
          "2005-11-13T12:00:00",
          "2005-11-13T15:00:00",
          "2005-11-13T18:00:00",
          "2005-11-13T21:00:00",
          "2005-11-14T00:00:00",
          "2005-11-14T03:00:00",
          "2005-11-14T06:00:00",
          "2005-11-14T09:00:00",
          "2005-11-14T12:00:00",
          "2005-11-14T15:00:00",
          "2005-11-14T18:00:00",
          "2005-11-14T21:00:00",
          "2005-11-15T00:00:00",
          "2005-11-15T03:00:00",
          "2005-11-15T06:00:00",
          "2005-11-15T09:00:00",
          "2005-11-15T12:00:00",
          "2005-11-15T15:00:00",
          "2005-11-15T18:00:00",
          "2005-11-15T21:00:00",
          "2005-11-16T00:00:00",
          "2005-11-16T03:00:00",
          "2005-11-16T06:00:00",
          "2005-11-16T09:00:00",
          "2005-11-16T12:00:00",
          "2005-11-16T15:00:00",
          "2005-11-16T18:00:00",
          "2005-11-16T21:00:00",
          "2005-11-17T00:00:00",
          "2005-11-17T03:00:00",
          "2005-11-17T06:00:00",
          "2005-11-17T09:00:00",
          "2005-11-17T12:00:00",
          "2005-11-17T15:00:00",
          "2005-11-17T18:00:00",
          "2005-11-17T21:00:00",
          "2005-11-18T00:00:00",
          "2005-11-18T03:00:00",
          "2005-11-18T06:00:00",
          "2005-11-18T09:00:00",
          "2005-11-18T12:00:00",
          "2005-11-18T15:00:00",
          "2005-11-18T18:00:00",
          "2005-11-18T21:00:00",
          "2005-11-19T00:00:00",
          "2005-11-19T03:00:00",
          "2005-11-19T06:00:00",
          "2005-11-19T09:00:00",
          "2005-11-19T12:00:00",
          "2005-11-19T15:00:00",
          "2005-11-19T18:00:00",
          "2005-11-19T21:00:00",
          "2005-11-20T00:00:00",
          "2005-11-20T03:00:00",
          "2005-11-20T06:00:00",
          "2005-11-20T09:00:00",
          "2005-11-20T12:00:00",
          "2005-11-20T15:00:00",
          "2005-11-20T18:00:00",
          "2005-11-20T21:00:00",
          "2005-11-21T00:00:00",
          "2005-11-21T03:00:00",
          "2005-11-21T06:00:00",
          "2005-11-21T09:00:00",
          "2005-11-21T12:00:00",
          "2005-11-21T15:00:00",
          "2005-11-21T18:00:00",
          "2005-11-21T21:00:00",
          "2005-11-22T00:00:00",
          "2005-11-22T03:00:00",
          "2005-11-22T06:00:00",
          "2005-11-22T09:00:00",
          "2005-11-22T12:00:00",
          "2005-11-22T15:00:00",
          "2005-11-22T18:00:00",
          "2005-11-22T21:00:00",
          "2005-11-23T00:00:00",
          "2005-11-23T03:00:00",
          "2005-11-23T06:00:00",
          "2005-11-23T09:00:00",
          "2005-11-23T12:00:00",
          "2005-11-23T15:00:00",
          "2005-11-23T18:00:00",
          "2005-11-23T21:00:00",
          "2005-11-24T00:00:00",
          "2005-11-24T03:00:00",
          "2005-11-24T06:00:00",
          "2005-11-24T09:00:00",
          "2005-11-24T12:00:00",
          "2005-11-24T15:00:00",
          "2005-11-24T18:00:00",
          "2005-11-24T21:00:00",
          "2005-11-25T00:00:00",
          "2005-11-25T03:00:00",
          "2005-11-25T06:00:00",
          "2005-11-25T09:00:00",
          "2005-11-25T12:00:00",
          "2005-11-25T15:00:00",
          "2005-11-25T18:00:00",
          "2005-11-25T21:00:00",
          "2005-11-26T00:00:00",
          "2005-11-26T03:00:00",
          "2005-11-26T06:00:00",
          "2005-11-26T09:00:00",
          "2005-11-26T12:00:00",
          "2005-11-26T15:00:00",
          "2005-11-26T18:00:00",
          "2005-11-26T21:00:00",
          "2005-11-27T00:00:00",
          "2005-11-27T03:00:00",
          "2005-11-27T06:00:00",
          "2005-11-27T09:00:00",
          "2005-11-27T12:00:00",
          "2005-11-27T15:00:00",
          "2005-11-27T18:00:00",
          "2005-11-27T21:00:00",
          "2005-11-28T00:00:00",
          "2005-11-28T03:00:00",
          "2005-11-28T06:00:00",
          "2005-11-28T09:00:00",
          "2005-11-28T12:00:00",
          "2005-11-28T15:00:00",
          "2005-11-28T18:00:00",
          "2005-11-28T21:00:00",
          "2005-11-29T00:00:00",
          "2005-11-29T03:00:00",
          "2005-11-29T06:00:00",
          "2005-11-29T09:00:00",
          "2005-11-29T12:00:00",
          "2005-11-29T15:00:00",
          "2005-11-29T18:00:00",
          "2005-11-29T21:00:00",
          "2005-11-30T00:00:00",
          "2005-11-30T03:00:00",
          "2005-11-30T06:00:00",
          "2005-11-30T09:00:00",
          "2005-11-30T12:00:00",
          "2005-11-30T15:00:00",
          "2005-11-30T18:00:00",
          "2005-11-30T21:00:00",
          "2005-12-01T00:00:00",
          "2005-12-01T03:00:00",
          "2005-12-01T06:00:00",
          "2005-12-01T09:00:00",
          "2005-12-01T12:00:00",
          "2005-12-01T15:00:00",
          "2005-12-01T18:00:00",
          "2005-12-01T21:00:00",
          "2005-12-02T00:00:00",
          "2005-12-02T03:00:00",
          "2005-12-02T06:00:00",
          "2005-12-02T09:00:00",
          "2005-12-02T12:00:00",
          "2005-12-02T15:00:00",
          "2005-12-02T18:00:00",
          "2005-12-02T21:00:00",
          "2005-12-03T00:00:00",
          "2005-12-03T03:00:00",
          "2005-12-03T06:00:00",
          "2005-12-03T09:00:00",
          "2005-12-03T12:00:00",
          "2005-12-03T15:00:00",
          "2005-12-03T18:00:00",
          "2005-12-03T21:00:00",
          "2005-12-04T00:00:00",
          "2005-12-04T03:00:00",
          "2005-12-04T06:00:00",
          "2005-12-04T09:00:00",
          "2005-12-04T12:00:00",
          "2005-12-04T15:00:00",
          "2005-12-04T18:00:00",
          "2005-12-04T21:00:00",
          "2005-12-05T00:00:00",
          "2005-12-05T03:00:00",
          "2005-12-05T06:00:00",
          "2005-12-05T09:00:00",
          "2005-12-05T12:00:00",
          "2005-12-05T15:00:00",
          "2005-12-05T18:00:00",
          "2005-12-05T21:00:00",
          "2005-12-06T00:00:00",
          "2005-12-06T03:00:00",
          "2005-12-06T06:00:00",
          "2005-12-06T09:00:00",
          "2005-12-06T12:00:00",
          "2005-12-06T15:00:00",
          "2005-12-06T18:00:00",
          "2005-12-06T21:00:00",
          "2005-12-07T00:00:00",
          "2005-12-07T03:00:00",
          "2005-12-07T06:00:00",
          "2005-12-07T09:00:00",
          "2005-12-07T12:00:00",
          "2005-12-07T15:00:00",
          "2005-12-07T18:00:00",
          "2005-12-07T21:00:00",
          "2005-12-08T00:00:00",
          "2005-12-08T03:00:00",
          "2005-12-08T06:00:00",
          "2005-12-08T09:00:00",
          "2005-12-08T12:00:00",
          "2005-12-08T15:00:00",
          "2005-12-08T18:00:00",
          "2005-12-08T21:00:00",
          "2005-12-09T00:00:00",
          "2005-12-09T03:00:00",
          "2005-12-09T06:00:00",
          "2005-12-09T09:00:00",
          "2005-12-09T12:00:00",
          "2005-12-09T15:00:00",
          "2005-12-09T18:00:00",
          "2005-12-09T21:00:00",
          "2005-12-10T00:00:00",
          "2005-12-10T03:00:00",
          "2005-12-10T06:00:00",
          "2005-12-10T09:00:00",
          "2005-12-10T12:00:00",
          "2005-12-10T15:00:00",
          "2005-12-10T18:00:00",
          "2005-12-10T21:00:00",
          "2005-12-11T00:00:00",
          "2005-12-11T03:00:00",
          "2005-12-11T06:00:00",
          "2005-12-11T09:00:00",
          "2005-12-11T12:00:00",
          "2005-12-11T15:00:00",
          "2005-12-11T18:00:00",
          "2005-12-11T21:00:00",
          "2005-12-12T00:00:00",
          "2005-12-12T03:00:00",
          "2005-12-12T06:00:00",
          "2005-12-12T09:00:00",
          "2005-12-12T12:00:00",
          "2005-12-12T15:00:00",
          "2005-12-12T18:00:00",
          "2005-12-12T21:00:00",
          "2005-12-13T00:00:00",
          "2005-12-13T03:00:00",
          "2005-12-13T06:00:00",
          "2005-12-13T09:00:00",
          "2005-12-13T12:00:00",
          "2005-12-13T15:00:00",
          "2005-12-13T18:00:00",
          "2005-12-13T21:00:00",
          "2005-12-14T00:00:00",
          "2005-12-14T03:00:00",
          "2005-12-14T06:00:00",
          "2005-12-14T09:00:00",
          "2005-12-14T12:00:00",
          "2005-12-14T15:00:00",
          "2005-12-14T18:00:00",
          "2005-12-14T21:00:00",
          "2005-12-15T00:00:00",
          "2005-12-15T03:00:00",
          "2005-12-15T06:00:00",
          "2005-12-15T09:00:00",
          "2005-12-15T12:00:00",
          "2005-12-15T15:00:00",
          "2005-12-15T18:00:00",
          "2005-12-15T21:00:00",
          "2005-12-16T00:00:00",
          "2005-12-16T03:00:00",
          "2005-12-16T06:00:00",
          "2005-12-16T09:00:00",
          "2005-12-16T12:00:00",
          "2005-12-16T15:00:00",
          "2005-12-16T18:00:00",
          "2005-12-16T21:00:00",
          "2005-12-17T00:00:00",
          "2005-12-17T03:00:00",
          "2005-12-17T06:00:00",
          "2005-12-17T09:00:00",
          "2005-12-17T12:00:00",
          "2005-12-17T15:00:00",
          "2005-12-17T18:00:00",
          "2005-12-17T21:00:00",
          "2005-12-18T00:00:00",
          "2005-12-18T03:00:00",
          "2005-12-18T06:00:00",
          "2005-12-18T09:00:00",
          "2005-12-18T12:00:00",
          "2005-12-18T15:00:00",
          "2005-12-18T18:00:00",
          "2005-12-18T21:00:00",
          "2005-12-19T00:00:00",
          "2005-12-19T03:00:00",
          "2005-12-19T06:00:00",
          "2005-12-19T09:00:00",
          "2005-12-19T12:00:00",
          "2005-12-19T15:00:00",
          "2005-12-19T18:00:00",
          "2005-12-19T21:00:00",
          "2005-12-20T00:00:00",
          "2005-12-20T03:00:00",
          "2005-12-20T06:00:00",
          "2005-12-20T09:00:00",
          "2005-12-20T12:00:00",
          "2005-12-20T15:00:00",
          "2005-12-20T18:00:00",
          "2005-12-20T21:00:00",
          "2005-12-21T00:00:00",
          "2005-12-21T03:00:00",
          "2005-12-21T06:00:00",
          "2005-12-21T09:00:00",
          "2005-12-21T12:00:00",
          "2005-12-21T15:00:00",
          "2005-12-21T18:00:00",
          "2005-12-21T21:00:00",
          "2005-12-22T00:00:00",
          "2005-12-22T03:00:00",
          "2005-12-22T06:00:00",
          "2005-12-22T09:00:00",
          "2005-12-22T12:00:00",
          "2005-12-22T15:00:00",
          "2005-12-22T18:00:00",
          "2005-12-22T21:00:00",
          "2005-12-23T00:00:00",
          "2005-12-23T03:00:00",
          "2005-12-23T06:00:00",
          "2005-12-23T09:00:00",
          "2005-12-23T12:00:00",
          "2005-12-23T15:00:00",
          "2005-12-23T18:00:00",
          "2005-12-23T21:00:00",
          "2005-12-24T00:00:00",
          "2005-12-24T03:00:00",
          "2005-12-24T06:00:00",
          "2005-12-24T09:00:00",
          "2005-12-24T12:00:00",
          "2005-12-24T15:00:00",
          "2005-12-24T18:00:00",
          "2005-12-24T21:00:00",
          "2005-12-25T00:00:00",
          "2005-12-25T03:00:00",
          "2005-12-25T06:00:00",
          "2005-12-25T09:00:00",
          "2005-12-25T12:00:00",
          "2005-12-25T15:00:00",
          "2005-12-25T18:00:00",
          "2005-12-25T21:00:00",
          "2005-12-26T00:00:00",
          "2005-12-26T03:00:00",
          "2005-12-26T06:00:00",
          "2005-12-26T09:00:00",
          "2005-12-26T12:00:00",
          "2005-12-26T15:00:00",
          "2005-12-26T18:00:00",
          "2005-12-26T21:00:00",
          "2005-12-27T00:00:00",
          "2005-12-27T03:00:00",
          "2005-12-27T06:00:00",
          "2005-12-27T09:00:00",
          "2005-12-27T12:00:00",
          "2005-12-27T15:00:00",
          "2005-12-27T18:00:00",
          "2005-12-27T21:00:00",
          "2005-12-28T00:00:00",
          "2005-12-28T03:00:00",
          "2005-12-28T06:00:00",
          "2005-12-28T09:00:00",
          "2005-12-28T12:00:00",
          "2005-12-28T15:00:00",
          "2005-12-28T18:00:00",
          "2005-12-28T21:00:00",
          "2005-12-29T00:00:00",
          "2005-12-29T03:00:00",
          "2005-12-29T06:00:00",
          "2005-12-29T09:00:00",
          "2005-12-29T12:00:00",
          "2005-12-29T15:00:00",
          "2005-12-29T18:00:00",
          "2005-12-29T21:00:00",
          "2005-12-30T00:00:00",
          "2005-12-30T03:00:00",
          "2005-12-30T06:00:00",
          "2005-12-30T09:00:00",
          "2005-12-30T12:00:00",
          "2005-12-30T15:00:00",
          "2005-12-30T18:00:00",
          "2005-12-30T21:00:00",
          "2005-12-31T00:00:00",
          "2005-12-31T03:00:00",
          "2005-12-31T06:00:00",
          "2005-12-31T09:00:00",
          "2005-12-31T12:00:00",
          "2005-12-31T15:00:00",
          "2005-12-31T18:00:00",
          "2005-12-31T21:00:00",
          "2006-01-01T00:00:00",
          "2006-01-01T03:00:00",
          "2006-01-01T06:00:00",
          "2006-01-01T09:00:00",
          "2006-01-01T12:00:00",
          "2006-01-01T15:00:00",
          "2006-01-01T18:00:00",
          "2006-01-01T21:00:00",
          "2006-01-02T00:00:00",
          "2006-01-02T03:00:00",
          "2006-01-02T06:00:00",
          "2006-01-02T09:00:00",
          "2006-01-02T12:00:00",
          "2006-01-02T15:00:00",
          "2006-01-02T18:00:00",
          "2006-01-02T21:00:00",
          "2006-01-03T00:00:00",
          "2006-01-03T03:00:00",
          "2006-01-03T06:00:00",
          "2006-01-03T09:00:00",
          "2006-01-03T12:00:00",
          "2006-01-03T15:00:00",
          "2006-01-03T18:00:00",
          "2006-01-03T21:00:00",
          "2006-01-04T00:00:00",
          "2006-01-04T03:00:00",
          "2006-01-04T06:00:00",
          "2006-01-04T09:00:00",
          "2006-01-04T12:00:00",
          "2006-01-04T15:00:00",
          "2006-01-04T18:00:00",
          "2006-01-04T21:00:00",
          "2006-01-05T00:00:00",
          "2006-01-05T03:00:00",
          "2006-01-05T06:00:00",
          "2006-01-05T09:00:00",
          "2006-01-05T12:00:00",
          "2006-01-05T15:00:00",
          "2006-01-05T18:00:00",
          "2006-01-05T21:00:00",
          "2006-01-06T00:00:00",
          "2006-01-06T03:00:00",
          "2006-01-06T06:00:00",
          "2006-01-06T09:00:00",
          "2006-01-06T12:00:00",
          "2006-01-06T15:00:00",
          "2006-01-06T18:00:00",
          "2006-01-06T21:00:00",
          "2006-01-07T00:00:00",
          "2006-01-07T03:00:00",
          "2006-01-07T06:00:00",
          "2006-01-07T09:00:00",
          "2006-01-07T12:00:00",
          "2006-01-07T15:00:00",
          "2006-01-07T18:00:00",
          "2006-01-07T21:00:00",
          "2006-01-08T00:00:00",
          "2006-01-08T03:00:00",
          "2006-01-08T06:00:00",
          "2006-01-08T09:00:00",
          "2006-01-08T12:00:00",
          "2006-01-08T15:00:00",
          "2006-01-08T18:00:00",
          "2006-01-08T21:00:00",
          "2006-01-09T00:00:00",
          "2006-01-09T03:00:00",
          "2006-01-09T06:00:00",
          "2006-01-09T09:00:00",
          "2006-01-09T12:00:00",
          "2006-01-09T15:00:00",
          "2006-01-09T18:00:00",
          "2006-01-09T21:00:00",
          "2006-01-10T00:00:00",
          "2006-01-10T03:00:00",
          "2006-01-10T06:00:00",
          "2006-01-10T09:00:00",
          "2006-01-10T12:00:00",
          "2006-01-10T15:00:00",
          "2006-01-10T18:00:00",
          "2006-01-10T21:00:00",
          "2006-01-11T00:00:00",
          "2006-01-11T03:00:00",
          "2006-01-11T06:00:00",
          "2006-01-11T09:00:00",
          "2006-01-11T12:00:00",
          "2006-01-11T15:00:00",
          "2006-01-11T18:00:00",
          "2006-01-11T21:00:00",
          "2006-01-12T00:00:00",
          "2006-01-12T03:00:00",
          "2006-01-12T06:00:00",
          "2006-01-12T09:00:00",
          "2006-01-12T12:00:00",
          "2006-01-12T15:00:00",
          "2006-01-12T18:00:00",
          "2006-01-12T21:00:00",
          "2006-01-13T00:00:00",
          "2006-01-13T03:00:00",
          "2006-01-13T06:00:00",
          "2006-01-13T09:00:00",
          "2006-01-13T12:00:00",
          "2006-01-13T15:00:00",
          "2006-01-13T18:00:00",
          "2006-01-13T21:00:00",
          "2006-01-14T00:00:00",
          "2006-01-14T03:00:00",
          "2006-01-14T06:00:00",
          "2006-01-14T09:00:00",
          "2006-01-14T12:00:00",
          "2006-01-14T15:00:00",
          "2006-01-14T18:00:00",
          "2006-01-14T21:00:00",
          "2006-01-15T00:00:00",
          "2006-01-15T03:00:00",
          "2006-01-15T06:00:00",
          "2006-01-15T09:00:00",
          "2006-01-15T12:00:00",
          "2006-01-15T15:00:00",
          "2006-01-15T18:00:00",
          "2006-01-15T21:00:00",
          "2006-01-16T00:00:00",
          "2006-01-16T03:00:00",
          "2006-01-16T06:00:00",
          "2006-01-16T09:00:00",
          "2006-01-16T12:00:00",
          "2006-01-16T15:00:00",
          "2006-01-16T18:00:00",
          "2006-01-16T21:00:00",
          "2006-01-17T00:00:00",
          "2006-01-17T03:00:00",
          "2006-01-17T06:00:00",
          "2006-01-17T09:00:00",
          "2006-01-17T12:00:00",
          "2006-01-17T15:00:00",
          "2006-01-17T18:00:00",
          "2006-01-17T21:00:00",
          "2006-01-18T00:00:00",
          "2006-01-18T03:00:00",
          "2006-01-18T06:00:00",
          "2006-01-18T09:00:00",
          "2006-01-18T12:00:00",
          "2006-01-18T15:00:00",
          "2006-01-18T18:00:00",
          "2006-01-18T21:00:00",
          "2006-01-19T00:00:00",
          "2006-01-19T03:00:00",
          "2006-01-19T06:00:00",
          "2006-01-19T09:00:00",
          "2006-01-19T12:00:00",
          "2006-01-19T15:00:00",
          "2006-01-19T18:00:00",
          "2006-01-19T21:00:00",
          "2006-01-20T00:00:00",
          "2006-01-20T03:00:00",
          "2006-01-20T06:00:00",
          "2006-01-20T09:00:00",
          "2006-01-20T12:00:00",
          "2006-01-20T15:00:00",
          "2006-01-20T18:00:00",
          "2006-01-20T21:00:00",
          "2006-01-21T00:00:00",
          "2006-01-21T03:00:00",
          "2006-01-21T06:00:00",
          "2006-01-21T09:00:00",
          "2006-01-21T12:00:00",
          "2006-01-21T15:00:00",
          "2006-01-21T18:00:00",
          "2006-01-21T21:00:00",
          "2006-01-22T00:00:00",
          "2006-01-22T03:00:00",
          "2006-01-22T06:00:00",
          "2006-01-22T09:00:00",
          "2006-01-22T12:00:00",
          "2006-01-22T15:00:00",
          "2006-01-22T18:00:00",
          "2006-01-22T21:00:00",
          "2006-01-23T00:00:00",
          "2006-01-23T03:00:00",
          "2006-01-23T06:00:00",
          "2006-01-23T09:00:00",
          "2006-01-23T12:00:00",
          "2006-01-23T15:00:00",
          "2006-01-23T18:00:00",
          "2006-01-23T21:00:00",
          "2006-01-24T00:00:00",
          "2006-01-24T03:00:00",
          "2006-01-24T06:00:00",
          "2006-01-24T09:00:00",
          "2006-01-24T12:00:00",
          "2006-01-24T15:00:00",
          "2006-01-24T18:00:00",
          "2006-01-24T21:00:00",
          "2006-01-25T00:00:00",
          "2006-01-25T03:00:00",
          "2006-01-25T06:00:00",
          "2006-01-25T09:00:00",
          "2006-01-25T12:00:00",
          "2006-01-25T15:00:00",
          "2006-01-25T18:00:00",
          "2006-01-25T21:00:00",
          "2006-01-26T00:00:00",
          "2006-01-26T03:00:00",
          "2006-01-26T06:00:00",
          "2006-01-26T09:00:00",
          "2006-01-26T12:00:00",
          "2006-01-26T15:00:00",
          "2006-01-26T18:00:00",
          "2006-01-26T21:00:00",
          "2006-01-27T00:00:00",
          "2006-01-27T03:00:00",
          "2006-01-27T06:00:00",
          "2006-01-27T09:00:00",
          "2006-01-27T12:00:00",
          "2006-01-27T15:00:00",
          "2006-01-27T18:00:00",
          "2006-01-27T21:00:00",
          "2006-01-28T00:00:00",
          "2006-01-28T03:00:00",
          "2006-01-28T06:00:00",
          "2006-01-28T09:00:00",
          "2006-01-28T12:00:00",
          "2006-01-28T15:00:00",
          "2006-01-28T18:00:00",
          "2006-01-28T21:00:00",
          "2006-01-29T00:00:00",
          "2006-01-29T03:00:00",
          "2006-01-29T06:00:00",
          "2006-01-29T09:00:00",
          "2006-01-29T12:00:00",
          "2006-01-29T15:00:00",
          "2006-01-29T18:00:00",
          "2006-01-29T21:00:00",
          "2006-01-30T00:00:00",
          "2006-01-30T03:00:00",
          "2006-01-30T06:00:00",
          "2006-01-30T09:00:00",
          "2006-01-30T12:00:00",
          "2006-01-30T15:00:00",
          "2006-01-30T18:00:00",
          "2006-01-30T21:00:00",
          "2006-01-31T00:00:00",
          "2006-01-31T03:00:00",
          "2006-01-31T06:00:00",
          "2006-01-31T09:00:00",
          "2006-01-31T12:00:00",
          "2006-01-31T15:00:00",
          "2006-01-31T18:00:00",
          "2006-01-31T21:00:00",
          "2006-02-01T00:00:00",
          "2006-02-01T03:00:00",
          "2006-02-01T06:00:00",
          "2006-02-01T09:00:00",
          "2006-02-01T12:00:00",
          "2006-02-01T15:00:00",
          "2006-02-01T18:00:00",
          "2006-02-01T21:00:00",
          "2006-02-02T00:00:00",
          "2006-02-02T03:00:00",
          "2006-02-02T06:00:00",
          "2006-02-02T09:00:00",
          "2006-02-02T12:00:00",
          "2006-02-02T15:00:00",
          "2006-02-02T18:00:00",
          "2006-02-02T21:00:00",
          "2006-02-03T00:00:00",
          "2006-02-03T03:00:00",
          "2006-02-03T06:00:00",
          "2006-02-03T09:00:00",
          "2006-02-03T12:00:00",
          "2006-02-03T15:00:00",
          "2006-02-03T18:00:00",
          "2006-02-03T21:00:00",
          "2006-02-04T00:00:00",
          "2006-02-04T03:00:00",
          "2006-02-04T06:00:00",
          "2006-02-04T09:00:00",
          "2006-02-04T12:00:00",
          "2006-02-04T15:00:00",
          "2006-02-04T18:00:00",
          "2006-02-04T21:00:00",
          "2006-02-05T00:00:00",
          "2006-02-05T03:00:00",
          "2006-02-05T06:00:00",
          "2006-02-05T09:00:00",
          "2006-02-05T12:00:00",
          "2006-02-05T15:00:00",
          "2006-02-05T18:00:00",
          "2006-02-05T21:00:00",
          "2006-02-06T00:00:00",
          "2006-02-06T03:00:00",
          "2006-02-06T06:00:00",
          "2006-02-06T09:00:00",
          "2006-02-06T12:00:00",
          "2006-02-06T15:00:00",
          "2006-02-06T18:00:00",
          "2006-02-06T21:00:00",
          "2006-02-07T00:00:00",
          "2006-02-07T03:00:00",
          "2006-02-07T06:00:00",
          "2006-02-07T09:00:00",
          "2006-02-07T12:00:00",
          "2006-02-07T15:00:00",
          "2006-02-07T18:00:00",
          "2006-02-07T21:00:00",
          "2006-02-08T00:00:00",
          "2006-02-08T03:00:00",
          "2006-02-08T06:00:00",
          "2006-02-08T09:00:00",
          "2006-02-08T12:00:00",
          "2006-02-08T15:00:00",
          "2006-02-08T18:00:00",
          "2006-02-08T21:00:00",
          "2006-02-09T00:00:00",
          "2006-02-09T03:00:00",
          "2006-02-09T06:00:00",
          "2006-02-09T09:00:00",
          "2006-02-09T12:00:00",
          "2006-02-09T15:00:00",
          "2006-02-09T18:00:00",
          "2006-02-09T21:00:00",
          "2006-02-10T00:00:00",
          "2006-02-10T03:00:00",
          "2006-02-10T06:00:00",
          "2006-02-10T09:00:00",
          "2006-02-10T12:00:00",
          "2006-02-10T15:00:00",
          "2006-02-10T18:00:00",
          "2006-02-10T21:00:00",
          "2006-02-11T00:00:00",
          "2006-02-11T03:00:00",
          "2006-02-11T06:00:00",
          "2006-02-11T09:00:00",
          "2006-02-11T12:00:00",
          "2006-02-11T15:00:00",
          "2006-02-11T18:00:00",
          "2006-02-11T21:00:00",
          "2006-02-12T00:00:00",
          "2006-02-12T03:00:00",
          "2006-02-12T06:00:00",
          "2006-02-12T09:00:00",
          "2006-02-12T12:00:00",
          "2006-02-12T15:00:00",
          "2006-02-12T18:00:00",
          "2006-02-12T21:00:00",
          "2006-02-13T00:00:00",
          "2006-02-13T03:00:00",
          "2006-02-13T06:00:00",
          "2006-02-13T09:00:00",
          "2006-02-13T12:00:00",
          "2006-02-13T15:00:00",
          "2006-02-13T18:00:00",
          "2006-02-13T21:00:00",
          "2006-02-14T00:00:00",
          "2006-02-14T03:00:00",
          "2006-02-14T06:00:00",
          "2006-02-14T09:00:00",
          "2006-02-14T12:00:00",
          "2006-02-14T15:00:00",
          "2006-02-14T18:00:00",
          "2006-02-14T21:00:00",
          "2006-02-15T00:00:00",
          "2006-02-15T03:00:00",
          "2006-02-15T06:00:00",
          "2006-02-15T09:00:00",
          "2006-02-15T12:00:00",
          "2006-02-15T15:00:00",
          "2006-02-15T18:00:00",
          "2006-02-15T21:00:00",
          "2006-02-16T00:00:00",
          "2006-02-16T03:00:00",
          "2006-02-16T06:00:00",
          "2006-02-16T09:00:00",
          "2006-02-16T12:00:00",
          "2006-02-16T15:00:00",
          "2006-02-16T18:00:00",
          "2006-02-16T21:00:00",
          "2006-02-17T00:00:00",
          "2006-02-17T03:00:00",
          "2006-02-17T06:00:00",
          "2006-02-17T09:00:00",
          "2006-02-17T12:00:00",
          "2006-02-17T15:00:00",
          "2006-02-17T18:00:00",
          "2006-02-17T21:00:00",
          "2006-02-18T00:00:00",
          "2006-02-18T03:00:00",
          "2006-02-18T06:00:00",
          "2006-02-18T09:00:00",
          "2006-02-18T12:00:00",
          "2006-02-18T15:00:00",
          "2006-02-18T18:00:00",
          "2006-02-18T21:00:00",
          "2006-02-19T00:00:00",
          "2006-02-19T03:00:00",
          "2006-02-19T06:00:00",
          "2006-02-19T09:00:00",
          "2006-02-19T12:00:00",
          "2006-02-19T15:00:00",
          "2006-02-19T18:00:00",
          "2006-02-19T21:00:00",
          "2006-02-20T00:00:00",
          "2006-02-20T03:00:00",
          "2006-02-20T06:00:00",
          "2006-02-20T09:00:00",
          "2006-02-20T12:00:00",
          "2006-02-20T15:00:00",
          "2006-02-20T18:00:00",
          "2006-02-20T21:00:00",
          "2006-02-21T00:00:00",
          "2006-02-21T03:00:00",
          "2006-02-21T06:00:00",
          "2006-02-21T09:00:00",
          "2006-02-21T12:00:00",
          "2006-02-21T15:00:00",
          "2006-02-21T18:00:00",
          "2006-02-21T21:00:00",
          "2006-02-22T00:00:00",
          "2006-02-22T03:00:00",
          "2006-02-22T06:00:00",
          "2006-02-22T09:00:00",
          "2006-02-22T12:00:00",
          "2006-02-22T15:00:00",
          "2006-02-22T18:00:00",
          "2006-02-22T21:00:00",
          "2006-02-23T00:00:00",
          "2006-02-23T03:00:00",
          "2006-02-23T06:00:00",
          "2006-02-23T09:00:00",
          "2006-02-23T12:00:00",
          "2006-02-23T15:00:00",
          "2006-02-23T18:00:00",
          "2006-02-23T21:00:00",
          "2006-02-24T00:00:00",
          "2006-02-24T03:00:00",
          "2006-02-24T06:00:00",
          "2006-02-24T09:00:00",
          "2006-02-24T12:00:00",
          "2006-02-24T15:00:00",
          "2006-02-24T18:00:00",
          "2006-02-24T21:00:00",
          "2006-02-25T00:00:00",
          "2006-02-25T03:00:00",
          "2006-02-25T06:00:00",
          "2006-02-25T09:00:00",
          "2006-02-25T12:00:00",
          "2006-02-25T15:00:00",
          "2006-02-25T18:00:00",
          "2006-02-25T21:00:00",
          "2006-02-26T00:00:00",
          "2006-02-26T03:00:00",
          "2006-02-26T06:00:00",
          "2006-02-26T09:00:00",
          "2006-02-26T12:00:00",
          "2006-02-26T15:00:00",
          "2006-02-26T18:00:00",
          "2006-02-26T21:00:00",
          "2006-02-27T00:00:00",
          "2006-02-27T03:00:00",
          "2006-02-27T06:00:00",
          "2006-02-27T09:00:00",
          "2006-02-27T12:00:00",
          "2006-02-27T15:00:00",
          "2006-02-27T18:00:00",
          "2006-02-27T21:00:00",
          "2006-02-28T00:00:00",
          "2006-02-28T03:00:00",
          "2006-02-28T06:00:00",
          "2006-02-28T09:00:00",
          "2006-02-28T12:00:00",
          "2006-02-28T15:00:00",
          "2006-02-28T18:00:00",
          "2006-02-28T21:00:00",
          "2006-03-01T00:00:00",
          "2006-03-01T03:00:00",
          "2006-03-01T06:00:00",
          "2006-03-01T09:00:00",
          "2006-03-01T12:00:00",
          "2006-03-01T15:00:00",
          "2006-03-01T18:00:00",
          "2006-03-01T21:00:00",
          "2006-03-02T00:00:00",
          "2006-03-02T03:00:00",
          "2006-03-02T06:00:00",
          "2006-03-02T09:00:00",
          "2006-03-02T12:00:00",
          "2006-03-02T15:00:00",
          "2006-03-02T18:00:00",
          "2006-03-02T21:00:00",
          "2006-03-03T00:00:00",
          "2006-03-03T03:00:00",
          "2006-03-03T06:00:00",
          "2006-03-03T09:00:00",
          "2006-03-03T12:00:00",
          "2006-03-03T15:00:00",
          "2006-03-03T18:00:00",
          "2006-03-03T21:00:00",
          "2006-03-04T00:00:00",
          "2006-03-04T03:00:00",
          "2006-03-04T06:00:00",
          "2006-03-04T09:00:00",
          "2006-03-04T12:00:00",
          "2006-03-04T15:00:00",
          "2006-03-04T18:00:00",
          "2006-03-04T21:00:00",
          "2006-03-05T00:00:00",
          "2006-03-05T03:00:00",
          "2006-03-05T06:00:00",
          "2006-03-05T09:00:00",
          "2006-03-05T12:00:00",
          "2006-03-05T15:00:00",
          "2006-03-05T18:00:00",
          "2006-03-05T21:00:00",
          "2006-03-06T00:00:00",
          "2006-03-06T03:00:00",
          "2006-03-06T06:00:00",
          "2006-03-06T09:00:00",
          "2006-03-06T12:00:00",
          "2006-03-06T15:00:00",
          "2006-03-06T18:00:00",
          "2006-03-06T21:00:00",
          "2006-03-07T00:00:00",
          "2006-03-07T03:00:00",
          "2006-03-07T06:00:00",
          "2006-03-07T09:00:00",
          "2006-03-07T12:00:00",
          "2006-03-07T15:00:00",
          "2006-03-07T18:00:00",
          "2006-03-07T21:00:00",
          "2006-03-08T00:00:00",
          "2006-03-08T03:00:00",
          "2006-03-08T06:00:00",
          "2006-03-08T09:00:00",
          "2006-03-08T12:00:00",
          "2006-03-08T15:00:00",
          "2006-03-08T18:00:00",
          "2006-03-08T21:00:00",
          "2006-03-09T00:00:00",
          "2006-03-09T03:00:00",
          "2006-03-09T06:00:00",
          "2006-03-09T09:00:00",
          "2006-03-09T12:00:00",
          "2006-03-09T15:00:00",
          "2006-03-09T18:00:00",
          "2006-03-09T21:00:00",
          "2006-03-10T00:00:00",
          "2006-03-10T03:00:00",
          "2006-03-10T06:00:00",
          "2006-03-10T09:00:00",
          "2006-03-10T12:00:00",
          "2006-03-10T15:00:00",
          "2006-03-10T18:00:00",
          "2006-03-10T21:00:00",
          "2006-03-11T00:00:00",
          "2006-03-11T03:00:00",
          "2006-03-11T06:00:00",
          "2006-03-11T09:00:00",
          "2006-03-11T12:00:00",
          "2006-03-11T15:00:00",
          "2006-03-11T18:00:00",
          "2006-03-11T21:00:00",
          "2006-03-12T00:00:00",
          "2006-03-12T03:00:00",
          "2006-03-12T06:00:00",
          "2006-03-12T09:00:00",
          "2006-03-12T12:00:00",
          "2006-03-12T15:00:00",
          "2006-03-12T18:00:00",
          "2006-03-12T21:00:00",
          "2006-03-13T00:00:00",
          "2006-03-13T03:00:00",
          "2006-03-13T06:00:00",
          "2006-03-13T09:00:00",
          "2006-03-13T12:00:00",
          "2006-03-13T15:00:00",
          "2006-03-13T18:00:00",
          "2006-03-13T21:00:00",
          "2006-03-14T00:00:00",
          "2006-03-14T03:00:00",
          "2006-03-14T06:00:00",
          "2006-03-14T09:00:00",
          "2006-03-14T12:00:00",
          "2006-03-14T15:00:00",
          "2006-03-14T18:00:00",
          "2006-03-14T21:00:00",
          "2006-03-15T00:00:00",
          "2006-03-15T03:00:00",
          "2006-03-15T06:00:00",
          "2006-03-15T09:00:00",
          "2006-03-15T12:00:00",
          "2006-03-15T15:00:00",
          "2006-03-15T18:00:00",
          "2006-03-15T21:00:00",
          "2006-03-16T00:00:00",
          "2006-03-16T03:00:00",
          "2006-03-16T06:00:00",
          "2006-03-16T09:00:00",
          "2006-03-16T12:00:00",
          "2006-03-16T15:00:00",
          "2006-03-16T18:00:00",
          "2006-03-16T21:00:00",
          "2006-03-17T00:00:00",
          "2006-03-17T03:00:00",
          "2006-03-17T06:00:00",
          "2006-03-17T09:00:00",
          "2006-03-17T12:00:00",
          "2006-03-17T15:00:00",
          "2006-03-17T18:00:00",
          "2006-03-17T21:00:00",
          "2006-03-18T00:00:00",
          "2006-03-18T03:00:00",
          "2006-03-18T06:00:00",
          "2006-03-18T09:00:00",
          "2006-03-18T12:00:00",
          "2006-03-18T15:00:00",
          "2006-03-18T18:00:00",
          "2006-03-18T21:00:00",
          "2006-03-19T00:00:00",
          "2006-03-19T03:00:00",
          "2006-03-19T06:00:00",
          "2006-03-19T09:00:00",
          "2006-03-19T12:00:00",
          "2006-03-19T15:00:00",
          "2006-03-19T18:00:00",
          "2006-03-19T21:00:00",
          "2006-03-20T00:00:00",
          "2006-03-20T03:00:00",
          "2006-03-20T06:00:00",
          "2006-03-20T09:00:00",
          "2006-03-20T12:00:00",
          "2006-03-20T15:00:00",
          "2006-03-20T18:00:00",
          "2006-03-20T21:00:00",
          "2006-03-21T00:00:00",
          "2006-03-21T03:00:00",
          "2006-03-21T06:00:00",
          "2006-03-21T09:00:00",
          "2006-03-21T12:00:00",
          "2006-03-21T15:00:00",
          "2006-03-21T18:00:00",
          "2006-03-21T21:00:00",
          "2006-03-22T00:00:00",
          "2006-03-22T03:00:00",
          "2006-03-22T06:00:00",
          "2006-03-22T09:00:00",
          "2006-03-22T12:00:00",
          "2006-03-22T15:00:00",
          "2006-03-22T18:00:00",
          "2006-03-22T21:00:00",
          "2006-03-23T00:00:00",
          "2006-03-23T03:00:00",
          "2006-03-23T06:00:00",
          "2006-03-23T09:00:00",
          "2006-03-23T12:00:00",
          "2006-03-23T15:00:00",
          "2006-03-23T18:00:00",
          "2006-03-23T21:00:00",
          "2006-03-24T00:00:00",
          "2006-03-24T03:00:00",
          "2006-03-24T06:00:00",
          "2006-03-24T09:00:00",
          "2006-03-24T12:00:00",
          "2006-03-24T15:00:00",
          "2006-03-24T18:00:00",
          "2006-03-24T21:00:00",
          "2006-03-25T00:00:00",
          "2006-03-25T03:00:00",
          "2006-03-25T06:00:00",
          "2006-03-25T09:00:00",
          "2006-03-25T12:00:00",
          "2006-03-25T15:00:00",
          "2006-03-25T18:00:00",
          "2006-03-25T21:00:00",
          "2006-03-26T00:00:00",
          "2006-03-26T03:00:00",
          "2006-03-26T06:00:00",
          "2006-03-26T09:00:00",
          "2006-03-26T12:00:00",
          "2006-03-26T15:00:00",
          "2006-03-26T18:00:00",
          "2006-03-26T21:00:00",
          "2006-03-27T00:00:00",
          "2006-03-27T03:00:00",
          "2006-03-27T06:00:00",
          "2006-03-27T09:00:00",
          "2006-03-27T12:00:00",
          "2006-03-27T15:00:00",
          "2006-03-27T18:00:00",
          "2006-03-27T21:00:00",
          "2006-03-28T00:00:00",
          "2006-03-28T03:00:00",
          "2006-03-28T06:00:00",
          "2006-03-28T09:00:00",
          "2006-03-28T12:00:00",
          "2006-03-28T15:00:00",
          "2006-03-28T18:00:00",
          "2006-03-28T21:00:00",
          "2006-03-29T00:00:00",
          "2006-03-29T03:00:00",
          "2006-03-29T06:00:00",
          "2006-03-29T09:00:00",
          "2006-03-29T12:00:00",
          "2006-03-29T15:00:00",
          "2006-03-29T18:00:00",
          "2006-03-29T21:00:00",
          "2006-03-30T00:00:00",
          "2006-03-30T03:00:00",
          "2006-03-30T06:00:00",
          "2006-03-30T09:00:00",
          "2006-03-30T12:00:00",
          "2006-03-30T15:00:00",
          "2006-03-30T18:00:00",
          "2006-03-30T21:00:00",
          "2006-03-31T00:00:00",
          "2006-03-31T03:00:00",
          "2006-03-31T06:00:00",
          "2006-03-31T09:00:00",
          "2006-03-31T12:00:00",
          "2006-03-31T15:00:00",
          "2006-03-31T18:00:00",
          "2006-03-31T21:00:00",
          "2006-04-01T00:00:00",
          "2006-04-01T03:00:00",
          "2006-04-01T06:00:00",
          "2006-04-01T09:00:00",
          "2006-04-01T12:00:00",
          "2006-04-01T15:00:00",
          "2006-04-01T18:00:00",
          "2006-04-01T21:00:00",
          "2006-04-02T00:00:00",
          "2006-04-02T03:00:00",
          "2006-04-02T06:00:00",
          "2006-04-02T09:00:00",
          "2006-04-02T12:00:00",
          "2006-04-02T15:00:00",
          "2006-04-02T18:00:00",
          "2006-04-02T21:00:00",
          "2006-04-03T00:00:00",
          "2006-04-03T03:00:00",
          "2006-04-03T06:00:00",
          "2006-04-03T09:00:00",
          "2006-04-03T12:00:00",
          "2006-04-03T15:00:00",
          "2006-04-03T18:00:00",
          "2006-04-03T21:00:00",
          "2006-04-04T00:00:00",
          "2006-04-04T03:00:00",
          "2006-04-04T06:00:00",
          "2006-04-04T09:00:00",
          "2006-04-04T12:00:00",
          "2006-04-04T15:00:00",
          "2006-04-04T18:00:00",
          "2006-04-04T21:00:00",
          "2006-04-05T00:00:00",
          "2006-04-05T03:00:00",
          "2006-04-05T06:00:00",
          "2006-04-05T09:00:00",
          "2006-04-05T12:00:00",
          "2006-04-05T15:00:00",
          "2006-04-05T18:00:00",
          "2006-04-05T21:00:00",
          "2006-04-06T00:00:00",
          "2006-04-06T03:00:00",
          "2006-04-06T06:00:00",
          "2006-04-06T09:00:00",
          "2006-04-06T12:00:00",
          "2006-04-06T15:00:00",
          "2006-04-06T18:00:00",
          "2006-04-06T21:00:00",
          "2006-04-07T00:00:00",
          "2006-04-07T03:00:00",
          "2006-04-07T06:00:00",
          "2006-04-07T09:00:00",
          "2006-04-07T12:00:00",
          "2006-04-07T15:00:00",
          "2006-04-07T18:00:00",
          "2006-04-07T21:00:00",
          "2006-04-08T00:00:00",
          "2006-04-08T03:00:00",
          "2006-04-08T06:00:00",
          "2006-04-08T09:00:00",
          "2006-04-08T12:00:00",
          "2006-04-08T15:00:00",
          "2006-04-08T18:00:00",
          "2006-04-08T21:00:00",
          "2006-04-09T00:00:00",
          "2006-04-09T03:00:00",
          "2006-04-09T06:00:00",
          "2006-04-09T09:00:00",
          "2006-04-09T12:00:00",
          "2006-04-09T15:00:00",
          "2006-04-09T18:00:00",
          "2006-04-09T21:00:00",
          "2006-04-10T00:00:00",
          "2006-04-10T03:00:00",
          "2006-04-10T06:00:00",
          "2006-04-10T09:00:00",
          "2006-04-10T12:00:00",
          "2006-04-10T15:00:00",
          "2006-04-10T18:00:00",
          "2006-04-10T21:00:00",
          "2006-04-11T00:00:00",
          "2006-04-11T03:00:00",
          "2006-04-11T06:00:00",
          "2006-04-11T09:00:00",
          "2006-04-11T12:00:00",
          "2006-04-11T15:00:00",
          "2006-04-11T18:00:00",
          "2006-04-11T21:00:00",
          "2006-04-12T00:00:00",
          "2006-04-12T03:00:00",
          "2006-04-12T06:00:00",
          "2006-04-12T09:00:00",
          "2006-04-12T12:00:00",
          "2006-04-12T15:00:00",
          "2006-04-12T18:00:00",
          "2006-04-12T21:00:00",
          "2006-04-13T00:00:00",
          "2006-04-13T03:00:00",
          "2006-04-13T06:00:00",
          "2006-04-13T09:00:00",
          "2006-04-13T12:00:00",
          "2006-04-13T15:00:00",
          "2006-04-13T18:00:00",
          "2006-04-13T21:00:00",
          "2006-04-14T00:00:00",
          "2006-04-14T03:00:00",
          "2006-04-14T06:00:00",
          "2006-04-14T09:00:00",
          "2006-04-14T12:00:00",
          "2006-04-14T15:00:00",
          "2006-04-14T18:00:00",
          "2006-04-14T21:00:00",
          "2006-04-15T00:00:00",
          "2006-04-15T03:00:00",
          "2006-04-15T06:00:00",
          "2006-04-15T09:00:00",
          "2006-04-15T12:00:00",
          "2006-04-15T15:00:00",
          "2006-04-15T18:00:00",
          "2006-04-15T21:00:00",
          "2006-04-16T00:00:00",
          "2006-04-16T03:00:00",
          "2006-04-16T06:00:00",
          "2006-04-16T09:00:00",
          "2006-04-16T12:00:00",
          "2006-04-16T15:00:00",
          "2006-04-16T18:00:00",
          "2006-04-16T21:00:00",
          "2006-04-17T00:00:00",
          "2006-04-17T03:00:00",
          "2006-04-17T06:00:00",
          "2006-04-17T09:00:00",
          "2006-04-17T12:00:00",
          "2006-04-17T15:00:00",
          "2006-04-17T18:00:00",
          "2006-04-17T21:00:00",
          "2006-04-18T00:00:00",
          "2006-04-18T03:00:00",
          "2006-04-18T06:00:00",
          "2006-04-18T09:00:00",
          "2006-04-18T12:00:00",
          "2006-04-18T15:00:00",
          "2006-04-18T18:00:00",
          "2006-04-18T21:00:00",
          "2006-04-19T00:00:00",
          "2006-04-19T03:00:00",
          "2006-04-19T06:00:00",
          "2006-04-19T09:00:00",
          "2006-04-19T12:00:00",
          "2006-04-19T15:00:00",
          "2006-04-19T18:00:00",
          "2006-04-19T21:00:00",
          "2006-04-20T00:00:00",
          "2006-04-20T03:00:00",
          "2006-04-20T06:00:00",
          "2006-04-20T09:00:00",
          "2006-04-20T12:00:00",
          "2006-04-20T15:00:00",
          "2006-04-20T18:00:00",
          "2006-04-20T21:00:00",
          "2006-04-21T00:00:00",
          "2006-04-21T03:00:00",
          "2006-04-21T06:00:00",
          "2006-04-21T09:00:00",
          "2006-04-21T12:00:00",
          "2006-04-21T15:00:00",
          "2006-04-21T18:00:00",
          "2006-04-21T21:00:00",
          "2006-04-22T00:00:00",
          "2006-04-22T03:00:00",
          "2006-04-22T06:00:00",
          "2006-04-22T09:00:00",
          "2006-04-22T12:00:00",
          "2006-04-22T15:00:00",
          "2006-04-22T18:00:00",
          "2006-04-22T21:00:00",
          "2006-04-23T00:00:00",
          "2006-04-23T03:00:00",
          "2006-04-23T06:00:00",
          "2006-04-23T09:00:00",
          "2006-04-23T12:00:00",
          "2006-04-23T15:00:00",
          "2006-04-23T18:00:00",
          "2006-04-23T21:00:00",
          "2006-04-24T00:00:00",
          "2006-04-24T03:00:00",
          "2006-04-24T06:00:00",
          "2006-04-24T09:00:00",
          "2006-04-24T12:00:00",
          "2006-04-24T15:00:00",
          "2006-04-24T18:00:00",
          "2006-04-24T21:00:00",
          "2006-04-25T00:00:00",
          "2006-04-25T03:00:00",
          "2006-04-25T06:00:00",
          "2006-04-25T09:00:00",
          "2006-04-25T12:00:00",
          "2006-04-25T15:00:00",
          "2006-04-25T18:00:00",
          "2006-04-25T21:00:00",
          "2006-04-26T00:00:00",
          "2006-04-26T03:00:00",
          "2006-04-26T06:00:00",
          "2006-04-26T09:00:00",
          "2006-04-26T12:00:00",
          "2006-04-26T15:00:00",
          "2006-04-26T18:00:00",
          "2006-04-26T21:00:00",
          "2006-04-27T00:00:00",
          "2006-04-27T03:00:00",
          "2006-04-27T06:00:00",
          "2006-04-27T09:00:00",
          "2006-04-27T12:00:00",
          "2006-04-27T15:00:00",
          "2006-04-27T18:00:00",
          "2006-04-27T21:00:00",
          "2006-04-28T00:00:00",
          "2006-04-28T03:00:00",
          "2006-04-28T06:00:00",
          "2006-04-28T09:00:00",
          "2006-04-28T12:00:00",
          "2006-04-28T15:00:00",
          "2006-04-28T18:00:00",
          "2006-04-28T21:00:00",
          "2006-04-29T00:00:00",
          "2006-04-29T03:00:00",
          "2006-04-29T06:00:00",
          "2006-04-29T09:00:00",
          "2006-04-29T12:00:00",
          "2006-04-29T15:00:00",
          "2006-04-29T18:00:00",
          "2006-04-29T21:00:00",
          "2006-04-30T00:00:00",
          "2006-04-30T03:00:00",
          "2006-04-30T06:00:00",
          "2006-04-30T09:00:00",
          "2006-04-30T12:00:00",
          "2006-04-30T15:00:00",
          "2006-04-30T18:00:00",
          "2006-04-30T21:00:00",
          "2006-05-01T00:00:00",
          "2006-05-01T03:00:00",
          "2006-05-01T06:00:00",
          "2006-05-01T09:00:00",
          "2006-05-01T12:00:00",
          "2006-05-01T15:00:00",
          "2006-05-01T18:00:00",
          "2006-05-01T21:00:00",
          "2006-05-02T00:00:00",
          "2006-05-02T03:00:00",
          "2006-05-02T06:00:00",
          "2006-05-02T09:00:00",
          "2006-05-02T12:00:00",
          "2006-05-02T15:00:00",
          "2006-05-02T18:00:00",
          "2006-05-02T21:00:00",
          "2006-05-03T00:00:00",
          "2006-05-03T03:00:00",
          "2006-05-03T06:00:00",
          "2006-05-03T09:00:00",
          "2006-05-03T12:00:00",
          "2006-05-03T15:00:00",
          "2006-05-03T18:00:00",
          "2006-05-03T21:00:00",
          "2006-05-04T00:00:00",
          "2006-05-04T03:00:00",
          "2006-05-04T06:00:00",
          "2006-05-04T09:00:00",
          "2006-05-04T12:00:00",
          "2006-05-04T15:00:00",
          "2006-05-04T18:00:00",
          "2006-05-04T21:00:00",
          "2006-05-05T00:00:00",
          "2006-05-05T03:00:00",
          "2006-05-05T06:00:00",
          "2006-05-05T09:00:00",
          "2006-05-05T12:00:00",
          "2006-05-05T15:00:00",
          "2006-05-05T18:00:00",
          "2006-05-05T21:00:00",
          "2006-05-06T00:00:00",
          "2006-05-06T03:00:00",
          "2006-05-06T06:00:00",
          "2006-05-06T09:00:00",
          "2006-05-06T12:00:00",
          "2006-05-06T15:00:00",
          "2006-05-06T18:00:00",
          "2006-05-06T21:00:00",
          "2006-05-07T00:00:00",
          "2006-05-07T03:00:00",
          "2006-05-07T06:00:00",
          "2006-05-07T09:00:00",
          "2006-05-07T12:00:00",
          "2006-05-07T15:00:00",
          "2006-05-07T18:00:00",
          "2006-05-07T21:00:00",
          "2006-05-08T00:00:00",
          "2006-05-08T03:00:00",
          "2006-05-08T06:00:00",
          "2006-05-08T09:00:00",
          "2006-05-08T12:00:00",
          "2006-05-08T15:00:00",
          "2006-05-08T18:00:00",
          "2006-05-08T21:00:00",
          "2006-05-09T00:00:00",
          "2006-05-09T03:00:00",
          "2006-05-09T06:00:00",
          "2006-05-09T09:00:00",
          "2006-05-09T12:00:00",
          "2006-05-09T15:00:00",
          "2006-05-09T18:00:00",
          "2006-05-09T21:00:00",
          "2006-05-10T00:00:00",
          "2006-05-10T03:00:00",
          "2006-05-10T06:00:00",
          "2006-05-10T09:00:00",
          "2006-05-10T12:00:00",
          "2006-05-10T15:00:00",
          "2006-05-10T18:00:00",
          "2006-05-10T21:00:00",
          "2006-05-11T00:00:00",
          "2006-05-11T03:00:00",
          "2006-05-11T06:00:00",
          "2006-05-11T09:00:00",
          "2006-05-11T12:00:00",
          "2006-05-11T15:00:00",
          "2006-05-11T18:00:00",
          "2006-05-11T21:00:00",
          "2006-05-12T00:00:00",
          "2006-05-12T03:00:00",
          "2006-05-12T06:00:00",
          "2006-05-12T09:00:00",
          "2006-05-12T12:00:00",
          "2006-05-12T15:00:00",
          "2006-05-12T18:00:00",
          "2006-05-12T21:00:00",
          "2006-05-13T00:00:00",
          "2006-05-13T03:00:00",
          "2006-05-13T06:00:00",
          "2006-05-13T09:00:00",
          "2006-05-13T12:00:00",
          "2006-05-13T15:00:00",
          "2006-05-13T18:00:00",
          "2006-05-13T21:00:00",
          "2006-05-14T00:00:00",
          "2006-05-14T03:00:00",
          "2006-05-14T06:00:00",
          "2006-05-14T09:00:00",
          "2006-05-14T12:00:00",
          "2006-05-14T15:00:00",
          "2006-05-14T18:00:00",
          "2006-05-14T21:00:00",
          "2006-05-15T00:00:00",
          "2006-05-15T03:00:00",
          "2006-05-15T06:00:00",
          "2006-05-15T09:00:00",
          "2006-05-15T12:00:00",
          "2006-05-15T15:00:00",
          "2006-05-15T18:00:00",
          "2006-05-15T21:00:00",
          "2006-05-16T00:00:00",
          "2006-05-16T03:00:00",
          "2006-05-16T06:00:00",
          "2006-05-16T09:00:00",
          "2006-05-16T12:00:00",
          "2006-05-16T15:00:00",
          "2006-05-16T18:00:00",
          "2006-05-16T21:00:00",
          "2006-05-17T00:00:00",
          "2006-05-17T03:00:00",
          "2006-05-17T06:00:00",
          "2006-05-17T09:00:00",
          "2006-05-17T12:00:00",
          "2006-05-17T15:00:00",
          "2006-05-17T18:00:00",
          "2006-05-17T21:00:00",
          "2006-05-18T00:00:00",
          "2006-05-18T03:00:00",
          "2006-05-18T06:00:00",
          "2006-05-18T09:00:00",
          "2006-05-18T12:00:00",
          "2006-05-18T15:00:00",
          "2006-05-18T18:00:00",
          "2006-05-18T21:00:00",
          "2006-05-19T00:00:00",
          "2006-05-19T03:00:00",
          "2006-05-19T06:00:00",
          "2006-05-19T09:00:00",
          "2006-05-19T12:00:00",
          "2006-05-19T15:00:00",
          "2006-05-19T18:00:00",
          "2006-05-19T21:00:00",
          "2006-05-20T00:00:00",
          "2006-05-20T03:00:00",
          "2006-05-20T06:00:00",
          "2006-05-20T09:00:00",
          "2006-05-20T12:00:00",
          "2006-05-20T15:00:00",
          "2006-05-20T18:00:00",
          "2006-05-20T21:00:00",
          "2006-05-21T00:00:00",
          "2006-05-21T03:00:00",
          "2006-05-21T06:00:00",
          "2006-05-21T09:00:00",
          "2006-05-21T12:00:00",
          "2006-05-21T15:00:00",
          "2006-05-21T18:00:00",
          "2006-05-21T21:00:00",
          "2006-05-22T00:00:00",
          "2006-05-22T03:00:00",
          "2006-05-22T06:00:00",
          "2006-05-22T09:00:00",
          "2006-05-22T12:00:00",
          "2006-05-22T15:00:00",
          "2006-05-22T18:00:00",
          "2006-05-22T21:00:00",
          "2006-05-23T00:00:00",
          "2006-05-23T03:00:00",
          "2006-05-23T06:00:00",
          "2006-05-23T09:00:00",
          "2006-05-23T12:00:00",
          "2006-05-23T15:00:00",
          "2006-05-23T18:00:00",
          "2006-05-23T21:00:00",
          "2006-05-24T00:00:00",
          "2006-05-24T03:00:00",
          "2006-05-24T06:00:00",
          "2006-05-24T09:00:00",
          "2006-05-24T12:00:00",
          "2006-05-24T15:00:00",
          "2006-05-24T18:00:00",
          "2006-05-24T21:00:00",
          "2006-05-25T00:00:00",
          "2006-05-25T03:00:00",
          "2006-05-25T06:00:00",
          "2006-05-25T09:00:00",
          "2006-05-25T12:00:00",
          "2006-05-25T15:00:00",
          "2006-05-25T18:00:00",
          "2006-05-25T21:00:00",
          "2006-05-26T00:00:00",
          "2006-05-26T03:00:00",
          "2006-05-26T06:00:00",
          "2006-05-26T09:00:00",
          "2006-05-26T12:00:00",
          "2006-05-26T15:00:00",
          "2006-05-26T18:00:00",
          "2006-05-26T21:00:00",
          "2006-05-27T00:00:00",
          "2006-05-27T03:00:00",
          "2006-05-27T06:00:00",
          "2006-05-27T09:00:00",
          "2006-05-27T12:00:00",
          "2006-05-27T15:00:00",
          "2006-05-27T18:00:00",
          "2006-05-27T21:00:00",
          "2006-05-28T00:00:00",
          "2006-05-28T03:00:00",
          "2006-05-28T06:00:00",
          "2006-05-28T09:00:00",
          "2006-05-28T12:00:00",
          "2006-05-28T15:00:00",
          "2006-05-28T18:00:00",
          "2006-05-28T21:00:00",
          "2006-05-29T00:00:00",
          "2006-05-29T03:00:00",
          "2006-05-29T06:00:00",
          "2006-05-29T09:00:00",
          "2006-05-29T12:00:00",
          "2006-05-29T15:00:00",
          "2006-05-29T18:00:00",
          "2006-05-29T21:00:00",
          "2006-05-30T00:00:00",
          "2006-05-30T03:00:00",
          "2006-05-30T06:00:00",
          "2006-05-30T09:00:00",
          "2006-05-30T12:00:00",
          "2006-05-30T15:00:00",
          "2006-05-30T18:00:00",
          "2006-05-30T21:00:00",
          "2006-05-31T00:00:00",
          "2006-05-31T03:00:00",
          "2006-05-31T06:00:00",
          "2006-05-31T09:00:00",
          "2006-05-31T12:00:00",
          "2006-05-31T15:00:00",
          "2006-05-31T18:00:00",
          "2006-05-31T21:00:00",
          "2006-06-01T00:00:00",
          "2006-06-01T03:00:00",
          "2006-06-01T06:00:00",
          "2006-06-01T09:00:00",
          "2006-06-01T12:00:00",
          "2006-06-01T15:00:00",
          "2006-06-01T18:00:00",
          "2006-06-01T21:00:00",
          "2006-06-02T00:00:00",
          "2006-06-02T03:00:00",
          "2006-06-02T06:00:00",
          "2006-06-02T09:00:00",
          "2006-06-02T12:00:00",
          "2006-06-02T15:00:00",
          "2006-06-02T18:00:00",
          "2006-06-02T21:00:00",
          "2006-06-03T00:00:00",
          "2006-06-03T03:00:00",
          "2006-06-03T06:00:00",
          "2006-06-03T09:00:00",
          "2006-06-03T12:00:00",
          "2006-06-03T15:00:00",
          "2006-06-03T18:00:00",
          "2006-06-03T21:00:00",
          "2006-06-04T00:00:00",
          "2006-06-04T03:00:00",
          "2006-06-04T06:00:00",
          "2006-06-04T09:00:00",
          "2006-06-04T12:00:00",
          "2006-06-04T15:00:00",
          "2006-06-04T18:00:00",
          "2006-06-04T21:00:00",
          "2006-06-05T00:00:00",
          "2006-06-05T03:00:00",
          "2006-06-05T06:00:00",
          "2006-06-05T09:00:00",
          "2006-06-05T12:00:00",
          "2006-06-05T15:00:00",
          "2006-06-05T18:00:00",
          "2006-06-05T21:00:00",
          "2006-06-06T00:00:00",
          "2006-06-06T03:00:00",
          "2006-06-06T06:00:00",
          "2006-06-06T09:00:00",
          "2006-06-06T12:00:00",
          "2006-06-06T15:00:00",
          "2006-06-06T18:00:00",
          "2006-06-06T21:00:00",
          "2006-06-07T00:00:00",
          "2006-06-07T03:00:00",
          "2006-06-07T06:00:00",
          "2006-06-07T09:00:00",
          "2006-06-07T12:00:00",
          "2006-06-07T15:00:00",
          "2006-06-07T18:00:00",
          "2006-06-07T21:00:00",
          "2006-06-08T00:00:00",
          "2006-06-08T03:00:00",
          "2006-06-08T06:00:00",
          "2006-06-08T09:00:00",
          "2006-06-08T12:00:00",
          "2006-06-08T15:00:00",
          "2006-06-08T18:00:00",
          "2006-06-08T21:00:00",
          "2006-06-09T00:00:00",
          "2006-06-09T03:00:00",
          "2006-06-09T06:00:00",
          "2006-06-09T09:00:00",
          "2006-06-09T12:00:00",
          "2006-06-09T15:00:00",
          "2006-06-09T18:00:00",
          "2006-06-09T21:00:00",
          "2006-06-10T00:00:00",
          "2006-06-10T03:00:00",
          "2006-06-10T06:00:00",
          "2006-06-10T09:00:00",
          "2006-06-10T12:00:00",
          "2006-06-10T15:00:00",
          "2006-06-10T18:00:00",
          "2006-06-10T21:00:00",
          "2006-06-11T00:00:00",
          "2006-06-11T03:00:00",
          "2006-06-11T06:00:00",
          "2006-06-11T09:00:00",
          "2006-06-11T12:00:00",
          "2006-06-11T15:00:00",
          "2006-06-11T18:00:00",
          "2006-06-11T21:00:00",
          "2006-06-12T00:00:00",
          "2006-06-12T03:00:00",
          "2006-06-12T06:00:00",
          "2006-06-12T09:00:00",
          "2006-06-12T12:00:00",
          "2006-06-12T15:00:00",
          "2006-06-12T18:00:00",
          "2006-06-12T21:00:00",
          "2006-06-13T00:00:00",
          "2006-06-13T03:00:00",
          "2006-06-13T06:00:00",
          "2006-06-13T09:00:00",
          "2006-06-13T12:00:00",
          "2006-06-13T15:00:00",
          "2006-06-13T18:00:00",
          "2006-06-13T21:00:00",
          "2006-06-14T00:00:00",
          "2006-06-14T03:00:00",
          "2006-06-14T06:00:00",
          "2006-06-14T09:00:00",
          "2006-06-14T12:00:00",
          "2006-06-14T15:00:00",
          "2006-06-14T18:00:00",
          "2006-06-14T21:00:00",
          "2006-06-15T00:00:00",
          "2006-06-15T03:00:00",
          "2006-06-15T06:00:00",
          "2006-06-15T09:00:00",
          "2006-06-15T12:00:00",
          "2006-06-15T15:00:00",
          "2006-06-15T18:00:00",
          "2006-06-15T21:00:00",
          "2006-06-16T00:00:00",
          "2006-06-16T03:00:00",
          "2006-06-16T06:00:00",
          "2006-06-16T09:00:00",
          "2006-06-16T12:00:00",
          "2006-06-16T15:00:00",
          "2006-06-16T18:00:00",
          "2006-06-16T21:00:00",
          "2006-06-17T00:00:00",
          "2006-06-17T03:00:00",
          "2006-06-17T06:00:00",
          "2006-06-17T09:00:00",
          "2006-06-17T12:00:00",
          "2006-06-17T15:00:00",
          "2006-06-17T18:00:00",
          "2006-06-17T21:00:00",
          "2006-06-18T00:00:00",
          "2006-06-18T03:00:00",
          "2006-06-18T06:00:00",
          "2006-06-18T09:00:00",
          "2006-06-18T12:00:00",
          "2006-06-18T15:00:00",
          "2006-06-18T18:00:00",
          "2006-06-18T21:00:00",
          "2006-06-19T00:00:00",
          "2006-06-19T03:00:00",
          "2006-06-19T06:00:00",
          "2006-06-19T09:00:00",
          "2006-06-19T12:00:00",
          "2006-06-19T15:00:00",
          "2006-06-19T18:00:00",
          "2006-06-19T21:00:00",
          "2006-06-20T00:00:00",
          "2006-06-20T03:00:00",
          "2006-06-20T06:00:00",
          "2006-06-20T09:00:00",
          "2006-06-20T12:00:00",
          "2006-06-20T15:00:00",
          "2006-06-20T18:00:00",
          "2006-06-20T21:00:00",
          "2006-06-21T00:00:00",
          "2006-06-21T03:00:00",
          "2006-06-21T06:00:00",
          "2006-06-21T09:00:00",
          "2006-06-21T12:00:00",
          "2006-06-21T15:00:00",
          "2006-06-21T18:00:00",
          "2006-06-21T21:00:00",
          "2006-06-22T00:00:00",
          "2006-06-22T03:00:00",
          "2006-06-22T06:00:00",
          "2006-06-22T09:00:00",
          "2006-06-22T12:00:00",
          "2006-06-22T15:00:00",
          "2006-06-22T18:00:00",
          "2006-06-22T21:00:00",
          "2006-06-23T00:00:00",
          "2006-06-23T03:00:00",
          "2006-06-23T06:00:00",
          "2006-06-23T09:00:00",
          "2006-06-23T12:00:00",
          "2006-06-23T15:00:00",
          "2006-06-23T18:00:00",
          "2006-06-23T21:00:00",
          "2006-06-24T00:00:00",
          "2006-06-24T03:00:00",
          "2006-06-24T06:00:00",
          "2006-06-24T09:00:00",
          "2006-06-24T12:00:00",
          "2006-06-24T15:00:00",
          "2006-06-24T18:00:00",
          "2006-06-24T21:00:00",
          "2006-06-25T00:00:00",
          "2006-06-25T03:00:00",
          "2006-06-25T06:00:00",
          "2006-06-25T09:00:00",
          "2006-06-25T12:00:00",
          "2006-06-25T15:00:00",
          "2006-06-25T18:00:00",
          "2006-06-25T21:00:00",
          "2006-06-26T00:00:00",
          "2006-06-26T03:00:00",
          "2006-06-26T06:00:00",
          "2006-06-26T09:00:00",
          "2006-06-26T12:00:00",
          "2006-06-26T15:00:00",
          "2006-06-26T18:00:00",
          "2006-06-26T21:00:00",
          "2006-06-27T00:00:00",
          "2006-06-27T03:00:00",
          "2006-06-27T06:00:00",
          "2006-06-27T09:00:00",
          "2006-06-27T12:00:00",
          "2006-06-27T15:00:00",
          "2006-06-27T18:00:00",
          "2006-06-27T21:00:00",
          "2006-06-28T00:00:00",
          "2006-06-28T03:00:00",
          "2006-06-28T06:00:00",
          "2006-06-28T09:00:00",
          "2006-06-28T12:00:00",
          "2006-06-28T15:00:00",
          "2006-06-28T18:00:00",
          "2006-06-28T21:00:00",
          "2006-06-29T00:00:00",
          "2006-06-29T03:00:00",
          "2006-06-29T06:00:00",
          "2006-06-29T09:00:00",
          "2006-06-29T12:00:00",
          "2006-06-29T15:00:00",
          "2006-06-29T18:00:00",
          "2006-06-29T21:00:00",
          "2006-06-30T00:00:00",
          "2006-06-30T03:00:00",
          "2006-06-30T06:00:00",
          "2006-06-30T09:00:00",
          "2006-06-30T12:00:00",
          "2006-06-30T15:00:00",
          "2006-06-30T18:00:00",
          "2006-06-30T21:00:00",
          "2006-07-01T00:00:00",
          "2006-07-01T03:00:00",
          "2006-07-01T06:00:00",
          "2006-07-01T09:00:00",
          "2006-07-01T12:00:00",
          "2006-07-01T15:00:00",
          "2006-07-01T18:00:00",
          "2006-07-01T21:00:00",
          "2006-07-02T00:00:00",
          "2006-07-02T03:00:00",
          "2006-07-02T06:00:00",
          "2006-07-02T09:00:00",
          "2006-07-02T12:00:00",
          "2006-07-02T15:00:00",
          "2006-07-02T18:00:00",
          "2006-07-02T21:00:00",
          "2006-07-03T00:00:00",
          "2006-07-03T03:00:00",
          "2006-07-03T06:00:00",
          "2006-07-03T09:00:00",
          "2006-07-03T12:00:00",
          "2006-07-03T15:00:00",
          "2006-07-03T18:00:00",
          "2006-07-03T21:00:00",
          "2006-07-04T00:00:00",
          "2006-07-04T03:00:00",
          "2006-07-04T06:00:00",
          "2006-07-04T09:00:00",
          "2006-07-04T12:00:00",
          "2006-07-04T15:00:00",
          "2006-07-04T18:00:00",
          "2006-07-04T21:00:00",
          "2006-07-05T00:00:00",
          "2006-07-05T03:00:00",
          "2006-07-05T06:00:00",
          "2006-07-05T09:00:00",
          "2006-07-05T12:00:00",
          "2006-07-05T15:00:00",
          "2006-07-05T18:00:00",
          "2006-07-05T21:00:00",
          "2006-07-06T00:00:00",
          "2006-07-06T03:00:00",
          "2006-07-06T06:00:00",
          "2006-07-06T09:00:00",
          "2006-07-06T12:00:00",
          "2006-07-06T15:00:00",
          "2006-07-06T18:00:00",
          "2006-07-06T21:00:00",
          "2006-07-07T00:00:00",
          "2006-07-07T03:00:00",
          "2006-07-07T06:00:00",
          "2006-07-07T09:00:00",
          "2006-07-07T12:00:00",
          "2006-07-07T15:00:00",
          "2006-07-07T18:00:00",
          "2006-07-07T21:00:00",
          "2006-07-08T00:00:00",
          "2006-07-08T03:00:00",
          "2006-07-08T06:00:00",
          "2006-07-08T09:00:00",
          "2006-07-08T12:00:00",
          "2006-07-08T15:00:00",
          "2006-07-08T18:00:00",
          "2006-07-08T21:00:00",
          "2006-07-09T00:00:00",
          "2006-07-09T03:00:00",
          "2006-07-09T06:00:00",
          "2006-07-09T09:00:00",
          "2006-07-09T12:00:00",
          "2006-07-09T15:00:00",
          "2006-07-09T18:00:00",
          "2006-07-09T21:00:00",
          "2006-07-10T00:00:00",
          "2006-07-10T03:00:00",
          "2006-07-10T06:00:00",
          "2006-07-10T09:00:00",
          "2006-07-10T12:00:00",
          "2006-07-10T15:00:00",
          "2006-07-10T18:00:00",
          "2006-07-10T21:00:00",
          "2006-07-11T00:00:00",
          "2006-07-11T03:00:00",
          "2006-07-11T06:00:00",
          "2006-07-11T09:00:00",
          "2006-07-11T12:00:00",
          "2006-07-11T15:00:00",
          "2006-07-11T18:00:00",
          "2006-07-11T21:00:00",
          "2006-07-12T00:00:00",
          "2006-07-12T03:00:00",
          "2006-07-12T06:00:00",
          "2006-07-12T09:00:00",
          "2006-07-12T12:00:00",
          "2006-07-12T15:00:00",
          "2006-07-12T18:00:00",
          "2006-07-12T21:00:00",
          "2006-07-13T00:00:00",
          "2006-07-13T03:00:00",
          "2006-07-13T06:00:00",
          "2006-07-13T09:00:00",
          "2006-07-13T12:00:00",
          "2006-07-13T15:00:00",
          "2006-07-13T18:00:00",
          "2006-07-13T21:00:00",
          "2006-07-14T00:00:00",
          "2006-07-14T03:00:00",
          "2006-07-14T06:00:00",
          "2006-07-14T09:00:00",
          "2006-07-14T12:00:00",
          "2006-07-14T15:00:00",
          "2006-07-14T18:00:00",
          "2006-07-14T21:00:00",
          "2006-07-15T00:00:00",
          "2006-07-15T03:00:00",
          "2006-07-15T06:00:00",
          "2006-07-15T09:00:00",
          "2006-07-15T12:00:00",
          "2006-07-15T15:00:00",
          "2006-07-15T18:00:00",
          "2006-07-15T21:00:00",
          "2006-07-16T00:00:00",
          "2006-07-16T03:00:00",
          "2006-07-16T06:00:00",
          "2006-07-16T09:00:00",
          "2006-07-16T12:00:00",
          "2006-07-16T15:00:00",
          "2006-07-16T18:00:00",
          "2006-07-16T21:00:00",
          "2006-07-17T00:00:00",
          "2006-07-17T03:00:00",
          "2006-07-17T06:00:00",
          "2006-07-17T09:00:00",
          "2006-07-17T12:00:00",
          "2006-07-17T15:00:00",
          "2006-07-17T18:00:00",
          "2006-07-17T21:00:00",
          "2006-07-18T00:00:00",
          "2006-07-18T03:00:00",
          "2006-07-18T06:00:00",
          "2006-07-18T09:00:00",
          "2006-07-18T12:00:00",
          "2006-07-18T15:00:00",
          "2006-07-18T18:00:00",
          "2006-07-18T21:00:00",
          "2006-07-19T00:00:00",
          "2006-07-19T03:00:00",
          "2006-07-19T06:00:00",
          "2006-07-19T09:00:00",
          "2006-07-19T12:00:00",
          "2006-07-19T15:00:00",
          "2006-07-19T18:00:00",
          "2006-07-19T21:00:00",
          "2006-07-20T00:00:00",
          "2006-07-20T03:00:00",
          "2006-07-20T06:00:00",
          "2006-07-20T09:00:00",
          "2006-07-20T12:00:00",
          "2006-07-20T15:00:00",
          "2006-07-20T18:00:00",
          "2006-07-20T21:00:00",
          "2006-07-21T00:00:00",
          "2006-07-21T03:00:00",
          "2006-07-21T06:00:00",
          "2006-07-21T09:00:00",
          "2006-07-21T12:00:00",
          "2006-07-21T15:00:00",
          "2006-07-21T18:00:00",
          "2006-07-21T21:00:00",
          "2006-07-22T00:00:00",
          "2006-07-22T03:00:00",
          "2006-07-22T06:00:00",
          "2006-07-22T09:00:00",
          "2006-07-22T12:00:00",
          "2006-07-22T15:00:00",
          "2006-07-22T18:00:00",
          "2006-07-22T21:00:00",
          "2006-07-23T00:00:00",
          "2006-07-23T03:00:00",
          "2006-07-23T06:00:00",
          "2006-07-23T09:00:00",
          "2006-07-23T12:00:00",
          "2006-07-23T15:00:00",
          "2006-07-23T18:00:00",
          "2006-07-23T21:00:00",
          "2006-07-24T00:00:00",
          "2006-07-24T03:00:00",
          "2006-07-24T06:00:00",
          "2006-07-24T09:00:00",
          "2006-07-24T12:00:00",
          "2006-07-24T15:00:00",
          "2006-07-24T18:00:00",
          "2006-07-24T21:00:00",
          "2006-07-25T00:00:00",
          "2006-07-25T03:00:00",
          "2006-07-25T06:00:00",
          "2006-07-25T09:00:00",
          "2006-07-25T12:00:00",
          "2006-07-25T15:00:00",
          "2006-07-25T18:00:00",
          "2006-07-25T21:00:00",
          "2006-07-26T00:00:00",
          "2006-07-26T03:00:00",
          "2006-07-26T06:00:00",
          "2006-07-26T09:00:00",
          "2006-07-26T12:00:00",
          "2006-07-26T15:00:00",
          "2006-07-26T18:00:00",
          "2006-07-26T21:00:00",
          "2006-07-27T00:00:00",
          "2006-07-27T03:00:00",
          "2006-07-27T06:00:00",
          "2006-07-27T09:00:00",
          "2006-07-27T12:00:00",
          "2006-07-27T15:00:00",
          "2006-07-27T18:00:00",
          "2006-07-27T21:00:00",
          "2006-07-28T00:00:00",
          "2006-07-28T03:00:00",
          "2006-07-28T06:00:00",
          "2006-07-28T09:00:00",
          "2006-07-28T12:00:00",
          "2006-07-28T15:00:00",
          "2006-07-28T18:00:00",
          "2006-07-28T21:00:00",
          "2006-07-29T00:00:00",
          "2006-07-29T03:00:00",
          "2006-07-29T06:00:00",
          "2006-07-29T09:00:00",
          "2006-07-29T12:00:00",
          "2006-07-29T15:00:00",
          "2006-07-29T18:00:00",
          "2006-07-29T21:00:00",
          "2006-07-30T00:00:00",
          "2006-07-30T03:00:00",
          "2006-07-30T06:00:00",
          "2006-07-30T09:00:00",
          "2006-07-30T12:00:00",
          "2006-07-30T15:00:00",
          "2006-07-30T18:00:00",
          "2006-07-30T21:00:00",
          "2006-07-31T00:00:00",
          "2006-07-31T03:00:00",
          "2006-07-31T06:00:00",
          "2006-07-31T09:00:00",
          "2006-07-31T12:00:00",
          "2006-07-31T15:00:00",
          "2006-07-31T18:00:00",
          "2006-07-31T21:00:00",
          "2006-08-01T00:00:00",
          "2006-08-01T03:00:00",
          "2006-08-01T06:00:00",
          "2006-08-01T09:00:00",
          "2006-08-01T12:00:00",
          "2006-08-01T15:00:00",
          "2006-08-01T18:00:00",
          "2006-08-01T21:00:00",
          "2006-08-02T00:00:00",
          "2006-08-02T03:00:00",
          "2006-08-02T06:00:00",
          "2006-08-02T09:00:00",
          "2006-08-02T12:00:00",
          "2006-08-02T15:00:00",
          "2006-08-02T18:00:00",
          "2006-08-02T21:00:00",
          "2006-08-03T00:00:00",
          "2006-08-03T03:00:00",
          "2006-08-03T06:00:00",
          "2006-08-03T09:00:00",
          "2006-08-03T12:00:00",
          "2006-08-03T15:00:00",
          "2006-08-03T18:00:00",
          "2006-08-03T21:00:00",
          "2006-08-04T00:00:00",
          "2006-08-04T03:00:00",
          "2006-08-04T06:00:00",
          "2006-08-04T09:00:00",
          "2006-08-04T12:00:00",
          "2006-08-04T15:00:00",
          "2006-08-04T18:00:00",
          "2006-08-04T21:00:00",
          "2006-08-05T00:00:00",
          "2006-08-05T03:00:00",
          "2006-08-05T06:00:00",
          "2006-08-05T09:00:00",
          "2006-08-05T12:00:00",
          "2006-08-05T15:00:00",
          "2006-08-05T18:00:00",
          "2006-08-05T21:00:00",
          "2006-08-06T00:00:00",
          "2006-08-06T03:00:00",
          "2006-08-06T06:00:00",
          "2006-08-06T09:00:00",
          "2006-08-06T12:00:00",
          "2006-08-06T15:00:00",
          "2006-08-06T18:00:00",
          "2006-08-06T21:00:00",
          "2006-08-07T00:00:00",
          "2006-08-07T03:00:00",
          "2006-08-07T06:00:00",
          "2006-08-07T09:00:00",
          "2006-08-07T12:00:00",
          "2006-08-07T15:00:00",
          "2006-08-07T18:00:00",
          "2006-08-07T21:00:00",
          "2006-08-08T00:00:00",
          "2006-08-08T03:00:00",
          "2006-08-08T06:00:00",
          "2006-08-08T09:00:00",
          "2006-08-08T12:00:00",
          "2006-08-08T15:00:00",
          "2006-08-08T18:00:00",
          "2006-08-08T21:00:00",
          "2006-08-09T00:00:00",
          "2006-08-09T03:00:00",
          "2006-08-09T06:00:00",
          "2006-08-09T09:00:00",
          "2006-08-09T12:00:00",
          "2006-08-09T15:00:00",
          "2006-08-09T18:00:00",
          "2006-08-09T21:00:00",
          "2006-08-10T00:00:00",
          "2006-08-10T03:00:00",
          "2006-08-10T06:00:00",
          "2006-08-10T09:00:00",
          "2006-08-10T12:00:00",
          "2006-08-10T15:00:00",
          "2006-08-10T18:00:00",
          "2006-08-10T21:00:00",
          "2006-08-11T00:00:00",
          "2006-08-11T03:00:00",
          "2006-08-11T06:00:00",
          "2006-08-11T09:00:00",
          "2006-08-11T12:00:00",
          "2006-08-11T15:00:00",
          "2006-08-11T18:00:00",
          "2006-08-11T21:00:00",
          "2006-08-12T00:00:00",
          "2006-08-12T03:00:00",
          "2006-08-12T06:00:00",
          "2006-08-12T09:00:00",
          "2006-08-12T12:00:00",
          "2006-08-12T15:00:00",
          "2006-08-12T18:00:00",
          "2006-08-12T21:00:00",
          "2006-08-13T00:00:00",
          "2006-08-13T03:00:00",
          "2006-08-13T06:00:00",
          "2006-08-13T09:00:00",
          "2006-08-13T12:00:00",
          "2006-08-13T15:00:00",
          "2006-08-13T18:00:00",
          "2006-08-13T21:00:00",
          "2006-08-14T00:00:00",
          "2006-08-14T03:00:00",
          "2006-08-14T06:00:00",
          "2006-08-14T09:00:00",
          "2006-08-14T12:00:00",
          "2006-08-14T15:00:00",
          "2006-08-14T18:00:00",
          "2006-08-14T21:00:00",
          "2006-08-15T00:00:00",
          "2006-08-15T03:00:00",
          "2006-08-15T06:00:00",
          "2006-08-15T09:00:00",
          "2006-08-15T12:00:00",
          "2006-08-15T15:00:00",
          "2006-08-15T18:00:00",
          "2006-08-15T21:00:00",
          "2006-08-16T00:00:00",
          "2006-08-16T03:00:00",
          "2006-08-16T06:00:00",
          "2006-08-16T09:00:00",
          "2006-08-16T12:00:00",
          "2006-08-16T15:00:00",
          "2006-08-16T18:00:00",
          "2006-08-16T21:00:00",
          "2006-08-17T00:00:00",
          "2006-08-17T03:00:00",
          "2006-08-17T06:00:00",
          "2006-08-17T09:00:00",
          "2006-08-17T12:00:00",
          "2006-08-17T15:00:00",
          "2006-08-17T18:00:00",
          "2006-08-17T21:00:00",
          "2006-08-18T00:00:00",
          "2006-08-18T03:00:00",
          "2006-08-18T06:00:00",
          "2006-08-18T09:00:00",
          "2006-08-18T12:00:00",
          "2006-08-18T15:00:00",
          "2006-08-18T18:00:00",
          "2006-08-18T21:00:00",
          "2006-08-19T00:00:00",
          "2006-08-19T03:00:00",
          "2006-08-19T06:00:00",
          "2006-08-19T09:00:00",
          "2006-08-19T12:00:00",
          "2006-08-19T15:00:00",
          "2006-08-19T18:00:00",
          "2006-08-19T21:00:00",
          "2006-08-20T00:00:00",
          "2006-08-20T03:00:00",
          "2006-08-20T06:00:00",
          "2006-08-20T09:00:00",
          "2006-08-20T12:00:00",
          "2006-08-20T15:00:00",
          "2006-08-20T18:00:00",
          "2006-08-20T21:00:00",
          "2006-08-21T00:00:00",
          "2006-08-21T03:00:00",
          "2006-08-21T06:00:00",
          "2006-08-21T09:00:00",
          "2006-08-21T12:00:00",
          "2006-08-21T15:00:00",
          "2006-08-21T18:00:00",
          "2006-08-21T21:00:00",
          "2006-08-22T00:00:00",
          "2006-08-22T03:00:00",
          "2006-08-22T06:00:00",
          "2006-08-22T09:00:00",
          "2006-08-22T12:00:00",
          "2006-08-22T15:00:00",
          "2006-08-22T18:00:00",
          "2006-08-22T21:00:00",
          "2006-08-23T00:00:00",
          "2006-08-23T03:00:00",
          "2006-08-23T06:00:00",
          "2006-08-23T09:00:00",
          "2006-08-23T12:00:00",
          "2006-08-23T15:00:00",
          "2006-08-23T18:00:00",
          "2006-08-23T21:00:00",
          "2006-08-24T00:00:00",
          "2006-08-24T03:00:00",
          "2006-08-24T06:00:00",
          "2006-08-24T09:00:00",
          "2006-08-24T12:00:00",
          "2006-08-24T15:00:00",
          "2006-08-24T18:00:00",
          "2006-08-24T21:00:00",
          "2006-08-25T00:00:00",
          "2006-08-25T03:00:00",
          "2006-08-25T06:00:00",
          "2006-08-25T09:00:00",
          "2006-08-25T12:00:00",
          "2006-08-25T15:00:00",
          "2006-08-25T18:00:00",
          "2006-08-25T21:00:00",
          "2006-08-26T00:00:00",
          "2006-08-26T03:00:00",
          "2006-08-26T06:00:00",
          "2006-08-26T09:00:00",
          "2006-08-26T12:00:00",
          "2006-08-26T15:00:00",
          "2006-08-26T18:00:00",
          "2006-08-26T21:00:00",
          "2006-08-27T00:00:00",
          "2006-08-27T03:00:00",
          "2006-08-27T06:00:00",
          "2006-08-27T09:00:00",
          "2006-08-27T12:00:00",
          "2006-08-27T15:00:00",
          "2006-08-27T18:00:00",
          "2006-08-27T21:00:00",
          "2006-08-28T00:00:00",
          "2006-08-28T03:00:00",
          "2006-08-28T06:00:00",
          "2006-08-28T09:00:00",
          "2006-08-28T12:00:00",
          "2006-08-28T15:00:00",
          "2006-08-28T18:00:00",
          "2006-08-28T21:00:00",
          "2006-08-29T00:00:00",
          "2006-08-29T03:00:00",
          "2006-08-29T06:00:00",
          "2006-08-29T09:00:00",
          "2006-08-29T12:00:00",
          "2006-08-29T15:00:00",
          "2006-08-29T18:00:00",
          "2006-08-29T21:00:00",
          "2006-08-30T00:00:00",
          "2006-08-30T03:00:00",
          "2006-08-30T06:00:00",
          "2006-08-30T09:00:00",
          "2006-08-30T12:00:00",
          "2006-08-30T15:00:00",
          "2006-08-30T18:00:00",
          "2006-08-30T21:00:00",
          "2006-08-31T00:00:00",
          "2006-08-31T03:00:00",
          "2006-08-31T06:00:00",
          "2006-08-31T09:00:00",
          "2006-08-31T12:00:00",
          "2006-08-31T15:00:00",
          "2006-08-31T18:00:00",
          "2006-08-31T21:00:00",
          "2006-09-01T00:00:00",
          "2006-09-01T03:00:00",
          "2006-09-01T06:00:00",
          "2006-09-01T09:00:00",
          "2006-09-01T12:00:00",
          "2006-09-01T15:00:00",
          "2006-09-01T18:00:00",
          "2006-09-01T21:00:00",
          "2006-09-02T00:00:00",
          "2006-09-02T03:00:00",
          "2006-09-02T06:00:00",
          "2006-09-02T09:00:00",
          "2006-09-02T12:00:00",
          "2006-09-02T15:00:00",
          "2006-09-02T18:00:00",
          "2006-09-02T21:00:00",
          "2006-09-03T00:00:00",
          "2006-09-03T03:00:00",
          "2006-09-03T06:00:00",
          "2006-09-03T09:00:00",
          "2006-09-03T12:00:00",
          "2006-09-03T15:00:00",
          "2006-09-03T18:00:00",
          "2006-09-03T21:00:00",
          "2006-09-04T00:00:00",
          "2006-09-04T03:00:00",
          "2006-09-04T06:00:00",
          "2006-09-04T09:00:00",
          "2006-09-04T12:00:00",
          "2006-09-04T15:00:00",
          "2006-09-04T18:00:00",
          "2006-09-04T21:00:00",
          "2006-09-05T00:00:00",
          "2006-09-05T03:00:00",
          "2006-09-05T06:00:00",
          "2006-09-05T09:00:00",
          "2006-09-05T12:00:00",
          "2006-09-05T15:00:00",
          "2006-09-05T18:00:00",
          "2006-09-05T21:00:00",
          "2006-09-06T00:00:00",
          "2006-09-06T03:00:00",
          "2006-09-06T06:00:00",
          "2006-09-06T09:00:00",
          "2006-09-06T12:00:00",
          "2006-09-06T15:00:00",
          "2006-09-06T18:00:00",
          "2006-09-06T21:00:00",
          "2006-09-07T00:00:00",
          "2006-09-07T03:00:00",
          "2006-09-07T06:00:00",
          "2006-09-07T09:00:00",
          "2006-09-07T12:00:00",
          "2006-09-07T15:00:00",
          "2006-09-07T18:00:00",
          "2006-09-07T21:00:00",
          "2006-09-08T00:00:00",
          "2006-09-08T03:00:00",
          "2006-09-08T06:00:00",
          "2006-09-08T09:00:00",
          "2006-09-08T12:00:00",
          "2006-09-08T15:00:00",
          "2006-09-08T18:00:00",
          "2006-09-08T21:00:00",
          "2006-09-09T00:00:00",
          "2006-09-09T03:00:00",
          "2006-09-09T06:00:00",
          "2006-09-09T09:00:00",
          "2006-09-09T12:00:00",
          "2006-09-09T15:00:00",
          "2006-09-09T18:00:00",
          "2006-09-09T21:00:00",
          "2006-09-10T00:00:00",
          "2006-09-10T03:00:00",
          "2006-09-10T06:00:00",
          "2006-09-10T09:00:00",
          "2006-09-10T12:00:00",
          "2006-09-10T15:00:00",
          "2006-09-10T18:00:00",
          "2006-09-10T21:00:00",
          "2006-09-11T00:00:00",
          "2006-09-11T03:00:00",
          "2006-09-11T06:00:00",
          "2006-09-11T09:00:00",
          "2006-09-11T12:00:00",
          "2006-09-11T15:00:00",
          "2006-09-11T18:00:00",
          "2006-09-11T21:00:00",
          "2006-09-12T00:00:00",
          "2006-09-12T03:00:00",
          "2006-09-12T06:00:00",
          "2006-09-12T09:00:00",
          "2006-09-12T12:00:00",
          "2006-09-12T15:00:00",
          "2006-09-12T18:00:00",
          "2006-09-12T21:00:00",
          "2006-09-13T00:00:00",
          "2006-09-13T03:00:00",
          "2006-09-13T06:00:00",
          "2006-09-13T09:00:00",
          "2006-09-13T12:00:00",
          "2006-09-13T15:00:00",
          "2006-09-13T18:00:00",
          "2006-09-13T21:00:00",
          "2006-09-14T00:00:00",
          "2006-09-14T03:00:00",
          "2006-09-14T06:00:00",
          "2006-09-14T09:00:00",
          "2006-09-14T12:00:00",
          "2006-09-14T15:00:00",
          "2006-09-14T18:00:00",
          "2006-09-14T21:00:00",
          "2006-09-15T00:00:00",
          "2006-09-15T03:00:00",
          "2006-09-15T06:00:00",
          "2006-09-15T09:00:00",
          "2006-09-15T12:00:00",
          "2006-09-15T15:00:00",
          "2006-09-15T18:00:00",
          "2006-09-15T21:00:00",
          "2006-09-16T00:00:00",
          "2006-09-16T03:00:00",
          "2006-09-16T06:00:00",
          "2006-09-16T09:00:00",
          "2006-09-16T12:00:00",
          "2006-09-16T15:00:00",
          "2006-09-16T18:00:00",
          "2006-09-16T21:00:00",
          "2006-09-17T00:00:00",
          "2006-09-17T03:00:00",
          "2006-09-17T06:00:00",
          "2006-09-17T09:00:00",
          "2006-09-17T12:00:00",
          "2006-09-17T15:00:00",
          "2006-09-17T18:00:00",
          "2006-09-17T21:00:00",
          "2006-09-18T00:00:00",
          "2006-09-18T03:00:00",
          "2006-09-18T06:00:00",
          "2006-09-18T09:00:00",
          "2006-09-18T12:00:00",
          "2006-09-18T15:00:00",
          "2006-09-18T18:00:00",
          "2006-09-18T21:00:00",
          "2006-09-19T00:00:00",
          "2006-09-19T03:00:00",
          "2006-09-19T06:00:00",
          "2006-09-19T09:00:00",
          "2006-09-19T12:00:00",
          "2006-09-19T15:00:00",
          "2006-09-19T18:00:00",
          "2006-09-19T21:00:00",
          "2006-09-20T00:00:00",
          "2006-09-20T03:00:00",
          "2006-09-20T06:00:00",
          "2006-09-20T09:00:00",
          "2006-09-20T12:00:00",
          "2006-09-20T15:00:00",
          "2006-09-20T18:00:00",
          "2006-09-20T21:00:00",
          "2006-09-21T00:00:00",
          "2006-09-21T03:00:00",
          "2006-09-21T06:00:00",
          "2006-09-21T09:00:00",
          "2006-09-21T12:00:00",
          "2006-09-21T15:00:00",
          "2006-09-21T18:00:00",
          "2006-09-21T21:00:00",
          "2006-09-22T00:00:00",
          "2006-09-22T03:00:00",
          "2006-09-22T06:00:00",
          "2006-09-22T09:00:00",
          "2006-09-22T12:00:00",
          "2006-09-22T15:00:00",
          "2006-09-22T18:00:00",
          "2006-09-22T21:00:00",
          "2006-09-23T00:00:00",
          "2006-09-23T03:00:00",
          "2006-09-23T06:00:00",
          "2006-09-23T09:00:00",
          "2006-09-23T12:00:00",
          "2006-09-23T15:00:00",
          "2006-09-23T18:00:00",
          "2006-09-23T21:00:00",
          "2006-09-24T00:00:00",
          "2006-09-24T03:00:00",
          "2006-09-24T06:00:00",
          "2006-09-24T09:00:00",
          "2006-09-24T12:00:00",
          "2006-09-24T15:00:00",
          "2006-09-24T18:00:00",
          "2006-09-24T21:00:00",
          "2006-09-25T00:00:00",
          "2006-09-25T03:00:00",
          "2006-09-25T06:00:00",
          "2006-09-25T09:00:00",
          "2006-09-25T12:00:00",
          "2006-09-25T15:00:00",
          "2006-09-25T18:00:00",
          "2006-09-25T21:00:00",
          "2006-09-26T00:00:00",
          "2006-09-26T03:00:00",
          "2006-09-26T06:00:00",
          "2006-09-26T09:00:00",
          "2006-09-26T12:00:00",
          "2006-09-26T15:00:00",
          "2006-09-26T18:00:00",
          "2006-09-26T21:00:00",
          "2006-09-27T00:00:00",
          "2006-09-27T03:00:00",
          "2006-09-27T06:00:00",
          "2006-09-27T09:00:00",
          "2006-09-27T12:00:00",
          "2006-09-27T15:00:00",
          "2006-09-27T18:00:00",
          "2006-09-27T21:00:00",
          "2006-09-28T00:00:00",
          "2006-09-28T03:00:00"
         ],
         "y": {
          "bdata": "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",
          "dtype": "f8"
         }
        }
       ],
       "layout": {
        "height": 600,
        "hovermode": "x unified",
        "showlegend": true,
        "template": {
         "data": {
          "bar": [
           {
            "error_x": {
             "color": "#2a3f5f"
            },
            "error_y": {
             "color": "#2a3f5f"
            },
            "marker": {
             "line": {
              "color": "#E5ECF6",
              "width": 0.5
             },
             "pattern": {
              "fillmode": "overlay",
              "size": 10,
              "solidity": 0.2
             }
            },
            "type": "bar"
           }
          ],
          "barpolar": [
           {
            "marker": {
             "line": {
              "color": "#E5ECF6",
              "width": 0.5
             },
             "pattern": {
              "fillmode": "overlay",
              "size": 10,
              "solidity": 0.2
             }
            },
            "type": "barpolar"
           }
          ],
          "carpet": [
           {
            "aaxis": {
             "endlinecolor": "#2a3f5f",
             "gridcolor": "white",
             "linecolor": "white",
             "minorgridcolor": "white",
             "startlinecolor": "#2a3f5f"
            },
            "baxis": {
             "endlinecolor": "#2a3f5f",
             "gridcolor": "white",
             "linecolor": "white",
             "minorgridcolor": "white",
             "startlinecolor": "#2a3f5f"
            },
            "type": "carpet"
           }
          ],
          "choropleth": [
           {
            "colorbar": {
             "outlinewidth": 0,
             "ticks": ""
            },
            "type": "choropleth"
           }
          ],
          "contour": [
           {
            "colorbar": {
             "outlinewidth": 0,
             "ticks": ""
            },
            "colorscale": [
             [
              0,
              "#0d0887"
             ],
             [
              0.1111111111111111,
              "#46039f"
             ],
             [
              0.2222222222222222,
              "#7201a8"
             ],
             [
              0.3333333333333333,
              "#9c179e"
             ],
             [
              0.4444444444444444,
              "#bd3786"
             ],
             [
              0.5555555555555556,
              "#d8576b"
             ],
             [
              0.6666666666666666,
              "#ed7953"
             ],
             [
              0.7777777777777778,
              "#fb9f3a"
             ],
             [
              0.8888888888888888,
              "#fdca26"
             ],
             [
              1,
              "#f0f921"
             ]
            ],
            "type": "contour"
           }
          ],
          "contourcarpet": [
           {
            "colorbar": {
             "outlinewidth": 0,
             "ticks": ""
            },
            "type": "contourcarpet"
           }
          ],
          "heatmap": [
           {
            "colorbar": {
             "outlinewidth": 0,
             "ticks": ""
            },
            "colorscale": [
             [
              0,
              "#0d0887"
             ],
             [
              0.1111111111111111,
              "#46039f"
             ],
             [
              0.2222222222222222,
              "#7201a8"
             ],
             [
              0.3333333333333333,
              "#9c179e"
             ],
             [
              0.4444444444444444,
              "#bd3786"
             ],
             [
              0.5555555555555556,
              "#d8576b"
             ],
             [
              0.6666666666666666,
              "#ed7953"
             ],
             [
              0.7777777777777778,
              "#fb9f3a"
             ],
             [
              0.8888888888888888,
              "#fdca26"
             ],
             [
              1,
              "#f0f921"
             ]
            ],
            "type": "heatmap"
           }
          ],
          "histogram": [
           {
            "marker": {
             "pattern": {
              "fillmode": "overlay",
              "size": 10,
              "solidity": 0.2
             }
            },
            "type": "histogram"
           }
          ],
          "histogram2d": [
           {
            "colorbar": {
             "outlinewidth": 0,
             "ticks": ""
            },
            "colorscale": [
             [
              0,
              "#0d0887"
             ],
             [
              0.1111111111111111,
              "#46039f"
             ],
             [
              0.2222222222222222,
              "#7201a8"
             ],
             [
              0.3333333333333333,
              "#9c179e"
             ],
             [
              0.4444444444444444,
              "#bd3786"
             ],
             [
              0.5555555555555556,
              "#d8576b"
             ],
             [
              0.6666666666666666,
              "#ed7953"
             ],
             [
              0.7777777777777778,
              "#fb9f3a"
             ],
             [
              0.8888888888888888,
              "#fdca26"
             ],
             [
              1,
              "#f0f921"
             ]
            ],
            "type": "histogram2d"
           }
          ],
          "histogram2dcontour": [
           {
            "colorbar": {
             "outlinewidth": 0,
             "ticks": ""
            },
            "colorscale": [
             [
              0,
              "#0d0887"
             ],
             [
              0.1111111111111111,
              "#46039f"
             ],
             [
              0.2222222222222222,
              "#7201a8"
             ],
             [
              0.3333333333333333,
              "#9c179e"
             ],
             [
              0.4444444444444444,
              "#bd3786"
             ],
             [
              0.5555555555555556,
              "#d8576b"
             ],
             [
              0.6666666666666666,
              "#ed7953"
             ],
             [
              0.7777777777777778,
              "#fb9f3a"
             ],
             [
              0.8888888888888888,
              "#fdca26"
             ],
             [
              1,
              "#f0f921"
             ]
            ],
            "type": "histogram2dcontour"
           }
          ],
          "mesh3d": [
           {
            "colorbar": {
             "outlinewidth": 0,
             "ticks": ""
            },
            "type": "mesh3d"
           }
          ],
          "parcoords": [
           {
            "line": {
             "colorbar": {
              "outlinewidth": 0,
              "ticks": ""
             }
            },
            "type": "parcoords"
           }
          ],
          "pie": [
           {
            "automargin": true,
            "type": "pie"
           }
          ],
          "scatter": [
           {
            "fillpattern": {
             "fillmode": "overlay",
             "size": 10,
             "solidity": 0.2
            },
            "type": "scatter"
           }
          ],
          "scatter3d": [
           {
            "line": {
             "colorbar": {
              "outlinewidth": 0,
              "ticks": ""
             }
            },
            "marker": {
             "colorbar": {
              "outlinewidth": 0,
              "ticks": ""
             }
            },
            "type": "scatter3d"
           }
          ],
          "scattercarpet": [
           {
            "marker": {
             "colorbar": {
              "outlinewidth": 0,
              "ticks": ""
             }
            },
            "type": "scattercarpet"
           }
          ],
          "scattergeo": [
           {
            "marker": {
             "colorbar": {
              "outlinewidth": 0,
              "ticks": ""
             }
            },
            "type": "scattergeo"
           }
          ],
          "scattergl": [
           {
            "marker": {
             "colorbar": {
              "outlinewidth": 0,
              "ticks": ""
             }
            },
            "type": "scattergl"
           }
          ],
          "scattermap": [
           {
            "marker": {
             "colorbar": {
              "outlinewidth": 0,
              "ticks": ""
             }
            },
            "type": "scattermap"
           }
          ],
          "scattermapbox": [
           {
            "marker": {
             "colorbar": {
              "outlinewidth": 0,
              "ticks": ""
             }
            },
            "type": "scattermapbox"
           }
          ],
          "scatterpolar": [
           {
            "marker": {
             "colorbar": {
              "outlinewidth": 0,
              "ticks": ""
             }
            },
            "type": "scatterpolar"
           }
          ],
          "scatterpolargl": [
           {
            "marker": {
             "colorbar": {
              "outlinewidth": 0,
              "ticks": ""
             }
            },
            "type": "scatterpolargl"
           }
          ],
          "scatterternary": [
           {
            "marker": {
             "colorbar": {
              "outlinewidth": 0,
              "ticks": ""
             }
            },
            "type": "scatterternary"
           }
          ],
          "surface": [
           {
            "colorbar": {
             "outlinewidth": 0,
             "ticks": ""
            },
            "colorscale": [
             [
              0,
              "#0d0887"
             ],
             [
              0.1111111111111111,
              "#46039f"
             ],
             [
              0.2222222222222222,
              "#7201a8"
             ],
             [
              0.3333333333333333,
              "#9c179e"
             ],
             [
              0.4444444444444444,
              "#bd3786"
             ],
             [
              0.5555555555555556,
              "#d8576b"
             ],
             [
              0.6666666666666666,
              "#ed7953"
             ],
             [
              0.7777777777777778,
              "#fb9f3a"
             ],
             [
              0.8888888888888888,
              "#fdca26"
             ],
             [
              1,
              "#f0f921"
             ]
            ],
            "type": "surface"
           }
          ],
          "table": [
           {
            "cells": {
             "fill": {
              "color": "#EBF0F8"
             },
             "line": {
              "color": "white"
             }
            },
            "header": {
             "fill": {
              "color": "#C8D4E3"
             },
             "line": {
              "color": "white"
             }
            },
            "type": "table"
           }
          ]
         },
         "layout": {
          "annotationdefaults": {
           "arrowcolor": "#2a3f5f",
           "arrowhead": 0,
           "arrowwidth": 1
          },
          "autotypenumbers": "strict",
          "coloraxis": {
           "colorbar": {
            "outlinewidth": 0,
            "ticks": ""
           }
          },
          "colorscale": {
           "diverging": [
            [
             0,
             "#8e0152"
            ],
            [
             0.1,
             "#c51b7d"
            ],
            [
             0.2,
             "#de77ae"
            ],
            [
             0.3,
             "#f1b6da"
            ],
            [
             0.4,
             "#fde0ef"
            ],
            [
             0.5,
             "#f7f7f7"
            ],
            [
             0.6,
             "#e6f5d0"
            ],
            [
             0.7,
             "#b8e186"
            ],
            [
             0.8,
             "#7fbc41"
            ],
            [
             0.9,
             "#4d9221"
            ],
            [
             1,
             "#276419"
            ]
           ],
           "sequential": [
            [
             0,
             "#0d0887"
            ],
            [
             0.1111111111111111,
             "#46039f"
            ],
            [
             0.2222222222222222,
             "#7201a8"
            ],
            [
             0.3333333333333333,
             "#9c179e"
            ],
            [
             0.4444444444444444,
             "#bd3786"
            ],
            [
             0.5555555555555556,
             "#d8576b"
            ],
            [
             0.6666666666666666,
             "#ed7953"
            ],
            [
             0.7777777777777778,
             "#fb9f3a"
            ],
            [
             0.8888888888888888,
             "#fdca26"
            ],
            [
             1,
             "#f0f921"
            ]
           ],
           "sequentialminus": [
            [
             0,
             "#0d0887"
            ],
            [
             0.1111111111111111,
             "#46039f"
            ],
            [
             0.2222222222222222,
             "#7201a8"
            ],
            [
             0.3333333333333333,
             "#9c179e"
            ],
            [
             0.4444444444444444,
             "#bd3786"
            ],
            [
             0.5555555555555556,
             "#d8576b"
            ],
            [
             0.6666666666666666,
             "#ed7953"
            ],
            [
             0.7777777777777778,
             "#fb9f3a"
            ],
            [
             0.8888888888888888,
             "#fdca26"
            ],
            [
             1,
             "#f0f921"
            ]
           ]
          },
          "colorway": [
           "#636efa",
           "#EF553B",
           "#00cc96",
           "#ab63fa",
           "#FFA15A",
           "#19d3f3",
           "#FF6692",
           "#B6E880",
           "#FF97FF",
           "#FECB52"
          ],
          "font": {
           "color": "#2a3f5f"
          },
          "geo": {
           "bgcolor": "white",
           "lakecolor": "white",
           "landcolor": "#E5ECF6",
           "showlakes": true,
           "showland": true,
           "subunitcolor": "white"
          },
          "hoverlabel": {
           "align": "left"
          },
          "hovermode": "closest",
          "mapbox": {
           "style": "light"
          },
          "paper_bgcolor": "white",
          "plot_bgcolor": "#E5ECF6",
          "polar": {
           "angularaxis": {
            "gridcolor": "white",
            "linecolor": "white",
            "ticks": ""
           },
           "bgcolor": "#E5ECF6",
           "radialaxis": {
            "gridcolor": "white",
            "linecolor": "white",
            "ticks": ""
           }
          },
          "scene": {
           "xaxis": {
            "backgroundcolor": "#E5ECF6",
            "gridcolor": "white",
            "gridwidth": 2,
            "linecolor": "white",
            "showbackground": true,
            "ticks": "",
            "zerolinecolor": "white"
           },
           "yaxis": {
            "backgroundcolor": "#E5ECF6",
            "gridcolor": "white",
            "gridwidth": 2,
            "linecolor": "white",
            "showbackground": true,
            "ticks": "",
            "zerolinecolor": "white"
           },
           "zaxis": {
            "backgroundcolor": "#E5ECF6",
            "gridcolor": "white",
            "gridwidth": 2,
            "linecolor": "white",
            "showbackground": true,
            "ticks": "",
            "zerolinecolor": "white"
           }
          },
          "shapedefaults": {
           "line": {
            "color": "#2a3f5f"
           }
          },
          "ternary": {
           "aaxis": {
            "gridcolor": "white",
            "linecolor": "white",
            "ticks": ""
           },
           "baxis": {
            "gridcolor": "white",
            "linecolor": "white",
            "ticks": ""
           },
           "bgcolor": "#E5ECF6",
           "caxis": {
            "gridcolor": "white",
            "linecolor": "white",
            "ticks": ""
           }
          },
          "title": {
           "x": 0.05
          },
          "xaxis": {
           "automargin": true,
           "gridcolor": "white",
           "linecolor": "white",
           "ticks": "",
           "title": {
            "standoff": 15
           },
           "zerolinecolor": "white",
           "zerolinewidth": 2
          },
          "yaxis": {
           "automargin": true,
           "gridcolor": "white",
           "linecolor": "white",
           "ticks": "",
           "title": {
            "standoff": 15
           },
           "zerolinecolor": "white",
           "zerolinewidth": 2
          }
         }
        },
        "title": {
         "text": "Concentration Timeseries"
        },
        "width": 800
       }
      },
      "image/png": "[encoded data removed]"
     },
     "metadata": {},
     "output_type": "display_data"
    }
   ],
   "source": [
    "# Species Timeseries, a single or list of features/columns specified by index\n",
    "data_handler.plot_feature_timeseries(feature_selection=[0])"
   ]
  },
  {
   "cell_type": "code",
   "execution_count": null,
   "id": "b1edc32c-6f68-4b95-93dc-dc24b7dcb788",
   "metadata": {},
   "outputs": [],
   "source": [
    "data_handler.plot_2d_histogram(x_col=\"124-Trimethylbenzene\", y_col=\"224-Trimethylpentane\")"
   ]
  },
  {
   "cell_type": "code",
   "execution_count": null,
   "id": "6f295906-ac67-4e07-b349-327a03ac82eb",
   "metadata": {},
   "outputs": [],
   "source": [
    "# Get the processed data and uncertainty\n",
    "V, U = data_handler.get_data()"
   ]
  },
  {
   "cell_type": "markdown",
   "id": "8909a05f-8a39-4fdd-b918-12077bf1d455",
   "metadata": {},
   "source": [
    "#### Train Model"
   ]
  },
  {
   "cell_type": "code",
   "execution_count": null,
   "id": "b591e7b0-c01d-4efb-b61a-ad0e26435323",
   "metadata": {},
   "outputs": [],
   "source": [
    "%%capture\n",
    "# Training multiple models\n",
    "sa_models = BatchSA(V=V, U=U, factors=factors, models=models, method=method, seed=seed, max_iter=max_iterations,\n",
    "                    init_method=init_method, init_norm=init_norm,\n",
    "                    converge_delta=converge_delta, converge_n=converge_n,\n",
    "                    verbose=verbose\n",
    "                   )\n",
    "_ = sa_models.train()"
   ]
  },
  {
   "cell_type": "code",
   "execution_count": null,
   "id": "b4aaaa2d-61b0-48a1-8d1f-e33721ebf36a",
   "metadata": {},
   "outputs": [],
   "source": [
    "# Selet the best performing model to review\n",
    "best_model = sa_models.best_model\n",
    "sa_model = sa_models.results[best_model]\n",
    "best_model"
   ]
  },
  {
   "cell_type": "code",
   "execution_count": null,
   "id": "e069baf7-46cd-47e7-a697-662b00177a7b",
   "metadata": {},
   "outputs": [],
   "source": []
  },
  {
   "cell_type": "code",
   "execution_count": null,
   "id": "c4b69b45-30f7-4815-a7b7-fa7454334dd7",
   "metadata": {},
   "outputs": [],
   "source": [
    "# Save the batch SA instance\n",
    "# batch_name = \"test_batch_01\"\n",
    "# batch_output_dir = os.path.join(os.getcwd(), \"test_batch\")\n",
    "# os.mkdir(batch_output_dir)\n",
    "# pickle_model = True\n",
    "# pickle_batch = True\n",
    "# header = data_handler.features\n",
    "# sa_models.save(batch_name=batch_name, output_directory=batch_output_dir, pickle_model=pickle_model, pickle_batch=pickle_batch, header=header)"
   ]
  },
  {
   "cell_type": "code",
   "execution_count": null,
   "id": "77b3c11b-1812-407b-bf96-def3357f52ee",
   "metadata": {},
   "outputs": [],
   "source": [
    "# Load the saved batch SA instance\n",
    "# saved_batch_file = os.path.join(os.getcwd(), \"test_batch\", \"test_batch_01.pkl\")\n",
    "# batch_sa2 = BatchSA.load(file_path=saved_batch_file)"
   ]
  },
  {
   "cell_type": "code",
   "execution_count": null,
   "id": "9595c7ba-91cd-4737-aca3-40d6d1f05ef2",
   "metadata": {},
   "outputs": [],
   "source": [
    "# Perform batch model analysis\n",
    "batch_analysis = BatchAnalysis(batch_sa=sa_models, data_handler=data_handler)\n",
    "# Plot the loss of the models over iterations\n",
    "batch_analysis.plot_loss()"
   ]
  },
  {
   "cell_type": "code",
   "execution_count": null,
   "id": "0137a7f7-1d8d-4e50-960c-7bb518993946",
   "metadata": {},
   "outputs": [],
   "source": [
    "# Plot the loss distribution for the batch models\n",
    "batch_analysis.plot_loss_distribution()"
   ]
  },
  {
   "cell_type": "code",
   "execution_count": null,
   "id": "3934e78d-39d7-4e6e-a185-cf07c3c8e380",
   "metadata": {
    "editable": true,
    "slideshow": {
     "slide_type": ""
    },
    "tags": []
   },
   "outputs": [],
   "source": [
    "# Plot the temporal residuals for a specified feature, for all models.\n",
    "batch_analysis.plot_temporal_residuals(feature_idx=0)"
   ]
  },
  {
   "cell_type": "code",
   "execution_count": null,
   "id": "b187a362-2518-4982-aa3c-bc12c396c65c",
   "metadata": {},
   "outputs": [],
   "source": [
    "# Initialize the Model Analysis module\n",
    "model_analysis = ModelAnalysis(datahandler=data_handler, model=sa_model, selected_model=best_model)"
   ]
  },
  {
   "cell_type": "code",
   "execution_count": null,
   "id": "48d2bff7-b36a-4837-95a9-1ff2bd90c0fa",
   "metadata": {},
   "outputs": [],
   "source": [
    "# Residual Analysis shows the scaled residual histogram, along with metrics and distribution curves. The abs_threshold parameter specifies the condition for the returned values of the function call as those residuals which exceed the absolute value of that threshold.\n",
    "abs_threshold = 3.0\n",
    "threshold_residuals = model_analysis.plot_residual_histogram(feature_idx=0, abs_threshold=abs_threshold)"
   ]
  },
  {
   "cell_type": "code",
   "execution_count": null,
   "id": "93aded8a-9250-49d1-bc3a-bb9c83a05ea5",
   "metadata": {},
   "outputs": [],
   "source": [
    "model_analysis.features_metrics()"
   ]
  },
  {
   "cell_type": "code",
   "execution_count": null,
   "id": "dfd2e2f2-226e-4244-a871-f8b6855478dc",
   "metadata": {},
   "outputs": [],
   "source": [
    "# The model output statistics for the estimated V, including SE: Standard Error metrics, and 3 normal distribution tests of the residuals (KS Normal is used in PMF5)\n",
    "model_analysis.calculate_statistics()\n",
    "model_analysis.statistics"
   ]
  },
  {
   "cell_type": "code",
   "execution_count": null,
   "id": "69d23a88-47f5-4692-ba9b-07e8630d5486",
   "metadata": {},
   "outputs": [],
   "source": [
    "# Model feature observed vs predicted plot with regression and one-to-one lines. Feature/Column specified by index.\n",
    "model_analysis.plot_estimated_observed()"
   ]
  },
  {
   "cell_type": "code",
   "execution_count": null,
   "id": "102a0280-d275-46d5-973e-48fa55fd51af",
   "metadata": {},
   "outputs": [],
   "source": [
    "# Model feature timeseries analysis plot showing the observed vs predicted values of the feature, along with the residuals shown below. Feature/column specified by index.\n",
    "model_analysis.plot_estimated_timeseries()"
   ]
  },
  {
   "cell_type": "code",
   "execution_count": null,
   "id": "2da54785-9c7f-4396-b776-f086612ace02",
   "metadata": {},
   "outputs": [],
   "source": [
    "# Factor profile plot showing the factor sum of concentrations by feature (blue bars), the percentage of the feature as the red dot, and in the bottom plot the normalized contributions by date (values are resampled at a daily timestep for timeseries consistency).\n",
    "# Factor specified by index.\n",
    "model_analysis.plot_factor_profile(factor_idx=1)"
   ]
  },
  {
   "cell_type": "code",
   "execution_count": null,
   "id": "3cc610d4-9c95-4bd5-bd7e-5db3a91c26af",
   "metadata": {},
   "outputs": [],
   "source": [
    "# All factor profile plots showing the factor sum of concentrations by feature (blue bars) and the percentage of the feature as the red dot.\n",
    "model_analysis.plot_all_factors()"
   ]
  },
  {
   "cell_type": "code",
   "execution_count": null,
   "id": "f4bdb450-7650-42bc-a661-9cf2964b3045",
   "metadata": {},
   "outputs": [],
   "source": [
    "# Plot all factor profiles as 3d plot showing either the factor sum of concentrations by feature (blue bars) and the percentage of the feature as the red dot.\n",
    "model_analysis.plot_all_factors_3d()"
   ]
  },
  {
   "cell_type": "code",
   "execution_count": null,
   "id": "19e281c9-3ab3-43a8-b5af-31d18b5867c2",
   "metadata": {},
   "outputs": [],
   "source": [
    "# Model factor fingerprint specifies the feature percentage of each factor.\n",
    "model_analysis.plot_factor_fingerprints()"
   ]
  },
  {
   "cell_type": "code",
   "execution_count": null,
   "id": "4c8bb85b-b48e-4031-b861-d6f6af5ad090",
   "metadata": {},
   "outputs": [],
   "source": [
    "# Factor G-Space plot shows the normalized contributions of one factor vs another factor. Factor specified by index.\n",
    "model_analysis.plot_g_space(factor_1=2, factor_2=1)"
   ]
  },
  {
   "cell_type": "code",
   "execution_count": null,
   "id": "e299347b-a88c-432b-a68f-270ba15f35ce",
   "metadata": {},
   "outputs": [],
   "source": [
    "# Factor contribution pie chart shows the percentage of factor contributions for the specified feature, and the corresponding normalized contribution of each factor for that feature (bottom plot). Feature specified by index.\n",
    "model_analysis.plot_factor_contributions(feature_idx=1)"
   ]
  },
  {
   "cell_type": "code",
   "execution_count": null,
   "id": "f342b927-eb77-4f7d-97af-4462ea4e5fe7",
   "metadata": {},
   "outputs": [],
   "source": [
    "# New Graphic: Factor Profile Composition Radar Graph\n",
    "model_analysis.plot_factor_composition()"
   ]
  },
  {
   "cell_type": "code",
   "execution_count": null,
   "id": "e18fbae9-515c-49c6-96cb-8d19fd39f5a6",
   "metadata": {},
   "outputs": [],
   "source": [
    "# New Graphic: Factor Contribution Surface Plot\n",
    "factor_idx = None\n",
    "feature_idx = 1\n",
    "model_analysis.plot_factor_surface(factor_idx=factor_idx, feature_idx=feature_idx, percentage=True)"
   ]
  },
  {
   "cell_type": "markdown",
   "id": "7c3af235-fff0-4060-9345-50f89bc2086f",
   "metadata": {},
   "source": [
    "### Error Estimation - Displacement\n",
    "\n",
    "The displacement method for error estimation works by make slight adjustments to the factor profile values, individually, until a specific change in the loss value (dQ) is reached. There are 4 dQ values that are targetted, dQ = 4, 8, 16, 32. \n",
    "\n",
    "The target dQ value is run for both an increase and decrease in the factor profile value, a single value in the factor profile matrix at a time. The change in factor profile is found by running a modified binary search to identify the value change within a small threshold, 0.1 of the target dQ. The value search is stopped if the change in the factor profile value is less than 1e-8, in the instance that decreasing a factor profile value already near zero.\n",
    "\n",
    "Once the change in the factor profile value is found that produces the target dQ, both increasing and decreasing, the modification to the H matrix is used as an initial guess for retraining a SA model. The W matrix is reinitialized, using the original base model seed, and the model is trained to convergence. \n",
    "\n",
    "The resulting model factor profile is checked to see if any factors swapped base upon the highest factor correlation with the base model factors. The output shows the swap %, based upon the number of retrained models where that factor was modified and the number of times a swap was detected.\n",
    "\n",
    "The factor profile plot shows the variability in the factor profile feature values that correspond to the dQ target values, default shown in the plots is for a dQ=4. The last plot show the factor feature contribution variability based upon the same changes to the H matrix."
   ]
  },
  {
   "cell_type": "code",
   "execution_count": null,
   "id": "58bd3144-24e4-4806-83c9-ded95518745f",
   "metadata": {},
   "outputs": [],
   "source": [
    "# Import Error Estimation Displacement Method\n",
    "from esat.error.displacement import Displacement"
   ]
  },
  {
   "cell_type": "code",
   "execution_count": null,
   "id": "71e4b21c-9a72-4d3f-8c0e-35f529cbd4d3",
   "metadata": {},
   "outputs": [],
   "source": [
    "# Initialize the Displacement method, passing in the results of the batch SA run and the features labels from the data handler.\n",
    "# features=None will run displacement on all features in the solution.\n",
    "disp = Displacement(sa=sa_model, feature_labels=data_handler.features, model_selected=best_model, features=[0,1,2])"
   ]
  },
  {
   "cell_type": "code",
   "execution_count": null,
   "id": "94d6db6f-7488-491e-a7b5-c513dbad61aa",
   "metadata": {},
   "outputs": [],
   "source": [
    "%%time\n",
    "# Execute the displacement model, which will test both increasing and decreasing changes to the individual values of H for all dQ targets. Results are then compiled and prepared.\n",
    "disp.run()"
   ]
  },
  {
   "cell_type": "code",
   "execution_count": null,
   "id": "7a92a54f-228a-415b-ab7b-c5a33905aa25",
   "metadata": {},
   "outputs": [],
   "source": [
    "# The swap table shows the percentage of times a factor was found to be more highly correlated as a result of the change in the factor feature value. This percentage is the number of times that a specific factor swapped after a model was retrained.\n",
    "# The largest change in the dQ value is the largest difference (both from increasing and decreasing changes to the factor feature values) between a retrained model and the base model loss value.\n",
    "disp.summary()"
   ]
  },
  {
   "cell_type": "code",
   "execution_count": null,
   "id": "2733ac8e-a2ff-4dc0-b748-7530b4c0afe4",
   "metadata": {},
   "outputs": [],
   "source": [
    "# The results for a specific factor can be plotted, showing both the variability in the profile(%) and contribution for a given dQ value.\n",
    "factor_i = 3\n",
    "disp.plot_results(factor=factor_i)"
   ]
  },
  {
   "cell_type": "markdown",
   "id": "c7c25577-5af7-4d7b-9f3c-e339d1560362",
   "metadata": {},
   "source": [
    "### Error Estimation - Bootstrap\n",
    "\n",
    "The bootstrap method used is the block bootstrap method for time-series data. Here the initial dataset is broken into chunks of a specified size, containing sequential samples, and randomly added to a bootstrap dataset until the bootstrap dataset is the same size as the initial dataset.\n",
    "\n",
    "A recommended block size calculation is performed when data is initially loaded into the DataHandler and found as the <i>optimal_block</i> variable.\n",
    "\n",
    "The aim of the bootstrap method is to quantify the variability in the factor profiles and contributions when the order of the datasets have been shuffled, resampled. In this case the block bootstrap method is the default method, while the full bootstrap method can be used by setting the block parameter in the run function to false, i.e. bs.run(block=False). The blocks are randomly selected with replacement, allowing for the same block to be added to the bs dataset more than once. The final selected block is reduced in size until the bs dataset is exactly the same as the initial dataset. \n",
    "\n",
    "The resampling is completed a specified number of times, set by bootstrap_n. During each bootstrap run, the initial datasets are resampled (both the data and uncertainty datasets are resampled using the same indeces) and used to retrain a SA model. The SA model uses the resampled data and uncertainty data, the base model H matrix and the base model random seed. W is reinitialized and the model is trained to convergence. The resulting factor contributions, $V'_{bs}$ are mapped to the base model $V'_{base}$, where the correlation between all combinations of the factor contributions are checked. The mapping between the highest correlation is then noted, if the correlation is above the user specified threshold (default=0.6), and the results are shown in the summary statistics. The summary statistics also include metrics for the distribution of the bootstrap model results to compare against the base model results, these are shown as tables for each factor in the summary statistics.\n",
    "\n",
    "The results of all the bootstrap runs are compiled to provide a distribution for each factor/feature percentage and contribution, these are shown in the plotted results."
   ]
  },
  {
   "cell_type": "code",
   "execution_count": null,
   "id": "f217e4e9-23bc-4e7c-ad02-2826cb6d9ca7",
   "metadata": {},
   "outputs": [],
   "source": [
    "# Import Bootstrap Error Estimation Method\n",
    "from esat.error.bootstrap import Bootstrap"
   ]
  },
  {
   "cell_type": "code",
   "execution_count": null,
   "id": "df6bfbdf-c59f-4e51-affd-00471d189183",
   "metadata": {},
   "outputs": [],
   "source": [
    "# Bootstrap input parameters\n",
    "model_selected = sa_models.best_model               # the model selected to be the base model for the Bootstrap method, here chosen as the best performing model from the batch SA run.\n",
    "nmf_model = sa_models.results[model_selected]       # The selected model SA model.\n",
    "feature_labels = data_handler.features              # The list of feature names/labels\n",
    "\n",
    "bootstrap_n = 20                                    # The number of bootstrap runs to complete\n",
    "block_size = data_handler.optimal_block             # Calculates an optimal block size from the Politis and White 2004 algorithm (used in PMF5)\n",
    "threshold = 0.6                                     # The r-correlation threshold\n",
    "seed = seed                                         # The random seed used for random selection of the bootstrap blocks.\n",
    "print(f\"Optimal BS block size: {data_handler.optimal_block}\")"
   ]
  },
  {
   "cell_type": "code",
   "execution_count": null,
   "id": "a407eac8-b004-40ea-83ad-9eb54116ea7e",
   "metadata": {},
   "outputs": [],
   "source": [
    "# Initialize the bootstrap object\n",
    "bs = Bootstrap(sa=sa_model, feature_labels=feature_labels, model_selected=model_selected, bootstrap_n=bootstrap_n, block_size=block_size, threshold=threshold, seed=seed, parallel=True)"
   ]
  },
  {
   "cell_type": "code",
   "execution_count": null,
   "id": "736f4723-8a3f-4d5e-9a9d-c8a5ddfdf33e",
   "metadata": {},
   "outputs": [],
   "source": [
    "%%time\n",
    "# Execute the bootstrap runs with default parameters\n",
    "bs.run()"
   ]
  },
  {
   "cell_type": "code",
   "execution_count": null,
   "id": "57fe39be-6235-451e-bd3c-d8d722a46b37",
   "metadata": {},
   "outputs": [],
   "source": [
    "# Print the output summary of all the bootstrap runs.\n",
    "bs.summary()\n",
    "# bs.bs_results[1]['mapping']"
   ]
  },
  {
   "cell_type": "code",
   "execution_count": null,
   "id": "b2cef31b-183b-4ae7-bd6b-8ed6a33112a5",
   "metadata": {},
   "outputs": [],
   "source": [
    "# Plot the results of the bootstrap runs for a specific factor, showing the variability in percentage and concentration for each feature of the specified factor.\n",
    "# factor_i = 1\n",
    "# bs.plot_results(factor=factor_i)\n",
    "bs.q_results"
   ]
  },
  {
   "cell_type": "markdown",
   "id": "97f510d8-2634-4438-b13c-d99e57d6d82d",
   "metadata": {},
   "source": [
    "### Error Estimation - Bootstrap-Displacement\n",
    "\n",
    "The bootstrap-displacement (BS-DISP) method is a combination of the boostrap and displacement methods. An existing BS instance can be used, or a new BS instance will be created.\n",
    "\n",
    "The BS-DISP method runs a BS instance and for each model in the BS run, DISP is run for each of the features specified or all by default. The results are similar to the DISP results by are aggregated across all bootstrap runs."
   ]
  },
  {
   "cell_type": "code",
   "execution_count": null,
   "id": "81fe7a4a-9bb4-4407-bc37-6e422255bbac",
   "metadata": {},
   "outputs": [],
   "source": [
    "from esat.error.bs_disp import BSDISP"
   ]
  },
  {
   "cell_type": "code",
   "execution_count": null,
   "id": "89269df1-3e5a-4885-94d6-3a37fa10045a",
   "metadata": {},
   "outputs": [],
   "source": [
    "# Bootstrap input parameters (Shared with BS-DISP)\n",
    "model_selected = sa_models.best_model              # the model selected to be the base model for the Bootstrap method, here chosen as the best performing model from the batch nmf run.\n",
    "sa_model = sa_models.results[model_selected]      # The selected model SA object.\n",
    "feature_labels = data_handler.features              # The list of feature names/labels\n",
    "\n",
    "bootstrap_n = 10                                    # The number of bootstrap runs to complete\n",
    "block_size = data_handler.optimal_block             # Calculates an optimal block size from the Politis and White 2004 algorithm (used in PMF5)\n",
    "threshold = 0.6                                     # The r-correlation threshold\n",
    "seed = seed                                         # The random seed used for random selection of the bootstrap blocks.\n",
    "\n",
    "# Displacement input parameters (Shared with BS-DISP)\n",
    "threshold_dQ = 0.1\n",
    "max_search = 50\n",
    "features = [0, 1, 2]"
   ]
  },
  {
   "cell_type": "code",
   "execution_count": null,
   "id": "be81ea3f-ea95-4965-9f65-f2e834328572",
   "metadata": {},
   "outputs": [],
   "source": [
    "# Initialize BS-DISP with the BS and DISP parameters\n",
    "bsdisp = BSDISP(sa=sa_model, feature_labels=feature_labels, model_selected=model_selected, bootstrap_n=bootstrap_n, block_size=block_size, threshold=threshold, max_search=max_search, threshold_dQ=threshold_dQ, features=features, seed=seed)"
   ]
  },
  {
   "cell_type": "code",
   "execution_count": null,
   "id": "674e7a0b-f013-4ae2-9182-c5a8c575fd7f",
   "metadata": {},
   "outputs": [],
   "source": [
    "%%capture\n",
    "# Execute the BS-DISP instance, which will first run BS (if required) then will run DISP for each BS model.\n",
    "bsdisp.run()"
   ]
  },
  {
   "cell_type": "code",
   "execution_count": null,
   "id": "ad7b2c3d-d76e-4d38-bbf4-e11e22ad2360",
   "metadata": {},
   "outputs": [],
   "source": [
    "# Print the summary table and general metrics\n",
    "bsdisp.summary()"
   ]
  },
  {
   "cell_type": "code",
   "execution_count": null,
   "id": "c740deb4-270e-4bf1-8ca4-d4bded6154f2",
   "metadata": {},
   "outputs": [],
   "source": [
    "# Plot the BS-DISP results, the profile and contribution boxplots for a specific factor.\n",
    "factor_i = 1\n",
    "bsdisp.plot_results(factor=factor_i)"
   ]
  },
  {
   "cell_type": "code",
   "execution_count": null,
   "id": "7820055b-ca30-4848-b2b6-b3e75b14c710",
   "metadata": {},
   "outputs": [],
   "source": [
    "# The overall error summary can be shown through the follow method that will take in an existing bootstrap and displacement object and plot the error estimation for a given factor.\n",
    "from esat.error.error import Error"
   ]
  },
  {
   "cell_type": "code",
   "execution_count": null,
   "id": "34b928ba-8530-4d9b-8e40-0e0db19174cf",
   "metadata": {},
   "outputs": [],
   "source": [
    "# Pass in the previously completed bootstrap and displacement instances\n",
    "error = Error(bs=bs, disp=disp, bsdisp=bsdisp)"
   ]
  },
  {
   "cell_type": "code",
   "execution_count": null,
   "id": "e53131cb-65ca-4798-b3bb-e0fe04922b52",
   "metadata": {},
   "outputs": [],
   "source": [
    "# Plot the error estimation of the concentration for a specified factor.\n",
    "factor_i = 1\n",
    "error.plot_summary(factor=factor_i)"
   ]
  },
  {
   "cell_type": "markdown",
   "id": "7a30f7f8-bfd5-439e-8dc6-1180e6b32b8d",
   "metadata": {},
   "source": [
    "### Constrained Model\n",
    "\n",
    "The constrained model provides the functionality for a user to use their prior knowledge about the source profiles to place limits and constraints on factor elements of the solution.\n",
    "\n",
    "The constrained model allows for two different options for placing these limits on the values of the solution, expressions and constraints. Constraints allow for a user to set precise limits on the value of a factor element, through several different constraint types. Expressions allow for the user to define how a factor element value is related to one or more other factor element values. These expressions are limited by the change in Q as a results of the new factor element values.\n",
    "\n",
    "Both constraints and expressions are evaluated at every iteration of the constrained model run, with expressions occuring first and the constraints being applied second. Constraints are either determined exactly prior to running the model, limited by a bounds, or are calculated by a value that results in a target dQ. Expressions are dynamic as the values and sum of the expression can change from one iteration to the next.\n",
    "\n",
    "Expressions are evaluated collectively as a set of linear equations, converted into matrix form. Such that:</br></br>\n",
    "$$c1*x1 + c2*x2 = 0$$\n",
    "$$c3*x3 - c4*x4 + c5*x5 = 0$$\n",
    "$$c6*x2 + c7*x5 = 0$$\n",
    "is equivalent to\n",
    "$$\\begin{bmatrix}\n",
    "c1 & c2 & 0 & 0 & 0 \\\\\n",
    "0 & 0 & c3 & -c4 & c5 \\\\\n",
    "0 & c6 & 0 & 0 & c7 \\end{bmatrix} = \\begin{bmatrix} 0 \\\\ 0 \\\\ 0 \\end{bmatrix}$$ \n",
    "\n",
    "The matrix of expressions is evaluated at each iteration to account for updates to the factor elements, both from the constraints and the update algorithm.\n",
    "\n",
    "A completed constrained model run will provided a constrained model which can then be used on any of the error estimation methods, by passing the .constrained_model (NMF) as the base model was originally."
   ]
  },
  {
   "cell_type": "code",
   "execution_count": null,
   "id": "c3e760cd-87c3-46fc-9ce2-cd84b4fab148",
   "metadata": {},
   "outputs": [],
   "source": [
    "# Import the Constrained Model module\n",
    "from esat.rotational.constrained import ConstrainedModel\n",
    "\n",
    "cm = ConstrainedModel(base_model=sa_model, data_handler=data_handler, softness=1.0)"
   ]
  },
  {
   "cell_type": "markdown",
   "id": "527e6a4a-17cf-43a0-ad9f-fd66f9219889",
   "metadata": {},
   "source": [
    "#### Adding Constraints\n",
    "There are 6 different constraint types available:</br>\n",
    "\"pull down\", \"pull up\", \"pull to value\", \"set to zero\", \"set to base value\", \"define limits\"\n",
    "\n",
    "The target of the constraint can be either \"feature\" (H) or \"sample\" (W)\n",
    "\n",
    "Additional parameters are available in the add_constraint method depending upon the constraint type specified:</br>\n",
    "'define limits' requires a min_value and a max_value parameter to be provided.</br>\n",
    "'pull to value' requires a target_value and dQ parameter to be provided.</br>\n",
    "'pull down' and 'pull up' require the dQ parameter to be provided.</br>\n",
    "\n",
    "Constraints are added to a constrained model by the .add_constraint() method. A factor element can only have one constraint.</br>\n",
    "Note that the index of the matrices are 'feature'=(index of factor, index of feature) and 'sample'=(index of sample, index of factor) "
   ]
  },
  {
   "cell_type": "code",
   "execution_count": null,
   "id": "15de1463-4c28-4052-8ee3-04bd26ee6f41",
   "metadata": {},
   "outputs": [],
   "source": [
    "# Add a 'set to zero 'constraint on the Factor-Feature matrix (H) index (0, 3)\n",
    "cm.add_constraint(constraint_type=\"set to zero\", index=(0,3), target=\"feature\")"
   ]
  },
  {
   "cell_type": "code",
   "execution_count": null,
   "id": "9a333cdb-be36-4b79-9789-86d0b5728a05",
   "metadata": {},
   "outputs": [],
   "source": [
    "# Add a 'define limits' constraint\n",
    "cm.add_constraint(constraint_type=\"define limits\", index=(2,10), target=\"feature\", min_value=0.1, max_value=0.9)"
   ]
  },
  {
   "cell_type": "code",
   "execution_count": null,
   "id": "5499c153-4fac-4799-9379-fbe4b61f6b33",
   "metadata": {},
   "outputs": [],
   "source": [
    "# Add 'pull up' and 'pull down' constraints\n",
    "# cm.add_constraint(constraint_type=\"pull up\", index=(2, 15), target=\"feature\", dQ=100)\n",
    "# cm.add_constraint(constraint_type=\"pull down\", index=(5, 1), target=\"feature\", dQ=50)"
   ]
  },
  {
   "cell_type": "code",
   "execution_count": null,
   "id": "9d72b083-c148-4dc9-8ef2-ea8ae32aa8e6",
   "metadata": {},
   "outputs": [],
   "source": [
    "# Add 'set to base value' constraint\n",
    "# cm.add_constraint(constraint_type='set to base value', index=(3, 3), target=\"feature\")"
   ]
  },
  {
   "cell_type": "code",
   "execution_count": null,
   "id": "fdc37c03-b519-4380-b55a-945866f33259",
   "metadata": {},
   "outputs": [],
   "source": [
    "# Add 'pull to value' constraint\n",
    "# cm.add_constraint(constraint_type='pull to value', index=(4, 20), target=\"feature\", target_value=2.5, dQ=50)"
   ]
  },
  {
   "cell_type": "code",
   "execution_count": null,
   "id": "bd34e325-96fd-4a85-8d1c-0f13e4be5228",
   "metadata": {},
   "outputs": [],
   "source": [
    "# Display all constraints\n",
    "cm.list_constraints()"
   ]
  },
  {
   "cell_type": "code",
   "execution_count": null,
   "id": "6ec5ad69-0ea6-4019-ac8f-de2c35caea7d",
   "metadata": {},
   "outputs": [],
   "source": [
    "# Constraints can be remove before training the model with 'constraint_model.remove_constraint(constraint_label=LABEL)' where LABEL is the string 'factor:I|feature:J', also shown when the constraints are listed.\n",
    "cm.remove_constraint(constraint_label='factor:0|feature:3')\n",
    "cm.list_constraints()"
   ]
  },
  {
   "cell_type": "markdown",
   "id": "eb4fbb65-d75c-4fc2-a502-7cee59c13750",
   "metadata": {},
   "source": [
    "#### Adding Expressions\n",
    "An expression is an equation involving 2 or more factor elements (from either W or H) where each factor element has a coefficient and the equation equals 0.</br>\n",
    "\n",
    "A factor element is defined by the string 'factor:F|feature:K' or 'factor:F|sample:J' where F, K, J are indecies. The factor element is defined inside of [ ], such as '[factor:1|feature:1]'.</br> \n",
    "\n",
    "A coefficient is placed in front of the factor element, and must be present (set to 1.0 in those cases). The coefficient of a factor element is structured like '10.0*[factor:2|feature:10]'</br>\n",
    "These coefficient/factor element terms are bounded by () and between multiple terms can be the +/- operator. The equations are all equal to zero.\n",
    "\n",
    "The expression string contains two components, the expression itself and a number that specifies the dQ limit.\n",
    "\n",
    "Examples of expression strings:\n",
    "\n",
    "\"(0.66*[factor:1|feature:2])-(4.2*[factor:2|feature:4])=0,250\"</br>\n",
    "\"(0.35*[factor:0|feature:3])-(2.0*[factor:1|feature:3])-(3.7*[factor:3|feature:4])=0,250\"</br>\n",
    "\"(3.2*[factor:2|feature:4])+(1.2*[factor:3|feature:10])+(0.1*[factor:1|feature:3])+(20.0*[factor:4|feature:3])-(10.7*[factor:5|feature:4])=0,250\"</br>\n",
    "\n",
    "The expressions are solved at each iteration where the equation is set to equal the sum of all factor elements. These expressions are solved as a single linear equation, with the sum of all dQ limits used to reduce the change from the original values to the solved target values.\n",
    "\n",
    "There is currently no limit on the number of expressions or the number of times a factor element can be in an expression. A factor element can be in both a constraint and one or more expressions.\n",
    "\n",
    "During each iteration of the constained model training method, the expressions are evaluated first and then the constraints are applied. These constraint and expressions results are used to calculate a difference matrix, which is used to modify the solution matrix. The difference matrix is the difference between the constrained target values and the current solution."
   ]
  },
  {
   "cell_type": "code",
   "execution_count": null,
   "id": "a13031d8-ae80-440e-824c-918ed7a31093",
   "metadata": {},
   "outputs": [],
   "source": [
    "# Here are three example expressions where each term is defined inside (), containing a coefficient and factor element.\n",
    "expression1 = \"(0.66*[factor:1|feature:2])-(4.2*[factor:2|feature:4])=0,250\"\n",
    "expression2 = \"(0.35*[factor:0|feature:3])-(2.0*[factor:1|feature:3])-(3.7*[factor:3|feature:4])=0,250\"\n",
    "expression3 = \"(3.2*[factor:2|feature:4])+(1.2*[factor:3|feature:10])+(0.1*[factor:1|feature:3])+(20.0*[factor:4|feature:3])-(10.7*[factor:5|feature:4])=0,250\""
   ]
  },
  {
   "cell_type": "code",
   "execution_count": null,
   "id": "77e20c15-dec0-4059-9c83-6ef47173fc45",
   "metadata": {},
   "outputs": [],
   "source": [
    "# Expressions are added with the add_expression function\n",
    "cm.add_expression(expression1)\n",
    "cm.add_expression(expression2)\n",
    "# cm.add_expression(expression3)"
   ]
  },
  {
   "cell_type": "code",
   "execution_count": null,
   "id": "cf6d12c2-6a67-4211-86cc-8a0bd8f77529",
   "metadata": {},
   "outputs": [],
   "source": [
    "# All expressions currently added for the model can be listed using the list_expressions() function\n",
    "cm.list_expressions()"
   ]
  },
  {
   "cell_type": "code",
   "execution_count": null,
   "id": "c73c7f03-4494-4035-8a11-ac993dd91a80",
   "metadata": {},
   "outputs": [],
   "source": [
    "# An expression can be removed with the .remove_expression and the expression index as found in the list of \n",
    "# cm.remove_expression(expression_idx=0)\n",
    "# cm.list_expressions()"
   ]
  },
  {
   "cell_type": "code",
   "execution_count": null,
   "id": "f6a89c25-9223-41c0-af2b-8443b2715628",
   "metadata": {},
   "outputs": [],
   "source": [
    "# Once all the constraints and expressions have been defined and added. We can tain the constrained model.\n",
    "# When the model is finished training, a new NMF model is availble in the constrained_model object as the constrained_model variable\n",
    "cm.train(max_iterations=20000)"
   ]
  },
  {
   "cell_type": "code",
   "execution_count": null,
   "id": "b047a624-4d7c-4dd7-96e6-b50740b4a980",
   "metadata": {},
   "outputs": [],
   "source": [
    "# Print the results of the constrained model run, as seen in the PMF5 results.\n",
    "cm.display_results()\n",
    "# Show the plot of how Q changes during the constrained model training. Qtype can be 'True', 'Robust', 'aux'.\n",
    "cm.plot_Q(Qtype=\"Aux\") # Qtype: True, Robust, Aux"
   ]
  },
  {
   "cell_type": "code",
   "execution_count": null,
   "id": "041f1025-a031-4d46-848d-5af8a03ab5c0",
   "metadata": {},
   "outputs": [],
   "source": [
    "# Evaluate the constraints factor elements from the constrained model solution.\n",
    "# Note: values may be different than the target valuve or range as expressions and constraints are applied before the matrix update algorithm.\n",
    "cm.evaluate_constraints()"
   ]
  },
  {
   "cell_type": "code",
   "execution_count": null,
   "id": "056e37db-0363-4ff4-92a9-817bf67aed27",
   "metadata": {},
   "outputs": [],
   "source": [
    "# Evaluate expression factor elements from the constrained model solution. Includes calculating current value of expressions.\n",
    "cm.evaluate_expressions()"
   ]
  },
  {
   "cell_type": "code",
   "execution_count": null,
   "id": "e117cffe-3770-47af-81e5-396704fe8ff9",
   "metadata": {},
   "outputs": [],
   "source": [
    "# Plot the profile and contribution graphs of the constrained model for a specified factor index.\n",
    "cm.plot_profile_contributions(factor_idx=1)"
   ]
  },
  {
   "cell_type": "code",
   "execution_count": null,
   "id": "fa9e7a87-f5ae-4234-b114-7ae51638428b",
   "metadata": {},
   "outputs": [],
   "source": [
    "# Plot the factor fingerprint stacked bar graph for the constrained model\n",
    "cm.plot_factor_fingerprints()"
   ]
  },
  {
   "cell_type": "code",
   "execution_count": null,
   "id": "d616340e-b4b1-40b1-b84a-674b8710aaa7",
   "metadata": {},
   "outputs": [],
   "source": [
    "# Plot the g space graph for the constrained model.\n",
    "# Two optional arguments are available: show_base=Boolean, show_delta=Boolean. These default to False.\n",
    "cm.plot_g_space(factor_idx1=1, factor_idx2=2, show_base=True, show_delta=True)"
   ]
  },
  {
   "cell_type": "code",
   "execution_count": null,
   "id": "69fca874-76f5-47a1-93c5-701b10f4cf72",
   "metadata": {},
   "outputs": [],
   "source": [
    "# Plot the factor contributions of the constrained model for a specified feature.\n",
    "cm.plot_factor_contributions(feature_idx=4)"
   ]
  },
  {
   "cell_type": "markdown",
   "id": "5bf58f9a-1a41-4d4a-a5f3-5fafec78acf4",
   "metadata": {},
   "source": [
    "#### Constrained Model Error Methods\n",
    "\n",
    "The constrained model solution can also be used in the error estimation methods in the same way the SA model was used. Once the constrained model finds a solution, a new SA model is available with the constrained model W and H matrices and other parameters. The new constrained SA model is the ConstrainedModel.constrained_model variable."
   ]
  },
  {
   "cell_type": "code",
   "execution_count": null,
   "id": "8de65101-6936-4c72-beb9-80b89ecd3cc7",
   "metadata": {},
   "outputs": [],
   "source": [
    "cm_model = cm.constrained_model"
   ]
  },
  {
   "cell_type": "code",
   "execution_count": null,
   "id": "ec18008e-882e-4f9b-99f0-c2ea29e46c1e",
   "metadata": {},
   "outputs": [],
   "source": [
    "# Initialize the Displacement method, passing in the results of the constrained nmf run and the features labels from the data handler.\n",
    "cm_disp = Displacement(sa=cm_model, feature_labels=data_handler.features, model_selected=\"constrained\", features=[0,1,2,3,4])"
   ]
  },
  {
   "cell_type": "code",
   "execution_count": null,
   "id": "0fb47383-8cbe-4603-89f3-d9a085999cf4",
   "metadata": {},
   "outputs": [],
   "source": [
    "%%time\n",
    "# Execute the displacement model\n",
    "cm_disp.run()"
   ]
  },
  {
   "cell_type": "code",
   "execution_count": null,
   "id": "a4c4b712-2052-4966-9955-f7a83863e3a7",
   "metadata": {},
   "outputs": [],
   "source": [
    "# Show cosntrained model displayment summary\n",
    "cm_disp.summary()"
   ]
  },
  {
   "cell_type": "code",
   "execution_count": null,
   "id": "5d066737-182b-4e14-8966-baa8f3cae2b1",
   "metadata": {},
   "outputs": [],
   "source": [
    "# Plot the results from the constrained model displacement results\n",
    "factor_i = 1\n",
    "cm_disp.plot_results(factor=factor_i)"
   ]
  },
  {
   "cell_type": "code",
   "execution_count": null,
   "id": "63a1741c-4991-4d5a-97a2-9b5eb6b78a74",
   "metadata": {},
   "outputs": [],
   "source": [
    "# Bootstrap input parameters (the same as the base model BS parameters except for the SA model used.)\n",
    "feature_labels = data_handler.features              # The list of feature names/labels\n",
    "\n",
    "bootstrap_n = 20                                    # The number of bootstrap runs to complete\n",
    "block_size = data_handler.optimal_block             # Calculates an optimal block size from the Politis and White 2004 algorithm (used in PMF5)\n",
    "threshold = 0.6                                     # The r-correlation threshold\n",
    "seed = seed                                         # The random seed used for random selection of the bootstrap blocks.\n",
    "print(f\"Optimal BS block size: {data_handler.optimal_block}\")"
   ]
  },
  {
   "cell_type": "code",
   "execution_count": null,
   "id": "dc8b19fa-70ef-40ec-a4cb-bde42ac9299c",
   "metadata": {},
   "outputs": [],
   "source": [
    "# Initialize the bootstrap object (changes are to the nmf parameter and the model_selected which is used for labeling in the results)\n",
    "cm_bs = Bootstrap(sa=cm_model, feature_labels=feature_labels, model_selected=\"constrained\", bootstrap_n=bootstrap_n, block_size=block_size, threshold=threshold, seed=seed)"
   ]
  },
  {
   "cell_type": "code",
   "execution_count": null,
   "id": "420e4cfe-da3e-4008-9d80-a627801caf46",
   "metadata": {},
   "outputs": [],
   "source": [
    "%%time\n",
    "# Execute the constrained model bootstrap runs\n",
    "cm_bs.run()"
   ]
  },
  {
   "cell_type": "code",
   "execution_count": null,
   "id": "e90464b4-62e9-419c-b1e5-6ae49d362158",
   "metadata": {},
   "outputs": [],
   "source": [
    "# Print the output summary of all the constrained bootstrap runs.\n",
    "cm_bs.summary()"
   ]
  },
  {
   "cell_type": "code",
   "execution_count": null,
   "id": "50cae1f7-8531-4186-9209-8e49031c4ed3",
   "metadata": {},
   "outputs": [],
   "source": [
    "# Plot the results of the constrained bootstrap runs for a specific factor, showing the variability in percentage and concentration for each feature of the specified factor.\n",
    "factor_i = 1\n",
    "cm_bs.plot_results(factor=factor_i)"
   ]
  },
  {
   "cell_type": "code",
   "execution_count": null,
   "id": "0196484f-b743-478e-9e3d-c9465dfec7bc",
   "metadata": {},
   "outputs": [],
   "source": []
  },
  {
   "cell_type": "code",
   "execution_count": null,
   "id": "7eafe023-e783-4c17-bf08-7242f375cde6",
   "metadata": {},
   "outputs": [],
   "source": []
  }
 ],
 "metadata": {
  "kernelspec": {
   "display_name": "Python 3 (ipykernel)",
   "language": "python",
   "name": "python3"
  },
  "language_info": {
   "codemirror_mode": {
    "name": "ipython",
    "version": 3
   },
   "file_extension": ".py",
   "mimetype": "text/x-python",
   "name": "python",
   "nbconvert_exporter": "python",
   "pygments_lexer": "ipython3",
   "version": "3.12.9"
  }
 },
 "nbformat": 4,
 "nbformat_minor": 5
}
