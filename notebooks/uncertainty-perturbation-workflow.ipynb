{
 "cells": [
  {
   "cell_type": "markdown",
   "id": "5686853f-4655-4e79-af04-fe24aac1756e",
   "metadata": {},
   "source": [
    "## ESAT Uncertainty Perturbation Workflow\n",
    "\n",
    "This notebook implements an uncertainty perturbation workflow for model evaluation.\n"
   ]
  },
  {
   "cell_type": "markdown",
   "id": "206ac55f-9259-4ce1-b87e-3302d2ed00f9",
   "metadata": {},
   "source": [
    "#### Code Imports"
   ]
  },
  {
   "cell_type": "code",
   "execution_count": 1,
   "id": "c9de6b9e-89a5-4db8-94d4-2226605d9ae6",
   "metadata": {},
   "outputs": [],
   "source": [
    "import time\n",
    "import copy\n",
    "\n",
    "import numpy as np\n",
    "import pandas as pd\n",
    "import plotly.graph_objects as go\n",
    "\n",
    "from tqdm.notebook import trange, tqdm, tnrange\n",
    "from plotly.subplots import make_subplots\n",
    "from scipy.sparse import csr_matrix\n",
    "from scipy.sparse.csgraph import min_weight_full_bipartite_matching\n",
    "from esat.data.datahandler import DataHandler\n",
    "from esat.model.sa import SA\n",
    "from esat.model.batch_sa import BatchSA\n",
    "from esat.data.analysis import ModelAnalysis, BatchAnalysis\n",
    "from esat.error.bootstrap import Bootstrap\n",
    "from esat_eval.simulator import Simulator\n",
    "from esat_eval.factor_comparison import FactorCompare\n",
    "from esat_eval.factor_catalog import FactorCatalog\n",
    "from esat_eval.perturbation import Perturbation\n",
    "\n",
    "pd.options.display.float_format = '{:.4f}'.format"
   ]
  },
  {
   "cell_type": "code",
   "execution_count": 2,
   "id": "47e80dbc-702b-4fca-b800-0660033a251d",
   "metadata": {},
   "outputs": [],
   "source": [
    "# Synethic dataset parameter value ranges\n",
    "syn_factors_min = 3\n",
    "syn_factors_max = 8\n",
    "\n",
    "syn_features_min = 15\n",
    "syn_features_max = 45\n",
    "\n",
    "syn_samples_min = 200\n",
    "syn_samples_max = 1000\n",
    "\n",
    "outliers = True\n",
    "outliers_p_min = 0.05\n",
    "outliers_p_max = 0.1\n",
    "outliers_mag_min = 1.1\n",
    "outliers_mag_max = 2\n",
    "\n",
    "noise_mean_min = 0.05\n",
    "noise_mean_max = 0.15\n",
    "noise_scale = 0.01\n",
    "\n",
    "uncertainty_mean_min = 0.05\n",
    "uncertainty_mean_max = 0.15\n",
    "uncertainty_scale = 0.01\n",
    "\n",
    "contr_curve_min_range = [0.0, 1.0]\n",
    "contr_curve_max_range = [2.0, 5.0]\n",
    "contr_curve_scale_range = [0.1, 0.5]\n",
    "\n",
    "random_seed = 337\n",
    "k_coef = 0.75"
   ]
  },
  {
   "cell_type": "code",
   "execution_count": 3,
   "id": "a2408991-45a6-4a5c-ac14-388f79cbab49",
   "metadata": {},
   "outputs": [],
   "source": [
    "rng = np.random.default_rng(seed=random_seed)"
   ]
  },
  {
   "cell_type": "code",
   "execution_count": 4,
   "id": "027daffb-16a2-4b3b-bff8-572e5076fe5c",
   "metadata": {},
   "outputs": [],
   "source": [
    "# Initialize the simulator with the above parameters\n",
    "def generate_synthetic_data(true_factor):\n",
    "    n_features = rng.integers(low=syn_features_min, high=syn_features_max, size=1)[0]\n",
    "    n_samples = rng.integers(low=syn_samples_min, high=syn_samples_max, size=1)[0]\n",
    "    i_outlier_p = round(rng.uniform(low=outliers_p_min, high=outliers_p_max, size=1)[0], 2)\n",
    "    i_outlier_mag = round(rng.uniform(low=outliers_mag_min, high=outliers_mag_max, size=1)[0], 2)\n",
    "    contribution_max = round(rng.uniform(low=1.0, high=10.0, size=1)[0], 2)\n",
    "    print(f\"True Factors: {true_factor}, Features: {n_features}, Samples: {n_samples}, Outliers %: {i_outlier_p}, Outliers Magnitude: {i_outlier_mag}, Contribution Max: {contribution_max}\")\n",
    "    simulator = Simulator(seed=rng.integers(low=0, high=10, size=1)[0],\n",
    "                          factors_n=true_factor,\n",
    "                          features_n=n_features,\n",
    "                          samples_n=n_samples,\n",
    "                          outliers=outliers,\n",
    "                          outlier_p=i_outlier_p,\n",
    "                          outlier_mag=i_outlier_mag,\n",
    "                          contribution_max=contribution_max,\n",
    "                          noise_mean_min=noise_mean_min,\n",
    "                          noise_mean_max=noise_mean_max,\n",
    "                          noise_scale=noise_scale,\n",
    "                          uncertainty_mean_min=uncertainty_mean_min,\n",
    "                          uncertainty_mean_max=uncertainty_mean_max,\n",
    "                          uncertainty_scale=uncertainty_scale,\n",
    "                          verbose=False\n",
    "                         )\n",
    "    curved_factors_count = rng.integers(low=0, high=true_factor, size=1)[0]\n",
    "    curved_factor_list = rng.choice(list(range(true_factor)), size=curved_factors_count, replace=False)\n",
    "    for c_i in curved_factor_list:\n",
    "        # parameters not used by the curve type are ignored\n",
    "        i_curve_type = rng.choice(['uniform', 'decreasing', 'increasing', 'logistic', 'periodic'], size=1)[0]\n",
    "        i_curve_min = rng.uniform(low=contr_curve_min_range[0], high=contr_curve_min_range[1], size=1)[0]\n",
    "        i_curve_max = rng.uniform(low=contr_curve_max_range[0], high=contr_curve_max_range[1], size=1)[0]\n",
    "        i_curve_scale = rng.uniform(low=contr_curve_scale_range[0], high=contr_curve_scale_range[1], size=1)[0]\n",
    "        i_curve_frequency = rng.uniform(low=0.1, high=0.9, size=1)[0]\n",
    "        \n",
    "        # To keep all as uniform comment out the line below\n",
    "        # simulator.update_contribution(factor_i=c_i, curve_type=i_curve_type, scale=i_curve_scale, frequency=i_curve_frequency, minimum=i_curve_min, maximum=i_curve_max)\n",
    "    \n",
    "    syn_input_df, syn_uncertainty_df = simulator.get_data()\n",
    "    data_handler = DataHandler.load_dataframe(input_df=syn_input_df, uncertainty_df=syn_uncertainty_df)\n",
    "    data_handler.metrics\n",
    "    V, U = data_handler.get_data()\n",
    "    return V, U"
   ]
  },
  {
   "cell_type": "markdown",
   "id": "69a89726-42b6-4aeb-88d2-6d8b71c02737",
   "metadata": {},
   "source": [
    "## Single Perturbation Instance\n",
    "\n",
    "A single instance of the run_perturbation function is called. This will create a single SA instance to use as the base model with n_models being the number of perturbed instances to make (each independent of each other) for that single base model."
   ]
  },
  {
   "cell_type": "code",
   "execution_count": 5,
   "id": "1728e8e8-cd9a-4a68-a5c1-2ab827ca237a",
   "metadata": {},
   "outputs": [
    {
     "name": "stdout",
     "output_type": "stream",
     "text": [
      "True Factors: 6, Features: 24, Samples: 222, Outliers %: 0.06, Outliers Magnitude: 1.8, Contribution Max: 9.26\n",
      "CPU times: total: 46.9 ms\n",
      "Wall time: 77.5 ms\n"
     ]
    }
   ],
   "source": [
    "%%time\n",
    "true_k = 6\n",
    "iV, iU = generate_synthetic_data(true_factor=true_k)"
   ]
  },
  {
   "cell_type": "code",
   "execution_count": 6,
   "id": "992f6bcf-2ad4-4112-99d7-a80d0024c009",
   "metadata": {},
   "outputs": [],
   "source": [
    "estimate_k = 6\n",
    "n_models = 50\n",
    "threshold = 0.1\n",
    "\n",
    "perturb_p = 1.0\n",
    "perturb_sigma = 0.25\n",
    "correlation_method = \"raae\""
   ]
  },
  {
   "cell_type": "code",
   "execution_count": 7,
   "id": "aaecff92-be82-4de9-8c11-681aac32b72e",
   "metadata": {},
   "outputs": [],
   "source": [
    "perturb = Perturbation(V=iV, U=iU, factors=estimate_k, compare_method=correlation_method, threshold=threshold, models=n_models, perturb_percent=perturb_p, sigma=perturb_sigma, random_seed=random_seed, in_notebook=True)"
   ]
  },
  {
   "cell_type": "code",
   "execution_count": 8,
   "id": "b57893ad-5661-44be-8386-014f12791f3a",
   "metadata": {},
   "outputs": [],
   "source": [
    "%%capture\n",
    "perturb.run()"
   ]
  },
  {
   "cell_type": "code",
   "execution_count": 9,
   "id": "0ccc7245-5872-45e5-b1a9-fd526cbb71d0",
   "metadata": {},
   "outputs": [
    {
     "name": "stderr",
     "output_type": "stream",
     "text": [
      "17-Jun-25 13:30:26 - Comparing 50 perturbed models using raae\n",
      "Calculating correlation between base and model factors:   0%|                                                                                                                            | 0/50 [00:00<?, ?it/s]"
     ]
    },
    {
     "data": {
      "application/vnd.jupyter.widget-view+json": {
       "model_id": "1148cb2412fb498ea6c1623d17e2b46d",
       "version_major": 2,
       "version_minor": 0
      },
      "text/plain": [
       "Calculating correlation between base and model factors:   0%|          | 0/50 [00:00<?, ?it/s]"
      ]
     },
     "metadata": {},
     "output_type": "display_data"
    },
    {
     "name": "stderr",
     "output_type": "stream",
     "text": [
      "17-Jun-25 13:30:26 - Perturbed factor mean values                                                                                                                                                               \n",
      "17-Jun-25 13:30:26 -       Factor 1  Factor 2  Factor 3  Factor 4  Factor 5  Factor 6\n",
      "RAAE    0.0443    0.0294    0.0465    0.0401    0.0929    0.0268\n",
      "17-Jun-25 13:30:26 - \n",
      "Perturbation Multiplier Details\n",
      "17-Jun-25 13:30:26 - first   0.5605\n",
      "25th    0.8444\n",
      "50th    0.9999\n",
      "75th    1.1830\n",
      "99th    1.7870\n",
      "sigma   0.2500\n",
      "dtype: float64\n",
      "17-Jun-25 13:30:26 - \n",
      "Perturbed H Results\n",
      "17-Jun-25 13:30:26 -              Base  Mean Perturb   % diff  STD Perturb  Min Perturb  \\\n",
      "Feature 1  0.0847        0.0859   1.3906       0.0072       0.0701   \n",
      "Feature 2  0.0373        0.0374   0.2788       0.0038       0.0300   \n",
      "Feature 3  0.8565        0.8578   0.1600       0.0044       0.8477   \n",
      "Feature 4  0.5068        0.4989  -1.5608       0.0145       0.4660   \n",
      "Feature 5  0.0233        0.0223  -4.5160       0.0053       0.0125   \n",
      "Feature 6  0.0000        0.0000   0.0000       0.0000       0.0000   \n",
      "Feature 7  0.1615        0.1615  -0.0099       0.0070       0.1470   \n",
      "Feature 8  0.2363        0.2374   0.4604       0.0076       0.2221   \n",
      "Feature 9  0.2343        0.2332  -0.4804       0.0086       0.2098   \n",
      "Feature 10 0.9691        0.9694   0.0228       0.0010       0.9664   \n",
      "Feature 11 0.9708        0.9709   0.0079       0.0010       0.9676   \n",
      "Feature 12 0.0243        0.0236  -3.1478       0.0056       0.0130   \n",
      "Feature 13 0.5823        0.5838   0.2623       0.0099       0.5647   \n",
      "Feature 14 0.0000        0.0002 134.9207       0.0012       0.0000   \n",
      "Feature 15 0.1834        0.1864   1.6254       0.0063       0.1738   \n",
      "Feature 16 0.0449        0.0431  -4.0916       0.0066       0.0241   \n",
      "Feature 17 0.0019        0.0039  68.8409       0.0035       0.0000   \n",
      "Feature 18 0.0693        0.0688  -0.7623       0.0121       0.0401   \n",
      "Feature 19 0.2068        0.2049  -0.9288       0.0118       0.1842   \n",
      "Feature 20 0.0000        0.0000   0.0000       0.0000       0.0000   \n",
      "Feature 21 0.0000        0.0000   0.0000       0.0000       0.0000   \n",
      "Feature 22 0.0000        0.0000   0.0000       0.0000       0.0000   \n",
      "Feature 23 0.1070        0.1086   1.4686       0.0043       0.0997   \n",
      "Feature 24 0.3005        0.3040   1.1714       0.0093       0.2869   \n",
      "\n",
      "            Max Perturb  \n",
      "Feature 1        0.1022  \n",
      "Feature 2        0.0507  \n",
      "Feature 3        0.8693  \n",
      "Feature 4        0.5333  \n",
      "Feature 5        0.0355  \n",
      "Feature 6        0.0000  \n",
      "Feature 7        0.1849  \n",
      "Feature 8        0.2518  \n",
      "Feature 9        0.2502  \n",
      "Feature 10       0.9716  \n",
      "Feature 11       0.9731  \n",
      "Feature 12       0.0347  \n",
      "Feature 13       0.6068  \n",
      "Feature 14       0.0085  \n",
      "Feature 15       0.2026  \n",
      "Feature 16       0.0621  \n",
      "Feature 17       0.0130  \n",
      "Feature 18       0.0961  \n",
      "Feature 19       0.2281  \n",
      "Feature 20       0.0000  \n",
      "Feature 21       0.0000  \n",
      "Feature 22       0.0000  \n",
      "Feature 23       0.1206  \n",
      "Feature 24       0.3346  \n",
      "17-Jun-25 13:30:26 - \n",
      "QTrue - Base: 13452.8603515625, Perturb Mean: 14285.857421875, Perturb STD: 248.18099975585938, Perturb Min: 13638.513671875, Perturb Max: 14852.6220703125\n"
     ]
    }
   ],
   "source": [
    "perturb.compare(in_notebook=True)"
   ]
  },
  {
   "cell_type": "code",
   "execution_count": 10,
   "id": "dd8af29f-22c4-4a29-8e68-05a5e624f262",
   "metadata": {},
   "outputs": [
    {
     "data": {
      "application/vnd.plotly.v1+json": {
       "config": {
        "plotlyServerURL": "https://plot.ly"
       },
       "data": [
        {
         "name": "Perturbed W",
         "type": "bar",
         "x": [
          "Factor 1",
          "Factor 2",
          "Factor 3",
          "Factor 4",
          "Factor 5",
          "Factor 6"
         ],
         "y": {
          "bdata": "P9svQRIrnkEn5pBBHVOGQcBMFEGth8hB",
          "dtype": "f4"
         }
        },
        {
         "name": "Base W",
         "type": "bar",
         "x": [
          "Factor 1",
          "Factor 2",
          "Factor 3",
          "Factor 4",
          "Factor 5",
          "Factor 6"
         ],
         "y": {
          "bdata": "UZAvQS2+nUEoaJFBlR+FQckjFkEG4MhB",
          "dtype": "f4"
         }
        }
       ],
       "layout": {
        "barmode": "group",
        "height": 800,
        "hovermode": "x unified",
        "template": {
         "data": {
          "bar": [
           {
            "error_x": {
             "color": "#2a3f5f"
            },
            "error_y": {
             "color": "#2a3f5f"
            },
            "marker": {
             "line": {
              "color": "#E5ECF6",
              "width": 0.5
             },
             "pattern": {
              "fillmode": "overlay",
              "size": 10,
              "solidity": 0.2
             }
            },
            "type": "bar"
           }
          ],
          "barpolar": [
           {
            "marker": {
             "line": {
              "color": "#E5ECF6",
              "width": 0.5
             },
             "pattern": {
              "fillmode": "overlay",
              "size": 10,
              "solidity": 0.2
             }
            },
            "type": "barpolar"
           }
          ],
          "carpet": [
           {
            "aaxis": {
             "endlinecolor": "#2a3f5f",
             "gridcolor": "white",
             "linecolor": "white",
             "minorgridcolor": "white",
             "startlinecolor": "#2a3f5f"
            },
            "baxis": {
             "endlinecolor": "#2a3f5f",
             "gridcolor": "white",
             "linecolor": "white",
             "minorgridcolor": "white",
             "startlinecolor": "#2a3f5f"
            },
            "type": "carpet"
           }
          ],
          "choropleth": [
           {
            "colorbar": {
             "outlinewidth": 0,
             "ticks": ""
            },
            "type": "choropleth"
           }
          ],
          "contour": [
           {
            "colorbar": {
             "outlinewidth": 0,
             "ticks": ""
            },
            "colorscale": [
             [
              0,
              "#0d0887"
             ],
             [
              0.1111111111111111,
              "#46039f"
             ],
             [
              0.2222222222222222,
              "#7201a8"
             ],
             [
              0.3333333333333333,
              "#9c179e"
             ],
             [
              0.4444444444444444,
              "#bd3786"
             ],
             [
              0.5555555555555556,
              "#d8576b"
             ],
             [
              0.6666666666666666,
              "#ed7953"
             ],
             [
              0.7777777777777778,
              "#fb9f3a"
             ],
             [
              0.8888888888888888,
              "#fdca26"
             ],
             [
              1,
              "#f0f921"
             ]
            ],
            "type": "contour"
           }
          ],
          "contourcarpet": [
           {
            "colorbar": {
             "outlinewidth": 0,
             "ticks": ""
            },
            "type": "contourcarpet"
           }
          ],
          "heatmap": [
           {
            "colorbar": {
             "outlinewidth": 0,
             "ticks": ""
            },
            "colorscale": [
             [
              0,
              "#0d0887"
             ],
             [
              0.1111111111111111,
              "#46039f"
             ],
             [
              0.2222222222222222,
              "#7201a8"
             ],
             [
              0.3333333333333333,
              "#9c179e"
             ],
             [
              0.4444444444444444,
              "#bd3786"
             ],
             [
              0.5555555555555556,
              "#d8576b"
             ],
             [
              0.6666666666666666,
              "#ed7953"
             ],
             [
              0.7777777777777778,
              "#fb9f3a"
             ],
             [
              0.8888888888888888,
              "#fdca26"
             ],
             [
              1,
              "#f0f921"
             ]
            ],
            "type": "heatmap"
           }
          ],
          "histogram": [
           {
            "marker": {
             "pattern": {
              "fillmode": "overlay",
              "size": 10,
              "solidity": 0.2
             }
            },
            "type": "histogram"
           }
          ],
          "histogram2d": [
           {
            "colorbar": {
             "outlinewidth": 0,
             "ticks": ""
            },
            "colorscale": [
             [
              0,
              "#0d0887"
             ],
             [
              0.1111111111111111,
              "#46039f"
             ],
             [
              0.2222222222222222,
              "#7201a8"
             ],
             [
              0.3333333333333333,
              "#9c179e"
             ],
             [
              0.4444444444444444,
              "#bd3786"
             ],
             [
              0.5555555555555556,
              "#d8576b"
             ],
             [
              0.6666666666666666,
              "#ed7953"
             ],
             [
              0.7777777777777778,
              "#fb9f3a"
             ],
             [
              0.8888888888888888,
              "#fdca26"
             ],
             [
              1,
              "#f0f921"
             ]
            ],
            "type": "histogram2d"
           }
          ],
          "histogram2dcontour": [
           {
            "colorbar": {
             "outlinewidth": 0,
             "ticks": ""
            },
            "colorscale": [
             [
              0,
              "#0d0887"
             ],
             [
              0.1111111111111111,
              "#46039f"
             ],
             [
              0.2222222222222222,
              "#7201a8"
             ],
             [
              0.3333333333333333,
              "#9c179e"
             ],
             [
              0.4444444444444444,
              "#bd3786"
             ],
             [
              0.5555555555555556,
              "#d8576b"
             ],
             [
              0.6666666666666666,
              "#ed7953"
             ],
             [
              0.7777777777777778,
              "#fb9f3a"
             ],
             [
              0.8888888888888888,
              "#fdca26"
             ],
             [
              1,
              "#f0f921"
             ]
            ],
            "type": "histogram2dcontour"
           }
          ],
          "mesh3d": [
           {
            "colorbar": {
             "outlinewidth": 0,
             "ticks": ""
            },
            "type": "mesh3d"
           }
          ],
          "parcoords": [
           {
            "line": {
             "colorbar": {
              "outlinewidth": 0,
              "ticks": ""
             }
            },
            "type": "parcoords"
           }
          ],
          "pie": [
           {
            "automargin": true,
            "type": "pie"
           }
          ],
          "scatter": [
           {
            "fillpattern": {
             "fillmode": "overlay",
             "size": 10,
             "solidity": 0.2
            },
            "type": "scatter"
           }
          ],
          "scatter3d": [
           {
            "line": {
             "colorbar": {
              "outlinewidth": 0,
              "ticks": ""
             }
            },
            "marker": {
             "colorbar": {
              "outlinewidth": 0,
              "ticks": ""
             }
            },
            "type": "scatter3d"
           }
          ],
          "scattercarpet": [
           {
            "marker": {
             "colorbar": {
              "outlinewidth": 0,
              "ticks": ""
             }
            },
            "type": "scattercarpet"
           }
          ],
          "scattergeo": [
           {
            "marker": {
             "colorbar": {
              "outlinewidth": 0,
              "ticks": ""
             }
            },
            "type": "scattergeo"
           }
          ],
          "scattergl": [
           {
            "marker": {
             "colorbar": {
              "outlinewidth": 0,
              "ticks": ""
             }
            },
            "type": "scattergl"
           }
          ],
          "scattermap": [
           {
            "marker": {
             "colorbar": {
              "outlinewidth": 0,
              "ticks": ""
             }
            },
            "type": "scattermap"
           }
          ],
          "scattermapbox": [
           {
            "marker": {
             "colorbar": {
              "outlinewidth": 0,
              "ticks": ""
             }
            },
            "type": "scattermapbox"
           }
          ],
          "scatterpolar": [
           {
            "marker": {
             "colorbar": {
              "outlinewidth": 0,
              "ticks": ""
             }
            },
            "type": "scatterpolar"
           }
          ],
          "scatterpolargl": [
           {
            "marker": {
             "colorbar": {
              "outlinewidth": 0,
              "ticks": ""
             }
            },
            "type": "scatterpolargl"
           }
          ],
          "scatterternary": [
           {
            "marker": {
             "colorbar": {
              "outlinewidth": 0,
              "ticks": ""
             }
            },
            "type": "scatterternary"
           }
          ],
          "surface": [
           {
            "colorbar": {
             "outlinewidth": 0,
             "ticks": ""
            },
            "colorscale": [
             [
              0,
              "#0d0887"
             ],
             [
              0.1111111111111111,
              "#46039f"
             ],
             [
              0.2222222222222222,
              "#7201a8"
             ],
             [
              0.3333333333333333,
              "#9c179e"
             ],
             [
              0.4444444444444444,
              "#bd3786"
             ],
             [
              0.5555555555555556,
              "#d8576b"
             ],
             [
              0.6666666666666666,
              "#ed7953"
             ],
             [
              0.7777777777777778,
              "#fb9f3a"
             ],
             [
              0.8888888888888888,
              "#fdca26"
             ],
             [
              1,
              "#f0f921"
             ]
            ],
            "type": "surface"
           }
          ],
          "table": [
           {
            "cells": {
             "fill": {
              "color": "#EBF0F8"
             },
             "line": {
              "color": "white"
             }
            },
            "header": {
             "fill": {
              "color": "#C8D4E3"
             },
             "line": {
              "color": "white"
             }
            },
            "type": "table"
           }
          ]
         },
         "layout": {
          "annotationdefaults": {
           "arrowcolor": "#2a3f5f",
           "arrowhead": 0,
           "arrowwidth": 1
          },
          "autotypenumbers": "strict",
          "coloraxis": {
           "colorbar": {
            "outlinewidth": 0,
            "ticks": ""
           }
          },
          "colorscale": {
           "diverging": [
            [
             0,
             "#8e0152"
            ],
            [
             0.1,
             "#c51b7d"
            ],
            [
             0.2,
             "#de77ae"
            ],
            [
             0.3,
             "#f1b6da"
            ],
            [
             0.4,
             "#fde0ef"
            ],
            [
             0.5,
             "#f7f7f7"
            ],
            [
             0.6,
             "#e6f5d0"
            ],
            [
             0.7,
             "#b8e186"
            ],
            [
             0.8,
             "#7fbc41"
            ],
            [
             0.9,
             "#4d9221"
            ],
            [
             1,
             "#276419"
            ]
           ],
           "sequential": [
            [
             0,
             "#0d0887"
            ],
            [
             0.1111111111111111,
             "#46039f"
            ],
            [
             0.2222222222222222,
             "#7201a8"
            ],
            [
             0.3333333333333333,
             "#9c179e"
            ],
            [
             0.4444444444444444,
             "#bd3786"
            ],
            [
             0.5555555555555556,
             "#d8576b"
            ],
            [
             0.6666666666666666,
             "#ed7953"
            ],
            [
             0.7777777777777778,
             "#fb9f3a"
            ],
            [
             0.8888888888888888,
             "#fdca26"
            ],
            [
             1,
             "#f0f921"
            ]
           ],
           "sequentialminus": [
            [
             0,
             "#0d0887"
            ],
            [
             0.1111111111111111,
             "#46039f"
            ],
            [
             0.2222222222222222,
             "#7201a8"
            ],
            [
             0.3333333333333333,
             "#9c179e"
            ],
            [
             0.4444444444444444,
             "#bd3786"
            ],
            [
             0.5555555555555556,
             "#d8576b"
            ],
            [
             0.6666666666666666,
             "#ed7953"
            ],
            [
             0.7777777777777778,
             "#fb9f3a"
            ],
            [
             0.8888888888888888,
             "#fdca26"
            ],
            [
             1,
             "#f0f921"
            ]
           ]
          },
          "colorway": [
           "#636efa",
           "#EF553B",
           "#00cc96",
           "#ab63fa",
           "#FFA15A",
           "#19d3f3",
           "#FF6692",
           "#B6E880",
           "#FF97FF",
           "#FECB52"
          ],
          "font": {
           "color": "#2a3f5f"
          },
          "geo": {
           "bgcolor": "white",
           "lakecolor": "white",
           "landcolor": "#E5ECF6",
           "showlakes": true,
           "showland": true,
           "subunitcolor": "white"
          },
          "hoverlabel": {
           "align": "left"
          },
          "hovermode": "closest",
          "mapbox": {
           "style": "light"
          },
          "paper_bgcolor": "white",
          "plot_bgcolor": "#E5ECF6",
          "polar": {
           "angularaxis": {
            "gridcolor": "white",
            "linecolor": "white",
            "ticks": ""
           },
           "bgcolor": "#E5ECF6",
           "radialaxis": {
            "gridcolor": "white",
            "linecolor": "white",
            "ticks": ""
           }
          },
          "scene": {
           "xaxis": {
            "backgroundcolor": "#E5ECF6",
            "gridcolor": "white",
            "gridwidth": 2,
            "linecolor": "white",
            "showbackground": true,
            "ticks": "",
            "zerolinecolor": "white"
           },
           "yaxis": {
            "backgroundcolor": "#E5ECF6",
            "gridcolor": "white",
            "gridwidth": 2,
            "linecolor": "white",
            "showbackground": true,
            "ticks": "",
            "zerolinecolor": "white"
           },
           "zaxis": {
            "backgroundcolor": "#E5ECF6",
            "gridcolor": "white",
            "gridwidth": 2,
            "linecolor": "white",
            "showbackground": true,
            "ticks": "",
            "zerolinecolor": "white"
           }
          },
          "shapedefaults": {
           "line": {
            "color": "#2a3f5f"
           }
          },
          "ternary": {
           "aaxis": {
            "gridcolor": "white",
            "linecolor": "white",
            "ticks": ""
           },
           "baxis": {
            "gridcolor": "white",
            "linecolor": "white",
            "ticks": ""
           },
           "bgcolor": "#E5ECF6",
           "caxis": {
            "gridcolor": "white",
            "linecolor": "white",
            "ticks": ""
           }
          },
          "title": {
           "x": 0.05
          },
          "xaxis": {
           "automargin": true,
           "gridcolor": "white",
           "linecolor": "white",
           "ticks": "",
           "title": {
            "standoff": 15
           },
           "zerolinecolor": "white",
           "zerolinewidth": 2
          },
          "yaxis": {
           "automargin": true,
           "gridcolor": "white",
           "linecolor": "white",
           "ticks": "",
           "title": {
            "standoff": 15
           },
           "zerolinecolor": "white",
           "zerolinewidth": 2
          }
         }
        },
        "title": {
         "text": "Perturbed Mean Factor Contribution Results"
        },
        "width": 1200,
        "xaxis": {
         "anchor": "y",
         "domain": [
          0,
          1
         ]
        },
        "yaxis": {
         "anchor": "x",
         "domain": [
          0,
          1
         ],
         "title": {
          "text": "Mean Normalized Contributions (%)"
         }
        }
       }
      },
      "image/png": "[encoded data removed]"
     },
     "metadata": {},
     "output_type": "display_data"
    }
   ],
   "source": [
    "perturb.plot_norm_perturb_contributions()"
   ]
  },
  {
   "cell_type": "code",
   "execution_count": 11,
   "id": "819f3e0e-99b5-49c5-96c3-95a2f0b104bc",
   "metadata": {},
   "outputs": [
    {
     "data": {
      "application/vnd.plotly.v1+json": {
       "config": {
        "plotlyServerURL": "https://plot.ly"
       },
       "data": [
        {
         "name": "Factor 1",
         "type": "box",
         "y": {
          "bdata": "F9PjPTC93j3Rjdw99y7mPYdV5j0KueQ9/UzfPXSF4T1TgeE9nbnePa874D1vDd09kj/fPb9g3z1xwOA97NLgPfIw4j0cut89cu7fPYDr4T13keI9A+/fPd1M5D0l3OE9sBjdPT/V4j2XVd49awjhPZyX5T2ltt89JBXePZFi4j1s1Nw9KPjiPSBr5T1QHeI9H8rjPbpa3z3ErOA92nzmPWRP4z1l7OE98rLiPQmo2j2coN09yVjjPYBV4j1B4989qGTgPXeY3j0=",
          "dtype": "f4"
         }
        },
        {
         "name": "Factor 2",
         "type": "box",
         "y": {
          "bdata": "AJdKPtXvRz5V9Es+Y7hKPrbMST6cUUs+ZM5JPlaaST4Rqko+tphKPn60Sz6bxU0+WdhMPmCvSz4610o+djNJPuzLST4WcUs+ey1KPuxGSD4hI0s+TOlIPnFvST5jOEw+vGNJPs0/ST7DM0c+0C5LPsw/Sj5NWkk+MupLPh/TSj6CZ0s+y9VJPiGuSj4zXUk+2xlKPrckST5U6ko+JMRKPvNeSz4MxEg+j8RJPi3USD6U0Us+ej5KPj1lTD70pkw+4fFKPq73ST4=",
          "dtype": "f4"
         }
        },
        {
         "name": "Factor 3",
         "type": "box",
         "y": {
          "bdata": "Qkc4PjxmPT5W+Ts+Y7k3PoaINT7fKDY+Fmk7PqFeOD41ETg+eOs5PiGPOD4mwTw+3UE6PhUQOz6dwTU+vzE6Poa0OT7v/Dg+v1c5Pkf4OT5kdjk+AiI4Prf5Oj5hPjo+qIw/Ps5eOD5zVTo+S3A4PrZHNz73TTo+buc4PoWzOT4JKzg+yhg2PgIjNT7d9Dk+kTY5PoaaOj5Eejs+ns42PpfbOT7rFTo+PJY2PtYdPT5E8jo+LaU7PqEsOj7VRzk+YAw7PuQ2OD4=",
          "dtype": "f4"
         }
        },
        {
         "name": "Factor 4",
         "type": "box",
         "y": {
          "bdata": "EDosPggBLD6oBi4+8MotPpndKj4Y/yg+3LcpPsPJKz60oyk+wQwpPuc4KD5FYyw+6jYqPuyhMD6Dmy8+MxEqPoj0Kj5uqCg+aH0xPucLKz5DOi0+0oQqPhIlKj7Joik+mz8rPrYGKj5jPCw+qOQvPnb2KT729is+NowuPsY9LT6ySzA+PswrPvvoKj5x6yo+gI4oPgFjLz5wkCs+7KQxPqS2KD5/HS8+rgMxPjwWKj59NCs+2D8qPuxAKT7CISo+Nt8qPpgGLz4=",
          "dtype": "f4"
         }
        },
        {
         "name": "Factor 5",
         "type": "box",
         "y": {
          "bdata": "QQK9PRv8vz1TnLY904+1Pf5pwj15BME9mRW/PbVIwz272L098p/BPe93wT2Vt7c9l8i6PQG8tj35QsA9Fvq/PWfXwT2tqMM9ig66PZWivj2W0rg96nDEPWeyvT0DNLw9LJC7PTq+xD17XcI9un+5PVGXxD2maME9d464PfRZvT3Re7w9QcHAPaURwT0faL89EsvBPZdQvj3gvLk9JR2yPabqvz2gXbg9QUy3PfABxT1Ndbw9f9S8PRfNvT3c3b89pcK8PShluj0=",
          "dtype": "f4"
         }
        },
        {
         "name": "Factor 6",
         "type": "box",
         "y": {
          "bdata": "fj6APj5Mfz5JO4A+8/GAPrS2gD7TU4E+sO+APjDWfz4C+oE+KyGBPtJUgT6Cs34+Y9WAPjyQfT7sSX8+ihGBPtiGfz4TnIA+4P59Pus2gT4TPYA+9h+BPhI5gD4wb4A+m3t/PnpIgD5y8IA+Kjh/PpRqfz4w0X8+L6iAPkddfj6ZeX8+PTSBPsMDgT7kf4A+O6uAPiAIfj4Ra4A+qj2APuQ4gD7AcYA++tCAPl8RgD5cfoA+2sV/PvgNgD53B4A+cEeAPgImgT4=",
          "dtype": "f4"
         }
        },
        {
         "marker": {
          "color": "black"
         },
         "mode": "markers",
         "name": "Base",
         "type": "scatter",
         "x": [
          "Factor 1",
          "Factor 2",
          "Factor 3",
          "Factor 4",
          "Factor 5",
          "Factor 6"
         ],
         "y": {
          "bdata": "ubjgPS/pST7rHjo+3WUqPs4twD1gj4A+",
          "dtype": "f4"
         }
        }
       ],
       "layout": {
        "height": 800,
        "hovermode": "x unified",
        "template": {
         "data": {
          "bar": [
           {
            "error_x": {
             "color": "#2a3f5f"
            },
            "error_y": {
             "color": "#2a3f5f"
            },
            "marker": {
             "line": {
              "color": "#E5ECF6",
              "width": 0.5
             },
             "pattern": {
              "fillmode": "overlay",
              "size": 10,
              "solidity": 0.2
             }
            },
            "type": "bar"
           }
          ],
          "barpolar": [
           {
            "marker": {
             "line": {
              "color": "#E5ECF6",
              "width": 0.5
             },
             "pattern": {
              "fillmode": "overlay",
              "size": 10,
              "solidity": 0.2
             }
            },
            "type": "barpolar"
           }
          ],
          "carpet": [
           {
            "aaxis": {
             "endlinecolor": "#2a3f5f",
             "gridcolor": "white",
             "linecolor": "white",
             "minorgridcolor": "white",
             "startlinecolor": "#2a3f5f"
            },
            "baxis": {
             "endlinecolor": "#2a3f5f",
             "gridcolor": "white",
             "linecolor": "white",
             "minorgridcolor": "white",
             "startlinecolor": "#2a3f5f"
            },
            "type": "carpet"
           }
          ],
          "choropleth": [
           {
            "colorbar": {
             "outlinewidth": 0,
             "ticks": ""
            },
            "type": "choropleth"
           }
          ],
          "contour": [
           {
            "colorbar": {
             "outlinewidth": 0,
             "ticks": ""
            },
            "colorscale": [
             [
              0,
              "#0d0887"
             ],
             [
              0.1111111111111111,
              "#46039f"
             ],
             [
              0.2222222222222222,
              "#7201a8"
             ],
             [
              0.3333333333333333,
              "#9c179e"
             ],
             [
              0.4444444444444444,
              "#bd3786"
             ],
             [
              0.5555555555555556,
              "#d8576b"
             ],
             [
              0.6666666666666666,
              "#ed7953"
             ],
             [
              0.7777777777777778,
              "#fb9f3a"
             ],
             [
              0.8888888888888888,
              "#fdca26"
             ],
             [
              1,
              "#f0f921"
             ]
            ],
            "type": "contour"
           }
          ],
          "contourcarpet": [
           {
            "colorbar": {
             "outlinewidth": 0,
             "ticks": ""
            },
            "type": "contourcarpet"
           }
          ],
          "heatmap": [
           {
            "colorbar": {
             "outlinewidth": 0,
             "ticks": ""
            },
            "colorscale": [
             [
              0,
              "#0d0887"
             ],
             [
              0.1111111111111111,
              "#46039f"
             ],
             [
              0.2222222222222222,
              "#7201a8"
             ],
             [
              0.3333333333333333,
              "#9c179e"
             ],
             [
              0.4444444444444444,
              "#bd3786"
             ],
             [
              0.5555555555555556,
              "#d8576b"
             ],
             [
              0.6666666666666666,
              "#ed7953"
             ],
             [
              0.7777777777777778,
              "#fb9f3a"
             ],
             [
              0.8888888888888888,
              "#fdca26"
             ],
             [
              1,
              "#f0f921"
             ]
            ],
            "type": "heatmap"
           }
          ],
          "histogram": [
           {
            "marker": {
             "pattern": {
              "fillmode": "overlay",
              "size": 10,
              "solidity": 0.2
             }
            },
            "type": "histogram"
           }
          ],
          "histogram2d": [
           {
            "colorbar": {
             "outlinewidth": 0,
             "ticks": ""
            },
            "colorscale": [
             [
              0,
              "#0d0887"
             ],
             [
              0.1111111111111111,
              "#46039f"
             ],
             [
              0.2222222222222222,
              "#7201a8"
             ],
             [
              0.3333333333333333,
              "#9c179e"
             ],
             [
              0.4444444444444444,
              "#bd3786"
             ],
             [
              0.5555555555555556,
              "#d8576b"
             ],
             [
              0.6666666666666666,
              "#ed7953"
             ],
             [
              0.7777777777777778,
              "#fb9f3a"
             ],
             [
              0.8888888888888888,
              "#fdca26"
             ],
             [
              1,
              "#f0f921"
             ]
            ],
            "type": "histogram2d"
           }
          ],
          "histogram2dcontour": [
           {
            "colorbar": {
             "outlinewidth": 0,
             "ticks": ""
            },
            "colorscale": [
             [
              0,
              "#0d0887"
             ],
             [
              0.1111111111111111,
              "#46039f"
             ],
             [
              0.2222222222222222,
              "#7201a8"
             ],
             [
              0.3333333333333333,
              "#9c179e"
             ],
             [
              0.4444444444444444,
              "#bd3786"
             ],
             [
              0.5555555555555556,
              "#d8576b"
             ],
             [
              0.6666666666666666,
              "#ed7953"
             ],
             [
              0.7777777777777778,
              "#fb9f3a"
             ],
             [
              0.8888888888888888,
              "#fdca26"
             ],
             [
              1,
              "#f0f921"
             ]
            ],
            "type": "histogram2dcontour"
           }
          ],
          "mesh3d": [
           {
            "colorbar": {
             "outlinewidth": 0,
             "ticks": ""
            },
            "type": "mesh3d"
           }
          ],
          "parcoords": [
           {
            "line": {
             "colorbar": {
              "outlinewidth": 0,
              "ticks": ""
             }
            },
            "type": "parcoords"
           }
          ],
          "pie": [
           {
            "automargin": true,
            "type": "pie"
           }
          ],
          "scatter": [
           {
            "fillpattern": {
             "fillmode": "overlay",
             "size": 10,
             "solidity": 0.2
            },
            "type": "scatter"
           }
          ],
          "scatter3d": [
           {
            "line": {
             "colorbar": {
              "outlinewidth": 0,
              "ticks": ""
             }
            },
            "marker": {
             "colorbar": {
              "outlinewidth": 0,
              "ticks": ""
             }
            },
            "type": "scatter3d"
           }
          ],
          "scattercarpet": [
           {
            "marker": {
             "colorbar": {
              "outlinewidth": 0,
              "ticks": ""
             }
            },
            "type": "scattercarpet"
           }
          ],
          "scattergeo": [
           {
            "marker": {
             "colorbar": {
              "outlinewidth": 0,
              "ticks": ""
             }
            },
            "type": "scattergeo"
           }
          ],
          "scattergl": [
           {
            "marker": {
             "colorbar": {
              "outlinewidth": 0,
              "ticks": ""
             }
            },
            "type": "scattergl"
           }
          ],
          "scattermap": [
           {
            "marker": {
             "colorbar": {
              "outlinewidth": 0,
              "ticks": ""
             }
            },
            "type": "scattermap"
           }
          ],
          "scattermapbox": [
           {
            "marker": {
             "colorbar": {
              "outlinewidth": 0,
              "ticks": ""
             }
            },
            "type": "scattermapbox"
           }
          ],
          "scatterpolar": [
           {
            "marker": {
             "colorbar": {
              "outlinewidth": 0,
              "ticks": ""
             }
            },
            "type": "scatterpolar"
           }
          ],
          "scatterpolargl": [
           {
            "marker": {
             "colorbar": {
              "outlinewidth": 0,
              "ticks": ""
             }
            },
            "type": "scatterpolargl"
           }
          ],
          "scatterternary": [
           {
            "marker": {
             "colorbar": {
              "outlinewidth": 0,
              "ticks": ""
             }
            },
            "type": "scatterternary"
           }
          ],
          "surface": [
           {
            "colorbar": {
             "outlinewidth": 0,
             "ticks": ""
            },
            "colorscale": [
             [
              0,
              "#0d0887"
             ],
             [
              0.1111111111111111,
              "#46039f"
             ],
             [
              0.2222222222222222,
              "#7201a8"
             ],
             [
              0.3333333333333333,
              "#9c179e"
             ],
             [
              0.4444444444444444,
              "#bd3786"
             ],
             [
              0.5555555555555556,
              "#d8576b"
             ],
             [
              0.6666666666666666,
              "#ed7953"
             ],
             [
              0.7777777777777778,
              "#fb9f3a"
             ],
             [
              0.8888888888888888,
              "#fdca26"
             ],
             [
              1,
              "#f0f921"
             ]
            ],
            "type": "surface"
           }
          ],
          "table": [
           {
            "cells": {
             "fill": {
              "color": "#EBF0F8"
             },
             "line": {
              "color": "white"
             }
            },
            "header": {
             "fill": {
              "color": "#C8D4E3"
             },
             "line": {
              "color": "white"
             }
            },
            "type": "table"
           }
          ]
         },
         "layout": {
          "annotationdefaults": {
           "arrowcolor": "#2a3f5f",
           "arrowhead": 0,
           "arrowwidth": 1
          },
          "autotypenumbers": "strict",
          "coloraxis": {
           "colorbar": {
            "outlinewidth": 0,
            "ticks": ""
           }
          },
          "colorscale": {
           "diverging": [
            [
             0,
             "#8e0152"
            ],
            [
             0.1,
             "#c51b7d"
            ],
            [
             0.2,
             "#de77ae"
            ],
            [
             0.3,
             "#f1b6da"
            ],
            [
             0.4,
             "#fde0ef"
            ],
            [
             0.5,
             "#f7f7f7"
            ],
            [
             0.6,
             "#e6f5d0"
            ],
            [
             0.7,
             "#b8e186"
            ],
            [
             0.8,
             "#7fbc41"
            ],
            [
             0.9,
             "#4d9221"
            ],
            [
             1,
             "#276419"
            ]
           ],
           "sequential": [
            [
             0,
             "#0d0887"
            ],
            [
             0.1111111111111111,
             "#46039f"
            ],
            [
             0.2222222222222222,
             "#7201a8"
            ],
            [
             0.3333333333333333,
             "#9c179e"
            ],
            [
             0.4444444444444444,
             "#bd3786"
            ],
            [
             0.5555555555555556,
             "#d8576b"
            ],
            [
             0.6666666666666666,
             "#ed7953"
            ],
            [
             0.7777777777777778,
             "#fb9f3a"
            ],
            [
             0.8888888888888888,
             "#fdca26"
            ],
            [
             1,
             "#f0f921"
            ]
           ],
           "sequentialminus": [
            [
             0,
             "#0d0887"
            ],
            [
             0.1111111111111111,
             "#46039f"
            ],
            [
             0.2222222222222222,
             "#7201a8"
            ],
            [
             0.3333333333333333,
             "#9c179e"
            ],
            [
             0.4444444444444444,
             "#bd3786"
            ],
            [
             0.5555555555555556,
             "#d8576b"
            ],
            [
             0.6666666666666666,
             "#ed7953"
            ],
            [
             0.7777777777777778,
             "#fb9f3a"
            ],
            [
             0.8888888888888888,
             "#fdca26"
            ],
            [
             1,
             "#f0f921"
            ]
           ]
          },
          "colorway": [
           "#636efa",
           "#EF553B",
           "#00cc96",
           "#ab63fa",
           "#FFA15A",
           "#19d3f3",
           "#FF6692",
           "#B6E880",
           "#FF97FF",
           "#FECB52"
          ],
          "font": {
           "color": "#2a3f5f"
          },
          "geo": {
           "bgcolor": "white",
           "lakecolor": "white",
           "landcolor": "#E5ECF6",
           "showlakes": true,
           "showland": true,
           "subunitcolor": "white"
          },
          "hoverlabel": {
           "align": "left"
          },
          "hovermode": "closest",
          "mapbox": {
           "style": "light"
          },
          "paper_bgcolor": "white",
          "plot_bgcolor": "#E5ECF6",
          "polar": {
           "angularaxis": {
            "gridcolor": "white",
            "linecolor": "white",
            "ticks": ""
           },
           "bgcolor": "#E5ECF6",
           "radialaxis": {
            "gridcolor": "white",
            "linecolor": "white",
            "ticks": ""
           }
          },
          "scene": {
           "xaxis": {
            "backgroundcolor": "#E5ECF6",
            "gridcolor": "white",
            "gridwidth": 2,
            "linecolor": "white",
            "showbackground": true,
            "ticks": "",
            "zerolinecolor": "white"
           },
           "yaxis": {
            "backgroundcolor": "#E5ECF6",
            "gridcolor": "white",
            "gridwidth": 2,
            "linecolor": "white",
            "showbackground": true,
            "ticks": "",
            "zerolinecolor": "white"
           },
           "zaxis": {
            "backgroundcolor": "#E5ECF6",
            "gridcolor": "white",
            "gridwidth": 2,
            "linecolor": "white",
            "showbackground": true,
            "ticks": "",
            "zerolinecolor": "white"
           }
          },
          "shapedefaults": {
           "line": {
            "color": "#2a3f5f"
           }
          },
          "ternary": {
           "aaxis": {
            "gridcolor": "white",
            "linecolor": "white",
            "ticks": ""
           },
           "baxis": {
            "gridcolor": "white",
            "linecolor": "white",
            "ticks": ""
           },
           "bgcolor": "#E5ECF6",
           "caxis": {
            "gridcolor": "white",
            "linecolor": "white",
            "ticks": ""
           }
          },
          "title": {
           "x": 0.05
          },
          "xaxis": {
           "automargin": true,
           "gridcolor": "white",
           "linecolor": "white",
           "ticks": "",
           "title": {
            "standoff": 15
           },
           "zerolinecolor": "white",
           "zerolinewidth": 2
          },
          "yaxis": {
           "automargin": true,
           "gridcolor": "white",
           "linecolor": "white",
           "ticks": "",
           "title": {
            "standoff": 15
           },
           "zerolinecolor": "white",
           "zerolinewidth": 2
          }
         }
        },
        "title": {
         "text": "Perturbed Average Source Contributions - Sigma: 0.25"
        },
        "width": 1200,
        "xaxis": {
         "anchor": "y",
         "domain": [
          0,
          1
         ]
        },
        "yaxis": {
         "anchor": "x",
         "domain": [
          0,
          1
         ],
         "title": {
          "text": "Source Contributions"
         }
        }
       }
      },
      "image/png": "[encoded data removed]"
     },
     "metadata": {},
     "output_type": "display_data"
    }
   ],
   "source": [
    "perturb.plot_average_source_contributions()"
   ]
  },
  {
   "cell_type": "code",
   "execution_count": 12,
   "id": "34a00b0f-983a-455f-9e9f-d658ca65868d",
   "metadata": {},
   "outputs": [
    {
     "data": {
      "application/vnd.plotly.v1+json": {
       "config": {
        "plotlyServerURL": "https://plot.ly"
       },
       "data": [
        {
         "name": "Factor 1",
         "type": "box",
         "y": {
          "bdata": "AAAAQL1Spj8AAADA/IekPwAAAGD+Q6o/AAAAwH0dqD8AAADAfR2oPwAAAMDqc6U/AAAAwPyHpD8AAADgPXmoPwAAAOBhoaY/AAAAAJjdoz8AAACAarykPwAAAACjkqo/AAAAYH2upj8AAABA6gSkPwAAAMCqz6U/AAAAwPyHpD8AAACATx6mPwAAAKAPeqY/AAAAoIeFqj8AAABgBaOiPwAAAECrPqc/AAAAADQRpj8AAACARpSmPwAAACBYOaQ/AAAAwBDHqj8AAAAg6+KmPwAAAOBqK6Y/AAAAgP1lpz8AAABAmSqoPwAAAMCYu6Y/AAAAoM/Vpj8AAABAqz6nPwAAAAAZc6c/AAAAQKK0pz8AAAAgdQKqPwAAAIB80KM/AAAAYJhMpT8AAADgPXmoPwAAAIBYqKU/AAAAoMZLpz8AAABAvVKmPwAAAMB0k6g/AAAAoA96pj8AAADgK2WpPwAAAEDzjqM/AAAAAD2bpT8AAACAPQqnPwAAACAGgaU/AAAA4E+Npz8AAADA6nOlPw==",
          "dtype": "f8"
         }
        },
        {
         "name": "Factor 2",
         "type": "box",
         "y": {
          "bdata": "AAAAQCzUmj8AAADA0QCePwAAAMDjFJ0/AAAAwHa+nz8AAACgGi+dPwAAAKCt2J8/AAAAoD5Xmz8AAABgdk+ePwAAAMD1KJw/AAAAAHbgnD8AAACA5PKfPwAAAKBgVKI/AAAA4FG4nj8AAAAgl/+gPwAAAECtaZ4/AAAAwAc9mz8AAADA9SicPwAAAMDRAJ4/AAAAAIj0mz8AAAAg0m+fPwAAAMDjFJ0/AAAAQAisnD8AAADgP6SfPwAAACD2l50/AAAAgGNdnD8AAADgP6SfPwAAAMB2vp8/AAAAgGNdnD8AAADA9SicPwAAAEAs1Jo/AAAAwHa+nz8AAAAAG56ePwAAAIAtIZ8/AAAAwNEAnj8AAACArIubPwAAAKAIG54/AAAAAAdfmD8AAACg9gafPwAAAAAJip8/AAAAAAmKnz8AAADAiNKePwAAAGBkO58/AAAAAHbgnD8AAACAY12cPwAAAIDpJqE/AAAAYGQ7nz8AAADgmuadPwAAAMCNBqA/AAAAgOTynz8AAACgGi+dPw==",
          "dtype": "f8"
         }
        },
        {
         "name": "Factor 3",
         "type": "box",
         "y": {
          "bdata": "AAAAoEfhqj8AAAAg/falPwAAAMB9Hag/AAAA4MeYqz8AAAAgbHiqPwAAAAAtsq0/AAAAYI/CpT8AAADAfR2oPwAAAAArh6Y/AAAAYLx0oz8AAAAAIv2mPwAAAEA+6Kk/AAAA4FgXpz8AAABgmEylPwAAAGAHzqk/AAAAIA8LpT8AAABAz2alPwAAAOBhoaY/AAAAINnOpz8AAABA4XqkPwAAACDr4qY/AAAAQFD8qD8AAADAoUWmPwAAAOBhoaY/AAAAYJp3rD8AAADgc7WlPwAAAMBif6k/AAAAYCv2pz8AAAAgBoGlPwAAAAArh6Y/AAAAoBgEpj8AAADgs1mlPwAAAGAQWKk/AAAAYBniqD8AAADgx5irPwAAACD99qU/AAAAQGIQqD8AAAAAIv2mPwAAAMDh6aU/AAAAIMe6qD8AAADgT42nPwAAAODrwKk/AAAAQFmGqD8AAACArIurPwAAAMDqc6U/AAAAAIbJpD8AAABgdCSnPwAAAMB0k6g/AAAAAKOSqj8AAACgkA+qPw==",
          "dtype": "f8"
         }
        },
        {
         "name": "Factor 4",
         "type": "box",
         "y": {
          "bdata": "AAAAoLIMoT8AAACA4JyhPwAAAACRfqs/AAAAQFD8qD8AAABgF7ehPwAAAGC8dKM/AAAAAM4ZoT8AAADAv+yePwAAAAAXSKA/AAAAoKmCoT8AAAAAxY+hPwAAACDiWKc/AAAAYLPqoz8AAACA4seoPwAAAAD1Sqk/AAAAAKrxoj8AAAAAvAWiPwAAAMAyxKE/AAAAwL/srj8AAABgBaOiPwAAAGBrmqc/AAAAYMX+oj8AAADgP6SfPwAAAEBFR6I/AAAAAOAtoD8AAAAAzhmhPwAAAMAXJqM/AAAAIHUCqj8AAADAO06hPwAAACDSb58/AAAA4OvAqT8AAADgfD+lPwAAAMBif6k/AAAAAMWPoT8AAAAAF0igPwAAAMAOnKM/AAAAQPOOoz8AAABAqz6nPwAAAICO5KI/AAAAoPYGrz8AAADgBDShPwAAAGAibKg/AAAAoCO5rD8AAAAARiWlPwAAAICO5KI/AAAAAKrxoj8AAACAjuSiPwAAAKAqGKU/AAAAYKHWpD8AAADgYaGmPw==",
          "dtype": "f8"
         }
        },
        {
         "name": "Factor 5",
         "type": "box",
         "y": {
          "bdata": "AAAAIPRstj8AAABApgq2PwAAAKDWNL8/AAAA4IwovT8AAACg5h23PwAAAICO5LI/AAAAQO84tT8AAABAr5S1PwAAAIBzRrQ/AAAAwOHptT8AAACAWKi1PwAAAEAawLs/AAAAgOLHuD8AAADgItu5PwAAAOAdp7g/AAAAIFg5tD8AAADAuI22PwAAAMChRbY/AAAAoDoBvT8AAABAUPy4PwAAAKA+V7s/AAAAQO84tT8AAAAgIR+0PwAAACDdJLY/AAAAQL1Stj8AAACgD3q2PwAAAGBmZrY/AAAAIEMcuz8AAABgfa62PwAAAKBliLM/AAAA4KfGuz8AAADAfR24PwAAACBaZLs/AAAAAELPtj8AAAAAVOO1PwAAACAhH7Q/AAAA4Levsz8AAACg76e2PwAAAKDUCbg/AAAAgOCcwT8AAADA/Ie0PwAAAKBH4bo/AAAAoAPnvD8AAADAawm5PwAAACD99rU/AAAA4IFztj8AAADA/Ie0PwAAACDChrc/AAAAwHSTuD8AAABg/kO6Pw==",
          "dtype": "f8"
         }
        },
        {
         "name": "Factor 6",
         "type": "box",
         "y": {
          "bdata": "AAAAYAfOmT8AAAAg0ESYPwAAAKA+V5s/AAAAAKwcmj8AAAAgdQKaPwAAAMAHPZs/AAAAQGIQmD8AAAAAB1+YPwAAAKD2Bp8/AAAAoAgbnj8AAADABz2bPwAAAABkzJ0/AAAAAJoImz8AAADgDb6gPwAAAIBjXZw/AAAAQGlvoD8AAADA4xSdPwAAAMAHPZs/AAAAIJf/oD8AAAAA9UqZPwAAAIDQs5k/AAAAgGNdnD8AAAAghxaZPwAAACCHFpk/AAAA4FG4nj8AAACAdXGbPwAAAACI9Js/AAAA4D+knz8AAADAiNKePwAAAOCs+pw/AAAAQCzUmj8AAABgmnecPwAAAOCs+pw/AAAAIGPumj8AAACgvcGXPwAAAEAs1Jo/AAAAAL4wmT8AAADgrPqcPwAAAAC+MJk/AAAAYPW5mj8AAACArIubPwAAAEAs1Jo/AAAA4D15mD8AAABAqz6XPwAAAIBPHpY/AAAAQD7omT8AAABgZDufPwAAACBj7po/AAAAwIanlz8AAABA0ZGcPw==",
          "dtype": "f8"
         }
        }
       ],
       "layout": {
        "height": 800,
        "hovermode": "x unified",
        "shapes": [
         {
          "type": "line",
          "x0": 0,
          "x1": 1,
          "xref": "x domain",
          "y0": 0.0466506667000552,
          "y1": 0.0466506667000552,
          "yref": "y"
         }
        ],
        "template": {
         "data": {
          "bar": [
           {
            "error_x": {
             "color": "#2a3f5f"
            },
            "error_y": {
             "color": "#2a3f5f"
            },
            "marker": {
             "line": {
              "color": "#E5ECF6",
              "width": 0.5
             },
             "pattern": {
              "fillmode": "overlay",
              "size": 10,
              "solidity": 0.2
             }
            },
            "type": "bar"
           }
          ],
          "barpolar": [
           {
            "marker": {
             "line": {
              "color": "#E5ECF6",
              "width": 0.5
             },
             "pattern": {
              "fillmode": "overlay",
              "size": 10,
              "solidity": 0.2
             }
            },
            "type": "barpolar"
           }
          ],
          "carpet": [
           {
            "aaxis": {
             "endlinecolor": "#2a3f5f",
             "gridcolor": "white",
             "linecolor": "white",
             "minorgridcolor": "white",
             "startlinecolor": "#2a3f5f"
            },
            "baxis": {
             "endlinecolor": "#2a3f5f",
             "gridcolor": "white",
             "linecolor": "white",
             "minorgridcolor": "white",
             "startlinecolor": "#2a3f5f"
            },
            "type": "carpet"
           }
          ],
          "choropleth": [
           {
            "colorbar": {
             "outlinewidth": 0,
             "ticks": ""
            },
            "type": "choropleth"
           }
          ],
          "contour": [
           {
            "colorbar": {
             "outlinewidth": 0,
             "ticks": ""
            },
            "colorscale": [
             [
              0,
              "#0d0887"
             ],
             [
              0.1111111111111111,
              "#46039f"
             ],
             [
              0.2222222222222222,
              "#7201a8"
             ],
             [
              0.3333333333333333,
              "#9c179e"
             ],
             [
              0.4444444444444444,
              "#bd3786"
             ],
             [
              0.5555555555555556,
              "#d8576b"
             ],
             [
              0.6666666666666666,
              "#ed7953"
             ],
             [
              0.7777777777777778,
              "#fb9f3a"
             ],
             [
              0.8888888888888888,
              "#fdca26"
             ],
             [
              1,
              "#f0f921"
             ]
            ],
            "type": "contour"
           }
          ],
          "contourcarpet": [
           {
            "colorbar": {
             "outlinewidth": 0,
             "ticks": ""
            },
            "type": "contourcarpet"
           }
          ],
          "heatmap": [
           {
            "colorbar": {
             "outlinewidth": 0,
             "ticks": ""
            },
            "colorscale": [
             [
              0,
              "#0d0887"
             ],
             [
              0.1111111111111111,
              "#46039f"
             ],
             [
              0.2222222222222222,
              "#7201a8"
             ],
             [
              0.3333333333333333,
              "#9c179e"
             ],
             [
              0.4444444444444444,
              "#bd3786"
             ],
             [
              0.5555555555555556,
              "#d8576b"
             ],
             [
              0.6666666666666666,
              "#ed7953"
             ],
             [
              0.7777777777777778,
              "#fb9f3a"
             ],
             [
              0.8888888888888888,
              "#fdca26"
             ],
             [
              1,
              "#f0f921"
             ]
            ],
            "type": "heatmap"
           }
          ],
          "histogram": [
           {
            "marker": {
             "pattern": {
              "fillmode": "overlay",
              "size": 10,
              "solidity": 0.2
             }
            },
            "type": "histogram"
           }
          ],
          "histogram2d": [
           {
            "colorbar": {
             "outlinewidth": 0,
             "ticks": ""
            },
            "colorscale": [
             [
              0,
              "#0d0887"
             ],
             [
              0.1111111111111111,
              "#46039f"
             ],
             [
              0.2222222222222222,
              "#7201a8"
             ],
             [
              0.3333333333333333,
              "#9c179e"
             ],
             [
              0.4444444444444444,
              "#bd3786"
             ],
             [
              0.5555555555555556,
              "#d8576b"
             ],
             [
              0.6666666666666666,
              "#ed7953"
             ],
             [
              0.7777777777777778,
              "#fb9f3a"
             ],
             [
              0.8888888888888888,
              "#fdca26"
             ],
             [
              1,
              "#f0f921"
             ]
            ],
            "type": "histogram2d"
           }
          ],
          "histogram2dcontour": [
           {
            "colorbar": {
             "outlinewidth": 0,
             "ticks": ""
            },
            "colorscale": [
             [
              0,
              "#0d0887"
             ],
             [
              0.1111111111111111,
              "#46039f"
             ],
             [
              0.2222222222222222,
              "#7201a8"
             ],
             [
              0.3333333333333333,
              "#9c179e"
             ],
             [
              0.4444444444444444,
              "#bd3786"
             ],
             [
              0.5555555555555556,
              "#d8576b"
             ],
             [
              0.6666666666666666,
              "#ed7953"
             ],
             [
              0.7777777777777778,
              "#fb9f3a"
             ],
             [
              0.8888888888888888,
              "#fdca26"
             ],
             [
              1,
              "#f0f921"
             ]
            ],
            "type": "histogram2dcontour"
           }
          ],
          "mesh3d": [
           {
            "colorbar": {
             "outlinewidth": 0,
             "ticks": ""
            },
            "type": "mesh3d"
           }
          ],
          "parcoords": [
           {
            "line": {
             "colorbar": {
              "outlinewidth": 0,
              "ticks": ""
             }
            },
            "type": "parcoords"
           }
          ],
          "pie": [
           {
            "automargin": true,
            "type": "pie"
           }
          ],
          "scatter": [
           {
            "fillpattern": {
             "fillmode": "overlay",
             "size": 10,
             "solidity": 0.2
            },
            "type": "scatter"
           }
          ],
          "scatter3d": [
           {
            "line": {
             "colorbar": {
              "outlinewidth": 0,
              "ticks": ""
             }
            },
            "marker": {
             "colorbar": {
              "outlinewidth": 0,
              "ticks": ""
             }
            },
            "type": "scatter3d"
           }
          ],
          "scattercarpet": [
           {
            "marker": {
             "colorbar": {
              "outlinewidth": 0,
              "ticks": ""
             }
            },
            "type": "scattercarpet"
           }
          ],
          "scattergeo": [
           {
            "marker": {
             "colorbar": {
              "outlinewidth": 0,
              "ticks": ""
             }
            },
            "type": "scattergeo"
           }
          ],
          "scattergl": [
           {
            "marker": {
             "colorbar": {
              "outlinewidth": 0,
              "ticks": ""
             }
            },
            "type": "scattergl"
           }
          ],
          "scattermap": [
           {
            "marker": {
             "colorbar": {
              "outlinewidth": 0,
              "ticks": ""
             }
            },
            "type": "scattermap"
           }
          ],
          "scattermapbox": [
           {
            "marker": {
             "colorbar": {
              "outlinewidth": 0,
              "ticks": ""
             }
            },
            "type": "scattermapbox"
           }
          ],
          "scatterpolar": [
           {
            "marker": {
             "colorbar": {
              "outlinewidth": 0,
              "ticks": ""
             }
            },
            "type": "scatterpolar"
           }
          ],
          "scatterpolargl": [
           {
            "marker": {
             "colorbar": {
              "outlinewidth": 0,
              "ticks": ""
             }
            },
            "type": "scatterpolargl"
           }
          ],
          "scatterternary": [
           {
            "marker": {
             "colorbar": {
              "outlinewidth": 0,
              "ticks": ""
             }
            },
            "type": "scatterternary"
           }
          ],
          "surface": [
           {
            "colorbar": {
             "outlinewidth": 0,
             "ticks": ""
            },
            "colorscale": [
             [
              0,
              "#0d0887"
             ],
             [
              0.1111111111111111,
              "#46039f"
             ],
             [
              0.2222222222222222,
              "#7201a8"
             ],
             [
              0.3333333333333333,
              "#9c179e"
             ],
             [
              0.4444444444444444,
              "#bd3786"
             ],
             [
              0.5555555555555556,
              "#d8576b"
             ],
             [
              0.6666666666666666,
              "#ed7953"
             ],
             [
              0.7777777777777778,
              "#fb9f3a"
             ],
             [
              0.8888888888888888,
              "#fdca26"
             ],
             [
              1,
              "#f0f921"
             ]
            ],
            "type": "surface"
           }
          ],
          "table": [
           {
            "cells": {
             "fill": {
              "color": "#EBF0F8"
             },
             "line": {
              "color": "white"
             }
            },
            "header": {
             "fill": {
              "color": "#C8D4E3"
             },
             "line": {
              "color": "white"
             }
            },
            "type": "table"
           }
          ]
         },
         "layout": {
          "annotationdefaults": {
           "arrowcolor": "#2a3f5f",
           "arrowhead": 0,
           "arrowwidth": 1
          },
          "autotypenumbers": "strict",
          "coloraxis": {
           "colorbar": {
            "outlinewidth": 0,
            "ticks": ""
           }
          },
          "colorscale": {
           "diverging": [
            [
             0,
             "#8e0152"
            ],
            [
             0.1,
             "#c51b7d"
            ],
            [
             0.2,
             "#de77ae"
            ],
            [
             0.3,
             "#f1b6da"
            ],
            [
             0.4,
             "#fde0ef"
            ],
            [
             0.5,
             "#f7f7f7"
            ],
            [
             0.6,
             "#e6f5d0"
            ],
            [
             0.7,
             "#b8e186"
            ],
            [
             0.8,
             "#7fbc41"
            ],
            [
             0.9,
             "#4d9221"
            ],
            [
             1,
             "#276419"
            ]
           ],
           "sequential": [
            [
             0,
             "#0d0887"
            ],
            [
             0.1111111111111111,
             "#46039f"
            ],
            [
             0.2222222222222222,
             "#7201a8"
            ],
            [
             0.3333333333333333,
             "#9c179e"
            ],
            [
             0.4444444444444444,
             "#bd3786"
            ],
            [
             0.5555555555555556,
             "#d8576b"
            ],
            [
             0.6666666666666666,
             "#ed7953"
            ],
            [
             0.7777777777777778,
             "#fb9f3a"
            ],
            [
             0.8888888888888888,
             "#fdca26"
            ],
            [
             1,
             "#f0f921"
            ]
           ],
           "sequentialminus": [
            [
             0,
             "#0d0887"
            ],
            [
             0.1111111111111111,
             "#46039f"
            ],
            [
             0.2222222222222222,
             "#7201a8"
            ],
            [
             0.3333333333333333,
             "#9c179e"
            ],
            [
             0.4444444444444444,
             "#bd3786"
            ],
            [
             0.5555555555555556,
             "#d8576b"
            ],
            [
             0.6666666666666666,
             "#ed7953"
            ],
            [
             0.7777777777777778,
             "#fb9f3a"
            ],
            [
             0.8888888888888888,
             "#fdca26"
            ],
            [
             1,
             "#f0f921"
            ]
           ]
          },
          "colorway": [
           "#636efa",
           "#EF553B",
           "#00cc96",
           "#ab63fa",
           "#FFA15A",
           "#19d3f3",
           "#FF6692",
           "#B6E880",
           "#FF97FF",
           "#FECB52"
          ],
          "font": {
           "color": "#2a3f5f"
          },
          "geo": {
           "bgcolor": "white",
           "lakecolor": "white",
           "landcolor": "#E5ECF6",
           "showlakes": true,
           "showland": true,
           "subunitcolor": "white"
          },
          "hoverlabel": {
           "align": "left"
          },
          "hovermode": "closest",
          "mapbox": {
           "style": "light"
          },
          "paper_bgcolor": "white",
          "plot_bgcolor": "#E5ECF6",
          "polar": {
           "angularaxis": {
            "gridcolor": "white",
            "linecolor": "white",
            "ticks": ""
           },
           "bgcolor": "#E5ECF6",
           "radialaxis": {
            "gridcolor": "white",
            "linecolor": "white",
            "ticks": ""
           }
          },
          "scene": {
           "xaxis": {
            "backgroundcolor": "#E5ECF6",
            "gridcolor": "white",
            "gridwidth": 2,
            "linecolor": "white",
            "showbackground": true,
            "ticks": "",
            "zerolinecolor": "white"
           },
           "yaxis": {
            "backgroundcolor": "#E5ECF6",
            "gridcolor": "white",
            "gridwidth": 2,
            "linecolor": "white",
            "showbackground": true,
            "ticks": "",
            "zerolinecolor": "white"
           },
           "zaxis": {
            "backgroundcolor": "#E5ECF6",
            "gridcolor": "white",
            "gridwidth": 2,
            "linecolor": "white",
            "showbackground": true,
            "ticks": "",
            "zerolinecolor": "white"
           }
          },
          "shapedefaults": {
           "line": {
            "color": "#2a3f5f"
           }
          },
          "ternary": {
           "aaxis": {
            "gridcolor": "white",
            "linecolor": "white",
            "ticks": ""
           },
           "baxis": {
            "gridcolor": "white",
            "linecolor": "white",
            "ticks": ""
           },
           "bgcolor": "#E5ECF6",
           "caxis": {
            "gridcolor": "white",
            "linecolor": "white",
            "ticks": ""
           }
          },
          "title": {
           "x": 0.05
          },
          "xaxis": {
           "automargin": true,
           "gridcolor": "white",
           "linecolor": "white",
           "ticks": "",
           "title": {
            "standoff": 15
           },
           "zerolinecolor": "white",
           "zerolinewidth": 2
          },
          "yaxis": {
           "automargin": true,
           "gridcolor": "white",
           "linecolor": "white",
           "ticks": "",
           "title": {
            "standoff": 15
           },
           "zerolinecolor": "white",
           "zerolinewidth": 2
          }
         }
        },
        "title": {
         "text": "Perturbed Source Correlation Metric - Sigma: 0.25"
        },
        "width": 1200,
        "xaxis": {
         "anchor": "y",
         "domain": [
          0,
          1
         ]
        },
        "yaxis": {
         "anchor": "x",
         "domain": [
          0,
          1
         ],
         "title": {
          "text": "RAAE"
         }
        }
       }
      },
      "image/png": "[encoded data removed]"
     },
     "metadata": {},
     "output_type": "display_data"
    }
   ],
   "source": [
    "perturb.plot_correlation_metrics()"
   ]
  },
  {
   "cell_type": "code",
   "execution_count": 13,
   "id": "9ec70aa6-2997-4cad-893c-504c7bacc86a",
   "metadata": {},
   "outputs": [
    {
     "data": {
      "application/vnd.plotly.v1+json": {
       "config": {
        "plotlyServerURL": "https://plot.ly"
       },
       "data": [
        {
         "name": "Feature 1",
         "type": "box",
         "xaxis": "x",
         "y": {
          "bdata": "5p4xPzMQLT/LUyo/t+wqP9mOJj8lVy8/E/ItPyMBLT+vbi4/BiotPyQpLT9X3Ck/9RovP5qILj8k/yk/nVMuP29VKj+xrio/H48mP7+zLT9ZTyg/pQ0vP/zFLT9v3So/ieIyP8mvKz8H2i4/vZwmP4gwLj+T8Cw/snUiP99UKT/2cyY/Ee0rP5BqLT8vnzM//v0pP+UzJj+hky8/UgIsP91aLz9VfCw/N7UoPyPfMj/MnDA/KFctPxo7Kz9F3i8/ibknP5uKKD8=",
          "dtype": "f4"
         },
         "yaxis": "y"
        },
        {
         "name": "Feature 2",
         "type": "box",
         "xaxis": "x",
         "y": {
          "bdata": "/R7cPnD60j6nVMw+3d/ePgFy2T7EEN8+QtzTPnij2j7PRtU+2cjSPs+P1T6Trs4+PoPUPlBA2D4hZt0+wz/RPnhr3D6trtQ+RdjYPqsb0z78rNs+xJfVPlPk1T5dvtg+f2zIPuAt3T6yOtg+jsHXPsma3T7BptQ+OMjZPrv61D6D8NA+OfLcPoTI4z4x48o+PLLYPpJEyz68Otg+/z/fPkhq2T5RDNk+1pXZPmrSzT5lN9Y+A0jUPsvw4D4seNg+wRDWPoLb3T4=",
          "dtype": "f4"
         },
         "yaxis": "y"
        },
        {
         "name": "Feature 3",
         "type": "box",
         "xaxis": "x",
         "y": {
          "bdata": "rarvPZ6L2j2ARPQ9fvnbPULF4z1Kt/Q93avzPTm75T3onO09jcn7Ped86D1eKfA9hpj2PTMi/T3/ZO09C/zvPSew7j30RvM9GwTnPV296T03weo9Xu/pPRV/4j0Nme89K1vYPYEq9j33EPI9gSDfPRXp5j1v4+s9AIn1PVhI7T2ZlQA+ETPOPTri5z1MXAA+59TtPSkb6T33Feo98lcBPpQB9j0B9to9YZvmPdQl4T20GOo9BTP9PU3P4z2WBvE9cubnPQg23D0=",
          "dtype": "f4"
         },
         "yaxis": "y"
        },
        {
         "name": "Feature 4",
         "type": "box",
         "xaxis": "x",
         "y": {
          "bdata": "wFqnPZD/nT0REYY9f1vSPeLhyT3Nmp891opxPQIrpT2yarI9WfmePcvHlz0iXYU9vAOdPSFmlT2qCoY9CVOTPcCBlD3SQ6Q9hOOIPeCPvj2eFok90POUPQS4vj3Pgpw9d0ScPbKtkT1y36g96lGLPUpboj3ki5c9QI1/PWb5nD01L7U9TT6gPXsNtj2bW6E9FXaPPZLWlj1wQKk9a757PcplhD0ibpM9RgidPQ74lD2JWaA9DZq/PfBomT0sGZU9unqxPbUCiz0=",
          "dtype": "f4"
         },
         "yaxis": "y"
        },
        {
         "name": "Feature 5",
         "type": "box",
         "xaxis": "x",
         "y": {
          "bdata": "KAiUJetiEyeaTLIkm3UpJD80AieuHR8mlx61JtqEgyV+vlcmUEbeJUm6HScUfGsk+DDDJTQygieJHfwjk/0FJ559KibDegAmo1Y+Iz5i6yNs2AMmFOH+I23krSWP4JkmwiACJv/cpiVqxtEmh7odJMcSTiZNvTIlKYDLIw3AhyRC2lof3D/0JckVxyYvkjUnCpaBJhJEIiOiW0UkAiG5JHdTUyYdpOsihBYFIXv89CYmm0Ykx0gJJ5hInybGKzMlqG93ICsLCiU=",
          "dtype": "f4"
         },
         "yaxis": "y"
        },
        {
         "name": "Feature 6",
         "type": "box",
         "xaxis": "x",
         "y": {
          "bdata": "UDgqLYuZ1TAkyZcpRia3LvkC1y70UqoxbyHJM5KG/TFGwrgzqWI/Ms3aqzNA0ZQwOV2HLjBDhi3Svm8ux4sPM2g73y3a8BMyMSIXJXNr1y/itAcz5vU1MPI8bTOaoxM0vXcVMidcIDCi5ZkvDZTjMD8NbzU9BxYv11koMZ+LFDXklJMs3hGqLSHmxDKqkBY0WKBNMCRrli6LuYwrIJQsLIx/AzJFGtcupQObLlTojjI7Y8AtQ0LCMiU+VDP8BAcuF/HcJd0smTE=",
          "dtype": "f4"
         },
         "yaxis": "y"
        },
        {
         "name": "Feature 7",
         "type": "box",
         "xaxis": "x",
         "y": {
          "bdata": "nvWiPgDUnz6YKYo+CJ+YPvN6oT5twrA+tDWbPps8nT6906A+2e2WPgjNnz5sAZg+PqabPt/0mD5N6pc+FkqaPlI8oD6lHps+AWekPlwYmT7Uzac+k0yePn5eoz6AqZI+WUaTPkWipD6fmJY+dhCVPlb4oT6LQaI+Sx+nPiFfoD7jGJk+FombPmnmoz7WqJs+rRqoPnP1kT6NPqM+OweqPjS9qT43vJ8+zqCYPm2XmD79O6Q+39ScPuF0oj7sRZI+6dmfPh8Knj4=",
          "dtype": "f4"
         },
         "yaxis": "y"
        },
        {
         "name": "Feature 8",
         "type": "box",
         "xaxis": "x",
         "y": {
          "bdata": "CQc2PUby3jwwjnQ9UwX4PBG4QT2kc9c8uyrfPNtTNDsB68A87VTpPL9+Bj28IR098x4aPY2iID1aez89Z5czPaaOPj0DhhA9y0THPB4OZj0/Gf08hfMaPSS2Uj37PHc9Z00zPX7L0jwgmAE9YuJmPSoMnjz78Lw8R1kVPUgcOT2hBCg9O05NPRnH6TwbdRs9TLqwPNuTGD0RYoQ9XAXpPAHuQz2rBTQ9unv5PM1hgzyuEwQ9hTc6PfbtEz0X2gI9jxRPPfYFBj0=",
          "dtype": "f4"
         },
         "yaxis": "y"
        },
        {
         "name": "Feature 9",
         "type": "box",
         "xaxis": "x",
         "y": {
          "bdata": "Mgs/J7Vi0Ch2EwQW3HUEI5OKMS2oXMMoxgeIKDLogyW0d6wmmetmIy2ZmyYOkMkigu2IIUO80hyXLh8aqd67J7X/CyYfo0MmQqDFH59I2Cc6ud0fNBlTIghagCswQKUhPmrlJCPDBCz8+Ukm2iZPGkVPoh/OaTgtWbz+Ih1xTB0PU9MmlfzVJwp+3yg9AkAnpOV7J9sKKx9oZn0ZuyTJFvEvsCHflGkgXJcqJhqGDylJ3AImkJRhKlwAPCs9nskivFuCGKwBDyQ=",
          "dtype": "f4"
         },
         "yaxis": "y"
        },
        {
         "name": "Feature 10",
         "type": "box",
         "xaxis": "x",
         "y": {
          "bdata": "sgAAAIMAAACyAAAAogAAALEAAACuAAAArAAAAIcAAACwAAAArQAAALIAAACwAAAAsgAAALIAAACwAAAAlwAAALEAAACxAAAAsAAAAJkAAACxAAAArAAAALAAAAClAAAArwAAAJ4AAACVAAAArAAAAK0AAACxAAAAsgAAALAAAACyAAAAqQAAALAAAACsAAAArwAAAK8AAACwAAAAlwAAAJkAAACrAAAAogAAALAAAACjAAAAhgAAAK4AAACbAAAAqgAAALAAAAA=",
          "dtype": "f4"
         },
         "yaxis": "y"
        },
        {
         "name": "Feature 11",
         "type": "box",
         "xaxis": "x",
         "y": {
          "bdata": "sTkTHLoxLRlAmx4ak9B9F5DmlRWS3kAcbAMHGDJ2OBylIdAYETbaFuRSKRqiMI8QP09ZFQ4kFx0K554gaCYjGxOnyBbTVCUXPfGeGXmteBnqx0od6qS0E7Iu2RkVh00gXNTuEGRDKxmGi2wbSOUQEB8IQBio+hwe9VFdHA4ZbBkAETcX73xrGwLvNRgpFRcYlKh9FzkS9RSkBLUh8i8SHF/Y1hpgkvoftSIlIqjwnBrKbWkY9yQBG5/YwhY2isgYG/w7KYOTyR4=",
          "dtype": "f4"
         },
         "yaxis": "y"
        },
        {
         "name": "Feature 12",
         "type": "box",
         "xaxis": "x",
         "y": {
          "bdata": "y8+bPvZRrD7B16c+HXiuPusYrj7FYKM+o92lPnxipz4gq68+YNukPndZqD4AVqQ+SrqoPmoVoT7YB6E+8dSgPtK5qz6fr6E+5Y6hPqpvqz6vIqg+sUGhPviurj7ia6k+NE+gPknJpT6ajJ8+tc2rPiYxrT5wq6g+pzyhPiDlnj4yOZk+BMGlPgO9qz5DFqs+KrarPv1CoD5y5LA+7L2tPjaKsT5s0ps+zJKjPiYWpj497Zo+x7evPrA6oj6yfKg+7pedPjJDoz4=",
          "dtype": "f4"
         },
         "yaxis": "y"
        },
        {
         "name": "Feature 13",
         "type": "box",
         "xaxis": "x",
         "y": {
          "bdata": "BgAAAAcAAAAHAAAABQAAAAUAAAAEAAAABwAAAAUAAAAGAAAABwAAAAUAAAAHAAAABgAAAAUAAAAHAAAABwAAAAcAAAAHAAAABwAAAAQAAAAHAAAABwAAAAQAAAAGAAAABwAAAAUAAAAGAAAABwAAAAcAAAAEAAAAAwAAAAcAAAAFAAAABQAAAAQAAAAFAAAABQAAAAcAAAAHAAAABAAAAAcAAAAHAAAABwAAAAUAAAAFAAAABgAAAAYAAAAHAAAABgAAAAcAAAA=",
          "dtype": "f4"
         },
         "yaxis": "y"
        },
        {
         "name": "Feature 14",
         "type": "box",
         "xaxis": "x",
         "y": {
          "bdata": "5YA8PzkENT9vEzY/H185P6E+PT8tUjM/CNM7P5oKPz84pjQ/lXk6P455Oj/VDTQ/52w2P/JoNj/abzY/6uk5P7eIOj8y3TU/5Us1P8f7Oj+wEzQ/Ktc2PzZSPD+11jk/9QRAP8fXNz9HFjY/4/81P3GlOj9f1Tc/W5swP1EfOj8F9zU/afI4P90zOT9R6j0/nNs5P3JxOD8XUzc/+gg6P4LhNj96FDk/y0E5P8jpOj/0mTg/+Yk6P1+ZOj9lITo/aCsxP4GVMj8=",
          "dtype": "f4"
         },
         "yaxis": "y"
        },
        {
         "name": "Feature 15",
         "type": "box",
         "xaxis": "x",
         "y": {
          "bdata": "zNk6PmzgNT4vJTk+HmpPPqI5VD70Dkg+Ld09PrUPGz572jU+mA47PrRAMz5l4EQ+0YI5PlNJMz4VeUM+UKk9PpziUj6RGEI+BIdSPnMKQj6k2kI+wXdMPqVkPD5NlDM+3+wiPgCzOz7fQio+LHdGPl+/Qj5hvz8+COxGPpjvQT53iy8+tYdZPvf9Pj7eNjU+zMo9PsP/Rj51QTM+kWVbPvwHRD6w7U4+xhhZPg6LFz4x1DQ+CkosPurHPT517S8+sBZfPhTQPj4=",
          "dtype": "f4"
         },
         "yaxis": "y"
        },
        {
         "name": "Feature 16",
         "type": "box",
         "xaxis": "x",
         "y": {
          "bdata": "U/V6Ph+KZT4jA1g+exGEPvvyZD6IV2k+lMNnPqc7cj4hbmM+T0qEPtZwhz5EUHY+M2VuPkyTbT7O7WE+0qRUPi3xZj4eH3A+wEpoPkEKZD46+WY+ZVNvPlF5eD5WQ30+LQOHPt32Rz5n4Gw+Sn1SPiPAgj4Ih3Y+jEJdPmGlXz4w+mQ+hIF3Ph1Lhz7VbXg+lDCCPlTlgz5DlHk+qwhYPh7jbz48d2M+zSNwPpW7Xj49F0E+eDB7PkLKZD6nwns+DHZjPoDTUj4=",
          "dtype": "f4"
         },
         "yaxis": "y"
        },
        {
         "name": "Feature 17",
         "type": "box",
         "xaxis": "x",
         "y": {
          "bdata": "eUfzPqyO4j6YtO0+SBnwPoEX7z4SL+8+fl7uPt099D5h7O0+okXsPqhh6j5sQe0+LdXnPpuZ8D7KwO0+B4DrPnhe6j5VCOY+DTrzPkJ65j4Dvfc+fMfkPlJV8D7mwuo+j9ztPm6I8T5ITOc+LtnvPin57j4H/eM+LofuPmJb7z5l8uo+ksfuPj/A6j4HKOo+GljuPtUn6j6jgOo+2lLxPq/D5z5JRe8+lo7uPjgQ3T7R2uo+n5PpPuHO8D4RUPE+ZevzPhlw9z4=",
          "dtype": "f4"
         },
         "yaxis": "y"
        },
        {
         "name": "Feature 18",
         "type": "box",
         "xaxis": "x",
         "y": {
          "bdata": "YgfEPU6ntj2waHw9MLyzPZMZpj2pjb09FfKfPe30rD0SfrA9bf6hPf/zdD2fRo09HZayPZBTuD3gPGw9Z6eaPZ9AtD3N74o9efyaPX1TtD0TrJk9AKCZPXQFmT3GRZ491PipPSkhtD1KnM49nSp6PTf/vj25bnc9yFuNPSmRnz1Wh5g9EMaaPRhwuT1xR6I9jIOpPYWfxj3QlpM9/x6BPRSqrj1nkog9D7y3Pd0VtD0zFzk9C+vDPUP+iz0NkbQ957eJPZ29hD0=",
          "dtype": "f4"
         },
         "yaxis": "y"
        },
        {
         "name": "Feature 19",
         "type": "box",
         "xaxis": "x",
         "y": {
          "bdata": "kTVAPVlHqDxF24U9WkUkPG/WhD3HX1U9Pd0sPULJej09iAM9SQARPUWOZj2Dsw49V1WFPfVQjD0w+Rs9GGxaPZDsizyTJS097i8mPaKgaz12BLA8RmlcPcUYOj3Nb5Q9urSMPC2lpTvXVTM9/ICHPdFs5TzJmD092YBQPRTZbD3tHFo9ZzSCPWqvvzwSGnE9upY2PSq4XTwS/7A8jz9RPVo7dT3Vdcc88QgwPa+iLD2Baz09KAw9PY0rUD2SeSY9fUgPPblxiD0=",
          "dtype": "f4"
         },
         "yaxis": "y"
        },
        {
         "name": "Feature 20",
         "type": "box",
         "xaxis": "x",
         "y": {
          "bdata": "1Bq4KxZRNyzryVUqbQpkK8oitCpFpaEsaBncKugORyysCh4sXsfPKO7igiwbEk8pihKXK/lF8yo9bzsrsEFHLFgAhyzJE4QqTQtRLgkaKyr8/IErnDHPKzw/tCs3zrkr6btjKx7N3Cp6bRUp7ayELLYTOSxecMYmv+/MLF1oaSycka4nuKmpLIs+aCyU1xAs+M7/K2MyzStwEi8sX8leJ3xUiSwn4FAsPCapKAEFgCw1UxMscooEKgVSnCuPiDIrole0K1RENio=",
          "dtype": "f4"
         },
         "yaxis": "y"
        },
        {
         "name": "Feature 21",
         "type": "box",
         "xaxis": "x",
         "y": {
          "bdata": "8n7XGOj3MBhn7nIVp6yWE0mjJxjQWYUZmMDeGGVwGxYtBoIZXPMsF4EMFhql8aURdM+sF3JIgxZ/eJ8UyXTQGdlEJhkUzpQX1OndDt2nRxhqgssWXUzbF4Rz8hgD39YVmBywFAsepheJ5jUYaA1rGADjkxgiPPUZ93kzFVQyFxXrOHERPzCAFerGIxq2eIkZOpOWGj8+Rxd42xoXgTO7FI5uERgDVxcWGnbSEa8rJBhrpzUZ+TynGbuCpxYTEAIXiusLFugYjRc=",
          "dtype": "f4"
         },
         "yaxis": "y"
        },
        {
         "name": "Feature 22",
         "type": "box",
         "xaxis": "x",
         "y": {
          "bdata": "R6HnPtLv4D6jg90+3LjkPj3R4T5uMeI+aCzfPsK74z63Iu4+JIXiPpaC4D5du94+JgXlPl3H1D5eCNo+hE7nPsuj0z5aMOc+nh/QPlad3j7fe88+P/ffPr6l6D6sYOA+vBrvPs6L6T793eE+/WrPPtxH6j5l5uQ+DoXRPggG6j41/Nk+AATXPs2b5j6YSug+3ybjPsE/1z5PwOE+6wLQPhJq6j6Zuec+IqrgPrNi7T4WpOM+9unvPkSJ4T6KEdw+C3/bPgwL1D4=",
          "dtype": "f4"
         },
         "yaxis": "y"
        },
        {
         "name": "Feature 23",
         "type": "box",
         "xaxis": "x",
         "y": {
          "bdata": "KhsyP6YKMj9vczU/dRsxP78jMD9zHDI/6EQ0P9cKNj8v1zI/jqAuP/qoMz+R1y0/ZiMwPyhkMj/p0S4/vPk0P5FbLj+7YzA/ApEpPxWrND83rTI/fI8wP+U+MT/PlzQ/wCY2P7B8Mj/hrTA/xy0xP5UfMz9T9i4/YOsrP7RxMD86iS0/v2EvP8qTMz+IhDU/4QY0PzE4Mj9gFzA/FkY0PzCCLz8pti8/I+ItP0fKND8C3DI/0TYzP6jzLj/xuDI/blcsP7pCMD8=",
          "dtype": "f4"
         },
         "yaxis": "y"
        },
        {
         "name": "Feature 24",
         "type": "box",
         "xaxis": "x",
         "y": {
          "bdata": "hsk3LTZAEDLK5EorwaMLNwNt5TWG1bovqebrLKiKXCuWFK4w9756L+d8US8N0ZErpoN5JZGCsivU340ppihDMdp5FS8EfGMn2zmQNpsdgTg87hIhmeiSLn4qFy7fBZAqdtAjMDBjwyiomyQtW7KHLYpINS2QBkMvlRx/Jq9GxikWyok0ICyyNImJDjEHsuEvVssaMQnjiie8YlwiSlKDN2wbuCxL8iYm+XBrH//Oly0UpZg1n0D7K75lty8TYaUtp0QBNqkiGCY=",
          "dtype": "f4"
         },
         "yaxis": "y"
        },
        {
         "marker": {
          "color": "black"
         },
         "mode": "markers",
         "name": "Base",
         "type": "scatter",
         "x": [
          "Feature 1",
          "Feature 2",
          "Feature 3",
          "Feature 4",
          "Feature 5",
          "Feature 6",
          "Feature 7",
          "Feature 8",
          "Feature 9",
          "Feature 10",
          "Feature 11",
          "Feature 12",
          "Feature 13",
          "Feature 14",
          "Feature 15",
          "Feature 16",
          "Feature 17",
          "Feature 18",
          "Feature 19",
          "Feature 20",
          "Feature 21",
          "Feature 22",
          "Feature 23",
          "Feature 24"
         ],
         "xaxis": "x",
         "y": {
          "bdata": "/XEuP14m1T7b7/A9mrOePRnC6ScOtTE1r4GePubpET358TApsAAAAHRl1hkXEqc+BwAAAKqDOT8cuTo+SmFrPgVZ6z41uaA9HMgyPS3roSw9IAkblo/jPjk+Mj/3PpYw",
          "dtype": "f4"
         },
         "yaxis": "y"
        }
       ],
       "layout": {
        "height": 800,
        "hovermode": "x unified",
        "template": {
         "data": {
          "bar": [
           {
            "error_x": {
             "color": "#2a3f5f"
            },
            "error_y": {
             "color": "#2a3f5f"
            },
            "marker": {
             "line": {
              "color": "#E5ECF6",
              "width": 0.5
             },
             "pattern": {
              "fillmode": "overlay",
              "size": 10,
              "solidity": 0.2
             }
            },
            "type": "bar"
           }
          ],
          "barpolar": [
           {
            "marker": {
             "line": {
              "color": "#E5ECF6",
              "width": 0.5
             },
             "pattern": {
              "fillmode": "overlay",
              "size": 10,
              "solidity": 0.2
             }
            },
            "type": "barpolar"
           }
          ],
          "carpet": [
           {
            "aaxis": {
             "endlinecolor": "#2a3f5f",
             "gridcolor": "white",
             "linecolor": "white",
             "minorgridcolor": "white",
             "startlinecolor": "#2a3f5f"
            },
            "baxis": {
             "endlinecolor": "#2a3f5f",
             "gridcolor": "white",
             "linecolor": "white",
             "minorgridcolor": "white",
             "startlinecolor": "#2a3f5f"
            },
            "type": "carpet"
           }
          ],
          "choropleth": [
           {
            "colorbar": {
             "outlinewidth": 0,
             "ticks": ""
            },
            "type": "choropleth"
           }
          ],
          "contour": [
           {
            "colorbar": {
             "outlinewidth": 0,
             "ticks": ""
            },
            "colorscale": [
             [
              0,
              "#0d0887"
             ],
             [
              0.1111111111111111,
              "#46039f"
             ],
             [
              0.2222222222222222,
              "#7201a8"
             ],
             [
              0.3333333333333333,
              "#9c179e"
             ],
             [
              0.4444444444444444,
              "#bd3786"
             ],
             [
              0.5555555555555556,
              "#d8576b"
             ],
             [
              0.6666666666666666,
              "#ed7953"
             ],
             [
              0.7777777777777778,
              "#fb9f3a"
             ],
             [
              0.8888888888888888,
              "#fdca26"
             ],
             [
              1,
              "#f0f921"
             ]
            ],
            "type": "contour"
           }
          ],
          "contourcarpet": [
           {
            "colorbar": {
             "outlinewidth": 0,
             "ticks": ""
            },
            "type": "contourcarpet"
           }
          ],
          "heatmap": [
           {
            "colorbar": {
             "outlinewidth": 0,
             "ticks": ""
            },
            "colorscale": [
             [
              0,
              "#0d0887"
             ],
             [
              0.1111111111111111,
              "#46039f"
             ],
             [
              0.2222222222222222,
              "#7201a8"
             ],
             [
              0.3333333333333333,
              "#9c179e"
             ],
             [
              0.4444444444444444,
              "#bd3786"
             ],
             [
              0.5555555555555556,
              "#d8576b"
             ],
             [
              0.6666666666666666,
              "#ed7953"
             ],
             [
              0.7777777777777778,
              "#fb9f3a"
             ],
             [
              0.8888888888888888,
              "#fdca26"
             ],
             [
              1,
              "#f0f921"
             ]
            ],
            "type": "heatmap"
           }
          ],
          "histogram": [
           {
            "marker": {
             "pattern": {
              "fillmode": "overlay",
              "size": 10,
              "solidity": 0.2
             }
            },
            "type": "histogram"
           }
          ],
          "histogram2d": [
           {
            "colorbar": {
             "outlinewidth": 0,
             "ticks": ""
            },
            "colorscale": [
             [
              0,
              "#0d0887"
             ],
             [
              0.1111111111111111,
              "#46039f"
             ],
             [
              0.2222222222222222,
              "#7201a8"
             ],
             [
              0.3333333333333333,
              "#9c179e"
             ],
             [
              0.4444444444444444,
              "#bd3786"
             ],
             [
              0.5555555555555556,
              "#d8576b"
             ],
             [
              0.6666666666666666,
              "#ed7953"
             ],
             [
              0.7777777777777778,
              "#fb9f3a"
             ],
             [
              0.8888888888888888,
              "#fdca26"
             ],
             [
              1,
              "#f0f921"
             ]
            ],
            "type": "histogram2d"
           }
          ],
          "histogram2dcontour": [
           {
            "colorbar": {
             "outlinewidth": 0,
             "ticks": ""
            },
            "colorscale": [
             [
              0,
              "#0d0887"
             ],
             [
              0.1111111111111111,
              "#46039f"
             ],
             [
              0.2222222222222222,
              "#7201a8"
             ],
             [
              0.3333333333333333,
              "#9c179e"
             ],
             [
              0.4444444444444444,
              "#bd3786"
             ],
             [
              0.5555555555555556,
              "#d8576b"
             ],
             [
              0.6666666666666666,
              "#ed7953"
             ],
             [
              0.7777777777777778,
              "#fb9f3a"
             ],
             [
              0.8888888888888888,
              "#fdca26"
             ],
             [
              1,
              "#f0f921"
             ]
            ],
            "type": "histogram2dcontour"
           }
          ],
          "mesh3d": [
           {
            "colorbar": {
             "outlinewidth": 0,
             "ticks": ""
            },
            "type": "mesh3d"
           }
          ],
          "parcoords": [
           {
            "line": {
             "colorbar": {
              "outlinewidth": 0,
              "ticks": ""
             }
            },
            "type": "parcoords"
           }
          ],
          "pie": [
           {
            "automargin": true,
            "type": "pie"
           }
          ],
          "scatter": [
           {
            "fillpattern": {
             "fillmode": "overlay",
             "size": 10,
             "solidity": 0.2
            },
            "type": "scatter"
           }
          ],
          "scatter3d": [
           {
            "line": {
             "colorbar": {
              "outlinewidth": 0,
              "ticks": ""
             }
            },
            "marker": {
             "colorbar": {
              "outlinewidth": 0,
              "ticks": ""
             }
            },
            "type": "scatter3d"
           }
          ],
          "scattercarpet": [
           {
            "marker": {
             "colorbar": {
              "outlinewidth": 0,
              "ticks": ""
             }
            },
            "type": "scattercarpet"
           }
          ],
          "scattergeo": [
           {
            "marker": {
             "colorbar": {
              "outlinewidth": 0,
              "ticks": ""
             }
            },
            "type": "scattergeo"
           }
          ],
          "scattergl": [
           {
            "marker": {
             "colorbar": {
              "outlinewidth": 0,
              "ticks": ""
             }
            },
            "type": "scattergl"
           }
          ],
          "scattermap": [
           {
            "marker": {
             "colorbar": {
              "outlinewidth": 0,
              "ticks": ""
             }
            },
            "type": "scattermap"
           }
          ],
          "scattermapbox": [
           {
            "marker": {
             "colorbar": {
              "outlinewidth": 0,
              "ticks": ""
             }
            },
            "type": "scattermapbox"
           }
          ],
          "scatterpolar": [
           {
            "marker": {
             "colorbar": {
              "outlinewidth": 0,
              "ticks": ""
             }
            },
            "type": "scatterpolar"
           }
          ],
          "scatterpolargl": [
           {
            "marker": {
             "colorbar": {
              "outlinewidth": 0,
              "ticks": ""
             }
            },
            "type": "scatterpolargl"
           }
          ],
          "scatterternary": [
           {
            "marker": {
             "colorbar": {
              "outlinewidth": 0,
              "ticks": ""
             }
            },
            "type": "scatterternary"
           }
          ],
          "surface": [
           {
            "colorbar": {
             "outlinewidth": 0,
             "ticks": ""
            },
            "colorscale": [
             [
              0,
              "#0d0887"
             ],
             [
              0.1111111111111111,
              "#46039f"
             ],
             [
              0.2222222222222222,
              "#7201a8"
             ],
             [
              0.3333333333333333,
              "#9c179e"
             ],
             [
              0.4444444444444444,
              "#bd3786"
             ],
             [
              0.5555555555555556,
              "#d8576b"
             ],
             [
              0.6666666666666666,
              "#ed7953"
             ],
             [
              0.7777777777777778,
              "#fb9f3a"
             ],
             [
              0.8888888888888888,
              "#fdca26"
             ],
             [
              1,
              "#f0f921"
             ]
            ],
            "type": "surface"
           }
          ],
          "table": [
           {
            "cells": {
             "fill": {
              "color": "#EBF0F8"
             },
             "line": {
              "color": "white"
             }
            },
            "header": {
             "fill": {
              "color": "#C8D4E3"
             },
             "line": {
              "color": "white"
             }
            },
            "type": "table"
           }
          ]
         },
         "layout": {
          "annotationdefaults": {
           "arrowcolor": "#2a3f5f",
           "arrowhead": 0,
           "arrowwidth": 1
          },
          "autotypenumbers": "strict",
          "coloraxis": {
           "colorbar": {
            "outlinewidth": 0,
            "ticks": ""
           }
          },
          "colorscale": {
           "diverging": [
            [
             0,
             "#8e0152"
            ],
            [
             0.1,
             "#c51b7d"
            ],
            [
             0.2,
             "#de77ae"
            ],
            [
             0.3,
             "#f1b6da"
            ],
            [
             0.4,
             "#fde0ef"
            ],
            [
             0.5,
             "#f7f7f7"
            ],
            [
             0.6,
             "#e6f5d0"
            ],
            [
             0.7,
             "#b8e186"
            ],
            [
             0.8,
             "#7fbc41"
            ],
            [
             0.9,
             "#4d9221"
            ],
            [
             1,
             "#276419"
            ]
           ],
           "sequential": [
            [
             0,
             "#0d0887"
            ],
            [
             0.1111111111111111,
             "#46039f"
            ],
            [
             0.2222222222222222,
             "#7201a8"
            ],
            [
             0.3333333333333333,
             "#9c179e"
            ],
            [
             0.4444444444444444,
             "#bd3786"
            ],
            [
             0.5555555555555556,
             "#d8576b"
            ],
            [
             0.6666666666666666,
             "#ed7953"
            ],
            [
             0.7777777777777778,
             "#fb9f3a"
            ],
            [
             0.8888888888888888,
             "#fdca26"
            ],
            [
             1,
             "#f0f921"
            ]
           ],
           "sequentialminus": [
            [
             0,
             "#0d0887"
            ],
            [
             0.1111111111111111,
             "#46039f"
            ],
            [
             0.2222222222222222,
             "#7201a8"
            ],
            [
             0.3333333333333333,
             "#9c179e"
            ],
            [
             0.4444444444444444,
             "#bd3786"
            ],
            [
             0.5555555555555556,
             "#d8576b"
            ],
            [
             0.6666666666666666,
             "#ed7953"
            ],
            [
             0.7777777777777778,
             "#fb9f3a"
            ],
            [
             0.8888888888888888,
             "#fdca26"
            ],
            [
             1,
             "#f0f921"
            ]
           ]
          },
          "colorway": [
           "#636efa",
           "#EF553B",
           "#00cc96",
           "#ab63fa",
           "#FFA15A",
           "#19d3f3",
           "#FF6692",
           "#B6E880",
           "#FF97FF",
           "#FECB52"
          ],
          "font": {
           "color": "#2a3f5f"
          },
          "geo": {
           "bgcolor": "white",
           "lakecolor": "white",
           "landcolor": "#E5ECF6",
           "showlakes": true,
           "showland": true,
           "subunitcolor": "white"
          },
          "hoverlabel": {
           "align": "left"
          },
          "hovermode": "closest",
          "mapbox": {
           "style": "light"
          },
          "paper_bgcolor": "white",
          "plot_bgcolor": "#E5ECF6",
          "polar": {
           "angularaxis": {
            "gridcolor": "white",
            "linecolor": "white",
            "ticks": ""
           },
           "bgcolor": "#E5ECF6",
           "radialaxis": {
            "gridcolor": "white",
            "linecolor": "white",
            "ticks": ""
           }
          },
          "scene": {
           "xaxis": {
            "backgroundcolor": "#E5ECF6",
            "gridcolor": "white",
            "gridwidth": 2,
            "linecolor": "white",
            "showbackground": true,
            "ticks": "",
            "zerolinecolor": "white"
           },
           "yaxis": {
            "backgroundcolor": "#E5ECF6",
            "gridcolor": "white",
            "gridwidth": 2,
            "linecolor": "white",
            "showbackground": true,
            "ticks": "",
            "zerolinecolor": "white"
           },
           "zaxis": {
            "backgroundcolor": "#E5ECF6",
            "gridcolor": "white",
            "gridwidth": 2,
            "linecolor": "white",
            "showbackground": true,
            "ticks": "",
            "zerolinecolor": "white"
           }
          },
          "shapedefaults": {
           "line": {
            "color": "#2a3f5f"
           }
          },
          "ternary": {
           "aaxis": {
            "gridcolor": "white",
            "linecolor": "white",
            "ticks": ""
           },
           "baxis": {
            "gridcolor": "white",
            "linecolor": "white",
            "ticks": ""
           },
           "bgcolor": "#E5ECF6",
           "caxis": {
            "gridcolor": "white",
            "linecolor": "white",
            "ticks": ""
           }
          },
          "title": {
           "x": 0.05
          },
          "xaxis": {
           "automargin": true,
           "gridcolor": "white",
           "linecolor": "white",
           "ticks": "",
           "title": {
            "standoff": 15
           },
           "zerolinecolor": "white",
           "zerolinewidth": 2
          },
          "yaxis": {
           "automargin": true,
           "gridcolor": "white",
           "linecolor": "white",
           "ticks": "",
           "title": {
            "standoff": 15
           },
           "zerolinecolor": "white",
           "zerolinewidth": 2
          }
         }
        },
        "title": {
         "text": "Perturbed Factor 0 Profile Results"
        },
        "width": 1200,
        "xaxis": {
         "anchor": "y",
         "domain": [
          0,
          0.94
         ]
        },
        "yaxis": {
         "anchor": "x",
         "domain": [
          0,
          1
         ],
         "title": {
          "text": "Normalized Profile"
         }
        },
        "yaxis2": {
         "anchor": "x",
         "overlaying": "y",
         "side": "right"
        }
       }
      },
      "image/png": "[encoded data removed]"
     },
     "metadata": {},
     "output_type": "display_data"
    }
   ],
   "source": [
    "perturb.plot_perturbed_factor(factor_idx=0)"
   ]
  },
  {
   "cell_type": "code",
   "execution_count": null,
   "id": "a478564f-cd3a-410c-8767-68d98d0dc808",
   "metadata": {},
   "outputs": [],
   "source": []
  }
 ],
 "metadata": {
  "kernelspec": {
   "display_name": "Python 3 (ipykernel)",
   "language": "python",
   "name": "python3"
  },
  "language_info": {
   "codemirror_mode": {
    "name": "ipython",
    "version": 3
   },
   "file_extension": ".py",
   "mimetype": "text/x-python",
   "name": "python",
   "nbconvert_exporter": "python",
   "pygments_lexer": "ipython3",
   "version": "3.12.9"
  }
 },
 "nbformat": 4,
 "nbformat_minor": 5
}
