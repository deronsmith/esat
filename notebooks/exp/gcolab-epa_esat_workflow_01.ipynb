{
 "cells": [
  {
   "cell_type": "markdown",
   "id": "5686853f-4655-4e79-af04-fe24aac1756e",
   "metadata": {},
   "source": [
    "## Environmental Source Apportionment Toolkit (ESAT) Workflow\n",
    "\n",
    "The source apportionment workflow that is available in ESAT replicates the functionality that is found in PMF5. The workflow covers all of the steps for each feature that is available in PMF5:\n",
    " 1. Data preprocessing, cleanup and analysis.\n",
    " 2. Source apportionment model creation.\n",
    " 3. Post-processing analysis and visualizations.\n",
    " 4. Error estimation analysis of the source apportionment model.\n",
    "    1. Bootstrap (BS)\n",
    "    2. Displacement (DISP)\n",
    "    3. Bootstrap-Displacement (BS-DISP)\n",
    " 5. Constrained source apportionment model. \n",
    "\n",
    "The code provided in this notebook are intended to provide an example of how to implement the ESAT workflow programmaticaly.\n"
   ]
  },
  {
   "cell_type": "code",
   "execution_count": null,
   "id": "3b01571c-a954-4399-a913-eeb39cfe91db",
   "metadata": {},
   "outputs": [],
   "source": [
    "# Notebook imports\n",
    "import os\n",
    "import sys\n",
    "import json\n",
    "\n",
    "sys.path.insert(0, \"/content/esat-main\")\n",
    "sys.path.insert(0, \"/content/esat-main/src\")"
   ]
  },
  {
   "cell_type": "markdown",
   "id": "2cbbb442-6b3d-4a6e-a843-855ede16f734",
   "metadata": {},
   "source": [
    "#### Sample Dataset\n",
    "The three sample datasets from PMF5 are available for use, but a new dataset can be used in their place."
   ]
  },
  {
   "cell_type": "code",
   "execution_count": null,
   "id": "e80dd534-1a94-4b03-92e3-9f520015a725",
   "metadata": {},
   "outputs": [],
   "source": [
    "# Baton Rouge Dataset\n",
    "br_input_file = os.path.join(\"/content/esat-main\", \"data\", \"Dataset-BatonRouge-con.csv\")\n",
    "br_uncertainty_file = os.path.join(\"/content/esat-main\", \"data\", \"Dataset-BatonRouge-unc.csv\")\n",
    "br_output_path = os.path.join(\"/content/esat-main\", \"data\", \"output\", \"BatonRouge\")\n",
    "# Baltimore Dataset\n",
    "b_input_file = os.path.join(\"/content/esat-main\", \"data\", \"Dataset-Baltimore_con.txt\")\n",
    "b_uncertainty_file = os.path.join(\"/content/esat-main\", \"data\", \"Dataset-Baltimore_unc.txt\")\n",
    "b_output_path = os.path.join(\"/content/esat-main\", \"data\", \"output\", \"Baltimore\")\n",
    "# Saint Louis Dataset\n",
    "sl_input_file = os.path.join(\"/content/esat-main\", \"data\", \"Dataset-StLouis-con.csv\")\n",
    "sl_uncertainty_file = os.path.join(\"/content/esat-main\", \"data\", \"Dataset-StLouis-unc.csv\")\n",
    "sl_output_path = os.path.join(\"/content/esat-main\", \"data\", \"output\", \"StLouis\")"
   ]
  },
  {
   "cell_type": "code",
   "execution_count": null,
   "id": "eb530fc3-4612-4579-887b-42aac092ca08",
   "metadata": {},
   "outputs": [],
   "source": [
    "# !unzip /content/esat-main-20240227.zip"
   ]
  },
  {
   "cell_type": "code",
   "execution_count": null,
   "id": "5e0cf2a4-16b4-4b18-9062-f2b1e3a933b3",
   "metadata": {},
   "outputs": [],
   "source": [
    "!pip install fuzzy-c-means fastcluster"
   ]
  },
  {
   "cell_type": "markdown",
   "id": "770385fe-48ab-47c4-bdbb-50bab6950d05",
   "metadata": {},
   "source": [
    "#### Code Imports"
   ]
  },
  {
   "cell_type": "code",
   "execution_count": null,
   "id": "e368db8a-f7f5-4b5e-b2e0-80921532d121",
   "metadata": {},
   "outputs": [],
   "source": [
    "from esat.data.datahandler import DataHandler\n",
    "from esat.model.sa import SA\n",
    "from esat.model.batch_sa import BatchSA\n",
    "from esat.data.analysis import ModelAnalysis"
   ]
  },
  {
   "cell_type": "markdown",
   "id": "84f532c5-1e71-4966-8edf-e8f68fa0bd57",
   "metadata": {},
   "source": [
    "#### Input Parameters"
   ]
  },
  {
   "cell_type": "code",
   "execution_count": null,
   "id": "2281601e-af6e-43b4-80eb-317ebfaf5ede",
   "metadata": {},
   "outputs": [],
   "source": [
    "index_col = \"Date\"                  # the index of the input/uncertainty datasets\n",
    "factors = 6                         # the number of factors\n",
    "method = \"ls-nmf\"                   # \"ls-nmf\", \"ws-nmf\"\n",
    "models = 20                         # the number of models to train\n",
    "init_method = \"col_means\"           # default is column means \"col_means\", \"kmeans\", \"cmeans\"\n",
    "init_norm = True                    # if init_method=kmeans or cmeans, normalize the data prior to clustering.\n",
    "seed = 42                           # random seed for initialization\n",
    "max_iterations = 20000              # the maximum number of iterations for fitting a model\n",
    "converge_delta = 0.1                # convergence criteria for the change in loss, Q\n",
    "converge_n = 10                     # convergence criteria for the number of steps where the loss changes by less than converge_delta\n",
    "verbose = True                      # adds more verbosity to the algorithm workflow on execution.\n",
    "optimized = True                    # use the Rust code if possible\n",
    "parallel = True                     # execute the model training in parallel, multiple models at the same time"
   ]
  },
  {
   "cell_type": "markdown",
   "id": "90318121-9709-4e67-baf3-8f76432f68ed",
   "metadata": {},
   "source": [
    "#### Dataset Selection\n",
    "One of the three sample datasets can be selected or a new cleaned dataset can be used. Datasets should be cleaned, containing no missing data (either dropping missing/NaNs, or interpolating the missing values)."
   ]
  },
  {
   "cell_type": "code",
   "execution_count": null,
   "id": "16f90ce2-d9d3-42cd-8a30-aa5b0b73fe77",
   "metadata": {},
   "outputs": [],
   "source": [
    "# Loading the Baton Rouge dataset\n",
    "input_file = br_input_file\n",
    "uncertainty_file = br_uncertainty_file\n",
    "output_path = br_output_path"
   ]
  },
  {
   "cell_type": "markdown",
   "id": "1d605314-c34a-434d-a178-81b6f6b3766d",
   "metadata": {},
   "source": [
    "#### Load Data\n",
    "Assign the processed data and uncertainty datasets to the variables V and U. These steps will be simplified/streamlined in a future version of the code."
   ]
  },
  {
   "cell_type": "code",
   "execution_count": null,
   "id": "057c5901-f26d-4e0e-82a5-52059888de93",
   "metadata": {},
   "outputs": [],
   "source": [
    "data_handler = DataHandler(\n",
    "    input_path=input_file,\n",
    "    uncertainty_path=uncertainty_file,\n",
    "    index_col=index_col\n",
    ")\n",
    "V, U = data_handler.get_data()"
   ]
  },
  {
   "cell_type": "markdown",
   "id": "412787cb-62cf-4a86-9a2d-f368030e11db",
   "metadata": {},
   "source": [
    "#### Input/Uncertainty Data Metrics and Visualizations"
   ]
  },
  {
   "cell_type": "code",
   "execution_count": null,
   "id": "58d28851-eee3-4682-817e-00ce63e5617b",
   "metadata": {
    "scrolled": true
   },
   "outputs": [],
   "source": [
    "# Show the input data metrics, including signal to noise ratio of the data and uncertainty\n",
    "data_handler.metrics"
   ]
  },
  {
   "cell_type": "code",
   "execution_count": null,
   "id": "15ac7440-7f97-4b81-a2ac-6e539f294132",
   "metadata": {},
   "outputs": [],
   "source": [
    "# Concentration / Uncertainty Scatter plot for specific feature, feature/column specified by index\n",
    "data_handler.plot_data_uncertainty(feature_idx=2)"
   ]
  },
  {
   "cell_type": "code",
   "execution_count": null,
   "id": "0c24b313-37ca-412f-b07b-dcd00021773b",
   "metadata": {},
   "outputs": [],
   "source": [
    "# Species Concentration plot comparing features, features/columns specified by index\n",
    "data_handler.plot_feature_data(x_idx=0, y_idx=1)"
   ]
  },
  {
   "cell_type": "code",
   "execution_count": null,
   "id": "964a8c8b-3b57-487c-b7b3-c9f6ca7dad78",
   "metadata": {},
   "outputs": [],
   "source": [
    "# Species Timeseries, a single or list of features/columns specified by index\n",
    "data_handler.plot_feature_timeseries(feature_selection=[0, 1, 2, 3])"
   ]
  },
  {
   "cell_type": "code",
   "execution_count": null,
   "id": "018eb975-f9dd-4e73-bf1d-8c5b696e6dca",
   "metadata": {},
   "outputs": [],
   "source": [
    "%%time\n",
    "# Training multiple models, optional parameters are commented out.\n",
    "sa_models = BatchSA(V=V, U=U, factors=factors, models=models, method=method, seed=seed, max_iter=max_iterations,\n",
    "                    init_method=init_method, init_norm=init_norm,\n",
    "                    converge_delta=converge_delta, converge_n=converge_n, \n",
    "                    parallel=parallel, optimized=optimized,\n",
    "                    verbose=verbose\n",
    "                   )\n",
    "_ = sa_models.train()"
   ]
  },
  {
   "cell_type": "markdown",
   "id": "9f561829-6c19-4eeb-b8d3-3f83180b9794",
   "metadata": {},
   "source": [
    "#### Train Model"
   ]
  },
  {
   "cell_type": "code",
   "execution_count": null,
   "id": "23fa8298-bd0f-4dea-97f9-43a9971303b2",
   "metadata": {},
   "outputs": [],
   "source": [
    "# Selet the best performing model to review\n",
    "best_model = sa_models.best_model\n",
    "sa_model = sa_models.results[best_model]\n",
    "best_model"
   ]
  },
  {
   "cell_type": "code",
   "execution_count": null,
   "id": "46ef5ff6-a181-4342-a499-860fced9b64b",
   "metadata": {},
   "outputs": [],
   "source": [
    "# Initialize the Model Analysis module\n",
    "model_analysis = ModelAnalysis(datahandler=data_handler, model=sa_model, selected_model=best_model)"
   ]
  },
  {
   "cell_type": "code",
   "execution_count": null,
   "id": "48d2bff7-b36a-4837-95a9-1ff2bd90c0fa",
   "metadata": {},
   "outputs": [],
   "source": [
    "# Residual Analysis shows the scaled residual histogram, along with metrics and distribution curves. The abs_threshold parameter specifies the condition for the returned values of the function call as those residuals which exceed the absolute value of that threshold.\n",
    "abs_threshold = 3.0\n",
    "threshold_residuals = model_analysis.plot_residual_histogram(feature_idx=5, abs_threshold=abs_threshold)"
   ]
  },
  {
   "cell_type": "code",
   "execution_count": null,
   "id": "13df0f1b-747b-4519-8d74-b30b2cfd3db9",
   "metadata": {},
   "outputs": [],
   "source": [
    "print(f\"List of Absolute Scaled Residual Greather than: {abs_threshold}. Count: {threshold_residuals.shape[0]}\")\n",
    "threshold_residuals"
   ]
  },
  {
   "cell_type": "code",
   "execution_count": null,
   "id": "462d33c4-51b4-4c1d-b01e-7b9667638e64",
   "metadata": {},
   "outputs": [],
   "source": [
    "# The model output statistics for the estimated V, including SE: Standard Error metrics, and 3 normal distribution tests of the residuals (KS Normal is used in PMF5)\n",
    "model_analysis.calculate_statistics()\n",
    "model_analysis.statistics"
   ]
  },
  {
   "cell_type": "code",
   "execution_count": null,
   "id": "69d23a88-47f5-4692-ba9b-07e8630d5486",
   "metadata": {},
   "outputs": [],
   "source": [
    "# Model feature observed vs predicted plot with regression and one-to-one lines. Feature/Column specified by index.\n",
    "model_analysis.plot_estimated_observed(feature_idx=2)"
   ]
  },
  {
   "cell_type": "code",
   "execution_count": null,
   "id": "102a0280-d275-46d5-973e-48fa55fd51af",
   "metadata": {},
   "outputs": [],
   "source": [
    "# Model feature timeseries analysis plot showing the observed vs predicted values of the feature, along with the residuals shown below. Feature/column specified by index.\n",
    "model_analysis.plot_estimated_timeseries(feature_idx=1)"
   ]
  },
  {
   "cell_type": "code",
   "execution_count": null,
   "id": "2da54785-9c7f-4396-b776-f086612ace02",
   "metadata": {},
   "outputs": [],
   "source": [
    "# Factor profile plot showing the factor sum of concentrations by feature (blue bars), the percentage of the feature as the red dot, and in the bottom plot the normalized contributions by date (values are resampled at a daily timestep for timeseries consistency).\n",
    "# Factor specified by index.\n",
    "model_analysis.plot_factor_profile(factor_idx=1)"
   ]
  },
  {
   "cell_type": "code",
   "execution_count": null,
   "id": "e8e332d6-75b2-4682-ba27-612dfaf26b27",
   "metadata": {},
   "outputs": [],
   "source": [
    "# Model factor fingerprint specifies the feature percentage of each factor.\n",
    "model_analysis.plot_factor_fingerprints()"
   ]
  },
  {
   "cell_type": "code",
   "execution_count": null,
   "id": "4c8bb85b-b48e-4031-b861-d6f6af5ad090",
   "metadata": {},
   "outputs": [],
   "source": [
    "# Factor G-Space plot shows the normalized contributions of one factor vs another factor. Factor specified by index.\n",
    "model_analysis.plot_g_space(factor_1=2, factor_2=1)"
   ]
  },
  {
   "cell_type": "code",
   "execution_count": null,
   "id": "e299347b-a88c-432b-a68f-270ba15f35ce",
   "metadata": {},
   "outputs": [],
   "source": [
    "# Factor contribution pie chart shows the percentage of factor contributions for the specified feature, and the corresponding normalized contribution of each factor for that feature (bottom plot). Feature specified by index.\n",
    "model_analysis.plot_factor_contributions(feature_idx=1)"
   ]
  },
  {
   "cell_type": "code",
   "execution_count": null,
   "id": "f342b927-eb77-4f7d-97af-4462ea4e5fe7",
   "metadata": {},
   "outputs": [],
   "source": [
    "# New Graphic: Factor Profile Composition Radar Graph\n",
    "model_analysis.plot_factor_composition()"
   ]
  },
  {
   "cell_type": "code",
   "execution_count": null,
   "id": "e18fbae9-515c-49c6-96cb-8d19fd39f5a6",
   "metadata": {},
   "outputs": [],
   "source": [
    "# New Graphic: Factor Contribution Surface Plot\n",
    "factor_idx = 1\n",
    "feature_idx = None\n",
    "model_analysis.plot_factor_surface(factor_idx=factor_idx, feature_idx=feature_idx, percentage=True)"
   ]
  },
  {
   "cell_type": "markdown",
   "id": "7c3af235-fff0-4060-9345-50f89bc2086f",
   "metadata": {},
   "source": [
    "### Error Estimation - Displacement\n",
    "\n",
    "The displacement method for error estimation works by make slight adjustments to the factor profile values, individually, until a specific change in the loss value (dQ) is reached. There are 4 dQ values that are targetted, dQ = 4, 8, 16, 32. \n",
    "\n",
    "The target dQ value is run for both an increase and decrease in the factor profile value, a single value in the factor profile matrix at a time. The change in factor profile is found by running a modified binary search to identify the value change within a small threshold, 0.1 of the target dQ. The value search is stopped if the change in the factor profile value is less than 1e-8, in the instance that decreasing a factor profile value already near zero.\n",
    "\n",
    "Once the change in the factor profile value is found that produces the target dQ, both increasing and decreasing, the modification to the H matrix is used as an initial guess for retraining a SA model. The W matrix is reinitialized, using the original base model seed, and the model is trained to convergence. \n",
    "\n",
    "The resulting model factor profile is checked to see if any factors swapped base upon the highest factor correlation with the base model factors. The output shows the swap %, based upon the number of retrained models where that factor was modified and the number of times a swap was detected.\n",
    "\n",
    "The factor profile plot shows the variability in the factor profile feature values that correspond to the dQ target values, default shown in the plots is for a dQ=4. The last plot show the factor feature contribution variability based upon the same changes to the H matrix."
   ]
  },
  {
   "cell_type": "code",
   "execution_count": null,
   "id": "58bd3144-24e4-4806-83c9-ded95518745f",
   "metadata": {},
   "outputs": [],
   "source": [
    "# Import Error Estimation Displacement Method\n",
    "from esat.error.displacement import Displacement"
   ]
  },
  {
   "cell_type": "code",
   "execution_count": null,
   "id": "71e4b21c-9a72-4d3f-8c0e-35f529cbd4d3",
   "metadata": {},
   "outputs": [],
   "source": [
    "# Initialize the Displacement method, passing in the results of the batch SA run and the features labels from the data handler.\n",
    "# features=None will run displacement on all features in the solution.\n",
    "disp = Displacement(sa=sa_model, feature_labels=data_handler.features, model_selected=best_model, features=[0,1,2])"
   ]
  },
  {
   "cell_type": "code",
   "execution_count": null,
   "id": "94d6db6f-7488-491e-a7b5-c513dbad61aa",
   "metadata": {},
   "outputs": [],
   "source": [
    "%%time\n",
    "# Execute the displacement model, which will test both increasing and decreasing changes to the individual values of H for all dQ targets. Results are then compiled and prepared.\n",
    "disp.run()"
   ]
  },
  {
   "cell_type": "code",
   "execution_count": null,
   "id": "7a92a54f-228a-415b-ab7b-c5a33905aa25",
   "metadata": {},
   "outputs": [],
   "source": [
    "# The swap table shows the percentage of times a factor was found to be more highly correlated as a result of the change in the factor feature value. This percentage is the number of times that a specific factor swapped after a model was retrained.\n",
    "# The largest change in the dQ value is the largest difference (both from increasing and decreasing changes to the factor feature values) between a retrained model and the base model loss value.\n",
    "disp.summary()"
   ]
  },
  {
   "cell_type": "code",
   "execution_count": null,
   "id": "2733ac8e-a2ff-4dc0-b748-7530b4c0afe4",
   "metadata": {},
   "outputs": [],
   "source": [
    "# The results for a specific factor can be plotted, showing both the variability in the profile(%) and contribution for a given dQ value.\n",
    "factor_i = 1\n",
    "disp.plot_results(factor=factor_i)"
   ]
  },
  {
   "cell_type": "markdown",
   "id": "c7c25577-5af7-4d7b-9f3c-e339d1560362",
   "metadata": {},
   "source": [
    "### Error Estimation - Bootstrap\n",
    "\n",
    "The bootstrap method used is the block bootstrap method for time-series data. Here the initial dataset is broken into chunks of a specified size, containing sequential samples, and randomly added to a bootstrap dataset until the bootstrap dataset is the same size as the initial dataset.\n",
    "\n",
    "A recommended block size calculation is performed when data is initially loaded into the DataHandler and found as the <i>optimal_block</i> variable.\n",
    "\n",
    "The aim of the bootstrap method is to quantify the variability in the factor profiles and contributions when the order of the datasets have been shuffled, resampled. In this case the block bootstrap method is the default method, while the full bootstrap method can be used by setting the block parameter in the run function to false, i.e. bs.run(block=False). The blocks are randomly selected with replacement, allowing for the same block to be added to the bs dataset more than once. The final selected block is reduced in size until the bs dataset is exactly the same as the initial dataset. \n",
    "\n",
    "The resampling is completed a specified number of times, set by bootstrap_n. During each bootstrap run, the initial datasets are resampled (both the data and uncertainty datasets are resampled using the same indeces) and used to retrain a SA model. The SA model uses the resampled data and uncertainty data, the base model H matrix and the base model random seed. W is reinitialized and the model is trained to convergence. The resulting factor contributions, $V'_{bs}$ are mapped to the base model $V'_{base}$, where the correlation between all combinations of the factor contributions are checked. The mapping between the highest correlation is then noted, if the correlation is above the user specified threshold (default=0.6), and the results are shown in the summary statistics. The summary statistics also include metrics for the distribution of the bootstrap model results to compare against the base model results, these are shown as tables for each factor in the summary statistics.\n",
    "\n",
    "The results of all the bootstrap runs are compiled to provide a distribution for each factor/feature percentage and contribution, these are shown in the plotted results."
   ]
  },
  {
   "cell_type": "code",
   "execution_count": null,
   "id": "f217e4e9-23bc-4e7c-ad02-2826cb6d9ca7",
   "metadata": {},
   "outputs": [],
   "source": [
    "# Import Bootstrap Error Estimation Method\n",
    "from esat.error.bootstrap import Bootstrap"
   ]
  },
  {
   "cell_type": "code",
   "execution_count": null,
   "id": "df6bfbdf-c59f-4e51-affd-00471d189183",
   "metadata": {},
   "outputs": [],
   "source": [
    "# Bootstrap input parameters\n",
    "model_selected = sa_models.best_model               # the model selected to be the base model for the Bootstrap method, here chosen as the best performing model from the batch SA run.\n",
    "nmf_model = sa_models.results[model_selected]       # The selected model SA model.\n",
    "feature_labels = data_handler.features              # The list of feature names/labels\n",
    "\n",
    "bootstrap_n = 20                                    # The number of bootstrap runs to complete\n",
    "block_size = data_handler.optimal_block             # Calculates an optimal block size from the Politis and White 2004 algorithm (used in PMF5)\n",
    "threshold = 0.6                                     # The r-correlation threshold\n",
    "seed = seed                                         # The random seed used for random selection of the bootstrap blocks.\n",
    "print(f\"Optimal BS block size: {data_handler.optimal_block}\")"
   ]
  },
  {
   "cell_type": "code",
   "execution_count": null,
   "id": "a407eac8-b004-40ea-83ad-9eb54116ea7e",
   "metadata": {},
   "outputs": [],
   "source": [
    "# Initialize the bootstrap object\n",
    "bs = Bootstrap(sa=sa_model, feature_labels=feature_labels, model_selected=model_selected, bootstrap_n=bootstrap_n, block_size=block_size, threshold=threshold, seed=seed)"
   ]
  },
  {
   "cell_type": "code",
   "execution_count": null,
   "id": "736f4723-8a3f-4d5e-9a9d-c8a5ddfdf33e",
   "metadata": {},
   "outputs": [],
   "source": [
    "%%time\n",
    "# Execute the bootstrap runs with default parameters\n",
    "bs.run()"
   ]
  },
  {
   "cell_type": "code",
   "execution_count": null,
   "id": "57fe39be-6235-451e-bd3c-d8d722a46b37",
   "metadata": {},
   "outputs": [],
   "source": [
    "# Print the output summary of all the bootstrap runs.\n",
    "bs.summary()"
   ]
  },
  {
   "cell_type": "code",
   "execution_count": null,
   "id": "b2cef31b-183b-4ae7-bd6b-8ed6a33112a5",
   "metadata": {},
   "outputs": [],
   "source": [
    "# Plot the results of the bootstrap runs for a specific factor, showing the variability in percentage and concentration for each feature of the specified factor.\n",
    "factor_i = 1\n",
    "bs.plot_results(factor=factor_i)"
   ]
  },
  {
   "cell_type": "markdown",
   "id": "97f510d8-2634-4438-b13c-d99e57d6d82d",
   "metadata": {},
   "source": [
    "### Error Estimation - Bootstrap-Displacement\n",
    "\n",
    "The bootstrap-displacement (BS-DISP) method is a combination of the boostrap and displacement methods. An existing BS instance can be used, or a new BS instance will be created.\n",
    "\n",
    "The BS-DISP method runs a BS instance and for each model in the BS run, DISP is run for each of the features specified or all by default. The results are similar to the DISP results by are aggregated across all bootstrap runs."
   ]
  },
  {
   "cell_type": "code",
   "execution_count": null,
   "id": "81fe7a4a-9bb4-4407-bc37-6e422255bbac",
   "metadata": {},
   "outputs": [],
   "source": [
    "from esat.error.bs_disp import BSDISP"
   ]
  },
  {
   "cell_type": "code",
   "execution_count": null,
   "id": "89269df1-3e5a-4885-94d6-3a37fa10045a",
   "metadata": {},
   "outputs": [],
   "source": [
    "# Bootstrap input parameters (Shared with BS-DISP)\n",
    "model_selected = sa_models.best_model              # the model selected to be the base model for the Bootstrap method, here chosen as the best performing model from the batch nmf run.\n",
    "sa_model = sa_models.results[model_selected]      # The selected model SA object.\n",
    "feature_labels = data_handler.features              # The list of feature names/labels\n",
    "\n",
    "bootstrap_n = 10                                    # The number of bootstrap runs to complete\n",
    "block_size = data_handler.optimal_block             # Calculates an optimal block size from the Politis and White 2004 algorithm (used in PMF5)\n",
    "threshold = 0.6                                     # The r-correlation threshold\n",
    "seed = seed                                         # The random seed used for random selection of the bootstrap blocks.\n",
    "\n",
    "# Displacement input parameters (Shared with BS-DISP)\n",
    "threshold_dQ = 0.1\n",
    "max_search = 50\n",
    "features = [0,1]"
   ]
  },
  {
   "cell_type": "code",
   "execution_count": null,
   "id": "be81ea3f-ea95-4965-9f65-f2e834328572",
   "metadata": {},
   "outputs": [],
   "source": [
    "# Initialize BS-DISP with the BS and DISP parameters\n",
    "bsdisp = BSDISP(sa=sa_model, feature_labels=feature_labels, model_selected=model_selected, bootstrap_n=bootstrap_n, block_size=block_size, threshold=threshold, max_search=max_search, threshold_dQ=threshold_dQ, features=features, seed=seed)"
   ]
  },
  {
   "cell_type": "code",
   "execution_count": null,
   "id": "674e7a0b-f013-4ae2-9182-c5a8c575fd7f",
   "metadata": {},
   "outputs": [],
   "source": [
    "%%time\n",
    "# Execute the BS-DISP instance, which will first run BS (if required) then will run DISP for each BS model.\n",
    "parallel = True # (CPU times: total: 1h 21min 25s, Wall time: 10min 13s)\n",
    "bsdisp.run(parallel=parallel)"
   ]
  },
  {
   "cell_type": "code",
   "execution_count": null,
   "id": "ad7b2c3d-d76e-4d38-bbf4-e11e22ad2360",
   "metadata": {},
   "outputs": [],
   "source": [
    "# Print the summary table and general metrics\n",
    "bsdisp.summary()"
   ]
  },
  {
   "cell_type": "code",
   "execution_count": null,
   "id": "c740deb4-270e-4bf1-8ca4-d4bded6154f2",
   "metadata": {},
   "outputs": [],
   "source": [
    "# Plot the BS-DISP results, the profile and contribution boxplots for a specific factor.\n",
    "factor_i = 1\n",
    "bsdisp.plot_results(factor=factor_i)"
   ]
  },
  {
   "cell_type": "code",
   "execution_count": null,
   "id": "7820055b-ca30-4848-b2b6-b3e75b14c710",
   "metadata": {},
   "outputs": [],
   "source": [
    "# The overall error summary can be shown through the follow method that will take in an existing bootstrap and displacement object and plot the error estimation for a given factor.\n",
    "from esat.error.error import Error"
   ]
  },
  {
   "cell_type": "code",
   "execution_count": null,
   "id": "34b928ba-8530-4d9b-8e40-0e0db19174cf",
   "metadata": {},
   "outputs": [],
   "source": [
    "# Pass in the previously completed bootstrap and displacement instances\n",
    "error = Error(bs=bs, disp=disp, bsdisp=bsdisp)"
   ]
  },
  {
   "cell_type": "code",
   "execution_count": null,
   "id": "e53131cb-65ca-4798-b3bb-e0fe04922b52",
   "metadata": {},
   "outputs": [],
   "source": [
    "# Plot the error estimation of the concentration for a specified factor.\n",
    "factor_i = 1\n",
    "error.plot_summary(factor=factor_i)"
   ]
  },
  {
   "cell_type": "markdown",
   "id": "7a30f7f8-bfd5-439e-8dc6-1180e6b32b8d",
   "metadata": {},
   "source": [
    "### Constrained Model\n",
    "\n",
    "The constrained model provides the functionality for a user to use their prior knowledge about the source profiles to place limits and constraints on factor elements of the solution.\n",
    "\n",
    "The constrained model allows for two different options for placing these limits on the values of the solution, expressions and constraints. Constraints allow for a user to set precise limits on the value of a factor element, through several different constraint types. Expressions allow for the user to define how a factor element value is related to one or more other factor element values. These expressions are limited by the change in Q as a results of the new factor element values.\n",
    "\n",
    "Both constraints and expressions are evaluated at every iteration of the constrained model run, with expressions occuring first and the constraints being applied second. Constraints are either determined exactly prior to running the model, limited by a bounds, or are calculated by a value that results in a target dQ. Expressions are dynamic as the values and sum of the expression can change from one iteration to the next.\n",
    "\n",
    "Expressions are evaluated collectively as a set of linear equations, converted into matrix form. Such that:</br></br>\n",
    "$$c1*x1 + c2*x2 = 0$$\n",
    "$$c3*x3 - c4*x4 + c5*x5 = 0$$\n",
    "$$c6*x2 + c7*x5 = 0$$\n",
    "is equivalent to\n",
    "$$\\begin{bmatrix}\n",
    "c1 & c2 & 0 & 0 & 0 \\\\\n",
    "0 & 0 & c3 & -c4 & c5 \\\\\n",
    "0 & c6 & 0 & 0 & c7 \\end{bmatrix} = \\begin{bmatrix} 0 \\\\ 0 \\\\ 0 \\end{bmatrix}$$ \n",
    "\n",
    "The matrix of expressions is evaluated at each iteration to account for updates to the factor elements, both from the constraints and the update algorithm.\n",
    "\n",
    "A completed constrained model run will provided a constrained model which can then be used on any of the error estimation methods, by passing the .constrained_model (NMF) as the base model was originally."
   ]
  },
  {
   "cell_type": "code",
   "execution_count": null,
   "id": "c3e760cd-87c3-46fc-9ce2-cd84b4fab148",
   "metadata": {},
   "outputs": [],
   "source": [
    "# Import the Constrained Model module\n",
    "from esat.rotational.constrained import ConstrainedModel\n",
    "\n",
    "cm = ConstrainedModel(base_model=sa_model, data_handler=data_handler, softness=1.0)"
   ]
  },
  {
   "cell_type": "markdown",
   "id": "527e6a4a-17cf-43a0-ad9f-fd66f9219889",
   "metadata": {},
   "source": [
    "#### Adding Constraints\n",
    "There are 6 different constraint types available:</br>\n",
    "\"pull down\", \"pull up\", \"pull to value\", \"set to zero\", \"set to base value\", \"define limits\"\n",
    "\n",
    "The target of the constraint can be either \"feature\" (H) or \"sample\" (W)\n",
    "\n",
    "Additional parameters are available in the add_constraint method depending upon the constraint type specified:</br>\n",
    "'define limits' requires a min_value and a max_value parameter to be provided.</br>\n",
    "'pull to value' requires a target_value and dQ parameter to be provided.</br>\n",
    "'pull down' and 'pull up' require the dQ parameter to be provided.</br>\n",
    "\n",
    "Constraints are added to a constrained model by the .add_constraint() method. A factor element can only have one constraint.</br>\n",
    "Note that the index of the matrices are 'feature'=(index of factor, index of feature) and 'sample'=(index of sample, index of factor) "
   ]
  },
  {
   "cell_type": "code",
   "execution_count": null,
   "id": "15de1463-4c28-4052-8ee3-04bd26ee6f41",
   "metadata": {},
   "outputs": [],
   "source": [
    "# Add a 'set to zero 'constraint on the Factor-Feature matrix (H) index (0, 3)\n",
    "cm.add_constraint(constraint_type=\"set to zero\", index=(0,3), target=\"feature\")"
   ]
  },
  {
   "cell_type": "code",
   "execution_count": null,
   "id": "9a333cdb-be36-4b79-9789-86d0b5728a05",
   "metadata": {},
   "outputs": [],
   "source": [
    "# Add a 'define limits' constraint\n",
    "cm.add_constraint(constraint_type=\"define limits\", index=(2,10), target=\"feature\", min_value=0.1, max_value=0.9)"
   ]
  },
  {
   "cell_type": "code",
   "execution_count": null,
   "id": "5499c153-4fac-4799-9379-fbe4b61f6b33",
   "metadata": {},
   "outputs": [],
   "source": [
    "# Add 'pull up' and 'pull down' constraints\n",
    "cm.add_constraint(constraint_type=\"pull up\", index=(2, 15), target=\"feature\", dQ=100)\n",
    "cm.add_constraint(constraint_type=\"pull down\", index=(5, 1), target=\"feature\", dQ=50)"
   ]
  },
  {
   "cell_type": "code",
   "execution_count": null,
   "id": "9d72b083-c148-4dc9-8ef2-ea8ae32aa8e6",
   "metadata": {},
   "outputs": [],
   "source": [
    "# Add 'set to base value' constraint\n",
    "cm.add_constraint(constraint_type='set to base value', index=(3, 3), target=\"feature\")"
   ]
  },
  {
   "cell_type": "code",
   "execution_count": null,
   "id": "fdc37c03-b519-4380-b55a-945866f33259",
   "metadata": {},
   "outputs": [],
   "source": [
    "# Add 'pull to value' constraint\n",
    "cm.add_constraint(constraint_type='pull to value', index=(4, 20), target=\"feature\", target_value=2.5, dQ=50)"
   ]
  },
  {
   "cell_type": "code",
   "execution_count": null,
   "id": "bd34e325-96fd-4a85-8d1c-0f13e4be5228",
   "metadata": {},
   "outputs": [],
   "source": [
    "# Display all constraints\n",
    "cm.list_constraints()"
   ]
  },
  {
   "cell_type": "code",
   "execution_count": null,
   "id": "6ec5ad69-0ea6-4019-ac8f-de2c35caea7d",
   "metadata": {},
   "outputs": [],
   "source": [
    "# Constraints can be remove before training the model with 'constraint_model.remove_constraint(constraint_label=LABEL)' where LABEL is the string 'factor:I|feature:J', also shown when the constraints are listed.\n",
    "cm.remove_constraint(constraint_label='factor:0|feature:3')\n",
    "cm.list_constraints()"
   ]
  },
  {
   "cell_type": "markdown",
   "id": "eb4fbb65-d75c-4fc2-a502-7cee59c13750",
   "metadata": {},
   "source": [
    "#### Adding Expressions\n",
    "An expression is an equation involving 2 or more factor elements (from either W or H) where each factor element has a coefficient and the equation equals 0.</br>\n",
    "\n",
    "A factor element is defined by the string 'factor:F|feature:K' or 'factor:F|sample:J' where F, K, J are indecies. The factor element is defined inside of [ ], such as '[factor:1|feature:1]'.</br> \n",
    "\n",
    "A coefficient is placed in front of the factor element, and must be present (set to 1.0 in those cases). The coefficient of a factor element is structured like '10.0*[factor:2|feature:10]'</br>\n",
    "These coefficient/factor element terms are bounded by () and between multiple terms can be the +/- operator. The equations are all equal to zero.\n",
    "\n",
    "The expression string contains two components, the expression itself and a number that specifies the dQ limit.\n",
    "\n",
    "Examples of expression strings:\n",
    "\n",
    "\"(0.66*[factor:1|feature:2])-(4.2*[factor:2|feature:4])=0,250\"</br>\n",
    "\"(0.35*[factor:0|feature:3])-(2.0*[factor:1|feature:3])-(3.7*[factor:3|feature:4])=0,250\"</br>\n",
    "\"(3.2*[factor:2|feature:4])+(1.2*[factor:3|feature:10])+(0.1*[factor:1|feature:3])+(20.0*[factor:4|feature:3])-(10.7*[factor:5|feature:4])=0,250\"</br>\n",
    "\n",
    "The expressions are solved at each iteration where the equation is set to equal the sum of all factor elements. These expressions are solved as a single linear equation, with the sum of all dQ limits used to reduce the change from the original values to the solved target values.\n",
    "\n",
    "There is currently no limit on the number of expressions or the number of times a factor element can be in an expression. A factor element can be in both a constraint and one or more expressions.\n",
    "\n",
    "During each iteration of the constained model training method, the expressions are evaluated first and then the constraints are applied. These constraint and expressions results are used to calculate a difference matrix, which is used to modify the solution matrix. The difference matrix is the difference between the constrained target values and the current solution."
   ]
  },
  {
   "cell_type": "code",
   "execution_count": null,
   "id": "a13031d8-ae80-440e-824c-918ed7a31093",
   "metadata": {},
   "outputs": [],
   "source": [
    "# Here are three example expressions where each term is defined inside (), containing a coefficient and factor element.\n",
    "expression1 = \"(0.66*[factor:1|feature:2])-(4.2*[factor:2|feature:4])=0,250\"\n",
    "expression2 = \"(0.35*[factor:0|feature:3])-(2.0*[factor:1|feature:3])-(3.7*[factor:3|feature:4])=0,250\"\n",
    "expression3 = \"(3.2*[factor:2|feature:4])+(1.2*[factor:3|feature:10])+(0.1*[factor:1|feature:3])+(20.0*[factor:4|feature:3])-(10.7*[factor:5|feature:4])=0,250\""
   ]
  },
  {
   "cell_type": "code",
   "execution_count": null,
   "id": "77e20c15-dec0-4059-9c83-6ef47173fc45",
   "metadata": {},
   "outputs": [],
   "source": [
    "# Expressions are added with the add_expression function\n",
    "cm.add_expression(expression1)\n",
    "cm.add_expression(expression2)\n",
    "cm.add_expression(expression3)"
   ]
  },
  {
   "cell_type": "code",
   "execution_count": null,
   "id": "cf6d12c2-6a67-4211-86cc-8a0bd8f77529",
   "metadata": {},
   "outputs": [],
   "source": [
    "# All expressions currently added for the model can be listed using the list_expressions() function\n",
    "cm.list_expressions()"
   ]
  },
  {
   "cell_type": "code",
   "execution_count": null,
   "id": "c73c7f03-4494-4035-8a11-ac993dd91a80",
   "metadata": {},
   "outputs": [],
   "source": [
    "# An expression can be removed with the .remove_expression and the expression index as found in the list of \n",
    "cm.remove_expression(expression_idx=0)\n",
    "cm.list_expressions()"
   ]
  },
  {
   "cell_type": "code",
   "execution_count": null,
   "id": "f6a89c25-9223-41c0-af2b-8443b2715628",
   "metadata": {},
   "outputs": [],
   "source": [
    "# Once all the constraints and expressions have been defined and added. We can tain the constrained model.\n",
    "# When the model is finished training, a new NMF model is availble in the constrained_model object as the constrained_model variable\n",
    "cm.train(max_iterations=20000)"
   ]
  },
  {
   "cell_type": "code",
   "execution_count": null,
   "id": "b047a624-4d7c-4dd7-96e6-b50740b4a980",
   "metadata": {},
   "outputs": [],
   "source": [
    "# Print the results of the constrained model run, as seen in the PMF5 results.\n",
    "cm.display_results()\n",
    "# Show the plot of how Q changes during the constrained model training. Qtype can be 'True', 'Robust', 'aux'.\n",
    "cm.plot_Q(Qtype=\"Aux\") # Qtype: True, Robust, Aux"
   ]
  },
  {
   "cell_type": "code",
   "execution_count": null,
   "id": "041f1025-a031-4d46-848d-5af8a03ab5c0",
   "metadata": {},
   "outputs": [],
   "source": [
    "# Evaluate the constraints factor elements from the constrained model solution.\n",
    "# Note: values may be different than the target valuve or range as expressions and constraints are applied before the matrix update algorithm.\n",
    "cm.evaluate_constraints()"
   ]
  },
  {
   "cell_type": "code",
   "execution_count": null,
   "id": "056e37db-0363-4ff4-92a9-817bf67aed27",
   "metadata": {},
   "outputs": [],
   "source": [
    "# Evaluate expression factor elements from the constrained model solution. Includes calculating current value of expressions.\n",
    "cm.evaluate_expressions()"
   ]
  },
  {
   "cell_type": "code",
   "execution_count": null,
   "id": "e117cffe-3770-47af-81e5-396704fe8ff9",
   "metadata": {},
   "outputs": [],
   "source": [
    "# Plot the profile and contribution graphs of the constrained model for a specified factor index.\n",
    "cm.plot_profile_contributions(factor_idx=1)"
   ]
  },
  {
   "cell_type": "code",
   "execution_count": null,
   "id": "fa9e7a87-f5ae-4234-b114-7ae51638428b",
   "metadata": {},
   "outputs": [],
   "source": [
    "# Plot the factor fingerprint stacked bar graph for the constrained model\n",
    "cm.plot_factor_fingerprints()"
   ]
  },
  {
   "cell_type": "code",
   "execution_count": null,
   "id": "d616340e-b4b1-40b1-b84a-674b8710aaa7",
   "metadata": {},
   "outputs": [],
   "source": [
    "# Plot the g space graph for the constrained model.\n",
    "# Two optional arguments are available: show_base=Boolean, show_delta=Boolean. These default to False.\n",
    "cm.plot_g_space(factor_idx1=1, factor_idx2=2, show_base=True, show_delta=True)"
   ]
  },
  {
   "cell_type": "code",
   "execution_count": null,
   "id": "69fca874-76f5-47a1-93c5-701b10f4cf72",
   "metadata": {},
   "outputs": [],
   "source": [
    "# Plot the factor contributions of the constrained model for a specified feature.\n",
    "cm.plot_factor_contributions(feature_idx=4)"
   ]
  },
  {
   "cell_type": "markdown",
   "id": "5bf58f9a-1a41-4d4a-a5f3-5fafec78acf4",
   "metadata": {},
   "source": [
    "#### Constrained Model Error Methods\n",
    "\n",
    "The constrained model solution can also be used in the error estimation methods in the same way the SA model was used. Once the constrained model finds a solution, a new SA model is available with the constrained model W and H matrices and other parameters. The new constrained SA model is the ConstrainedModel.constrained_model variable."
   ]
  },
  {
   "cell_type": "code",
   "execution_count": null,
   "id": "8de65101-6936-4c72-beb9-80b89ecd3cc7",
   "metadata": {},
   "outputs": [],
   "source": [
    "cm_model = cm.constrained_model"
   ]
  },
  {
   "cell_type": "code",
   "execution_count": null,
   "id": "ec18008e-882e-4f9b-99f0-c2ea29e46c1e",
   "metadata": {},
   "outputs": [],
   "source": [
    "# Initialize the Displacement method, passing in the results of the constrained nmf run and the features labels from the data handler.\n",
    "cm_disp = Displacement(sa=cm_model, feature_labels=data_handler.features, model_selected=\"constrained\", features=[0,1,2,3,4])"
   ]
  },
  {
   "cell_type": "code",
   "execution_count": null,
   "id": "0fb47383-8cbe-4603-89f3-d9a085999cf4",
   "metadata": {},
   "outputs": [],
   "source": [
    "%%time\n",
    "# Execute the displacement model\n",
    "cm_disp.run()"
   ]
  },
  {
   "cell_type": "code",
   "execution_count": null,
   "id": "a4c4b712-2052-4966-9955-f7a83863e3a7",
   "metadata": {},
   "outputs": [],
   "source": [
    "# Show cosntrained model displayment summary\n",
    "cm_disp.summary()"
   ]
  },
  {
   "cell_type": "code",
   "execution_count": null,
   "id": "5d066737-182b-4e14-8966-baa8f3cae2b1",
   "metadata": {},
   "outputs": [],
   "source": [
    "# Plot the results from the constrained model displacement results\n",
    "factor_i = 1\n",
    "cm_disp.plot_results(factor=factor_i)"
   ]
  },
  {
   "cell_type": "code",
   "execution_count": null,
   "id": "63a1741c-4991-4d5a-97a2-9b5eb6b78a74",
   "metadata": {},
   "outputs": [],
   "source": [
    "# Bootstrap input parameters (the same as the base model BS parameters except for the SA model used.)\n",
    "feature_labels = data_handler.features              # The list of feature names/labels\n",
    "\n",
    "bootstrap_n = 20                                    # The number of bootstrap runs to complete\n",
    "block_size = data_handler.optimal_block             # Calculates an optimal block size from the Politis and White 2004 algorithm (used in PMF5)\n",
    "threshold = 0.6                                     # The r-correlation threshold\n",
    "seed = seed                                         # The random seed used for random selection of the bootstrap blocks.\n",
    "print(f\"Optimal BS block size: {data_handler.optimal_block}\")"
   ]
  },
  {
   "cell_type": "code",
   "execution_count": null,
   "id": "dc8b19fa-70ef-40ec-a4cb-bde42ac9299c",
   "metadata": {},
   "outputs": [],
   "source": [
    "# Initialize the bootstrap object (changes are to the nmf parameter and the model_selected which is used for labeling in the results)\n",
    "cm_bs = Bootstrap(sa=cm_model, feature_labels=feature_labels, model_selected=\"constrained\", bootstrap_n=bootstrap_n, block_size=block_size, threshold=threshold, seed=seed)"
   ]
  },
  {
   "cell_type": "code",
   "execution_count": null,
   "id": "420e4cfe-da3e-4008-9d80-a627801caf46",
   "metadata": {},
   "outputs": [],
   "source": [
    "%%time\n",
    "# Execute the constrained model bootstrap runs\n",
    "cm_bs.run()"
   ]
  },
  {
   "cell_type": "code",
   "execution_count": null,
   "id": "e90464b4-62e9-419c-b1e5-6ae49d362158",
   "metadata": {},
   "outputs": [],
   "source": [
    "# Print the output summary of all the constrained bootstrap runs.\n",
    "cm_bs.summary()"
   ]
  },
  {
   "cell_type": "code",
   "execution_count": null,
   "id": "50cae1f7-8531-4186-9209-8e49031c4ed3",
   "metadata": {},
   "outputs": [],
   "source": [
    "# Plot the results of the constrained bootstrap runs for a specific factor, showing the variability in percentage and concentration for each feature of the specified factor.\n",
    "factor_i = 1\n",
    "cm_bs.plot_results(factor=factor_i)"
   ]
  },
  {
   "cell_type": "code",
   "execution_count": null,
   "id": "0196484f-b743-478e-9e3d-c9465dfec7bc",
   "metadata": {},
   "outputs": [],
   "source": []
  },
  {
   "cell_type": "code",
   "execution_count": null,
   "id": "7eafe023-e783-4c17-bf08-7242f375cde6",
   "metadata": {},
   "outputs": [],
   "source": []
  }
 ],
 "metadata": {
  "kernelspec": {
   "display_name": "Python 3 (ipykernel)",
   "language": "python",
   "name": "python3"
  },
  "language_info": {
   "codemirror_mode": {
    "name": "ipython",
    "version": 3
   },
   "file_extension": ".py",
   "mimetype": "text/x-python",
   "name": "python",
   "nbconvert_exporter": "python",
   "pygments_lexer": "ipython3",
   "version": "3.12.9"
  }
 },
 "nbformat": 4,
 "nbformat_minor": 5
}
