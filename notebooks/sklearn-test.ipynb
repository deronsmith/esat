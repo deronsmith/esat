{
 "cells": [
  {
   "cell_type": "code",
   "execution_count": 1,
   "id": "da238fbe-0fc5-44f2-8dc2-ae3185be8064",
   "metadata": {},
   "outputs": [],
   "source": [
    "import os\n",
    "import sys\n",
    "import copy\n",
    "module_path = os.path.abspath(os.path.join('..'))\n",
    "if module_path not in sys.path:\n",
    "    sys.path.append(module_path)\n",
    "    \n",
    "from src.model.model import NMFModel\n",
    "from src.data.datahandler import DataHandler\n",
    "import os\n",
    "import logging\n",
    "import time\n",
    "\n",
    "from sklearn.decomposition import NMF\n"
   ]
  },
  {
   "cell_type": "code",
   "execution_count": 2,
   "id": "59b6c65c-7e47-44c0-abe2-a0621bb86583",
   "metadata": {},
   "outputs": [],
   "source": [
    "input_file = os.path.join(\"D:\\\\\", \"projects\", \"nmf_py\", \"data\", \"Dataset-BatonRouge-con.csv\")\n",
    "uncertainty_file = os.path.join(\"D:\\\\\", \"projects\", \"nmf_py\", \"data\", \"Dataset-BatonRouge-unc.csv\")\n",
    "output_path = os.path.join(\"D:\\\\\", \"projects\", \"nmf_py\", \"output\", \"BatonRouge\")"
   ]
  },
  {
   "cell_type": "code",
   "execution_count": 4,
   "id": "790373fc-9908-4e60-b876-5ae56393e266",
   "metadata": {},
   "outputs": [],
   "source": [
    "n_components = 4\n",
    "seed = 42\n",
    "index_col = \"Date\""
   ]
  },
  {
   "cell_type": "code",
   "execution_count": 5,
   "id": "b468ffdb-cb9f-451f-8c7b-674743a7d515",
   "metadata": {},
   "outputs": [],
   "source": [
    "dh = DataHandler(\n",
    "        input_path=input_file,\n",
    "        uncertainty_path=uncertainty_file,\n",
    "        output_path=output_path,\n",
    "        index_col=index_col\n",
    "    )"
   ]
  },
  {
   "cell_type": "code",
   "execution_count": 8,
   "id": "97f1719e-ca17-4d8d-888c-a8f683d60892",
   "metadata": {},
   "outputs": [],
   "source": [
    "X = dh.input_data\n",
    "U = dh.uncertainty_data"
   ]
  },
  {
   "cell_type": "code",
   "execution_count": 11,
   "id": "95344e7e-a941-4d14-82d2-9e2cda322ebf",
   "metadata": {},
   "outputs": [
    {
     "name": "stderr",
     "output_type": "stream",
     "text": [
      "C:\\Users\\dsmith\\Anaconda3\\envs\\nmf_py\\lib\\site-packages\\sklearn\\decomposition\\_nmf.py:1692: ConvergenceWarning: Maximum number of iterations 200 reached. Increase it to improve convergence.\n",
      "  warnings.warn(\n"
     ]
    }
   ],
   "source": [
    "nmf_model = NMF(n_components=n_components, init='random', random_state=seed)\n",
    "W = nmf_model.fit_transform(X)\n",
    "H = nmf_model.components_"
   ]
  },
  {
   "cell_type": "code",
   "execution_count": 14,
   "id": "53c4cc77-a4fe-4620-afc9-119a4dd0efea",
   "metadata": {},
   "outputs": [
    {
     "data": {
      "text/plain": [
       "228.90655698711984"
      ]
     },
     "execution_count": 14,
     "metadata": {},
     "output_type": "execute_result"
    }
   ],
   "source": [
    "nmf_model.reconstruction_err_ "
   ]
  },
  {
   "cell_type": "code",
   "execution_count": null,
   "id": "9b3783d9-e0a1-401b-b0ae-9660b1e25d75",
   "metadata": {},
   "outputs": [],
   "source": []
  },
  {
   "cell_type": "code",
   "execution_count": null,
   "id": "c32b0fd2-c817-4101-87e6-24824eef1602",
   "metadata": {},
   "outputs": [],
   "source": []
  },
  {
   "cell_type": "code",
   "execution_count": null,
   "id": "709c0324-15e7-460d-bc69-f2ea655c0391",
   "metadata": {},
   "outputs": [],
   "source": []
  }
 ],
 "metadata": {
  "kernelspec": {
   "display_name": "Python 3 (ipykernel)",
   "language": "python",
   "name": "python3"
  },
  "language_info": {
   "codemirror_mode": {
    "name": "ipython",
    "version": 3
   },
   "file_extension": ".py",
   "mimetype": "text/x-python",
   "name": "python",
   "nbconvert_exporter": "python",
   "pygments_lexer": "ipython3",
   "version": "3.10.6"
  }
 },
 "nbformat": 4,
 "nbformat_minor": 5
}
